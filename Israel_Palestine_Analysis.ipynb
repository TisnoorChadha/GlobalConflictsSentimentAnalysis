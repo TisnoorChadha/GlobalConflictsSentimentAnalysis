{
  "nbformat": 4,
  "nbformat_minor": 0,
  "metadata": {
    "colab": {
      "provenance": []
    },
    "kernelspec": {
      "name": "python3",
      "display_name": "Python 3"
    },
    "language_info": {
      "name": "python"
    }
  },
  "cells": [
    {
      "cell_type": "code",
      "execution_count": 1,
      "metadata": {
        "id": "q9s4zXgjC33_"
      },
      "outputs": [],
      "source": [
        "import pandas as pd\n",
        "import numpy as np\n",
        "import re\n",
        "from sklearn.feature_extraction.text import TfidfVectorizer\n",
        "from nltk.sentiment.vader import SentimentIntensityAnalyzer\n",
        "from textblob import TextBlob\n",
        "import gensim\n",
        "from gensim import corpora\n",
        "from gensim.models.ldamodel import LdaModel\n",
        "import networkx as nx\n",
        "import matplotlib.pyplot as plt\n",
        "import seaborn as sns\n",
        "from scipy.stats import pearsonr\n",
        "from wordcloud import WordCloud\n",
        "from nltk.corpus import stopwords\n",
        "from nltk.tokenize import word_tokenize\n",
        "from nltk.stem import WordNetLemmatizer\n",
        "import nltk\n",
        "from bs4 import BeautifulSoup\n",
        "import string,unicodedata\n",
        "from sklearn.feature_extraction.text import CountVectorizer\n",
        "from plotly.subplots import make_subplots\n",
        "import plotly.graph_objects as go\n"
      ]
    },
    {
      "cell_type": "code",
      "source": [
        "df = pd.read_csv(\"/content/Israel Palestine Reddit Scrape.csv\")"
      ],
      "metadata": {
        "id": "O6tnuSzzDHhs"
      },
      "execution_count": 22,
      "outputs": []
    },
    {
      "cell_type": "code",
      "source": [
        "df.head()"
      ],
      "metadata": {
        "colab": {
          "base_uri": "https://localhost:8080/",
          "height": 533
        },
        "id": "VXAyb_bPw6Ah",
        "outputId": "eb082cb9-fcdc-4a65-acd1-6199a25fb903"
      },
      "execution_count": 23,
      "outputs": [
        {
          "output_type": "execute_result",
          "data": {
            "text/plain": [
              "                                                body      category  \\\n",
              "0                                                NaN           NaN   \n",
              "1                                                NaN           NaN   \n",
              "2  URL: https://v.redd.it/qetvjinh7zsb1\\nThumbnai...           NaN   \n",
              "3  For the past decade or so I have typically sup...           NaN   \n",
              "4  Both claim to be the descendants of Abraham th...  TikTokCringe   \n",
              "\n",
              "       communityName                 createdAt dataType  \\\n",
              "0                NaN  2020-12-25T10:05:46.000Z     user   \n",
              "1                NaN  2021-02-01T20:45:28.000Z     user   \n",
              "2     r/TikTokCringe  2023-10-08T12:55:20.000Z     post   \n",
              "3  r/IsraelPalestine  2023-10-08T10:51:36.000Z     post   \n",
              "4     r/TikTokCringe  2023-10-08T14:58:09.000Z  comment   \n",
              "\n",
              "                  description  \\\n",
              "0  fuck israel fuck palestine   \n",
              "1             i hate a levels   \n",
              "2                         NaN   \n",
              "3                         NaN   \n",
              "4                         NaN   \n",
              "\n",
              "                                               flair  \\\n",
              "0                                                NaN   \n",
              "1                                                NaN   \n",
              "2                                         Discussion   \n",
              "3  2023.10.7 Hamas Operation Al-Aqsa Flood/IDF Ir...   \n",
              "4                                                NaN   \n",
              "\n",
              "                                                html          id   isAd  ...  \\\n",
              "0                                                NaN    9hoyx9ic    NaN  ...   \n",
              "1                                                NaN    8qr8j0iq    NaN  ...   \n",
              "2                                                NaN  t3_172yh7w  False  ...   \n",
              "3  &lt;!-- SC_OFF --&gt;&lt;div class=\"md\"&gt;&lt...  t3_172w9gt  False  ...   \n",
              "4  &lt;div class=\"md\"&gt;&lt;p&gt;Both claim to b...  t1_k3zup0l    NaN  ...   \n",
              "\n",
              "                  scrapedAt  thumbnailUrl  \\\n",
              "0  2024-06-18T15:16:41.800Z           NaN   \n",
              "1  2024-06-18T15:16:41.846Z           NaN   \n",
              "2  2024-06-18T15:16:46.873Z          nsfw   \n",
              "3  2024-06-18T15:16:47.675Z          self   \n",
              "4  2024-06-18T15:16:53.558Z           NaN   \n",
              "\n",
              "                                               title upVoteRatio upVotes  \\\n",
              "0                                                NaN         NaN     NaN   \n",
              "1                                                NaN         NaN     NaN   \n",
              "2  Having a nuanced view of the Israel Palestine ...        0.83  6284.0   \n",
              "3  I have changed my mind about the Israel-Palest...        0.67  4886.0   \n",
              "4                                                NaN         NaN     5.0   \n",
              "\n",
              "                                                 url  \\\n",
              "0             https://www.reddit.com/user/Frost_boi/   \n",
              "1         https://www.reddit.com/user/420koolaidman/   \n",
              "2  https://www.reddit.com/r/TikTokCringe/comments...   \n",
              "3  https://www.reddit.com/r/IsraelPalestine/comme...   \n",
              "4  https://www.reddit.com/r/TikTokCringe/comments...   \n",
              "\n",
              "                                            userIcon       userId  \\\n",
              "0  https://i.redd.it/snoovatar/avatars/1ff35ee1-1...          NaN   \n",
              "1  https://styles.redditmedia.com/t5_3vnvw8/style...          NaN   \n",
              "2                                                NaN     t2_geo60   \n",
              "3                                                NaN  t2_a8375x5n   \n",
              "4                                                NaN  t2_3q7hyl88   \n",
              "\n",
              "           username                                           videoUrl  \n",
              "0         Frost_boi                                                NaN  \n",
              "1     420koolaidman                                                NaN  \n",
              "2         BryanAbbo  https://v.redd.it/qetvjinh7zsb1/DASH_480.mp4?s...  \n",
              "3         Buy_Ether                                                NaN  \n",
              "4  notasuccessstory                                                NaN  \n",
              "\n",
              "[5 rows x 28 columns]"
            ],
            "text/html": [
              "\n",
              "  <div id=\"df-90a5841e-298b-4f39-8396-9fdde83f8faf\" class=\"colab-df-container\">\n",
              "    <div>\n",
              "<style scoped>\n",
              "    .dataframe tbody tr th:only-of-type {\n",
              "        vertical-align: middle;\n",
              "    }\n",
              "\n",
              "    .dataframe tbody tr th {\n",
              "        vertical-align: top;\n",
              "    }\n",
              "\n",
              "    .dataframe thead th {\n",
              "        text-align: right;\n",
              "    }\n",
              "</style>\n",
              "<table border=\"1\" class=\"dataframe\">\n",
              "  <thead>\n",
              "    <tr style=\"text-align: right;\">\n",
              "      <th></th>\n",
              "      <th>body</th>\n",
              "      <th>category</th>\n",
              "      <th>communityName</th>\n",
              "      <th>createdAt</th>\n",
              "      <th>dataType</th>\n",
              "      <th>description</th>\n",
              "      <th>flair</th>\n",
              "      <th>html</th>\n",
              "      <th>id</th>\n",
              "      <th>isAd</th>\n",
              "      <th>...</th>\n",
              "      <th>scrapedAt</th>\n",
              "      <th>thumbnailUrl</th>\n",
              "      <th>title</th>\n",
              "      <th>upVoteRatio</th>\n",
              "      <th>upVotes</th>\n",
              "      <th>url</th>\n",
              "      <th>userIcon</th>\n",
              "      <th>userId</th>\n",
              "      <th>username</th>\n",
              "      <th>videoUrl</th>\n",
              "    </tr>\n",
              "  </thead>\n",
              "  <tbody>\n",
              "    <tr>\n",
              "      <th>0</th>\n",
              "      <td>NaN</td>\n",
              "      <td>NaN</td>\n",
              "      <td>NaN</td>\n",
              "      <td>2020-12-25T10:05:46.000Z</td>\n",
              "      <td>user</td>\n",
              "      <td>fuck israel fuck palestine</td>\n",
              "      <td>NaN</td>\n",
              "      <td>NaN</td>\n",
              "      <td>9hoyx9ic</td>\n",
              "      <td>NaN</td>\n",
              "      <td>...</td>\n",
              "      <td>2024-06-18T15:16:41.800Z</td>\n",
              "      <td>NaN</td>\n",
              "      <td>NaN</td>\n",
              "      <td>NaN</td>\n",
              "      <td>NaN</td>\n",
              "      <td>https://www.reddit.com/user/Frost_boi/</td>\n",
              "      <td>https://i.redd.it/snoovatar/avatars/1ff35ee1-1...</td>\n",
              "      <td>NaN</td>\n",
              "      <td>Frost_boi</td>\n",
              "      <td>NaN</td>\n",
              "    </tr>\n",
              "    <tr>\n",
              "      <th>1</th>\n",
              "      <td>NaN</td>\n",
              "      <td>NaN</td>\n",
              "      <td>NaN</td>\n",
              "      <td>2021-02-01T20:45:28.000Z</td>\n",
              "      <td>user</td>\n",
              "      <td>i hate a levels</td>\n",
              "      <td>NaN</td>\n",
              "      <td>NaN</td>\n",
              "      <td>8qr8j0iq</td>\n",
              "      <td>NaN</td>\n",
              "      <td>...</td>\n",
              "      <td>2024-06-18T15:16:41.846Z</td>\n",
              "      <td>NaN</td>\n",
              "      <td>NaN</td>\n",
              "      <td>NaN</td>\n",
              "      <td>NaN</td>\n",
              "      <td>https://www.reddit.com/user/420koolaidman/</td>\n",
              "      <td>https://styles.redditmedia.com/t5_3vnvw8/style...</td>\n",
              "      <td>NaN</td>\n",
              "      <td>420koolaidman</td>\n",
              "      <td>NaN</td>\n",
              "    </tr>\n",
              "    <tr>\n",
              "      <th>2</th>\n",
              "      <td>URL: https://v.redd.it/qetvjinh7zsb1\\nThumbnai...</td>\n",
              "      <td>NaN</td>\n",
              "      <td>r/TikTokCringe</td>\n",
              "      <td>2023-10-08T12:55:20.000Z</td>\n",
              "      <td>post</td>\n",
              "      <td>NaN</td>\n",
              "      <td>Discussion</td>\n",
              "      <td>NaN</td>\n",
              "      <td>t3_172yh7w</td>\n",
              "      <td>False</td>\n",
              "      <td>...</td>\n",
              "      <td>2024-06-18T15:16:46.873Z</td>\n",
              "      <td>nsfw</td>\n",
              "      <td>Having a nuanced view of the Israel Palestine ...</td>\n",
              "      <td>0.83</td>\n",
              "      <td>6284.0</td>\n",
              "      <td>https://www.reddit.com/r/TikTokCringe/comments...</td>\n",
              "      <td>NaN</td>\n",
              "      <td>t2_geo60</td>\n",
              "      <td>BryanAbbo</td>\n",
              "      <td>https://v.redd.it/qetvjinh7zsb1/DASH_480.mp4?s...</td>\n",
              "    </tr>\n",
              "    <tr>\n",
              "      <th>3</th>\n",
              "      <td>For the past decade or so I have typically sup...</td>\n",
              "      <td>NaN</td>\n",
              "      <td>r/IsraelPalestine</td>\n",
              "      <td>2023-10-08T10:51:36.000Z</td>\n",
              "      <td>post</td>\n",
              "      <td>NaN</td>\n",
              "      <td>2023.10.7 Hamas Operation Al-Aqsa Flood/IDF Ir...</td>\n",
              "      <td>&amp;lt;!-- SC_OFF --&amp;gt;&amp;lt;div class=\"md\"&amp;gt;&amp;lt...</td>\n",
              "      <td>t3_172w9gt</td>\n",
              "      <td>False</td>\n",
              "      <td>...</td>\n",
              "      <td>2024-06-18T15:16:47.675Z</td>\n",
              "      <td>self</td>\n",
              "      <td>I have changed my mind about the Israel-Palest...</td>\n",
              "      <td>0.67</td>\n",
              "      <td>4886.0</td>\n",
              "      <td>https://www.reddit.com/r/IsraelPalestine/comme...</td>\n",
              "      <td>NaN</td>\n",
              "      <td>t2_a8375x5n</td>\n",
              "      <td>Buy_Ether</td>\n",
              "      <td>NaN</td>\n",
              "    </tr>\n",
              "    <tr>\n",
              "      <th>4</th>\n",
              "      <td>Both claim to be the descendants of Abraham th...</td>\n",
              "      <td>TikTokCringe</td>\n",
              "      <td>r/TikTokCringe</td>\n",
              "      <td>2023-10-08T14:58:09.000Z</td>\n",
              "      <td>comment</td>\n",
              "      <td>NaN</td>\n",
              "      <td>NaN</td>\n",
              "      <td>&amp;lt;div class=\"md\"&amp;gt;&amp;lt;p&amp;gt;Both claim to b...</td>\n",
              "      <td>t1_k3zup0l</td>\n",
              "      <td>NaN</td>\n",
              "      <td>...</td>\n",
              "      <td>2024-06-18T15:16:53.558Z</td>\n",
              "      <td>NaN</td>\n",
              "      <td>NaN</td>\n",
              "      <td>NaN</td>\n",
              "      <td>5.0</td>\n",
              "      <td>https://www.reddit.com/r/TikTokCringe/comments...</td>\n",
              "      <td>NaN</td>\n",
              "      <td>t2_3q7hyl88</td>\n",
              "      <td>notasuccessstory</td>\n",
              "      <td>NaN</td>\n",
              "    </tr>\n",
              "  </tbody>\n",
              "</table>\n",
              "<p>5 rows × 28 columns</p>\n",
              "</div>\n",
              "    <div class=\"colab-df-buttons\">\n",
              "\n",
              "  <div class=\"colab-df-container\">\n",
              "    <button class=\"colab-df-convert\" onclick=\"convertToInteractive('df-90a5841e-298b-4f39-8396-9fdde83f8faf')\"\n",
              "            title=\"Convert this dataframe to an interactive table.\"\n",
              "            style=\"display:none;\">\n",
              "\n",
              "  <svg xmlns=\"http://www.w3.org/2000/svg\" height=\"24px\" viewBox=\"0 -960 960 960\">\n",
              "    <path d=\"M120-120v-720h720v720H120Zm60-500h600v-160H180v160Zm220 220h160v-160H400v160Zm0 220h160v-160H400v160ZM180-400h160v-160H180v160Zm440 0h160v-160H620v160ZM180-180h160v-160H180v160Zm440 0h160v-160H620v160Z\"/>\n",
              "  </svg>\n",
              "    </button>\n",
              "\n",
              "  <style>\n",
              "    .colab-df-container {\n",
              "      display:flex;\n",
              "      gap: 12px;\n",
              "    }\n",
              "\n",
              "    .colab-df-convert {\n",
              "      background-color: #E8F0FE;\n",
              "      border: none;\n",
              "      border-radius: 50%;\n",
              "      cursor: pointer;\n",
              "      display: none;\n",
              "      fill: #1967D2;\n",
              "      height: 32px;\n",
              "      padding: 0 0 0 0;\n",
              "      width: 32px;\n",
              "    }\n",
              "\n",
              "    .colab-df-convert:hover {\n",
              "      background-color: #E2EBFA;\n",
              "      box-shadow: 0px 1px 2px rgba(60, 64, 67, 0.3), 0px 1px 3px 1px rgba(60, 64, 67, 0.15);\n",
              "      fill: #174EA6;\n",
              "    }\n",
              "\n",
              "    .colab-df-buttons div {\n",
              "      margin-bottom: 4px;\n",
              "    }\n",
              "\n",
              "    [theme=dark] .colab-df-convert {\n",
              "      background-color: #3B4455;\n",
              "      fill: #D2E3FC;\n",
              "    }\n",
              "\n",
              "    [theme=dark] .colab-df-convert:hover {\n",
              "      background-color: #434B5C;\n",
              "      box-shadow: 0px 1px 3px 1px rgba(0, 0, 0, 0.15);\n",
              "      filter: drop-shadow(0px 1px 2px rgba(0, 0, 0, 0.3));\n",
              "      fill: #FFFFFF;\n",
              "    }\n",
              "  </style>\n",
              "\n",
              "    <script>\n",
              "      const buttonEl =\n",
              "        document.querySelector('#df-90a5841e-298b-4f39-8396-9fdde83f8faf button.colab-df-convert');\n",
              "      buttonEl.style.display =\n",
              "        google.colab.kernel.accessAllowed ? 'block' : 'none';\n",
              "\n",
              "      async function convertToInteractive(key) {\n",
              "        const element = document.querySelector('#df-90a5841e-298b-4f39-8396-9fdde83f8faf');\n",
              "        const dataTable =\n",
              "          await google.colab.kernel.invokeFunction('convertToInteractive',\n",
              "                                                    [key], {});\n",
              "        if (!dataTable) return;\n",
              "\n",
              "        const docLinkHtml = 'Like what you see? Visit the ' +\n",
              "          '<a target=\"_blank\" href=https://colab.research.google.com/notebooks/data_table.ipynb>data table notebook</a>'\n",
              "          + ' to learn more about interactive tables.';\n",
              "        element.innerHTML = '';\n",
              "        dataTable['output_type'] = 'display_data';\n",
              "        await google.colab.output.renderOutput(dataTable, element);\n",
              "        const docLink = document.createElement('div');\n",
              "        docLink.innerHTML = docLinkHtml;\n",
              "        element.appendChild(docLink);\n",
              "      }\n",
              "    </script>\n",
              "  </div>\n",
              "\n",
              "\n",
              "<div id=\"df-b0bd82c1-b886-445e-8c05-b052ee367156\">\n",
              "  <button class=\"colab-df-quickchart\" onclick=\"quickchart('df-b0bd82c1-b886-445e-8c05-b052ee367156')\"\n",
              "            title=\"Suggest charts\"\n",
              "            style=\"display:none;\">\n",
              "\n",
              "<svg xmlns=\"http://www.w3.org/2000/svg\" height=\"24px\"viewBox=\"0 0 24 24\"\n",
              "     width=\"24px\">\n",
              "    <g>\n",
              "        <path d=\"M19 3H5c-1.1 0-2 .9-2 2v14c0 1.1.9 2 2 2h14c1.1 0 2-.9 2-2V5c0-1.1-.9-2-2-2zM9 17H7v-7h2v7zm4 0h-2V7h2v10zm4 0h-2v-4h2v4z\"/>\n",
              "    </g>\n",
              "</svg>\n",
              "  </button>\n",
              "\n",
              "<style>\n",
              "  .colab-df-quickchart {\n",
              "      --bg-color: #E8F0FE;\n",
              "      --fill-color: #1967D2;\n",
              "      --hover-bg-color: #E2EBFA;\n",
              "      --hover-fill-color: #174EA6;\n",
              "      --disabled-fill-color: #AAA;\n",
              "      --disabled-bg-color: #DDD;\n",
              "  }\n",
              "\n",
              "  [theme=dark] .colab-df-quickchart {\n",
              "      --bg-color: #3B4455;\n",
              "      --fill-color: #D2E3FC;\n",
              "      --hover-bg-color: #434B5C;\n",
              "      --hover-fill-color: #FFFFFF;\n",
              "      --disabled-bg-color: #3B4455;\n",
              "      --disabled-fill-color: #666;\n",
              "  }\n",
              "\n",
              "  .colab-df-quickchart {\n",
              "    background-color: var(--bg-color);\n",
              "    border: none;\n",
              "    border-radius: 50%;\n",
              "    cursor: pointer;\n",
              "    display: none;\n",
              "    fill: var(--fill-color);\n",
              "    height: 32px;\n",
              "    padding: 0;\n",
              "    width: 32px;\n",
              "  }\n",
              "\n",
              "  .colab-df-quickchart:hover {\n",
              "    background-color: var(--hover-bg-color);\n",
              "    box-shadow: 0 1px 2px rgba(60, 64, 67, 0.3), 0 1px 3px 1px rgba(60, 64, 67, 0.15);\n",
              "    fill: var(--button-hover-fill-color);\n",
              "  }\n",
              "\n",
              "  .colab-df-quickchart-complete:disabled,\n",
              "  .colab-df-quickchart-complete:disabled:hover {\n",
              "    background-color: var(--disabled-bg-color);\n",
              "    fill: var(--disabled-fill-color);\n",
              "    box-shadow: none;\n",
              "  }\n",
              "\n",
              "  .colab-df-spinner {\n",
              "    border: 2px solid var(--fill-color);\n",
              "    border-color: transparent;\n",
              "    border-bottom-color: var(--fill-color);\n",
              "    animation:\n",
              "      spin 1s steps(1) infinite;\n",
              "  }\n",
              "\n",
              "  @keyframes spin {\n",
              "    0% {\n",
              "      border-color: transparent;\n",
              "      border-bottom-color: var(--fill-color);\n",
              "      border-left-color: var(--fill-color);\n",
              "    }\n",
              "    20% {\n",
              "      border-color: transparent;\n",
              "      border-left-color: var(--fill-color);\n",
              "      border-top-color: var(--fill-color);\n",
              "    }\n",
              "    30% {\n",
              "      border-color: transparent;\n",
              "      border-left-color: var(--fill-color);\n",
              "      border-top-color: var(--fill-color);\n",
              "      border-right-color: var(--fill-color);\n",
              "    }\n",
              "    40% {\n",
              "      border-color: transparent;\n",
              "      border-right-color: var(--fill-color);\n",
              "      border-top-color: var(--fill-color);\n",
              "    }\n",
              "    60% {\n",
              "      border-color: transparent;\n",
              "      border-right-color: var(--fill-color);\n",
              "    }\n",
              "    80% {\n",
              "      border-color: transparent;\n",
              "      border-right-color: var(--fill-color);\n",
              "      border-bottom-color: var(--fill-color);\n",
              "    }\n",
              "    90% {\n",
              "      border-color: transparent;\n",
              "      border-bottom-color: var(--fill-color);\n",
              "    }\n",
              "  }\n",
              "</style>\n",
              "\n",
              "  <script>\n",
              "    async function quickchart(key) {\n",
              "      const quickchartButtonEl =\n",
              "        document.querySelector('#' + key + ' button');\n",
              "      quickchartButtonEl.disabled = true;  // To prevent multiple clicks.\n",
              "      quickchartButtonEl.classList.add('colab-df-spinner');\n",
              "      try {\n",
              "        const charts = await google.colab.kernel.invokeFunction(\n",
              "            'suggestCharts', [key], {});\n",
              "      } catch (error) {\n",
              "        console.error('Error during call to suggestCharts:', error);\n",
              "      }\n",
              "      quickchartButtonEl.classList.remove('colab-df-spinner');\n",
              "      quickchartButtonEl.classList.add('colab-df-quickchart-complete');\n",
              "    }\n",
              "    (() => {\n",
              "      let quickchartButtonEl =\n",
              "        document.querySelector('#df-b0bd82c1-b886-445e-8c05-b052ee367156 button');\n",
              "      quickchartButtonEl.style.display =\n",
              "        google.colab.kernel.accessAllowed ? 'block' : 'none';\n",
              "    })();\n",
              "  </script>\n",
              "</div>\n",
              "    </div>\n",
              "  </div>\n"
            ],
            "application/vnd.google.colaboratory.intrinsic+json": {
              "type": "dataframe",
              "variable_name": "df"
            }
          },
          "metadata": {},
          "execution_count": 23
        }
      ]
    },
    {
      "cell_type": "markdown",
      "source": [
        "Data Processing\n"
      ],
      "metadata": {
        "id": "TfizuN9MDtVW"
      }
    },
    {
      "cell_type": "code",
      "source": [
        "df = df.iloc[:, :1]"
      ],
      "metadata": {
        "id": "by4LvF5IDwsX"
      },
      "execution_count": 26,
      "outputs": []
    },
    {
      "cell_type": "code",
      "source": [
        "df.head()"
      ],
      "metadata": {
        "id": "6DCBtitfD0Ep",
        "colab": {
          "base_uri": "https://localhost:8080/",
          "height": 328
        },
        "outputId": "b34c26a9-2bdd-48b7-e0b7-f4c8c5539bed"
      },
      "execution_count": 27,
      "outputs": [
        {
          "output_type": "execute_result",
          "data": {
            "text/plain": [
              "                                                body\n",
              "0                                                NaN\n",
              "1                                                NaN\n",
              "2  URL: https://v.redd.it/qetvjinh7zsb1\\nThumbnai...\n",
              "3  For the past decade or so I have typically sup...\n",
              "4  Both claim to be the descendants of Abraham th..."
            ],
            "text/html": [
              "\n",
              "  <div id=\"df-2be0969c-96d5-4d11-99d6-a98c649ad835\" class=\"colab-df-container\">\n",
              "    <div>\n",
              "<style scoped>\n",
              "    .dataframe tbody tr th:only-of-type {\n",
              "        vertical-align: middle;\n",
              "    }\n",
              "\n",
              "    .dataframe tbody tr th {\n",
              "        vertical-align: top;\n",
              "    }\n",
              "\n",
              "    .dataframe thead th {\n",
              "        text-align: right;\n",
              "    }\n",
              "</style>\n",
              "<table border=\"1\" class=\"dataframe\">\n",
              "  <thead>\n",
              "    <tr style=\"text-align: right;\">\n",
              "      <th></th>\n",
              "      <th>body</th>\n",
              "    </tr>\n",
              "  </thead>\n",
              "  <tbody>\n",
              "    <tr>\n",
              "      <th>0</th>\n",
              "      <td>NaN</td>\n",
              "    </tr>\n",
              "    <tr>\n",
              "      <th>1</th>\n",
              "      <td>NaN</td>\n",
              "    </tr>\n",
              "    <tr>\n",
              "      <th>2</th>\n",
              "      <td>URL: https://v.redd.it/qetvjinh7zsb1\\nThumbnai...</td>\n",
              "    </tr>\n",
              "    <tr>\n",
              "      <th>3</th>\n",
              "      <td>For the past decade or so I have typically sup...</td>\n",
              "    </tr>\n",
              "    <tr>\n",
              "      <th>4</th>\n",
              "      <td>Both claim to be the descendants of Abraham th...</td>\n",
              "    </tr>\n",
              "  </tbody>\n",
              "</table>\n",
              "</div>\n",
              "    <div class=\"colab-df-buttons\">\n",
              "\n",
              "  <div class=\"colab-df-container\">\n",
              "    <button class=\"colab-df-convert\" onclick=\"convertToInteractive('df-2be0969c-96d5-4d11-99d6-a98c649ad835')\"\n",
              "            title=\"Convert this dataframe to an interactive table.\"\n",
              "            style=\"display:none;\">\n",
              "\n",
              "  <svg xmlns=\"http://www.w3.org/2000/svg\" height=\"24px\" viewBox=\"0 -960 960 960\">\n",
              "    <path d=\"M120-120v-720h720v720H120Zm60-500h600v-160H180v160Zm220 220h160v-160H400v160Zm0 220h160v-160H400v160ZM180-400h160v-160H180v160Zm440 0h160v-160H620v160ZM180-180h160v-160H180v160Zm440 0h160v-160H620v160Z\"/>\n",
              "  </svg>\n",
              "    </button>\n",
              "\n",
              "  <style>\n",
              "    .colab-df-container {\n",
              "      display:flex;\n",
              "      gap: 12px;\n",
              "    }\n",
              "\n",
              "    .colab-df-convert {\n",
              "      background-color: #E8F0FE;\n",
              "      border: none;\n",
              "      border-radius: 50%;\n",
              "      cursor: pointer;\n",
              "      display: none;\n",
              "      fill: #1967D2;\n",
              "      height: 32px;\n",
              "      padding: 0 0 0 0;\n",
              "      width: 32px;\n",
              "    }\n",
              "\n",
              "    .colab-df-convert:hover {\n",
              "      background-color: #E2EBFA;\n",
              "      box-shadow: 0px 1px 2px rgba(60, 64, 67, 0.3), 0px 1px 3px 1px rgba(60, 64, 67, 0.15);\n",
              "      fill: #174EA6;\n",
              "    }\n",
              "\n",
              "    .colab-df-buttons div {\n",
              "      margin-bottom: 4px;\n",
              "    }\n",
              "\n",
              "    [theme=dark] .colab-df-convert {\n",
              "      background-color: #3B4455;\n",
              "      fill: #D2E3FC;\n",
              "    }\n",
              "\n",
              "    [theme=dark] .colab-df-convert:hover {\n",
              "      background-color: #434B5C;\n",
              "      box-shadow: 0px 1px 3px 1px rgba(0, 0, 0, 0.15);\n",
              "      filter: drop-shadow(0px 1px 2px rgba(0, 0, 0, 0.3));\n",
              "      fill: #FFFFFF;\n",
              "    }\n",
              "  </style>\n",
              "\n",
              "    <script>\n",
              "      const buttonEl =\n",
              "        document.querySelector('#df-2be0969c-96d5-4d11-99d6-a98c649ad835 button.colab-df-convert');\n",
              "      buttonEl.style.display =\n",
              "        google.colab.kernel.accessAllowed ? 'block' : 'none';\n",
              "\n",
              "      async function convertToInteractive(key) {\n",
              "        const element = document.querySelector('#df-2be0969c-96d5-4d11-99d6-a98c649ad835');\n",
              "        const dataTable =\n",
              "          await google.colab.kernel.invokeFunction('convertToInteractive',\n",
              "                                                    [key], {});\n",
              "        if (!dataTable) return;\n",
              "\n",
              "        const docLinkHtml = 'Like what you see? Visit the ' +\n",
              "          '<a target=\"_blank\" href=https://colab.research.google.com/notebooks/data_table.ipynb>data table notebook</a>'\n",
              "          + ' to learn more about interactive tables.';\n",
              "        element.innerHTML = '';\n",
              "        dataTable['output_type'] = 'display_data';\n",
              "        await google.colab.output.renderOutput(dataTable, element);\n",
              "        const docLink = document.createElement('div');\n",
              "        docLink.innerHTML = docLinkHtml;\n",
              "        element.appendChild(docLink);\n",
              "      }\n",
              "    </script>\n",
              "  </div>\n",
              "\n",
              "\n",
              "<div id=\"df-0d20e041-5fdd-4cbd-8f64-47703aa94f70\">\n",
              "  <button class=\"colab-df-quickchart\" onclick=\"quickchart('df-0d20e041-5fdd-4cbd-8f64-47703aa94f70')\"\n",
              "            title=\"Suggest charts\"\n",
              "            style=\"display:none;\">\n",
              "\n",
              "<svg xmlns=\"http://www.w3.org/2000/svg\" height=\"24px\"viewBox=\"0 0 24 24\"\n",
              "     width=\"24px\">\n",
              "    <g>\n",
              "        <path d=\"M19 3H5c-1.1 0-2 .9-2 2v14c0 1.1.9 2 2 2h14c1.1 0 2-.9 2-2V5c0-1.1-.9-2-2-2zM9 17H7v-7h2v7zm4 0h-2V7h2v10zm4 0h-2v-4h2v4z\"/>\n",
              "    </g>\n",
              "</svg>\n",
              "  </button>\n",
              "\n",
              "<style>\n",
              "  .colab-df-quickchart {\n",
              "      --bg-color: #E8F0FE;\n",
              "      --fill-color: #1967D2;\n",
              "      --hover-bg-color: #E2EBFA;\n",
              "      --hover-fill-color: #174EA6;\n",
              "      --disabled-fill-color: #AAA;\n",
              "      --disabled-bg-color: #DDD;\n",
              "  }\n",
              "\n",
              "  [theme=dark] .colab-df-quickchart {\n",
              "      --bg-color: #3B4455;\n",
              "      --fill-color: #D2E3FC;\n",
              "      --hover-bg-color: #434B5C;\n",
              "      --hover-fill-color: #FFFFFF;\n",
              "      --disabled-bg-color: #3B4455;\n",
              "      --disabled-fill-color: #666;\n",
              "  }\n",
              "\n",
              "  .colab-df-quickchart {\n",
              "    background-color: var(--bg-color);\n",
              "    border: none;\n",
              "    border-radius: 50%;\n",
              "    cursor: pointer;\n",
              "    display: none;\n",
              "    fill: var(--fill-color);\n",
              "    height: 32px;\n",
              "    padding: 0;\n",
              "    width: 32px;\n",
              "  }\n",
              "\n",
              "  .colab-df-quickchart:hover {\n",
              "    background-color: var(--hover-bg-color);\n",
              "    box-shadow: 0 1px 2px rgba(60, 64, 67, 0.3), 0 1px 3px 1px rgba(60, 64, 67, 0.15);\n",
              "    fill: var(--button-hover-fill-color);\n",
              "  }\n",
              "\n",
              "  .colab-df-quickchart-complete:disabled,\n",
              "  .colab-df-quickchart-complete:disabled:hover {\n",
              "    background-color: var(--disabled-bg-color);\n",
              "    fill: var(--disabled-fill-color);\n",
              "    box-shadow: none;\n",
              "  }\n",
              "\n",
              "  .colab-df-spinner {\n",
              "    border: 2px solid var(--fill-color);\n",
              "    border-color: transparent;\n",
              "    border-bottom-color: var(--fill-color);\n",
              "    animation:\n",
              "      spin 1s steps(1) infinite;\n",
              "  }\n",
              "\n",
              "  @keyframes spin {\n",
              "    0% {\n",
              "      border-color: transparent;\n",
              "      border-bottom-color: var(--fill-color);\n",
              "      border-left-color: var(--fill-color);\n",
              "    }\n",
              "    20% {\n",
              "      border-color: transparent;\n",
              "      border-left-color: var(--fill-color);\n",
              "      border-top-color: var(--fill-color);\n",
              "    }\n",
              "    30% {\n",
              "      border-color: transparent;\n",
              "      border-left-color: var(--fill-color);\n",
              "      border-top-color: var(--fill-color);\n",
              "      border-right-color: var(--fill-color);\n",
              "    }\n",
              "    40% {\n",
              "      border-color: transparent;\n",
              "      border-right-color: var(--fill-color);\n",
              "      border-top-color: var(--fill-color);\n",
              "    }\n",
              "    60% {\n",
              "      border-color: transparent;\n",
              "      border-right-color: var(--fill-color);\n",
              "    }\n",
              "    80% {\n",
              "      border-color: transparent;\n",
              "      border-right-color: var(--fill-color);\n",
              "      border-bottom-color: var(--fill-color);\n",
              "    }\n",
              "    90% {\n",
              "      border-color: transparent;\n",
              "      border-bottom-color: var(--fill-color);\n",
              "    }\n",
              "  }\n",
              "</style>\n",
              "\n",
              "  <script>\n",
              "    async function quickchart(key) {\n",
              "      const quickchartButtonEl =\n",
              "        document.querySelector('#' + key + ' button');\n",
              "      quickchartButtonEl.disabled = true;  // To prevent multiple clicks.\n",
              "      quickchartButtonEl.classList.add('colab-df-spinner');\n",
              "      try {\n",
              "        const charts = await google.colab.kernel.invokeFunction(\n",
              "            'suggestCharts', [key], {});\n",
              "      } catch (error) {\n",
              "        console.error('Error during call to suggestCharts:', error);\n",
              "      }\n",
              "      quickchartButtonEl.classList.remove('colab-df-spinner');\n",
              "      quickchartButtonEl.classList.add('colab-df-quickchart-complete');\n",
              "    }\n",
              "    (() => {\n",
              "      let quickchartButtonEl =\n",
              "        document.querySelector('#df-0d20e041-5fdd-4cbd-8f64-47703aa94f70 button');\n",
              "      quickchartButtonEl.style.display =\n",
              "        google.colab.kernel.accessAllowed ? 'block' : 'none';\n",
              "    })();\n",
              "  </script>\n",
              "</div>\n",
              "    </div>\n",
              "  </div>\n"
            ],
            "application/vnd.google.colaboratory.intrinsic+json": {
              "type": "dataframe",
              "variable_name": "df",
              "summary": "{\n  \"name\": \"df\",\n  \"rows\": 502,\n  \"fields\": [\n    {\n      \"column\": \"body\",\n      \"properties\": {\n        \"dtype\": \"string\",\n        \"num_unique_values\": 453,\n        \"samples\": [\n          \"Stop bringing in context? Like you can absolutely condemn the actions of hamas while also criticizing what israel has done in the region. Personally i support neither side. Hamas is a terrorist org and israel has been surpressing palestinians.  \\n\\nObviously i condemn the actions of hamas, i also will not pick a side to the conflict.\",\n          \"Feel like this aggressive of sarcasm deserves a /s \\ud83e\\udd74\",\n          \"The Jews have been stealing Palestinian land since the 1918s and backed by an illegal Balfour declaration pushed thru which allowed the Jews to steal land from Muslim and Christian Palestinians.\"\n        ],\n        \"semantic_type\": \"\",\n        \"description\": \"\"\n      }\n    }\n  ]\n}"
            }
          },
          "metadata": {},
          "execution_count": 27
        }
      ]
    },
    {
      "cell_type": "code",
      "source": [
        "# Handling missing values\n",
        "df = df.dropna()"
      ],
      "metadata": {
        "id": "2IxkZ22OD8Qd"
      },
      "execution_count": 28,
      "outputs": []
    },
    {
      "cell_type": "code",
      "source": [
        "df.head()"
      ],
      "metadata": {
        "colab": {
          "base_uri": "https://localhost:8080/",
          "height": 206
        },
        "id": "xjdlzrDWwtHP",
        "outputId": "52183eb4-5345-4e28-fa37-d6b46cef8726"
      },
      "execution_count": 29,
      "outputs": [
        {
          "output_type": "execute_result",
          "data": {
            "text/plain": [
              "                                                body\n",
              "2  URL: https://v.redd.it/qetvjinh7zsb1\\nThumbnai...\n",
              "3  For the past decade or so I have typically sup...\n",
              "4  Both claim to be the descendants of Abraham th...\n",
              "5  If that’s the case, then his Native American c...\n",
              "6  May not be the best analogy but racism kept Je..."
            ],
            "text/html": [
              "\n",
              "  <div id=\"df-16da3cf8-cb36-488f-87f3-2f055fc926ab\" class=\"colab-df-container\">\n",
              "    <div>\n",
              "<style scoped>\n",
              "    .dataframe tbody tr th:only-of-type {\n",
              "        vertical-align: middle;\n",
              "    }\n",
              "\n",
              "    .dataframe tbody tr th {\n",
              "        vertical-align: top;\n",
              "    }\n",
              "\n",
              "    .dataframe thead th {\n",
              "        text-align: right;\n",
              "    }\n",
              "</style>\n",
              "<table border=\"1\" class=\"dataframe\">\n",
              "  <thead>\n",
              "    <tr style=\"text-align: right;\">\n",
              "      <th></th>\n",
              "      <th>body</th>\n",
              "    </tr>\n",
              "  </thead>\n",
              "  <tbody>\n",
              "    <tr>\n",
              "      <th>2</th>\n",
              "      <td>URL: https://v.redd.it/qetvjinh7zsb1\\nThumbnai...</td>\n",
              "    </tr>\n",
              "    <tr>\n",
              "      <th>3</th>\n",
              "      <td>For the past decade or so I have typically sup...</td>\n",
              "    </tr>\n",
              "    <tr>\n",
              "      <th>4</th>\n",
              "      <td>Both claim to be the descendants of Abraham th...</td>\n",
              "    </tr>\n",
              "    <tr>\n",
              "      <th>5</th>\n",
              "      <td>If that’s the case, then his Native American c...</td>\n",
              "    </tr>\n",
              "    <tr>\n",
              "      <th>6</th>\n",
              "      <td>May not be the best analogy but racism kept Je...</td>\n",
              "    </tr>\n",
              "  </tbody>\n",
              "</table>\n",
              "</div>\n",
              "    <div class=\"colab-df-buttons\">\n",
              "\n",
              "  <div class=\"colab-df-container\">\n",
              "    <button class=\"colab-df-convert\" onclick=\"convertToInteractive('df-16da3cf8-cb36-488f-87f3-2f055fc926ab')\"\n",
              "            title=\"Convert this dataframe to an interactive table.\"\n",
              "            style=\"display:none;\">\n",
              "\n",
              "  <svg xmlns=\"http://www.w3.org/2000/svg\" height=\"24px\" viewBox=\"0 -960 960 960\">\n",
              "    <path d=\"M120-120v-720h720v720H120Zm60-500h600v-160H180v160Zm220 220h160v-160H400v160Zm0 220h160v-160H400v160ZM180-400h160v-160H180v160Zm440 0h160v-160H620v160ZM180-180h160v-160H180v160Zm440 0h160v-160H620v160Z\"/>\n",
              "  </svg>\n",
              "    </button>\n",
              "\n",
              "  <style>\n",
              "    .colab-df-container {\n",
              "      display:flex;\n",
              "      gap: 12px;\n",
              "    }\n",
              "\n",
              "    .colab-df-convert {\n",
              "      background-color: #E8F0FE;\n",
              "      border: none;\n",
              "      border-radius: 50%;\n",
              "      cursor: pointer;\n",
              "      display: none;\n",
              "      fill: #1967D2;\n",
              "      height: 32px;\n",
              "      padding: 0 0 0 0;\n",
              "      width: 32px;\n",
              "    }\n",
              "\n",
              "    .colab-df-convert:hover {\n",
              "      background-color: #E2EBFA;\n",
              "      box-shadow: 0px 1px 2px rgba(60, 64, 67, 0.3), 0px 1px 3px 1px rgba(60, 64, 67, 0.15);\n",
              "      fill: #174EA6;\n",
              "    }\n",
              "\n",
              "    .colab-df-buttons div {\n",
              "      margin-bottom: 4px;\n",
              "    }\n",
              "\n",
              "    [theme=dark] .colab-df-convert {\n",
              "      background-color: #3B4455;\n",
              "      fill: #D2E3FC;\n",
              "    }\n",
              "\n",
              "    [theme=dark] .colab-df-convert:hover {\n",
              "      background-color: #434B5C;\n",
              "      box-shadow: 0px 1px 3px 1px rgba(0, 0, 0, 0.15);\n",
              "      filter: drop-shadow(0px 1px 2px rgba(0, 0, 0, 0.3));\n",
              "      fill: #FFFFFF;\n",
              "    }\n",
              "  </style>\n",
              "\n",
              "    <script>\n",
              "      const buttonEl =\n",
              "        document.querySelector('#df-16da3cf8-cb36-488f-87f3-2f055fc926ab button.colab-df-convert');\n",
              "      buttonEl.style.display =\n",
              "        google.colab.kernel.accessAllowed ? 'block' : 'none';\n",
              "\n",
              "      async function convertToInteractive(key) {\n",
              "        const element = document.querySelector('#df-16da3cf8-cb36-488f-87f3-2f055fc926ab');\n",
              "        const dataTable =\n",
              "          await google.colab.kernel.invokeFunction('convertToInteractive',\n",
              "                                                    [key], {});\n",
              "        if (!dataTable) return;\n",
              "\n",
              "        const docLinkHtml = 'Like what you see? Visit the ' +\n",
              "          '<a target=\"_blank\" href=https://colab.research.google.com/notebooks/data_table.ipynb>data table notebook</a>'\n",
              "          + ' to learn more about interactive tables.';\n",
              "        element.innerHTML = '';\n",
              "        dataTable['output_type'] = 'display_data';\n",
              "        await google.colab.output.renderOutput(dataTable, element);\n",
              "        const docLink = document.createElement('div');\n",
              "        docLink.innerHTML = docLinkHtml;\n",
              "        element.appendChild(docLink);\n",
              "      }\n",
              "    </script>\n",
              "  </div>\n",
              "\n",
              "\n",
              "<div id=\"df-044cca17-cd6d-4d25-bd36-32a0361d1da5\">\n",
              "  <button class=\"colab-df-quickchart\" onclick=\"quickchart('df-044cca17-cd6d-4d25-bd36-32a0361d1da5')\"\n",
              "            title=\"Suggest charts\"\n",
              "            style=\"display:none;\">\n",
              "\n",
              "<svg xmlns=\"http://www.w3.org/2000/svg\" height=\"24px\"viewBox=\"0 0 24 24\"\n",
              "     width=\"24px\">\n",
              "    <g>\n",
              "        <path d=\"M19 3H5c-1.1 0-2 .9-2 2v14c0 1.1.9 2 2 2h14c1.1 0 2-.9 2-2V5c0-1.1-.9-2-2-2zM9 17H7v-7h2v7zm4 0h-2V7h2v10zm4 0h-2v-4h2v4z\"/>\n",
              "    </g>\n",
              "</svg>\n",
              "  </button>\n",
              "\n",
              "<style>\n",
              "  .colab-df-quickchart {\n",
              "      --bg-color: #E8F0FE;\n",
              "      --fill-color: #1967D2;\n",
              "      --hover-bg-color: #E2EBFA;\n",
              "      --hover-fill-color: #174EA6;\n",
              "      --disabled-fill-color: #AAA;\n",
              "      --disabled-bg-color: #DDD;\n",
              "  }\n",
              "\n",
              "  [theme=dark] .colab-df-quickchart {\n",
              "      --bg-color: #3B4455;\n",
              "      --fill-color: #D2E3FC;\n",
              "      --hover-bg-color: #434B5C;\n",
              "      --hover-fill-color: #FFFFFF;\n",
              "      --disabled-bg-color: #3B4455;\n",
              "      --disabled-fill-color: #666;\n",
              "  }\n",
              "\n",
              "  .colab-df-quickchart {\n",
              "    background-color: var(--bg-color);\n",
              "    border: none;\n",
              "    border-radius: 50%;\n",
              "    cursor: pointer;\n",
              "    display: none;\n",
              "    fill: var(--fill-color);\n",
              "    height: 32px;\n",
              "    padding: 0;\n",
              "    width: 32px;\n",
              "  }\n",
              "\n",
              "  .colab-df-quickchart:hover {\n",
              "    background-color: var(--hover-bg-color);\n",
              "    box-shadow: 0 1px 2px rgba(60, 64, 67, 0.3), 0 1px 3px 1px rgba(60, 64, 67, 0.15);\n",
              "    fill: var(--button-hover-fill-color);\n",
              "  }\n",
              "\n",
              "  .colab-df-quickchart-complete:disabled,\n",
              "  .colab-df-quickchart-complete:disabled:hover {\n",
              "    background-color: var(--disabled-bg-color);\n",
              "    fill: var(--disabled-fill-color);\n",
              "    box-shadow: none;\n",
              "  }\n",
              "\n",
              "  .colab-df-spinner {\n",
              "    border: 2px solid var(--fill-color);\n",
              "    border-color: transparent;\n",
              "    border-bottom-color: var(--fill-color);\n",
              "    animation:\n",
              "      spin 1s steps(1) infinite;\n",
              "  }\n",
              "\n",
              "  @keyframes spin {\n",
              "    0% {\n",
              "      border-color: transparent;\n",
              "      border-bottom-color: var(--fill-color);\n",
              "      border-left-color: var(--fill-color);\n",
              "    }\n",
              "    20% {\n",
              "      border-color: transparent;\n",
              "      border-left-color: var(--fill-color);\n",
              "      border-top-color: var(--fill-color);\n",
              "    }\n",
              "    30% {\n",
              "      border-color: transparent;\n",
              "      border-left-color: var(--fill-color);\n",
              "      border-top-color: var(--fill-color);\n",
              "      border-right-color: var(--fill-color);\n",
              "    }\n",
              "    40% {\n",
              "      border-color: transparent;\n",
              "      border-right-color: var(--fill-color);\n",
              "      border-top-color: var(--fill-color);\n",
              "    }\n",
              "    60% {\n",
              "      border-color: transparent;\n",
              "      border-right-color: var(--fill-color);\n",
              "    }\n",
              "    80% {\n",
              "      border-color: transparent;\n",
              "      border-right-color: var(--fill-color);\n",
              "      border-bottom-color: var(--fill-color);\n",
              "    }\n",
              "    90% {\n",
              "      border-color: transparent;\n",
              "      border-bottom-color: var(--fill-color);\n",
              "    }\n",
              "  }\n",
              "</style>\n",
              "\n",
              "  <script>\n",
              "    async function quickchart(key) {\n",
              "      const quickchartButtonEl =\n",
              "        document.querySelector('#' + key + ' button');\n",
              "      quickchartButtonEl.disabled = true;  // To prevent multiple clicks.\n",
              "      quickchartButtonEl.classList.add('colab-df-spinner');\n",
              "      try {\n",
              "        const charts = await google.colab.kernel.invokeFunction(\n",
              "            'suggestCharts', [key], {});\n",
              "      } catch (error) {\n",
              "        console.error('Error during call to suggestCharts:', error);\n",
              "      }\n",
              "      quickchartButtonEl.classList.remove('colab-df-spinner');\n",
              "      quickchartButtonEl.classList.add('colab-df-quickchart-complete');\n",
              "    }\n",
              "    (() => {\n",
              "      let quickchartButtonEl =\n",
              "        document.querySelector('#df-044cca17-cd6d-4d25-bd36-32a0361d1da5 button');\n",
              "      quickchartButtonEl.style.display =\n",
              "        google.colab.kernel.accessAllowed ? 'block' : 'none';\n",
              "    })();\n",
              "  </script>\n",
              "</div>\n",
              "    </div>\n",
              "  </div>\n"
            ],
            "application/vnd.google.colaboratory.intrinsic+json": {
              "type": "dataframe",
              "variable_name": "df",
              "summary": "{\n  \"name\": \"df\",\n  \"rows\": 500,\n  \"fields\": [\n    {\n      \"column\": \"body\",\n      \"properties\": {\n        \"dtype\": \"string\",\n        \"num_unique_values\": 453,\n        \"samples\": [\n          \"Stop bringing in context? Like you can absolutely condemn the actions of hamas while also criticizing what israel has done in the region. Personally i support neither side. Hamas is a terrorist org and israel has been surpressing palestinians.  \\n\\nObviously i condemn the actions of hamas, i also will not pick a side to the conflict.\",\n          \"Feel like this aggressive of sarcasm deserves a /s \\ud83e\\udd74\",\n          \"The Jews have been stealing Palestinian land since the 1918s and backed by an illegal Balfour declaration pushed thru which allowed the Jews to steal land from Muslim and Christian Palestinians.\"\n        ],\n        \"semantic_type\": \"\",\n        \"description\": \"\"\n      }\n    }\n  ]\n}"
            }
          },
          "metadata": {},
          "execution_count": 29
        }
      ]
    },
    {
      "cell_type": "code",
      "source": [
        "mapping = {\"ain't\": \"is not\", \"aren't\": \"are not\",\"can't\": \"cannot\",\n",
        "           \"'cause\": \"because\", \"could've\": \"could have\", \"couldn't\": \"could not\",\n",
        "           \"didn't\": \"did not\",  \"doesn't\": \"does not\", \"don't\": \"do not\", \"hadn't\": \"had not\",\n",
        "           \"hasn't\": \"has not\", \"haven't\": \"have not\", \"he'd\": \"he would\",\"he'll\": \"he will\",\n",
        "           \"he's\": \"he is\", \"how'd\": \"how did\", \"how'd'y\": \"how do you\", \"how'll\": \"how will\",\n",
        "           \"how's\": \"how is\",  \"I'd\": \"I would\", \"I'd've\": \"I would have\", \"I'll\": \"I will\",\n",
        "           \"I'll've\": \"I will have\",\"I'm\": \"I am\", \"I've\": \"I have\", \"i'd\": \"i would\",\n",
        "           \"i'd've\": \"i would have\", \"i'll\": \"i will\",  \"i'll've\": \"i will have\",\n",
        "           \"i'm\": \"i am\", \"i've\": \"i have\", \"isn't\": \"is not\", \"it'd\": \"it would\",\n",
        "           \"it'd've\": \"it would have\", \"it'll\": \"it will\", \"it'll've\": \"it will have\",\n",
        "           \"it's\": \"it is\", \"let's\": \"let us\", \"ma'am\": \"madam\", \"mayn't\": \"may not\",\n",
        "           \"might've\": \"might have\",\"mightn't\": \"might not\",\"mightn't've\": \"might not have\",\n",
        "           \"must've\": \"must have\", \"mustn't\": \"must not\", \"mustn't've\": \"must not have\",\n",
        "           \"needn't\": \"need not\", \"needn't've\": \"need not have\",\"o'clock\": \"of the clock\",\n",
        "           \"oughtn't\": \"ought not\", \"oughtn't've\": \"ought not have\", \"shan't\": \"shall not\",\n",
        "           \"sha'n't\": \"shall not\", \"shan't've\": \"shall not have\", \"she'd\": \"she would\",\n",
        "           \"she'd've\": \"she would have\", \"she'll\": \"she will\", \"she'll've\": \"she will have\",\n",
        "           \"she's\": \"she is\", \"should've\": \"should have\", \"shouldn't\": \"should not\",\n",
        "           \"shouldn't've\": \"should not have\", \"so've\": \"so have\",\"so's\": \"so as\", \"this's\": \"this is\",\n",
        "           \"that'd\": \"that would\", \"that'd've\": \"that would have\", \"that's\": \"that is\",\n",
        "           \"there'd\": \"there would\", \"there'd've\": \"there would have\", \"there's\": \"there is\",\n",
        "           \"here's\": \"here is\",\"they'd\": \"they would\", \"they'd've\": \"they would have\",\n",
        "           \"they'll\": \"they will\", \"they'll've\": \"they will have\", \"they're\": \"they are\",\n",
        "           \"they've\": \"they have\", \"to've\": \"to have\", \"wasn't\": \"was not\", \"we'd\": \"we would\",\n",
        "           \"we'd've\": \"we would have\", \"we'll\": \"we will\", \"we'll've\": \"we will have\",\n",
        "           \"we're\": \"we are\", \"we've\": \"we have\", \"weren't\": \"were not\",\n",
        "           \"what'll\": \"what will\", \"what'll've\": \"what will have\",\"what're\": \"what are\",\n",
        "           \"what's\": \"what is\", \"what've\": \"what have\", \"when's\": \"when is\", \"when've\": \"when have\",\n",
        "           \"where'd\": \"where did\", \"where's\": \"where is\", \"where've\": \"where have\", \"who'll\": \"who will\",\n",
        "           \"who'll've\": \"who will have\", \"who's\": \"who is\", \"who've\": \"who have\", \"why's\": \"why is\",\n",
        "           \"why've\": \"why have\", \"will've\": \"will have\", \"won't\": \"will not\", \"won't've\": \"will not have\",\n",
        "           \"would've\": \"would have\", \"wouldn't\": \"would not\", \"wouldn't've\": \"would not have\",\n",
        "           \"y'all\": \"you all\", \"y'all'd\": \"you all would\",\"y'all'd've\": \"you all would have\",\n",
        "           \"y'all're\": \"you all are\",\"y'all've\": \"you all have\",\"you'd\": \"you would\", \"you'd've\": \"you would have\", \"you'll\": \"you will\", \"you'll've\": \"you will have\",\n",
        "           \"you're\": \"you are\", \"you've\": \"you have\" }"
      ],
      "metadata": {
        "id": "MQbca3GPECFW"
      },
      "execution_count": 30,
      "outputs": []
    },
    {
      "cell_type": "code",
      "source": [
        "# Function to remove HTMl tags\n",
        "def remove_html_tags(text):\n",
        "  soup=BeautifulSoup(text, \"html.parser\")\n",
        "  return soup.get_text()\n",
        "\n",
        "# Assuming Processed Reddit is the column with HTML content\n",
        "df['Clean body'] = df['body'].apply(remove_html_tags)"
      ],
      "metadata": {
        "id": "xJeeyuabEHHJ",
        "colab": {
          "base_uri": "https://localhost:8080/"
        },
        "outputId": "2413a1cf-34e6-4427-982c-02e67e049645"
      },
      "execution_count": 31,
      "outputs": [
        {
          "output_type": "stream",
          "name": "stderr",
          "text": [
            "<ipython-input-31-34f7a9b0340c>:3: MarkupResemblesLocatorWarning: The input looks more like a filename than markup. You may want to open this file and pass the filehandle into Beautiful Soup.\n",
            "  soup=BeautifulSoup(text, \"html.parser\")\n",
            "<ipython-input-31-34f7a9b0340c>:3: MarkupResemblesLocatorWarning: The input looks more like a URL than markup. You may want to use an HTTP client like requests to get the document behind the URL, and feed that document to Beautiful Soup.\n",
            "  soup=BeautifulSoup(text, \"html.parser\")\n"
          ]
        }
      ]
    },
    {
      "cell_type": "code",
      "source": [
        "# Remove URLs and Special characters with Regular Expressions\n",
        "def clean_text(text):\n",
        "    text = re.sub(r'http\\S+', '', text)  # Remove URL\n",
        "    text = re.sub(r'\\S*@\\S*\\s?', '', text)  # Remove mailboxes\n",
        "    text = re.sub(r'[^\\w\\s]', '', text)  # Remove special characters\n",
        "    text = ' '.join([mapping[t] if t in mapping else t for t in text.split(\" \")]) #expanding chatwords and contracts clearing contractions\n",
        "    emoji_clean= re.compile(\"[\"\n",
        "                           u\"\\U0001F600-\\U0001F64F\"  # emoticons\n",
        "                           u\"\\U0001F300-\\U0001F5FF\"  # symbols & pictographs\n",
        "                           u\"\\U0001F680-\\U0001F6FF\"  # transport & map symbols\n",
        "                           u\"\\U0001F1E0-\\U0001F1FF\"  # flags (iOS)\n",
        "                           u\"\\U00002702-\\U000027B0\"\n",
        "                           u\"\\U000024C2-\\U0001F251\"\n",
        "                           \"]+\", flags=re.UNICODE)\n",
        "    text = emoji_clean.sub(r'',text)\n",
        "    return text\n",
        "\n",
        "df['Clean body'] = df['Clean body'].apply(clean_text)"
      ],
      "metadata": {
        "id": "Z4lUws4LEmJR"
      },
      "execution_count": 32,
      "outputs": []
    },
    {
      "cell_type": "code",
      "source": [
        "df['Clean body']"
      ],
      "metadata": {
        "colab": {
          "base_uri": "https://localhost:8080/"
        },
        "id": "oWELve1TExb1",
        "outputId": "e2f7a9b2-993d-42e0-df19-980a556d03d0"
      },
      "execution_count": 33,
      "outputs": [
        {
          "output_type": "execute_result",
          "data": {
            "text/plain": [
              "2                     URL \\nThumbnail nsfw\\nImages\\n\\t\\n\n",
              "3      For the past decade or so I have typically sup...\n",
              "4      Both claim to be the descendants of Abraham th...\n",
              "5      If thats the case then his Native American com...\n",
              "6      May not be the best analogy but racism kept Je...\n",
              "                             ...                        \n",
              "497     Fuck\\n\\nuDarkChoomba Please avoid using profa...\n",
              "498    Supporting Palestinian self determination and ...\n",
              "499    Tally up the death tolls from 1947 to now deat...\n",
              "500                                                   No\n",
              "501    100 agreed i used to think Israel was an oppre...\n",
              "Name: Clean body, Length: 500, dtype: object"
            ]
          },
          "metadata": {},
          "execution_count": 33
        }
      ]
    },
    {
      "cell_type": "code",
      "source": [
        "# Convert datetime stringd to Python datetime objects, drop 'scrapedAt'\n",
        "#df['createdAt'] = pd.to_datetime(df['createdAt'], utc=True)\n",
        "#df = df.drop(columns = ['scrapedAt'])"
      ],
      "metadata": {
        "id": "iYNaka1WE09r",
        "colab": {
          "base_uri": "https://localhost:8080/",
          "height": 477
        },
        "outputId": "4a629610-d699-49f3-b443-5261228186fb"
      },
      "execution_count": 34,
      "outputs": [
        {
          "output_type": "error",
          "ename": "KeyError",
          "evalue": "'createdAt'",
          "traceback": [
            "\u001b[0;31m---------------------------------------------------------------------------\u001b[0m",
            "\u001b[0;31mKeyError\u001b[0m                                  Traceback (most recent call last)",
            "\u001b[0;32m/usr/local/lib/python3.10/dist-packages/pandas/core/indexes/base.py\u001b[0m in \u001b[0;36mget_loc\u001b[0;34m(self, key)\u001b[0m\n\u001b[1;32m   3652\u001b[0m         \u001b[0;32mtry\u001b[0m\u001b[0;34m:\u001b[0m\u001b[0;34m\u001b[0m\u001b[0;34m\u001b[0m\u001b[0m\n\u001b[0;32m-> 3653\u001b[0;31m             \u001b[0;32mreturn\u001b[0m \u001b[0mself\u001b[0m\u001b[0;34m.\u001b[0m\u001b[0m_engine\u001b[0m\u001b[0;34m.\u001b[0m\u001b[0mget_loc\u001b[0m\u001b[0;34m(\u001b[0m\u001b[0mcasted_key\u001b[0m\u001b[0;34m)\u001b[0m\u001b[0;34m\u001b[0m\u001b[0;34m\u001b[0m\u001b[0m\n\u001b[0m\u001b[1;32m   3654\u001b[0m         \u001b[0;32mexcept\u001b[0m \u001b[0mKeyError\u001b[0m \u001b[0;32mas\u001b[0m \u001b[0merr\u001b[0m\u001b[0;34m:\u001b[0m\u001b[0;34m\u001b[0m\u001b[0;34m\u001b[0m\u001b[0m\n",
            "\u001b[0;32m/usr/local/lib/python3.10/dist-packages/pandas/_libs/index.pyx\u001b[0m in \u001b[0;36mpandas._libs.index.IndexEngine.get_loc\u001b[0;34m()\u001b[0m\n",
            "\u001b[0;32m/usr/local/lib/python3.10/dist-packages/pandas/_libs/index.pyx\u001b[0m in \u001b[0;36mpandas._libs.index.IndexEngine.get_loc\u001b[0;34m()\u001b[0m\n",
            "\u001b[0;32mpandas/_libs/hashtable_class_helper.pxi\u001b[0m in \u001b[0;36mpandas._libs.hashtable.PyObjectHashTable.get_item\u001b[0;34m()\u001b[0m\n",
            "\u001b[0;32mpandas/_libs/hashtable_class_helper.pxi\u001b[0m in \u001b[0;36mpandas._libs.hashtable.PyObjectHashTable.get_item\u001b[0;34m()\u001b[0m\n",
            "\u001b[0;31mKeyError\u001b[0m: 'createdAt'",
            "\nThe above exception was the direct cause of the following exception:\n",
            "\u001b[0;31mKeyError\u001b[0m                                  Traceback (most recent call last)",
            "\u001b[0;32m<ipython-input-34-2b14e717d224>\u001b[0m in \u001b[0;36m<cell line: 2>\u001b[0;34m()\u001b[0m\n\u001b[1;32m      1\u001b[0m \u001b[0;31m# Convert datetime stringd to Python datetime objects, drop 'scrapedAt'\u001b[0m\u001b[0;34m\u001b[0m\u001b[0;34m\u001b[0m\u001b[0m\n\u001b[0;32m----> 2\u001b[0;31m \u001b[0mdf\u001b[0m\u001b[0;34m[\u001b[0m\u001b[0;34m'createdAt'\u001b[0m\u001b[0;34m]\u001b[0m \u001b[0;34m=\u001b[0m \u001b[0mpd\u001b[0m\u001b[0;34m.\u001b[0m\u001b[0mto_datetime\u001b[0m\u001b[0;34m(\u001b[0m\u001b[0mdf\u001b[0m\u001b[0;34m[\u001b[0m\u001b[0;34m'createdAt'\u001b[0m\u001b[0;34m]\u001b[0m\u001b[0;34m,\u001b[0m \u001b[0mutc\u001b[0m\u001b[0;34m=\u001b[0m\u001b[0;32mTrue\u001b[0m\u001b[0;34m)\u001b[0m\u001b[0;34m\u001b[0m\u001b[0;34m\u001b[0m\u001b[0m\n\u001b[0m\u001b[1;32m      3\u001b[0m \u001b[0mdf\u001b[0m \u001b[0;34m=\u001b[0m \u001b[0mdf\u001b[0m\u001b[0;34m.\u001b[0m\u001b[0mdrop\u001b[0m\u001b[0;34m(\u001b[0m\u001b[0mcolumns\u001b[0m \u001b[0;34m=\u001b[0m \u001b[0;34m[\u001b[0m\u001b[0;34m'scrapedAt'\u001b[0m\u001b[0;34m]\u001b[0m\u001b[0;34m)\u001b[0m\u001b[0;34m\u001b[0m\u001b[0;34m\u001b[0m\u001b[0m\n",
            "\u001b[0;32m/usr/local/lib/python3.10/dist-packages/pandas/core/frame.py\u001b[0m in \u001b[0;36m__getitem__\u001b[0;34m(self, key)\u001b[0m\n\u001b[1;32m   3759\u001b[0m             \u001b[0;32mif\u001b[0m \u001b[0mself\u001b[0m\u001b[0;34m.\u001b[0m\u001b[0mcolumns\u001b[0m\u001b[0;34m.\u001b[0m\u001b[0mnlevels\u001b[0m \u001b[0;34m>\u001b[0m \u001b[0;36m1\u001b[0m\u001b[0;34m:\u001b[0m\u001b[0;34m\u001b[0m\u001b[0;34m\u001b[0m\u001b[0m\n\u001b[1;32m   3760\u001b[0m                 \u001b[0;32mreturn\u001b[0m \u001b[0mself\u001b[0m\u001b[0;34m.\u001b[0m\u001b[0m_getitem_multilevel\u001b[0m\u001b[0;34m(\u001b[0m\u001b[0mkey\u001b[0m\u001b[0;34m)\u001b[0m\u001b[0;34m\u001b[0m\u001b[0;34m\u001b[0m\u001b[0m\n\u001b[0;32m-> 3761\u001b[0;31m             \u001b[0mindexer\u001b[0m \u001b[0;34m=\u001b[0m \u001b[0mself\u001b[0m\u001b[0;34m.\u001b[0m\u001b[0mcolumns\u001b[0m\u001b[0;34m.\u001b[0m\u001b[0mget_loc\u001b[0m\u001b[0;34m(\u001b[0m\u001b[0mkey\u001b[0m\u001b[0;34m)\u001b[0m\u001b[0;34m\u001b[0m\u001b[0;34m\u001b[0m\u001b[0m\n\u001b[0m\u001b[1;32m   3762\u001b[0m             \u001b[0;32mif\u001b[0m \u001b[0mis_integer\u001b[0m\u001b[0;34m(\u001b[0m\u001b[0mindexer\u001b[0m\u001b[0;34m)\u001b[0m\u001b[0;34m:\u001b[0m\u001b[0;34m\u001b[0m\u001b[0;34m\u001b[0m\u001b[0m\n\u001b[1;32m   3763\u001b[0m                 \u001b[0mindexer\u001b[0m \u001b[0;34m=\u001b[0m \u001b[0;34m[\u001b[0m\u001b[0mindexer\u001b[0m\u001b[0;34m]\u001b[0m\u001b[0;34m\u001b[0m\u001b[0;34m\u001b[0m\u001b[0m\n",
            "\u001b[0;32m/usr/local/lib/python3.10/dist-packages/pandas/core/indexes/base.py\u001b[0m in \u001b[0;36mget_loc\u001b[0;34m(self, key)\u001b[0m\n\u001b[1;32m   3653\u001b[0m             \u001b[0;32mreturn\u001b[0m \u001b[0mself\u001b[0m\u001b[0;34m.\u001b[0m\u001b[0m_engine\u001b[0m\u001b[0;34m.\u001b[0m\u001b[0mget_loc\u001b[0m\u001b[0;34m(\u001b[0m\u001b[0mcasted_key\u001b[0m\u001b[0;34m)\u001b[0m\u001b[0;34m\u001b[0m\u001b[0;34m\u001b[0m\u001b[0m\n\u001b[1;32m   3654\u001b[0m         \u001b[0;32mexcept\u001b[0m \u001b[0mKeyError\u001b[0m \u001b[0;32mas\u001b[0m \u001b[0merr\u001b[0m\u001b[0;34m:\u001b[0m\u001b[0;34m\u001b[0m\u001b[0;34m\u001b[0m\u001b[0m\n\u001b[0;32m-> 3655\u001b[0;31m             \u001b[0;32mraise\u001b[0m \u001b[0mKeyError\u001b[0m\u001b[0;34m(\u001b[0m\u001b[0mkey\u001b[0m\u001b[0;34m)\u001b[0m \u001b[0;32mfrom\u001b[0m \u001b[0merr\u001b[0m\u001b[0;34m\u001b[0m\u001b[0;34m\u001b[0m\u001b[0m\n\u001b[0m\u001b[1;32m   3656\u001b[0m         \u001b[0;32mexcept\u001b[0m \u001b[0mTypeError\u001b[0m\u001b[0;34m:\u001b[0m\u001b[0;34m\u001b[0m\u001b[0;34m\u001b[0m\u001b[0m\n\u001b[1;32m   3657\u001b[0m             \u001b[0;31m# If we have a listlike key, _check_indexing_error will raise\u001b[0m\u001b[0;34m\u001b[0m\u001b[0;34m\u001b[0m\u001b[0m\n",
            "\u001b[0;31mKeyError\u001b[0m: 'createdAt'"
          ]
        }
      ]
    },
    {
      "cell_type": "code",
      "source": [
        "# Text preprocessing using NLTK or spaCy: word splitting, deletion of stop words, word shape reduction\n",
        "import nltk\n",
        "from nltk.corpus import stopwords\n",
        "from nltk.stem import WordNetLemmatizer\n",
        "\n",
        "# Download the necessary NLTK data\n",
        "nltk.download('stopwords')\n",
        "nltk.download('wordnet')\n",
        "\n"
      ],
      "metadata": {
        "colab": {
          "base_uri": "https://localhost:8080/"
        },
        "id": "7-MAzoU9FC0e",
        "outputId": "138d696f-e526-4379-98c1-2cc8d2b26bfe"
      },
      "execution_count": 35,
      "outputs": [
        {
          "output_type": "stream",
          "name": "stderr",
          "text": [
            "[nltk_data] Downloading package stopwords to /root/nltk_data...\n",
            "[nltk_data]   Unzipping corpora/stopwords.zip.\n",
            "[nltk_data] Downloading package wordnet to /root/nltk_data...\n"
          ]
        },
        {
          "output_type": "execute_result",
          "data": {
            "text/plain": [
              "True"
            ]
          },
          "metadata": {},
          "execution_count": 35
        }
      ]
    },
    {
      "cell_type": "code",
      "source": [
        "stopwords = nltk.corpus.stopwords.words('english')\n",
        "Clean_text = [word for word in df if word.lower() not in stopwords]\n"
      ],
      "metadata": {
        "id": "EXtzFyLK7rJG"
      },
      "execution_count": 36,
      "outputs": []
    },
    {
      "cell_type": "code",
      "source": [
        "lemmatizer = WordNetLemmatizer()"
      ],
      "metadata": {
        "id": "DOQySE8OzmwO"
      },
      "execution_count": 39,
      "outputs": []
    },
    {
      "cell_type": "code",
      "source": [
        "# of pre-processed text\n",
        "def preprocess_text(df):\n",
        "    text = df.lower()\n",
        "    words = df.split()\n",
        "    words = [lemmatizer.lemmatize(word) for word in words if word not in stopwords]\n",
        "    return ' '.join(words)\n",
        "\n",
        "df['Processed body'] = df['Clean body'].apply(preprocess_text)\n",
        "df['Processed body']"
      ],
      "metadata": {
        "colab": {
          "base_uri": "https://localhost:8080/"
        },
        "id": "QDKLk1r7Fc1b",
        "outputId": "29748b16-abe3-4370-ed23-f521caccb0ed"
      },
      "execution_count": 49,
      "outputs": [
        {
          "output_type": "execute_result",
          "data": {
            "text/plain": [
              "2                              URL Thumbnail nsfw Images\n",
              "3      For past decade I typically supported Palestin...\n",
              "4      Both claim descendant Abraham though So wouldn...\n",
              "5      If thats case Native American comment make zer...\n",
              "6      May best analogy racism kept Jews finding new ...\n",
              "                             ...                        \n",
              "497    Fuck uDarkChoomba Please avoid using profanity...\n",
              "498    Supporting Palestinian self determination oppo...\n",
              "499    Tally death toll 1947 death child especially P...\n",
              "500                                                   No\n",
              "501    100 agreed used think Israel oppressive Aparth...\n",
              "Name: Processed body, Length: 500, dtype: object"
            ]
          },
          "metadata": {},
          "execution_count": 49
        }
      ]
    },
    {
      "cell_type": "code",
      "source": [
        "df.to_csv('Processed_dataset_withsentiment.csv', index=False)"
      ],
      "metadata": {
        "id": "JHYvEPOsGIfr"
      },
      "execution_count": 50,
      "outputs": []
    },
    {
      "cell_type": "markdown",
      "source": [
        "Text Analysis\n"
      ],
      "metadata": {
        "id": "Hy4u6G7UFw_t"
      }
    },
    {
      "cell_type": "markdown",
      "source": [
        "Length"
      ],
      "metadata": {
        "id": "SXNFkyZBF0oA"
      }
    },
    {
      "cell_type": "code",
      "source": [
        "#post_word_counts = df[df['dataType'] == 'post']['Processed body'].apply(lambda x: len(str(x).split()))\n",
        "#comment_word_counts = df[df['dataType'] == 'comment']['Processed body'].apply(lambda x: len(str(x).split()))\n",
        "#title_word_counts = df['title'].dropna().apply(lambda x: len(str(x).split()))\n",
        "\n",
        "#print(\"Post Length Statistics:\\n\", post_word_counts.describe())\n",
        "#print(\"\\nComment Length Statistics:\\n\", comment_word_counts.describe())\n",
        "#print(\"\\nTitle Length Statistics:\\n\", title_word_counts.describe())"
      ],
      "metadata": {
        "colab": {
          "base_uri": "https://localhost:8080/"
        },
        "id": "sEdvyi4tFzAY",
        "outputId": "ae2794a6-36ad-4168-f41a-549f13319af7"
      },
      "execution_count": 24,
      "outputs": [
        {
          "output_type": "stream",
          "name": "stdout",
          "text": [
            "Post Length Statistics:\n",
            " count       0\n",
            "unique      0\n",
            "top       NaN\n",
            "freq      NaN\n",
            "Name: Processed body, dtype: object\n",
            "\n",
            "Comment Length Statistics:\n",
            " count       0\n",
            "unique      0\n",
            "top       NaN\n",
            "freq      NaN\n",
            "Name: Processed body, dtype: object\n",
            "\n",
            "Title Length Statistics:\n",
            " count       0\n",
            "unique      0\n",
            "top       NaN\n",
            "freq      NaN\n",
            "Name: title, dtype: object\n"
          ]
        }
      ]
    },
    {
      "cell_type": "code",
      "source": [
        "#data = [post_word_counts, comment_word_counts, title_word_counts]\n",
        "\n",
        "#plt.figure(figsize=(10, 6))\n",
        "#plt.boxplot(data, labels=['Posts', 'Comments', 'Titles'], showmeans=True, meanline=True)\n",
        "\n",
        "#plt.ylim(0, 50)\n",
        "\n",
        "#plt.title('Word Count Distribution for Posts, Comments, and Titles')\n",
        "#plt.ylabel('Word Count')\n",
        "\n",
        "#plt.show()"
      ],
      "metadata": {
        "colab": {
          "base_uri": "https://localhost:8080/",
          "height": 545
        },
        "id": "ZY-VnURPGAEH",
        "outputId": "1da9b41a-5094-4c3a-a375-bad9884a9389"
      },
      "execution_count": null,
      "outputs": [
        {
          "output_type": "display_data",
          "data": {
            "text/plain": [
              "<Figure size 1000x600 with 1 Axes>"
            ],
            "image/png": "[encoded data removed]"
          },
          "metadata": {}
        }
      ]
    },
    {
      "cell_type": "markdown",
      "source": [
        "Keyword Extraction"
      ],
      "metadata": {
        "id": "Q3VLTV_uGPK_"
      }
    },
    {
      "cell_type": "code",
      "source": [
        "# Extract keywords using TF-IDF\n",
        "tfidf_vectorizer = TfidfVectorizer(max_df=0.95, min_df=2, max_features=1000, stop_words='english')\n",
        "tfidf = tfidf_vectorizer.fit_transform(df['Processed body'])\n",
        "tfidf"
      ],
      "metadata": {
        "colab": {
          "base_uri": "https://localhost:8080/"
        },
        "id": "7klcqLTHGArH",
        "outputId": "410d6489-06a1-49a1-86ee-ed1ad3f3a902"
      },
      "execution_count": 51,
      "outputs": [
        {
          "output_type": "execute_result",
          "data": {
            "text/plain": [
              "<500x1000 sparse matrix of type '<class 'numpy.float64'>'\n",
              "\twith 6792 stored elements in Compressed Sparse Row format>"
            ]
          },
          "metadata": {},
          "execution_count": 51
        }
      ]
    },
    {
      "cell_type": "code",
      "source": [
        "# # Example preprocessing function (adjust as needed)\n",
        "# def preprocess_text(text):\n",
        "#     # Lowercase\n",
        "#     text = text.lower()\n",
        "#     # Tokenize\n",
        "#     words = nltk.word_tokenize(text)\n",
        "#     # Remove stopwords\n",
        "#     words = [word for word in words if word not in stopwords]\n",
        "#     # Lemmatize\n",
        "#     words = [lemmatizer.lemmatize(word) for word in words]\n",
        "#     return ' '.join(words)\n",
        "\n",
        "# # Apply preprocessing to your dataframe\n",
        "# df['Processed body'] = df['body'].apply(preprocess_text)\n",
        "\n",
        "# # Check the content of Processed body\n",
        "# print(df['Processed body'].head())\n",
        "\n",
        "# # Now, use TfidfVectorizer\n",
        "# from sklearn.feature_extraction.text import TfidfVectorizer\n",
        "\n",
        "# # Define the TfidfVectorizer\n",
        "# tfidf_vectorizer = TfidfVectorizer(max_df=0.95, min_df=2, max_features=1000, stop_words='english')\n",
        "\n",
        "# # Fit and transform the data\n",
        "# try:\n",
        "#     tfidf = tfidf_vectorizer.fit_transform(df['Processed body'])\n",
        "#     print(tfidf)\n",
        "# except ValueError as e:\n",
        "#     print(\"Error:\", e)\n",
        "#     print(\"Please check the content of 'Processed body' for issues.\")\n",
        "\n",
        "# # Output the features to check if vocabulary is created\n",
        "# print(tfidf_vectorizer.get_feature_names_out())\n"
      ],
      "metadata": {
        "colab": {
          "base_uri": "https://localhost:8080/",
          "height": 738
        },
        "id": "KM5EQfgD3B2F",
        "outputId": "71fbe514-df5f-448e-ce0e-b5e1c6b3b8fb"
      },
      "execution_count": 52,
      "outputs": [
        {
          "output_type": "error",
          "ename": "LookupError",
          "evalue": "\n**********************************************************************\n  Resource \u001b[93mpunkt\u001b[0m not found.\n  Please use the NLTK Downloader to obtain the resource:\n\n  \u001b[31m>>> import nltk\n  >>> nltk.download('punkt')\n  \u001b[0m\n  For more information see: https://www.nltk.org/data.html\n\n  Attempted to load \u001b[93mtokenizers/punkt/PY3/english.pickle\u001b[0m\n\n  Searched in:\n    - '/root/nltk_data'\n    - '/usr/nltk_data'\n    - '/usr/share/nltk_data'\n    - '/usr/lib/nltk_data'\n    - '/usr/share/nltk_data'\n    - '/usr/local/share/nltk_data'\n    - '/usr/lib/nltk_data'\n    - '/usr/local/lib/nltk_data'\n    - ''\n**********************************************************************\n",
          "traceback": [
            "\u001b[0;31m---------------------------------------------------------------------------\u001b[0m",
            "\u001b[0;31mLookupError\u001b[0m                               Traceback (most recent call last)",
            "\u001b[0;32m<ipython-input-52-dd6679e80a1d>\u001b[0m in \u001b[0;36m<cell line: 14>\u001b[0;34m()\u001b[0m\n\u001b[1;32m     12\u001b[0m \u001b[0;34m\u001b[0m\u001b[0m\n\u001b[1;32m     13\u001b[0m \u001b[0;31m# Apply preprocessing to your dataframe\u001b[0m\u001b[0;34m\u001b[0m\u001b[0;34m\u001b[0m\u001b[0m\n\u001b[0;32m---> 14\u001b[0;31m \u001b[0mdf\u001b[0m\u001b[0;34m[\u001b[0m\u001b[0;34m'Processed body'\u001b[0m\u001b[0;34m]\u001b[0m \u001b[0;34m=\u001b[0m \u001b[0mdf\u001b[0m\u001b[0;34m[\u001b[0m\u001b[0;34m'body'\u001b[0m\u001b[0;34m]\u001b[0m\u001b[0;34m.\u001b[0m\u001b[0mapply\u001b[0m\u001b[0;34m(\u001b[0m\u001b[0mpreprocess_text\u001b[0m\u001b[0;34m)\u001b[0m\u001b[0;34m\u001b[0m\u001b[0;34m\u001b[0m\u001b[0m\n\u001b[0m\u001b[1;32m     15\u001b[0m \u001b[0;34m\u001b[0m\u001b[0m\n\u001b[1;32m     16\u001b[0m \u001b[0;31m# Check the content of Processed body\u001b[0m\u001b[0;34m\u001b[0m\u001b[0;34m\u001b[0m\u001b[0m\n",
            "\u001b[0;32m/usr/local/lib/python3.10/dist-packages/pandas/core/series.py\u001b[0m in \u001b[0;36mapply\u001b[0;34m(self, func, convert_dtype, args, **kwargs)\u001b[0m\n\u001b[1;32m   4628\u001b[0m         \u001b[0mdtype\u001b[0m\u001b[0;34m:\u001b[0m \u001b[0mfloat64\u001b[0m\u001b[0;34m\u001b[0m\u001b[0;34m\u001b[0m\u001b[0m\n\u001b[1;32m   4629\u001b[0m         \"\"\"\n\u001b[0;32m-> 4630\u001b[0;31m         \u001b[0;32mreturn\u001b[0m \u001b[0mSeriesApply\u001b[0m\u001b[0;34m(\u001b[0m\u001b[0mself\u001b[0m\u001b[0;34m,\u001b[0m \u001b[0mfunc\u001b[0m\u001b[0;34m,\u001b[0m \u001b[0mconvert_dtype\u001b[0m\u001b[0;34m,\u001b[0m \u001b[0margs\u001b[0m\u001b[0;34m,\u001b[0m \u001b[0mkwargs\u001b[0m\u001b[0;34m)\u001b[0m\u001b[0;34m.\u001b[0m\u001b[0mapply\u001b[0m\u001b[0;34m(\u001b[0m\u001b[0;34m)\u001b[0m\u001b[0;34m\u001b[0m\u001b[0;34m\u001b[0m\u001b[0m\n\u001b[0m\u001b[1;32m   4631\u001b[0m \u001b[0;34m\u001b[0m\u001b[0m\n\u001b[1;32m   4632\u001b[0m     def _reduce(\n",
            "\u001b[0;32m/usr/local/lib/python3.10/dist-packages/pandas/core/apply.py\u001b[0m in \u001b[0;36mapply\u001b[0;34m(self)\u001b[0m\n\u001b[1;32m   1023\u001b[0m \u001b[0;34m\u001b[0m\u001b[0m\n\u001b[1;32m   1024\u001b[0m         \u001b[0;31m# self.f is Callable\u001b[0m\u001b[0;34m\u001b[0m\u001b[0;34m\u001b[0m\u001b[0m\n\u001b[0;32m-> 1025\u001b[0;31m         \u001b[0;32mreturn\u001b[0m \u001b[0mself\u001b[0m\u001b[0;34m.\u001b[0m\u001b[0mapply_standard\u001b[0m\u001b[0;34m(\u001b[0m\u001b[0;34m)\u001b[0m\u001b[0;34m\u001b[0m\u001b[0;34m\u001b[0m\u001b[0m\n\u001b[0m\u001b[1;32m   1026\u001b[0m \u001b[0;34m\u001b[0m\u001b[0m\n\u001b[1;32m   1027\u001b[0m     \u001b[0;32mdef\u001b[0m \u001b[0magg\u001b[0m\u001b[0;34m(\u001b[0m\u001b[0mself\u001b[0m\u001b[0;34m)\u001b[0m\u001b[0;34m:\u001b[0m\u001b[0;34m\u001b[0m\u001b[0;34m\u001b[0m\u001b[0m\n",
            "\u001b[0;32m/usr/local/lib/python3.10/dist-packages/pandas/core/apply.py\u001b[0m in \u001b[0;36mapply_standard\u001b[0;34m(self)\u001b[0m\n\u001b[1;32m   1074\u001b[0m             \u001b[0;32melse\u001b[0m\u001b[0;34m:\u001b[0m\u001b[0;34m\u001b[0m\u001b[0;34m\u001b[0m\u001b[0m\n\u001b[1;32m   1075\u001b[0m                 \u001b[0mvalues\u001b[0m \u001b[0;34m=\u001b[0m \u001b[0mobj\u001b[0m\u001b[0;34m.\u001b[0m\u001b[0mastype\u001b[0m\u001b[0;34m(\u001b[0m\u001b[0mobject\u001b[0m\u001b[0;34m)\u001b[0m\u001b[0;34m.\u001b[0m\u001b[0m_values\u001b[0m\u001b[0;34m\u001b[0m\u001b[0;34m\u001b[0m\u001b[0m\n\u001b[0;32m-> 1076\u001b[0;31m                 mapped = lib.map_infer(\n\u001b[0m\u001b[1;32m   1077\u001b[0m                     \u001b[0mvalues\u001b[0m\u001b[0;34m,\u001b[0m\u001b[0;34m\u001b[0m\u001b[0;34m\u001b[0m\u001b[0m\n\u001b[1;32m   1078\u001b[0m                     \u001b[0mf\u001b[0m\u001b[0;34m,\u001b[0m\u001b[0;34m\u001b[0m\u001b[0;34m\u001b[0m\u001b[0m\n",
            "\u001b[0;32m/usr/local/lib/python3.10/dist-packages/pandas/_libs/lib.pyx\u001b[0m in \u001b[0;36mpandas._libs.lib.map_infer\u001b[0;34m()\u001b[0m\n",
            "\u001b[0;32m<ipython-input-52-dd6679e80a1d>\u001b[0m in \u001b[0;36mpreprocess_text\u001b[0;34m(text)\u001b[0m\n\u001b[1;32m      4\u001b[0m     \u001b[0mtext\u001b[0m \u001b[0;34m=\u001b[0m \u001b[0mtext\u001b[0m\u001b[0;34m.\u001b[0m\u001b[0mlower\u001b[0m\u001b[0;34m(\u001b[0m\u001b[0;34m)\u001b[0m\u001b[0;34m\u001b[0m\u001b[0;34m\u001b[0m\u001b[0m\n\u001b[1;32m      5\u001b[0m     \u001b[0;31m# Tokenize\u001b[0m\u001b[0;34m\u001b[0m\u001b[0;34m\u001b[0m\u001b[0m\n\u001b[0;32m----> 6\u001b[0;31m     \u001b[0mwords\u001b[0m \u001b[0;34m=\u001b[0m \u001b[0mnltk\u001b[0m\u001b[0;34m.\u001b[0m\u001b[0mword_tokenize\u001b[0m\u001b[0;34m(\u001b[0m\u001b[0mtext\u001b[0m\u001b[0;34m)\u001b[0m\u001b[0;34m\u001b[0m\u001b[0;34m\u001b[0m\u001b[0m\n\u001b[0m\u001b[1;32m      7\u001b[0m     \u001b[0;31m# Remove stopwords\u001b[0m\u001b[0;34m\u001b[0m\u001b[0;34m\u001b[0m\u001b[0m\n\u001b[1;32m      8\u001b[0m     \u001b[0mwords\u001b[0m \u001b[0;34m=\u001b[0m \u001b[0;34m[\u001b[0m\u001b[0mword\u001b[0m \u001b[0;32mfor\u001b[0m \u001b[0mword\u001b[0m \u001b[0;32min\u001b[0m \u001b[0mwords\u001b[0m \u001b[0;32mif\u001b[0m \u001b[0mword\u001b[0m \u001b[0;32mnot\u001b[0m \u001b[0;32min\u001b[0m \u001b[0mstop_words\u001b[0m\u001b[0;34m]\u001b[0m\u001b[0;34m\u001b[0m\u001b[0;34m\u001b[0m\u001b[0m\n",
            "\u001b[0;32m/usr/local/lib/python3.10/dist-packages/nltk/tokenize/__init__.py\u001b[0m in \u001b[0;36mword_tokenize\u001b[0;34m(text, language, preserve_line)\u001b[0m\n\u001b[1;32m    127\u001b[0m     \u001b[0;34m:\u001b[0m\u001b[0mtype\u001b[0m \u001b[0mpreserve_line\u001b[0m\u001b[0;34m:\u001b[0m \u001b[0mbool\u001b[0m\u001b[0;34m\u001b[0m\u001b[0;34m\u001b[0m\u001b[0m\n\u001b[1;32m    128\u001b[0m     \"\"\"\n\u001b[0;32m--> 129\u001b[0;31m     \u001b[0msentences\u001b[0m \u001b[0;34m=\u001b[0m \u001b[0;34m[\u001b[0m\u001b[0mtext\u001b[0m\u001b[0;34m]\u001b[0m \u001b[0;32mif\u001b[0m \u001b[0mpreserve_line\u001b[0m \u001b[0;32melse\u001b[0m \u001b[0msent_tokenize\u001b[0m\u001b[0;34m(\u001b[0m\u001b[0mtext\u001b[0m\u001b[0;34m,\u001b[0m \u001b[0mlanguage\u001b[0m\u001b[0;34m)\u001b[0m\u001b[0;34m\u001b[0m\u001b[0;34m\u001b[0m\u001b[0m\n\u001b[0m\u001b[1;32m    130\u001b[0m     return [\n\u001b[1;32m    131\u001b[0m         \u001b[0mtoken\u001b[0m \u001b[0;32mfor\u001b[0m \u001b[0msent\u001b[0m \u001b[0;32min\u001b[0m \u001b[0msentences\u001b[0m \u001b[0;32mfor\u001b[0m \u001b[0mtoken\u001b[0m \u001b[0;32min\u001b[0m \u001b[0m_treebank_word_tokenizer\u001b[0m\u001b[0;34m.\u001b[0m\u001b[0mtokenize\u001b[0m\u001b[0;34m(\u001b[0m\u001b[0msent\u001b[0m\u001b[0;34m)\u001b[0m\u001b[0;34m\u001b[0m\u001b[0;34m\u001b[0m\u001b[0m\n",
            "\u001b[0;32m/usr/local/lib/python3.10/dist-packages/nltk/tokenize/__init__.py\u001b[0m in \u001b[0;36msent_tokenize\u001b[0;34m(text, language)\u001b[0m\n\u001b[1;32m    104\u001b[0m     \u001b[0;34m:\u001b[0m\u001b[0mparam\u001b[0m \u001b[0mlanguage\u001b[0m\u001b[0;34m:\u001b[0m \u001b[0mthe\u001b[0m \u001b[0mmodel\u001b[0m \u001b[0mname\u001b[0m \u001b[0;32min\u001b[0m \u001b[0mthe\u001b[0m \u001b[0mPunkt\u001b[0m \u001b[0mcorpus\u001b[0m\u001b[0;34m\u001b[0m\u001b[0;34m\u001b[0m\u001b[0m\n\u001b[1;32m    105\u001b[0m     \"\"\"\n\u001b[0;32m--> 106\u001b[0;31m     \u001b[0mtokenizer\u001b[0m \u001b[0;34m=\u001b[0m \u001b[0mload\u001b[0m\u001b[0;34m(\u001b[0m\u001b[0;34mf\"tokenizers/punkt/{language}.pickle\"\u001b[0m\u001b[0;34m)\u001b[0m\u001b[0;34m\u001b[0m\u001b[0;34m\u001b[0m\u001b[0m\n\u001b[0m\u001b[1;32m    107\u001b[0m     \u001b[0;32mreturn\u001b[0m \u001b[0mtokenizer\u001b[0m\u001b[0;34m.\u001b[0m\u001b[0mtokenize\u001b[0m\u001b[0;34m(\u001b[0m\u001b[0mtext\u001b[0m\u001b[0;34m)\u001b[0m\u001b[0;34m\u001b[0m\u001b[0;34m\u001b[0m\u001b[0m\n\u001b[1;32m    108\u001b[0m \u001b[0;34m\u001b[0m\u001b[0m\n",
            "\u001b[0;32m/usr/local/lib/python3.10/dist-packages/nltk/data.py\u001b[0m in \u001b[0;36mload\u001b[0;34m(resource_url, format, cache, verbose, logic_parser, fstruct_reader, encoding)\u001b[0m\n\u001b[1;32m    748\u001b[0m \u001b[0;34m\u001b[0m\u001b[0m\n\u001b[1;32m    749\u001b[0m     \u001b[0;31m# Load the resource.\u001b[0m\u001b[0;34m\u001b[0m\u001b[0;34m\u001b[0m\u001b[0m\n\u001b[0;32m--> 750\u001b[0;31m     \u001b[0mopened_resource\u001b[0m \u001b[0;34m=\u001b[0m \u001b[0m_open\u001b[0m\u001b[0;34m(\u001b[0m\u001b[0mresource_url\u001b[0m\u001b[0;34m)\u001b[0m\u001b[0;34m\u001b[0m\u001b[0;34m\u001b[0m\u001b[0m\n\u001b[0m\u001b[1;32m    751\u001b[0m \u001b[0;34m\u001b[0m\u001b[0m\n\u001b[1;32m    752\u001b[0m     \u001b[0;32mif\u001b[0m \u001b[0mformat\u001b[0m \u001b[0;34m==\u001b[0m \u001b[0;34m\"raw\"\u001b[0m\u001b[0;34m:\u001b[0m\u001b[0;34m\u001b[0m\u001b[0;34m\u001b[0m\u001b[0m\n",
            "\u001b[0;32m/usr/local/lib/python3.10/dist-packages/nltk/data.py\u001b[0m in \u001b[0;36m_open\u001b[0;34m(resource_url)\u001b[0m\n\u001b[1;32m    874\u001b[0m \u001b[0;34m\u001b[0m\u001b[0m\n\u001b[1;32m    875\u001b[0m     \u001b[0;32mif\u001b[0m \u001b[0mprotocol\u001b[0m \u001b[0;32mis\u001b[0m \u001b[0;32mNone\u001b[0m \u001b[0;32mor\u001b[0m \u001b[0mprotocol\u001b[0m\u001b[0;34m.\u001b[0m\u001b[0mlower\u001b[0m\u001b[0;34m(\u001b[0m\u001b[0;34m)\u001b[0m \u001b[0;34m==\u001b[0m \u001b[0;34m\"nltk\"\u001b[0m\u001b[0;34m:\u001b[0m\u001b[0;34m\u001b[0m\u001b[0;34m\u001b[0m\u001b[0m\n\u001b[0;32m--> 876\u001b[0;31m         \u001b[0;32mreturn\u001b[0m \u001b[0mfind\u001b[0m\u001b[0;34m(\u001b[0m\u001b[0mpath_\u001b[0m\u001b[0;34m,\u001b[0m \u001b[0mpath\u001b[0m \u001b[0;34m+\u001b[0m \u001b[0;34m[\u001b[0m\u001b[0;34m\"\"\u001b[0m\u001b[0;34m]\u001b[0m\u001b[0;34m)\u001b[0m\u001b[0;34m.\u001b[0m\u001b[0mopen\u001b[0m\u001b[0;34m(\u001b[0m\u001b[0;34m)\u001b[0m\u001b[0;34m\u001b[0m\u001b[0;34m\u001b[0m\u001b[0m\n\u001b[0m\u001b[1;32m    877\u001b[0m     \u001b[0;32melif\u001b[0m \u001b[0mprotocol\u001b[0m\u001b[0;34m.\u001b[0m\u001b[0mlower\u001b[0m\u001b[0;34m(\u001b[0m\u001b[0;34m)\u001b[0m \u001b[0;34m==\u001b[0m \u001b[0;34m\"file\"\u001b[0m\u001b[0;34m:\u001b[0m\u001b[0;34m\u001b[0m\u001b[0;34m\u001b[0m\u001b[0m\n\u001b[1;32m    878\u001b[0m         \u001b[0;31m# urllib might not use mode='rb', so handle this one ourselves:\u001b[0m\u001b[0;34m\u001b[0m\u001b[0;34m\u001b[0m\u001b[0m\n",
            "\u001b[0;32m/usr/local/lib/python3.10/dist-packages/nltk/data.py\u001b[0m in \u001b[0;36mfind\u001b[0;34m(resource_name, paths)\u001b[0m\n\u001b[1;32m    581\u001b[0m     \u001b[0msep\u001b[0m \u001b[0;34m=\u001b[0m \u001b[0;34m\"*\"\u001b[0m \u001b[0;34m*\u001b[0m \u001b[0;36m70\u001b[0m\u001b[0;34m\u001b[0m\u001b[0;34m\u001b[0m\u001b[0m\n\u001b[1;32m    582\u001b[0m     \u001b[0mresource_not_found\u001b[0m \u001b[0;34m=\u001b[0m \u001b[0;34mf\"\\n{sep}\\n{msg}\\n{sep}\\n\"\u001b[0m\u001b[0;34m\u001b[0m\u001b[0;34m\u001b[0m\u001b[0m\n\u001b[0;32m--> 583\u001b[0;31m     \u001b[0;32mraise\u001b[0m \u001b[0mLookupError\u001b[0m\u001b[0;34m(\u001b[0m\u001b[0mresource_not_found\u001b[0m\u001b[0;34m)\u001b[0m\u001b[0;34m\u001b[0m\u001b[0;34m\u001b[0m\u001b[0m\n\u001b[0m\u001b[1;32m    584\u001b[0m \u001b[0;34m\u001b[0m\u001b[0m\n\u001b[1;32m    585\u001b[0m \u001b[0;34m\u001b[0m\u001b[0m\n",
            "\u001b[0;31mLookupError\u001b[0m: \n**********************************************************************\n  Resource \u001b[93mpunkt\u001b[0m not found.\n  Please use the NLTK Downloader to obtain the resource:\n\n  \u001b[31m>>> import nltk\n  >>> nltk.download('punkt')\n  \u001b[0m\n  For more information see: https://www.nltk.org/data.html\n\n  Attempted to load \u001b[93mtokenizers/punkt/PY3/english.pickle\u001b[0m\n\n  Searched in:\n    - '/root/nltk_data'\n    - '/usr/nltk_data'\n    - '/usr/share/nltk_data'\n    - '/usr/lib/nltk_data'\n    - '/usr/share/nltk_data'\n    - '/usr/local/share/nltk_data'\n    - '/usr/lib/nltk_data'\n    - '/usr/local/lib/nltk_data'\n    - ''\n**********************************************************************\n"
          ]
        }
      ]
    },
    {
      "cell_type": "code",
      "source": [
        "# Convert to array and get feature names (vocabulary)\n",
        "feature_array = tfidf_vectorizer.get_feature_names_out()\n",
        "tfidf_sorting = tfidf.toarray().argsort()[:, ::-1]\n",
        "\n",
        "# Get the first N keywords of each document\n",
        "n = 3\n",
        "top_n_keywords = feature_array[tfidf_sorting][:,:n]\n",
        "top_n_keywords"
      ],
      "metadata": {
        "colab": {
          "base_uri": "https://localhost:8080/"
        },
        "id": "5Ucxq-X3GfJP",
        "outputId": "2266af3b-da20-4622-a944-6d02254258e2"
      },
      "execution_count": 53,
      "outputs": [
        {
          "output_type": "execute_result",
          "data": {
            "text/plain": [
              "array([['zero', 'extremist', 'feel'],\n",
              "       ['people', 'today', 'innocent'],\n",
              "       ['historian', 'wouldnt', 'descendant'],\n",
              "       ...,\n",
              "       ['death', '1947', 'order'],\n",
              "       ['zero', 'extremist', 'feel'],\n",
              "       ['apartheid', 'state', 'think']], dtype=object)"
            ]
          },
          "metadata": {},
          "execution_count": 53
        }
      ]
    },
    {
      "cell_type": "markdown",
      "source": [
        "Sentiment Analysis"
      ],
      "metadata": {
        "id": "aPjR0oWCGhyk"
      }
    },
    {
      "cell_type": "code",
      "source": [
        "nltk.download('vader_lexicon')\n"
      ],
      "metadata": {
        "colab": {
          "base_uri": "https://localhost:8080/"
        },
        "id": "ERspRwIb3D0Q",
        "outputId": "c80df7f9-f4a0-40f6-da93-ed85a2365a7d"
      },
      "execution_count": 55,
      "outputs": [
        {
          "output_type": "stream",
          "name": "stderr",
          "text": [
            "[nltk_data] Downloading package vader_lexicon to /root/nltk_data...\n"
          ]
        },
        {
          "output_type": "execute_result",
          "data": {
            "text/plain": [
              "True"
            ]
          },
          "metadata": {},
          "execution_count": 55
        }
      ]
    },
    {
      "cell_type": "code",
      "source": [
        "# Sentiment analysis using VADER\n",
        "sid = SentimentIntensityAnalyzer()\n",
        "df['Sentiments'] = df['Processed body'].apply(lambda x: sid.polarity_scores(x))"
      ],
      "metadata": {
        "id": "lnds8CgnGXj0"
      },
      "execution_count": 56,
      "outputs": []
    },
    {
      "cell_type": "code",
      "source": [
        "df['Sentiments']"
      ],
      "metadata": {
        "colab": {
          "base_uri": "https://localhost:8080/"
        },
        "id": "wP6SDr0_Gm8d",
        "outputId": "4b12e3f6-d73f-41f0-a88d-263678b5bdf2"
      },
      "execution_count": 57,
      "outputs": [
        {
          "output_type": "execute_result",
          "data": {
            "text/plain": [
              "2      {'neg': 0.0, 'neu': 1.0, 'pos': 0.0, 'compound...\n",
              "3      {'neg': 0.215, 'neu': 0.658, 'pos': 0.127, 'co...\n",
              "4      {'neg': 0.0, 'neu': 1.0, 'pos': 0.0, 'compound...\n",
              "5      {'neg': 0.0, 'neu': 1.0, 'pos': 0.0, 'compound...\n",
              "6      {'neg': 0.326, 'neu': 0.407, 'pos': 0.267, 'co...\n",
              "                             ...                        \n",
              "497    {'neg': 0.217, 'neu': 0.608, 'pos': 0.175, 'co...\n",
              "498    {'neg': 0.179, 'neu': 0.539, 'pos': 0.282, 'co...\n",
              "499    {'neg': 0.399, 'neu': 0.468, 'pos': 0.133, 'co...\n",
              "500    {'neg': 1.0, 'neu': 0.0, 'pos': 0.0, 'compound...\n",
              "501    {'neg': 0.353, 'neu': 0.55, 'pos': 0.096, 'com...\n",
              "Name: Sentiments, Length: 500, dtype: object"
            ]
          },
          "metadata": {},
          "execution_count": 57
        }
      ]
    },
    {
      "cell_type": "code",
      "source": [
        "# VADER Sentiment analysis categorisation\n",
        "def classify_sentiment_vader(scores):\n",
        "    if scores['compound'] >= 0.05:\n",
        "        return 'positive'\n",
        "    elif scores['compound'] <= -0.05:\n",
        "        return 'negative'\n",
        "    else:\n",
        "        return 'neutral'\n",
        "\n",
        "df['VADER Sentiment'] = df['Sentiments'].apply(classify_sentiment_vader)\n",
        "df['VADER Sentiment']"
      ],
      "metadata": {
        "id": "JUD8ueShGpSU",
        "colab": {
          "base_uri": "https://localhost:8080/"
        },
        "outputId": "a156866e-a78d-4899-afe7-9f0b439f6300"
      },
      "execution_count": 58,
      "outputs": [
        {
          "output_type": "execute_result",
          "data": {
            "text/plain": [
              "2       neutral\n",
              "3      negative\n",
              "4       neutral\n",
              "5       neutral\n",
              "6      negative\n",
              "         ...   \n",
              "497    negative\n",
              "498    positive\n",
              "499    negative\n",
              "500    negative\n",
              "501    negative\n",
              "Name: VADER Sentiment, Length: 500, dtype: object"
            ]
          },
          "metadata": {},
          "execution_count": 58
        }
      ]
    },
    {
      "cell_type": "code",
      "source": [
        "# Sentiment analysis using TextBlob (alternative)\n",
        "df['TextBlob Sentiment'] = df['Processed body'].apply(lambda x: TextBlob(x).sentiment.polarity)\n",
        "def classify_sentiment_textblob(score):\n",
        "    if score > 0:\n",
        "        return 'positive'\n",
        "    elif score < 0:\n",
        "        return 'negative'\n",
        "    else:\n",
        "        return 'neutral'\n",
        "\n",
        "df['TextBlob Sentiment Category'] = df['TextBlob Sentiment'].apply(classify_sentiment_textblob)\n",
        "df['TextBlob Sentiment Category']"
      ],
      "metadata": {
        "id": "kCCEEYViGtTn",
        "colab": {
          "base_uri": "https://localhost:8080/"
        },
        "outputId": "97dd3d39-0cc3-4fd1-cef9-ab9ef48a8a97"
      },
      "execution_count": 59,
      "outputs": [
        {
          "output_type": "execute_result",
          "data": {
            "text/plain": [
              "2       neutral\n",
              "3      negative\n",
              "4      positive\n",
              "5       neutral\n",
              "6      positive\n",
              "         ...   \n",
              "497    negative\n",
              "498    negative\n",
              "499    positive\n",
              "500     neutral\n",
              "501     neutral\n",
              "Name: TextBlob Sentiment Category, Length: 500, dtype: object"
            ]
          },
          "metadata": {},
          "execution_count": 59
        }
      ]
    },
    {
      "cell_type": "code",
      "source": [
        "df.head()"
      ],
      "metadata": {
        "id": "wn1UpKfbGw8p",
        "colab": {
          "base_uri": "https://localhost:8080/",
          "height": 310
        },
        "outputId": "14b93e57-6546-4dbf-b8cf-f258aee56d2f"
      },
      "execution_count": 60,
      "outputs": [
        {
          "output_type": "execute_result",
          "data": {
            "text/plain": [
              "                                                body  \\\n",
              "2  URL: https://v.redd.it/qetvjinh7zsb1\\nThumbnai...   \n",
              "3  For the past decade or so I have typically sup...   \n",
              "4  Both claim to be the descendants of Abraham th...   \n",
              "5  If that’s the case, then his Native American c...   \n",
              "6  May not be the best analogy but racism kept Je...   \n",
              "\n",
              "                                          Clean body  \\\n",
              "2                 URL \\nThumbnail nsfw\\nImages\\n\\t\\n   \n",
              "3  For the past decade or so I have typically sup...   \n",
              "4  Both claim to be the descendants of Abraham th...   \n",
              "5  If thats the case then his Native American com...   \n",
              "6  May not be the best analogy but racism kept Je...   \n",
              "\n",
              "                                      Processed body  \\\n",
              "2                          URL Thumbnail nsfw Images   \n",
              "3  For past decade I typically supported Palestin...   \n",
              "4  Both claim descendant Abraham though So wouldn...   \n",
              "5  If thats case Native American comment make zer...   \n",
              "6  May best analogy racism kept Jews finding new ...   \n",
              "\n",
              "                                          Sentiments VADER Sentiment  \\\n",
              "2  {'neg': 0.0, 'neu': 1.0, 'pos': 0.0, 'compound...         neutral   \n",
              "3  {'neg': 0.215, 'neu': 0.658, 'pos': 0.127, 'co...        negative   \n",
              "4  {'neg': 0.0, 'neu': 1.0, 'pos': 0.0, 'compound...         neutral   \n",
              "5  {'neg': 0.0, 'neu': 1.0, 'pos': 0.0, 'compound...         neutral   \n",
              "6  {'neg': 0.326, 'neu': 0.407, 'pos': 0.267, 'co...        negative   \n",
              "\n",
              "   TextBlob Sentiment TextBlob Sentiment Category  \n",
              "2            0.000000                     neutral  \n",
              "3           -0.046088                    negative  \n",
              "4            0.093750                    positive  \n",
              "5            0.000000                     neutral  \n",
              "6            0.148377                    positive  "
            ],
            "text/html": [
              "\n",
              "  <div id=\"df-3b425022-4fb7-49dd-85fc-65fb5e2a62dd\" class=\"colab-df-container\">\n",
              "    <div>\n",
              "<style scoped>\n",
              "    .dataframe tbody tr th:only-of-type {\n",
              "        vertical-align: middle;\n",
              "    }\n",
              "\n",
              "    .dataframe tbody tr th {\n",
              "        vertical-align: top;\n",
              "    }\n",
              "\n",
              "    .dataframe thead th {\n",
              "        text-align: right;\n",
              "    }\n",
              "</style>\n",
              "<table border=\"1\" class=\"dataframe\">\n",
              "  <thead>\n",
              "    <tr style=\"text-align: right;\">\n",
              "      <th></th>\n",
              "      <th>body</th>\n",
              "      <th>Clean body</th>\n",
              "      <th>Processed body</th>\n",
              "      <th>Sentiments</th>\n",
              "      <th>VADER Sentiment</th>\n",
              "      <th>TextBlob Sentiment</th>\n",
              "      <th>TextBlob Sentiment Category</th>\n",
              "    </tr>\n",
              "  </thead>\n",
              "  <tbody>\n",
              "    <tr>\n",
              "      <th>2</th>\n",
              "      <td>URL: https://v.redd.it/qetvjinh7zsb1\\nThumbnai...</td>\n",
              "      <td>URL \\nThumbnail nsfw\\nImages\\n\\t\\n</td>\n",
              "      <td>URL Thumbnail nsfw Images</td>\n",
              "      <td>{'neg': 0.0, 'neu': 1.0, 'pos': 0.0, 'compound...</td>\n",
              "      <td>neutral</td>\n",
              "      <td>0.000000</td>\n",
              "      <td>neutral</td>\n",
              "    </tr>\n",
              "    <tr>\n",
              "      <th>3</th>\n",
              "      <td>For the past decade or so I have typically sup...</td>\n",
              "      <td>For the past decade or so I have typically sup...</td>\n",
              "      <td>For past decade I typically supported Palestin...</td>\n",
              "      <td>{'neg': 0.215, 'neu': 0.658, 'pos': 0.127, 'co...</td>\n",
              "      <td>negative</td>\n",
              "      <td>-0.046088</td>\n",
              "      <td>negative</td>\n",
              "    </tr>\n",
              "    <tr>\n",
              "      <th>4</th>\n",
              "      <td>Both claim to be the descendants of Abraham th...</td>\n",
              "      <td>Both claim to be the descendants of Abraham th...</td>\n",
              "      <td>Both claim descendant Abraham though So wouldn...</td>\n",
              "      <td>{'neg': 0.0, 'neu': 1.0, 'pos': 0.0, 'compound...</td>\n",
              "      <td>neutral</td>\n",
              "      <td>0.093750</td>\n",
              "      <td>positive</td>\n",
              "    </tr>\n",
              "    <tr>\n",
              "      <th>5</th>\n",
              "      <td>If that’s the case, then his Native American c...</td>\n",
              "      <td>If thats the case then his Native American com...</td>\n",
              "      <td>If thats case Native American comment make zer...</td>\n",
              "      <td>{'neg': 0.0, 'neu': 1.0, 'pos': 0.0, 'compound...</td>\n",
              "      <td>neutral</td>\n",
              "      <td>0.000000</td>\n",
              "      <td>neutral</td>\n",
              "    </tr>\n",
              "    <tr>\n",
              "      <th>6</th>\n",
              "      <td>May not be the best analogy but racism kept Je...</td>\n",
              "      <td>May not be the best analogy but racism kept Je...</td>\n",
              "      <td>May best analogy racism kept Jews finding new ...</td>\n",
              "      <td>{'neg': 0.326, 'neu': 0.407, 'pos': 0.267, 'co...</td>\n",
              "      <td>negative</td>\n",
              "      <td>0.148377</td>\n",
              "      <td>positive</td>\n",
              "    </tr>\n",
              "  </tbody>\n",
              "</table>\n",
              "</div>\n",
              "    <div class=\"colab-df-buttons\">\n",
              "\n",
              "  <div class=\"colab-df-container\">\n",
              "    <button class=\"colab-df-convert\" onclick=\"convertToInteractive('df-3b425022-4fb7-49dd-85fc-65fb5e2a62dd')\"\n",
              "            title=\"Convert this dataframe to an interactive table.\"\n",
              "            style=\"display:none;\">\n",
              "\n",
              "  <svg xmlns=\"http://www.w3.org/2000/svg\" height=\"24px\" viewBox=\"0 -960 960 960\">\n",
              "    <path d=\"M120-120v-720h720v720H120Zm60-500h600v-160H180v160Zm220 220h160v-160H400v160Zm0 220h160v-160H400v160ZM180-400h160v-160H180v160Zm440 0h160v-160H620v160ZM180-180h160v-160H180v160Zm440 0h160v-160H620v160Z\"/>\n",
              "  </svg>\n",
              "    </button>\n",
              "\n",
              "  <style>\n",
              "    .colab-df-container {\n",
              "      display:flex;\n",
              "      gap: 12px;\n",
              "    }\n",
              "\n",
              "    .colab-df-convert {\n",
              "      background-color: #E8F0FE;\n",
              "      border: none;\n",
              "      border-radius: 50%;\n",
              "      cursor: pointer;\n",
              "      display: none;\n",
              "      fill: #1967D2;\n",
              "      height: 32px;\n",
              "      padding: 0 0 0 0;\n",
              "      width: 32px;\n",
              "    }\n",
              "\n",
              "    .colab-df-convert:hover {\n",
              "      background-color: #E2EBFA;\n",
              "      box-shadow: 0px 1px 2px rgba(60, 64, 67, 0.3), 0px 1px 3px 1px rgba(60, 64, 67, 0.15);\n",
              "      fill: #174EA6;\n",
              "    }\n",
              "\n",
              "    .colab-df-buttons div {\n",
              "      margin-bottom: 4px;\n",
              "    }\n",
              "\n",
              "    [theme=dark] .colab-df-convert {\n",
              "      background-color: #3B4455;\n",
              "      fill: #D2E3FC;\n",
              "    }\n",
              "\n",
              "    [theme=dark] .colab-df-convert:hover {\n",
              "      background-color: #434B5C;\n",
              "      box-shadow: 0px 1px 3px 1px rgba(0, 0, 0, 0.15);\n",
              "      filter: drop-shadow(0px 1px 2px rgba(0, 0, 0, 0.3));\n",
              "      fill: #FFFFFF;\n",
              "    }\n",
              "  </style>\n",
              "\n",
              "    <script>\n",
              "      const buttonEl =\n",
              "        document.querySelector('#df-3b425022-4fb7-49dd-85fc-65fb5e2a62dd button.colab-df-convert');\n",
              "      buttonEl.style.display =\n",
              "        google.colab.kernel.accessAllowed ? 'block' : 'none';\n",
              "\n",
              "      async function convertToInteractive(key) {\n",
              "        const element = document.querySelector('#df-3b425022-4fb7-49dd-85fc-65fb5e2a62dd');\n",
              "        const dataTable =\n",
              "          await google.colab.kernel.invokeFunction('convertToInteractive',\n",
              "                                                    [key], {});\n",
              "        if (!dataTable) return;\n",
              "\n",
              "        const docLinkHtml = 'Like what you see? Visit the ' +\n",
              "          '<a target=\"_blank\" href=https://colab.research.google.com/notebooks/data_table.ipynb>data table notebook</a>'\n",
              "          + ' to learn more about interactive tables.';\n",
              "        element.innerHTML = '';\n",
              "        dataTable['output_type'] = 'display_data';\n",
              "        await google.colab.output.renderOutput(dataTable, element);\n",
              "        const docLink = document.createElement('div');\n",
              "        docLink.innerHTML = docLinkHtml;\n",
              "        element.appendChild(docLink);\n",
              "      }\n",
              "    </script>\n",
              "  </div>\n",
              "\n",
              "\n",
              "<div id=\"df-a3008d18-a099-49e8-aa11-bae609cea6b6\">\n",
              "  <button class=\"colab-df-quickchart\" onclick=\"quickchart('df-a3008d18-a099-49e8-aa11-bae609cea6b6')\"\n",
              "            title=\"Suggest charts\"\n",
              "            style=\"display:none;\">\n",
              "\n",
              "<svg xmlns=\"http://www.w3.org/2000/svg\" height=\"24px\"viewBox=\"0 0 24 24\"\n",
              "     width=\"24px\">\n",
              "    <g>\n",
              "        <path d=\"M19 3H5c-1.1 0-2 .9-2 2v14c0 1.1.9 2 2 2h14c1.1 0 2-.9 2-2V5c0-1.1-.9-2-2-2zM9 17H7v-7h2v7zm4 0h-2V7h2v10zm4 0h-2v-4h2v4z\"/>\n",
              "    </g>\n",
              "</svg>\n",
              "  </button>\n",
              "\n",
              "<style>\n",
              "  .colab-df-quickchart {\n",
              "      --bg-color: #E8F0FE;\n",
              "      --fill-color: #1967D2;\n",
              "      --hover-bg-color: #E2EBFA;\n",
              "      --hover-fill-color: #174EA6;\n",
              "      --disabled-fill-color: #AAA;\n",
              "      --disabled-bg-color: #DDD;\n",
              "  }\n",
              "\n",
              "  [theme=dark] .colab-df-quickchart {\n",
              "      --bg-color: #3B4455;\n",
              "      --fill-color: #D2E3FC;\n",
              "      --hover-bg-color: #434B5C;\n",
              "      --hover-fill-color: #FFFFFF;\n",
              "      --disabled-bg-color: #3B4455;\n",
              "      --disabled-fill-color: #666;\n",
              "  }\n",
              "\n",
              "  .colab-df-quickchart {\n",
              "    background-color: var(--bg-color);\n",
              "    border: none;\n",
              "    border-radius: 50%;\n",
              "    cursor: pointer;\n",
              "    display: none;\n",
              "    fill: var(--fill-color);\n",
              "    height: 32px;\n",
              "    padding: 0;\n",
              "    width: 32px;\n",
              "  }\n",
              "\n",
              "  .colab-df-quickchart:hover {\n",
              "    background-color: var(--hover-bg-color);\n",
              "    box-shadow: 0 1px 2px rgba(60, 64, 67, 0.3), 0 1px 3px 1px rgba(60, 64, 67, 0.15);\n",
              "    fill: var(--button-hover-fill-color);\n",
              "  }\n",
              "\n",
              "  .colab-df-quickchart-complete:disabled,\n",
              "  .colab-df-quickchart-complete:disabled:hover {\n",
              "    background-color: var(--disabled-bg-color);\n",
              "    fill: var(--disabled-fill-color);\n",
              "    box-shadow: none;\n",
              "  }\n",
              "\n",
              "  .colab-df-spinner {\n",
              "    border: 2px solid var(--fill-color);\n",
              "    border-color: transparent;\n",
              "    border-bottom-color: var(--fill-color);\n",
              "    animation:\n",
              "      spin 1s steps(1) infinite;\n",
              "  }\n",
              "\n",
              "  @keyframes spin {\n",
              "    0% {\n",
              "      border-color: transparent;\n",
              "      border-bottom-color: var(--fill-color);\n",
              "      border-left-color: var(--fill-color);\n",
              "    }\n",
              "    20% {\n",
              "      border-color: transparent;\n",
              "      border-left-color: var(--fill-color);\n",
              "      border-top-color: var(--fill-color);\n",
              "    }\n",
              "    30% {\n",
              "      border-color: transparent;\n",
              "      border-left-color: var(--fill-color);\n",
              "      border-top-color: var(--fill-color);\n",
              "      border-right-color: var(--fill-color);\n",
              "    }\n",
              "    40% {\n",
              "      border-color: transparent;\n",
              "      border-right-color: var(--fill-color);\n",
              "      border-top-color: var(--fill-color);\n",
              "    }\n",
              "    60% {\n",
              "      border-color: transparent;\n",
              "      border-right-color: var(--fill-color);\n",
              "    }\n",
              "    80% {\n",
              "      border-color: transparent;\n",
              "      border-right-color: var(--fill-color);\n",
              "      border-bottom-color: var(--fill-color);\n",
              "    }\n",
              "    90% {\n",
              "      border-color: transparent;\n",
              "      border-bottom-color: var(--fill-color);\n",
              "    }\n",
              "  }\n",
              "</style>\n",
              "\n",
              "  <script>\n",
              "    async function quickchart(key) {\n",
              "      const quickchartButtonEl =\n",
              "        document.querySelector('#' + key + ' button');\n",
              "      quickchartButtonEl.disabled = true;  // To prevent multiple clicks.\n",
              "      quickchartButtonEl.classList.add('colab-df-spinner');\n",
              "      try {\n",
              "        const charts = await google.colab.kernel.invokeFunction(\n",
              "            'suggestCharts', [key], {});\n",
              "      } catch (error) {\n",
              "        console.error('Error during call to suggestCharts:', error);\n",
              "      }\n",
              "      quickchartButtonEl.classList.remove('colab-df-spinner');\n",
              "      quickchartButtonEl.classList.add('colab-df-quickchart-complete');\n",
              "    }\n",
              "    (() => {\n",
              "      let quickchartButtonEl =\n",
              "        document.querySelector('#df-a3008d18-a099-49e8-aa11-bae609cea6b6 button');\n",
              "      quickchartButtonEl.style.display =\n",
              "        google.colab.kernel.accessAllowed ? 'block' : 'none';\n",
              "    })();\n",
              "  </script>\n",
              "</div>\n",
              "    </div>\n",
              "  </div>\n"
            ],
            "application/vnd.google.colaboratory.intrinsic+json": {
              "type": "dataframe",
              "variable_name": "df",
              "summary": "{\n  \"name\": \"df\",\n  \"rows\": 500,\n  \"fields\": [\n    {\n      \"column\": \"body\",\n      \"properties\": {\n        \"dtype\": \"string\",\n        \"num_unique_values\": 453,\n        \"samples\": [\n          \"Stop bringing in context? Like you can absolutely condemn the actions of hamas while also criticizing what israel has done in the region. Personally i support neither side. Hamas is a terrorist org and israel has been surpressing palestinians.  \\n\\nObviously i condemn the actions of hamas, i also will not pick a side to the conflict.\",\n          \"Feel like this aggressive of sarcasm deserves a /s \\ud83e\\udd74\",\n          \"The Jews have been stealing Palestinian land since the 1918s and backed by an illegal Balfour declaration pushed thru which allowed the Jews to steal land from Muslim and Christian Palestinians.\"\n        ],\n        \"semantic_type\": \"\",\n        \"description\": \"\"\n      }\n    },\n    {\n      \"column\": \"Clean body\",\n      \"properties\": {\n        \"dtype\": \"string\",\n        \"num_unique_values\": 452,\n        \"samples\": [\n          \"This is so disgusting and off base\",\n          \"Feel like this aggressive of sarcasm deserves a s \",\n          \"No one thinks murdering random citizens is a good or normal thing What people have been pointing out for decades is that what complicates things in this conflict is that both sides are committing those same atrocities Depending on where you live the atrocities of one side simply receive more attention than the other\"\n        ],\n        \"semantic_type\": \"\",\n        \"description\": \"\"\n      }\n    },\n    {\n      \"column\": \"Processed body\",\n      \"properties\": {\n        \"dtype\": \"string\",\n        \"num_unique_values\": 452,\n        \"samples\": [\n          \"This disgusting base\",\n          \"Feel like aggressive sarcasm deserves\",\n          \"No one think murdering random citizen good normal thing What people pointing decade complicates thing conflict side committing atrocity Depending live atrocity one side simply receive attention\"\n        ],\n        \"semantic_type\": \"\",\n        \"description\": \"\"\n      }\n    },\n    {\n      \"column\": \"Sentiments\",\n      \"properties\": {\n        \"dtype\": \"object\",\n        \"semantic_type\": \"\",\n        \"description\": \"\"\n      }\n    },\n    {\n      \"column\": \"VADER Sentiment\",\n      \"properties\": {\n        \"dtype\": \"category\",\n        \"num_unique_values\": 3,\n        \"samples\": [\n          \"neutral\",\n          \"negative\",\n          \"positive\"\n        ],\n        \"semantic_type\": \"\",\n        \"description\": \"\"\n      }\n    },\n    {\n      \"column\": \"TextBlob Sentiment\",\n      \"properties\": {\n        \"dtype\": \"number\",\n        \"std\": 0.244414669396553,\n        \"min\": -1.0,\n        \"max\": 0.7,\n        \"num_unique_values\": 228,\n        \"samples\": [\n          0.0875,\n          -0.0050000000000000044,\n          0.16944444444444443\n        ],\n        \"semantic_type\": \"\",\n        \"description\": \"\"\n      }\n    },\n    {\n      \"column\": \"TextBlob Sentiment Category\",\n      \"properties\": {\n        \"dtype\": \"category\",\n        \"num_unique_values\": 3,\n        \"samples\": [\n          \"neutral\",\n          \"negative\",\n          \"positive\"\n        ],\n        \"semantic_type\": \"\",\n        \"description\": \"\"\n      }\n    }\n  ]\n}"
            }
          },
          "metadata": {},
          "execution_count": 60
        }
      ]
    },
    {
      "cell_type": "code",
      "source": [
        "df.to_csv('Processed_dataset_withsentiment.csv', index = False)"
      ],
      "metadata": {
        "id": "jvshAA1dGy7f"
      },
      "execution_count": 61,
      "outputs": []
    },
    {
      "cell_type": "code",
      "source": [
        "posts = df[df['dataType'] == 'post']['TextBlob Sentiment Category']\n",
        "comments = df[df['dataType'] == 'comment']['TextBlob Sentiment Category']\n",
        "\n",
        "posts_value_counts = posts.value_counts().sort_index()\n",
        "comments_value_counts = comments.value_counts().sort_index()\n",
        "\n",
        "plt.figure(figsize=(12, 5))\n",
        "plt.subplot(1, 2, 1)\n",
        "posts_value_counts.plot(kind='bar', color='skyblue', title='Posts Sentiment Distribution')\n",
        "\n",
        "plt.xlabel('Sentiment')\n",
        "plt.ylabel('Count')\n",
        "plt.subplot(1, 2, 2)\n",
        "comments_value_counts.plot(kind='bar', color='lightgreen', title='Comments Sentiment Distribution')\n",
        "plt.xlabel('Sentiment')\n",
        "plt.ylabel('Count')\n",
        "\n",
        "plt.tight_layout()\n",
        "plt.show()"
      ],
      "metadata": {
        "id": "L7A8XjR9G8b5",
        "colab": {
          "base_uri": "https://localhost:8080/",
          "height": 477
        },
        "outputId": "6a7be35a-547c-45c2-ddcd-0edda1f497d0"
      },
      "execution_count": 62,
      "outputs": [
        {
          "output_type": "error",
          "ename": "KeyError",
          "evalue": "'dataType'",
          "traceback": [
            "\u001b[0;31m---------------------------------------------------------------------------\u001b[0m",
            "\u001b[0;31mKeyError\u001b[0m                                  Traceback (most recent call last)",
            "\u001b[0;32m/usr/local/lib/python3.10/dist-packages/pandas/core/indexes/base.py\u001b[0m in \u001b[0;36mget_loc\u001b[0;34m(self, key)\u001b[0m\n\u001b[1;32m   3652\u001b[0m         \u001b[0;32mtry\u001b[0m\u001b[0;34m:\u001b[0m\u001b[0;34m\u001b[0m\u001b[0;34m\u001b[0m\u001b[0m\n\u001b[0;32m-> 3653\u001b[0;31m             \u001b[0;32mreturn\u001b[0m \u001b[0mself\u001b[0m\u001b[0;34m.\u001b[0m\u001b[0m_engine\u001b[0m\u001b[0;34m.\u001b[0m\u001b[0mget_loc\u001b[0m\u001b[0;34m(\u001b[0m\u001b[0mcasted_key\u001b[0m\u001b[0;34m)\u001b[0m\u001b[0;34m\u001b[0m\u001b[0;34m\u001b[0m\u001b[0m\n\u001b[0m\u001b[1;32m   3654\u001b[0m         \u001b[0;32mexcept\u001b[0m \u001b[0mKeyError\u001b[0m \u001b[0;32mas\u001b[0m \u001b[0merr\u001b[0m\u001b[0;34m:\u001b[0m\u001b[0;34m\u001b[0m\u001b[0;34m\u001b[0m\u001b[0m\n",
            "\u001b[0;32m/usr/local/lib/python3.10/dist-packages/pandas/_libs/index.pyx\u001b[0m in \u001b[0;36mpandas._libs.index.IndexEngine.get_loc\u001b[0;34m()\u001b[0m\n",
            "\u001b[0;32m/usr/local/lib/python3.10/dist-packages/pandas/_libs/index.pyx\u001b[0m in \u001b[0;36mpandas._libs.index.IndexEngine.get_loc\u001b[0;34m()\u001b[0m\n",
            "\u001b[0;32mpandas/_libs/hashtable_class_helper.pxi\u001b[0m in \u001b[0;36mpandas._libs.hashtable.PyObjectHashTable.get_item\u001b[0;34m()\u001b[0m\n",
            "\u001b[0;32mpandas/_libs/hashtable_class_helper.pxi\u001b[0m in \u001b[0;36mpandas._libs.hashtable.PyObjectHashTable.get_item\u001b[0;34m()\u001b[0m\n",
            "\u001b[0;31mKeyError\u001b[0m: 'dataType'",
            "\nThe above exception was the direct cause of the following exception:\n",
            "\u001b[0;31mKeyError\u001b[0m                                  Traceback (most recent call last)",
            "\u001b[0;32m<ipython-input-62-8c2d2dac50c7>\u001b[0m in \u001b[0;36m<cell line: 1>\u001b[0;34m()\u001b[0m\n\u001b[0;32m----> 1\u001b[0;31m \u001b[0mposts\u001b[0m \u001b[0;34m=\u001b[0m \u001b[0mdf\u001b[0m\u001b[0;34m[\u001b[0m\u001b[0mdf\u001b[0m\u001b[0;34m[\u001b[0m\u001b[0;34m'dataType'\u001b[0m\u001b[0;34m]\u001b[0m \u001b[0;34m==\u001b[0m \u001b[0;34m'post'\u001b[0m\u001b[0;34m]\u001b[0m\u001b[0;34m[\u001b[0m\u001b[0;34m'TextBlob Sentiment Category'\u001b[0m\u001b[0;34m]\u001b[0m\u001b[0;34m\u001b[0m\u001b[0;34m\u001b[0m\u001b[0m\n\u001b[0m\u001b[1;32m      2\u001b[0m \u001b[0mcomments\u001b[0m \u001b[0;34m=\u001b[0m \u001b[0mdf\u001b[0m\u001b[0;34m[\u001b[0m\u001b[0mdf\u001b[0m\u001b[0;34m[\u001b[0m\u001b[0;34m'dataType'\u001b[0m\u001b[0;34m]\u001b[0m \u001b[0;34m==\u001b[0m \u001b[0;34m'comment'\u001b[0m\u001b[0;34m]\u001b[0m\u001b[0;34m[\u001b[0m\u001b[0;34m'TextBlob Sentiment Category'\u001b[0m\u001b[0;34m]\u001b[0m\u001b[0;34m\u001b[0m\u001b[0;34m\u001b[0m\u001b[0m\n\u001b[1;32m      3\u001b[0m \u001b[0;34m\u001b[0m\u001b[0m\n\u001b[1;32m      4\u001b[0m \u001b[0mposts_value_counts\u001b[0m \u001b[0;34m=\u001b[0m \u001b[0mposts\u001b[0m\u001b[0;34m.\u001b[0m\u001b[0mvalue_counts\u001b[0m\u001b[0;34m(\u001b[0m\u001b[0;34m)\u001b[0m\u001b[0;34m.\u001b[0m\u001b[0msort_index\u001b[0m\u001b[0;34m(\u001b[0m\u001b[0;34m)\u001b[0m\u001b[0;34m\u001b[0m\u001b[0;34m\u001b[0m\u001b[0m\n\u001b[1;32m      5\u001b[0m \u001b[0mcomments_value_counts\u001b[0m \u001b[0;34m=\u001b[0m \u001b[0mcomments\u001b[0m\u001b[0;34m.\u001b[0m\u001b[0mvalue_counts\u001b[0m\u001b[0;34m(\u001b[0m\u001b[0;34m)\u001b[0m\u001b[0;34m.\u001b[0m\u001b[0msort_index\u001b[0m\u001b[0;34m(\u001b[0m\u001b[0;34m)\u001b[0m\u001b[0;34m\u001b[0m\u001b[0;34m\u001b[0m\u001b[0m\n",
            "\u001b[0;32m/usr/local/lib/python3.10/dist-packages/pandas/core/frame.py\u001b[0m in \u001b[0;36m__getitem__\u001b[0;34m(self, key)\u001b[0m\n\u001b[1;32m   3759\u001b[0m             \u001b[0;32mif\u001b[0m \u001b[0mself\u001b[0m\u001b[0;34m.\u001b[0m\u001b[0mcolumns\u001b[0m\u001b[0;34m.\u001b[0m\u001b[0mnlevels\u001b[0m \u001b[0;34m>\u001b[0m \u001b[0;36m1\u001b[0m\u001b[0;34m:\u001b[0m\u001b[0;34m\u001b[0m\u001b[0;34m\u001b[0m\u001b[0m\n\u001b[1;32m   3760\u001b[0m                 \u001b[0;32mreturn\u001b[0m \u001b[0mself\u001b[0m\u001b[0;34m.\u001b[0m\u001b[0m_getitem_multilevel\u001b[0m\u001b[0;34m(\u001b[0m\u001b[0mkey\u001b[0m\u001b[0;34m)\u001b[0m\u001b[0;34m\u001b[0m\u001b[0;34m\u001b[0m\u001b[0m\n\u001b[0;32m-> 3761\u001b[0;31m             \u001b[0mindexer\u001b[0m \u001b[0;34m=\u001b[0m \u001b[0mself\u001b[0m\u001b[0;34m.\u001b[0m\u001b[0mcolumns\u001b[0m\u001b[0;34m.\u001b[0m\u001b[0mget_loc\u001b[0m\u001b[0;34m(\u001b[0m\u001b[0mkey\u001b[0m\u001b[0;34m)\u001b[0m\u001b[0;34m\u001b[0m\u001b[0;34m\u001b[0m\u001b[0m\n\u001b[0m\u001b[1;32m   3762\u001b[0m             \u001b[0;32mif\u001b[0m \u001b[0mis_integer\u001b[0m\u001b[0;34m(\u001b[0m\u001b[0mindexer\u001b[0m\u001b[0;34m)\u001b[0m\u001b[0;34m:\u001b[0m\u001b[0;34m\u001b[0m\u001b[0;34m\u001b[0m\u001b[0m\n\u001b[1;32m   3763\u001b[0m                 \u001b[0mindexer\u001b[0m \u001b[0;34m=\u001b[0m \u001b[0;34m[\u001b[0m\u001b[0mindexer\u001b[0m\u001b[0;34m]\u001b[0m\u001b[0;34m\u001b[0m\u001b[0;34m\u001b[0m\u001b[0m\n",
            "\u001b[0;32m/usr/local/lib/python3.10/dist-packages/pandas/core/indexes/base.py\u001b[0m in \u001b[0;36mget_loc\u001b[0;34m(self, key)\u001b[0m\n\u001b[1;32m   3653\u001b[0m             \u001b[0;32mreturn\u001b[0m \u001b[0mself\u001b[0m\u001b[0;34m.\u001b[0m\u001b[0m_engine\u001b[0m\u001b[0;34m.\u001b[0m\u001b[0mget_loc\u001b[0m\u001b[0;34m(\u001b[0m\u001b[0mcasted_key\u001b[0m\u001b[0;34m)\u001b[0m\u001b[0;34m\u001b[0m\u001b[0;34m\u001b[0m\u001b[0m\n\u001b[1;32m   3654\u001b[0m         \u001b[0;32mexcept\u001b[0m \u001b[0mKeyError\u001b[0m \u001b[0;32mas\u001b[0m \u001b[0merr\u001b[0m\u001b[0;34m:\u001b[0m\u001b[0;34m\u001b[0m\u001b[0;34m\u001b[0m\u001b[0m\n\u001b[0;32m-> 3655\u001b[0;31m             \u001b[0;32mraise\u001b[0m \u001b[0mKeyError\u001b[0m\u001b[0;34m(\u001b[0m\u001b[0mkey\u001b[0m\u001b[0;34m)\u001b[0m \u001b[0;32mfrom\u001b[0m \u001b[0merr\u001b[0m\u001b[0;34m\u001b[0m\u001b[0;34m\u001b[0m\u001b[0m\n\u001b[0m\u001b[1;32m   3656\u001b[0m         \u001b[0;32mexcept\u001b[0m \u001b[0mTypeError\u001b[0m\u001b[0;34m:\u001b[0m\u001b[0;34m\u001b[0m\u001b[0;34m\u001b[0m\u001b[0m\n\u001b[1;32m   3657\u001b[0m             \u001b[0;31m# If we have a listlike key, _check_indexing_error will raise\u001b[0m\u001b[0;34m\u001b[0m\u001b[0;34m\u001b[0m\u001b[0m\n",
            "\u001b[0;31mKeyError\u001b[0m: 'dataType'"
          ]
        }
      ]
    },
    {
      "cell_type": "markdown",
      "source": [
        "Topic Modeling"
      ],
      "metadata": {
        "id": "NC7joC4kHBWu"
      }
    },
    {
      "cell_type": "code",
      "source": [
        "nltk.download('punkt')"
      ],
      "metadata": {
        "colab": {
          "base_uri": "https://localhost:8080/"
        },
        "id": "siQkIJJK3YLr",
        "outputId": "7a5087d0-65bf-4014-ee29-693a7ac677c7"
      },
      "execution_count": 64,
      "outputs": [
        {
          "output_type": "stream",
          "name": "stderr",
          "text": [
            "[nltk_data] Downloading package punkt to /root/nltk_data...\n",
            "[nltk_data]   Unzipping tokenizers/punkt.zip.\n"
          ]
        },
        {
          "output_type": "execute_result",
          "data": {
            "text/plain": [
              "True"
            ]
          },
          "metadata": {},
          "execution_count": 64
        }
      ]
    },
    {
      "cell_type": "code",
      "source": [
        "from collections import defaultdict\n",
        "texts = [word_tokenize(doc) for doc in df['Processed body'] if word_tokenize(doc)]\n",
        "# Remove very low-frequency words\n",
        "frequency = defaultdict(int)\n",
        "for text in texts:\n",
        "    for token in text:\n",
        "        frequency[token] += 1\n",
        "\n",
        "texts = [[token for token in text if frequency[token] > 1] for text in texts]\n",
        "\n",
        "dictionary = corpora.Dictionary(texts)\n",
        "corpus = [dictionary.doc2bow(text) for text in texts]\n",
        "\n",
        "ldamodel = LdaModel(corpus, num_topics=10, id2word=dictionary, passes=15)"
      ],
      "metadata": {
        "id": "KyhxZoBYHA4z"
      },
      "execution_count": 65,
      "outputs": []
    },
    {
      "cell_type": "code",
      "source": [
        "topics = ldamodel.print_topics(num_words=2)\n",
        "for topic in topics:\n",
        "    print(topic)"
      ],
      "metadata": {
        "id": "JnA7cug2HIgn",
        "colab": {
          "base_uri": "https://localhost:8080/"
        },
        "outputId": "213f1346-8c89-49c1-d4c6-1e8104895f26"
      },
      "execution_count": 66,
      "outputs": [
        {
          "output_type": "stream",
          "name": "stdout",
          "text": [
            "(0, '0.030*\"I\" + 0.025*\"removed\"')\n",
            "(1, '0.029*\"I\" + 0.016*\"Israel\"')\n",
            "(2, '0.026*\"Israel\" + 0.022*\"deleted\"')\n",
            "(3, '0.025*\"people\" + 0.022*\"Hamas\"')\n",
            "(4, '0.030*\"I\" + 0.023*\"side\"')\n",
            "(5, '0.018*\"Palestine\" + 0.017*\"Israel\"')\n",
            "(6, '0.035*\"argument\" + 0.032*\"debate\"')\n",
            "(7, '0.034*\"I\" + 0.029*\"Please\"')\n",
            "(8, '0.018*\"I\" + 0.014*\"The\"')\n",
            "(9, '0.018*\"Israel\" + 0.015*\"people\"')\n"
          ]
        }
      ]
    },
    {
      "cell_type": "code",
      "source": [
        "topics = ldamodel.print_topics(num_words=5)\n",
        "for topic in topics:\n",
        "    print(topic)"
      ],
      "metadata": {
        "id": "5-JLy90BHN7O",
        "colab": {
          "base_uri": "https://localhost:8080/"
        },
        "outputId": "51f843c8-9f40-4e81-cc5f-05654408ff29"
      },
      "execution_count": 67,
      "outputs": [
        {
          "output_type": "stream",
          "name": "stdout",
          "text": [
            "(0, '0.030*\"I\" + 0.025*\"removed\" + 0.021*\"comment\" + 0.018*\"civilian\" + 0.012*\"Palestinians\"')\n",
            "(1, '0.029*\"I\" + 0.016*\"Israel\" + 0.016*\"Jews\" + 0.013*\"think\" + 0.012*\"dont\"')\n",
            "(2, '0.026*\"Israel\" + 0.022*\"deleted\" + 0.019*\"people\" + 0.013*\"Jews\" + 0.013*\"Jewish\"')\n",
            "(3, '0.025*\"people\" + 0.022*\"Hamas\" + 0.019*\"Israel\" + 0.016*\"I\" + 0.014*\"one\"')\n",
            "(4, '0.030*\"I\" + 0.023*\"side\" + 0.020*\"Israel\" + 0.016*\"people\" + 0.014*\"civilian\"')\n",
            "(5, '0.018*\"Palestine\" + 0.017*\"Israel\" + 0.016*\"year\" + 0.010*\"Jews\" + 0.010*\"Israeli\"')\n",
            "(6, '0.035*\"argument\" + 0.032*\"debate\" + 0.020*\"group\" + 0.017*\"rule\" + 0.016*\"negative\"')\n",
            "(7, '0.034*\"I\" + 0.029*\"Please\" + 0.017*\"bot\" + 0.016*\"question\" + 0.016*\"using\"')\n",
            "(8, '0.018*\"I\" + 0.014*\"The\" + 0.012*\"Hamas\" + 0.010*\"Israel\" + 0.009*\"life\"')\n",
            "(9, '0.018*\"Israel\" + 0.015*\"people\" + 0.015*\"Palestinians\" + 0.013*\"You\" + 0.012*\"need\"')\n"
          ]
        }
      ]
    },
    {
      "cell_type": "code",
      "source": [
        "pip install pyLDAvis"
      ],
      "metadata": {
        "colab": {
          "base_uri": "https://localhost:8080/"
        },
        "id": "ys8rwrbo3js2",
        "outputId": "1321e73c-2020-4dd4-d3fb-da195f732fd6"
      },
      "execution_count": 69,
      "outputs": [
        {
          "output_type": "stream",
          "name": "stdout",
          "text": [
            "Collecting pyLDAvis\n",
            "  Downloading pyLDAvis-3.4.1-py3-none-any.whl (2.6 MB)\n",
            "\u001b[2K     \u001b[90m━━━━━━━━━━━━━━━━━━━━━━━━━━━━━━━━━━━━━━━━\u001b[0m \u001b[32m2.6/2.6 MB\u001b[0m \u001b[31m14.1 MB/s\u001b[0m eta \u001b[36m0:00:00\u001b[0m\n",
            "\u001b[?25hRequirement already satisfied: numpy>=1.24.2 in /usr/local/lib/python3.10/dist-packages (from pyLDAvis) (1.25.2)\n",
            "Requirement already satisfied: scipy in /usr/local/lib/python3.10/dist-packages (from pyLDAvis) (1.11.4)\n",
            "Requirement already satisfied: pandas>=2.0.0 in /usr/local/lib/python3.10/dist-packages (from pyLDAvis) (2.0.3)\n",
            "Requirement already satisfied: joblib>=1.2.0 in /usr/local/lib/python3.10/dist-packages (from pyLDAvis) (1.4.2)\n",
            "Requirement already satisfied: jinja2 in /usr/local/lib/python3.10/dist-packages (from pyLDAvis) (3.1.4)\n",
            "Requirement already satisfied: numexpr in /usr/local/lib/python3.10/dist-packages (from pyLDAvis) (2.10.0)\n",
            "Collecting funcy (from pyLDAvis)\n",
            "  Downloading funcy-2.0-py2.py3-none-any.whl (30 kB)\n",
            "Requirement already satisfied: scikit-learn>=1.0.0 in /usr/local/lib/python3.10/dist-packages (from pyLDAvis) (1.2.2)\n",
            "Requirement already satisfied: gensim in /usr/local/lib/python3.10/dist-packages (from pyLDAvis) (4.3.2)\n",
            "Requirement already satisfied: setuptools in /usr/local/lib/python3.10/dist-packages (from pyLDAvis) (67.7.2)\n",
            "Requirement already satisfied: python-dateutil>=2.8.2 in /usr/local/lib/python3.10/dist-packages (from pandas>=2.0.0->pyLDAvis) (2.8.2)\n",
            "Requirement already satisfied: pytz>=2020.1 in /usr/local/lib/python3.10/dist-packages (from pandas>=2.0.0->pyLDAvis) (2023.4)\n",
            "Requirement already satisfied: tzdata>=2022.1 in /usr/local/lib/python3.10/dist-packages (from pandas>=2.0.0->pyLDAvis) (2024.1)\n",
            "Requirement already satisfied: threadpoolctl>=2.0.0 in /usr/local/lib/python3.10/dist-packages (from scikit-learn>=1.0.0->pyLDAvis) (3.5.0)\n",
            "Requirement already satisfied: smart-open>=1.8.1 in /usr/local/lib/python3.10/dist-packages (from gensim->pyLDAvis) (7.0.4)\n",
            "Requirement already satisfied: MarkupSafe>=2.0 in /usr/local/lib/python3.10/dist-packages (from jinja2->pyLDAvis) (2.1.5)\n",
            "Requirement already satisfied: six>=1.5 in /usr/local/lib/python3.10/dist-packages (from python-dateutil>=2.8.2->pandas>=2.0.0->pyLDAvis) (1.16.0)\n",
            "Requirement already satisfied: wrapt in /usr/local/lib/python3.10/dist-packages (from smart-open>=1.8.1->gensim->pyLDAvis) (1.14.1)\n",
            "Installing collected packages: funcy, pyLDAvis\n",
            "Successfully installed funcy-2.0 pyLDAvis-3.4.1\n"
          ]
        }
      ]
    },
    {
      "cell_type": "code",
      "source": [
        "# Lets visualize the topics\n",
        "import pyLDAvis\n",
        "from pyLDAvis.gensim import prepare\n",
        "\n",
        "pyLDAvis.enable_notebook()\n",
        "vis = prepare(ldamodel, corpus, dictionary)\n",
        "vis"
      ],
      "metadata": {
        "id": "e3SiH1DyHQPZ",
        "colab": {
          "base_uri": "https://localhost:8080/",
          "height": 862
        },
        "outputId": "e888ff98-db3f-4ddc-afa6-dc5f8b738761"
      },
      "execution_count": 70,
      "outputs": [
        {
          "output_type": "execute_result",
          "data": {
            "text/plain": [
              "PreparedData(topic_coordinates=              x         y  topics  cluster       Freq\n",
              "topic                                                \n",
              "4     -0.064503  0.052310       1        1  15.441818\n",
              "7     -0.028717 -0.236708       2        1  14.588662\n",
              "3     -0.076262  0.049569       3        1  13.651415\n",
              "9     -0.023025  0.049801       4        1  11.797011\n",
              "6      0.341264  0.017426       5        1   8.920220\n",
              "8     -0.042789  0.049556       6        1   8.784079\n",
              "1     -0.052766  0.029759       7        1   7.280718\n",
              "5     -0.026045  0.020520       8        1   7.172096\n",
              "0     -0.007603 -0.070996       9        1   6.897301\n",
              "2     -0.019555  0.038762      10        1   5.466680, topic_info=         Term        Freq       Total Category  logprob  loglift\n",
              "211    Please   44.000000   44.000000  Default  30.0000  30.0000\n",
              "838  argument   34.000000   34.000000  Default  29.0000  29.0000\n",
              "879    debate   30.000000   30.000000  Default  28.0000  28.0000\n",
              "4           I  189.000000  189.000000  Default  27.0000  27.0000\n",
              "488   removed   22.000000   22.000000  Default  26.0000  26.0000\n",
              "..        ...         ...         ...      ...      ...      ...\n",
              "9        This    3.416462   54.606398  Topic10  -5.0942   0.1350\n",
              "4           I    3.949913  189.875216  Topic10  -4.9491  -0.9662\n",
              "81       make    3.151895   51.737028  Topic10  -5.1748   0.1083\n",
              "105       The    2.915428   60.488560  Topic10  -5.2527  -0.1259\n",
              "463     wrong    2.624597   17.728666  Topic10  -5.3578   0.9962\n",
              "\n",
              "[673 rows x 6 columns], token_table=      Topic      Freq       Term\n",
              "term                            \n",
              "1291      2  0.848846          0\n",
              "869       5  0.773191          1\n",
              "869      10  0.193298          1\n",
              "1199      8  0.778662       1923\n",
              "773       2  0.939148          2\n",
              "...     ...       ...        ...\n",
              "349       8  0.231982       year\n",
              "349      10  0.042179       year\n",
              "493       4  0.231379  yesterday\n",
              "493       8  0.462758  yesterday\n",
              "555       7  0.784097      young\n",
              "\n",
              "[1486 rows x 3 columns], R=30, lambda_step=0.01, plot_opts={'xlab': 'PC1', 'ylab': 'PC2'}, topic_order=[5, 8, 4, 10, 7, 9, 2, 6, 1, 3])"
            ],
            "text/html": [
              "\n",
              "<link rel=\"stylesheet\" type=\"text/css\" href=\"https://cdn.jsdelivr.net/gh/bmabey/pyLDAvis@3.4.0/pyLDAvis/js/ldavis.v1.0.0.css\">\n",
              "\n",
              "\n",
              "<div id=\"ldavis_el4671338168190872001304838816\" style=\"background-color:white;\"></div>\n",
              "<script type=\"text/javascript\">\n",
              "\n",
              "var ldavis_el4671338168190872001304838816_data = {\"mdsDat\": {\"x\": [-0.06450347840794976, -0.028716638651411452, -0.07626169959800705, -0.02302456205036207, 0.34126429476317083, -0.042788576654105494, -0.05276632870991451, -0.02604527095485514, -0.007602824545537377, -0.019554915191028057], \"y\": [0.052310410943619524, -0.23670804521173386, 0.04956873932947395, 0.049801111122736455, 0.017426269488747658, 0.04955561826082258, 0.029759054878613207, 0.020520325911907455, -0.07099591341918811, 0.03876242869500085], \"topics\": [1, 2, 3, 4, 5, 6, 7, 8, 9, 10], \"cluster\": [1, 1, 1, 1, 1, 1, 1, 1, 1, 1], \"Freq\": [15.441817610863385, 14.588662177220263, 13.651415415091506, 11.797011127986373, 8.920220181049762, 8.784079102039213, 7.280717986156095, 7.1720957467534125, 6.897300920067788, 5.466679732772203]}, \"tinfo\": {\"Term\": [\"Please\", \"argument\", \"debate\", \"I\", \"removed\", \"bot\", \"automatically\", \"moderator\", \"performed\", \"contact\", \"Jews\", \"comment\", \"question\", \"subredditmessagecomposetorIsraelPalestine\", \"Rule\", \"deleted\", \"civilian\", \"2\", \"rule\", \"year\", \"using\", \"group\", \"Israel\", \"concern\", \"side\", \"negative\", \"characterization\", \"engage\", \"avoid\", \"emphasis\", \"realize\", \"broke\", \"coexist\", \"problem\", \"taken\", \"condemn\", \"islam\", \"music\", \"horrific\", \"later\", \"Arabic\", \"prominent\", \"spread\", \"despicable\", \"proposed\", \"partition\", \"continuous\", \"iron\", \"vile\", \"WWII\", \"dome\", \"grab\", \"idf\", \"rejected\", \"arriving\", \"none\", \"rubble\", \"retaliate\", \"along\", \"taking\", \"neither\", \"innocent\", \"today\", \"side\", \"completely\", \"No\", \"death\", \"killing\", \"civilian\", \"going\", \"military\", \"Palestinian\", \"These\", \"way\", \"always\", \"handle\", \"likely\", \"However\", \"I\", \"kill\", \"theyre\", \"happen\", \"territory\", \"took\", \"support\", \"Israel\", \"Palestinians\", \"want\", \"Israeli\", \"people\", \"They\", \"The\", \"long\", \"Hamas\", \"every\", \"Its\", \"dont\", \"Jews\", \"If\", \"war\", \"land\", \"one\", \"thing\", \"Please\", \"automatically\", \"moderator\", \"performed\", \"contact\", \"subredditmessagecomposetorIsraelPalestine\", \"Rule\", \"2\", \"avoid\", \"emphasis\", \"profanity\", \"bot\", \"concern\", \"breaking\", \"member\", \"question\", \"using\", \"Policy\", \"Content\", \"corner\", \"definition\", \"0\", \"Genocide\", \"gay\", \"uKingYakub\", \"amongst\", \"within\", \"Fuck\", \"highly\", \"intelligent\", \"action\", \"response\", \"point\", \"make\", \"fucking\", \"historian\", \"I\", \"terrorism\", \"genocide\", \"live\", \"This\", \"Palestinians\", \"group\", \"Israel\", \"Im\", \"It\", \"Hamas\", \"one\", \"dont\", \"thanks\", \"suddenly\", \"acting\", \"lie\", \"advocating\", \"abuse\", \"shouldnt\", \"decide\", \"Do\", \"animal\", \"Apartheid\", \"oppressive\", \"assumption\", \"Very\", \"complicated\", \"Arabia\", \"three\", \"Saudi\", \"mass\", \"extreme\", \"WW2\", \"upon\", \"REDDIT\", \"retaliated\", \"ON\", \"uprising\", \"batted\", \"Whether\", \"proportion\", \"seem\", \"peace\", \"number\", \"oppressor\", \"calling\", \"situation\", \"might\", \"decade\", \"dead\", \"wrong\", \"think\", \"care\", \"one\", \"look\", \"help\", \"shocked\", \"Hamas\", \"proof\", \"people\", \"scum\", \"ago\", \"like\", \"right\", \"agree\", \"year\", \"The\", \"good\", \"Israel\", \"Palestinians\", \"This\", \"side\", \"attack\", \"way\", \"doesnt\", \"government\", \"Palestinian\", \"I\", \"What\", \"And\", \"Its\", \"support\", \"dont\", \"Israeli\", \"Palestine\", \"Bank\", \"America\", \"West\", \"jew\", \"roll\", \"protected\", \"security\", \"scalping\", \"prosper\", \"Wasnt\", \"oppress\", \"checkpoint\", \"brutality\", \"Guy\", \"version\", \"nuclear\", \"Downvote\", \"proportional\", \"justice\", \"former\", \"soon\", \"method\", \"grow\", \"grip\", \"represents\", \"independence\", \"warfare\", \"sit\", \"prior\", \"Almost\", \"antisemitic\", \"need\", \"Native\", \"You\", \"reason\", \"Americans\", \"He\", \"control\", \"guy\", \"culture\", \"many\", \"American\", \"religion\", \"arent\", \"absolutely\", \"could\", \"time\", \"Palestinians\", \"video\", \"see\", \"We\", \"history\", \"Israel\", \"people\", \"land\", \"even\", \"also\", \"say\", \"Hamas\", \"good\", \"territory\", \"war\", \"every\", \"two\", \"Palestinian\", \"But\", \"dont\", \"like\", \"get\", \"characterization\", \"engage\", \"debate\", \"boil\", \"explored\", \"selfidentify\", \"whenever\", \"personal\", \"positive\", \"charitable\", \"aim\", \"align\", \"distinguishes\", \"interpretation\", \"facilitating\", \"IP\", \"tone\", \"insulting\", \"respectful\", \"politely\", \"dialogue\", \"thoughtfully\", \"polite\", \"relevant\", \"patient\", \"opponent\", \"calmly\", \"explanation\", \"prohibited\", \"argument\", \"negative\", \"rule\", \"use\", \"towards\", \"group\", \"Many\", \"part\", \"1\", \"issue\", \"You\", \"fair\", \"view\", \"may\", \"Dont\", \"would\", \"This\", \"person\", \"opinion\", \"mean\", \"conflict\", \"If\", \"make\", \"point\", \"context\", \"companion\", \"Allah\", \"following\", \"governmental\", \"binary\", \"page\", \"Islam\", \"checked\", \"Remember\", \"expanded\", \"indigenous\", \"distinct\", \"andor\", \"Palestinia\", \"perceived\", \"external\", \"Sriyana\", \"Idk\", \"Last\", \"reading\", \"next\", \"Hear\", \"footstep\", \"prophet\", \"Prophets\", \"encourages\", \"Sunnah\", \"slave\", \"invaded\", \"virtue\", \"please\", \"blood\", \"rape\", \"life\", \"great\", \"honestly\", \"cry\", \"Who\", \"move\", \"non\", \"Everyone\", \"Never\", \"Reddit\", \"Is\", \"raped\", \"The\", \"woman\", \"book\", \"whats\", \"doesnt\", \"regime\", \"really\", \"seen\", \"I\", \"attack\", \"shit\", \"Hamas\", \"saying\", \"two\", \"It\", \"never\", \"group\", \"history\", \"Israel\", \"point\", \"get\", \"people\", \"civilian\", \"like\", \"Its\", \"time\", \"Palestine\", \"Same\", \"conquered\", \"broader\", \"ahead\", \"little\", \"loss\", \"Actually\", \"channel\", \"young\", \"armed\", \"predate\", \"Judaism\", \"Wheres\", \"Ashkenazi\", \"money\", \"Humans\", \"ignore\", \"learn\", \"ending\", \"several\", \"Levant\", \"pay\", \"source\", \"propaganda\", \"resource\", \"supporting\", \"leave\", \"bully\", \"While\", \"Nice\", \"2000\", \"made\", \"continue\", \"Jews\", \"think\", \"I\", \"matter\", \"land\", \"dont\", \"never\", \"year\", \"committing\", \"Israel\", \"Palestine\", \"hard\", \"right\", \"definitely\", \"human\", \"time\", \"hate\", \"thing\", \"people\", \"religious\", \"know\", \"conflict\", \"Israeli\", \"going\", \"Hamas\", \"genocide\", \"Its\", \"mean\", \"Ah\", \"king\", \"charter\", \"exact\", \"bin\", \"lad\", \"tree\", \"rock\", \"1923\", \"palestina\", \"borderland\", \"x200B\", \"Killing\", \"showing\", \"meant\", \"Defense\", \"lying\", \"hasnt\", \"colonial\", \"already\", \"prison\", \"yesterday\", \"From\", \"Or\", \"Take\", \"bunker\", \"hide\", \"nuance\", \"Anyone\", \"condition\", \"Hamass\", \"Isreal\", \"behind\", \"Palestine\", \"year\", \"come\", \"Arabs\", \"put\", \"Israeli\", \"Jews\", \"Israel\", \"Gaza\", \"So\", \"Free\", \"happening\", \"enough\", \"open\", \"war\", \"Israelis\", \"wouldnt\", \"something\", \"since\", \"would\", \"stop\", \"home\", \"back\", \"video\", \"area\", \"going\", \"want\", \"way\", \"mean\", \"dont\", \"They\", \"Palestinian\", \"Hamas\", \"people\", \"I\", \"word\", \"removed\", \"exemption\", \"confirm\", \"detail\", \"compliance\", \"detection\", \"therefor\", \"mainstream\", \"Casual\", \"distinguish\", \"meaningful\", \"flag\", \"review\", \"usage\", \"stolen\", \"slaughter\", \"unnecessary\", \"sleep\", \"deserves\", \"telling\", \"seriously\", \"apartment\", \"location\", \"comment\", \"sow\", \"acceptable\", \"unacceptable\", \"moment\", \"u\", \"inflammatory\", \"6\", \"building\", \"watch\", \"based\", \"information\", \"shoot\", \"allow\", \"shooting\", \"sharing\", \"nothing\", \"civilian\", \"historical\", \"school\", \"I\", \"done\", \"get\", \"Palestinians\", \"Hamas\", \"violence\", \"This\", \"People\", \"like\", \"act\", \"must\", \"Israel\", \"video\", \"make\", \"not\", \"can\", \"target\", \"good\", \"Israeli\", \"people\", \"government\", \"deleted\", \"who\", \"chosen\", \"powerful\", \"Osama\", \"accepting\", \"incompatible\", \"largest\", \"invasion\", \"UK\", \"generation\", \"moron\", \"east\", \"refuse\", \"creating\", \"despite\", \"hatred\", \"Jesus\", \"Arab\", \"pain\", \"born\", \"recently\", \"extent\", \"suck\", \"existed\", \"turned\", \"defend\", \"needed\", \"Cant\", \"learned\", \"theyve\", \"there\", \"ever\", \"living\", \"homeland\", \"Jewish\", \"tell\", \"Jews\", \"And\", \"Israel\", \"actually\", \"people\", \"one\", \"country\", \"land\", \"population\", \"back\", \"lived\", \"justified\", \"never\", \"state\", \"family\", \"right\", \"side\", \"This\", \"I\", \"make\", \"The\", \"wrong\"], \"Freq\": [44.0, 34.0, 30.0, 189.0, 22.0, 27.0, 23.0, 23.0, 23.0, 23.0, 47.0, 22.0, 28.0, 22.0, 22.0, 13.0, 53.0, 21.0, 18.0, 47.0, 28.0, 39.0, 147.0, 24.0, 65.0, 16.0, 14.0, 14.0, 19.0, 19.0, 3.770570523213335, 2.851474674094929, 2.8508202838593153, 2.8484267764605766, 2.8003442997391415, 1.9323965953720588, 1.9323788249765228, 1.9316205603670027, 1.9316735051537026, 1.9313638972314777, 1.9313552868336408, 1.9313430124367241, 1.9313327532393014, 1.9313146164438575, 1.9312995940476312, 1.9312796252526474, 1.9309427205372796, 1.9308067861714269, 1.9307871837763513, 1.930790298175569, 1.9305429782376968, 1.9302632319079707, 1.929059791410281, 1.9284991995511045, 1.9253941435311106, 1.9124836763742863, 1.9063571035133127, 1.871592164246444, 3.770880497535468, 4.325644766175837, 5.552481363588187, 16.362247409719483, 7.412158019627868, 35.73297808289254, 4.625015474972378, 11.408125675020287, 8.353660688717566, 11.473820445717424, 22.66865081111859, 12.038721900611279, 10.435198351424624, 19.35532135864395, 3.7668728153422184, 12.96960117076963, 10.104693176849219, 2.846533954536063, 2.8495926609677005, 2.8507457214780456, 46.542505236283844, 9.29754569000881, 8.02101134188079, 2.802543798386616, 6.498180777223642, 4.591746729729658, 10.300935501952141, 31.242917220418864, 21.031167120062893, 11.044915644660511, 13.324798035142354, 25.545627285207335, 11.882022919174867, 15.316388184444689, 8.082288795287578, 20.05043621122753, 10.214520083660137, 12.026082569386345, 13.73239008635314, 11.670182217190339, 9.35176628118832, 9.57496171632048, 9.764500388707393, 9.444552661079905, 8.609017974970506, 43.49665470178957, 22.26125502785925, 22.2576563855981, 22.25608483539941, 22.25359943222174, 21.375377027046294, 21.37455317473949, 20.479544951891135, 18.72833541140919, 18.727312172997884, 18.726539551842933, 25.58762864017788, 22.261062564883375, 5.415188481905038, 5.411408799830253, 24.495073095789557, 24.252752516782696, 4.527827200783406, 4.527826508470543, 3.6405815359098717, 7.191884481963886, 2.7530084070522043, 2.7525289803946733, 2.7523031133231655, 2.7518858217450766, 2.749269571436328, 4.525537029833065, 6.301943989271668, 1.8649141396870186, 1.8643447123573162, 24.036723211055815, 3.6003006966100792, 23.857704950977435, 23.250300106869897, 5.859943072794366, 4.555086673602093, 50.19453241733097, 9.828643174648926, 12.42013845236017, 6.539872535476544, 11.214364139318286, 12.398794446798192, 9.240836323063236, 13.909394805670267, 8.360899751239348, 7.381343512327059, 9.009943060170745, 7.459668328066743, 7.359782812839006, 2.8219987924054335, 2.821758769422976, 2.819558396791618, 2.819213424488895, 2.8142902000484398, 2.812204170349346, 2.809654614485748, 2.753188641006638, 4.575698047021372, 1.9117901814653375, 1.911787752082924, 1.911787752082924, 1.9117871042476138, 1.911707258545622, 1.9116874995686586, 1.9115101546524702, 1.911457194115855, 1.911313536635801, 1.9112798491996663, 1.911040797970174, 1.90987032152333, 1.9081210042267527, 1.9074582687043387, 1.9076383669205959, 1.9068525426892289, 1.9068689005308135, 1.9068169117471636, 1.9067571489397905, 1.906471129650303, 1.9064672426384413, 8.603423301173775, 3.729949373371557, 3.730236040496355, 3.6981600946962327, 9.072738522010074, 4.635013848030393, 11.65893141590989, 3.729216671635633, 8.522160783358476, 15.988583231676087, 3.7135967144695288, 19.183712164647932, 6.980062680467906, 2.8037327519145, 2.812063590087016, 30.880941012760196, 2.8195839862863736, 35.4176772724685, 2.8222877269538174, 9.190457971911245, 16.26498734948853, 14.23318405720598, 4.244196831740438, 13.866970530329748, 16.204646673018647, 8.095638323942568, 26.71334390418933, 17.51188504087426, 13.167636199896888, 14.430934489997611, 8.647975583296878, 9.224714855283416, 8.172518883719148, 7.303011173982555, 11.933914183051582, 22.568003825538366, 6.0651708680698135, 6.864703294602076, 8.73379950953184, 7.374643619910575, 9.330181148125998, 7.731102690519957, 7.334908641154696, 4.559034751457248, 4.54027193000422, 6.346701963680597, 6.309133213591134, 2.7720460574973953, 2.769893777411578, 2.7697879688704883, 3.317285027485699, 1.877776201091307, 1.877775361340981, 1.8777668238793321, 1.8775851578921174, 1.8773868368567679, 1.8772776693143738, 1.877089705199713, 1.87647024937582, 1.8765272124396077, 1.876394811804858, 1.8762110464418278, 1.8758880224830512, 1.8757221717936445, 1.8757200724178293, 1.8753599594863164, 1.875069685790258, 1.874358697180819, 1.8743412023823585, 1.873407539978113, 1.8710171906748438, 1.8662146585598267, 1.8662115794752976, 3.6576943372637105, 14.260146264790494, 6.714913447338648, 15.099717444163211, 7.455827959232331, 3.642899895935098, 2.7719939929771766, 5.425672763341109, 6.149857209404499, 4.558246225901032, 9.051007601704987, 6.272667895430179, 6.202103115693693, 4.548485807860668, 4.2930113653162945, 6.0635431922186145, 9.38627400056913, 18.118477668803013, 7.336458010209494, 8.842750640497067, 5.452931618760156, 7.784778315977035, 21.24641775217509, 18.494527941838513, 10.564164351158173, 7.442171939429148, 6.375384475819175, 6.881172815237206, 13.630763472375747, 6.629221965061186, 5.472736850284661, 7.916766913233536, 7.422362789069788, 6.383727115392292, 7.393880697342375, 6.356083654323887, 7.3573050919719245, 6.606477047561749, 6.31405974883764, 14.026236142194636, 14.02528114608435, 28.796786770515077, 7.92723730000288, 7.057448770413564, 7.0571389046543755, 7.057048738798218, 7.057028843045921, 7.0569399471314, 7.05694926003673, 7.0569382538758845, 7.056910738473771, 7.056794327157136, 7.056797713668166, 7.056615688700337, 7.056548381793627, 7.056438743499051, 7.056339688051442, 7.056287197130486, 7.0562647614949165, 7.056162319536278, 7.056063687402547, 7.05602431921183, 7.055958705560636, 7.055945582830398, 7.055774140709535, 7.0557059871750685, 7.055447342395199, 7.0553707225831594, 31.380589704091616, 14.898254265982922, 15.764704965638902, 14.026919370794815, 14.025075415539316, 17.949011352612338, 7.92703326271336, 9.669342389664946, 7.926196794489103, 7.927972172896256, 10.884215969834406, 7.91589587456548, 7.930340190733552, 7.9265879365129965, 7.914589527935896, 9.48338652915831, 9.681711621199764, 7.926373739690388, 7.745500185611096, 8.650105858407366, 8.683126880827114, 7.95030621313503, 7.903504630708971, 7.467796968296444, 7.058165440810157, 5.321610445984857, 4.445771379358207, 4.3941586966792245, 3.5768791718103863, 2.7071165747182153, 2.7025130560721276, 2.7015611717213024, 2.696460764024992, 1.833795510027699, 1.8333507276312329, 1.8332917428991804, 1.833265272719072, 1.8331675206366247, 1.8331445937089716, 1.8331118707304126, 1.8331022831061214, 1.833013284941505, 1.8328834351603436, 1.8329515906634573, 1.8328192397629155, 1.8323773753390595, 1.832316723194087, 1.8322877518945984, 1.8322717030452413, 1.8322481508377433, 1.8321979200235219, 1.8321395605713144, 1.8321245538550326, 1.8320299281718107, 1.8319992894594017, 3.5762543088185375, 3.3991831853301093, 6.142146011433637, 7.612127654267411, 2.7055373262561604, 2.706194495373339, 2.698912069444317, 2.705003128841848, 2.7064041725480554, 2.70537683776259, 2.7025826705615468, 2.650806789842998, 6.151267593813651, 3.3865037606315944, 2.6297506994865727, 12.734793645649896, 7.066592665803819, 3.5715567897690725, 4.605836766900017, 6.977775832342627, 2.705475840404728, 5.120398309810999, 3.5175638751464886, 16.232749995414395, 6.088584956757387, 5.318541155651978, 10.623182757201079, 4.407931944253398, 5.240791775448687, 5.637899918553542, 5.320297775163421, 5.819274426362419, 4.935111634438075, 8.596471532410645, 5.780690491388736, 5.31017157649898, 7.553072890872296, 5.7163604503673024, 5.502095389000802, 4.861163955692866, 4.558944530198152, 4.721120028790489, 3.440249613579899, 2.589378737358468, 1.7647502408777986, 1.7647486860809345, 1.7647486860809345, 1.7647474767944844, 1.7647279554560775, 1.7644677861141231, 1.7645132207336012, 1.7641780756317476, 1.7634089694495556, 1.7633156816376994, 1.763131697342094, 1.7627846321309477, 1.7613967167967766, 1.7613804778073052, 1.7613272692035058, 1.7605581630213138, 1.751085303992941, 1.7508294535311653, 1.7415011906111697, 1.7002113140628, 1.6993655045686373, 5.945592962466257, 2.600924313362119, 3.4442119270108864, 3.3591724852748728, 1.4208721905479615, 2.2928532348164086, 1.759295667967527, 2.6040993813141644, 3.8411574401359347, 3.444668346268153, 11.605128178656752, 9.328861344033164, 21.283934908649755, 3.443769328170191, 8.072654579786258, 9.107072680938847, 5.565259590059893, 7.333461307221163, 3.36053586936963, 11.660082301069151, 6.942159706713412, 2.60520605117111, 5.958372701669724, 2.5718306089274936, 3.4456119352095573, 5.007457902951249, 3.6538894135533724, 5.058591716712931, 8.938764192829602, 3.4208882464947723, 4.285754367557115, 4.745540623810966, 5.126096159413713, 4.287713411606094, 5.7906384518690155, 4.091387829513127, 4.3374043738777335, 3.417046861708784, 2.6246265034765255, 1.7833565883426044, 1.7830398873757614, 1.782927399821176, 1.7828552444155117, 1.7827701554937376, 1.7827253987208846, 1.7827209740969523, 1.7823881062349722, 1.7823348405699417, 1.7823421582172143, 1.782235626887153, 1.7813353860947838, 1.779963412320099, 1.7753102395439635, 1.7555641640013908, 1.7552663527751817, 2.6325089710118297, 2.6310160007903822, 2.58256687926577, 2.428863952751566, 2.4336571818929413, 1.7826847262162766, 1.7827796854529765, 1.7833516531851417, 1.7826020197843122, 1.7825850019999574, 2.5758998218890863, 1.695715849804553, 3.405368924640008, 2.539659599216302, 4.327817585236772, 2.42660126814375, 12.908618410432789, 11.418616090576828, 4.9012250219583375, 3.4830265203419977, 3.48155754519649, 7.435465477924693, 7.563649556087487, 12.659497107396856, 5.03688126887564, 4.321731344840118, 2.6310570136506772, 3.483134413094807, 3.4821807364595636, 2.5468477411499295, 5.180531790171459, 4.664472584947166, 2.631644637744449, 2.6317741430833888, 3.4815960053891324, 4.872880200336967, 2.994881586794899, 3.307229404399944, 3.816609469620661, 3.5056217133412524, 3.4825391309980755, 3.480438115341631, 3.5842755301393723, 3.4803758302508925, 3.480829864737479, 3.7151130212387673, 3.481633104159026, 3.4898629046730116, 3.6534654167020957, 3.587615780852534, 3.5933038050952857, 3.4261222333032877, 17.5820946276595, 2.589038777287934, 2.589026993942541, 2.5887955821316297, 2.5887803619771637, 2.588576608296411, 2.5881943042014393, 2.5881617363440337, 2.5879664928571757, 2.587821655903387, 2.587643269146744, 2.587428550408472, 2.5873702883118073, 2.5872020483248077, 1.7572689554145025, 1.7572689554145025, 1.7572658459205794, 1.7557947279797843, 1.7535611293975202, 1.750220878293768, 1.7462158501207634, 1.7254506497020334, 1.712045785056951, 14.79454919512737, 1.6913674868104942, 3.3405463420172716, 3.339943100196183, 2.5883461784309483, 2.58719877517331, 2.589357254928694, 2.587243126376108, 6.923055826115222, 3.423420246741654, 3.426501264246761, 3.4022920538217907, 2.5912533915915095, 2.5872498363366794, 2.5937418050178964, 2.55422799281838, 3.60349267640645, 12.582452599684256, 3.1511395389103587, 3.428243890104319, 20.894764847628544, 5.5693091702581174, 7.1328353787762495, 8.670443464472285, 8.375628745152717, 4.189163892939002, 6.182317420787168, 3.4244103750698116, 5.543885293312224, 3.8278691754881473, 3.352844226825716, 6.591697679580612, 4.026614607134125, 4.8908234879016295, 3.377060965499132, 3.3608022400629065, 3.21438631799188, 3.731369468392565, 3.6346318031830753, 3.7303871956280026, 3.3877919926854636, 12.294483435001816, 4.104297047284281, 3.339237562250693, 1.7102437101785224, 1.7074109271163458, 1.7071921027642283, 1.705009047727989, 1.6900049869940676, 1.7109902034484903, 1.7065218802227993, 2.601470026821676, 1.7112380833162415, 1.7097757088374201, 1.7080055274898527, 1.7108287118549004, 1.709309523466045, 1.7100953195093924, 2.484106497600673, 4.892031508603373, 1.1679317204335296, 2.3022360917330755, 1.7112114923309516, 1.709780637898108, 1.711225112103905, 1.709706831699913, 1.709951728188827, 1.7110535029646925, 0.9573072499067866, 0.8963003954849605, 0.8958283082119722, 3.2403209129419754, 2.41765056658839, 3.7549799642430712, 4.5610206975327205, 4.557218575772634, 7.214829047283836, 2.5252005954040615, 7.415788926922871, 4.850892011556807, 14.322628989639437, 3.340319880208054, 10.749800906571666, 6.848582716173716, 4.497710804360542, 6.0050502501707825, 3.33636521699089, 3.8731451143864724, 2.792059162773401, 2.5253111101331687, 3.4020553276268233, 3.2807303901582414, 2.464417234970794, 3.4455203036210844, 3.7743887892622343, 3.4164616748962766, 3.9499126403578098, 3.151895120746804, 2.915427585033481, 2.6245966607207376], \"Total\": [44.0, 34.0, 30.0, 189.0, 22.0, 27.0, 23.0, 23.0, 23.0, 23.0, 47.0, 22.0, 28.0, 22.0, 22.0, 13.0, 53.0, 21.0, 18.0, 47.0, 28.0, 39.0, 147.0, 24.0, 65.0, 16.0, 14.0, 14.0, 19.0, 19.0, 4.550764824826556, 3.6305920196203907, 3.6305829620112418, 3.630431063560128, 3.6283836756671954, 2.710356471742372, 2.710338740451836, 2.7102400464445355, 2.71032715434708, 2.710295418895732, 2.710294959171747, 2.7102996582205607, 2.710304519727551, 2.710310666167965, 2.7102907451528067, 2.7102900137292654, 2.7101977497494714, 2.7102693882914126, 2.7102775395478944, 2.71028265840977, 2.710249666644586, 2.710271432099939, 2.710078807015531, 2.7097796780014214, 2.7096210492603983, 2.709402421531033, 2.7090264384022826, 2.707018409446849, 5.461081478890973, 6.275910277961178, 8.20904263626447, 26.295732742232936, 11.702891548995678, 65.71101383891195, 7.203459297881328, 20.829845094619518, 15.303733206378707, 22.45493630818461, 53.97826108936796, 26.582873169277565, 22.328971254672776, 49.57161058361361, 6.281382604138544, 30.69850776437607, 22.3942695986831, 4.479306337406535, 4.518149541996754, 4.540716488747572, 189.87521590731097, 22.445317997647443, 18.95808443046567, 4.500443180082139, 14.339458601151607, 9.013854080696158, 28.469486368976696, 147.12933762341933, 83.95434281842932, 32.767507527179454, 44.05270956489402, 125.03933275246283, 37.27409684946345, 60.48856046416134, 20.77187045234475, 102.46494817687012, 32.05567403178146, 43.437811046270696, 63.66458327121176, 47.59311337606642, 34.655589225317925, 37.02808267861951, 47.18468178753517, 52.51920833737549, 31.015486504220476, 44.384758513537015, 23.072952465729454, 23.072721780102253, 23.072586917341493, 23.072429168483882, 22.184578617435648, 22.184542198339873, 21.29589636351135, 19.520799460736058, 19.52075362886833, 19.520716784534887, 27.450618869719662, 24.786397189446852, 6.1987060163826815, 6.198664938276385, 28.46020915695126, 28.273112966969116, 5.310558028434195, 5.310557313496028, 4.4224938769481925, 8.79002943661786, 3.5342102451083464, 3.534322177929879, 3.5342555192226373, 3.5342330293218067, 3.533972772135637, 6.147139979309914, 8.750713633598089, 2.646090944949534, 2.645974530492048, 36.397719769586104, 5.235385599214744, 44.87874872276088, 51.737027686273876, 9.540347420266334, 6.986196488493062, 189.87521590731097, 20.644977664554865, 28.806277559779787, 14.085285590395108, 54.60639775634889, 83.95434281842932, 39.380420588784816, 147.12933762341933, 30.335646261854524, 28.87076422710348, 102.46494817687012, 52.51920833737549, 63.66458327121176, 3.601214717404059, 3.6012074189167156, 3.600983861292384, 3.6011254018398273, 3.600438781292992, 3.6009746589836134, 3.6006842212527457, 3.599299718575706, 6.266742905117372, 2.6907325556211292, 2.6907301315567733, 2.6907301315567733, 2.6907294837214635, 2.690735329797945, 2.6907248770311343, 2.690721421611, 2.6907308989942123, 2.6907088404713604, 2.6907252473977237, 2.6906595756556033, 2.6904598485467552, 2.6906375359201777, 2.690314805447301, 2.690629422191841, 2.6902434767939694, 2.690289869311978, 2.6902390346196436, 2.690617680008146, 2.690254848099829, 2.6902542849574727, 12.677875083536483, 5.384684196776303, 5.399333887109783, 5.404100234489268, 15.353879959097839, 7.957639361825608, 25.077971613969638, 6.1995286213952525, 17.728665740825466, 40.66293862099343, 6.257551245452154, 52.51920833737549, 14.264947350935524, 4.415199790212572, 4.441056374485962, 102.46494817687012, 4.474100238433661, 125.03933275246283, 4.489094380745851, 21.24465315310909, 48.53350841226783, 41.58765705722868, 8.054114580303827, 47.417433553935325, 60.48856046416134, 22.083089351872744, 147.12933762341933, 83.95434281842932, 54.60639775634889, 65.71101383891195, 26.609047886824207, 30.69850776437607, 24.862002126541636, 20.295226126252864, 49.57161058361361, 189.87521590731097, 16.81052447197621, 23.64360872781854, 43.437811046270696, 28.469486368976696, 63.66458327121176, 44.05270956489402, 49.03107569472822, 5.341010513218939, 5.341162005312902, 8.039589248025832, 8.039274119457334, 3.5526096748122096, 3.55252394305286, 3.55239845338166, 4.451864923381563, 2.658339752237836, 2.6583389178861108, 2.6583304360798468, 2.6583374988161705, 2.658347245792885, 2.6583504645308547, 2.658289960709495, 2.6582027576531404, 2.6583134069008034, 2.6581851954826115, 2.658214534586279, 2.658188199536032, 2.657993810521504, 2.6581926984649873, 2.6579917497454315, 2.6581487721103794, 2.6580607546316855, 2.6580667097846558, 2.6582678321050603, 2.658073991293534, 2.6585552181286496, 2.6585525054440287, 5.366446681144188, 23.279248686886056, 10.6487745855029, 34.3118696181879, 14.936805778193879, 6.193411197349333, 4.425693541906878, 10.729054931747793, 13.29461260539247, 8.84720069588396, 22.958071167080753, 14.986402557385443, 14.848545919311459, 9.64988436609965, 8.974464935507573, 15.05370907800726, 29.90026792229558, 83.95434281842932, 20.984512034891857, 29.08144046705632, 13.99438249884283, 24.462774202868825, 147.12933762341933, 125.03933275246283, 47.18468178753517, 24.754673869640598, 18.60161692022792, 22.97040214461734, 102.46494817687012, 22.083089351872744, 14.339458601151607, 37.02808267861951, 32.05567403178146, 23.155987909040135, 49.57161058361361, 24.65749465488932, 63.66458327121176, 48.53350841226783, 34.4166598083362, 14.820538461910953, 14.820481531345438, 30.53552845525764, 8.716998402923094, 7.8452201640714785, 7.84519407271945, 7.845205651081543, 7.845201252016646, 7.845197233048888, 7.845213541691096, 7.8452145246954865, 7.845189983724042, 7.84518477908815, 7.84520593974437, 7.845222079305983, 7.845183078342606, 7.845198611091389, 7.84521555162471, 7.845182460468113, 7.845178155380638, 7.845170449594116, 7.845166710556568, 7.845205132273363, 7.845177769352745, 7.845174568681995, 7.845164859104982, 7.845188666702641, 7.845187284729374, 7.845158583991686, 34.96406031504332, 16.602620572798184, 18.262850283195675, 16.52938440121045, 18.259448875528594, 39.380420588784816, 9.590099102919174, 14.883636626509889, 10.346733621416995, 11.264832967876462, 34.3118696181879, 12.208425849649792, 13.045521619128106, 13.167796243233221, 14.091288839541086, 43.15298753783523, 54.60639775634889, 15.838010290698287, 13.976514580847496, 32.521694099460234, 34.15734699176219, 34.655589225317925, 51.737027686273876, 44.87874872276088, 13.126814181205658, 6.109622278878128, 5.236196066169169, 5.236098640254389, 4.3630365476114745, 3.489776181825622, 3.4896271622004966, 3.489911827715856, 3.4898563501174213, 2.616455137770432, 2.6164698531150057, 2.616445409799759, 2.616444464201506, 2.6164485801985036, 2.6164445797432263, 2.6164555392899795, 2.6164557781397333, 2.6164420788373626, 2.6163189192003995, 2.6164519087808644, 2.6163052293821614, 2.6164468478502494, 2.61644766726965, 2.616445431936678, 2.6164422820291593, 2.616445388693357, 2.616441708186084, 2.6164391520556967, 2.6164421416019077, 2.616441180387925, 2.61644141446505, 5.21213604049958, 5.211888132324902, 10.503437100088306, 15.932642210648332, 4.330031511581648, 4.338898850803179, 4.338884894881006, 4.377231770103366, 4.3837551984586955, 4.3837501794755305, 4.383277276784493, 4.361353980899254, 14.069103991223768, 6.213421593681199, 4.361345330974647, 60.48856046416134, 23.74661277713908, 7.861408357241764, 12.193594498693063, 24.862002126541636, 5.240262237923632, 16.460502128619325, 8.804185472276263, 189.87521590731097, 26.609047886824207, 21.113115859679617, 102.46494817687012, 14.713912542238404, 23.155987909040135, 28.87076422710348, 25.198612422437915, 39.380420588784816, 24.462774202868825, 147.12933762341933, 44.87874872276088, 34.4166598083362, 125.03933275246283, 53.97826108936796, 48.53350841226783, 43.437811046270696, 29.90026792229558, 49.03107569472822, 4.2316506922623445, 3.3917032363721638, 2.5506991777231973, 2.550697671888633, 2.5506976754977284, 2.5506964780426675, 2.5506770712072138, 2.5504643251774612, 2.550704519981278, 2.5507231817602656, 2.550730226919173, 2.5507338583741266, 2.550738795439799, 2.550761342165208, 2.5503232476033175, 2.550323406993695, 2.5503250423400847, 2.549519173786295, 2.5512820934189953, 2.551294987413926, 2.5515375074233866, 2.553045065640164, 2.553076520632486, 9.45895303518265, 4.27913505057999, 6.0394127517934235, 5.90438605055484, 2.5617639205903147, 4.340551705898974, 3.3877339289507815, 5.198697535994927, 8.653231632162715, 7.859741667054603, 47.59311337606642, 40.66293862099343, 189.87521590731097, 8.71164006161776, 47.18468178753517, 63.66458327121176, 25.198612422437915, 47.417433553935325, 9.550020602745779, 147.12933762341933, 49.03107569472822, 6.032047551160689, 41.58765705722868, 6.080331336739088, 12.111130993943584, 29.90026792229558, 14.138774303055126, 31.015486504220476, 125.03933275246283, 13.188967911952231, 23.43430250263311, 34.15734699176219, 44.05270956489402, 26.582873169277565, 102.46494817687012, 28.806277559779787, 43.437811046270696, 32.521694099460234, 3.4180399152020304, 2.568419359122815, 2.5684340816105555, 2.568431603988708, 2.5684625098313294, 2.5684686111493056, 2.568442708215827, 2.5684430622077206, 2.568507149050153, 2.568477988388133, 2.568510997531821, 2.568519629810895, 2.568561086691809, 2.5683075306038825, 2.568614649326944, 2.5707131691334917, 2.5706774483568773, 4.30559523349769, 4.311823590389496, 4.254288374599428, 4.234676109343941, 4.321909767025867, 3.383255887276838, 3.4087237057756616, 3.456292275556273, 3.462513996304093, 3.4779303300828457, 5.102420230686823, 3.443832574774808, 6.919663319816875, 5.228675157478017, 9.557039357600187, 5.074956569330783, 49.03107569472822, 47.417433553935325, 15.637702440157826, 9.428519113498693, 9.550363756412425, 44.05270956489402, 47.59311337606642, 147.12933762341933, 24.10522633460216, 18.22559568016657, 6.158197201639624, 12.322469913383543, 13.272043255554538, 6.15042578980859, 37.02808267861951, 28.494154588982333, 6.90348026941266, 7.0098826019165035, 15.889123326130917, 43.15298753783523, 10.603618152576626, 14.909532674767517, 25.245990893746352, 20.984512034891857, 21.234874088011818, 26.582873169277565, 32.767507527179454, 30.69850776437607, 32.521694099460234, 63.66458327121176, 37.27409684946345, 49.57161058361361, 102.46494817687012, 125.03933275246283, 189.87521590731097, 4.21767647329832, 22.88828646874416, 3.3808472266686023, 3.3808465207733405, 3.3808645829120945, 3.3808702830497896, 3.380892493248853, 3.3809318174823835, 3.3809318359664657, 3.3809535174863803, 3.3809687635409347, 3.3809792920926287, 3.3810031362222985, 3.381009480557754, 3.3810249848844576, 2.5435744957352706, 2.5435744957352706, 2.5435714458141336, 2.5436681977480404, 2.5435925279776916, 2.5438200707084153, 2.544332574113062, 2.544676683660603, 2.5452870797458322, 22.13577205898701, 2.5473774318003612, 5.145966542700307, 5.146232889069623, 4.195718763911048, 4.221069816451922, 4.229960674157129, 4.230186318301983, 14.575146369335727, 6.036637629555221, 6.047600604443044, 6.007324262465822, 4.252242878441917, 4.251921088267861, 4.26791862225449, 4.2245033774199205, 6.800583507540437, 53.97826108936796, 5.9243898044764425, 6.874292395417354, 189.87521590731097, 18.475068487447583, 34.4166598083362, 83.95434281842932, 102.46494817687012, 14.974225040742224, 54.60639775634889, 8.554963624613693, 48.53350841226783, 13.071033368117051, 8.562851011168034, 147.12933762341933, 20.984512034891857, 51.737027686273876, 10.460973113522556, 10.462533961466754, 8.663563990278089, 22.083089351872744, 44.05270956489402, 125.03933275246283, 20.295226126252864, 13.094277830525074, 4.9478532873200365, 4.129652998899205, 2.4997791640197278, 2.4998423297229744, 2.5001107510514715, 2.5000373535704075, 2.501666297230963, 3.339878386291227, 3.3401276954792585, 5.126260723075358, 3.3728605438418278, 3.3714948705724828, 3.3731816955157568, 3.3937869869499906, 3.3935713363700035, 3.4100522859523723, 5.054402221622929, 10.286380278765815, 2.5471032133449825, 5.141354475472271, 4.180376602127157, 4.2246623687045055, 4.236701209848681, 4.281669670640515, 4.3205860229715345, 4.3400580840074525, 2.5877357750529546, 2.5216874682433943, 2.5215861202185383, 9.353004366010659, 6.958869681864872, 11.155135329645981, 13.798767782037908, 13.852862065015252, 25.181257241347872, 7.698727411644095, 47.59311337606642, 23.64360872781854, 147.12933762341933, 13.041860016101161, 125.03933275246283, 52.51920833737549, 23.358852326725497, 47.18468178753517, 15.831085789532175, 25.245990893746352, 11.249668676678183, 8.780131911866498, 25.198612422437915, 23.874102749036616, 9.536196985611596, 41.58765705722868, 65.71101383891195, 54.60639775634889, 189.87521590731097, 51.737027686273876, 60.48856046416134, 17.728665740825466], \"Category\": [\"Default\", \"Default\", \"Default\", \"Default\", \"Default\", \"Default\", \"Default\", \"Default\", \"Default\", \"Default\", \"Default\", \"Default\", \"Default\", \"Default\", \"Default\", \"Default\", \"Default\", \"Default\", \"Default\", \"Default\", \"Default\", \"Default\", \"Default\", \"Default\", \"Default\", \"Default\", \"Default\", \"Default\", \"Default\", \"Default\", \"Topic1\", \"Topic1\", \"Topic1\", \"Topic1\", \"Topic1\", \"Topic1\", \"Topic1\", \"Topic1\", \"Topic1\", \"Topic1\", \"Topic1\", \"Topic1\", \"Topic1\", \"Topic1\", \"Topic1\", \"Topic1\", \"Topic1\", \"Topic1\", \"Topic1\", \"Topic1\", \"Topic1\", \"Topic1\", \"Topic1\", \"Topic1\", \"Topic1\", \"Topic1\", \"Topic1\", \"Topic1\", \"Topic1\", \"Topic1\", \"Topic1\", \"Topic1\", \"Topic1\", \"Topic1\", \"Topic1\", \"Topic1\", \"Topic1\", \"Topic1\", \"Topic1\", \"Topic1\", \"Topic1\", \"Topic1\", \"Topic1\", \"Topic1\", \"Topic1\", \"Topic1\", \"Topic1\", \"Topic1\", \"Topic1\", \"Topic1\", \"Topic1\", \"Topic1\", \"Topic1\", \"Topic1\", \"Topic1\", \"Topic1\", \"Topic1\", \"Topic1\", \"Topic1\", \"Topic1\", \"Topic1\", \"Topic1\", \"Topic1\", \"Topic1\", \"Topic1\", \"Topic1\", \"Topic1\", \"Topic1\", \"Topic1\", \"Topic1\", \"Topic1\", \"Topic1\", \"Topic1\", \"Topic2\", \"Topic2\", \"Topic2\", \"Topic2\", \"Topic2\", \"Topic2\", \"Topic2\", \"Topic2\", \"Topic2\", \"Topic2\", \"Topic2\", \"Topic2\", \"Topic2\", \"Topic2\", \"Topic2\", \"Topic2\", \"Topic2\", \"Topic2\", \"Topic2\", \"Topic2\", \"Topic2\", \"Topic2\", \"Topic2\", \"Topic2\", \"Topic2\", \"Topic2\", \"Topic2\", \"Topic2\", \"Topic2\", \"Topic2\", \"Topic2\", \"Topic2\", \"Topic2\", \"Topic2\", \"Topic2\", \"Topic2\", \"Topic2\", \"Topic2\", \"Topic2\", \"Topic2\", \"Topic2\", \"Topic2\", \"Topic2\", \"Topic2\", \"Topic2\", \"Topic2\", \"Topic2\", \"Topic2\", \"Topic2\", \"Topic3\", \"Topic3\", \"Topic3\", \"Topic3\", \"Topic3\", \"Topic3\", \"Topic3\", \"Topic3\", \"Topic3\", \"Topic3\", \"Topic3\", \"Topic3\", \"Topic3\", \"Topic3\", \"Topic3\", \"Topic3\", \"Topic3\", \"Topic3\", \"Topic3\", \"Topic3\", \"Topic3\", \"Topic3\", \"Topic3\", \"Topic3\", \"Topic3\", \"Topic3\", \"Topic3\", \"Topic3\", \"Topic3\", \"Topic3\", \"Topic3\", \"Topic3\", \"Topic3\", \"Topic3\", \"Topic3\", \"Topic3\", \"Topic3\", \"Topic3\", \"Topic3\", \"Topic3\", \"Topic3\", \"Topic3\", \"Topic3\", \"Topic3\", \"Topic3\", \"Topic3\", \"Topic3\", \"Topic3\", \"Topic3\", \"Topic3\", \"Topic3\", \"Topic3\", \"Topic3\", \"Topic3\", \"Topic3\", \"Topic3\", \"Topic3\", \"Topic3\", \"Topic3\", \"Topic3\", \"Topic3\", \"Topic3\", \"Topic3\", \"Topic3\", \"Topic3\", \"Topic3\", \"Topic3\", \"Topic3\", \"Topic3\", \"Topic3\", \"Topic3\", \"Topic3\", \"Topic3\", \"Topic4\", \"Topic4\", \"Topic4\", \"Topic4\", \"Topic4\", \"Topic4\", \"Topic4\", \"Topic4\", \"Topic4\", \"Topic4\", \"Topic4\", \"Topic4\", \"Topic4\", \"Topic4\", \"Topic4\", \"Topic4\", \"Topic4\", \"Topic4\", \"Topic4\", \"Topic4\", \"Topic4\", \"Topic4\", \"Topic4\", \"Topic4\", \"Topic4\", \"Topic4\", \"Topic4\", \"Topic4\", \"Topic4\", \"Topic4\", \"Topic4\", \"Topic4\", \"Topic4\", \"Topic4\", \"Topic4\", \"Topic4\", \"Topic4\", \"Topic4\", \"Topic4\", \"Topic4\", \"Topic4\", \"Topic4\", \"Topic4\", \"Topic4\", \"Topic4\", \"Topic4\", \"Topic4\", \"Topic4\", \"Topic4\", \"Topic4\", \"Topic4\", \"Topic4\", \"Topic4\", \"Topic4\", \"Topic4\", \"Topic4\", \"Topic4\", \"Topic4\", \"Topic4\", \"Topic4\", \"Topic4\", \"Topic4\", \"Topic4\", \"Topic4\", \"Topic4\", \"Topic4\", \"Topic4\", \"Topic4\", \"Topic4\", \"Topic5\", \"Topic5\", \"Topic5\", \"Topic5\", \"Topic5\", \"Topic5\", \"Topic5\", \"Topic5\", \"Topic5\", \"Topic5\", \"Topic5\", \"Topic5\", \"Topic5\", \"Topic5\", \"Topic5\", \"Topic5\", \"Topic5\", \"Topic5\", \"Topic5\", \"Topic5\", \"Topic5\", \"Topic5\", \"Topic5\", \"Topic5\", \"Topic5\", \"Topic5\", \"Topic5\", \"Topic5\", \"Topic5\", \"Topic5\", \"Topic5\", \"Topic5\", \"Topic5\", \"Topic5\", \"Topic5\", \"Topic5\", \"Topic5\", \"Topic5\", \"Topic5\", \"Topic5\", \"Topic5\", \"Topic5\", \"Topic5\", \"Topic5\", \"Topic5\", \"Topic5\", \"Topic5\", \"Topic5\", \"Topic5\", \"Topic5\", \"Topic5\", \"Topic5\", \"Topic5\", \"Topic5\", \"Topic6\", \"Topic6\", \"Topic6\", \"Topic6\", \"Topic6\", \"Topic6\", \"Topic6\", \"Topic6\", \"Topic6\", \"Topic6\", \"Topic6\", \"Topic6\", \"Topic6\", \"Topic6\", \"Topic6\", \"Topic6\", \"Topic6\", \"Topic6\", \"Topic6\", \"Topic6\", \"Topic6\", \"Topic6\", \"Topic6\", \"Topic6\", \"Topic6\", \"Topic6\", \"Topic6\", \"Topic6\", \"Topic6\", \"Topic6\", \"Topic6\", \"Topic6\", \"Topic6\", \"Topic6\", \"Topic6\", \"Topic6\", \"Topic6\", \"Topic6\", \"Topic6\", \"Topic6\", \"Topic6\", \"Topic6\", \"Topic6\", \"Topic6\", \"Topic6\", \"Topic6\", \"Topic6\", \"Topic6\", \"Topic6\", \"Topic6\", \"Topic6\", \"Topic6\", \"Topic6\", \"Topic6\", \"Topic6\", \"Topic6\", \"Topic6\", \"Topic6\", \"Topic6\", \"Topic6\", \"Topic6\", \"Topic6\", \"Topic6\", \"Topic6\", \"Topic6\", \"Topic6\", \"Topic6\", \"Topic6\", \"Topic6\", \"Topic6\", \"Topic6\", \"Topic6\", \"Topic7\", \"Topic7\", \"Topic7\", \"Topic7\", \"Topic7\", \"Topic7\", \"Topic7\", \"Topic7\", \"Topic7\", \"Topic7\", \"Topic7\", \"Topic7\", \"Topic7\", \"Topic7\", \"Topic7\", \"Topic7\", \"Topic7\", \"Topic7\", \"Topic7\", \"Topic7\", \"Topic7\", \"Topic7\", \"Topic7\", \"Topic7\", \"Topic7\", \"Topic7\", \"Topic7\", \"Topic7\", \"Topic7\", \"Topic7\", \"Topic7\", \"Topic7\", \"Topic7\", \"Topic7\", \"Topic7\", \"Topic7\", \"Topic7\", \"Topic7\", \"Topic7\", \"Topic7\", \"Topic7\", \"Topic7\", \"Topic7\", \"Topic7\", \"Topic7\", \"Topic7\", \"Topic7\", \"Topic7\", \"Topic7\", \"Topic7\", \"Topic7\", \"Topic7\", \"Topic7\", \"Topic7\", \"Topic7\", \"Topic7\", \"Topic7\", \"Topic7\", \"Topic7\", \"Topic7\", \"Topic7\", \"Topic8\", \"Topic8\", \"Topic8\", \"Topic8\", \"Topic8\", \"Topic8\", \"Topic8\", \"Topic8\", \"Topic8\", \"Topic8\", \"Topic8\", \"Topic8\", \"Topic8\", \"Topic8\", \"Topic8\", \"Topic8\", \"Topic8\", \"Topic8\", \"Topic8\", \"Topic8\", \"Topic8\", \"Topic8\", \"Topic8\", \"Topic8\", \"Topic8\", \"Topic8\", \"Topic8\", \"Topic8\", \"Topic8\", \"Topic8\", \"Topic8\", \"Topic8\", \"Topic8\", \"Topic8\", \"Topic8\", \"Topic8\", \"Topic8\", \"Topic8\", \"Topic8\", \"Topic8\", \"Topic8\", \"Topic8\", \"Topic8\", \"Topic8\", \"Topic8\", \"Topic8\", \"Topic8\", \"Topic8\", \"Topic8\", \"Topic8\", \"Topic8\", \"Topic8\", \"Topic8\", \"Topic8\", \"Topic8\", \"Topic8\", \"Topic8\", \"Topic8\", \"Topic8\", \"Topic8\", \"Topic8\", \"Topic8\", \"Topic8\", \"Topic8\", \"Topic8\", \"Topic8\", \"Topic8\", \"Topic8\", \"Topic9\", \"Topic9\", \"Topic9\", \"Topic9\", \"Topic9\", \"Topic9\", \"Topic9\", \"Topic9\", \"Topic9\", \"Topic9\", \"Topic9\", \"Topic9\", \"Topic9\", \"Topic9\", \"Topic9\", \"Topic9\", \"Topic9\", \"Topic9\", \"Topic9\", \"Topic9\", \"Topic9\", \"Topic9\", \"Topic9\", \"Topic9\", \"Topic9\", \"Topic9\", \"Topic9\", \"Topic9\", \"Topic9\", \"Topic9\", \"Topic9\", \"Topic9\", \"Topic9\", \"Topic9\", \"Topic9\", \"Topic9\", \"Topic9\", \"Topic9\", \"Topic9\", \"Topic9\", \"Topic9\", \"Topic9\", \"Topic9\", \"Topic9\", \"Topic9\", \"Topic9\", \"Topic9\", \"Topic9\", \"Topic9\", \"Topic9\", \"Topic9\", \"Topic9\", \"Topic9\", \"Topic9\", \"Topic9\", \"Topic9\", \"Topic9\", \"Topic9\", \"Topic9\", \"Topic9\", \"Topic9\", \"Topic9\", \"Topic9\", \"Topic9\", \"Topic9\", \"Topic10\", \"Topic10\", \"Topic10\", \"Topic10\", \"Topic10\", \"Topic10\", \"Topic10\", \"Topic10\", \"Topic10\", \"Topic10\", \"Topic10\", \"Topic10\", \"Topic10\", \"Topic10\", \"Topic10\", \"Topic10\", \"Topic10\", \"Topic10\", \"Topic10\", \"Topic10\", \"Topic10\", \"Topic10\", \"Topic10\", \"Topic10\", \"Topic10\", \"Topic10\", \"Topic10\", \"Topic10\", \"Topic10\", \"Topic10\", \"Topic10\", \"Topic10\", \"Topic10\", \"Topic10\", \"Topic10\", \"Topic10\", \"Topic10\", \"Topic10\", \"Topic10\", \"Topic10\", \"Topic10\", \"Topic10\", \"Topic10\", \"Topic10\", \"Topic10\", \"Topic10\", \"Topic10\", \"Topic10\", \"Topic10\", \"Topic10\", \"Topic10\", \"Topic10\", \"Topic10\", \"Topic10\", \"Topic10\", \"Topic10\", \"Topic10\", \"Topic10\", \"Topic10\"], \"logprob\": [30.0, 29.0, 28.0, 27.0, 26.0, 25.0, 24.0, 23.0, 22.0, 21.0, 20.0, 19.0, 18.0, 17.0, 16.0, 15.0, 14.0, 13.0, 12.0, 11.0, 10.0, 9.0, 8.0, 7.0, 6.0, 5.0, 4.0, 3.0, 2.0, 1.0, -6.0339, -6.3133, -6.3136, -6.3144, -6.3314, -6.7024, -6.7024, -6.7028, -6.7028, -6.7029, -6.7029, -6.703, -6.703, -6.703, -6.703, -6.703, -6.7032, -6.7032, -6.7032, -6.7032, -6.7034, -6.7035, -6.7041, -6.7044, -6.706, -6.7128, -6.716, -6.7344, -6.0339, -5.8966, -5.6469, -4.5662, -5.358, -3.7851, -5.8297, -4.9268, -5.2385, -4.9211, -4.2402, -4.873, -5.016, -4.3982, -6.0349, -4.7986, -5.0482, -6.3151, -6.314, -6.3136, -3.5208, -5.1314, -5.2791, -6.3306, -5.4896, -5.8369, -5.0289, -3.9194, -4.3152, -4.9592, -4.7715, -4.1207, -4.8861, -4.6322, -5.2715, -4.3629, -5.0374, -4.8741, -4.7414, -4.9041, -5.1256, -5.102, -5.0824, -5.1157, -5.2084, -3.5317, -4.2015, -4.2016, -4.2017, -4.2018, -4.2421, -4.2421, -4.2849, -4.3743, -4.3744, -4.3744, -4.0622, -4.2015, -5.6151, -5.6158, -4.1059, -4.1158, -5.7941, -5.7941, -6.0122, -5.3314, -6.2916, -6.2918, -6.2919, -6.292, -6.293, -5.7946, -5.4635, -6.6811, -6.6814, -4.1248, -6.0233, -4.1322, -4.158, -5.5362, -5.7881, -3.3884, -5.019, -4.785, -5.4264, -4.8871, -4.7867, -5.0807, -4.6718, -5.1808, -5.3054, -5.106, -5.2948, -5.3083, -6.2005, -6.2006, -6.2014, -6.2015, -6.2032, -6.204, -6.2049, -6.2252, -5.7172, -6.5899, -6.5899, -6.5899, -6.5899, -6.5899, -6.5899, -6.59, -6.5901, -6.5901, -6.5902, -6.5903, -6.5909, -6.5918, -6.5922, -6.5921, -6.5925, -6.5925, -6.5925, -6.5925, -6.5927, -6.5927, -5.0858, -5.9215, -5.9215, -5.9301, -5.0327, -5.7043, -4.7819, -5.9217, -5.0953, -4.4661, -5.9259, -4.2839, -5.2949, -6.207, -6.204, -3.8078, -6.2013, -3.6707, -6.2004, -5.0198, -4.4489, -4.5824, -5.7924, -4.6084, -4.4526, -5.1466, -3.9528, -4.3751, -4.6602, -4.5686, -5.0806, -5.016, -5.1372, -5.2496, -4.7585, -4.1214, -5.4354, -5.3115, -5.0707, -5.2399, -5.0047, -5.1927, -5.2453, -5.5748, -5.5789, -5.244, -5.2499, -6.0724, -6.0731, -6.0732, -5.8928, -6.4618, -6.4618, -6.4619, -6.4619, -6.4621, -6.4621, -6.4622, -6.4625, -6.4625, -6.4626, -6.4627, -6.4629, -6.4629, -6.4629, -6.4631, -6.4633, -6.4637, -6.4637, -6.4642, -6.4655, -6.468, -6.468, -5.7951, -4.4345, -5.1876, -4.3773, -5.0829, -5.7992, -6.0724, -5.4008, -5.2755, -5.575, -4.8891, -5.2557, -5.267, -5.5771, -5.6349, -5.2896, -4.8527, -4.195, -5.0991, -4.9123, -5.3958, -5.0398, -4.0357, -4.1745, -4.7345, -5.0848, -5.2395, -5.1631, -4.4796, -5.2004, -5.3922, -5.023, -5.0874, -5.2382, -5.0913, -5.2425, -5.0962, -5.2039, -5.2492, -4.1715, -4.1715, -3.4521, -4.7421, -4.8583, -4.8584, -4.8584, -4.8584, -4.8584, -4.8584, -4.8584, -4.8584, -4.8584, -4.8584, -4.8584, -4.8585, -4.8585, -4.8585, -4.8585, -4.8585, -4.8585, -4.8585, -4.8585, -4.8585, -4.8585, -4.8586, -4.8586, -4.8586, -4.8586, -3.3662, -4.1112, -4.0546, -4.1714, -4.1716, -3.9249, -4.7421, -4.5435, -4.7422, -4.742, -4.4251, -4.7435, -4.7417, -4.7422, -4.7437, -4.5629, -4.5422, -4.7422, -4.7653, -4.6548, -4.651, -4.7392, -4.7451, -4.8018, -4.8582, -5.1253, -5.3051, -5.3168, -5.5225, -5.8011, -5.8028, -5.8032, -5.8051, -6.1906, -6.1909, -6.1909, -6.1909, -6.191, -6.191, -6.191, -6.191, -6.1911, -6.1911, -6.1911, -6.1912, -6.1914, -6.1914, -6.1915, -6.1915, -6.1915, -6.1915, -6.1915, -6.1916, -6.1916, -6.1916, -5.5227, -5.5735, -4.9819, -4.7673, -5.8017, -5.8015, -5.8042, -5.8019, -5.8014, -5.8018, -5.8028, -5.8222, -4.9804, -5.5772, -5.8301, -4.2527, -4.8417, -5.524, -5.2697, -4.8543, -5.8018, -5.1638, -5.5393, -4.01, -4.9906, -5.1258, -4.434, -5.3136, -5.1406, -5.0675, -5.1255, -5.0359, -5.2007, -4.6457, -5.0425, -5.1274, -4.7751, -5.0537, -5.0919, -5.2158, -5.2799, -5.245, -5.3738, -5.6579, -6.0413, -6.0413, -6.0413, -6.0413, -6.0413, -6.0415, -6.0414, -6.0416, -6.0421, -6.0421, -6.0422, -6.0424, -6.0432, -6.0432, -6.0433, -6.0437, -6.0491, -6.0492, -6.0546, -6.0786, -6.0791, -4.8267, -5.6535, -5.3726, -5.3976, -6.258, -5.7795, -6.0444, -5.6522, -5.2635, -5.3725, -4.1579, -4.3762, -3.5514, -5.3728, -4.5208, -4.4003, -4.8928, -4.6169, -5.3972, -4.1531, -4.6717, -5.6518, -4.8245, -5.6647, -5.3722, -4.9984, -5.3135, -4.9882, -4.4189, -5.3794, -5.154, -5.0521, -4.975, -5.1536, -4.8531, -5.2004, -5.142, -5.3805, -5.6293, -6.0158, -6.016, -6.016, -6.0161, -6.0161, -6.0161, -6.0161, -6.0163, -6.0164, -6.0164, -6.0164, -6.0169, -6.0177, -6.0203, -6.0315, -6.0317, -5.6264, -5.6269, -5.6455, -5.7069, -5.7049, -6.0162, -6.0161, -6.0158, -6.0162, -6.0162, -5.6481, -6.0662, -5.3689, -5.6623, -5.1292, -5.7078, -4.0364, -4.159, -5.0048, -5.3464, -5.3468, -4.588, -4.5709, -4.0559, -4.9775, -5.1306, -5.6269, -5.3464, -5.3466, -5.6594, -4.9494, -5.0543, -5.6267, -5.6266, -5.3468, -5.0106, -5.4974, -5.3982, -5.2549, -5.3399, -5.3465, -5.3471, -5.3177, -5.3471, -5.347, -5.2819, -5.3468, -5.3444, -5.2986, -5.3168, -5.3152, -5.3238, -3.6883, -5.6039, -5.6039, -5.604, -5.604, -5.6041, -5.6043, -5.6043, -5.6043, -5.6044, -5.6045, -5.6046, -5.6046, -5.6046, -5.9915, -5.9915, -5.9915, -5.9923, -5.9936, -5.9955, -5.9978, -6.0097, -6.0175, -3.861, -6.0297, -5.3491, -5.3493, -5.6042, -5.6046, -5.6038, -5.6046, -4.6204, -5.3246, -5.3237, -5.3308, -5.6031, -5.6046, -5.6021, -5.6175, -5.2733, -4.0229, -5.4075, -5.3232, -3.5157, -4.8379, -4.5905, -4.3953, -4.4299, -5.1227, -4.7335, -5.3243, -4.8425, -5.2129, -5.3454, -4.6694, -5.1623, -4.9679, -5.3382, -5.343, -5.3876, -5.2384, -5.2647, -5.2387, -5.335, -3.8136, -4.9107, -5.117, -5.7861, -5.7878, -5.7879, -5.7892, -5.798, -5.7857, -5.7883, -5.3667, -5.7855, -5.7864, -5.7874, -5.7858, -5.7867, -5.7862, -5.4128, -4.7352, -6.1675, -5.4889, -5.7856, -5.7864, -5.7856, -5.7864, -5.7863, -5.7857, -6.3664, -6.4322, -6.4328, -5.1471, -5.44, -4.9997, -4.8052, -4.806, -4.3466, -5.3964, -4.3192, -4.7436, -3.6609, -5.1167, -3.9479, -4.3987, -4.8192, -4.5302, -5.1179, -4.9687, -5.296, -5.3964, -5.0984, -5.1347, -5.4208, -5.0857, -4.9945, -5.0942, -4.9491, -5.1748, -5.2527, -5.3578], \"loglift\": [30.0, 29.0, 28.0, 27.0, 26.0, 25.0, 24.0, 23.0, 22.0, 21.0, 20.0, 19.0, 18.0, 17.0, 16.0, 15.0, 14.0, 13.0, 12.0, 11.0, 10.0, 9.0, 8.0, 7.0, 6.0, 5.0, 4.0, 3.0, 2.0, 1.0, 1.68, 1.6265, 1.6263, 1.6255, 1.609, 1.5298, 1.5298, 1.5294, 1.5294, 1.5293, 1.5293, 1.5292, 1.5292, 1.5292, 1.5292, 1.5292, 1.5291, 1.529, 1.529, 1.529, 1.5289, 1.5287, 1.5281, 1.528, 1.5264, 1.5198, 1.5167, 1.499, 1.4978, 1.4959, 1.4771, 1.3937, 1.4114, 1.2589, 1.425, 1.266, 1.2627, 1.1966, 1.0005, 1.076, 1.1074, 0.9276, 1.3567, 1.0065, 1.0723, 1.4147, 1.4072, 1.4026, 0.4621, 0.9868, 1.0079, 1.3944, 1.0766, 1.1936, 0.8515, 0.3186, 0.4838, 0.7806, 0.6723, 0.2799, 0.7248, 0.4946, 0.9242, 0.2368, 0.7244, 0.5838, 0.3342, 0.4624, 0.5582, 0.5156, 0.2928, 0.1524, 0.5864, 1.9047, 1.8891, 1.889, 1.8889, 1.8888, 1.8878, 1.8877, 1.8858, 1.8835, 1.8834, 1.8834, 1.8546, 1.8175, 1.7898, 1.7891, 1.7749, 1.7715, 1.7655, 1.7655, 1.7304, 1.7243, 1.6751, 1.6749, 1.6749, 1.6747, 1.6738, 1.6187, 1.5966, 1.5751, 1.5748, 1.51, 1.5505, 1.2931, 1.1251, 1.4375, 1.4972, 0.5945, 1.1828, 1.0837, 1.1577, 0.342, 0.0123, 0.4753, -0.4338, 0.6362, 0.5611, -0.5063, -0.0267, -0.2327, 1.7475, 1.7474, 1.7467, 1.7465, 1.745, 1.7441, 1.7433, 1.7233, 1.6768, 1.6496, 1.6496, 1.6496, 1.6496, 1.6495, 1.6495, 1.6494, 1.6494, 1.6493, 1.6493, 1.6492, 1.6487, 1.6477, 1.6474, 1.6474, 1.6471, 1.6471, 1.6471, 1.647, 1.6469, 1.6469, 1.6036, 1.6242, 1.6215, 1.612, 1.4652, 1.4508, 1.2254, 1.4831, 1.2588, 1.0579, 1.4695, 0.9842, 1.2766, 1.5372, 1.5344, 0.7919, 1.5296, 0.7299, 1.5272, 1.1534, 0.8981, 0.9191, 1.3507, 0.7618, 0.6742, 0.9878, 0.2852, 0.4239, 0.5689, 0.4754, 0.8674, 0.789, 0.8788, 0.9692, 0.5673, -0.1385, 0.9719, 0.7546, 0.3872, 0.6405, 0.071, 0.2512, 0.0915, 1.979, 1.9749, 1.9009, 1.895, 1.8892, 1.8885, 1.8885, 1.8431, 1.7897, 1.7897, 1.7897, 1.7896, 1.7895, 1.7894, 1.7894, 1.7891, 1.7891, 1.789, 1.7889, 1.7888, 1.7887, 1.7887, 1.7886, 1.7883, 1.788, 1.788, 1.7874, 1.7862, 1.7835, 1.7835, 1.754, 1.6472, 1.6762, 1.3165, 1.4425, 1.6066, 1.6695, 1.4555, 1.3664, 1.4742, 1.2065, 1.2664, 1.2643, 1.3852, 1.3999, 1.228, 0.9787, 0.604, 1.0864, 0.9468, 1.1948, 0.9923, 0.2022, 0.2262, 0.6407, 0.9355, 1.0665, 0.9319, 0.1201, 0.934, 1.1741, 0.5946, 0.6743, 0.8488, 0.2346, 0.7817, -0.0206, 0.1431, 0.4416, 2.3618, 2.3617, 2.3582, 2.3219, 2.311, 2.311, 2.311, 2.311, 2.311, 2.311, 2.311, 2.311, 2.3109, 2.3109, 2.3109, 2.3109, 2.3109, 2.3109, 2.3109, 2.3109, 2.3109, 2.3108, 2.3108, 2.3108, 2.3108, 2.3108, 2.3108, 2.3107, 2.3107, 2.3087, 2.3085, 2.2698, 2.2527, 2.153, 1.6311, 2.2264, 1.9855, 2.1504, 2.0656, 1.2687, 1.9836, 1.9191, 1.9093, 1.84, 0.9016, 0.6869, 1.7246, 1.8266, 1.0925, 1.0473, 0.9446, 0.538, 0.6235, 1.7964, 2.2941, 2.2686, 2.2569, 2.2336, 2.1783, 2.1766, 2.1762, 2.1743, 2.0768, 2.0765, 2.0765, 2.0765, 2.0765, 2.0764, 2.0764, 2.0764, 2.0764, 2.0764, 2.0763, 2.0763, 2.076, 2.076, 2.076, 2.076, 2.076, 2.0759, 2.0759, 2.0759, 2.0758, 2.0758, 2.0556, 2.0048, 1.8957, 1.6936, 1.962, 1.9602, 1.9575, 1.9509, 1.9499, 1.9496, 1.9486, 1.9343, 1.6049, 1.8253, 1.9263, 0.8741, 1.2202, 1.6433, 1.4586, 1.1616, 1.7711, 1.2645, 1.5148, -0.0271, 0.9574, 1.0535, 0.1657, 1.2268, 0.9464, 0.7989, 0.877, 0.5201, 0.8315, -0.4077, 0.3828, 0.5633, -0.3744, 0.187, 0.2551, 0.2422, 0.5515, 0.0918, 2.4129, 2.35, 2.2516, 2.2516, 2.2516, 2.2516, 2.2516, 2.2515, 2.2514, 2.2512, 2.2508, 2.2508, 2.2506, 2.2504, 2.2498, 2.2498, 2.2498, 2.2497, 2.2436, 2.2434, 2.238, 2.2134, 2.2129, 2.1556, 2.1221, 2.0583, 2.0559, 2.0305, 1.9817, 1.9647, 1.9286, 1.8078, 1.795, 1.2087, 1.1477, 0.4315, 1.6918, 0.8544, 0.6754, 1.1097, 0.7534, 1.5755, 0.0848, 0.6651, 1.7804, 0.6769, 1.7595, 1.3629, 0.833, 1.2668, 0.8065, -0.0183, 1.2705, 0.921, 0.6462, 0.4689, 0.7954, -0.2533, 0.6682, 0.3159, 0.3668, 2.3708, 2.2702, 2.27, 2.2699, 2.2699, 2.2698, 2.2698, 2.2698, 2.2696, 2.2696, 2.2696, 2.2695, 2.269, 2.2683, 2.2656, 2.2536, 2.2534, 2.143, 2.141, 2.1358, 2.0791, 2.0607, 1.9943, 1.9868, 1.9733, 1.9711, 1.9666, 1.9515, 1.9265, 1.926, 1.9128, 1.8428, 1.8971, 1.3004, 1.2112, 1.4748, 1.6391, 1.6259, 0.8558, 0.7956, 0.1821, 1.0693, 1.1958, 1.7846, 1.3715, 1.297, 1.7533, 0.6682, 0.8252, 1.6706, 1.6553, 1.1168, 0.4539, 1.3707, 1.1291, 0.7457, 0.8456, 0.8271, 0.6019, 0.4221, 0.4579, 0.4003, -0.2062, 0.2642, -0.0186, -0.6989, -0.9162, -1.3323, 2.4662, 2.4103, 2.4072, 2.4072, 2.4071, 2.4071, 2.407, 2.4068, 2.4068, 2.4068, 2.4067, 2.4066, 2.4065, 2.4065, 2.4064, 2.3042, 2.3042, 2.3042, 2.3034, 2.3021, 2.3001, 2.2976, 2.2855, 2.2775, 2.2711, 2.2645, 2.242, 2.2417, 2.191, 2.1845, 2.1833, 2.1824, 1.9296, 2.1068, 2.1059, 2.1055, 2.1787, 2.1773, 2.176, 2.1709, 2.0389, 1.2178, 2.0427, 1.9783, 0.4672, 1.4749, 1.1002, 0.4037, 0.1698, 1.4002, 0.4956, 1.7585, 0.5045, 1.4459, 1.7364, -0.4315, 1.0232, 0.3152, 1.5434, 1.5384, 1.6826, 0.896, 0.1792, -0.8381, 0.8838, 2.8435, 2.7196, 2.694, 2.5269, 2.5252, 2.525, 2.5238, 2.5143, 2.2376, 2.2349, 2.2282, 2.228, 2.2275, 2.226, 2.2215, 2.2207, 2.2163, 2.1962, 2.1633, 2.1268, 2.1031, 2.0133, 2.0019, 1.9999, 1.9885, 1.9796, 1.9757, 1.9121, 1.8721, 1.8716, 1.8465, 1.8493, 1.8177, 1.7995, 1.7947, 1.6565, 1.7918, 1.0474, 1.3226, 0.577, 1.5444, 0.4528, 0.8694, 1.2591, 0.845, 1.3494, 1.0319, 1.5129, 1.6604, 0.9041, 0.9218, 1.5534, 0.4158, 0.0495, 0.135, -0.9662, 0.1083, -0.1259, 0.9962]}, \"token.table\": {\"Topic\": [2, 5, 10, 8, 2, 1, 2, 7, 8, 9, 7, 8, 6, 4, 4, 3, 4, 6, 7, 10, 3, 4, 9, 1, 2, 3, 4, 6, 7, 8, 10, 6, 8, 3, 1, 3, 8, 10, 3, 1, 4, 7, 8, 10, 7, 4, 1, 2, 3, 4, 6, 7, 8, 10, 9, 10, 9, 2, 8, 3, 8, 1, 2, 3, 5, 6, 4, 4, 6, 1, 3, 8, 8, 10, 2, 8, 10, 1, 2, 3, 4, 8, 2, 4, 1, 2, 3, 4, 6, 7, 8, 9, 3, 4, 8, 4, 6, 6, 1, 3, 7, 1, 2, 3, 4, 6, 7, 8, 9, 10, 5, 6, 1, 2, 3, 4, 5, 7, 8, 10, 1, 2, 3, 4, 6, 7, 10, 1, 6, 6, 1, 2, 3, 4, 6, 7, 8, 9, 10, 1, 2, 3, 4, 6, 7, 8, 9, 10, 1, 3, 4, 6, 8, 10, 2, 8, 2, 3, 4, 5, 6, 7, 8, 9, 10, 1, 3, 4, 5, 6, 7, 8, 9, 10, 2, 8, 10, 1, 2, 3, 4, 6, 7, 8, 10, 1, 2, 3, 7, 8, 9, 10, 7, 8, 6, 7, 5, 6, 3, 4, 6, 7, 5, 6, 7, 9, 1, 3, 4, 9, 3, 7, 8, 10, 1, 2, 3, 4, 6, 7, 8, 10, 6, 1, 2, 3, 4, 6, 7, 8, 1, 2, 3, 4, 6, 7, 8, 9, 2, 6, 9, 10, 2, 2, 6, 3, 2, 3, 4, 6, 7, 6, 2, 7, 3, 2, 3, 4, 6, 7, 8, 9, 10, 6, 6, 2, 8, 1, 3, 4, 5, 6, 7, 8, 9, 10, 1, 4, 9, 1, 2, 3, 4, 5, 6, 7, 8, 10, 1, 2, 3, 4, 5, 6, 8, 9, 10, 7, 10, 3, 3, 1, 4, 2, 3, 4, 7, 8, 9, 3, 4, 1, 3, 4, 8, 9, 10, 7, 3, 1, 7, 2, 6, 1, 3, 4, 5, 6, 8, 9, 10, 1, 2, 3, 4, 3, 1, 9, 10, 1, 3, 4, 5, 8, 9, 10, 3, 1, 2, 3, 6, 7, 8, 3, 4, 6, 9, 10, 3, 1, 3, 5, 6, 7, 8, 1, 3, 4, 9, 7, 5, 5, 5, 9, 1, 3, 8, 9, 1, 2, 4, 6, 8, 1, 2, 3, 4, 8, 9, 10, 2, 6, 3, 1, 4, 9, 1, 3, 4, 6, 7, 8, 9, 3, 4, 5, 7, 10, 1, 4, 5, 7, 1, 3, 1, 3, 4, 6, 7, 8, 10, 2, 2, 1, 2, 3, 4, 6, 7, 8, 10, 1, 3, 9, 3, 7, 8, 10, 8, 6, 6, 8, 5, 4, 6, 10, 8, 2, 3, 10, 2, 9, 2, 7, 1, 4, 2, 3, 4, 6, 8, 9, 10, 7, 4, 8, 3, 4, 5, 1, 4, 5, 9, 3, 6, 7, 5, 5, 8, 6, 4, 10, 1, 3, 4, 6, 8, 9, 10, 1, 4, 8, 2, 3, 4, 5, 7, 8, 9, 3, 5, 8, 9, 2, 3, 4, 7, 10, 6, 1, 4, 7, 9, 3, 2, 6, 7, 1, 2, 6, 8, 9, 1, 2, 3, 4, 5, 6, 7, 8, 9, 10, 7, 2, 1, 2, 4, 5, 8, 9, 1, 4, 7, 1, 1, 4, 10, 2, 1, 2, 3, 4, 6, 7, 8, 1, 2, 3, 4, 5, 7, 8, 9, 10, 4, 10, 6, 8, 2, 4, 5, 6, 3, 6, 10, 1, 3, 4, 6, 8, 4, 5, 1, 2, 3, 4, 7, 8, 3, 1, 10, 1, 4, 6, 7, 2, 10, 10, 9, 1, 4, 10, 9, 9, 5, 6, 9, 5, 1, 3, 4, 5, 6, 7, 1, 1, 2, 3, 7, 8, 9, 1, 2, 3, 4, 5, 6, 7, 8, 9, 10, 5, 10, 2, 6, 7, 5, 1, 2, 4, 8, 1, 2, 3, 4, 5, 6, 7, 8, 10, 1, 5, 6, 7, 10, 1, 2, 4, 5, 7, 9, 10, 8, 9, 2, 4, 10, 6, 5, 5, 2, 9, 10, 6, 3, 5, 1, 5, 7, 10, 3, 4, 5, 7, 10, 9, 6, 6, 4, 2, 9, 10, 2, 3, 10, 2, 3, 6, 7, 8, 9, 10, 1, 2, 3, 4, 6, 9, 1, 3, 6, 7, 8, 9, 3, 4, 8, 9, 1, 3, 6, 7, 8, 9, 10, 6, 1, 6, 7, 4, 2, 4, 5, 6, 7, 8, 10, 4, 3, 4, 6, 7, 1, 8, 1, 5, 1, 2, 3, 7, 8, 3, 4, 7, 9, 2, 8, 1, 2, 4, 7, 3, 10, 3, 10, 3, 8, 2, 2, 9, 6, 9, 10, 3, 4, 6, 7, 9, 10, 1, 3, 4, 5, 7, 8, 9, 1, 7, 8, 9, 10, 6, 8, 1, 2, 3, 6, 7, 10, 1, 7, 10, 4, 6, 8, 9, 4, 9, 1, 2, 3, 5, 9, 5, 2, 5, 6, 7, 10, 1, 1, 5, 8, 3, 4, 4, 1, 3, 4, 10, 1, 2, 3, 6, 8, 9, 1, 2, 3, 6, 7, 10, 8, 2, 3, 4, 6, 7, 8, 9, 10, 8, 1, 2, 3, 4, 5, 6, 7, 8, 9, 10, 10, 1, 7, 9, 10, 7, 8, 10, 3, 1, 3, 6, 7, 2, 3, 4, 5, 6, 7, 8, 9, 1, 2, 7, 1, 2, 3, 6, 10, 1, 2, 3, 7, 8, 10, 1, 2, 3, 7, 10, 9, 1, 3, 4, 5, 6, 1, 2, 3, 5, 7, 8, 7, 8, 3, 4, 6, 7, 9, 1, 2, 3, 4, 5, 7, 8, 9, 10, 2, 3, 4, 6, 7, 8, 3, 2, 3, 5, 7, 1, 2, 3, 5, 10, 1, 2, 3, 4, 5, 7, 8, 9, 8, 2, 4, 3, 8, 9, 1, 2, 3, 4, 6, 7, 9, 2, 9, 10, 7, 6, 10, 4, 6, 1, 1, 2, 7, 9, 1, 2, 3, 4, 10, 3, 10, 3, 5, 1, 3, 1, 2, 3, 6, 7, 8, 10, 6, 4, 6, 1, 1, 4, 5, 9, 2, 4, 9, 10, 7, 8, 4, 3, 6, 1, 2, 3, 4, 6, 7, 10, 3, 8, 3, 4, 5, 9, 5, 4, 3, 2, 3, 6, 2, 10, 8, 1, 3, 5, 7, 8, 1, 5, 7, 1, 3, 6, 1, 2, 3, 4, 5, 6, 7, 8, 9, 10, 6, 2, 1, 2, 3, 4, 5, 10, 5, 6, 8, 1, 2, 3, 5, 6, 7, 8, 10, 5, 5, 1, 2, 3, 4, 6, 8, 10, 5, 10, 7, 4, 8, 10, 1, 2, 5, 1, 3, 6, 3, 4, 7, 6, 3, 4, 1, 4, 4, 2, 3, 4, 7, 8, 2, 3, 4, 4, 6, 7, 5, 6, 6, 1, 1, 5, 6, 7, 8, 9, 10, 2, 3, 4, 7, 10, 7, 10, 6, 10, 3, 6, 7, 1, 5, 4, 5, 6, 8, 9, 1, 3, 4, 5, 6, 7, 2, 9, 4, 2, 7, 5, 2, 10, 1, 3, 9, 1, 3, 4, 6, 7, 8, 9, 10, 8, 4, 1, 5, 8, 1, 2, 3, 4, 6, 9, 10, 4, 6, 7, 8, 9, 10, 4, 1, 2, 8, 9, 2, 3, 4, 1, 2, 3, 4, 6, 7, 8, 9, 10, 3, 2, 3, 6, 8, 5, 9, 7, 7, 9, 1, 2, 3, 6, 8, 9, 3, 7, 5, 9, 2, 9, 3, 8, 1, 2, 3, 4, 7, 8, 9, 10, 1, 2, 3, 7, 8, 9, 4, 1, 3, 4, 9, 9, 6, 9, 2, 3, 8, 4, 7, 9, 1, 1, 2, 3, 4, 7, 8, 10, 9, 1, 3, 4, 8, 10, 2, 2, 8, 10, 3, 1, 2, 3, 6, 7, 8, 9, 10, 1, 2, 7, 1, 1, 9, 1, 2, 3, 6, 7, 9, 1, 4, 5, 8, 10, 9, 1, 4, 8, 10, 1, 2, 3, 4, 8, 3, 1, 3, 4, 10, 9, 1, 3, 4, 7, 9, 2, 6, 7, 9, 10, 1, 2, 3, 5, 6, 7, 8, 10, 1, 2, 3, 4, 6, 7, 8, 10, 5, 3, 1, 3, 4, 5, 6, 7, 8, 10, 1, 3, 6, 10, 5, 1, 2, 3, 7, 3, 5, 6, 7, 10, 8, 3, 10, 1, 2, 3, 4, 6, 7, 7, 9, 2, 1, 9, 9, 3, 3, 9, 4, 5, 10, 2, 4, 7, 9, 4, 1, 2, 3, 4, 7, 8, 9, 1, 5, 9, 10, 1, 1, 2, 3, 7, 9, 6, 1, 2, 3, 4, 6, 7, 8, 9, 10, 1, 2, 3, 4, 6, 7, 8, 9, 10, 4, 3, 9, 1, 2, 3, 4, 5, 8, 2, 3, 6, 7, 5, 10, 2, 9, 1, 2, 3, 4, 6, 7, 8, 9, 9, 1, 2, 3, 4, 5, 6, 7, 8, 9, 10, 2, 8, 9, 2, 3, 4, 6, 10, 8, 1, 2, 3, 7, 8, 10, 4, 8, 7], \"Freq\": [0.8488459350012525, 0.7731908728606461, 0.19329771821516153, 0.7786624229329516, 0.9391480714692172, 0.19235587242307606, 0.19235587242307606, 0.5770676172692282, 0.23639620687000965, 0.709188620610029, 0.7841055312632802, 0.8776960112891715, 0.7639133350723482, 0.752289073059312, 0.9361258832865311, 0.1334543091540258, 0.40036292746207747, 0.2669086183080516, 0.0667271545770129, 0.0667271545770129, 0.16146190978373628, 0.6458476391349451, 0.16146190978373628, 0.08458945599310502, 0.16917891198621005, 0.29606309597586755, 0.04229472799655251, 0.08458945599310502, 0.04229472799655251, 0.04229472799655251, 0.21147363998276256, 0.2903741625898843, 0.5807483251797686, 0.7432926760450933, 0.2916477826697602, 0.09721592755658674, 0.09721592755658674, 0.48607963778293367, 0.743295082105732, 0.7379270633374864, 0.31818358364517046, 0.10606119454839016, 0.31818358364517046, 0.21212238909678033, 0.7840796263214123, 0.9361524355035546, 0.0405556206742079, 0.0811112413484158, 0.2027781033710395, 0.2433337240452474, 0.1622224826968316, 0.0811112413484158, 0.0811112413484158, 0.0811112413484158, 0.39655984835289654, 0.39655984835289654, 0.88732364538108, 0.9415207679414755, 0.7779942251099676, 0.7978626338599338, 0.15957252677198677, 0.07096582941327084, 0.07096582941327084, 0.14193165882654168, 0.5677266353061667, 0.14193165882654168, 0.7523567367219133, 0.22813979971022622, 0.6844193991306786, 0.16238518632267077, 0.32477037264534153, 0.4871555589680123, 0.5911465365422856, 0.2955732682711428, 0.68565836470333, 0.11427639411722165, 0.11427639411722165, 0.3318782362361102, 0.1659391181180551, 0.1659391181180551, 0.08296955905902755, 0.20742389764756886, 0.8488190518491889, 0.7523462488054448, 0.19518869970516112, 0.0878349148673225, 0.30254248454299976, 0.1366320897936128, 0.10735378483783863, 0.05855660991154834, 0.039037739941032226, 0.07807547988206445, 0.1912530363585136, 0.1912530363585136, 0.5737591090755407, 0.677859858933523, 0.2259532863111743, 0.7643951855100799, 0.6606886836987845, 0.22022956123292817, 0.7842142665182952, 0.24753098910467286, 0.26333083947305624, 0.12113218615760588, 0.026333083947305623, 0.084265868631378, 0.11059895257868362, 0.0210664671578445, 0.11059895257868362, 0.0210664671578445, 0.8922672587876481, 0.7644328011094461, 0.25969836904186805, 0.11542149735194135, 0.08656612301395601, 0.17313224602791202, 0.2308429947038827, 0.057710748675970674, 0.028855374337985337, 0.028855374337985337, 0.2637161552763614, 0.2637161552763614, 0.16482259704772587, 0.1318580776381807, 0.03296451940954517, 0.06592903881909035, 0.06592903881909035, 0.32188383965992584, 0.4828257594898888, 0.85962057154994, 0.2106989707202051, 0.09515437387364101, 0.18351200675630766, 0.1427315608104615, 0.061170668918769225, 0.0815608918916923, 0.08835763288266665, 0.047577186936820504, 0.09515437387364101, 0.2951010307515752, 0.022700079288582704, 0.18160063430866163, 0.0681002378657481, 0.022700079288582704, 0.11350039644291351, 0.15890055502007894, 0.09080031715433082, 0.04540015857716541, 0.28075933872743547, 0.2105695040455766, 0.17547458670464716, 0.1052847520227883, 0.17547458670464716, 0.035094917340929434, 0.5231745745635938, 0.4185396596508751, 0.2424598096862464, 0.10391134700839132, 0.17318557834731885, 0.06927423133892754, 0.20782269401678263, 0.06927423133892754, 0.06927423133892754, 0.03463711566946377, 0.06927423133892754, 0.2762570145907536, 0.20719276094306519, 0.1381285072953768, 0.023021417882562796, 0.11510708941281399, 0.09208567153025118, 0.0690642536476884, 0.023021417882562796, 0.04604283576512559, 0.1978473331073576, 0.1978473331073576, 0.3956946662147152, 0.1985603797331434, 0.03971207594662868, 0.03971207594662868, 0.1985603797331434, 0.1588483037865147, 0.03971207594662868, 0.03971207594662868, 0.27798453162640074, 0.25213731880029827, 0.10505721616679095, 0.06303432970007457, 0.25213731880029827, 0.16809154586686553, 0.02101144323335819, 0.14708010263350735, 0.7840880746668051, 0.7786460716711666, 0.7643939463545882, 0.7838411131254173, 0.8341936735111365, 0.10427420918889206, 0.09390751883896449, 0.6573526318727515, 0.09390751883896449, 0.09390751883896449, 0.2292865941126414, 0.6878597823379242, 0.5903651354991217, 0.29518256774956086, 0.5280884207267278, 0.2880482294873061, 0.04800803824788435, 0.0960160764957687, 0.7434271348493149, 0.29336493254223667, 0.5867298650844733, 0.8000504576709182, 0.14276660058577165, 0.14276660058577165, 0.14276660058577165, 0.020395228655110235, 0.10197614327555117, 0.14276660058577165, 0.26513797251643306, 0.020395228655110235, 0.7643960875319885, 0.3832838952842222, 0.08069134637562572, 0.24207403912687717, 0.14120985615734502, 0.02017283659390643, 0.04034567318781286, 0.06051850978171929, 0.2501359583674826, 0.1429348333528472, 0.2144022500292708, 0.2144022500292708, 0.011911236112737268, 0.0357337083382118, 0.023822472225474536, 0.1072011250146354, 0.23378240840741293, 0.23378240840741293, 0.3506736126111194, 0.11689120420370647, 0.9688010353122756, 0.9415206411884812, 0.7643958511967232, 0.7434074242725929, 0.355388658945088, 0.07107773178901759, 0.07107773178901759, 0.4264663907341056, 0.07107773178901759, 0.7643930030095093, 0.946605064564798, 0.7089432040044228, 0.7432985575836732, 0.1646036734626268, 0.10973578230841788, 0.1646036734626268, 0.10973578230841788, 0.05486789115420894, 0.21947156461683576, 0.10973578230841788, 0.05486789115420894, 0.7643968181740588, 0.7643976732379312, 0.2893273832980618, 0.5786547665961236, 0.24798077330485158, 0.26451282485850836, 0.08266025776828385, 0.016532051553656772, 0.21491667019753802, 0.04959615466097032, 0.04959615466097032, 0.016532051553656772, 0.04959615466097032, 0.6368024767930176, 0.1592006191982544, 0.1592006191982544, 0.3219393899324683, 0.10731312997748943, 0.10731312997748943, 0.08048484748311707, 0.1341414124718618, 0.053656564988744715, 0.053656564988744715, 0.08048484748311707, 0.053656564988744715, 0.07325149001492108, 0.201441597541033, 0.23806734254849354, 0.054938617511190814, 0.1831287250373027, 0.03662574500746054, 0.01831287250373027, 0.10987723502238163, 0.054938617511190814, 0.29938975128210327, 0.5987795025642065, 0.7432912400753239, 0.7433673470653334, 0.737930412458706, 0.7523495166637306, 0.1429144873069874, 0.0714572436534937, 0.3572862182674685, 0.0714572436534937, 0.1429144873069874, 0.1429144873069874, 0.1243844640751461, 0.7463067844508766, 0.11897308756392919, 0.3569192626917876, 0.1784596313458938, 0.11897308756392919, 0.11897308756392919, 0.05948654378196459, 0.7840865570302974, 0.7433237411841972, 0.2303854596734701, 0.4607709193469402, 0.22845488941893188, 0.6853646682567957, 0.0291444334315704, 0.0291444334315704, 0.43716650147355596, 0.32058876774727435, 0.0291444334315704, 0.0582888668631408, 0.0582888668631408, 0.0291444334315704, 0.11142725579588468, 0.11142725579588468, 0.22285451159176936, 0.4457090231835387, 0.8331077788941619, 0.19432695329481436, 0.5829808598844431, 0.7999645612334814, 0.2295151359124841, 0.07650504530416137, 0.07650504530416137, 0.15301009060832274, 0.07650504530416137, 0.3060201812166455, 0.07650504530416137, 0.8331056498885023, 0.08242274568273358, 0.6593819654618687, 0.10989699424364478, 0.05494849712182239, 0.05494849712182239, 0.027474248560911196, 0.2300285385900687, 0.3833808976501145, 0.0766761795300229, 0.0766761795300229, 0.2300285385900687, 0.8332317759677719, 0.14121200183308047, 0.42363600549924146, 0.094141334555387, 0.0470706672776935, 0.14121200183308047, 0.14121200183308047, 0.12416014076152823, 0.4966405630461129, 0.24832028152305646, 0.12416014076152823, 0.7840991984436652, 0.8922636822696326, 0.8922664734088648, 0.23518780787330604, 0.7055634236199181, 0.7324556528704848, 0.1831139132176212, 0.705170814915073, 0.23505693830502436, 0.10751753509261575, 0.16127630263892362, 0.32255260527784724, 0.2150350701852315, 0.10751753509261575, 0.4465428066735453, 0.04465428066735453, 0.17861712266941812, 0.1339628420020636, 0.1339628420020636, 0.04465428066735453, 0.04465428066735453, 0.8489029750467068, 0.7643949187980086, 0.743292006417308, 0.18634304213133232, 0.7453721685253293, 0.7859544644087879, 0.3296464095330738, 0.14127703265703162, 0.09418468843802108, 0.09418468843802108, 0.14127703265703162, 0.14127703265703162, 0.04709234421901054, 0.1036281847597088, 0.518140923798544, 0.2072563695194176, 0.1036281847597088, 0.1036281847597088, 0.028600797246930418, 0.057201594493860836, 0.8866247146548429, 0.7840913566401945, 0.7381105931938002, 0.7432928550044587, 0.07516240372472419, 0.3382308167612588, 0.18790600931181045, 0.22548721117417256, 0.03758120186236209, 0.03758120186236209, 0.07516240372472419, 0.953497391921423, 0.9733207924304745, 0.03961024957224826, 0.19805124786124131, 0.11883074871674479, 0.19805124786124131, 0.03961024957224826, 0.07922049914449653, 0.15844099828899305, 0.15844099828899305, 0.16535483498452613, 0.16535483498452613, 0.49606450495357834, 0.743428362410468, 0.1970460212493733, 0.3940920424987466, 0.1970460212493733, 0.7786759558858968, 0.8596539845803511, 0.5756071358081452, 0.19186904526938173, 0.9177470994278648, 0.3816110121332729, 0.5088146828443639, 0.12720367071109098, 0.7786612562382934, 0.19450127486262123, 0.19450127486262123, 0.38900254972524245, 0.9471553309379186, 0.036429051189919945, 0.8066199601635248, 0.784098735541695, 0.8263115171816181, 0.7523471597494311, 0.06860994563347056, 0.06860994563347056, 0.20582983690041168, 0.06860994563347056, 0.06860994563347056, 0.4802696194342939, 0.06860994563347056, 0.3903560324050341, 0.28880749682670037, 0.5776149936534007, 0.7401787210518003, 0.18504468026295007, 0.8922666231992765, 0.09557914016651936, 0.38231656066607744, 0.19115828033303872, 0.2867374204995581, 0.6392276855754252, 0.3196138427877126, 0.7841709371335119, 0.9446350438602652, 0.8922637940701734, 0.7786845745115971, 0.8596342367785599, 0.7523499182818788, 0.7264532881575464, 0.42609746101158275, 0.05557792969716297, 0.09262988282860495, 0.11115585939432594, 0.05557792969716297, 0.24083769535437285, 0.01852597656572099, 0.8263135786705955, 0.23192043436769358, 0.6957613031030807, 0.127896026136421, 0.127896026136421, 0.19184403920463153, 0.0639480130682105, 0.0639480130682105, 0.31974006534105254, 0.127896026136421, 0.13552723582469378, 0.09035149054979587, 0.09035149054979587, 0.677636179123469, 0.3141354479525891, 0.10471181598419636, 0.10471181598419636, 0.3141354479525891, 0.10471181598419636, 0.8183811980137861, 0.6941109532569433, 0.13882219065138865, 0.13882219065138865, 0.8873454906095312, 0.7432941275686054, 0.8875836141836217, 0.04034470973561917, 0.04034470973561917, 0.7379103158022184, 0.2890314033447698, 0.1445157016723849, 0.4335471050171547, 0.88735172731644, 0.1463813920093344, 0.05855255680373376, 0.1463813920093344, 0.02927627840186688, 0.2634865056168019, 0.05855255680373376, 0.1463813920093344, 0.05855255680373376, 0.05855255680373376, 0.02927627840186688, 0.8845113475225097, 0.9535190178436529, 0.07617994634461665, 0.07617994634461665, 0.1523598926892333, 0.5332596244123166, 0.07617994634461665, 0.07617994634461665, 0.25446128953364056, 0.25446128953364056, 0.38169193430046083, 0.7379535313188414, 0.3728194165698422, 0.4660242707123027, 0.09320485414246055, 0.904467052142141, 0.06642881131939447, 0.13285762263878895, 0.06642881131939447, 0.3985728679163668, 0.13285762263878895, 0.06642881131939447, 0.06642881131939447, 0.04281032244276286, 0.12843096732828857, 0.04281032244276286, 0.25686193465657714, 0.08562064488552572, 0.04281032244276286, 0.12843096732828857, 0.08562064488552572, 0.17124128977105144, 0.29465608886039835, 0.5893121777207967, 0.6914218912650539, 0.230473963755018, 0.11303010233115166, 0.5651505116557582, 0.11303010233115166, 0.2260602046623033, 0.6452103448955073, 0.16130258622387683, 0.16130258622387683, 0.5227482661985732, 0.06534353327482165, 0.1306870665496433, 0.06534353327482165, 0.1306870665496433, 0.03274873730989315, 0.9497133819869015, 0.11962689990161945, 0.2392537998032389, 0.4785075996064778, 0.03987563330053982, 0.07975126660107965, 0.03987563330053982, 0.8334954670535586, 0.4608233256991972, 0.4608233256991972, 0.1644647215124143, 0.1644647215124143, 0.1644647215124143, 0.49339416453724294, 0.7963568325310854, 0.11376526179015505, 0.9164308376003663, 0.7862894618542223, 0.7379227868470687, 0.29467481331029527, 0.5893496266205905, 0.8873469866740306, 0.8873396613440269, 0.8922686951132027, 0.7643961212875832, 0.8873196441064007, 0.8922670653544011, 0.12066606642259615, 0.3217761771269231, 0.040222022140865385, 0.08044404428173077, 0.2815541549860577, 0.12066606642259615, 0.7379393952572983, 0.21650799306739776, 0.05412699826684944, 0.2706349913342472, 0.05412699826684944, 0.05412699826684944, 0.32476198960109665, 0.21990248393458983, 0.10995124196729492, 0.14136588252937918, 0.10995124196729492, 0.10995124196729492, 0.06282928112416852, 0.14136588252937918, 0.06282928112416852, 0.01570732028104213, 0.01570732028104213, 0.29660433676715015, 0.5932086735343003, 0.9733230776450038, 0.7643969264603078, 0.7839195850427432, 0.9446386725282769, 0.30138539507290585, 0.2260390463046794, 0.2260390463046794, 0.2260390463046794, 0.20198205907822742, 0.12118923544693645, 0.04039641181564548, 0.2827748827095184, 0.04039641181564548, 0.16158564726258193, 0.12118923544693645, 0.04039641181564548, 0.04039641181564548, 0.1792896223037997, 0.08964481115189984, 0.2689344334556995, 0.08964481115189984, 0.3585792446075994, 0.311957252562699, 0.1247829010250796, 0.2183700767938893, 0.2183700767938893, 0.0311957252562699, 0.0311957252562699, 0.0311957252562699, 0.7786853256649123, 0.8873515420441287, 0.23355374816908878, 0.23355374816908878, 0.46710749633817755, 0.7643887039703228, 0.8922667803769927, 0.8922630408841414, 0.23670530630040632, 0.23670530630040632, 0.47341061260081263, 0.7643928159267322, 0.7433121670595144, 0.89226282305819, 0.1638212841385584, 0.6552851365542336, 0.0819106420692792, 0.0819106420692792, 0.31459081691857455, 0.10486360563952485, 0.10486360563952485, 0.10486360563952485, 0.2097272112790497, 0.8873106232465654, 0.7639275488908026, 0.7643958385631652, 0.7523921746207006, 0.6289079145330014, 0.20963597151100047, 0.10481798575550023, 0.8488350612125104, 0.39014792809838894, 0.5852218921475834, 0.41657586528135, 0.1041439663203375, 0.13885862176045, 0.13885862176045, 0.1041439663203375, 0.0347146554401125, 0.0347146554401125, 0.14527847931335072, 0.17433417517602087, 0.14527847931335072, 0.17433417517602087, 0.14527847931335072, 0.20338987103869102, 0.4514184724722937, 0.11285461811807343, 0.07523641207871562, 0.15047282415743124, 0.11285461811807343, 0.07523641207871562, 0.3622681533605969, 0.3169846341905223, 0.13585055751022385, 0.18113407668029846, 0.1970906840414951, 0.34490869707261645, 0.049272671010373775, 0.09854534202074755, 0.049272671010373775, 0.14781801303112133, 0.049272671010373775, 0.9167926870082679, 0.737933469066006, 0.6928356045390944, 0.23094520151303147, 0.7524033346004722, 0.2285399664462476, 0.07617998881541586, 0.4570799328924952, 0.15235997763083173, 0.025393329605138622, 0.025393329605138622, 0.025393329605138622, 0.7524477832527319, 0.22565531535557198, 0.45131063071114397, 0.15043687690371466, 0.15043687690371466, 0.6697465576192237, 0.22324885253974125, 0.6666010168236911, 0.22220033894123037, 0.08115256170468643, 0.2434576851140593, 0.2434576851140593, 0.08115256170468643, 0.2434576851140593, 0.16578118649074303, 0.16578118649074303, 0.4973435594722291, 0.16578118649074303, 0.2322559241565401, 0.6967677724696203, 0.28290995487039317, 0.21218246615279487, 0.28290995487039317, 0.28290995487039317, 0.29325063551649216, 0.5865012710329843, 0.6794709509296211, 0.22649031697654037, 0.2875273237506686, 0.5750546475013372, 0.7558319202207708, 0.7156970188621923, 0.2862788075448769, 0.16879375480060485, 0.5063812644018146, 0.16879375480060485, 0.16351375223546427, 0.32702750447092854, 0.20439219029433034, 0.1226353141765982, 0.1226353141765982, 0.04087843805886607, 0.20121355011194397, 0.20121355011194397, 0.06707118337064799, 0.13414236674129598, 0.06707118337064799, 0.20121355011194397, 0.13414236674129598, 0.4331234925923876, 0.07218724876539792, 0.07218724876539792, 0.07218724876539792, 0.36093624382698963, 0.6914196673298033, 0.23047322244326776, 0.7379182977199672, 0.16513734357263085, 0.2477060153589463, 0.16513734357263085, 0.2477060153589463, 0.16513734357263085, 0.7379859193845717, 0.7842137636561312, 0.799988047036064, 0.752426563501121, 0.7643958450304772, 0.23640881725200957, 0.7092264517560287, 0.332926925968711, 0.4993903889530665, 0.6084637441687559, 0.11408695203164174, 0.15211593604218898, 0.07605796802109449, 0.038028984010547245, 0.8922635654733961, 0.7558651744195278, 0.8922646586672127, 0.7643970806572733, 0.29941209958559345, 0.5988241991711869, 0.737934025540105, 0.7379151432807928, 0.7101747556145152, 0.26631553335544317, 0.12438933977630084, 0.7463360386578051, 0.752384720637786, 0.227787010500032, 0.341680515750048, 0.113893505250016, 0.341680515750048, 0.40097449280706626, 0.04455272142300736, 0.2673163285380442, 0.1336581642690221, 0.08910544284601472, 0.04455272142300736, 0.4898700156183745, 0.044533637783488594, 0.22266818891744297, 0.08906727556697719, 0.044533637783488594, 0.08906727556697719, 0.7786890380249487, 0.21336244163606718, 0.17068995330885375, 0.04267248832721344, 0.17068995330885375, 0.17068995330885375, 0.08534497665442688, 0.04267248832721344, 0.08534497665442688, 0.7786741061651774, 0.21193318723708574, 0.04238663744741714, 0.06357995617112572, 0.23312650596079432, 0.02119331872370857, 0.04238663744741714, 0.16954654978966857, 0.04238663744741714, 0.04238663744741714, 0.12715991234225144, 0.7994671400473172, 0.7379269381692971, 0.784461643028084, 0.39657578695481277, 0.39657578695481277, 0.5080968578804375, 0.16936561929347915, 0.16936561929347915, 0.8330729050610928, 0.31382114365552805, 0.06276422873110561, 0.5021138298488449, 0.12552845746221122, 0.12362592765874264, 0.3296691404233137, 0.14423024893519976, 0.06181296382937132, 0.12362592765874264, 0.06181296382937132, 0.06181296382937132, 0.12362592765874264, 0.6639886467047255, 0.22132954890157513, 0.7840991973342084, 0.14199215111149888, 0.4969725288902461, 0.14199215111149888, 0.07099607555574944, 0.14199215111149888, 0.17778301365854648, 0.08889150682927324, 0.17778301365854648, 0.08889150682927324, 0.17778301365854648, 0.2666745204878197, 0.1449404781348255, 0.289880956269651, 0.07247023906741275, 0.1449404781348255, 0.3623511953370638, 0.7857659813366579, 0.3851362359665088, 0.24071014747906802, 0.1925681179832544, 0.0962840589916272, 0.0481420294958136, 0.14020381223971612, 0.07010190611985806, 0.4907133428390064, 0.07010190611985806, 0.07010190611985806, 0.14020381223971612, 0.784099565438983, 0.778005035706972, 0.11556376189944526, 0.11556376189944526, 0.2311275237988905, 0.462255047597781, 0.8873293356837011, 0.03865703325919149, 0.4445558824807021, 0.09664258314797872, 0.05798554988878723, 0.15462813303676595, 0.019328516629595744, 0.03865703325919149, 0.09664258314797872, 0.05798554988878723, 0.2177883308929466, 0.13067299853576797, 0.3920189956073039, 0.04355766617858932, 0.08711533235717864, 0.13067299853576797, 0.7432940252574121, 0.11478894822639159, 0.22957789645278318, 0.11478894822639159, 0.3443668446791748, 0.1518857038077102, 0.0759428519038551, 0.0759428519038551, 0.6075428152308407, 0.0759428519038551, 0.06149741135512354, 0.18449223406537063, 0.12299482271024707, 0.15374352838780886, 0.27673835109805595, 0.09224611703268532, 0.09224611703268532, 0.8873168809452173, 0.7786298347726318, 0.8066253055759312, 0.7523909012145469, 0.628327041809158, 0.2513308167236632, 0.1256654083618316, 0.44784866646766375, 0.13435459994029914, 0.044784866646766376, 0.13435459994029914, 0.044784866646766376, 0.044784866646766376, 0.13435459994029914, 0.9535069251765798, 0.7150145586029565, 0.2383381862009855, 0.7842143155302029, 0.29648424149222563, 0.5929684829844513, 0.22811492766557642, 0.6843447829967293, 0.7379420146284558, 0.11678353374311401, 0.11678353374311401, 0.35035060122934203, 0.35035060122934203, 0.21478356399090576, 0.0859134255963623, 0.04295671279818115, 0.6013939791745361, 0.04295671279818115, 0.38643821739471695, 0.38643821739471695, 0.06023145536665488, 0.9034718304998233, 0.7309013079666867, 0.2436337693222289, 0.15873889930694082, 0.039684724826735206, 0.15873889930694082, 0.198423624133676, 0.23810834896041122, 0.07936944965347041, 0.11905417448020561, 0.7643954249035326, 0.22811518883579252, 0.6843455665073775, 0.7381701529851874, 0.09559340122070793, 0.38237360488283173, 0.19118680244141587, 0.2867802036621238, 0.1470462055044552, 0.1470462055044552, 0.5881848220178209, 0.1470462055044552, 0.3919708510035414, 0.5879562765053121, 0.7523880540120081, 0.7428476497089125, 0.18571191242722812, 0.17136587326650765, 0.13328456809617262, 0.3617723991181828, 0.1142439155110051, 0.038081305170335034, 0.019040652585167517, 0.13328456809617262, 0.48777110764771364, 0.48777110764771364, 0.07154859634106023, 0.21464578902318066, 0.5723887707284818, 0.14309719268212046, 0.892269330946679, 0.752351917148921, 0.7432926760450933, 0.18520803138093972, 0.7408321255237589, 0.8596906948959709, 0.39260285753664076, 0.39260285753664076, 0.7786712633091766, 0.13437576112532293, 0.06718788056266146, 0.6718788056266146, 0.06718788056266146, 0.06718788056266146, 0.7379284098265444, 0.892268226629916, 0.7833782595210513, 0.15775514325718545, 0.7098981446573346, 0.07887757162859273, 0.2079345708879584, 0.05598238446983495, 0.2799119223491748, 0.14395470292243273, 0.03198993398276283, 0.06397986796552566, 0.07197735146121637, 0.03198993398276283, 0.03198993398276283, 0.08797231845259779, 0.7643928857062614, 0.9535124985687959, 0.06313924423873515, 0.06313924423873515, 0.06313924423873515, 0.1894177327162055, 0.5051139539098812, 0.06313924423873515, 0.8922651918203649, 0.7674396771149132, 0.1918599192787283, 0.04456452233895889, 0.5347742680675066, 0.022282261169479445, 0.1559758281863561, 0.13369356701687665, 0.06684678350843833, 0.022282261169479445, 0.022282261169479445, 0.8922647505039245, 0.8922678186981681, 0.31583430640658255, 0.18950058384394955, 0.12633372256263303, 0.06316686128131652, 0.06316686128131652, 0.06316686128131652, 0.18950058384394955, 0.892265648913403, 0.8000706737566105, 0.7840891909669504, 0.7522883054532886, 0.47229113829672575, 0.23614556914836288, 0.8263481519073647, 0.9733249147414802, 0.8922700446468653, 0.737925783938258, 0.6705258800929929, 0.2235086266976643, 0.10571994556696625, 0.10571994556696625, 0.6343196734017975, 0.7643967588113265, 0.7434239924937345, 0.7523930249099466, 0.7379282106825183, 0.7523492805298366, 0.8444700297845005, 0.10470805358890832, 0.20941610717781664, 0.10470805358890832, 0.20941610717781664, 0.31412416076672495, 0.8432826290083016, 0.07027355241735847, 0.035136776208679235, 0.2856207897864955, 0.571241579572991, 0.09520692992883184, 0.2292870488603401, 0.6878611465810203, 0.7644368010044067, 0.8789731295667321, 0.18225446444820176, 0.06075148814940058, 0.3037574407470029, 0.18225446444820176, 0.12150297629880116, 0.06075148814940058, 0.12150297629880116, 0.06694871814293066, 0.13389743628586132, 0.4686410270005146, 0.13389743628586132, 0.13389743628586132, 0.478425795174127, 0.478425795174127, 0.2964560140147152, 0.5929120280294304, 0.19083014448456945, 0.5724904334537083, 0.19083014448456945, 0.7380673846794384, 0.8922678626028796, 0.40407997069912593, 0.06734666178318766, 0.2693866471327506, 0.06734666178318766, 0.20203998534956297, 0.15164188838366505, 0.22746283257549757, 0.07582094419183252, 0.07582094419183252, 0.15164188838366505, 0.22746283257549757, 0.21845235146055655, 0.7864284652580036, 0.7524282492471208, 0.23369208687733772, 0.7010762606320131, 0.8922673290612438, 0.7640315931265809, 0.19100789828164522, 0.7388202433424452, 0.7433204972428941, 0.8873089582419922, 0.19236476796447605, 0.3366383439378331, 0.09618238398223802, 0.09618238398223802, 0.14427357597335702, 0.024045595995559506, 0.024045595995559506, 0.07213678798667851, 0.7786818518300687, 0.8444496509903187, 0.7382726028984609, 0.8760954479664214, 0.10951193099580267, 0.08706856708073178, 0.13060285062109767, 0.21767141770182946, 0.30473998478256126, 0.08706856708073178, 0.13060285062109767, 0.08706856708073178, 0.3398144433471913, 0.27185155467775307, 0.06796288866943827, 0.13592577733887654, 0.06796288866943827, 0.13592577733887654, 0.6738748932483895, 0.14546951780326298, 0.14546951780326298, 0.14546951780326298, 0.4364085534097889, 0.22276207964998335, 0.66828623894995, 0.8444998609725743, 0.17193096076736772, 0.13754476861389417, 0.06877238430694708, 0.3094757293812619, 0.03438619215347354, 0.03438619215347354, 0.10315857646042062, 0.10315857646042062, 0.06877238430694708, 0.7434241481123097, 0.11358234139307116, 0.22716468278614232, 0.45432936557228465, 0.11358234139307116, 0.8922660083504508, 0.7860607612183668, 0.7839156231899564, 0.23671421482227373, 0.7101426444668212, 0.14209176987131467, 0.28418353974262933, 0.09472784658087645, 0.2368196164521911, 0.09472784658087645, 0.09472784658087645, 0.675514955683768, 0.22517165189458935, 0.23517000994223886, 0.7055100298267165, 0.23430624819921214, 0.7029187445976365, 0.8331749788811649, 0.7787229434824509, 0.5478533642511227, 0.0456544470209269, 0.21305408609765886, 0.030436298013951264, 0.0456544470209269, 0.015218149006975632, 0.0456544470209269, 0.06087259602790253, 0.3146806716376293, 0.2517445373101035, 0.06293613432752587, 0.06293613432752587, 0.1888084029825776, 0.06293613432752587, 0.7524245023091751, 0.19539035136342656, 0.5861710540902797, 0.13026023424228436, 0.06513011712114218, 0.7862950361207567, 0.7643967998373191, 0.7862660710900263, 0.2853114828846348, 0.2853114828846348, 0.4279672243269523, 0.7524471998704902, 0.7833686079665683, 0.785121189751021, 0.737924460311584, 0.2932047362610295, 0.04188639089443278, 0.20943195447216392, 0.16754556357773112, 0.08377278178886556, 0.08377278178886556, 0.12565917268329835, 0.7862950361207567, 0.37722972880044914, 0.09430743220011228, 0.09430743220011228, 0.28292229660033685, 0.09430743220011228, 0.9466035105798833, 0.23603269394485252, 0.23603269394485252, 0.47206538788970503, 0.8330539319233199, 0.35125326359582787, 0.07025065271916557, 0.24587728451707952, 0.035125326359582786, 0.10537597907874836, 0.035125326359582786, 0.10537597907874836, 0.035125326359582786, 0.16557901257916952, 0.16557901257916952, 0.49673703773750855, 0.8268144353417513, 0.6373577414015325, 0.1593394353503831, 0.11542593799989943, 0.11542593799989943, 0.11542593799989943, 0.11542593799989943, 0.11542593799989943, 0.3462778139996983, 0.12989159721222626, 0.12989159721222626, 0.12989159721222626, 0.2597831944244525, 0.3896747916366788, 0.7862191288722046, 0.4184258392794647, 0.3486881993995539, 0.06973763987991079, 0.06973763987991079, 0.3390655157752107, 0.484379308250301, 0.0968758616500602, 0.0484379308250301, 0.0484379308250301, 0.8330522435947819, 0.1437014983347145, 0.287402996669429, 0.1437014983347145, 0.287402996669429, 0.8873293405348692, 0.4219835621759331, 0.2637397263599582, 0.15824383581597493, 0.052747945271991635, 0.052747945271991635, 0.32075254994022756, 0.10691751664674251, 0.10691751664674251, 0.10691751664674251, 0.32075254994022756, 0.29017761816424553, 0.12896783029522024, 0.19345174544283036, 0.03224195757380506, 0.12896783029522024, 0.1612097878690253, 0.03224195757380506, 0.03224195757380506, 0.09836967360580486, 0.04918483680290243, 0.3934786944232194, 0.07377725520435363, 0.09836967360580486, 0.22133176561306092, 0.024592418401451214, 0.024592418401451214, 0.8922691203719992, 0.7432924640466999, 0.10033354911054176, 0.13377806548072235, 0.3010006473316253, 0.03344451637018059, 0.16722258185090294, 0.16722258185090294, 0.03344451637018059, 0.06688903274036118, 0.5981427727236118, 0.08544896753194454, 0.1708979350638891, 0.08544896753194454, 0.8922654921831471, 0.554701679796201, 0.1109403359592402, 0.2218806719184804, 0.1109403359592402, 0.05476616555169992, 0.766726317723799, 0.05476616555169992, 0.05476616555169992, 0.05476616555169992, 0.7786819591507662, 0.4629001689508027, 0.4629001689508027, 0.1727414963124244, 0.21592687039053046, 0.0431853740781061, 0.25911224446863657, 0.21592687039053046, 0.0431853740781061, 0.23690676617155879, 0.7107202985146763, 0.8488404627285365, 0.19431689578681077, 0.5829506873604323, 0.7862959789438311, 0.7433182557293118, 0.743414314871388, 0.887304889319687, 0.060498320792078, 0.846976491089092, 0.060498320792078, 0.8488630179506125, 0.03536929241460886, 0.03536929241460886, 0.03536929241460886, 0.7523633725292338, 0.04765419364230422, 0.09530838728460844, 0.09530838728460844, 0.33357935549612955, 0.04765419364230422, 0.19061677456921688, 0.19061677456921688, 0.1533093162842552, 0.6132372651370208, 0.1533093162842552, 0.0766546581421276, 0.7379318061771722, 0.2003442576719349, 0.1335628384479566, 0.2671256768959132, 0.0667814192239783, 0.2671256768959132, 0.7643970122713083, 0.335698404612432, 0.030518036782948364, 0.0915541103488451, 0.15259018391474183, 0.0915541103488451, 0.06103607356589673, 0.12207214713179346, 0.0915541103488451, 0.030518036782948364, 0.2700652930586149, 0.027006529305861487, 0.08101958791758447, 0.2160522344468919, 0.10802611722344595, 0.08101958791758447, 0.13503264652930744, 0.054013058611722974, 0.054013058611722974, 0.7523696355367685, 0.331310262886752, 0.49696539433012804, 0.4234733525088729, 0.032574873269913304, 0.2931738594292197, 0.0977246198097399, 0.032574873269913304, 0.0977246198097399, 0.24603081563205556, 0.08201027187735185, 0.4100513593867593, 0.24603081563205556, 0.8922646914979185, 0.8084314080716339, 0.8133863905538241, 0.16267727811076482, 0.08422253812659146, 0.04211126906329573, 0.12633380718988718, 0.25266761437977436, 0.29477888344307007, 0.08422253812659146, 0.04211126906329573, 0.08422253812659146, 0.711292110476632, 0.18538693278155638, 0.16221356618386185, 0.06952009979308364, 0.09269346639077819, 0.20856029937925094, 0.06952009979308364, 0.023173366597694547, 0.11586683298847274, 0.023173366597694547, 0.046346733195389095, 0.2897089470743367, 0.43456342061150505, 0.14485447353716835, 0.11281164805281493, 0.5076524162376672, 0.1692174720792224, 0.05640582402640747, 0.1692174720792224, 0.7786586393140581, 0.14762502892607623, 0.10544644923291159, 0.29525005785215247, 0.14762502892607623, 0.2319821883124055, 0.04217857969316464, 0.23137919436206847, 0.46275838872413694, 0.7840970933060799], \"Term\": [\"0\", \"1\", \"1\", \"1923\", \"2\", \"2000\", \"2000\", \"2000\", \"6\", \"6\", \"Actually\", \"Ah\", \"Allah\", \"Almost\", \"America\", \"American\", \"American\", \"American\", \"American\", \"American\", \"Americans\", \"Americans\", \"Americans\", \"And\", \"And\", \"And\", \"And\", \"And\", \"And\", \"And\", \"And\", \"Anyone\", \"Anyone\", \"Apartheid\", \"Arab\", \"Arab\", \"Arab\", \"Arab\", \"Arabia\", \"Arabic\", \"Arabs\", \"Arabs\", \"Arabs\", \"Arabs\", \"Ashkenazi\", \"Bank\", \"But\", \"But\", \"But\", \"But\", \"But\", \"But\", \"But\", \"But\", \"Cant\", \"Cant\", \"Casual\", \"Content\", \"Defense\", \"Do\", \"Do\", \"Dont\", \"Dont\", \"Dont\", \"Dont\", \"Dont\", \"Downvote\", \"Everyone\", \"Everyone\", \"Free\", \"Free\", \"Free\", \"From\", \"From\", \"Fuck\", \"Fuck\", \"Fuck\", \"Gaza\", \"Gaza\", \"Gaza\", \"Gaza\", \"Gaza\", \"Genocide\", \"Guy\", \"Hamas\", \"Hamas\", \"Hamas\", \"Hamas\", \"Hamas\", \"Hamas\", \"Hamas\", \"Hamas\", \"Hamass\", \"Hamass\", \"Hamass\", \"He\", \"He\", \"Hear\", \"However\", \"However\", \"Humans\", \"I\", \"I\", \"I\", \"I\", \"I\", \"I\", \"I\", \"I\", \"I\", \"IP\", \"Idk\", \"If\", \"If\", \"If\", \"If\", \"If\", \"If\", \"If\", \"If\", \"Im\", \"Im\", \"Im\", \"Im\", \"Im\", \"Im\", \"Im\", \"Is\", \"Is\", \"Islam\", \"Israel\", \"Israel\", \"Israel\", \"Israel\", \"Israel\", \"Israel\", \"Israel\", \"Israel\", \"Israel\", \"Israeli\", \"Israeli\", \"Israeli\", \"Israeli\", \"Israeli\", \"Israeli\", \"Israeli\", \"Israeli\", \"Israeli\", \"Israelis\", \"Israelis\", \"Israelis\", \"Israelis\", \"Israelis\", \"Israelis\", \"Isreal\", \"Isreal\", \"It\", \"It\", \"It\", \"It\", \"It\", \"It\", \"It\", \"It\", \"It\", \"Its\", \"Its\", \"Its\", \"Its\", \"Its\", \"Its\", \"Its\", \"Its\", \"Its\", \"Jesus\", \"Jesus\", \"Jesus\", \"Jewish\", \"Jewish\", \"Jewish\", \"Jewish\", \"Jewish\", \"Jewish\", \"Jewish\", \"Jewish\", \"Jews\", \"Jews\", \"Jews\", \"Jews\", \"Jews\", \"Jews\", \"Jews\", \"Judaism\", \"Killing\", \"Last\", \"Levant\", \"Many\", \"Many\", \"Native\", \"Native\", \"Native\", \"Native\", \"Never\", \"Never\", \"Nice\", \"Nice\", \"No\", \"No\", \"No\", \"No\", \"ON\", \"Or\", \"Or\", \"Osama\", \"Palestine\", \"Palestine\", \"Palestine\", \"Palestine\", \"Palestine\", \"Palestine\", \"Palestine\", \"Palestine\", \"Palestinia\", \"Palestinian\", \"Palestinian\", \"Palestinian\", \"Palestinian\", \"Palestinian\", \"Palestinian\", \"Palestinian\", \"Palestinians\", \"Palestinians\", \"Palestinians\", \"Palestinians\", \"Palestinians\", \"Palestinians\", \"Palestinians\", \"Palestinians\", \"People\", \"People\", \"People\", \"People\", \"Please\", \"Policy\", \"Prophets\", \"REDDIT\", \"Reddit\", \"Reddit\", \"Reddit\", \"Reddit\", \"Reddit\", \"Remember\", \"Rule\", \"Same\", \"Saudi\", \"So\", \"So\", \"So\", \"So\", \"So\", \"So\", \"So\", \"So\", \"Sriyana\", \"Sunnah\", \"Take\", \"Take\", \"The\", \"The\", \"The\", \"The\", \"The\", \"The\", \"The\", \"The\", \"The\", \"These\", \"These\", \"These\", \"They\", \"They\", \"They\", \"They\", \"They\", \"They\", \"They\", \"They\", \"They\", \"This\", \"This\", \"This\", \"This\", \"This\", \"This\", \"This\", \"This\", \"This\", \"UK\", \"UK\", \"Very\", \"WW2\", \"WWII\", \"Wasnt\", \"We\", \"We\", \"We\", \"We\", \"We\", \"We\", \"West\", \"West\", \"What\", \"What\", \"What\", \"What\", \"What\", \"What\", \"Wheres\", \"Whether\", \"While\", \"While\", \"Who\", \"Who\", \"You\", \"You\", \"You\", \"You\", \"You\", \"You\", \"You\", \"You\", \"absolutely\", \"absolutely\", \"absolutely\", \"absolutely\", \"abuse\", \"acceptable\", \"acceptable\", \"accepting\", \"act\", \"act\", \"act\", \"act\", \"act\", \"act\", \"act\", \"acting\", \"action\", \"action\", \"action\", \"action\", \"action\", \"action\", \"actually\", \"actually\", \"actually\", \"actually\", \"actually\", \"advocating\", \"ago\", \"ago\", \"ago\", \"ago\", \"ago\", \"ago\", \"agree\", \"agree\", \"agree\", \"agree\", \"ahead\", \"aim\", \"align\", \"allow\", \"allow\", \"along\", \"along\", \"already\", \"already\", \"also\", \"also\", \"also\", \"also\", \"also\", \"always\", \"always\", \"always\", \"always\", \"always\", \"always\", \"always\", \"amongst\", \"andor\", \"animal\", \"antisemitic\", \"antisemitic\", \"apartment\", \"area\", \"area\", \"area\", \"area\", \"area\", \"area\", \"area\", \"arent\", \"arent\", \"arent\", \"arent\", \"arent\", \"argument\", \"argument\", \"argument\", \"armed\", \"arriving\", \"assumption\", \"attack\", \"attack\", \"attack\", \"attack\", \"attack\", \"attack\", \"attack\", \"automatically\", \"avoid\", \"back\", \"back\", \"back\", \"back\", \"back\", \"back\", \"back\", \"back\", \"based\", \"based\", \"based\", \"batted\", \"behind\", \"behind\", \"behind\", \"bin\", \"binary\", \"blood\", \"blood\", \"boil\", \"book\", \"book\", \"book\", \"borderland\", \"born\", \"born\", \"born\", \"bot\", \"bot\", \"breaking\", \"broader\", \"broke\", \"brutality\", \"building\", \"building\", \"building\", \"building\", \"building\", \"building\", \"building\", \"bully\", \"bunker\", \"bunker\", \"calling\", \"calling\", \"calmly\", \"can\", \"can\", \"can\", \"can\", \"care\", \"care\", \"channel\", \"characterization\", \"charitable\", \"charter\", \"checked\", \"checkpoint\", \"chosen\", \"civilian\", \"civilian\", \"civilian\", \"civilian\", \"civilian\", \"civilian\", \"civilian\", \"coexist\", \"colonial\", \"colonial\", \"come\", \"come\", \"come\", \"come\", \"come\", \"come\", \"come\", \"comment\", \"comment\", \"comment\", \"comment\", \"committing\", \"committing\", \"committing\", \"committing\", \"committing\", \"companion\", \"completely\", \"completely\", \"completely\", \"compliance\", \"complicated\", \"concern\", \"concern\", \"concern\", \"condemn\", \"condition\", \"condition\", \"condition\", \"confirm\", \"conflict\", \"conflict\", \"conflict\", \"conflict\", \"conflict\", \"conflict\", \"conflict\", \"conflict\", \"conflict\", \"conflict\", \"conquered\", \"contact\", \"context\", \"context\", \"context\", \"context\", \"context\", \"context\", \"continue\", \"continue\", \"continue\", \"continuous\", \"control\", \"control\", \"control\", \"corner\", \"could\", \"could\", \"could\", \"could\", \"could\", \"could\", \"could\", \"country\", \"country\", \"country\", \"country\", \"country\", \"country\", \"country\", \"country\", \"country\", \"creating\", \"creating\", \"cry\", \"cry\", \"culture\", \"culture\", \"culture\", \"culture\", \"dead\", \"dead\", \"dead\", \"death\", \"death\", \"death\", \"death\", \"death\", \"debate\", \"debate\", \"decade\", \"decade\", \"decade\", \"decade\", \"decade\", \"decade\", \"decide\", \"defend\", \"defend\", \"definitely\", \"definitely\", \"definitely\", \"definitely\", \"definition\", \"definition\", \"deleted\", \"deserves\", \"despicable\", \"despite\", \"despite\", \"detail\", \"detection\", \"dialogue\", \"distinct\", \"distinguish\", \"distinguishes\", \"doesnt\", \"doesnt\", \"doesnt\", \"doesnt\", \"doesnt\", \"doesnt\", \"dome\", \"done\", \"done\", \"done\", \"done\", \"done\", \"done\", \"dont\", \"dont\", \"dont\", \"dont\", \"dont\", \"dont\", \"dont\", \"dont\", \"dont\", \"dont\", \"east\", \"east\", \"emphasis\", \"encourages\", \"ending\", \"engage\", \"enough\", \"enough\", \"enough\", \"enough\", \"even\", \"even\", \"even\", \"even\", \"even\", \"even\", \"even\", \"even\", \"even\", \"ever\", \"ever\", \"ever\", \"ever\", \"ever\", \"every\", \"every\", \"every\", \"every\", \"every\", \"every\", \"every\", \"exact\", \"exemption\", \"existed\", \"existed\", \"existed\", \"expanded\", \"explanation\", \"explored\", \"extent\", \"extent\", \"extent\", \"external\", \"extreme\", \"facilitating\", \"fair\", \"fair\", \"fair\", \"fair\", \"family\", \"family\", \"family\", \"family\", \"family\", \"flag\", \"following\", \"footstep\", \"former\", \"fucking\", \"fucking\", \"fucking\", \"gay\", \"generation\", \"generation\", \"genocide\", \"genocide\", \"genocide\", \"genocide\", \"genocide\", \"genocide\", \"genocide\", \"get\", \"get\", \"get\", \"get\", \"get\", \"get\", \"going\", \"going\", \"going\", \"going\", \"going\", \"going\", \"good\", \"good\", \"good\", \"good\", \"government\", \"government\", \"government\", \"government\", \"government\", \"government\", \"government\", \"governmental\", \"grab\", \"great\", \"great\", \"grip\", \"group\", \"group\", \"group\", \"group\", \"group\", \"group\", \"group\", \"grow\", \"guy\", \"guy\", \"guy\", \"guy\", \"handle\", \"handle\", \"happen\", \"happen\", \"happening\", \"happening\", \"happening\", \"happening\", \"happening\", \"hard\", \"hard\", \"hard\", \"hard\", \"hasnt\", \"hasnt\", \"hate\", \"hate\", \"hate\", \"hate\", \"hatred\", \"hatred\", \"help\", \"help\", \"hide\", \"hide\", \"highly\", \"historian\", \"historian\", \"historical\", \"historical\", \"historical\", \"history\", \"history\", \"history\", \"history\", \"history\", \"history\", \"home\", \"home\", \"home\", \"home\", \"home\", \"home\", \"home\", \"homeland\", \"homeland\", \"homeland\", \"homeland\", \"homeland\", \"honestly\", \"honestly\", \"horrific\", \"human\", \"human\", \"human\", \"human\", \"human\", \"idf\", \"ignore\", \"incompatible\", \"independence\", \"indigenous\", \"inflammatory\", \"inflammatory\", \"information\", \"information\", \"innocent\", \"innocent\", \"innocent\", \"innocent\", \"innocent\", \"insulting\", \"intelligent\", \"interpretation\", \"invaded\", \"invasion\", \"invasion\", \"iron\", \"islam\", \"issue\", \"issue\", \"jew\", \"jew\", \"justice\", \"justified\", \"justified\", \"justified\", \"justified\", \"kill\", \"kill\", \"kill\", \"kill\", \"kill\", \"kill\", \"killing\", \"killing\", \"killing\", \"killing\", \"killing\", \"killing\", \"king\", \"know\", \"know\", \"know\", \"know\", \"know\", \"know\", \"know\", \"know\", \"lad\", \"land\", \"land\", \"land\", \"land\", \"land\", \"land\", \"land\", \"land\", \"land\", \"land\", \"largest\", \"later\", \"learn\", \"learned\", \"learned\", \"leave\", \"leave\", \"leave\", \"lie\", \"life\", \"life\", \"life\", \"life\", \"like\", \"like\", \"like\", \"like\", \"like\", \"like\", \"like\", \"like\", \"likely\", \"likely\", \"little\", \"live\", \"live\", \"live\", \"live\", \"live\", \"lived\", \"lived\", \"lived\", \"lived\", \"lived\", \"lived\", \"living\", \"living\", \"living\", \"living\", \"living\", \"location\", \"long\", \"long\", \"long\", \"long\", \"long\", \"look\", \"look\", \"look\", \"look\", \"look\", \"look\", \"loss\", \"lying\", \"made\", \"made\", \"made\", \"made\", \"mainstream\", \"make\", \"make\", \"make\", \"make\", \"make\", \"make\", \"make\", \"make\", \"make\", \"many\", \"many\", \"many\", \"many\", \"many\", \"many\", \"mass\", \"matter\", \"matter\", \"matter\", \"matter\", \"may\", \"may\", \"may\", \"may\", \"may\", \"mean\", \"mean\", \"mean\", \"mean\", \"mean\", \"mean\", \"mean\", \"meaningful\", \"meant\", \"member\", \"method\", \"might\", \"might\", \"might\", \"military\", \"military\", \"military\", \"military\", \"military\", \"military\", \"military\", \"moderator\", \"moment\", \"moment\", \"money\", \"moron\", \"moron\", \"move\", \"move\", \"music\", \"must\", \"must\", \"must\", \"must\", \"need\", \"need\", \"need\", \"need\", \"need\", \"needed\", \"needed\", \"negative\", \"negative\", \"neither\", \"neither\", \"never\", \"never\", \"never\", \"never\", \"never\", \"never\", \"never\", \"next\", \"non\", \"non\", \"none\", \"not\", \"not\", \"not\", \"not\", \"nothing\", \"nothing\", \"nothing\", \"nothing\", \"nuance\", \"nuance\", \"nuclear\", \"number\", \"number\", \"one\", \"one\", \"one\", \"one\", \"one\", \"one\", \"one\", \"open\", \"open\", \"opinion\", \"opinion\", \"opinion\", \"opinion\", \"opponent\", \"oppress\", \"oppressive\", \"oppressor\", \"oppressor\", \"page\", \"pain\", \"pain\", \"palestina\", \"part\", \"part\", \"part\", \"part\", \"part\", \"partition\", \"patient\", \"pay\", \"peace\", \"peace\", \"peace\", \"people\", \"people\", \"people\", \"people\", \"people\", \"people\", \"people\", \"people\", \"people\", \"people\", \"perceived\", \"performed\", \"person\", \"person\", \"person\", \"person\", \"person\", \"person\", \"personal\", \"please\", \"please\", \"point\", \"point\", \"point\", \"point\", \"point\", \"point\", \"point\", \"point\", \"polite\", \"politely\", \"population\", \"population\", \"population\", \"population\", \"population\", \"population\", \"population\", \"positive\", \"powerful\", \"predate\", \"prior\", \"prison\", \"prison\", \"problem\", \"profanity\", \"prohibited\", \"prominent\", \"proof\", \"proof\", \"propaganda\", \"propaganda\", \"propaganda\", \"prophet\", \"proportion\", \"proportional\", \"proposed\", \"prosper\", \"protected\", \"put\", \"put\", \"put\", \"put\", \"put\", \"question\", \"question\", \"question\", \"rape\", \"rape\", \"rape\", \"raped\", \"raped\", \"reading\", \"realize\", \"really\", \"really\", \"really\", \"really\", \"really\", \"really\", \"really\", \"reason\", \"reason\", \"reason\", \"reason\", \"reason\", \"recently\", \"recently\", \"refuse\", \"refuse\", \"regime\", \"regime\", \"regime\", \"rejected\", \"relevant\", \"religion\", \"religion\", \"religion\", \"religion\", \"religion\", \"religious\", \"religious\", \"religious\", \"religious\", \"religious\", \"religious\", \"removed\", \"removed\", \"represents\", \"resource\", \"resource\", \"respectful\", \"response\", \"response\", \"retaliate\", \"retaliated\", \"review\", \"right\", \"right\", \"right\", \"right\", \"right\", \"right\", \"right\", \"right\", \"rock\", \"roll\", \"rubble\", \"rule\", \"rule\", \"say\", \"say\", \"say\", \"say\", \"say\", \"say\", \"say\", \"saying\", \"saying\", \"saying\", \"saying\", \"saying\", \"saying\", \"scalping\", \"school\", \"school\", \"school\", \"school\", \"scum\", \"scum\", \"security\", \"see\", \"see\", \"see\", \"see\", \"see\", \"see\", \"see\", \"see\", \"see\", \"seem\", \"seen\", \"seen\", \"seen\", \"seen\", \"selfidentify\", \"seriously\", \"several\", \"sharing\", \"sharing\", \"shit\", \"shit\", \"shit\", \"shit\", \"shit\", \"shit\", \"shocked\", \"shocked\", \"shoot\", \"shoot\", \"shooting\", \"shooting\", \"shouldnt\", \"showing\", \"side\", \"side\", \"side\", \"side\", \"side\", \"side\", \"side\", \"side\", \"since\", \"since\", \"since\", \"since\", \"since\", \"since\", \"sit\", \"situation\", \"situation\", \"situation\", \"situation\", \"slaughter\", \"slave\", \"sleep\", \"something\", \"something\", \"something\", \"soon\", \"source\", \"sow\", \"spread\", \"state\", \"state\", \"state\", \"state\", \"state\", \"state\", \"state\", \"stolen\", \"stop\", \"stop\", \"stop\", \"stop\", \"stop\", \"subredditmessagecomposetorIsraelPalestine\", \"suck\", \"suck\", \"suck\", \"suddenly\", \"support\", \"support\", \"support\", \"support\", \"support\", \"support\", \"support\", \"support\", \"supporting\", \"supporting\", \"supporting\", \"taken\", \"taking\", \"taking\", \"target\", \"target\", \"target\", \"target\", \"target\", \"target\", \"tell\", \"tell\", \"tell\", \"tell\", \"tell\", \"telling\", \"territory\", \"territory\", \"territory\", \"territory\", \"terrorism\", \"terrorism\", \"terrorism\", \"terrorism\", \"terrorism\", \"thanks\", \"there\", \"there\", \"there\", \"there\", \"therefor\", \"theyre\", \"theyre\", \"theyre\", \"theyre\", \"theyre\", \"theyve\", \"theyve\", \"theyve\", \"theyve\", \"theyve\", \"thing\", \"thing\", \"thing\", \"thing\", \"thing\", \"thing\", \"thing\", \"thing\", \"think\", \"think\", \"think\", \"think\", \"think\", \"think\", \"think\", \"think\", \"thoughtfully\", \"three\", \"time\", \"time\", \"time\", \"time\", \"time\", \"time\", \"time\", \"time\", \"today\", \"today\", \"today\", \"today\", \"tone\", \"took\", \"took\", \"took\", \"took\", \"towards\", \"towards\", \"towards\", \"towards\", \"towards\", \"tree\", \"turned\", \"turned\", \"two\", \"two\", \"two\", \"two\", \"two\", \"two\", \"u\", \"u\", \"uKingYakub\", \"unacceptable\", \"unacceptable\", \"unnecessary\", \"upon\", \"uprising\", \"usage\", \"use\", \"use\", \"use\", \"using\", \"using\", \"using\", \"using\", \"version\", \"video\", \"video\", \"video\", \"video\", \"video\", \"video\", \"video\", \"view\", \"view\", \"view\", \"view\", \"vile\", \"violence\", \"violence\", \"violence\", \"violence\", \"violence\", \"virtue\", \"want\", \"want\", \"want\", \"want\", \"want\", \"want\", \"want\", \"want\", \"want\", \"war\", \"war\", \"war\", \"war\", \"war\", \"war\", \"war\", \"war\", \"war\", \"warfare\", \"watch\", \"watch\", \"way\", \"way\", \"way\", \"way\", \"way\", \"way\", \"whats\", \"whats\", \"whats\", \"whats\", \"whenever\", \"who\", \"within\", \"within\", \"woman\", \"woman\", \"woman\", \"woman\", \"woman\", \"woman\", \"woman\", \"woman\", \"word\", \"would\", \"would\", \"would\", \"would\", \"would\", \"would\", \"would\", \"would\", \"would\", \"would\", \"wouldnt\", \"wouldnt\", \"wouldnt\", \"wrong\", \"wrong\", \"wrong\", \"wrong\", \"wrong\", \"x200B\", \"year\", \"year\", \"year\", \"year\", \"year\", \"year\", \"yesterday\", \"yesterday\", \"young\"]}, \"R\": 30, \"lambda.step\": 0.01, \"plot.opts\": {\"xlab\": \"PC1\", \"ylab\": \"PC2\"}, \"topic.order\": [5, 8, 4, 10, 7, 9, 2, 6, 1, 3]};\n",
              "\n",
              "function LDAvis_load_lib(url, callback){\n",
              "  var s = document.createElement('script');\n",
              "  s.src = url;\n",
              "  s.async = true;\n",
              "  s.onreadystatechange = s.onload = callback;\n",
              "  s.onerror = function(){console.warn(\"failed to load library \" + url);};\n",
              "  document.getElementsByTagName(\"head\")[0].appendChild(s);\n",
              "}\n",
              "\n",
              "if(typeof(LDAvis) !== \"undefined\"){\n",
              "   // already loaded: just create the visualization\n",
              "   !function(LDAvis){\n",
              "       new LDAvis(\"#\" + \"ldavis_el4671338168190872001304838816\", ldavis_el4671338168190872001304838816_data);\n",
              "   }(LDAvis);\n",
              "}else if(typeof define === \"function\" && define.amd){\n",
              "   // require.js is available: use it to load d3/LDAvis\n",
              "   require.config({paths: {d3: \"https://d3js.org/d3.v5\"}});\n",
              "   require([\"d3\"], function(d3){\n",
              "      window.d3 = d3;\n",
              "      LDAvis_load_lib(\"https://cdn.jsdelivr.net/gh/bmabey/pyLDAvis@3.4.0/pyLDAvis/js/ldavis.v3.0.0.js\", function(){\n",
              "        new LDAvis(\"#\" + \"ldavis_el4671338168190872001304838816\", ldavis_el4671338168190872001304838816_data);\n",
              "      });\n",
              "    });\n",
              "}else{\n",
              "    // require.js not available: dynamically load d3 & LDAvis\n",
              "    LDAvis_load_lib(\"https://d3js.org/d3.v5.js\", function(){\n",
              "         LDAvis_load_lib(\"https://cdn.jsdelivr.net/gh/bmabey/pyLDAvis@3.4.0/pyLDAvis/js/ldavis.v3.0.0.js\", function(){\n",
              "                 new LDAvis(\"#\" + \"ldavis_el4671338168190872001304838816\", ldavis_el4671338168190872001304838816_data);\n",
              "            })\n",
              "         });\n",
              "}\n",
              "</script>"
            ]
          },
          "metadata": {},
          "execution_count": 70
        }
      ]
    },
    {
      "cell_type": "code",
      "source": [
        "len(df)"
      ],
      "metadata": {
        "colab": {
          "base_uri": "https://localhost:8080/"
        },
        "id": "ZcPIFLq25BJ2",
        "outputId": "aab6b8da-8562-4ee3-9e5b-f6ae5d261c3b"
      },
      "execution_count": 74,
      "outputs": [
        {
          "output_type": "stream",
          "name": "stderr",
          "text": [
            "/usr/local/lib/python3.10/dist-packages/ipykernel/ipkernel.py:283: DeprecationWarning: `should_run_async` will not call `transform_cell` automatically in the future. Please pass the result to `transformed_cell` argument and any exception that happen during thetransform in `preprocessing_exc_tuple` in IPython 7.17 and above.\n",
            "  and should_run_async(code)\n"
          ]
        },
        {
          "output_type": "execute_result",
          "data": {
            "text/plain": [
              "500"
            ]
          },
          "metadata": {},
          "execution_count": 74
        }
      ]
    },
    {
      "cell_type": "code",
      "source": [
        "df.head()"
      ],
      "metadata": {
        "colab": {
          "base_uri": "https://localhost:8080/",
          "height": 365
        },
        "id": "VaB5CeI04MnP",
        "outputId": "660e0073-3e39-4bb9-8086-e251185ded8b"
      },
      "execution_count": 73,
      "outputs": [
        {
          "output_type": "stream",
          "name": "stderr",
          "text": [
            "/usr/local/lib/python3.10/dist-packages/ipykernel/ipkernel.py:283: DeprecationWarning: `should_run_async` will not call `transform_cell` automatically in the future. Please pass the result to `transformed_cell` argument and any exception that happen during thetransform in `preprocessing_exc_tuple` in IPython 7.17 and above.\n",
            "  and should_run_async(code)\n"
          ]
        },
        {
          "output_type": "execute_result",
          "data": {
            "text/plain": [
              "                                                body  \\\n",
              "2  URL: https://v.redd.it/qetvjinh7zsb1\\nThumbnai...   \n",
              "3  For the past decade or so I have typically sup...   \n",
              "4  Both claim to be the descendants of Abraham th...   \n",
              "5  If that’s the case, then his Native American c...   \n",
              "6  May not be the best analogy but racism kept Je...   \n",
              "\n",
              "                                          Clean body  \\\n",
              "2                 URL \\nThumbnail nsfw\\nImages\\n\\t\\n   \n",
              "3  For the past decade or so I have typically sup...   \n",
              "4  Both claim to be the descendants of Abraham th...   \n",
              "5  If thats the case then his Native American com...   \n",
              "6  May not be the best analogy but racism kept Je...   \n",
              "\n",
              "                                      Processed body  \\\n",
              "2                          URL Thumbnail nsfw Images   \n",
              "3  For past decade I typically supported Palestin...   \n",
              "4  Both claim descendant Abraham though So wouldn...   \n",
              "5  If thats case Native American comment make zer...   \n",
              "6  May best analogy racism kept Jews finding new ...   \n",
              "\n",
              "                                          Sentiments VADER Sentiment  \\\n",
              "2  {'neg': 0.0, 'neu': 1.0, 'pos': 0.0, 'compound...         neutral   \n",
              "3  {'neg': 0.215, 'neu': 0.658, 'pos': 0.127, 'co...        negative   \n",
              "4  {'neg': 0.0, 'neu': 1.0, 'pos': 0.0, 'compound...         neutral   \n",
              "5  {'neg': 0.0, 'neu': 1.0, 'pos': 0.0, 'compound...         neutral   \n",
              "6  {'neg': 0.326, 'neu': 0.407, 'pos': 0.267, 'co...        negative   \n",
              "\n",
              "   TextBlob Sentiment TextBlob Sentiment Category  \n",
              "2            0.000000                     neutral  \n",
              "3           -0.046088                    negative  \n",
              "4            0.093750                    positive  \n",
              "5            0.000000                     neutral  \n",
              "6            0.148377                    positive  "
            ],
            "text/html": [
              "\n",
              "  <div id=\"df-7fd31ffa-28b0-41ab-9adf-2f431e85e414\" class=\"colab-df-container\">\n",
              "    <div>\n",
              "<style scoped>\n",
              "    .dataframe tbody tr th:only-of-type {\n",
              "        vertical-align: middle;\n",
              "    }\n",
              "\n",
              "    .dataframe tbody tr th {\n",
              "        vertical-align: top;\n",
              "    }\n",
              "\n",
              "    .dataframe thead th {\n",
              "        text-align: right;\n",
              "    }\n",
              "</style>\n",
              "<table border=\"1\" class=\"dataframe\">\n",
              "  <thead>\n",
              "    <tr style=\"text-align: right;\">\n",
              "      <th></th>\n",
              "      <th>body</th>\n",
              "      <th>Clean body</th>\n",
              "      <th>Processed body</th>\n",
              "      <th>Sentiments</th>\n",
              "      <th>VADER Sentiment</th>\n",
              "      <th>TextBlob Sentiment</th>\n",
              "      <th>TextBlob Sentiment Category</th>\n",
              "    </tr>\n",
              "  </thead>\n",
              "  <tbody>\n",
              "    <tr>\n",
              "      <th>2</th>\n",
              "      <td>URL: https://v.redd.it/qetvjinh7zsb1\\nThumbnai...</td>\n",
              "      <td>URL \\nThumbnail nsfw\\nImages\\n\\t\\n</td>\n",
              "      <td>URL Thumbnail nsfw Images</td>\n",
              "      <td>{'neg': 0.0, 'neu': 1.0, 'pos': 0.0, 'compound...</td>\n",
              "      <td>neutral</td>\n",
              "      <td>0.000000</td>\n",
              "      <td>neutral</td>\n",
              "    </tr>\n",
              "    <tr>\n",
              "      <th>3</th>\n",
              "      <td>For the past decade or so I have typically sup...</td>\n",
              "      <td>For the past decade or so I have typically sup...</td>\n",
              "      <td>For past decade I typically supported Palestin...</td>\n",
              "      <td>{'neg': 0.215, 'neu': 0.658, 'pos': 0.127, 'co...</td>\n",
              "      <td>negative</td>\n",
              "      <td>-0.046088</td>\n",
              "      <td>negative</td>\n",
              "    </tr>\n",
              "    <tr>\n",
              "      <th>4</th>\n",
              "      <td>Both claim to be the descendants of Abraham th...</td>\n",
              "      <td>Both claim to be the descendants of Abraham th...</td>\n",
              "      <td>Both claim descendant Abraham though So wouldn...</td>\n",
              "      <td>{'neg': 0.0, 'neu': 1.0, 'pos': 0.0, 'compound...</td>\n",
              "      <td>neutral</td>\n",
              "      <td>0.093750</td>\n",
              "      <td>positive</td>\n",
              "    </tr>\n",
              "    <tr>\n",
              "      <th>5</th>\n",
              "      <td>If that’s the case, then his Native American c...</td>\n",
              "      <td>If thats the case then his Native American com...</td>\n",
              "      <td>If thats case Native American comment make zer...</td>\n",
              "      <td>{'neg': 0.0, 'neu': 1.0, 'pos': 0.0, 'compound...</td>\n",
              "      <td>neutral</td>\n",
              "      <td>0.000000</td>\n",
              "      <td>neutral</td>\n",
              "    </tr>\n",
              "    <tr>\n",
              "      <th>6</th>\n",
              "      <td>May not be the best analogy but racism kept Je...</td>\n",
              "      <td>May not be the best analogy but racism kept Je...</td>\n",
              "      <td>May best analogy racism kept Jews finding new ...</td>\n",
              "      <td>{'neg': 0.326, 'neu': 0.407, 'pos': 0.267, 'co...</td>\n",
              "      <td>negative</td>\n",
              "      <td>0.148377</td>\n",
              "      <td>positive</td>\n",
              "    </tr>\n",
              "  </tbody>\n",
              "</table>\n",
              "</div>\n",
              "    <div class=\"colab-df-buttons\">\n",
              "\n",
              "  <div class=\"colab-df-container\">\n",
              "    <button class=\"colab-df-convert\" onclick=\"convertToInteractive('df-7fd31ffa-28b0-41ab-9adf-2f431e85e414')\"\n",
              "            title=\"Convert this dataframe to an interactive table.\"\n",
              "            style=\"display:none;\">\n",
              "\n",
              "  <svg xmlns=\"http://www.w3.org/2000/svg\" height=\"24px\" viewBox=\"0 -960 960 960\">\n",
              "    <path d=\"M120-120v-720h720v720H120Zm60-500h600v-160H180v160Zm220 220h160v-160H400v160Zm0 220h160v-160H400v160ZM180-400h160v-160H180v160Zm440 0h160v-160H620v160ZM180-180h160v-160H180v160Zm440 0h160v-160H620v160Z\"/>\n",
              "  </svg>\n",
              "    </button>\n",
              "\n",
              "  <style>\n",
              "    .colab-df-container {\n",
              "      display:flex;\n",
              "      gap: 12px;\n",
              "    }\n",
              "\n",
              "    .colab-df-convert {\n",
              "      background-color: #E8F0FE;\n",
              "      border: none;\n",
              "      border-radius: 50%;\n",
              "      cursor: pointer;\n",
              "      display: none;\n",
              "      fill: #1967D2;\n",
              "      height: 32px;\n",
              "      padding: 0 0 0 0;\n",
              "      width: 32px;\n",
              "    }\n",
              "\n",
              "    .colab-df-convert:hover {\n",
              "      background-color: #E2EBFA;\n",
              "      box-shadow: 0px 1px 2px rgba(60, 64, 67, 0.3), 0px 1px 3px 1px rgba(60, 64, 67, 0.15);\n",
              "      fill: #174EA6;\n",
              "    }\n",
              "\n",
              "    .colab-df-buttons div {\n",
              "      margin-bottom: 4px;\n",
              "    }\n",
              "\n",
              "    [theme=dark] .colab-df-convert {\n",
              "      background-color: #3B4455;\n",
              "      fill: #D2E3FC;\n",
              "    }\n",
              "\n",
              "    [theme=dark] .colab-df-convert:hover {\n",
              "      background-color: #434B5C;\n",
              "      box-shadow: 0px 1px 3px 1px rgba(0, 0, 0, 0.15);\n",
              "      filter: drop-shadow(0px 1px 2px rgba(0, 0, 0, 0.3));\n",
              "      fill: #FFFFFF;\n",
              "    }\n",
              "  </style>\n",
              "\n",
              "    <script>\n",
              "      const buttonEl =\n",
              "        document.querySelector('#df-7fd31ffa-28b0-41ab-9adf-2f431e85e414 button.colab-df-convert');\n",
              "      buttonEl.style.display =\n",
              "        google.colab.kernel.accessAllowed ? 'block' : 'none';\n",
              "\n",
              "      async function convertToInteractive(key) {\n",
              "        const element = document.querySelector('#df-7fd31ffa-28b0-41ab-9adf-2f431e85e414');\n",
              "        const dataTable =\n",
              "          await google.colab.kernel.invokeFunction('convertToInteractive',\n",
              "                                                    [key], {});\n",
              "        if (!dataTable) return;\n",
              "\n",
              "        const docLinkHtml = 'Like what you see? Visit the ' +\n",
              "          '<a target=\"_blank\" href=https://colab.research.google.com/notebooks/data_table.ipynb>data table notebook</a>'\n",
              "          + ' to learn more about interactive tables.';\n",
              "        element.innerHTML = '';\n",
              "        dataTable['output_type'] = 'display_data';\n",
              "        await google.colab.output.renderOutput(dataTable, element);\n",
              "        const docLink = document.createElement('div');\n",
              "        docLink.innerHTML = docLinkHtml;\n",
              "        element.appendChild(docLink);\n",
              "      }\n",
              "    </script>\n",
              "  </div>\n",
              "\n",
              "\n",
              "<div id=\"df-3c5a58c4-ea33-4164-9186-b45441d75c15\">\n",
              "  <button class=\"colab-df-quickchart\" onclick=\"quickchart('df-3c5a58c4-ea33-4164-9186-b45441d75c15')\"\n",
              "            title=\"Suggest charts\"\n",
              "            style=\"display:none;\">\n",
              "\n",
              "<svg xmlns=\"http://www.w3.org/2000/svg\" height=\"24px\"viewBox=\"0 0 24 24\"\n",
              "     width=\"24px\">\n",
              "    <g>\n",
              "        <path d=\"M19 3H5c-1.1 0-2 .9-2 2v14c0 1.1.9 2 2 2h14c1.1 0 2-.9 2-2V5c0-1.1-.9-2-2-2zM9 17H7v-7h2v7zm4 0h-2V7h2v10zm4 0h-2v-4h2v4z\"/>\n",
              "    </g>\n",
              "</svg>\n",
              "  </button>\n",
              "\n",
              "<style>\n",
              "  .colab-df-quickchart {\n",
              "      --bg-color: #E8F0FE;\n",
              "      --fill-color: #1967D2;\n",
              "      --hover-bg-color: #E2EBFA;\n",
              "      --hover-fill-color: #174EA6;\n",
              "      --disabled-fill-color: #AAA;\n",
              "      --disabled-bg-color: #DDD;\n",
              "  }\n",
              "\n",
              "  [theme=dark] .colab-df-quickchart {\n",
              "      --bg-color: #3B4455;\n",
              "      --fill-color: #D2E3FC;\n",
              "      --hover-bg-color: #434B5C;\n",
              "      --hover-fill-color: #FFFFFF;\n",
              "      --disabled-bg-color: #3B4455;\n",
              "      --disabled-fill-color: #666;\n",
              "  }\n",
              "\n",
              "  .colab-df-quickchart {\n",
              "    background-color: var(--bg-color);\n",
              "    border: none;\n",
              "    border-radius: 50%;\n",
              "    cursor: pointer;\n",
              "    display: none;\n",
              "    fill: var(--fill-color);\n",
              "    height: 32px;\n",
              "    padding: 0;\n",
              "    width: 32px;\n",
              "  }\n",
              "\n",
              "  .colab-df-quickchart:hover {\n",
              "    background-color: var(--hover-bg-color);\n",
              "    box-shadow: 0 1px 2px rgba(60, 64, 67, 0.3), 0 1px 3px 1px rgba(60, 64, 67, 0.15);\n",
              "    fill: var(--button-hover-fill-color);\n",
              "  }\n",
              "\n",
              "  .colab-df-quickchart-complete:disabled,\n",
              "  .colab-df-quickchart-complete:disabled:hover {\n",
              "    background-color: var(--disabled-bg-color);\n",
              "    fill: var(--disabled-fill-color);\n",
              "    box-shadow: none;\n",
              "  }\n",
              "\n",
              "  .colab-df-spinner {\n",
              "    border: 2px solid var(--fill-color);\n",
              "    border-color: transparent;\n",
              "    border-bottom-color: var(--fill-color);\n",
              "    animation:\n",
              "      spin 1s steps(1) infinite;\n",
              "  }\n",
              "\n",
              "  @keyframes spin {\n",
              "    0% {\n",
              "      border-color: transparent;\n",
              "      border-bottom-color: var(--fill-color);\n",
              "      border-left-color: var(--fill-color);\n",
              "    }\n",
              "    20% {\n",
              "      border-color: transparent;\n",
              "      border-left-color: var(--fill-color);\n",
              "      border-top-color: var(--fill-color);\n",
              "    }\n",
              "    30% {\n",
              "      border-color: transparent;\n",
              "      border-left-color: var(--fill-color);\n",
              "      border-top-color: var(--fill-color);\n",
              "      border-right-color: var(--fill-color);\n",
              "    }\n",
              "    40% {\n",
              "      border-color: transparent;\n",
              "      border-right-color: var(--fill-color);\n",
              "      border-top-color: var(--fill-color);\n",
              "    }\n",
              "    60% {\n",
              "      border-color: transparent;\n",
              "      border-right-color: var(--fill-color);\n",
              "    }\n",
              "    80% {\n",
              "      border-color: transparent;\n",
              "      border-right-color: var(--fill-color);\n",
              "      border-bottom-color: var(--fill-color);\n",
              "    }\n",
              "    90% {\n",
              "      border-color: transparent;\n",
              "      border-bottom-color: var(--fill-color);\n",
              "    }\n",
              "  }\n",
              "</style>\n",
              "\n",
              "  <script>\n",
              "    async function quickchart(key) {\n",
              "      const quickchartButtonEl =\n",
              "        document.querySelector('#' + key + ' button');\n",
              "      quickchartButtonEl.disabled = true;  // To prevent multiple clicks.\n",
              "      quickchartButtonEl.classList.add('colab-df-spinner');\n",
              "      try {\n",
              "        const charts = await google.colab.kernel.invokeFunction(\n",
              "            'suggestCharts', [key], {});\n",
              "      } catch (error) {\n",
              "        console.error('Error during call to suggestCharts:', error);\n",
              "      }\n",
              "      quickchartButtonEl.classList.remove('colab-df-spinner');\n",
              "      quickchartButtonEl.classList.add('colab-df-quickchart-complete');\n",
              "    }\n",
              "    (() => {\n",
              "      let quickchartButtonEl =\n",
              "        document.querySelector('#df-3c5a58c4-ea33-4164-9186-b45441d75c15 button');\n",
              "      quickchartButtonEl.style.display =\n",
              "        google.colab.kernel.accessAllowed ? 'block' : 'none';\n",
              "    })();\n",
              "  </script>\n",
              "</div>\n",
              "    </div>\n",
              "  </div>\n"
            ],
            "application/vnd.google.colaboratory.intrinsic+json": {
              "type": "dataframe",
              "variable_name": "df",
              "summary": "{\n  \"name\": \"df\",\n  \"rows\": 500,\n  \"fields\": [\n    {\n      \"column\": \"body\",\n      \"properties\": {\n        \"dtype\": \"string\",\n        \"num_unique_values\": 453,\n        \"samples\": [\n          \"Stop bringing in context? Like you can absolutely condemn the actions of hamas while also criticizing what israel has done in the region. Personally i support neither side. Hamas is a terrorist org and israel has been surpressing palestinians.  \\n\\nObviously i condemn the actions of hamas, i also will not pick a side to the conflict.\",\n          \"Feel like this aggressive of sarcasm deserves a /s \\ud83e\\udd74\",\n          \"The Jews have been stealing Palestinian land since the 1918s and backed by an illegal Balfour declaration pushed thru which allowed the Jews to steal land from Muslim and Christian Palestinians.\"\n        ],\n        \"semantic_type\": \"\",\n        \"description\": \"\"\n      }\n    },\n    {\n      \"column\": \"Clean body\",\n      \"properties\": {\n        \"dtype\": \"string\",\n        \"num_unique_values\": 452,\n        \"samples\": [\n          \"This is so disgusting and off base\",\n          \"Feel like this aggressive of sarcasm deserves a s \",\n          \"No one thinks murdering random citizens is a good or normal thing What people have been pointing out for decades is that what complicates things in this conflict is that both sides are committing those same atrocities Depending on where you live the atrocities of one side simply receive more attention than the other\"\n        ],\n        \"semantic_type\": \"\",\n        \"description\": \"\"\n      }\n    },\n    {\n      \"column\": \"Processed body\",\n      \"properties\": {\n        \"dtype\": \"string\",\n        \"num_unique_values\": 452,\n        \"samples\": [\n          \"This disgusting base\",\n          \"Feel like aggressive sarcasm deserves\",\n          \"No one think murdering random citizen good normal thing What people pointing decade complicates thing conflict side committing atrocity Depending live atrocity one side simply receive attention\"\n        ],\n        \"semantic_type\": \"\",\n        \"description\": \"\"\n      }\n    },\n    {\n      \"column\": \"Sentiments\",\n      \"properties\": {\n        \"dtype\": \"object\",\n        \"semantic_type\": \"\",\n        \"description\": \"\"\n      }\n    },\n    {\n      \"column\": \"VADER Sentiment\",\n      \"properties\": {\n        \"dtype\": \"category\",\n        \"num_unique_values\": 3,\n        \"samples\": [\n          \"neutral\",\n          \"negative\",\n          \"positive\"\n        ],\n        \"semantic_type\": \"\",\n        \"description\": \"\"\n      }\n    },\n    {\n      \"column\": \"TextBlob Sentiment\",\n      \"properties\": {\n        \"dtype\": \"number\",\n        \"std\": 0.244414669396553,\n        \"min\": -1.0,\n        \"max\": 0.7,\n        \"num_unique_values\": 228,\n        \"samples\": [\n          0.0875,\n          -0.0050000000000000044,\n          0.16944444444444443\n        ],\n        \"semantic_type\": \"\",\n        \"description\": \"\"\n      }\n    },\n    {\n      \"column\": \"TextBlob Sentiment Category\",\n      \"properties\": {\n        \"dtype\": \"category\",\n        \"num_unique_values\": 3,\n        \"samples\": [\n          \"neutral\",\n          \"negative\",\n          \"positive\"\n        ],\n        \"semantic_type\": \"\",\n        \"description\": \"\"\n      }\n    }\n  ]\n}"
            }
          },
          "metadata": {},
          "execution_count": 73
        }
      ]
    },
    {
      "cell_type": "code",
      "source": [
        "df.drop(df.tail(2).index,\n",
        "        inplace = True)"
      ],
      "metadata": {
        "colab": {
          "base_uri": "https://localhost:8080/"
        },
        "id": "JETczXc366UB",
        "outputId": "ab189446-3f4b-436f-c3c5-3bf39465e647"
      },
      "execution_count": 80,
      "outputs": [
        {
          "output_type": "stream",
          "name": "stderr",
          "text": [
            "/usr/local/lib/python3.10/dist-packages/ipykernel/ipkernel.py:283: DeprecationWarning: `should_run_async` will not call `transform_cell` automatically in the future. Please pass the result to `transformed_cell` argument and any exception that happen during thetransform in `preprocessing_exc_tuple` in IPython 7.17 and above.\n",
            "  and should_run_async(code)\n"
          ]
        }
      ]
    },
    {
      "cell_type": "code",
      "source": [
        "# Assume you already have a DataFrame containing documents, their most relevant topics, and sentiment scores\n",
        "# We can get the most likely topic for each document through the LDA model\n",
        "document_topics = [ldamodel[corpus[i]] for i in range(len(df))]\n",
        "df['Dominant_Topic'] = [sorted(topics, key=lambda x: -x[1])[0][0] for topics in document_topics]\n",
        "\n",
        "df.head()"
      ],
      "metadata": {
        "id": "RzPj3BZ8HXYv",
        "colab": {
          "base_uri": "https://localhost:8080/",
          "height": 417
        },
        "outputId": "a372b23d-3d9f-45e2-af76-3e6473698462"
      },
      "execution_count": 83,
      "outputs": [
        {
          "output_type": "stream",
          "name": "stderr",
          "text": [
            "/usr/local/lib/python3.10/dist-packages/ipykernel/ipkernel.py:283: DeprecationWarning: `should_run_async` will not call `transform_cell` automatically in the future. Please pass the result to `transformed_cell` argument and any exception that happen during thetransform in `preprocessing_exc_tuple` in IPython 7.17 and above.\n",
            "  and should_run_async(code)\n"
          ]
        },
        {
          "output_type": "execute_result",
          "data": {
            "text/plain": [
              "                                                body  \\\n",
              "2  URL: https://v.redd.it/qetvjinh7zsb1\\nThumbnai...   \n",
              "3  For the past decade or so I have typically sup...   \n",
              "4  Both claim to be the descendants of Abraham th...   \n",
              "5  If that’s the case, then his Native American c...   \n",
              "6  May not be the best analogy but racism kept Je...   \n",
              "\n",
              "                                          Clean body  \\\n",
              "2                 URL \\nThumbnail nsfw\\nImages\\n\\t\\n   \n",
              "3  For the past decade or so I have typically sup...   \n",
              "4  Both claim to be the descendants of Abraham th...   \n",
              "5  If thats the case then his Native American com...   \n",
              "6  May not be the best analogy but racism kept Je...   \n",
              "\n",
              "                                      Processed body  \\\n",
              "2                          URL Thumbnail nsfw Images   \n",
              "3  For past decade I typically supported Palestin...   \n",
              "4  Both claim descendant Abraham though So wouldn...   \n",
              "5  If thats case Native American comment make zer...   \n",
              "6  May best analogy racism kept Jews finding new ...   \n",
              "\n",
              "                                          Sentiments VADER Sentiment  \\\n",
              "2  {'neg': 0.0, 'neu': 1.0, 'pos': 0.0, 'compound...         neutral   \n",
              "3  {'neg': 0.215, 'neu': 0.658, 'pos': 0.127, 'co...        negative   \n",
              "4  {'neg': 0.0, 'neu': 1.0, 'pos': 0.0, 'compound...         neutral   \n",
              "5  {'neg': 0.0, 'neu': 1.0, 'pos': 0.0, 'compound...         neutral   \n",
              "6  {'neg': 0.326, 'neu': 0.407, 'pos': 0.267, 'co...        negative   \n",
              "\n",
              "   TextBlob Sentiment TextBlob Sentiment Category  Dominant_Topic  \n",
              "2            0.000000                     neutral               0  \n",
              "3           -0.046088                    negative               4  \n",
              "4            0.093750                    positive               7  \n",
              "5            0.000000                     neutral               9  \n",
              "6            0.148377                    positive               1  "
            ],
            "text/html": [
              "\n",
              "  <div id=\"df-774791c0-0f4e-4479-9464-4483f885ebc2\" class=\"colab-df-container\">\n",
              "    <div>\n",
              "<style scoped>\n",
              "    .dataframe tbody tr th:only-of-type {\n",
              "        vertical-align: middle;\n",
              "    }\n",
              "\n",
              "    .dataframe tbody tr th {\n",
              "        vertical-align: top;\n",
              "    }\n",
              "\n",
              "    .dataframe thead th {\n",
              "        text-align: right;\n",
              "    }\n",
              "</style>\n",
              "<table border=\"1\" class=\"dataframe\">\n",
              "  <thead>\n",
              "    <tr style=\"text-align: right;\">\n",
              "      <th></th>\n",
              "      <th>body</th>\n",
              "      <th>Clean body</th>\n",
              "      <th>Processed body</th>\n",
              "      <th>Sentiments</th>\n",
              "      <th>VADER Sentiment</th>\n",
              "      <th>TextBlob Sentiment</th>\n",
              "      <th>TextBlob Sentiment Category</th>\n",
              "      <th>Dominant_Topic</th>\n",
              "    </tr>\n",
              "  </thead>\n",
              "  <tbody>\n",
              "    <tr>\n",
              "      <th>2</th>\n",
              "      <td>URL: https://v.redd.it/qetvjinh7zsb1\\nThumbnai...</td>\n",
              "      <td>URL \\nThumbnail nsfw\\nImages\\n\\t\\n</td>\n",
              "      <td>URL Thumbnail nsfw Images</td>\n",
              "      <td>{'neg': 0.0, 'neu': 1.0, 'pos': 0.0, 'compound...</td>\n",
              "      <td>neutral</td>\n",
              "      <td>0.000000</td>\n",
              "      <td>neutral</td>\n",
              "      <td>0</td>\n",
              "    </tr>\n",
              "    <tr>\n",
              "      <th>3</th>\n",
              "      <td>For the past decade or so I have typically sup...</td>\n",
              "      <td>For the past decade or so I have typically sup...</td>\n",
              "      <td>For past decade I typically supported Palestin...</td>\n",
              "      <td>{'neg': 0.215, 'neu': 0.658, 'pos': 0.127, 'co...</td>\n",
              "      <td>negative</td>\n",
              "      <td>-0.046088</td>\n",
              "      <td>negative</td>\n",
              "      <td>4</td>\n",
              "    </tr>\n",
              "    <tr>\n",
              "      <th>4</th>\n",
              "      <td>Both claim to be the descendants of Abraham th...</td>\n",
              "      <td>Both claim to be the descendants of Abraham th...</td>\n",
              "      <td>Both claim descendant Abraham though So wouldn...</td>\n",
              "      <td>{'neg': 0.0, 'neu': 1.0, 'pos': 0.0, 'compound...</td>\n",
              "      <td>neutral</td>\n",
              "      <td>0.093750</td>\n",
              "      <td>positive</td>\n",
              "      <td>7</td>\n",
              "    </tr>\n",
              "    <tr>\n",
              "      <th>5</th>\n",
              "      <td>If that’s the case, then his Native American c...</td>\n",
              "      <td>If thats the case then his Native American com...</td>\n",
              "      <td>If thats case Native American comment make zer...</td>\n",
              "      <td>{'neg': 0.0, 'neu': 1.0, 'pos': 0.0, 'compound...</td>\n",
              "      <td>neutral</td>\n",
              "      <td>0.000000</td>\n",
              "      <td>neutral</td>\n",
              "      <td>9</td>\n",
              "    </tr>\n",
              "    <tr>\n",
              "      <th>6</th>\n",
              "      <td>May not be the best analogy but racism kept Je...</td>\n",
              "      <td>May not be the best analogy but racism kept Je...</td>\n",
              "      <td>May best analogy racism kept Jews finding new ...</td>\n",
              "      <td>{'neg': 0.326, 'neu': 0.407, 'pos': 0.267, 'co...</td>\n",
              "      <td>negative</td>\n",
              "      <td>0.148377</td>\n",
              "      <td>positive</td>\n",
              "      <td>1</td>\n",
              "    </tr>\n",
              "  </tbody>\n",
              "</table>\n",
              "</div>\n",
              "    <div class=\"colab-df-buttons\">\n",
              "\n",
              "  <div class=\"colab-df-container\">\n",
              "    <button class=\"colab-df-convert\" onclick=\"convertToInteractive('df-774791c0-0f4e-4479-9464-4483f885ebc2')\"\n",
              "            title=\"Convert this dataframe to an interactive table.\"\n",
              "            style=\"display:none;\">\n",
              "\n",
              "  <svg xmlns=\"http://www.w3.org/2000/svg\" height=\"24px\" viewBox=\"0 -960 960 960\">\n",
              "    <path d=\"M120-120v-720h720v720H120Zm60-500h600v-160H180v160Zm220 220h160v-160H400v160Zm0 220h160v-160H400v160ZM180-400h160v-160H180v160Zm440 0h160v-160H620v160ZM180-180h160v-160H180v160Zm440 0h160v-160H620v160Z\"/>\n",
              "  </svg>\n",
              "    </button>\n",
              "\n",
              "  <style>\n",
              "    .colab-df-container {\n",
              "      display:flex;\n",
              "      gap: 12px;\n",
              "    }\n",
              "\n",
              "    .colab-df-convert {\n",
              "      background-color: #E8F0FE;\n",
              "      border: none;\n",
              "      border-radius: 50%;\n",
              "      cursor: pointer;\n",
              "      display: none;\n",
              "      fill: #1967D2;\n",
              "      height: 32px;\n",
              "      padding: 0 0 0 0;\n",
              "      width: 32px;\n",
              "    }\n",
              "\n",
              "    .colab-df-convert:hover {\n",
              "      background-color: #E2EBFA;\n",
              "      box-shadow: 0px 1px 2px rgba(60, 64, 67, 0.3), 0px 1px 3px 1px rgba(60, 64, 67, 0.15);\n",
              "      fill: #174EA6;\n",
              "    }\n",
              "\n",
              "    .colab-df-buttons div {\n",
              "      margin-bottom: 4px;\n",
              "    }\n",
              "\n",
              "    [theme=dark] .colab-df-convert {\n",
              "      background-color: #3B4455;\n",
              "      fill: #D2E3FC;\n",
              "    }\n",
              "\n",
              "    [theme=dark] .colab-df-convert:hover {\n",
              "      background-color: #434B5C;\n",
              "      box-shadow: 0px 1px 3px 1px rgba(0, 0, 0, 0.15);\n",
              "      filter: drop-shadow(0px 1px 2px rgba(0, 0, 0, 0.3));\n",
              "      fill: #FFFFFF;\n",
              "    }\n",
              "  </style>\n",
              "\n",
              "    <script>\n",
              "      const buttonEl =\n",
              "        document.querySelector('#df-774791c0-0f4e-4479-9464-4483f885ebc2 button.colab-df-convert');\n",
              "      buttonEl.style.display =\n",
              "        google.colab.kernel.accessAllowed ? 'block' : 'none';\n",
              "\n",
              "      async function convertToInteractive(key) {\n",
              "        const element = document.querySelector('#df-774791c0-0f4e-4479-9464-4483f885ebc2');\n",
              "        const dataTable =\n",
              "          await google.colab.kernel.invokeFunction('convertToInteractive',\n",
              "                                                    [key], {});\n",
              "        if (!dataTable) return;\n",
              "\n",
              "        const docLinkHtml = 'Like what you see? Visit the ' +\n",
              "          '<a target=\"_blank\" href=https://colab.research.google.com/notebooks/data_table.ipynb>data table notebook</a>'\n",
              "          + ' to learn more about interactive tables.';\n",
              "        element.innerHTML = '';\n",
              "        dataTable['output_type'] = 'display_data';\n",
              "        await google.colab.output.renderOutput(dataTable, element);\n",
              "        const docLink = document.createElement('div');\n",
              "        docLink.innerHTML = docLinkHtml;\n",
              "        element.appendChild(docLink);\n",
              "      }\n",
              "    </script>\n",
              "  </div>\n",
              "\n",
              "\n",
              "<div id=\"df-0be0a514-8475-4110-a718-621cbd4c6b7d\">\n",
              "  <button class=\"colab-df-quickchart\" onclick=\"quickchart('df-0be0a514-8475-4110-a718-621cbd4c6b7d')\"\n",
              "            title=\"Suggest charts\"\n",
              "            style=\"display:none;\">\n",
              "\n",
              "<svg xmlns=\"http://www.w3.org/2000/svg\" height=\"24px\"viewBox=\"0 0 24 24\"\n",
              "     width=\"24px\">\n",
              "    <g>\n",
              "        <path d=\"M19 3H5c-1.1 0-2 .9-2 2v14c0 1.1.9 2 2 2h14c1.1 0 2-.9 2-2V5c0-1.1-.9-2-2-2zM9 17H7v-7h2v7zm4 0h-2V7h2v10zm4 0h-2v-4h2v4z\"/>\n",
              "    </g>\n",
              "</svg>\n",
              "  </button>\n",
              "\n",
              "<style>\n",
              "  .colab-df-quickchart {\n",
              "      --bg-color: #E8F0FE;\n",
              "      --fill-color: #1967D2;\n",
              "      --hover-bg-color: #E2EBFA;\n",
              "      --hover-fill-color: #174EA6;\n",
              "      --disabled-fill-color: #AAA;\n",
              "      --disabled-bg-color: #DDD;\n",
              "  }\n",
              "\n",
              "  [theme=dark] .colab-df-quickchart {\n",
              "      --bg-color: #3B4455;\n",
              "      --fill-color: #D2E3FC;\n",
              "      --hover-bg-color: #434B5C;\n",
              "      --hover-fill-color: #FFFFFF;\n",
              "      --disabled-bg-color: #3B4455;\n",
              "      --disabled-fill-color: #666;\n",
              "  }\n",
              "\n",
              "  .colab-df-quickchart {\n",
              "    background-color: var(--bg-color);\n",
              "    border: none;\n",
              "    border-radius: 50%;\n",
              "    cursor: pointer;\n",
              "    display: none;\n",
              "    fill: var(--fill-color);\n",
              "    height: 32px;\n",
              "    padding: 0;\n",
              "    width: 32px;\n",
              "  }\n",
              "\n",
              "  .colab-df-quickchart:hover {\n",
              "    background-color: var(--hover-bg-color);\n",
              "    box-shadow: 0 1px 2px rgba(60, 64, 67, 0.3), 0 1px 3px 1px rgba(60, 64, 67, 0.15);\n",
              "    fill: var(--button-hover-fill-color);\n",
              "  }\n",
              "\n",
              "  .colab-df-quickchart-complete:disabled,\n",
              "  .colab-df-quickchart-complete:disabled:hover {\n",
              "    background-color: var(--disabled-bg-color);\n",
              "    fill: var(--disabled-fill-color);\n",
              "    box-shadow: none;\n",
              "  }\n",
              "\n",
              "  .colab-df-spinner {\n",
              "    border: 2px solid var(--fill-color);\n",
              "    border-color: transparent;\n",
              "    border-bottom-color: var(--fill-color);\n",
              "    animation:\n",
              "      spin 1s steps(1) infinite;\n",
              "  }\n",
              "\n",
              "  @keyframes spin {\n",
              "    0% {\n",
              "      border-color: transparent;\n",
              "      border-bottom-color: var(--fill-color);\n",
              "      border-left-color: var(--fill-color);\n",
              "    }\n",
              "    20% {\n",
              "      border-color: transparent;\n",
              "      border-left-color: var(--fill-color);\n",
              "      border-top-color: var(--fill-color);\n",
              "    }\n",
              "    30% {\n",
              "      border-color: transparent;\n",
              "      border-left-color: var(--fill-color);\n",
              "      border-top-color: var(--fill-color);\n",
              "      border-right-color: var(--fill-color);\n",
              "    }\n",
              "    40% {\n",
              "      border-color: transparent;\n",
              "      border-right-color: var(--fill-color);\n",
              "      border-top-color: var(--fill-color);\n",
              "    }\n",
              "    60% {\n",
              "      border-color: transparent;\n",
              "      border-right-color: var(--fill-color);\n",
              "    }\n",
              "    80% {\n",
              "      border-color: transparent;\n",
              "      border-right-color: var(--fill-color);\n",
              "      border-bottom-color: var(--fill-color);\n",
              "    }\n",
              "    90% {\n",
              "      border-color: transparent;\n",
              "      border-bottom-color: var(--fill-color);\n",
              "    }\n",
              "  }\n",
              "</style>\n",
              "\n",
              "  <script>\n",
              "    async function quickchart(key) {\n",
              "      const quickchartButtonEl =\n",
              "        document.querySelector('#' + key + ' button');\n",
              "      quickchartButtonEl.disabled = true;  // To prevent multiple clicks.\n",
              "      quickchartButtonEl.classList.add('colab-df-spinner');\n",
              "      try {\n",
              "        const charts = await google.colab.kernel.invokeFunction(\n",
              "            'suggestCharts', [key], {});\n",
              "      } catch (error) {\n",
              "        console.error('Error during call to suggestCharts:', error);\n",
              "      }\n",
              "      quickchartButtonEl.classList.remove('colab-df-spinner');\n",
              "      quickchartButtonEl.classList.add('colab-df-quickchart-complete');\n",
              "    }\n",
              "    (() => {\n",
              "      let quickchartButtonEl =\n",
              "        document.querySelector('#df-0be0a514-8475-4110-a718-621cbd4c6b7d button');\n",
              "      quickchartButtonEl.style.display =\n",
              "        google.colab.kernel.accessAllowed ? 'block' : 'none';\n",
              "    })();\n",
              "  </script>\n",
              "</div>\n",
              "    </div>\n",
              "  </div>\n"
            ],
            "application/vnd.google.colaboratory.intrinsic+json": {
              "type": "dataframe",
              "variable_name": "df",
              "summary": "{\n  \"name\": \"df\",\n  \"rows\": 498,\n  \"fields\": [\n    {\n      \"column\": \"body\",\n      \"properties\": {\n        \"dtype\": \"string\",\n        \"num_unique_values\": 451,\n        \"samples\": [\n          \"If they start shouting about god every 5 seconds in the background of the war videos I'll be against them too\",\n          \"Feel like this aggressive of sarcasm deserves a /s \\ud83e\\udd74\",\n          \"I don\\u2019t excuse the acts that Hamas committed, I\\u2019m just stunned that everyone in the media and other outlets are treating this event as if Hamas was created last week. This has been ongoing for decades. Hamas always manages to maybe kill 1-2 civilians and Israel responds with 10x that.\\n\\nIsrael has had a hold on Gaza and palestinians, treating arabs like second class citizens and so on and so on. People reach their breaking point and I think for the Palestinians who side with Hamas see this as a win because of the way they have been tormented by Israel, with israel harrasing them and taking over land by force. \\n\\nIt\\u2019s just one of those things that when it goes untreated or unresolved it turns into this, same goes for 9/11 and Americas decades worth of bad political descisions and toppling of goverments, killing innocent people etc. This was Israels 9/11. \\n\\nObviously I wish none of the civilians would have died but that\\u2019s wishful and naive thinking when it comes to this conflict, it\\u2019s just that this time they wanted to send a huge fuck you to Israel, probably the end of Palestine/Gaza as we know it.\"\n        ],\n        \"semantic_type\": \"\",\n        \"description\": \"\"\n      }\n    },\n    {\n      \"column\": \"Clean body\",\n      \"properties\": {\n        \"dtype\": \"string\",\n        \"num_unique_values\": 450,\n        \"samples\": [\n          \"Genocide can also mean that you make sure a culture or society gets destroyed It does not only mean murder\\n\\nWe need only look at Gaza to see how real it is\\n\\nCausing mental harm to the members of the group also falls under the UN definition Methinks forcing people to live under military siege 247 and using them for target practice counts\\n\\nJust like the destruction of their livelihood orchards and the bulldozing of their wells\",\n          \" Fuck\\n\\nuKingYakub Please avoid using profanities to make a point or emphasis Rule 2\\n\\n\\nI am a bot and this action was performed automatically Please contact the moderators of this subredditmessagecomposetorIsraelPalestine if you have any questions or concerns\",\n          \"In all honesty its easy to say this when you havent lost people Im a parent If someone hurt my children and was protected by every institution Im supposed to rely on for justice whose to say that I wont hurt that persons family Pain and suffering tears a person down so much that no longer see the humanity in others These atrocities will continue but this is monster Israel made\"\n        ],\n        \"semantic_type\": \"\",\n        \"description\": \"\"\n      }\n    },\n    {\n      \"column\": \"Processed body\",\n      \"properties\": {\n        \"dtype\": \"string\",\n        \"num_unique_values\": 450,\n        \"samples\": [\n          \"Genocide also mean make sure culture society get destroyed It mean murder We need look Gaza see real Causing mental harm member group also fall UN definition Methinks forcing people live military siege 247 using target practice count Just like destruction livelihood orchard bulldozing well\",\n          \"Fuck uKingYakub Please avoid using profanity make point emphasis Rule 2 I bot action performed automatically Please contact moderator subredditmessagecomposetorIsraelPalestine question concern\",\n          \"In honesty easy say havent lost people Im parent If someone hurt child protected every institution Im supposed rely justice whose say I wont hurt person family Pain suffering tear person much longer see humanity others These atrocity continue monster Israel made\"\n        ],\n        \"semantic_type\": \"\",\n        \"description\": \"\"\n      }\n    },\n    {\n      \"column\": \"Sentiments\",\n      \"properties\": {\n        \"dtype\": \"object\",\n        \"semantic_type\": \"\",\n        \"description\": \"\"\n      }\n    },\n    {\n      \"column\": \"VADER Sentiment\",\n      \"properties\": {\n        \"dtype\": \"category\",\n        \"num_unique_values\": 3,\n        \"samples\": [\n          \"neutral\",\n          \"negative\",\n          \"positive\"\n        ],\n        \"semantic_type\": \"\",\n        \"description\": \"\"\n      }\n    },\n    {\n      \"column\": \"TextBlob Sentiment\",\n      \"properties\": {\n        \"dtype\": \"number\",\n        \"std\": 0.24490582181276782,\n        \"min\": -1.0,\n        \"max\": 0.7,\n        \"num_unique_values\": 228,\n        \"samples\": [\n          0.0875,\n          -0.0050000000000000044,\n          0.16944444444444443\n        ],\n        \"semantic_type\": \"\",\n        \"description\": \"\"\n      }\n    },\n    {\n      \"column\": \"TextBlob Sentiment Category\",\n      \"properties\": {\n        \"dtype\": \"category\",\n        \"num_unique_values\": 3,\n        \"samples\": [\n          \"neutral\",\n          \"negative\",\n          \"positive\"\n        ],\n        \"semantic_type\": \"\",\n        \"description\": \"\"\n      }\n    },\n    {\n      \"column\": \"Dominant_Topic\",\n      \"properties\": {\n        \"dtype\": \"number\",\n        \"std\": 2,\n        \"min\": 0,\n        \"max\": 9,\n        \"num_unique_values\": 10,\n        \"samples\": [\n          5,\n          4,\n          6\n        ],\n        \"semantic_type\": \"\",\n        \"description\": \"\"\n      }\n    }\n  ]\n}"
            }
          },
          "metadata": {},
          "execution_count": 83
        }
      ]
    },
    {
      "cell_type": "code",
      "source": [
        "# Next, we calculate the average sentiment score for each topic\n",
        "# Suppose we already have a column 'Sentiment_Score' in our DataFrame, representing the sentiment score\n",
        "topic_sentiment = df.groupby('Dominant_Topic')['TextBlob Sentiment'].mean().sort_values(ascending=False)\n",
        "\n",
        "# Visualize the average sentiment score for each topic\n",
        "topic_sentiment.plot(kind='bar', color='skyblue')\n",
        "plt.title('Average Sentiment Score per Topic')\n",
        "plt.xlabel('Topic')\n",
        "plt.ylabel('Average Sentiment Score')\n",
        "plt.show()"
      ],
      "metadata": {
        "colab": {
          "base_uri": "https://localhost:8080/",
          "height": 522
        },
        "id": "kR1WwgEY7aw8",
        "outputId": "df05616d-6d76-4db1-9ff1-74a54cdab067"
      },
      "execution_count": 84,
      "outputs": [
        {
          "output_type": "stream",
          "name": "stderr",
          "text": [
            "/usr/local/lib/python3.10/dist-packages/ipykernel/ipkernel.py:283: DeprecationWarning: `should_run_async` will not call `transform_cell` automatically in the future. Please pass the result to `transformed_cell` argument and any exception that happen during thetransform in `preprocessing_exc_tuple` in IPython 7.17 and above.\n",
            "  and should_run_async(code)\n"
          ]
        },
        {
          "output_type": "display_data",
          "data": {
            "text/plain": [
              "<Figure size 640x480 with 1 Axes>"
            ],
            "image/png": "[encoded data removed]"
          },
          "metadata": {}
        }
      ]
    },
    {
      "cell_type": "markdown",
      "source": [
        "N-gram"
      ],
      "metadata": {
        "id": "Pb7cnyrYHyXv"
      }
    },
    {
      "cell_type": "code",
      "source": [
        "def get_top_ngram(corpus, n):\n",
        "    lis=[]\n",
        "    vec = CountVectorizer(ngram_range = (n,n)).fit(corpus)\n",
        "    bag_of_words = vec.transform(corpus)\n",
        "    sum_words = bag_of_words.sum(axis = 0)\n",
        "    for word,idx in vec.vocabulary_.items():\n",
        "        lis.append((word, sum_words[0,idx]))\n",
        "    lis.sort(key = lambda x: x[1], reverse = True)\n",
        "    return lis"
      ],
      "metadata": {
        "id": "m70P7omJIPu2",
        "colab": {
          "base_uri": "https://localhost:8080/"
        },
        "outputId": "2d7a6d3c-76c0-4cb9-ef37-347d5177a4ab"
      },
      "execution_count": 85,
      "outputs": [
        {
          "output_type": "stream",
          "name": "stderr",
          "text": [
            "/usr/local/lib/python3.10/dist-packages/ipykernel/ipkernel.py:283: DeprecationWarning: `should_run_async` will not call `transform_cell` automatically in the future. Please pass the result to `transformed_cell` argument and any exception that happen during thetransform in `preprocessing_exc_tuple` in IPython 7.17 and above.\n",
            "  and should_run_async(code)\n"
          ]
        }
      ]
    },
    {
      "cell_type": "code",
      "source": [
        "top_n_bigrams=get_top_ngram(df['Processed body'],1)[:20]\n",
        "x,y=map(list,zip(*top_n_bigrams))\n",
        "plt.title('Top 20 frequently occured uni-gram')\n",
        "sns.barplot(x=y,y=x)"
      ],
      "metadata": {
        "id": "Es4_MmgwIS2K",
        "colab": {
          "base_uri": "https://localhost:8080/",
          "height": 524
        },
        "outputId": "761aae7d-39d4-4dfb-eeda-9c8304c7fe11"
      },
      "execution_count": 86,
      "outputs": [
        {
          "output_type": "stream",
          "name": "stderr",
          "text": [
            "/usr/local/lib/python3.10/dist-packages/ipykernel/ipkernel.py:283: DeprecationWarning: `should_run_async` will not call `transform_cell` automatically in the future. Please pass the result to `transformed_cell` argument and any exception that happen during thetransform in `preprocessing_exc_tuple` in IPython 7.17 and above.\n",
            "  and should_run_async(code)\n"
          ]
        },
        {
          "output_type": "execute_result",
          "data": {
            "text/plain": [
              "<Axes: title={'center': 'Top 20 frequently occured uni-gram'}>"
            ]
          },
          "metadata": {},
          "execution_count": 86
        },
        {
          "output_type": "display_data",
          "data": {
            "text/plain": [
              "<Figure size 640x480 with 1 Axes>"
            ],
            "image/png": "[encoded data removed]"
          },
          "metadata": {}
        }
      ]
    },
    {
      "cell_type": "code",
      "source": [
        "top_n_bigrams=get_top_ngram(df['Processed body'],2)[:20]\n",
        "x,y=map(list,zip(*top_n_bigrams))\n",
        "plt.title('Top 20 frequently occured bi-grams')\n",
        "sns.barplot(x=y,y=x)"
      ],
      "metadata": {
        "id": "SDVXcrCmIWuH",
        "colab": {
          "base_uri": "https://localhost:8080/",
          "height": 524
        },
        "outputId": "cd123119-38b8-41f0-e6f9-feb37e7b0fee"
      },
      "execution_count": 87,
      "outputs": [
        {
          "output_type": "stream",
          "name": "stderr",
          "text": [
            "/usr/local/lib/python3.10/dist-packages/ipykernel/ipkernel.py:283: DeprecationWarning: `should_run_async` will not call `transform_cell` automatically in the future. Please pass the result to `transformed_cell` argument and any exception that happen during thetransform in `preprocessing_exc_tuple` in IPython 7.17 and above.\n",
            "  and should_run_async(code)\n"
          ]
        },
        {
          "output_type": "execute_result",
          "data": {
            "text/plain": [
              "<Axes: title={'center': 'Top 20 frequently occured bi-grams'}>"
            ]
          },
          "metadata": {},
          "execution_count": 87
        },
        {
          "output_type": "display_data",
          "data": {
            "text/plain": [
              "<Figure size 640x480 with 1 Axes>"
            ],
            "image/png": "[encoded data removed]"
          },
          "metadata": {}
        }
      ]
    },
    {
      "cell_type": "code",
      "source": [
        "top_n_bigrams=get_top_ngram(df['Processed body'],3)[:20]\n",
        "x,y=map(list,zip(*top_n_bigrams))\n",
        "plt.title('Top 20 frequently occured tri-grams')\n",
        "sns.barplot(x=y,y=x)"
      ],
      "metadata": {
        "id": "vzF3wCJ4IZdH",
        "colab": {
          "base_uri": "https://localhost:8080/",
          "height": 524
        },
        "outputId": "e685b631-32e3-4f5b-b593-abe1c058a7a4"
      },
      "execution_count": 88,
      "outputs": [
        {
          "output_type": "stream",
          "name": "stderr",
          "text": [
            "/usr/local/lib/python3.10/dist-packages/ipykernel/ipkernel.py:283: DeprecationWarning: `should_run_async` will not call `transform_cell` automatically in the future. Please pass the result to `transformed_cell` argument and any exception that happen during thetransform in `preprocessing_exc_tuple` in IPython 7.17 and above.\n",
            "  and should_run_async(code)\n"
          ]
        },
        {
          "output_type": "execute_result",
          "data": {
            "text/plain": [
              "<Axes: title={'center': 'Top 20 frequently occured tri-grams'}>"
            ]
          },
          "metadata": {},
          "execution_count": 88
        },
        {
          "output_type": "display_data",
          "data": {
            "text/plain": [
              "<Figure size 640x480 with 1 Axes>"
            ],
            "image/png": "[encoded data removed]"
          },
          "metadata": {}
        }
      ]
    },
    {
      "cell_type": "code",
      "source": [
        "# def plot_top_ngrams(sub_df, title, ax):\n",
        "#     top_ngrams = get_top_ngram(sub_df['Processed body'], 1)[:20]\n",
        "#     x, y = zip(*top_ngrams)\n",
        "#     sns.barplot(x=list(y), y=list(x), ax=ax)\n",
        "#     ax.set_title(title)\n",
        "\n",
        "# # Set up matplotlib figure and axes\n",
        "# fig, axes = plt.subplots(2, 1, figsize=(10, 8))\n",
        "\n",
        "# # Plot for positive sentiment\n",
        "# positive_posts = df[(df['dataType'] == 'post') & (df['TextBlob Sentiment Category'] == 'positive')]\n",
        "# plot_top_ngrams(positive_posts, 'Top 20 frequently occurred uni-grams - Positive Posts', axes[0])\n",
        "\n",
        "# # Plot for neutral sentiment\n",
        "# negative_posts = df[(df['dataType'] == 'post') & (df['TextBlob Sentiment Category'] == 'neutral')]\n",
        "# plot_top_ngrams(negative_posts, 'Top 20 frequently occurred uni-grams - Neutral Posts', axes[1])\n",
        "\n",
        "# # Display the plots\n",
        "# plt.tight_layout()\n",
        "# plt.show()"
      ],
      "metadata": {
        "id": "BzHc60CcIcBO",
        "colab": {
          "base_uri": "https://localhost:8080/"
        },
        "outputId": "e6e59a25-e6b2-4627-b8b6-4d69002899cc"
      },
      "execution_count": 90,
      "outputs": [
        {
          "output_type": "stream",
          "name": "stderr",
          "text": [
            "/usr/local/lib/python3.10/dist-packages/ipykernel/ipkernel.py:283: DeprecationWarning: `should_run_async` will not call `transform_cell` automatically in the future. Please pass the result to `transformed_cell` argument and any exception that happen during thetransform in `preprocessing_exc_tuple` in IPython 7.17 and above.\n",
            "  and should_run_async(code)\n"
          ]
        }
      ]
    },
    {
      "cell_type": "code",
      "source": [
        "# def plot_top_ngrams(sub_df, title, ax):\n",
        "#     top_ngrams = get_top_ngram(sub_df['Processed body'], 1)[:20]\n",
        "#     x, y = zip(*top_ngrams)\n",
        "#     sns.barplot(x=list(y), y=list(x), ax=ax)\n",
        "#     ax.set_title(title)\n",
        "\n",
        "# # Set up matplotlib figure and axes\n",
        "# fig, axes = plt.subplots(3, 1, figsize=(10, 8))\n",
        "\n",
        "# # Plot for positive sentiment\n",
        "# positive_posts = df[(df['dataType'] == 'comment') & (df['TextBlob Sentiment Category'] == 'positive')]\n",
        "# plot_top_ngrams(positive_posts, 'Top 20 frequently occurred uni-grams - Positive Comments', axes[0])\n",
        "\n",
        "# # Plot for neutral sentiment\n",
        "# negative_posts = df[(df['dataType'] == 'comment') & (df['TextBlob Sentiment Category'] == 'neutral')]\n",
        "# plot_top_ngrams(negative_posts, 'Top 20 frequently occurred uni-grams - Neutral Comments', axes[1])\n",
        "\n",
        "# # Plot for negative sentiment\n",
        "# negative_posts = df[(df['dataType'] == 'comment') & (df['TextBlob Sentiment Category'] == 'negative')]\n",
        "# plot_top_ngrams(negative_posts, 'Top 20 frequently occurred uni-grams - Negative Comments', axes[2])\n",
        "\n",
        "# # Display the plots\n",
        "# plt.tight_layout()\n",
        "# plt.show()"
      ],
      "metadata": {
        "id": "KHDR-ER2Ige5",
        "colab": {
          "base_uri": "https://localhost:8080/"
        },
        "outputId": "d0bd0311-0b00-49c1-af8b-023d79fda08b"
      },
      "execution_count": 92,
      "outputs": [
        {
          "output_type": "stream",
          "name": "stderr",
          "text": [
            "/usr/local/lib/python3.10/dist-packages/ipykernel/ipkernel.py:283: DeprecationWarning: `should_run_async` will not call `transform_cell` automatically in the future. Please pass the result to `transformed_cell` argument and any exception that happen during thetransform in `preprocessing_exc_tuple` in IPython 7.17 and above.\n",
            "  and should_run_async(code)\n"
          ]
        }
      ]
    },
    {
      "cell_type": "code",
      "source": [
        "# def plot_top_ngrams(sub_df, title, ax):\n",
        "#     top_ngrams = get_top_ngram(sub_df['Processed body'], 2)[:20]\n",
        "#     x, y = zip(*top_ngrams)\n",
        "#     sns.barplot(x=list(y), y=list(x), ax=ax)\n",
        "#     ax.set_title(title)\n",
        "\n",
        "# # Set up matplotlib figure and axes\n",
        "# fig, axes = plt.subplots(2, 1, figsize=(10, 8))\n",
        "\n",
        "# # Plot for positive sentiment\n",
        "# positive_posts = df[(df['dataType'] == 'post') & (df['TextBlob Sentiment Category'] == 'positive')]\n",
        "# plot_top_ngrams(positive_posts, 'Top 20 frequently occurred bi-grams - Positive Posts', axes[0])\n",
        "\n",
        "# # Plot for neutral sentiment\n",
        "# negative_posts = df[(df['dataType'] == 'post') & (df['TextBlob Sentiment Category'] == 'neutral')]\n",
        "# plot_top_ngrams(negative_posts, 'Top 20 frequently occurred bi-grams - Neutral Posts', axes[1])\n",
        "\n",
        "# # Display the plots\n",
        "# plt.tight_layout()\n",
        "# plt.show()"
      ],
      "metadata": {
        "id": "DrH02RPUIlEJ",
        "colab": {
          "base_uri": "https://localhost:8080/"
        },
        "outputId": "881c0079-d91d-4f83-f04b-d8bc323cb7b5"
      },
      "execution_count": 93,
      "outputs": [
        {
          "output_type": "stream",
          "name": "stderr",
          "text": [
            "/usr/local/lib/python3.10/dist-packages/ipykernel/ipkernel.py:283: DeprecationWarning: `should_run_async` will not call `transform_cell` automatically in the future. Please pass the result to `transformed_cell` argument and any exception that happen during thetransform in `preprocessing_exc_tuple` in IPython 7.17 and above.\n",
            "  and should_run_async(code)\n"
          ]
        }
      ]
    },
    {
      "cell_type": "code",
      "source": [
        "# def plot_top_ngrams(sub_df, title, ax):\n",
        "#     top_ngrams = get_top_ngram(sub_df['Processed body'], 2)[:20]\n",
        "#     x, y = zip(*top_ngrams)\n",
        "#     sns.barplot(x=list(y), y=list(x), ax=ax)\n",
        "#     ax.set_title(title)\n",
        "\n",
        "# # Set up matplotlib figure and axes\n",
        "# fig, axes = plt.subplots(3, 1, figsize=(10, 8))\n",
        "\n",
        "# # Plot for positive sentiment\n",
        "# positive_posts = df[(df['dataType'] == 'comment') & (df['TextBlob Sentiment Category'] == 'positive')]\n",
        "# plot_top_ngrams(positive_posts, 'Top 20 frequently occurred bi-grams - Positive Comments', axes[0])\n",
        "\n",
        "# # Plot for neutral sentiment\n",
        "# negative_posts = df[(df['dataType'] == 'comment') & (df['TextBlob Sentiment Category'] == 'neutral')]\n",
        "# plot_top_ngrams(negative_posts, 'Top 20 frequently occurred bi-grams - Neutral Comments', axes[1])\n",
        "\n",
        "# # Plot for negative sentiment\n",
        "# negative_posts = df[(df['dataType'] == 'comment') & (df['TextBlob Sentiment Category'] == 'negative')]\n",
        "# plot_top_ngrams(negative_posts, 'Top 20 frequently occurred bi-grams - Negative Comments', axes[2])\n",
        "\n",
        "# # Display the plots\n",
        "# plt.tight_layout()\n",
        "# plt.show()"
      ],
      "metadata": {
        "id": "njgC0O3aIoE0"
      },
      "execution_count": null,
      "outputs": []
    },
    {
      "cell_type": "code",
      "source": [
        "# def plot_top_ngrams(sub_df, title, ax):\n",
        "#     top_ngrams = get_top_ngram(sub_df['Processed body'], 3)[:20]\n",
        "#     x, y = zip(*top_ngrams)\n",
        "#     sns.barplot(x=list(y), y=list(x), ax=ax)\n",
        "#     ax.set_title(title)\n",
        "\n",
        "# # Set up matplotlib figure and axes\n",
        "# fig, axes = plt.subplots(3, 1, figsize=(10, 8))\n",
        "\n",
        "# # Plot for positive sentiment\n",
        "# positive_posts = df[(df['dataType'] == 'comment') & (df['TextBlob Sentiment Category'] == 'positive')]\n",
        "# plot_top_ngrams(positive_posts, 'Top 20 frequently occurred bi-grams - Positive Comments', axes[0])\n",
        "\n",
        "# # Plot for neutral sentiment\n",
        "# negative_posts = df[(df['dataType'] == 'comment') & (df['TextBlob Sentiment Category'] == 'neutral')]\n",
        "# plot_top_ngrams(negative_posts, 'Top 20 frequently occurred bi-grams - Neutral Comments', axes[1])\n",
        "\n",
        "# # Plot for negative sentiment\n",
        "# negative_posts = df[(df['dataType'] == 'comment') & (df['TextBlob Sentiment Category'] == 'negative')]\n",
        "# plot_top_ngrams(negative_posts, 'Top 20 frequently occurred tri-grams - Negative Comments', axes[2])\n",
        "\n",
        "# # Display the plots\n",
        "# plt.tight_layout()\n",
        "# plt.show()"
      ],
      "metadata": {
        "id": "jZ3TZCOVIrJb"
      },
      "execution_count": null,
      "outputs": []
    },
    {
      "cell_type": "markdown",
      "source": [
        "Quantitative Analysis"
      ],
      "metadata": {
        "id": "1rRk22qpIv40"
      }
    },
    {
      "cell_type": "code",
      "source": [
        "# # Calculate correlations using SciPy\n",
        "# correlation, _ = pearsonr(df['upVotes'], df['TextBlob Sentiment'])\n",
        "# comments = df[df['dataType'] == 'comment']\n",
        "# posts = df[df['dataType'] == 'post']\n",
        "# print('Pearson correlation betweeen Sentiment and upVotes:', correlation)"
      ],
      "metadata": {
        "id": "fpL839ntIytU"
      },
      "execution_count": null,
      "outputs": []
    },
    {
      "cell_type": "code",
      "source": [
        "comments = df[df['dataType'] == 'comment']\n",
        "posts = df[df['dataType'] == 'post']"
      ],
      "metadata": {
        "id": "d-cKRy7aI1r7"
      },
      "execution_count": null,
      "outputs": []
    },
    {
      "cell_type": "code",
      "source": [
        "comments_correlation = comments[['TextBlob Sentiment', 'numberOfreplies', 'upVotes']].corr()\n",
        "posts_correlation = posts[['TextBlob Sentiment', 'numberOfComments', 'upVotes']].corr()"
      ],
      "metadata": {
        "id": "yqFqFQY7I4aN"
      },
      "execution_count": null,
      "outputs": []
    },
    {
      "cell_type": "code",
      "source": [
        "fig, ax = plt.subplots(1, 2, figsize=(12, 6))\n",
        "sns.heatmap(comments_correlation, annot=True, fmt=\".2f\", cmap=\"coolwarm\", ax=ax[0])\n",
        "ax[0].set_title('Comments Correlation Heatmap')\n",
        "\n",
        "sns.heatmap(posts_correlation, annot=True, fmt=\".2f\", cmap=\"coolwarm\", ax=ax[1])\n",
        "ax[1].set_title('Posts Correlation Heatmap')\n",
        "\n",
        "plt.tight_layout()\n",
        "plt.show()"
      ],
      "metadata": {
        "id": "-x2Lk5iRI6tB"
      },
      "execution_count": null,
      "outputs": []
    },
    {
      "cell_type": "markdown",
      "source": [
        "Visualisation"
      ],
      "metadata": {
        "id": "2rdJPMS2I-MT"
      }
    },
    {
      "cell_type": "code",
      "source": [
        "# # Trend plots using matplotlib and seaborn\n",
        "# plt.figure(figsize=(10,5))\n",
        "# sns.lineplot(data=df, x='createdAt', y='upVotes')\n",
        "# plt.title('Number of Likes Over Time')\n",
        "# plt.show()"
      ],
      "metadata": {
        "id": "bNXxZLiYI_-Y",
        "colab": {
          "base_uri": "https://localhost:8080/"
        },
        "outputId": "5e61f306-25f1-4be3-f54d-3a972cc313b2"
      },
      "execution_count": 95,
      "outputs": [
        {
          "output_type": "stream",
          "name": "stderr",
          "text": [
            "/usr/local/lib/python3.10/dist-packages/ipykernel/ipkernel.py:283: DeprecationWarning: `should_run_async` will not call `transform_cell` automatically in the future. Please pass the result to `transformed_cell` argument and any exception that happen during thetransform in `preprocessing_exc_tuple` in IPython 7.17 and above.\n",
            "  and should_run_async(code)\n"
          ]
        }
      ]
    },
    {
      "cell_type": "code",
      "source": [
        "# WordCloud\n",
        "text = ' '.join(review for review in df['Processed body'])\n",
        "wordcloud = WordCloud(background_color='white').generate(text)\n",
        "\n",
        "plt.imshow(wordcloud, interpolation='bilinear')\n",
        "plt.axis('off')\n",
        "plt.show()"
      ],
      "metadata": {
        "id": "-Xq3q-AHJDF0",
        "colab": {
          "base_uri": "https://localhost:8080/",
          "height": 340
        },
        "outputId": "1fed14ea-fcdf-48d8-a322-5fc07e64140e"
      },
      "execution_count": 96,
      "outputs": [
        {
          "output_type": "stream",
          "name": "stderr",
          "text": [
            "/usr/local/lib/python3.10/dist-packages/ipykernel/ipkernel.py:283: DeprecationWarning: `should_run_async` will not call `transform_cell` automatically in the future. Please pass the result to `transformed_cell` argument and any exception that happen during thetransform in `preprocessing_exc_tuple` in IPython 7.17 and above.\n",
            "  and should_run_async(code)\n"
          ]
        },
        {
          "output_type": "display_data",
          "data": {
            "text/plain": [
              "<Figure size 640x480 with 1 Axes>"
            ],
            "image/png": "[encoded data removed]"
          },
          "metadata": {}
        }
      ]
    },
    {
      "cell_type": "code",
      "source": [
        "posts_text = ' '.join(text for text in df[df['dataType'] == 'post']['Processed body'])\n",
        "wordcloud_posts = WordCloud(background_color='white', max_words=50, contour_width=3, contour_color='steelblue')\n",
        "wordcloud_posts.generate(posts_text)\n",
        "plt.figure(figsize=(16, 8))\n",
        "plt.subplot(1, 2, 1)\n",
        "plt.imshow(wordcloud_posts, interpolation='bilinear')\n",
        "plt.title('WordCloud for Posts')\n",
        "plt.axis('off')"
      ],
      "metadata": {
        "id": "vrxEERzKJHwm"
      },
      "execution_count": null,
      "outputs": []
    },
    {
      "cell_type": "code",
      "source": [
        "comments_text = ' '.join(text for text in df[df['dataType'] == 'comment']['Processed body'])\n",
        "wordcloud_comments = WordCloud(background_color='white', max_words=50, contour_width=3, contour_color='steelblue')\n",
        "wordcloud_comments.generate(comments_text)\n",
        "plt.figure(figsize=(16, 8))\n",
        "plt.subplot(1, 2, 2)\n",
        "plt.imshow(wordcloud_comments, interpolation='bilinear')\n",
        "plt.title('WordCloud for Comments')\n",
        "plt.axis('off')"
      ],
      "metadata": {
        "id": "83LoGeXdJK1O"
      },
      "execution_count": null,
      "outputs": []
    }
  ]
}