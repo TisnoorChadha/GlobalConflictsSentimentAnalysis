{
  "nbformat": 4,
  "nbformat_minor": 0,
  "metadata": {
    "colab": {
      "provenance": []
    },
    "kernelspec": {
      "name": "python3",
      "display_name": "Python 3"
    },
    "language_info": {
      "name": "python"
    }
  },
  "cells": [
    {
      "cell_type": "code",
      "execution_count": 1,
      "metadata": {
        "id": "Wt9ts2AUx4g5"
      },
      "outputs": [],
      "source": [
        "import pandas as pd\n",
        "import numpy as np\n",
        "import re\n",
        "from sklearn.feature_extraction.text import TfidfVectorizer\n",
        "from nltk.sentiment.vader import SentimentIntensityAnalyzer\n",
        "from textblob import TextBlob\n",
        "import gensim\n",
        "from gensim import corpora\n",
        "from gensim.models.ldamodel import LdaModel\n",
        "import networkx as nx\n",
        "import matplotlib.pyplot as plt\n",
        "import seaborn as sns\n",
        "from scipy.stats import pearsonr\n",
        "from wordcloud import WordCloud\n",
        "from nltk.corpus import stopwords\n",
        "from nltk.tokenize import word_tokenize\n",
        "from nltk.stem import WordNetLemmatizer\n",
        "import nltk\n",
        "from bs4 import BeautifulSoup\n",
        "import string,unicodedata\n",
        "from sklearn.feature_extraction.text import CountVectorizer\n",
        "from plotly.subplots import make_subplots\n",
        "import plotly.graph_objects as go\n"
      ]
    },
    {
      "cell_type": "code",
      "source": [
        "df = pd.read_csv(\"/content/Sudan internal conflicts Reddit Scrape.csv\")"
      ],
      "metadata": {
        "colab": {
          "base_uri": "https://localhost:8080/"
        },
        "id": "guNEXSiByBUN",
        "outputId": "c8d7e5b4-c413-4d94-ddad-bb3894dac4be"
      },
      "execution_count": 89,
      "outputs": [
        {
          "output_type": "stream",
          "name": "stderr",
          "text": [
            "/usr/local/lib/python3.10/dist-packages/ipykernel/ipkernel.py:283: DeprecationWarning: `should_run_async` will not call `transform_cell` automatically in the future. Please pass the result to `transformed_cell` argument and any exception that happen during thetransform in `preprocessing_exc_tuple` in IPython 7.17 and above.\n",
            "  and should_run_async(code)\n"
          ]
        }
      ]
    },
    {
      "cell_type": "code",
      "source": [
        "df.head()"
      ],
      "metadata": {
        "colab": {
          "base_uri": "https://localhost:8080/",
          "height": 516
        },
        "id": "JmGSlPFiyb2M",
        "outputId": "7a6ebc60-c41d-4094-f4ac-f4e884d20467"
      },
      "execution_count": 90,
      "outputs": [
        {
          "output_type": "stream",
          "name": "stderr",
          "text": [
            "/usr/local/lib/python3.10/dist-packages/ipykernel/ipkernel.py:283: DeprecationWarning: `should_run_async` will not call `transform_cell` automatically in the future. Please pass the result to `transformed_cell` argument and any exception that happen during thetransform in `preprocessing_exc_tuple` in IPython 7.17 and above.\n",
            "  and should_run_async(code)\n"
          ]
        },
        {
          "output_type": "execute_result",
          "data": {
            "text/plain": [
              "                                                body               category  \\\n",
              "0                                                NaN                    NaN   \n",
              "1  URL: https://i.redd.it/741oufea1ew51.png\\nThum...                    NaN   \n",
              "2    It’s true, because Hitler caused the Holocaust.  PoliticalCompassMemes   \n",
              "3     Actual Nazis: *eating popcorn from authcenter*  PoliticalCompassMemes   \n",
              "4                “Trump is worse than Hitler”\\n\\nYes  PoliticalCompassMemes   \n",
              "\n",
              "             communityName                 createdAt dataType  \\\n",
              "0                      NaN  2021-01-31T03:02:38.000Z     user   \n",
              "1  r/PoliticalCompassMemes  2020-10-31T08:06:55.000Z     post   \n",
              "2  r/PoliticalCompassMemes  2020-10-31T11:56:44.000Z  comment   \n",
              "3  r/PoliticalCompassMemes  2020-10-31T08:53:57.000Z  comment   \n",
              "4  r/PoliticalCompassMemes  2020-10-31T11:16:49.000Z  comment   \n",
              "\n",
              "                                         description  flair  \\\n",
              "0  Here you can see some rare combat footages aro...    NaN   \n",
              "1                                                NaN    NaN   \n",
              "2                                                NaN    NaN   \n",
              "3                                                NaN    NaN   \n",
              "4                                                NaN    NaN   \n",
              "\n",
              "                                                html          id   isAd  ...  \\\n",
              "0                                                NaN    6wo2ays6    NaN  ...   \n",
              "1                                                NaN   t3_jlenuw  False  ...   \n",
              "2  &lt;div class=\"md\"&gt;&lt;p&gt;It’s true, beca...  t1_gaow8ak    NaN  ...   \n",
              "3  &lt;div class=\"md\"&gt;&lt;p&gt;Actual Nazis: &...  t1_gaomhy8    NaN  ...   \n",
              "4  &lt;div class=\"md\"&gt;&lt;p&gt;“Trump is worse...  t1_gaotut6    NaN  ...   \n",
              "\n",
              "      postId                 scrapedAt  \\\n",
              "0        NaN  2024-06-18T15:33:59.120Z   \n",
              "1        NaN  2024-06-18T15:34:15.689Z   \n",
              "2  t3_jlenuw  2024-06-18T15:34:25.325Z   \n",
              "3  t3_jlenuw  2024-06-18T15:34:15.777Z   \n",
              "4  t3_jlenuw  2024-06-18T15:34:15.777Z   \n",
              "\n",
              "                                        thumbnailUrl  \\\n",
              "0                                                NaN   \n",
              "1  https://b.thumbs.redditmedia.com/HAtw7Uf1mgemD...   \n",
              "2                                                NaN   \n",
              "3                                                NaN   \n",
              "4                                                NaN   \n",
              "\n",
              "                                title upVoteRatio  upVotes  \\\n",
              "0                                 NaN         NaN      NaN   \n",
              "1  AuthRight has an internal conflict        0.93  26515.0   \n",
              "2                                 NaN         NaN      2.0   \n",
              "3                                 NaN         NaN   3389.0   \n",
              "4                                 NaN         NaN   1839.0   \n",
              "\n",
              "                                                 url  \\\n",
              "0          https://www.reddit.com/user/beoformation/   \n",
              "1  https://www.reddit.com/r/PoliticalCompassMemes...   \n",
              "2  https://www.reddit.com/r/PoliticalCompassMemes...   \n",
              "3  https://www.reddit.com/r/PoliticalCompassMemes...   \n",
              "4  https://www.reddit.com/r/PoliticalCompassMemes...   \n",
              "\n",
              "                                            userIcon       userId  \\\n",
              "0  https://styles.redditmedia.com/t5_3uyyfi/style...          NaN   \n",
              "1                                                NaN  t2_2bggjpdi   \n",
              "2                                                NaN    t2_156aui   \n",
              "3                                                NaN  t2_5ioq4hg2   \n",
              "4                                                NaN  t2_6keblayy   \n",
              "\n",
              "            username  \n",
              "0       beoformation  \n",
              "1       SirGhallahad  \n",
              "2            vig1141  \n",
              "3  Belkan-Federation  \n",
              "4       SQRT_2214144  \n",
              "\n",
              "[5 rows x 27 columns]"
            ],
            "text/html": [
              "\n",
              "  <div id=\"df-71c93a16-31c5-44a3-a511-f45dfe2a0f1e\" class=\"colab-df-container\">\n",
              "    <div>\n",
              "<style scoped>\n",
              "    .dataframe tbody tr th:only-of-type {\n",
              "        vertical-align: middle;\n",
              "    }\n",
              "\n",
              "    .dataframe tbody tr th {\n",
              "        vertical-align: top;\n",
              "    }\n",
              "\n",
              "    .dataframe thead th {\n",
              "        text-align: right;\n",
              "    }\n",
              "</style>\n",
              "<table border=\"1\" class=\"dataframe\">\n",
              "  <thead>\n",
              "    <tr style=\"text-align: right;\">\n",
              "      <th></th>\n",
              "      <th>body</th>\n",
              "      <th>category</th>\n",
              "      <th>communityName</th>\n",
              "      <th>createdAt</th>\n",
              "      <th>dataType</th>\n",
              "      <th>description</th>\n",
              "      <th>flair</th>\n",
              "      <th>html</th>\n",
              "      <th>id</th>\n",
              "      <th>isAd</th>\n",
              "      <th>...</th>\n",
              "      <th>postId</th>\n",
              "      <th>scrapedAt</th>\n",
              "      <th>thumbnailUrl</th>\n",
              "      <th>title</th>\n",
              "      <th>upVoteRatio</th>\n",
              "      <th>upVotes</th>\n",
              "      <th>url</th>\n",
              "      <th>userIcon</th>\n",
              "      <th>userId</th>\n",
              "      <th>username</th>\n",
              "    </tr>\n",
              "  </thead>\n",
              "  <tbody>\n",
              "    <tr>\n",
              "      <th>0</th>\n",
              "      <td>NaN</td>\n",
              "      <td>NaN</td>\n",
              "      <td>NaN</td>\n",
              "      <td>2021-01-31T03:02:38.000Z</td>\n",
              "      <td>user</td>\n",
              "      <td>Here you can see some rare combat footages aro...</td>\n",
              "      <td>NaN</td>\n",
              "      <td>NaN</td>\n",
              "      <td>6wo2ays6</td>\n",
              "      <td>NaN</td>\n",
              "      <td>...</td>\n",
              "      <td>NaN</td>\n",
              "      <td>2024-06-18T15:33:59.120Z</td>\n",
              "      <td>NaN</td>\n",
              "      <td>NaN</td>\n",
              "      <td>NaN</td>\n",
              "      <td>NaN</td>\n",
              "      <td>https://www.reddit.com/user/beoformation/</td>\n",
              "      <td>https://styles.redditmedia.com/t5_3uyyfi/style...</td>\n",
              "      <td>NaN</td>\n",
              "      <td>beoformation</td>\n",
              "    </tr>\n",
              "    <tr>\n",
              "      <th>1</th>\n",
              "      <td>URL: https://i.redd.it/741oufea1ew51.png\\nThum...</td>\n",
              "      <td>NaN</td>\n",
              "      <td>r/PoliticalCompassMemes</td>\n",
              "      <td>2020-10-31T08:06:55.000Z</td>\n",
              "      <td>post</td>\n",
              "      <td>NaN</td>\n",
              "      <td>NaN</td>\n",
              "      <td>NaN</td>\n",
              "      <td>t3_jlenuw</td>\n",
              "      <td>False</td>\n",
              "      <td>...</td>\n",
              "      <td>NaN</td>\n",
              "      <td>2024-06-18T15:34:15.689Z</td>\n",
              "      <td>https://b.thumbs.redditmedia.com/HAtw7Uf1mgemD...</td>\n",
              "      <td>AuthRight has an internal conflict</td>\n",
              "      <td>0.93</td>\n",
              "      <td>26515.0</td>\n",
              "      <td>https://www.reddit.com/r/PoliticalCompassMemes...</td>\n",
              "      <td>NaN</td>\n",
              "      <td>t2_2bggjpdi</td>\n",
              "      <td>SirGhallahad</td>\n",
              "    </tr>\n",
              "    <tr>\n",
              "      <th>2</th>\n",
              "      <td>It’s true, because Hitler caused the Holocaust.</td>\n",
              "      <td>PoliticalCompassMemes</td>\n",
              "      <td>r/PoliticalCompassMemes</td>\n",
              "      <td>2020-10-31T11:56:44.000Z</td>\n",
              "      <td>comment</td>\n",
              "      <td>NaN</td>\n",
              "      <td>NaN</td>\n",
              "      <td>&amp;lt;div class=\"md\"&amp;gt;&amp;lt;p&amp;gt;It’s true, beca...</td>\n",
              "      <td>t1_gaow8ak</td>\n",
              "      <td>NaN</td>\n",
              "      <td>...</td>\n",
              "      <td>t3_jlenuw</td>\n",
              "      <td>2024-06-18T15:34:25.325Z</td>\n",
              "      <td>NaN</td>\n",
              "      <td>NaN</td>\n",
              "      <td>NaN</td>\n",
              "      <td>2.0</td>\n",
              "      <td>https://www.reddit.com/r/PoliticalCompassMemes...</td>\n",
              "      <td>NaN</td>\n",
              "      <td>t2_156aui</td>\n",
              "      <td>vig1141</td>\n",
              "    </tr>\n",
              "    <tr>\n",
              "      <th>3</th>\n",
              "      <td>Actual Nazis: *eating popcorn from authcenter*</td>\n",
              "      <td>PoliticalCompassMemes</td>\n",
              "      <td>r/PoliticalCompassMemes</td>\n",
              "      <td>2020-10-31T08:53:57.000Z</td>\n",
              "      <td>comment</td>\n",
              "      <td>NaN</td>\n",
              "      <td>NaN</td>\n",
              "      <td>&amp;lt;div class=\"md\"&amp;gt;&amp;lt;p&amp;gt;Actual Nazis: &amp;...</td>\n",
              "      <td>t1_gaomhy8</td>\n",
              "      <td>NaN</td>\n",
              "      <td>...</td>\n",
              "      <td>t3_jlenuw</td>\n",
              "      <td>2024-06-18T15:34:15.777Z</td>\n",
              "      <td>NaN</td>\n",
              "      <td>NaN</td>\n",
              "      <td>NaN</td>\n",
              "      <td>3389.0</td>\n",
              "      <td>https://www.reddit.com/r/PoliticalCompassMemes...</td>\n",
              "      <td>NaN</td>\n",
              "      <td>t2_5ioq4hg2</td>\n",
              "      <td>Belkan-Federation</td>\n",
              "    </tr>\n",
              "    <tr>\n",
              "      <th>4</th>\n",
              "      <td>“Trump is worse than Hitler”\\n\\nYes</td>\n",
              "      <td>PoliticalCompassMemes</td>\n",
              "      <td>r/PoliticalCompassMemes</td>\n",
              "      <td>2020-10-31T11:16:49.000Z</td>\n",
              "      <td>comment</td>\n",
              "      <td>NaN</td>\n",
              "      <td>NaN</td>\n",
              "      <td>&amp;lt;div class=\"md\"&amp;gt;&amp;lt;p&amp;gt;“Trump is worse...</td>\n",
              "      <td>t1_gaotut6</td>\n",
              "      <td>NaN</td>\n",
              "      <td>...</td>\n",
              "      <td>t3_jlenuw</td>\n",
              "      <td>2024-06-18T15:34:15.777Z</td>\n",
              "      <td>NaN</td>\n",
              "      <td>NaN</td>\n",
              "      <td>NaN</td>\n",
              "      <td>1839.0</td>\n",
              "      <td>https://www.reddit.com/r/PoliticalCompassMemes...</td>\n",
              "      <td>NaN</td>\n",
              "      <td>t2_6keblayy</td>\n",
              "      <td>SQRT_2214144</td>\n",
              "    </tr>\n",
              "  </tbody>\n",
              "</table>\n",
              "<p>5 rows × 27 columns</p>\n",
              "</div>\n",
              "    <div class=\"colab-df-buttons\">\n",
              "\n",
              "  <div class=\"colab-df-container\">\n",
              "    <button class=\"colab-df-convert\" onclick=\"convertToInteractive('df-71c93a16-31c5-44a3-a511-f45dfe2a0f1e')\"\n",
              "            title=\"Convert this dataframe to an interactive table.\"\n",
              "            style=\"display:none;\">\n",
              "\n",
              "  <svg xmlns=\"http://www.w3.org/2000/svg\" height=\"24px\" viewBox=\"0 -960 960 960\">\n",
              "    <path d=\"M120-120v-720h720v720H120Zm60-500h600v-160H180v160Zm220 220h160v-160H400v160Zm0 220h160v-160H400v160ZM180-400h160v-160H180v160Zm440 0h160v-160H620v160ZM180-180h160v-160H180v160Zm440 0h160v-160H620v160Z\"/>\n",
              "  </svg>\n",
              "    </button>\n",
              "\n",
              "  <style>\n",
              "    .colab-df-container {\n",
              "      display:flex;\n",
              "      gap: 12px;\n",
              "    }\n",
              "\n",
              "    .colab-df-convert {\n",
              "      background-color: #E8F0FE;\n",
              "      border: none;\n",
              "      border-radius: 50%;\n",
              "      cursor: pointer;\n",
              "      display: none;\n",
              "      fill: #1967D2;\n",
              "      height: 32px;\n",
              "      padding: 0 0 0 0;\n",
              "      width: 32px;\n",
              "    }\n",
              "\n",
              "    .colab-df-convert:hover {\n",
              "      background-color: #E2EBFA;\n",
              "      box-shadow: 0px 1px 2px rgba(60, 64, 67, 0.3), 0px 1px 3px 1px rgba(60, 64, 67, 0.15);\n",
              "      fill: #174EA6;\n",
              "    }\n",
              "\n",
              "    .colab-df-buttons div {\n",
              "      margin-bottom: 4px;\n",
              "    }\n",
              "\n",
              "    [theme=dark] .colab-df-convert {\n",
              "      background-color: #3B4455;\n",
              "      fill: #D2E3FC;\n",
              "    }\n",
              "\n",
              "    [theme=dark] .colab-df-convert:hover {\n",
              "      background-color: #434B5C;\n",
              "      box-shadow: 0px 1px 3px 1px rgba(0, 0, 0, 0.15);\n",
              "      filter: drop-shadow(0px 1px 2px rgba(0, 0, 0, 0.3));\n",
              "      fill: #FFFFFF;\n",
              "    }\n",
              "  </style>\n",
              "\n",
              "    <script>\n",
              "      const buttonEl =\n",
              "        document.querySelector('#df-71c93a16-31c5-44a3-a511-f45dfe2a0f1e button.colab-df-convert');\n",
              "      buttonEl.style.display =\n",
              "        google.colab.kernel.accessAllowed ? 'block' : 'none';\n",
              "\n",
              "      async function convertToInteractive(key) {\n",
              "        const element = document.querySelector('#df-71c93a16-31c5-44a3-a511-f45dfe2a0f1e');\n",
              "        const dataTable =\n",
              "          await google.colab.kernel.invokeFunction('convertToInteractive',\n",
              "                                                    [key], {});\n",
              "        if (!dataTable) return;\n",
              "\n",
              "        const docLinkHtml = 'Like what you see? Visit the ' +\n",
              "          '<a target=\"_blank\" href=https://colab.research.google.com/notebooks/data_table.ipynb>data table notebook</a>'\n",
              "          + ' to learn more about interactive tables.';\n",
              "        element.innerHTML = '';\n",
              "        dataTable['output_type'] = 'display_data';\n",
              "        await google.colab.output.renderOutput(dataTable, element);\n",
              "        const docLink = document.createElement('div');\n",
              "        docLink.innerHTML = docLinkHtml;\n",
              "        element.appendChild(docLink);\n",
              "      }\n",
              "    </script>\n",
              "  </div>\n",
              "\n",
              "\n",
              "<div id=\"df-49a9bd9e-cf31-4230-8f3c-901d352fb4e2\">\n",
              "  <button class=\"colab-df-quickchart\" onclick=\"quickchart('df-49a9bd9e-cf31-4230-8f3c-901d352fb4e2')\"\n",
              "            title=\"Suggest charts\"\n",
              "            style=\"display:none;\">\n",
              "\n",
              "<svg xmlns=\"http://www.w3.org/2000/svg\" height=\"24px\"viewBox=\"0 0 24 24\"\n",
              "     width=\"24px\">\n",
              "    <g>\n",
              "        <path d=\"M19 3H5c-1.1 0-2 .9-2 2v14c0 1.1.9 2 2 2h14c1.1 0 2-.9 2-2V5c0-1.1-.9-2-2-2zM9 17H7v-7h2v7zm4 0h-2V7h2v10zm4 0h-2v-4h2v4z\"/>\n",
              "    </g>\n",
              "</svg>\n",
              "  </button>\n",
              "\n",
              "<style>\n",
              "  .colab-df-quickchart {\n",
              "      --bg-color: #E8F0FE;\n",
              "      --fill-color: #1967D2;\n",
              "      --hover-bg-color: #E2EBFA;\n",
              "      --hover-fill-color: #174EA6;\n",
              "      --disabled-fill-color: #AAA;\n",
              "      --disabled-bg-color: #DDD;\n",
              "  }\n",
              "\n",
              "  [theme=dark] .colab-df-quickchart {\n",
              "      --bg-color: #3B4455;\n",
              "      --fill-color: #D2E3FC;\n",
              "      --hover-bg-color: #434B5C;\n",
              "      --hover-fill-color: #FFFFFF;\n",
              "      --disabled-bg-color: #3B4455;\n",
              "      --disabled-fill-color: #666;\n",
              "  }\n",
              "\n",
              "  .colab-df-quickchart {\n",
              "    background-color: var(--bg-color);\n",
              "    border: none;\n",
              "    border-radius: 50%;\n",
              "    cursor: pointer;\n",
              "    display: none;\n",
              "    fill: var(--fill-color);\n",
              "    height: 32px;\n",
              "    padding: 0;\n",
              "    width: 32px;\n",
              "  }\n",
              "\n",
              "  .colab-df-quickchart:hover {\n",
              "    background-color: var(--hover-bg-color);\n",
              "    box-shadow: 0 1px 2px rgba(60, 64, 67, 0.3), 0 1px 3px 1px rgba(60, 64, 67, 0.15);\n",
              "    fill: var(--button-hover-fill-color);\n",
              "  }\n",
              "\n",
              "  .colab-df-quickchart-complete:disabled,\n",
              "  .colab-df-quickchart-complete:disabled:hover {\n",
              "    background-color: var(--disabled-bg-color);\n",
              "    fill: var(--disabled-fill-color);\n",
              "    box-shadow: none;\n",
              "  }\n",
              "\n",
              "  .colab-df-spinner {\n",
              "    border: 2px solid var(--fill-color);\n",
              "    border-color: transparent;\n",
              "    border-bottom-color: var(--fill-color);\n",
              "    animation:\n",
              "      spin 1s steps(1) infinite;\n",
              "  }\n",
              "\n",
              "  @keyframes spin {\n",
              "    0% {\n",
              "      border-color: transparent;\n",
              "      border-bottom-color: var(--fill-color);\n",
              "      border-left-color: var(--fill-color);\n",
              "    }\n",
              "    20% {\n",
              "      border-color: transparent;\n",
              "      border-left-color: var(--fill-color);\n",
              "      border-top-color: var(--fill-color);\n",
              "    }\n",
              "    30% {\n",
              "      border-color: transparent;\n",
              "      border-left-color: var(--fill-color);\n",
              "      border-top-color: var(--fill-color);\n",
              "      border-right-color: var(--fill-color);\n",
              "    }\n",
              "    40% {\n",
              "      border-color: transparent;\n",
              "      border-right-color: var(--fill-color);\n",
              "      border-top-color: var(--fill-color);\n",
              "    }\n",
              "    60% {\n",
              "      border-color: transparent;\n",
              "      border-right-color: var(--fill-color);\n",
              "    }\n",
              "    80% {\n",
              "      border-color: transparent;\n",
              "      border-right-color: var(--fill-color);\n",
              "      border-bottom-color: var(--fill-color);\n",
              "    }\n",
              "    90% {\n",
              "      border-color: transparent;\n",
              "      border-bottom-color: var(--fill-color);\n",
              "    }\n",
              "  }\n",
              "</style>\n",
              "\n",
              "  <script>\n",
              "    async function quickchart(key) {\n",
              "      const quickchartButtonEl =\n",
              "        document.querySelector('#' + key + ' button');\n",
              "      quickchartButtonEl.disabled = true;  // To prevent multiple clicks.\n",
              "      quickchartButtonEl.classList.add('colab-df-spinner');\n",
              "      try {\n",
              "        const charts = await google.colab.kernel.invokeFunction(\n",
              "            'suggestCharts', [key], {});\n",
              "      } catch (error) {\n",
              "        console.error('Error during call to suggestCharts:', error);\n",
              "      }\n",
              "      quickchartButtonEl.classList.remove('colab-df-spinner');\n",
              "      quickchartButtonEl.classList.add('colab-df-quickchart-complete');\n",
              "    }\n",
              "    (() => {\n",
              "      let quickchartButtonEl =\n",
              "        document.querySelector('#df-49a9bd9e-cf31-4230-8f3c-901d352fb4e2 button');\n",
              "      quickchartButtonEl.style.display =\n",
              "        google.colab.kernel.accessAllowed ? 'block' : 'none';\n",
              "    })();\n",
              "  </script>\n",
              "</div>\n",
              "    </div>\n",
              "  </div>\n"
            ],
            "application/vnd.google.colaboratory.intrinsic+json": {
              "type": "dataframe",
              "variable_name": "df"
            }
          },
          "metadata": {},
          "execution_count": 90
        }
      ]
    },
    {
      "cell_type": "markdown",
      "source": [
        "Data Processing"
      ],
      "metadata": {
        "id": "QrjXeL7nygtk"
      }
    },
    {
      "cell_type": "code",
      "source": [
        "df = df.iloc[:, :1]"
      ],
      "metadata": {
        "colab": {
          "base_uri": "https://localhost:8080/"
        },
        "id": "gURwJBk3yeQc",
        "outputId": "03e9d2f1-2ff8-409c-d076-f262bbfda952"
      },
      "execution_count": 91,
      "outputs": [
        {
          "output_type": "stream",
          "name": "stderr",
          "text": [
            "/usr/local/lib/python3.10/dist-packages/ipykernel/ipkernel.py:283: DeprecationWarning: `should_run_async` will not call `transform_cell` automatically in the future. Please pass the result to `transformed_cell` argument and any exception that happen during thetransform in `preprocessing_exc_tuple` in IPython 7.17 and above.\n",
            "  and should_run_async(code)\n"
          ]
        }
      ]
    },
    {
      "cell_type": "code",
      "source": [
        "df.head()"
      ],
      "metadata": {
        "colab": {
          "base_uri": "https://localhost:8080/",
          "height": 261
        },
        "id": "AGnkMz_Hyk-d",
        "outputId": "4b269d6e-5433-4bdf-d99b-d7539260d463"
      },
      "execution_count": 92,
      "outputs": [
        {
          "output_type": "stream",
          "name": "stderr",
          "text": [
            "/usr/local/lib/python3.10/dist-packages/ipykernel/ipkernel.py:283: DeprecationWarning: `should_run_async` will not call `transform_cell` automatically in the future. Please pass the result to `transformed_cell` argument and any exception that happen during thetransform in `preprocessing_exc_tuple` in IPython 7.17 and above.\n",
            "  and should_run_async(code)\n"
          ]
        },
        {
          "output_type": "execute_result",
          "data": {
            "text/plain": [
              "                                                body\n",
              "0                                                NaN\n",
              "1  URL: https://i.redd.it/741oufea1ew51.png\\nThum...\n",
              "2    It’s true, because Hitler caused the Holocaust.\n",
              "3     Actual Nazis: *eating popcorn from authcenter*\n",
              "4                “Trump is worse than Hitler”\\n\\nYes"
            ],
            "text/html": [
              "\n",
              "  <div id=\"df-5f803263-3304-4986-8096-966461f8d6ad\" class=\"colab-df-container\">\n",
              "    <div>\n",
              "<style scoped>\n",
              "    .dataframe tbody tr th:only-of-type {\n",
              "        vertical-align: middle;\n",
              "    }\n",
              "\n",
              "    .dataframe tbody tr th {\n",
              "        vertical-align: top;\n",
              "    }\n",
              "\n",
              "    .dataframe thead th {\n",
              "        text-align: right;\n",
              "    }\n",
              "</style>\n",
              "<table border=\"1\" class=\"dataframe\">\n",
              "  <thead>\n",
              "    <tr style=\"text-align: right;\">\n",
              "      <th></th>\n",
              "      <th>body</th>\n",
              "    </tr>\n",
              "  </thead>\n",
              "  <tbody>\n",
              "    <tr>\n",
              "      <th>0</th>\n",
              "      <td>NaN</td>\n",
              "    </tr>\n",
              "    <tr>\n",
              "      <th>1</th>\n",
              "      <td>URL: https://i.redd.it/741oufea1ew51.png\\nThum...</td>\n",
              "    </tr>\n",
              "    <tr>\n",
              "      <th>2</th>\n",
              "      <td>It’s true, because Hitler caused the Holocaust.</td>\n",
              "    </tr>\n",
              "    <tr>\n",
              "      <th>3</th>\n",
              "      <td>Actual Nazis: *eating popcorn from authcenter*</td>\n",
              "    </tr>\n",
              "    <tr>\n",
              "      <th>4</th>\n",
              "      <td>“Trump is worse than Hitler”\\n\\nYes</td>\n",
              "    </tr>\n",
              "  </tbody>\n",
              "</table>\n",
              "</div>\n",
              "    <div class=\"colab-df-buttons\">\n",
              "\n",
              "  <div class=\"colab-df-container\">\n",
              "    <button class=\"colab-df-convert\" onclick=\"convertToInteractive('df-5f803263-3304-4986-8096-966461f8d6ad')\"\n",
              "            title=\"Convert this dataframe to an interactive table.\"\n",
              "            style=\"display:none;\">\n",
              "\n",
              "  <svg xmlns=\"http://www.w3.org/2000/svg\" height=\"24px\" viewBox=\"0 -960 960 960\">\n",
              "    <path d=\"M120-120v-720h720v720H120Zm60-500h600v-160H180v160Zm220 220h160v-160H400v160Zm0 220h160v-160H400v160ZM180-400h160v-160H180v160Zm440 0h160v-160H620v160ZM180-180h160v-160H180v160Zm440 0h160v-160H620v160Z\"/>\n",
              "  </svg>\n",
              "    </button>\n",
              "\n",
              "  <style>\n",
              "    .colab-df-container {\n",
              "      display:flex;\n",
              "      gap: 12px;\n",
              "    }\n",
              "\n",
              "    .colab-df-convert {\n",
              "      background-color: #E8F0FE;\n",
              "      border: none;\n",
              "      border-radius: 50%;\n",
              "      cursor: pointer;\n",
              "      display: none;\n",
              "      fill: #1967D2;\n",
              "      height: 32px;\n",
              "      padding: 0 0 0 0;\n",
              "      width: 32px;\n",
              "    }\n",
              "\n",
              "    .colab-df-convert:hover {\n",
              "      background-color: #E2EBFA;\n",
              "      box-shadow: 0px 1px 2px rgba(60, 64, 67, 0.3), 0px 1px 3px 1px rgba(60, 64, 67, 0.15);\n",
              "      fill: #174EA6;\n",
              "    }\n",
              "\n",
              "    .colab-df-buttons div {\n",
              "      margin-bottom: 4px;\n",
              "    }\n",
              "\n",
              "    [theme=dark] .colab-df-convert {\n",
              "      background-color: #3B4455;\n",
              "      fill: #D2E3FC;\n",
              "    }\n",
              "\n",
              "    [theme=dark] .colab-df-convert:hover {\n",
              "      background-color: #434B5C;\n",
              "      box-shadow: 0px 1px 3px 1px rgba(0, 0, 0, 0.15);\n",
              "      filter: drop-shadow(0px 1px 2px rgba(0, 0, 0, 0.3));\n",
              "      fill: #FFFFFF;\n",
              "    }\n",
              "  </style>\n",
              "\n",
              "    <script>\n",
              "      const buttonEl =\n",
              "        document.querySelector('#df-5f803263-3304-4986-8096-966461f8d6ad button.colab-df-convert');\n",
              "      buttonEl.style.display =\n",
              "        google.colab.kernel.accessAllowed ? 'block' : 'none';\n",
              "\n",
              "      async function convertToInteractive(key) {\n",
              "        const element = document.querySelector('#df-5f803263-3304-4986-8096-966461f8d6ad');\n",
              "        const dataTable =\n",
              "          await google.colab.kernel.invokeFunction('convertToInteractive',\n",
              "                                                    [key], {});\n",
              "        if (!dataTable) return;\n",
              "\n",
              "        const docLinkHtml = 'Like what you see? Visit the ' +\n",
              "          '<a target=\"_blank\" href=https://colab.research.google.com/notebooks/data_table.ipynb>data table notebook</a>'\n",
              "          + ' to learn more about interactive tables.';\n",
              "        element.innerHTML = '';\n",
              "        dataTable['output_type'] = 'display_data';\n",
              "        await google.colab.output.renderOutput(dataTable, element);\n",
              "        const docLink = document.createElement('div');\n",
              "        docLink.innerHTML = docLinkHtml;\n",
              "        element.appendChild(docLink);\n",
              "      }\n",
              "    </script>\n",
              "  </div>\n",
              "\n",
              "\n",
              "<div id=\"df-0a492d32-dca0-4ba4-a79d-309f586e36fc\">\n",
              "  <button class=\"colab-df-quickchart\" onclick=\"quickchart('df-0a492d32-dca0-4ba4-a79d-309f586e36fc')\"\n",
              "            title=\"Suggest charts\"\n",
              "            style=\"display:none;\">\n",
              "\n",
              "<svg xmlns=\"http://www.w3.org/2000/svg\" height=\"24px\"viewBox=\"0 0 24 24\"\n",
              "     width=\"24px\">\n",
              "    <g>\n",
              "        <path d=\"M19 3H5c-1.1 0-2 .9-2 2v14c0 1.1.9 2 2 2h14c1.1 0 2-.9 2-2V5c0-1.1-.9-2-2-2zM9 17H7v-7h2v7zm4 0h-2V7h2v10zm4 0h-2v-4h2v4z\"/>\n",
              "    </g>\n",
              "</svg>\n",
              "  </button>\n",
              "\n",
              "<style>\n",
              "  .colab-df-quickchart {\n",
              "      --bg-color: #E8F0FE;\n",
              "      --fill-color: #1967D2;\n",
              "      --hover-bg-color: #E2EBFA;\n",
              "      --hover-fill-color: #174EA6;\n",
              "      --disabled-fill-color: #AAA;\n",
              "      --disabled-bg-color: #DDD;\n",
              "  }\n",
              "\n",
              "  [theme=dark] .colab-df-quickchart {\n",
              "      --bg-color: #3B4455;\n",
              "      --fill-color: #D2E3FC;\n",
              "      --hover-bg-color: #434B5C;\n",
              "      --hover-fill-color: #FFFFFF;\n",
              "      --disabled-bg-color: #3B4455;\n",
              "      --disabled-fill-color: #666;\n",
              "  }\n",
              "\n",
              "  .colab-df-quickchart {\n",
              "    background-color: var(--bg-color);\n",
              "    border: none;\n",
              "    border-radius: 50%;\n",
              "    cursor: pointer;\n",
              "    display: none;\n",
              "    fill: var(--fill-color);\n",
              "    height: 32px;\n",
              "    padding: 0;\n",
              "    width: 32px;\n",
              "  }\n",
              "\n",
              "  .colab-df-quickchart:hover {\n",
              "    background-color: var(--hover-bg-color);\n",
              "    box-shadow: 0 1px 2px rgba(60, 64, 67, 0.3), 0 1px 3px 1px rgba(60, 64, 67, 0.15);\n",
              "    fill: var(--button-hover-fill-color);\n",
              "  }\n",
              "\n",
              "  .colab-df-quickchart-complete:disabled,\n",
              "  .colab-df-quickchart-complete:disabled:hover {\n",
              "    background-color: var(--disabled-bg-color);\n",
              "    fill: var(--disabled-fill-color);\n",
              "    box-shadow: none;\n",
              "  }\n",
              "\n",
              "  .colab-df-spinner {\n",
              "    border: 2px solid var(--fill-color);\n",
              "    border-color: transparent;\n",
              "    border-bottom-color: var(--fill-color);\n",
              "    animation:\n",
              "      spin 1s steps(1) infinite;\n",
              "  }\n",
              "\n",
              "  @keyframes spin {\n",
              "    0% {\n",
              "      border-color: transparent;\n",
              "      border-bottom-color: var(--fill-color);\n",
              "      border-left-color: var(--fill-color);\n",
              "    }\n",
              "    20% {\n",
              "      border-color: transparent;\n",
              "      border-left-color: var(--fill-color);\n",
              "      border-top-color: var(--fill-color);\n",
              "    }\n",
              "    30% {\n",
              "      border-color: transparent;\n",
              "      border-left-color: var(--fill-color);\n",
              "      border-top-color: var(--fill-color);\n",
              "      border-right-color: var(--fill-color);\n",
              "    }\n",
              "    40% {\n",
              "      border-color: transparent;\n",
              "      border-right-color: var(--fill-color);\n",
              "      border-top-color: var(--fill-color);\n",
              "    }\n",
              "    60% {\n",
              "      border-color: transparent;\n",
              "      border-right-color: var(--fill-color);\n",
              "    }\n",
              "    80% {\n",
              "      border-color: transparent;\n",
              "      border-right-color: var(--fill-color);\n",
              "      border-bottom-color: var(--fill-color);\n",
              "    }\n",
              "    90% {\n",
              "      border-color: transparent;\n",
              "      border-bottom-color: var(--fill-color);\n",
              "    }\n",
              "  }\n",
              "</style>\n",
              "\n",
              "  <script>\n",
              "    async function quickchart(key) {\n",
              "      const quickchartButtonEl =\n",
              "        document.querySelector('#' + key + ' button');\n",
              "      quickchartButtonEl.disabled = true;  // To prevent multiple clicks.\n",
              "      quickchartButtonEl.classList.add('colab-df-spinner');\n",
              "      try {\n",
              "        const charts = await google.colab.kernel.invokeFunction(\n",
              "            'suggestCharts', [key], {});\n",
              "      } catch (error) {\n",
              "        console.error('Error during call to suggestCharts:', error);\n",
              "      }\n",
              "      quickchartButtonEl.classList.remove('colab-df-spinner');\n",
              "      quickchartButtonEl.classList.add('colab-df-quickchart-complete');\n",
              "    }\n",
              "    (() => {\n",
              "      let quickchartButtonEl =\n",
              "        document.querySelector('#df-0a492d32-dca0-4ba4-a79d-309f586e36fc button');\n",
              "      quickchartButtonEl.style.display =\n",
              "        google.colab.kernel.accessAllowed ? 'block' : 'none';\n",
              "    })();\n",
              "  </script>\n",
              "</div>\n",
              "    </div>\n",
              "  </div>\n"
            ],
            "application/vnd.google.colaboratory.intrinsic+json": {
              "type": "dataframe",
              "variable_name": "df",
              "summary": "{\n  \"name\": \"df\",\n  \"rows\": 501,\n  \"fields\": [\n    {\n      \"column\": \"body\",\n      \"properties\": {\n        \"dtype\": \"string\",\n        \"num_unique_values\": 451,\n        \"samples\": [\n          \"Hitler made the Jews wear flair.\",\n          \"People on here are younger than I thought. Or just don\\u2019t pay much attention\",\n          \"Some people argue the gas chambers were likely fake.\"\n        ],\n        \"semantic_type\": \"\",\n        \"description\": \"\"\n      }\n    }\n  ]\n}"
            }
          },
          "metadata": {},
          "execution_count": 92
        }
      ]
    },
    {
      "cell_type": "code",
      "source": [
        "#Handling missing values\n",
        "df = df.dropna()"
      ],
      "metadata": {
        "colab": {
          "base_uri": "https://localhost:8080/"
        },
        "id": "97hC9DTfynwL",
        "outputId": "7207f09e-02ba-4ca1-e9e5-4c3a7d95617f"
      },
      "execution_count": 93,
      "outputs": [
        {
          "output_type": "stream",
          "name": "stderr",
          "text": [
            "/usr/local/lib/python3.10/dist-packages/ipykernel/ipkernel.py:283: DeprecationWarning: `should_run_async` will not call `transform_cell` automatically in the future. Please pass the result to `transformed_cell` argument and any exception that happen during thetransform in `preprocessing_exc_tuple` in IPython 7.17 and above.\n",
            "  and should_run_async(code)\n"
          ]
        }
      ]
    },
    {
      "cell_type": "code",
      "source": [
        "df.head()"
      ],
      "metadata": {
        "colab": {
          "base_uri": "https://localhost:8080/",
          "height": 261
        },
        "id": "k3V_D9XaysTt",
        "outputId": "066df5b4-f647-489a-b496-35e50607ccc7"
      },
      "execution_count": 94,
      "outputs": [
        {
          "output_type": "stream",
          "name": "stderr",
          "text": [
            "/usr/local/lib/python3.10/dist-packages/ipykernel/ipkernel.py:283: DeprecationWarning: `should_run_async` will not call `transform_cell` automatically in the future. Please pass the result to `transformed_cell` argument and any exception that happen during thetransform in `preprocessing_exc_tuple` in IPython 7.17 and above.\n",
            "  and should_run_async(code)\n"
          ]
        },
        {
          "output_type": "execute_result",
          "data": {
            "text/plain": [
              "                                                body\n",
              "1  URL: https://i.redd.it/741oufea1ew51.png\\nThum...\n",
              "2    It’s true, because Hitler caused the Holocaust.\n",
              "3     Actual Nazis: *eating popcorn from authcenter*\n",
              "4                “Trump is worse than Hitler”\\n\\nYes\n",
              "5  “Trump is worse than Hitler”\\n\\n“I know right?..."
            ],
            "text/html": [
              "\n",
              "  <div id=\"df-e17487aa-f055-4ee9-a76c-f03c6d12385d\" class=\"colab-df-container\">\n",
              "    <div>\n",
              "<style scoped>\n",
              "    .dataframe tbody tr th:only-of-type {\n",
              "        vertical-align: middle;\n",
              "    }\n",
              "\n",
              "    .dataframe tbody tr th {\n",
              "        vertical-align: top;\n",
              "    }\n",
              "\n",
              "    .dataframe thead th {\n",
              "        text-align: right;\n",
              "    }\n",
              "</style>\n",
              "<table border=\"1\" class=\"dataframe\">\n",
              "  <thead>\n",
              "    <tr style=\"text-align: right;\">\n",
              "      <th></th>\n",
              "      <th>body</th>\n",
              "    </tr>\n",
              "  </thead>\n",
              "  <tbody>\n",
              "    <tr>\n",
              "      <th>1</th>\n",
              "      <td>URL: https://i.redd.it/741oufea1ew51.png\\nThum...</td>\n",
              "    </tr>\n",
              "    <tr>\n",
              "      <th>2</th>\n",
              "      <td>It’s true, because Hitler caused the Holocaust.</td>\n",
              "    </tr>\n",
              "    <tr>\n",
              "      <th>3</th>\n",
              "      <td>Actual Nazis: *eating popcorn from authcenter*</td>\n",
              "    </tr>\n",
              "    <tr>\n",
              "      <th>4</th>\n",
              "      <td>“Trump is worse than Hitler”\\n\\nYes</td>\n",
              "    </tr>\n",
              "    <tr>\n",
              "      <th>5</th>\n",
              "      <td>“Trump is worse than Hitler”\\n\\n“I know right?...</td>\n",
              "    </tr>\n",
              "  </tbody>\n",
              "</table>\n",
              "</div>\n",
              "    <div class=\"colab-df-buttons\">\n",
              "\n",
              "  <div class=\"colab-df-container\">\n",
              "    <button class=\"colab-df-convert\" onclick=\"convertToInteractive('df-e17487aa-f055-4ee9-a76c-f03c6d12385d')\"\n",
              "            title=\"Convert this dataframe to an interactive table.\"\n",
              "            style=\"display:none;\">\n",
              "\n",
              "  <svg xmlns=\"http://www.w3.org/2000/svg\" height=\"24px\" viewBox=\"0 -960 960 960\">\n",
              "    <path d=\"M120-120v-720h720v720H120Zm60-500h600v-160H180v160Zm220 220h160v-160H400v160Zm0 220h160v-160H400v160ZM180-400h160v-160H180v160Zm440 0h160v-160H620v160ZM180-180h160v-160H180v160Zm440 0h160v-160H620v160Z\"/>\n",
              "  </svg>\n",
              "    </button>\n",
              "\n",
              "  <style>\n",
              "    .colab-df-container {\n",
              "      display:flex;\n",
              "      gap: 12px;\n",
              "    }\n",
              "\n",
              "    .colab-df-convert {\n",
              "      background-color: #E8F0FE;\n",
              "      border: none;\n",
              "      border-radius: 50%;\n",
              "      cursor: pointer;\n",
              "      display: none;\n",
              "      fill: #1967D2;\n",
              "      height: 32px;\n",
              "      padding: 0 0 0 0;\n",
              "      width: 32px;\n",
              "    }\n",
              "\n",
              "    .colab-df-convert:hover {\n",
              "      background-color: #E2EBFA;\n",
              "      box-shadow: 0px 1px 2px rgba(60, 64, 67, 0.3), 0px 1px 3px 1px rgba(60, 64, 67, 0.15);\n",
              "      fill: #174EA6;\n",
              "    }\n",
              "\n",
              "    .colab-df-buttons div {\n",
              "      margin-bottom: 4px;\n",
              "    }\n",
              "\n",
              "    [theme=dark] .colab-df-convert {\n",
              "      background-color: #3B4455;\n",
              "      fill: #D2E3FC;\n",
              "    }\n",
              "\n",
              "    [theme=dark] .colab-df-convert:hover {\n",
              "      background-color: #434B5C;\n",
              "      box-shadow: 0px 1px 3px 1px rgba(0, 0, 0, 0.15);\n",
              "      filter: drop-shadow(0px 1px 2px rgba(0, 0, 0, 0.3));\n",
              "      fill: #FFFFFF;\n",
              "    }\n",
              "  </style>\n",
              "\n",
              "    <script>\n",
              "      const buttonEl =\n",
              "        document.querySelector('#df-e17487aa-f055-4ee9-a76c-f03c6d12385d button.colab-df-convert');\n",
              "      buttonEl.style.display =\n",
              "        google.colab.kernel.accessAllowed ? 'block' : 'none';\n",
              "\n",
              "      async function convertToInteractive(key) {\n",
              "        const element = document.querySelector('#df-e17487aa-f055-4ee9-a76c-f03c6d12385d');\n",
              "        const dataTable =\n",
              "          await google.colab.kernel.invokeFunction('convertToInteractive',\n",
              "                                                    [key], {});\n",
              "        if (!dataTable) return;\n",
              "\n",
              "        const docLinkHtml = 'Like what you see? Visit the ' +\n",
              "          '<a target=\"_blank\" href=https://colab.research.google.com/notebooks/data_table.ipynb>data table notebook</a>'\n",
              "          + ' to learn more about interactive tables.';\n",
              "        element.innerHTML = '';\n",
              "        dataTable['output_type'] = 'display_data';\n",
              "        await google.colab.output.renderOutput(dataTable, element);\n",
              "        const docLink = document.createElement('div');\n",
              "        docLink.innerHTML = docLinkHtml;\n",
              "        element.appendChild(docLink);\n",
              "      }\n",
              "    </script>\n",
              "  </div>\n",
              "\n",
              "\n",
              "<div id=\"df-ab01fbdb-48da-45ad-9ef3-c6047c806bfc\">\n",
              "  <button class=\"colab-df-quickchart\" onclick=\"quickchart('df-ab01fbdb-48da-45ad-9ef3-c6047c806bfc')\"\n",
              "            title=\"Suggest charts\"\n",
              "            style=\"display:none;\">\n",
              "\n",
              "<svg xmlns=\"http://www.w3.org/2000/svg\" height=\"24px\"viewBox=\"0 0 24 24\"\n",
              "     width=\"24px\">\n",
              "    <g>\n",
              "        <path d=\"M19 3H5c-1.1 0-2 .9-2 2v14c0 1.1.9 2 2 2h14c1.1 0 2-.9 2-2V5c0-1.1-.9-2-2-2zM9 17H7v-7h2v7zm4 0h-2V7h2v10zm4 0h-2v-4h2v4z\"/>\n",
              "    </g>\n",
              "</svg>\n",
              "  </button>\n",
              "\n",
              "<style>\n",
              "  .colab-df-quickchart {\n",
              "      --bg-color: #E8F0FE;\n",
              "      --fill-color: #1967D2;\n",
              "      --hover-bg-color: #E2EBFA;\n",
              "      --hover-fill-color: #174EA6;\n",
              "      --disabled-fill-color: #AAA;\n",
              "      --disabled-bg-color: #DDD;\n",
              "  }\n",
              "\n",
              "  [theme=dark] .colab-df-quickchart {\n",
              "      --bg-color: #3B4455;\n",
              "      --fill-color: #D2E3FC;\n",
              "      --hover-bg-color: #434B5C;\n",
              "      --hover-fill-color: #FFFFFF;\n",
              "      --disabled-bg-color: #3B4455;\n",
              "      --disabled-fill-color: #666;\n",
              "  }\n",
              "\n",
              "  .colab-df-quickchart {\n",
              "    background-color: var(--bg-color);\n",
              "    border: none;\n",
              "    border-radius: 50%;\n",
              "    cursor: pointer;\n",
              "    display: none;\n",
              "    fill: var(--fill-color);\n",
              "    height: 32px;\n",
              "    padding: 0;\n",
              "    width: 32px;\n",
              "  }\n",
              "\n",
              "  .colab-df-quickchart:hover {\n",
              "    background-color: var(--hover-bg-color);\n",
              "    box-shadow: 0 1px 2px rgba(60, 64, 67, 0.3), 0 1px 3px 1px rgba(60, 64, 67, 0.15);\n",
              "    fill: var(--button-hover-fill-color);\n",
              "  }\n",
              "\n",
              "  .colab-df-quickchart-complete:disabled,\n",
              "  .colab-df-quickchart-complete:disabled:hover {\n",
              "    background-color: var(--disabled-bg-color);\n",
              "    fill: var(--disabled-fill-color);\n",
              "    box-shadow: none;\n",
              "  }\n",
              "\n",
              "  .colab-df-spinner {\n",
              "    border: 2px solid var(--fill-color);\n",
              "    border-color: transparent;\n",
              "    border-bottom-color: var(--fill-color);\n",
              "    animation:\n",
              "      spin 1s steps(1) infinite;\n",
              "  }\n",
              "\n",
              "  @keyframes spin {\n",
              "    0% {\n",
              "      border-color: transparent;\n",
              "      border-bottom-color: var(--fill-color);\n",
              "      border-left-color: var(--fill-color);\n",
              "    }\n",
              "    20% {\n",
              "      border-color: transparent;\n",
              "      border-left-color: var(--fill-color);\n",
              "      border-top-color: var(--fill-color);\n",
              "    }\n",
              "    30% {\n",
              "      border-color: transparent;\n",
              "      border-left-color: var(--fill-color);\n",
              "      border-top-color: var(--fill-color);\n",
              "      border-right-color: var(--fill-color);\n",
              "    }\n",
              "    40% {\n",
              "      border-color: transparent;\n",
              "      border-right-color: var(--fill-color);\n",
              "      border-top-color: var(--fill-color);\n",
              "    }\n",
              "    60% {\n",
              "      border-color: transparent;\n",
              "      border-right-color: var(--fill-color);\n",
              "    }\n",
              "    80% {\n",
              "      border-color: transparent;\n",
              "      border-right-color: var(--fill-color);\n",
              "      border-bottom-color: var(--fill-color);\n",
              "    }\n",
              "    90% {\n",
              "      border-color: transparent;\n",
              "      border-bottom-color: var(--fill-color);\n",
              "    }\n",
              "  }\n",
              "</style>\n",
              "\n",
              "  <script>\n",
              "    async function quickchart(key) {\n",
              "      const quickchartButtonEl =\n",
              "        document.querySelector('#' + key + ' button');\n",
              "      quickchartButtonEl.disabled = true;  // To prevent multiple clicks.\n",
              "      quickchartButtonEl.classList.add('colab-df-spinner');\n",
              "      try {\n",
              "        const charts = await google.colab.kernel.invokeFunction(\n",
              "            'suggestCharts', [key], {});\n",
              "      } catch (error) {\n",
              "        console.error('Error during call to suggestCharts:', error);\n",
              "      }\n",
              "      quickchartButtonEl.classList.remove('colab-df-spinner');\n",
              "      quickchartButtonEl.classList.add('colab-df-quickchart-complete');\n",
              "    }\n",
              "    (() => {\n",
              "      let quickchartButtonEl =\n",
              "        document.querySelector('#df-ab01fbdb-48da-45ad-9ef3-c6047c806bfc button');\n",
              "      quickchartButtonEl.style.display =\n",
              "        google.colab.kernel.accessAllowed ? 'block' : 'none';\n",
              "    })();\n",
              "  </script>\n",
              "</div>\n",
              "    </div>\n",
              "  </div>\n"
            ],
            "application/vnd.google.colaboratory.intrinsic+json": {
              "type": "dataframe",
              "variable_name": "df",
              "summary": "{\n  \"name\": \"df\",\n  \"rows\": 500,\n  \"fields\": [\n    {\n      \"column\": \"body\",\n      \"properties\": {\n        \"dtype\": \"string\",\n        \"num_unique_values\": 451,\n        \"samples\": [\n          \"Hitler made the Jews wear flair.\",\n          \"People on here are younger than I thought. Or just don\\u2019t pay much attention\",\n          \"Some people argue the gas chambers were likely fake.\"\n        ],\n        \"semantic_type\": \"\",\n        \"description\": \"\"\n      }\n    }\n  ]\n}"
            }
          },
          "metadata": {},
          "execution_count": 94
        }
      ]
    },
    {
      "cell_type": "code",
      "source": [
        "mapping = {\"ain't\": \"is not\", \"aren't\": \"are not\",\"can't\": \"cannot\",\n",
        "           \"'cause\": \"because\", \"could've\": \"could have\", \"couldn't\": \"could not\",\n",
        "           \"didn't\": \"did not\",  \"doesn't\": \"does not\", \"don't\": \"do not\", \"hadn't\": \"had not\",\n",
        "           \"hasn't\": \"has not\", \"haven't\": \"have not\", \"he'd\": \"he would\",\"he'll\": \"he will\",\n",
        "           \"he's\": \"he is\", \"how'd\": \"how did\", \"how'd'y\": \"how do you\", \"how'll\": \"how will\",\n",
        "           \"how's\": \"how is\",  \"I'd\": \"I would\", \"I'd've\": \"I would have\", \"I'll\": \"I will\",\n",
        "           \"I'll've\": \"I will have\",\"I'm\": \"I am\", \"I've\": \"I have\", \"i'd\": \"i would\",\n",
        "           \"i'd've\": \"i would have\", \"i'll\": \"i will\",  \"i'll've\": \"i will have\",\n",
        "           \"i'm\": \"i am\", \"i've\": \"i have\", \"isn't\": \"is not\", \"it'd\": \"it would\",\n",
        "           \"it'd've\": \"it would have\", \"it'll\": \"it will\", \"it'll've\": \"it will have\",\n",
        "           \"it's\": \"it is\", \"let's\": \"let us\", \"ma'am\": \"madam\", \"mayn't\": \"may not\",\n",
        "           \"might've\": \"might have\",\"mightn't\": \"might not\",\"mightn't've\": \"might not have\",\n",
        "           \"must've\": \"must have\", \"mustn't\": \"must not\", \"mustn't've\": \"must not have\",\n",
        "           \"needn't\": \"need not\", \"needn't've\": \"need not have\",\"o'clock\": \"of the clock\",\n",
        "           \"oughtn't\": \"ought not\", \"oughtn't've\": \"ought not have\", \"shan't\": \"shall not\",\n",
        "           \"sha'n't\": \"shall not\", \"shan't've\": \"shall not have\", \"she'd\": \"she would\",\n",
        "           \"she'd've\": \"she would have\", \"she'll\": \"she will\", \"she'll've\": \"she will have\",\n",
        "           \"she's\": \"she is\", \"should've\": \"should have\", \"shouldn't\": \"should not\",\n",
        "           \"shouldn't've\": \"should not have\", \"so've\": \"so have\",\"so's\": \"so as\", \"this's\": \"this is\",\n",
        "           \"that'd\": \"that would\", \"that'd've\": \"that would have\", \"that's\": \"that is\",\n",
        "           \"there'd\": \"there would\", \"there'd've\": \"there would have\", \"there's\": \"there is\",\n",
        "           \"here's\": \"here is\",\"they'd\": \"they would\", \"they'd've\": \"they would have\",\n",
        "           \"they'll\": \"they will\", \"they'll've\": \"they will have\", \"they're\": \"they are\",\n",
        "           \"they've\": \"they have\", \"to've\": \"to have\", \"wasn't\": \"was not\", \"we'd\": \"we would\",\n",
        "           \"we'd've\": \"we would have\", \"we'll\": \"we will\", \"we'll've\": \"we will have\",\n",
        "           \"we're\": \"we are\", \"we've\": \"we have\", \"weren't\": \"were not\",\n",
        "           \"what'll\": \"what will\", \"what'll've\": \"what will have\",\"what're\": \"what are\",\n",
        "           \"what's\": \"what is\", \"what've\": \"what have\", \"when's\": \"when is\", \"when've\": \"when have\",\n",
        "           \"where'd\": \"where did\", \"where's\": \"where is\", \"where've\": \"where have\", \"who'll\": \"who will\",\n",
        "           \"who'll've\": \"who will have\", \"who's\": \"who is\", \"who've\": \"who have\", \"why's\": \"why is\",\n",
        "           \"why've\": \"why have\", \"will've\": \"will have\", \"won't\": \"will not\", \"won't've\": \"will not have\",\n",
        "           \"would've\": \"would have\", \"wouldn't\": \"would not\", \"wouldn't've\": \"would not have\",\n",
        "           \"y'all\": \"you all\", \"y'all'd\": \"you all would\",\"y'all'd've\": \"you all would have\",\n",
        "           \"y'all're\": \"you all are\",\"y'all've\": \"you all have\",\"you'd\": \"you would\", \"you'd've\": \"you would have\", \"you'll\": \"you will\", \"you'll've\": \"you will have\",\n",
        "           \"you're\": \"you are\", \"you've\": \"you have\" }"
      ],
      "metadata": {
        "colab": {
          "base_uri": "https://localhost:8080/"
        },
        "id": "yQ3zBeI2yyPX",
        "outputId": "6dc194c3-3cab-4e51-a8e5-70eca0750a17"
      },
      "execution_count": 95,
      "outputs": [
        {
          "output_type": "stream",
          "name": "stderr",
          "text": [
            "/usr/local/lib/python3.10/dist-packages/ipykernel/ipkernel.py:283: DeprecationWarning: `should_run_async` will not call `transform_cell` automatically in the future. Please pass the result to `transformed_cell` argument and any exception that happen during thetransform in `preprocessing_exc_tuple` in IPython 7.17 and above.\n",
            "  and should_run_async(code)\n"
          ]
        }
      ]
    },
    {
      "cell_type": "code",
      "source": [
        "# Function to remove HTMl tags\n",
        "def remove_html_tags(text):\n",
        "  soup=BeautifulSoup(text, \"html.parser\")\n",
        "  return soup.get_text()\n",
        "\n",
        "# Assuming Processed Reddit is the column with HTML content\n",
        "df['Clean body'] = df['body'].apply(remove_html_tags)"
      ],
      "metadata": {
        "colab": {
          "base_uri": "https://localhost:8080/"
        },
        "id": "ExobBMTYy2DP",
        "outputId": "13f08aef-01c4-4f3e-b9da-1c3fb37bf1b3"
      },
      "execution_count": 96,
      "outputs": [
        {
          "output_type": "stream",
          "name": "stderr",
          "text": [
            "/usr/local/lib/python3.10/dist-packages/ipykernel/ipkernel.py:283: DeprecationWarning: `should_run_async` will not call `transform_cell` automatically in the future. Please pass the result to `transformed_cell` argument and any exception that happen during thetransform in `preprocessing_exc_tuple` in IPython 7.17 and above.\n",
            "  and should_run_async(code)\n",
            "<ipython-input-96-34f7a9b0340c>:3: MarkupResemblesLocatorWarning: The input looks more like a filename than markup. You may want to open this file and pass the filehandle into Beautiful Soup.\n",
            "  soup=BeautifulSoup(text, \"html.parser\")\n"
          ]
        }
      ]
    },
    {
      "cell_type": "code",
      "source": [
        "# Remove URLs and Special characters with Regular Expressions\n",
        "def clean_text(text):\n",
        "    text = re.sub(r'http\\S+', '', text)  # Remove URL\n",
        "    text = re.sub(r'\\S*@\\S*\\s?', '', text)  # Remove mailboxes\n",
        "    text = re.sub(r'[^\\w\\s]', '', text)  # Remove special characters\n",
        "    text = ' '.join([mapping[t] if t in mapping else t for t in text.split(\" \")]) #expanding chatwords and contracts clearing contractions\n",
        "    emoji_clean= re.compile(\"[\"\n",
        "                           u\"\\U0001F600-\\U0001F64F\"  # emoticons\n",
        "                           u\"\\U0001F300-\\U0001F5FF\"  # symbols & pictographs\n",
        "                           u\"\\U0001F680-\\U0001F6FF\"  # transport & map symbols\n",
        "                           u\"\\U0001F1E0-\\U0001F1FF\"  # flags (iOS)\n",
        "                           u\"\\U00002702-\\U000027B0\"\n",
        "                           u\"\\U000024C2-\\U0001F251\"\n",
        "                           \"]+\", flags=re.UNICODE)\n",
        "    text = emoji_clean.sub(r'',text)\n",
        "    return text\n",
        "\n",
        "df['Clean body'] = df['Clean body'].apply(clean_text)"
      ],
      "metadata": {
        "colab": {
          "base_uri": "https://localhost:8080/"
        },
        "id": "2jPIdnG2y4gQ",
        "outputId": "0c065af8-ec93-42c7-cbe4-7db22f8652a5"
      },
      "execution_count": 97,
      "outputs": [
        {
          "output_type": "stream",
          "name": "stderr",
          "text": [
            "/usr/local/lib/python3.10/dist-packages/ipykernel/ipkernel.py:283: DeprecationWarning: `should_run_async` will not call `transform_cell` automatically in the future. Please pass the result to `transformed_cell` argument and any exception that happen during thetransform in `preprocessing_exc_tuple` in IPython 7.17 and above.\n",
            "  and should_run_async(code)\n"
          ]
        }
      ]
    },
    {
      "cell_type": "code",
      "source": [
        "df['Clean body']"
      ],
      "metadata": {
        "colab": {
          "base_uri": "https://localhost:8080/"
        },
        "id": "CSVcCnk1y7kv",
        "outputId": "ed2bf507-5b75-41a9-d0c3-ed40a41392b6"
      },
      "execution_count": 98,
      "outputs": [
        {
          "output_type": "stream",
          "name": "stderr",
          "text": [
            "/usr/local/lib/python3.10/dist-packages/ipykernel/ipkernel.py:283: DeprecationWarning: `should_run_async` will not call `transform_cell` automatically in the future. Please pass the result to `transformed_cell` argument and any exception that happen during thetransform in `preprocessing_exc_tuple` in IPython 7.17 and above.\n",
            "  and should_run_async(code)\n"
          ]
        },
        {
          "output_type": "execute_result",
          "data": {
            "text/plain": [
              "1                         URL \\nThumbnail \\nImages\\n\\t\\n\n",
              "2           Its true because Hitler caused the Holocaust\n",
              "3            Actual Nazis eating popcorn from authcenter\n",
              "4                      Trump is worse than Hitler\\n\\nYes\n",
              "5      Trump is worse than Hitler\\n\\nI know right He ...\n",
              "                             ...                        \n",
              "496                                              Society\n",
              "497                                           Same thing\n",
              "498                        Straight traps can be a thing\n",
              "499    Yes but if you like traps youre ghey Either yo...\n",
              "500    If youre a straight man then looking at straig...\n",
              "Name: Clean body, Length: 500, dtype: object"
            ]
          },
          "metadata": {},
          "execution_count": 98
        }
      ]
    },
    {
      "cell_type": "code",
      "source": [
        "# Text preprocessing using NLTK or spaCy: word splitting, deletion of stop words, word shape reduction\n",
        "import nltk\n",
        "from nltk.corpus import stopwords\n",
        "from nltk.stem import WordNetLemmatizer\n",
        "\n",
        "# Download the necessary NLTK data\n",
        "nltk.download('stopwords')\n",
        "nltk.download('wordnet')\n",
        "\n"
      ],
      "metadata": {
        "colab": {
          "base_uri": "https://localhost:8080/"
        },
        "id": "0-JV4zeey-bS",
        "outputId": "9bff9bd6-5909-4060-cc74-01925b53efe8"
      },
      "execution_count": 99,
      "outputs": [
        {
          "output_type": "stream",
          "name": "stderr",
          "text": [
            "/usr/local/lib/python3.10/dist-packages/ipykernel/ipkernel.py:283: DeprecationWarning: `should_run_async` will not call `transform_cell` automatically in the future. Please pass the result to `transformed_cell` argument and any exception that happen during thetransform in `preprocessing_exc_tuple` in IPython 7.17 and above.\n",
            "  and should_run_async(code)\n",
            "[nltk_data] Downloading package stopwords to /root/nltk_data...\n",
            "[nltk_data]   Package stopwords is already up-to-date!\n",
            "[nltk_data] Downloading package wordnet to /root/nltk_data...\n",
            "[nltk_data]   Package wordnet is already up-to-date!\n"
          ]
        },
        {
          "output_type": "execute_result",
          "data": {
            "text/plain": [
              "True"
            ]
          },
          "metadata": {},
          "execution_count": 99
        }
      ]
    },
    {
      "cell_type": "code",
      "source": [
        "stopwords = nltk.corpus.stopwords.words('english')\n",
        "Clean_text = [word for word in df if word.lower() not in stopwords]\n"
      ],
      "metadata": {
        "colab": {
          "base_uri": "https://localhost:8080/"
        },
        "id": "cJJtjyjQzB1F",
        "outputId": "fb358aeb-3140-4ec7-fd02-d1948d103377"
      },
      "execution_count": 100,
      "outputs": [
        {
          "output_type": "stream",
          "name": "stderr",
          "text": [
            "/usr/local/lib/python3.10/dist-packages/ipykernel/ipkernel.py:283: DeprecationWarning: `should_run_async` will not call `transform_cell` automatically in the future. Please pass the result to `transformed_cell` argument and any exception that happen during thetransform in `preprocessing_exc_tuple` in IPython 7.17 and above.\n",
            "  and should_run_async(code)\n"
          ]
        }
      ]
    },
    {
      "cell_type": "code",
      "source": [
        "lemmatizer = WordNetLemmatizer()"
      ],
      "metadata": {
        "colab": {
          "base_uri": "https://localhost:8080/"
        },
        "id": "lF7lOBZazG-5",
        "outputId": "f4c37ab5-83c5-470b-82b3-a9156f4066e7"
      },
      "execution_count": 101,
      "outputs": [
        {
          "output_type": "stream",
          "name": "stderr",
          "text": [
            "/usr/local/lib/python3.10/dist-packages/ipykernel/ipkernel.py:283: DeprecationWarning: `should_run_async` will not call `transform_cell` automatically in the future. Please pass the result to `transformed_cell` argument and any exception that happen during thetransform in `preprocessing_exc_tuple` in IPython 7.17 and above.\n",
            "  and should_run_async(code)\n"
          ]
        }
      ]
    },
    {
      "cell_type": "code",
      "source": [
        "# of pre-processed text\n",
        "def preprocess_text(df):\n",
        "    text = df.lower()\n",
        "    words = df.split()\n",
        "    words = [lemmatizer.lemmatize(word) for word in words if word not in stopwords]\n",
        "    return ' '.join(words)\n",
        "\n",
        "df['Processed body'] = df['Clean body'].apply(preprocess_text)\n",
        "df['Processed body']"
      ],
      "metadata": {
        "colab": {
          "base_uri": "https://localhost:8080/"
        },
        "id": "FL63ziS3zJGZ",
        "outputId": "3e279dab-38f5-4796-8c87-b714b8c1a991"
      },
      "execution_count": 102,
      "outputs": [
        {
          "output_type": "stream",
          "name": "stderr",
          "text": [
            "/usr/local/lib/python3.10/dist-packages/ipykernel/ipkernel.py:283: DeprecationWarning: `should_run_async` will not call `transform_cell` automatically in the future. Please pass the result to `transformed_cell` argument and any exception that happen during thetransform in `preprocessing_exc_tuple` in IPython 7.17 and above.\n",
            "  and should_run_async(code)\n"
          ]
        },
        {
          "output_type": "execute_result",
          "data": {
            "text/plain": [
              "1                                   URL Thumbnail Images\n",
              "2                       Its true Hitler caused Holocaust\n",
              "3                 Actual Nazis eating popcorn authcenter\n",
              "4                                 Trump worse Hitler Yes\n",
              "5      Trump worse Hitler I know right He let daughte...\n",
              "                             ...                        \n",
              "496                                              Society\n",
              "497                                           Same thing\n",
              "498                                  Straight trap thing\n",
              "499    Yes like trap youre ghey Either guy who guy gi...\n",
              "500    If youre straight man looking straight trap po...\n",
              "Name: Processed body, Length: 500, dtype: object"
            ]
          },
          "metadata": {},
          "execution_count": 102
        }
      ]
    },
    {
      "cell_type": "code",
      "source": [
        "df.to_csv('Processed_dataset_withsentiment.csv', index=False)"
      ],
      "metadata": {
        "colab": {
          "base_uri": "https://localhost:8080/"
        },
        "id": "yqa0eW-KzLSG",
        "outputId": "f78081a2-9d1d-4f00-81c2-967de6b88b08"
      },
      "execution_count": 103,
      "outputs": [
        {
          "output_type": "stream",
          "name": "stderr",
          "text": [
            "/usr/local/lib/python3.10/dist-packages/ipykernel/ipkernel.py:283: DeprecationWarning: `should_run_async` will not call `transform_cell` automatically in the future. Please pass the result to `transformed_cell` argument and any exception that happen during thetransform in `preprocessing_exc_tuple` in IPython 7.17 and above.\n",
            "  and should_run_async(code)\n"
          ]
        }
      ]
    },
    {
      "cell_type": "markdown",
      "source": [
        "Keyword Extraction"
      ],
      "metadata": {
        "id": "Ii4BIIh1zRd4"
      }
    },
    {
      "cell_type": "code",
      "source": [
        "# Extract keywords using TF-IDF\n",
        "tfidf_vectorizer = TfidfVectorizer(max_df=0.95, min_df=2, max_features=1000, stop_words='english')\n",
        "tfidf = tfidf_vectorizer.fit_transform(df['Processed body'])\n",
        "tfidf"
      ],
      "metadata": {
        "colab": {
          "base_uri": "https://localhost:8080/"
        },
        "id": "QPuuJNzKzOeY",
        "outputId": "ccf13ab7-4699-4578-e8a4-d5f0e4b680d5"
      },
      "execution_count": 104,
      "outputs": [
        {
          "output_type": "stream",
          "name": "stderr",
          "text": [
            "/usr/local/lib/python3.10/dist-packages/ipykernel/ipkernel.py:283: DeprecationWarning: `should_run_async` will not call `transform_cell` automatically in the future. Please pass the result to `transformed_cell` argument and any exception that happen during thetransform in `preprocessing_exc_tuple` in IPython 7.17 and above.\n",
            "  and should_run_async(code)\n"
          ]
        },
        {
          "output_type": "execute_result",
          "data": {
            "text/plain": [
              "<500x503 sparse matrix of type '<class 'numpy.float64'>'\n",
              "\twith 2288 stored elements in Compressed Sparse Row format>"
            ]
          },
          "metadata": {},
          "execution_count": 104
        }
      ]
    },
    {
      "cell_type": "code",
      "source": [
        "# Convert to array and get feature names (vocabulary)\n",
        "feature_array = tfidf_vectorizer.get_feature_names_out()\n",
        "tfidf_sorting = tfidf.toarray().argsort()[:, ::-1]\n",
        "\n",
        "# Get the first N keywords of each document\n",
        "n = 3\n",
        "top_n_keywords = feature_array[tfidf_sorting][:,:n]\n",
        "top_n_keywords"
      ],
      "metadata": {
        "colab": {
          "base_uri": "https://localhost:8080/"
        },
        "id": "GkxTZZMzzcZS",
        "outputId": "4ef803f0-6dd9-45a5-96db-e2939e1710ce"
      },
      "execution_count": 105,
      "outputs": [
        {
          "output_type": "stream",
          "name": "stderr",
          "text": [
            "/usr/local/lib/python3.10/dist-packages/ipykernel/ipkernel.py:283: DeprecationWarning: `should_run_async` will not call `transform_cell` automatically in the future. Please pass the result to `transformed_cell` argument and any exception that happen during thetransform in `preprocessing_exc_tuple` in IPython 7.17 and above.\n",
            "  and should_run_async(code)\n"
          ]
        },
        {
          "output_type": "execute_result",
          "data": {
            "text/plain": [
              "array([['youre', 'going', 'fun'],\n",
              "       ['true', 'caused', 'holocaust'],\n",
              "       ['actual', 'authcenter', 'nazis'],\n",
              "       ...,\n",
              "       ['straight', 'trap', 'thing'],\n",
              "       ['girl', 'guy', 'like'],\n",
              "       ['straight', 'trap', 'man']], dtype=object)"
            ]
          },
          "metadata": {},
          "execution_count": 105
        }
      ]
    },
    {
      "cell_type": "markdown",
      "source": [
        "Sentiment Analysis"
      ],
      "metadata": {
        "id": "c7miCJuAznu9"
      }
    },
    {
      "cell_type": "code",
      "source": [
        "nltk.download('vader_lexicon')\n"
      ],
      "metadata": {
        "colab": {
          "base_uri": "https://localhost:8080/"
        },
        "id": "IZnYnT4JzlWS",
        "outputId": "7c1a359e-25cd-4ddf-d7a2-ec4f60bff84d"
      },
      "execution_count": 62,
      "outputs": [
        {
          "output_type": "stream",
          "name": "stderr",
          "text": [
            "/usr/local/lib/python3.10/dist-packages/ipykernel/ipkernel.py:283: DeprecationWarning: `should_run_async` will not call `transform_cell` automatically in the future. Please pass the result to `transformed_cell` argument and any exception that happen during thetransform in `preprocessing_exc_tuple` in IPython 7.17 and above.\n",
            "  and should_run_async(code)\n",
            "[nltk_data] Downloading package vader_lexicon to /root/nltk_data...\n",
            "[nltk_data]   Package vader_lexicon is already up-to-date!\n"
          ]
        },
        {
          "output_type": "execute_result",
          "data": {
            "text/plain": [
              "True"
            ]
          },
          "metadata": {},
          "execution_count": 62
        }
      ]
    },
    {
      "cell_type": "code",
      "source": [
        "# Sentiment analysis using VADER\n",
        "sid = SentimentIntensityAnalyzer()\n",
        "df['Sentiments'] = df['Processed body'].apply(lambda x: sid.polarity_scores(x))"
      ],
      "metadata": {
        "colab": {
          "base_uri": "https://localhost:8080/"
        },
        "id": "3g4RrOulzxAL",
        "outputId": "491486f2-4a58-4dc8-e0f6-5d99c99e4b21"
      },
      "execution_count": 106,
      "outputs": [
        {
          "output_type": "stream",
          "name": "stderr",
          "text": [
            "/usr/local/lib/python3.10/dist-packages/ipykernel/ipkernel.py:283: DeprecationWarning: `should_run_async` will not call `transform_cell` automatically in the future. Please pass the result to `transformed_cell` argument and any exception that happen during thetransform in `preprocessing_exc_tuple` in IPython 7.17 and above.\n",
            "  and should_run_async(code)\n"
          ]
        }
      ]
    },
    {
      "cell_type": "code",
      "source": [
        "df['Sentiments']"
      ],
      "metadata": {
        "colab": {
          "base_uri": "https://localhost:8080/"
        },
        "id": "zlOBVSPkz0vz",
        "outputId": "680321d6-5d29-4e7e-ec9b-59d737b6f202"
      },
      "execution_count": 107,
      "outputs": [
        {
          "output_type": "stream",
          "name": "stderr",
          "text": [
            "/usr/local/lib/python3.10/dist-packages/ipykernel/ipkernel.py:283: DeprecationWarning: `should_run_async` will not call `transform_cell` automatically in the future. Please pass the result to `transformed_cell` argument and any exception that happen during thetransform in `preprocessing_exc_tuple` in IPython 7.17 and above.\n",
            "  and should_run_async(code)\n"
          ]
        },
        {
          "output_type": "execute_result",
          "data": {
            "text/plain": [
              "1      {'neg': 0.0, 'neu': 1.0, 'pos': 0.0, 'compound...\n",
              "2      {'neg': 0.0, 'neu': 0.588, 'pos': 0.412, 'comp...\n",
              "3      {'neg': 0.0, 'neu': 1.0, 'pos': 0.0, 'compound...\n",
              "4      {'neg': 0.397, 'neu': 0.256, 'pos': 0.346, 'co...\n",
              "5      {'neg': 0.256, 'neu': 0.744, 'pos': 0.0, 'comp...\n",
              "                             ...                        \n",
              "496    {'neg': 0.0, 'neu': 1.0, 'pos': 0.0, 'compound...\n",
              "497    {'neg': 0.0, 'neu': 1.0, 'pos': 0.0, 'compound...\n",
              "498    {'neg': 0.442, 'neu': 0.192, 'pos': 0.365, 'co...\n",
              "499    {'neg': 0.11, 'neu': 0.524, 'pos': 0.367, 'com...\n",
              "500    {'neg': 0.143, 'neu': 0.621, 'pos': 0.236, 'co...\n",
              "Name: Sentiments, Length: 500, dtype: object"
            ]
          },
          "metadata": {},
          "execution_count": 107
        }
      ]
    },
    {
      "cell_type": "code",
      "source": [
        "# VADER Sentiment analysis categorisation\n",
        "def classify_sentiment_vader(scores):\n",
        "    if scores['compound'] >= 0.05:\n",
        "        return 'positive'\n",
        "    elif scores['compound'] <= -0.05:\n",
        "        return 'negative'\n",
        "    else:\n",
        "        return 'neutral'\n",
        "\n",
        "df['VADER Sentiment'] = df['Sentiments'].apply(classify_sentiment_vader)\n",
        "df['VADER Sentiment']"
      ],
      "metadata": {
        "colab": {
          "base_uri": "https://localhost:8080/"
        },
        "id": "EJoPyoRgz3NN",
        "outputId": "d829a3a4-c3e0-4e90-f2cf-120cd6b1e350"
      },
      "execution_count": 108,
      "outputs": [
        {
          "output_type": "stream",
          "name": "stderr",
          "text": [
            "/usr/local/lib/python3.10/dist-packages/ipykernel/ipkernel.py:283: DeprecationWarning: `should_run_async` will not call `transform_cell` automatically in the future. Please pass the result to `transformed_cell` argument and any exception that happen during thetransform in `preprocessing_exc_tuple` in IPython 7.17 and above.\n",
            "  and should_run_async(code)\n"
          ]
        },
        {
          "output_type": "execute_result",
          "data": {
            "text/plain": [
              "1       neutral\n",
              "2      positive\n",
              "3       neutral\n",
              "4      negative\n",
              "5      negative\n",
              "         ...   \n",
              "496     neutral\n",
              "497     neutral\n",
              "498    negative\n",
              "499    positive\n",
              "500    positive\n",
              "Name: VADER Sentiment, Length: 500, dtype: object"
            ]
          },
          "metadata": {},
          "execution_count": 108
        }
      ]
    },
    {
      "cell_type": "code",
      "source": [
        "# Sentiment analysis using TextBlob (alternative)\n",
        "df['TextBlob Sentiment'] = df['Processed body'].apply(lambda x: TextBlob(x).sentiment.polarity)\n",
        "def classify_sentiment_textblob(score):\n",
        "    if score > 0:\n",
        "        return 'positive'\n",
        "    elif score < 0:\n",
        "        return 'negative'\n",
        "    else:\n",
        "        return 'neutral'\n",
        "\n",
        "df['TextBlob Sentiment Category'] = df['TextBlob Sentiment'].apply(classify_sentiment_textblob)\n",
        "df['TextBlob Sentiment Category']"
      ],
      "metadata": {
        "colab": {
          "base_uri": "https://localhost:8080/"
        },
        "id": "jx2EnXRqz6H0",
        "outputId": "e4bea8c4-9e39-4bb1-f662-077081d9d0ce"
      },
      "execution_count": 109,
      "outputs": [
        {
          "output_type": "stream",
          "name": "stderr",
          "text": [
            "/usr/local/lib/python3.10/dist-packages/ipykernel/ipkernel.py:283: DeprecationWarning: `should_run_async` will not call `transform_cell` automatically in the future. Please pass the result to `transformed_cell` argument and any exception that happen during thetransform in `preprocessing_exc_tuple` in IPython 7.17 and above.\n",
            "  and should_run_async(code)\n"
          ]
        },
        {
          "output_type": "execute_result",
          "data": {
            "text/plain": [
              "1       neutral\n",
              "2      positive\n",
              "3       neutral\n",
              "4      negative\n",
              "5      negative\n",
              "         ...   \n",
              "496     neutral\n",
              "497     neutral\n",
              "498    positive\n",
              "499     neutral\n",
              "500    positive\n",
              "Name: TextBlob Sentiment Category, Length: 500, dtype: object"
            ]
          },
          "metadata": {},
          "execution_count": 109
        }
      ]
    },
    {
      "cell_type": "code",
      "source": [
        "df.head()"
      ],
      "metadata": {
        "colab": {
          "base_uri": "https://localhost:8080/",
          "height": 365
        },
        "id": "8VUunX2p0H7H",
        "outputId": "e41eb72c-d896-445a-8479-78c2bb234400"
      },
      "execution_count": 110,
      "outputs": [
        {
          "output_type": "stream",
          "name": "stderr",
          "text": [
            "/usr/local/lib/python3.10/dist-packages/ipykernel/ipkernel.py:283: DeprecationWarning: `should_run_async` will not call `transform_cell` automatically in the future. Please pass the result to `transformed_cell` argument and any exception that happen during thetransform in `preprocessing_exc_tuple` in IPython 7.17 and above.\n",
            "  and should_run_async(code)\n"
          ]
        },
        {
          "output_type": "execute_result",
          "data": {
            "text/plain": [
              "                                                body  \\\n",
              "1  URL: https://i.redd.it/741oufea1ew51.png\\nThum...   \n",
              "2    It’s true, because Hitler caused the Holocaust.   \n",
              "3     Actual Nazis: *eating popcorn from authcenter*   \n",
              "4                “Trump is worse than Hitler”\\n\\nYes   \n",
              "5  “Trump is worse than Hitler”\\n\\n“I know right?...   \n",
              "\n",
              "                                          Clean body  \\\n",
              "1                     URL \\nThumbnail \\nImages\\n\\t\\n   \n",
              "2       Its true because Hitler caused the Holocaust   \n",
              "3        Actual Nazis eating popcorn from authcenter   \n",
              "4                  Trump is worse than Hitler\\n\\nYes   \n",
              "5  Trump is worse than Hitler\\n\\nI know right He ...   \n",
              "\n",
              "                                      Processed body  \\\n",
              "1                               URL Thumbnail Images   \n",
              "2                   Its true Hitler caused Holocaust   \n",
              "3             Actual Nazis eating popcorn authcenter   \n",
              "4                             Trump worse Hitler Yes   \n",
              "5  Trump worse Hitler I know right He let daughte...   \n",
              "\n",
              "                                          Sentiments VADER Sentiment  \\\n",
              "1  {'neg': 0.0, 'neu': 1.0, 'pos': 0.0, 'compound...         neutral   \n",
              "2  {'neg': 0.0, 'neu': 0.588, 'pos': 0.412, 'comp...        positive   \n",
              "3  {'neg': 0.0, 'neu': 1.0, 'pos': 0.0, 'compound...         neutral   \n",
              "4  {'neg': 0.397, 'neu': 0.256, 'pos': 0.346, 'co...        negative   \n",
              "5  {'neg': 0.256, 'neu': 0.744, 'pos': 0.0, 'comp...        negative   \n",
              "\n",
              "   TextBlob Sentiment TextBlob Sentiment Category  \n",
              "1            0.000000                     neutral  \n",
              "2            0.350000                    positive  \n",
              "3            0.000000                     neutral  \n",
              "4           -0.400000                    negative  \n",
              "5           -0.057143                    negative  "
            ],
            "text/html": [
              "\n",
              "  <div id=\"df-9b45b8cc-2845-4257-8b96-c2f6c5dd6db2\" class=\"colab-df-container\">\n",
              "    <div>\n",
              "<style scoped>\n",
              "    .dataframe tbody tr th:only-of-type {\n",
              "        vertical-align: middle;\n",
              "    }\n",
              "\n",
              "    .dataframe tbody tr th {\n",
              "        vertical-align: top;\n",
              "    }\n",
              "\n",
              "    .dataframe thead th {\n",
              "        text-align: right;\n",
              "    }\n",
              "</style>\n",
              "<table border=\"1\" class=\"dataframe\">\n",
              "  <thead>\n",
              "    <tr style=\"text-align: right;\">\n",
              "      <th></th>\n",
              "      <th>body</th>\n",
              "      <th>Clean body</th>\n",
              "      <th>Processed body</th>\n",
              "      <th>Sentiments</th>\n",
              "      <th>VADER Sentiment</th>\n",
              "      <th>TextBlob Sentiment</th>\n",
              "      <th>TextBlob Sentiment Category</th>\n",
              "    </tr>\n",
              "  </thead>\n",
              "  <tbody>\n",
              "    <tr>\n",
              "      <th>1</th>\n",
              "      <td>URL: https://i.redd.it/741oufea1ew51.png\\nThum...</td>\n",
              "      <td>URL \\nThumbnail \\nImages\\n\\t\\n</td>\n",
              "      <td>URL Thumbnail Images</td>\n",
              "      <td>{'neg': 0.0, 'neu': 1.0, 'pos': 0.0, 'compound...</td>\n",
              "      <td>neutral</td>\n",
              "      <td>0.000000</td>\n",
              "      <td>neutral</td>\n",
              "    </tr>\n",
              "    <tr>\n",
              "      <th>2</th>\n",
              "      <td>It’s true, because Hitler caused the Holocaust.</td>\n",
              "      <td>Its true because Hitler caused the Holocaust</td>\n",
              "      <td>Its true Hitler caused Holocaust</td>\n",
              "      <td>{'neg': 0.0, 'neu': 0.588, 'pos': 0.412, 'comp...</td>\n",
              "      <td>positive</td>\n",
              "      <td>0.350000</td>\n",
              "      <td>positive</td>\n",
              "    </tr>\n",
              "    <tr>\n",
              "      <th>3</th>\n",
              "      <td>Actual Nazis: *eating popcorn from authcenter*</td>\n",
              "      <td>Actual Nazis eating popcorn from authcenter</td>\n",
              "      <td>Actual Nazis eating popcorn authcenter</td>\n",
              "      <td>{'neg': 0.0, 'neu': 1.0, 'pos': 0.0, 'compound...</td>\n",
              "      <td>neutral</td>\n",
              "      <td>0.000000</td>\n",
              "      <td>neutral</td>\n",
              "    </tr>\n",
              "    <tr>\n",
              "      <th>4</th>\n",
              "      <td>“Trump is worse than Hitler”\\n\\nYes</td>\n",
              "      <td>Trump is worse than Hitler\\n\\nYes</td>\n",
              "      <td>Trump worse Hitler Yes</td>\n",
              "      <td>{'neg': 0.397, 'neu': 0.256, 'pos': 0.346, 'co...</td>\n",
              "      <td>negative</td>\n",
              "      <td>-0.400000</td>\n",
              "      <td>negative</td>\n",
              "    </tr>\n",
              "    <tr>\n",
              "      <th>5</th>\n",
              "      <td>“Trump is worse than Hitler”\\n\\n“I know right?...</td>\n",
              "      <td>Trump is worse than Hitler\\n\\nI know right He ...</td>\n",
              "      <td>Trump worse Hitler I know right He let daughte...</td>\n",
              "      <td>{'neg': 0.256, 'neu': 0.744, 'pos': 0.0, 'comp...</td>\n",
              "      <td>negative</td>\n",
              "      <td>-0.057143</td>\n",
              "      <td>negative</td>\n",
              "    </tr>\n",
              "  </tbody>\n",
              "</table>\n",
              "</div>\n",
              "    <div class=\"colab-df-buttons\">\n",
              "\n",
              "  <div class=\"colab-df-container\">\n",
              "    <button class=\"colab-df-convert\" onclick=\"convertToInteractive('df-9b45b8cc-2845-4257-8b96-c2f6c5dd6db2')\"\n",
              "            title=\"Convert this dataframe to an interactive table.\"\n",
              "            style=\"display:none;\">\n",
              "\n",
              "  <svg xmlns=\"http://www.w3.org/2000/svg\" height=\"24px\" viewBox=\"0 -960 960 960\">\n",
              "    <path d=\"M120-120v-720h720v720H120Zm60-500h600v-160H180v160Zm220 220h160v-160H400v160Zm0 220h160v-160H400v160ZM180-400h160v-160H180v160Zm440 0h160v-160H620v160ZM180-180h160v-160H180v160Zm440 0h160v-160H620v160Z\"/>\n",
              "  </svg>\n",
              "    </button>\n",
              "\n",
              "  <style>\n",
              "    .colab-df-container {\n",
              "      display:flex;\n",
              "      gap: 12px;\n",
              "    }\n",
              "\n",
              "    .colab-df-convert {\n",
              "      background-color: #E8F0FE;\n",
              "      border: none;\n",
              "      border-radius: 50%;\n",
              "      cursor: pointer;\n",
              "      display: none;\n",
              "      fill: #1967D2;\n",
              "      height: 32px;\n",
              "      padding: 0 0 0 0;\n",
              "      width: 32px;\n",
              "    }\n",
              "\n",
              "    .colab-df-convert:hover {\n",
              "      background-color: #E2EBFA;\n",
              "      box-shadow: 0px 1px 2px rgba(60, 64, 67, 0.3), 0px 1px 3px 1px rgba(60, 64, 67, 0.15);\n",
              "      fill: #174EA6;\n",
              "    }\n",
              "\n",
              "    .colab-df-buttons div {\n",
              "      margin-bottom: 4px;\n",
              "    }\n",
              "\n",
              "    [theme=dark] .colab-df-convert {\n",
              "      background-color: #3B4455;\n",
              "      fill: #D2E3FC;\n",
              "    }\n",
              "\n",
              "    [theme=dark] .colab-df-convert:hover {\n",
              "      background-color: #434B5C;\n",
              "      box-shadow: 0px 1px 3px 1px rgba(0, 0, 0, 0.15);\n",
              "      filter: drop-shadow(0px 1px 2px rgba(0, 0, 0, 0.3));\n",
              "      fill: #FFFFFF;\n",
              "    }\n",
              "  </style>\n",
              "\n",
              "    <script>\n",
              "      const buttonEl =\n",
              "        document.querySelector('#df-9b45b8cc-2845-4257-8b96-c2f6c5dd6db2 button.colab-df-convert');\n",
              "      buttonEl.style.display =\n",
              "        google.colab.kernel.accessAllowed ? 'block' : 'none';\n",
              "\n",
              "      async function convertToInteractive(key) {\n",
              "        const element = document.querySelector('#df-9b45b8cc-2845-4257-8b96-c2f6c5dd6db2');\n",
              "        const dataTable =\n",
              "          await google.colab.kernel.invokeFunction('convertToInteractive',\n",
              "                                                    [key], {});\n",
              "        if (!dataTable) return;\n",
              "\n",
              "        const docLinkHtml = 'Like what you see? Visit the ' +\n",
              "          '<a target=\"_blank\" href=https://colab.research.google.com/notebooks/data_table.ipynb>data table notebook</a>'\n",
              "          + ' to learn more about interactive tables.';\n",
              "        element.innerHTML = '';\n",
              "        dataTable['output_type'] = 'display_data';\n",
              "        await google.colab.output.renderOutput(dataTable, element);\n",
              "        const docLink = document.createElement('div');\n",
              "        docLink.innerHTML = docLinkHtml;\n",
              "        element.appendChild(docLink);\n",
              "      }\n",
              "    </script>\n",
              "  </div>\n",
              "\n",
              "\n",
              "<div id=\"df-9357c1cf-2ae9-414e-b536-d700610625db\">\n",
              "  <button class=\"colab-df-quickchart\" onclick=\"quickchart('df-9357c1cf-2ae9-414e-b536-d700610625db')\"\n",
              "            title=\"Suggest charts\"\n",
              "            style=\"display:none;\">\n",
              "\n",
              "<svg xmlns=\"http://www.w3.org/2000/svg\" height=\"24px\"viewBox=\"0 0 24 24\"\n",
              "     width=\"24px\">\n",
              "    <g>\n",
              "        <path d=\"M19 3H5c-1.1 0-2 .9-2 2v14c0 1.1.9 2 2 2h14c1.1 0 2-.9 2-2V5c0-1.1-.9-2-2-2zM9 17H7v-7h2v7zm4 0h-2V7h2v10zm4 0h-2v-4h2v4z\"/>\n",
              "    </g>\n",
              "</svg>\n",
              "  </button>\n",
              "\n",
              "<style>\n",
              "  .colab-df-quickchart {\n",
              "      --bg-color: #E8F0FE;\n",
              "      --fill-color: #1967D2;\n",
              "      --hover-bg-color: #E2EBFA;\n",
              "      --hover-fill-color: #174EA6;\n",
              "      --disabled-fill-color: #AAA;\n",
              "      --disabled-bg-color: #DDD;\n",
              "  }\n",
              "\n",
              "  [theme=dark] .colab-df-quickchart {\n",
              "      --bg-color: #3B4455;\n",
              "      --fill-color: #D2E3FC;\n",
              "      --hover-bg-color: #434B5C;\n",
              "      --hover-fill-color: #FFFFFF;\n",
              "      --disabled-bg-color: #3B4455;\n",
              "      --disabled-fill-color: #666;\n",
              "  }\n",
              "\n",
              "  .colab-df-quickchart {\n",
              "    background-color: var(--bg-color);\n",
              "    border: none;\n",
              "    border-radius: 50%;\n",
              "    cursor: pointer;\n",
              "    display: none;\n",
              "    fill: var(--fill-color);\n",
              "    height: 32px;\n",
              "    padding: 0;\n",
              "    width: 32px;\n",
              "  }\n",
              "\n",
              "  .colab-df-quickchart:hover {\n",
              "    background-color: var(--hover-bg-color);\n",
              "    box-shadow: 0 1px 2px rgba(60, 64, 67, 0.3), 0 1px 3px 1px rgba(60, 64, 67, 0.15);\n",
              "    fill: var(--button-hover-fill-color);\n",
              "  }\n",
              "\n",
              "  .colab-df-quickchart-complete:disabled,\n",
              "  .colab-df-quickchart-complete:disabled:hover {\n",
              "    background-color: var(--disabled-bg-color);\n",
              "    fill: var(--disabled-fill-color);\n",
              "    box-shadow: none;\n",
              "  }\n",
              "\n",
              "  .colab-df-spinner {\n",
              "    border: 2px solid var(--fill-color);\n",
              "    border-color: transparent;\n",
              "    border-bottom-color: var(--fill-color);\n",
              "    animation:\n",
              "      spin 1s steps(1) infinite;\n",
              "  }\n",
              "\n",
              "  @keyframes spin {\n",
              "    0% {\n",
              "      border-color: transparent;\n",
              "      border-bottom-color: var(--fill-color);\n",
              "      border-left-color: var(--fill-color);\n",
              "    }\n",
              "    20% {\n",
              "      border-color: transparent;\n",
              "      border-left-color: var(--fill-color);\n",
              "      border-top-color: var(--fill-color);\n",
              "    }\n",
              "    30% {\n",
              "      border-color: transparent;\n",
              "      border-left-color: var(--fill-color);\n",
              "      border-top-color: var(--fill-color);\n",
              "      border-right-color: var(--fill-color);\n",
              "    }\n",
              "    40% {\n",
              "      border-color: transparent;\n",
              "      border-right-color: var(--fill-color);\n",
              "      border-top-color: var(--fill-color);\n",
              "    }\n",
              "    60% {\n",
              "      border-color: transparent;\n",
              "      border-right-color: var(--fill-color);\n",
              "    }\n",
              "    80% {\n",
              "      border-color: transparent;\n",
              "      border-right-color: var(--fill-color);\n",
              "      border-bottom-color: var(--fill-color);\n",
              "    }\n",
              "    90% {\n",
              "      border-color: transparent;\n",
              "      border-bottom-color: var(--fill-color);\n",
              "    }\n",
              "  }\n",
              "</style>\n",
              "\n",
              "  <script>\n",
              "    async function quickchart(key) {\n",
              "      const quickchartButtonEl =\n",
              "        document.querySelector('#' + key + ' button');\n",
              "      quickchartButtonEl.disabled = true;  // To prevent multiple clicks.\n",
              "      quickchartButtonEl.classList.add('colab-df-spinner');\n",
              "      try {\n",
              "        const charts = await google.colab.kernel.invokeFunction(\n",
              "            'suggestCharts', [key], {});\n",
              "      } catch (error) {\n",
              "        console.error('Error during call to suggestCharts:', error);\n",
              "      }\n",
              "      quickchartButtonEl.classList.remove('colab-df-spinner');\n",
              "      quickchartButtonEl.classList.add('colab-df-quickchart-complete');\n",
              "    }\n",
              "    (() => {\n",
              "      let quickchartButtonEl =\n",
              "        document.querySelector('#df-9357c1cf-2ae9-414e-b536-d700610625db button');\n",
              "      quickchartButtonEl.style.display =\n",
              "        google.colab.kernel.accessAllowed ? 'block' : 'none';\n",
              "    })();\n",
              "  </script>\n",
              "</div>\n",
              "    </div>\n",
              "  </div>\n"
            ],
            "application/vnd.google.colaboratory.intrinsic+json": {
              "type": "dataframe",
              "variable_name": "df",
              "summary": "{\n  \"name\": \"df\",\n  \"rows\": 500,\n  \"fields\": [\n    {\n      \"column\": \"body\",\n      \"properties\": {\n        \"dtype\": \"string\",\n        \"num_unique_values\": 451,\n        \"samples\": [\n          \"Hitler made the Jews wear flair.\",\n          \"People on here are younger than I thought. Or just don\\u2019t pay much attention\",\n          \"Some people argue the gas chambers were likely fake.\"\n        ],\n        \"semantic_type\": \"\",\n        \"description\": \"\"\n      }\n    },\n    {\n      \"column\": \"Clean body\",\n      \"properties\": {\n        \"dtype\": \"string\",\n        \"num_unique_values\": 449,\n        \"samples\": [\n          \"Pfft Hitlers got nothing on Hern\\u00e1n Cort\\u00e9s\",\n          \"And you are worse than both unflaired scum\",\n          \"Heir to the cum throne\"\n        ],\n        \"semantic_type\": \"\",\n        \"description\": \"\"\n      }\n    },\n    {\n      \"column\": \"Processed body\",\n      \"properties\": {\n        \"dtype\": \"string\",\n        \"num_unique_values\": 448,\n        \"samples\": [\n          \"Pfft Hitlers got nothing Hern\\u00e1n Cort\\u00e9s\",\n          \"And worse unflaired scum\",\n          \"Heir cum throne\"\n        ],\n        \"semantic_type\": \"\",\n        \"description\": \"\"\n      }\n    },\n    {\n      \"column\": \"Sentiments\",\n      \"properties\": {\n        \"dtype\": \"object\",\n        \"semantic_type\": \"\",\n        \"description\": \"\"\n      }\n    },\n    {\n      \"column\": \"VADER Sentiment\",\n      \"properties\": {\n        \"dtype\": \"category\",\n        \"num_unique_values\": 3,\n        \"samples\": [\n          \"neutral\",\n          \"positive\",\n          \"negative\"\n        ],\n        \"semantic_type\": \"\",\n        \"description\": \"\"\n      }\n    },\n    {\n      \"column\": \"TextBlob Sentiment\",\n      \"properties\": {\n        \"dtype\": \"number\",\n        \"std\": 0.2720088516931515,\n        \"min\": -1.0,\n        \"max\": 1.0,\n        \"num_unique_values\": 142,\n        \"samples\": [\n          -0.20000000000000004,\n          -0.16666666666666666,\n          0.41190476190476194\n        ],\n        \"semantic_type\": \"\",\n        \"description\": \"\"\n      }\n    },\n    {\n      \"column\": \"TextBlob Sentiment Category\",\n      \"properties\": {\n        \"dtype\": \"category\",\n        \"num_unique_values\": 3,\n        \"samples\": [\n          \"neutral\",\n          \"positive\",\n          \"negative\"\n        ],\n        \"semantic_type\": \"\",\n        \"description\": \"\"\n      }\n    }\n  ]\n}"
            }
          },
          "metadata": {},
          "execution_count": 110
        }
      ]
    },
    {
      "cell_type": "code",
      "source": [
        "df.to_csv('Processed_dataset_withsentiment.csv', index = False)"
      ],
      "metadata": {
        "colab": {
          "base_uri": "https://localhost:8080/"
        },
        "id": "QO13r3rQ0eUZ",
        "outputId": "940bc71e-ee2a-4548-8f7d-ed007310e2a3"
      },
      "execution_count": 111,
      "outputs": [
        {
          "output_type": "stream",
          "name": "stderr",
          "text": [
            "/usr/local/lib/python3.10/dist-packages/ipykernel/ipkernel.py:283: DeprecationWarning: `should_run_async` will not call `transform_cell` automatically in the future. Please pass the result to `transformed_cell` argument and any exception that happen during thetransform in `preprocessing_exc_tuple` in IPython 7.17 and above.\n",
            "  and should_run_async(code)\n"
          ]
        }
      ]
    },
    {
      "cell_type": "markdown",
      "source": [
        "Topic Modeling"
      ],
      "metadata": {
        "id": "h3qfAUlO0kTz"
      }
    },
    {
      "cell_type": "code",
      "source": [
        "nltk.download('punkt')"
      ],
      "metadata": {
        "colab": {
          "base_uri": "https://localhost:8080/"
        },
        "id": "KJdU6pBZ0hcK",
        "outputId": "8da628c9-42da-4f1d-8222-16cb7a0c6bdb"
      },
      "execution_count": 69,
      "outputs": [
        {
          "output_type": "stream",
          "name": "stderr",
          "text": [
            "/usr/local/lib/python3.10/dist-packages/ipykernel/ipkernel.py:283: DeprecationWarning: `should_run_async` will not call `transform_cell` automatically in the future. Please pass the result to `transformed_cell` argument and any exception that happen during thetransform in `preprocessing_exc_tuple` in IPython 7.17 and above.\n",
            "  and should_run_async(code)\n",
            "[nltk_data] Downloading package punkt to /root/nltk_data...\n",
            "[nltk_data]   Package punkt is already up-to-date!\n"
          ]
        },
        {
          "output_type": "execute_result",
          "data": {
            "text/plain": [
              "True"
            ]
          },
          "metadata": {},
          "execution_count": 69
        }
      ]
    },
    {
      "cell_type": "code",
      "source": [
        "from collections import defaultdict\n",
        "texts = [word_tokenize(doc) for doc in df['Processed body'] if word_tokenize(doc)]\n",
        "# Remove very low-frequency words\n",
        "frequency = defaultdict(int)\n",
        "for text in texts:\n",
        "    for token in text:\n",
        "        frequency[token] += 1\n",
        "\n",
        "texts = [[token for token in text if frequency[token] > 1] for text in texts]\n",
        "\n",
        "dictionary = corpora.Dictionary(texts)\n",
        "corpus = [dictionary.doc2bow(text) for text in texts]\n",
        "\n",
        "ldamodel = LdaModel(corpus, num_topics=10, id2word=dictionary, passes=15)"
      ],
      "metadata": {
        "colab": {
          "base_uri": "https://localhost:8080/"
        },
        "id": "oc78Cg7C0onk",
        "outputId": "5f071cba-4413-4e89-c05d-3922c7f54c67"
      },
      "execution_count": 112,
      "outputs": [
        {
          "output_type": "stream",
          "name": "stderr",
          "text": [
            "/usr/local/lib/python3.10/dist-packages/ipykernel/ipkernel.py:283: DeprecationWarning: `should_run_async` will not call `transform_cell` automatically in the future. Please pass the result to `transformed_cell` argument and any exception that happen during thetransform in `preprocessing_exc_tuple` in IPython 7.17 and above.\n",
            "  and should_run_async(code)\n"
          ]
        }
      ]
    },
    {
      "cell_type": "code",
      "source": [
        "topics = ldamodel.print_topics(num_words=2)\n",
        "for topic in topics:\n",
        "    print(topic)"
      ],
      "metadata": {
        "colab": {
          "base_uri": "https://localhost:8080/"
        },
        "id": "fKckMzn70q8A",
        "outputId": "d10b4fc7-00fc-42a6-c293-380f19098a88"
      },
      "execution_count": 113,
      "outputs": [
        {
          "output_type": "stream",
          "name": "stdout",
          "text": [
            "(0, '0.046*\"Hitler\" + 0.031*\"Flair\"')\n",
            "(1, '0.060*\"deleted\" + 0.043*\"worse\"')\n",
            "(2, '0.049*\"Hitler\" + 0.043*\"removed\"')\n",
            "(3, '0.037*\"happened\" + 0.033*\"holocaust\"')\n",
            "(4, '0.030*\"like\" + 0.025*\"I\"')\n",
            "(5, '0.025*\"Hitler\" + 0.023*\"like\"')\n",
            "(6, '0.041*\"million\" + 0.026*\"Jews\"')\n",
            "(7, '0.045*\"I\" + 0.023*\"comment\"')\n",
            "(8, '0.057*\"I\" + 0.042*\"Hitler\"')\n",
            "(9, '0.079*\"Based\" + 0.030*\"Count\"')\n"
          ]
        },
        {
          "output_type": "stream",
          "name": "stderr",
          "text": [
            "/usr/local/lib/python3.10/dist-packages/ipykernel/ipkernel.py:283: DeprecationWarning: `should_run_async` will not call `transform_cell` automatically in the future. Please pass the result to `transformed_cell` argument and any exception that happen during thetransform in `preprocessing_exc_tuple` in IPython 7.17 and above.\n",
            "  and should_run_async(code)\n"
          ]
        }
      ]
    },
    {
      "cell_type": "code",
      "source": [
        "topics = ldamodel.print_topics(num_words=5)\n",
        "for topic in topics:\n",
        "    print(topic)"
      ],
      "metadata": {
        "colab": {
          "base_uri": "https://localhost:8080/"
        },
        "id": "jS7dTNID0ubb",
        "outputId": "5600499b-48e8-4e7d-aff5-e028f5651d3c"
      },
      "execution_count": 114,
      "outputs": [
        {
          "output_type": "stream",
          "name": "stdout",
          "text": [
            "(0, '0.046*\"Hitler\" + 0.031*\"Flair\" + 0.021*\"Trump\" + 0.020*\"holocaust\" + 0.017*\"trash\"')\n",
            "(1, '0.060*\"deleted\" + 0.043*\"worse\" + 0.042*\"Trump\" + 0.036*\"Hitler\" + 0.026*\"Yes\"')\n",
            "(2, '0.049*\"Hitler\" + 0.043*\"removed\" + 0.036*\"worse\" + 0.022*\"Jews\" + 0.022*\"And\"')\n",
            "(3, '0.037*\"happened\" + 0.033*\"holocaust\" + 0.027*\"I\" + 0.021*\"one\" + 0.021*\"Im\"')\n",
            "(4, '0.030*\"like\" + 0.025*\"I\" + 0.018*\"left\" + 0.014*\"Hitler\" + 0.014*\"ideology\"')\n",
            "(5, '0.025*\"Hitler\" + 0.023*\"like\" + 0.020*\"I\" + 0.019*\"something\" + 0.015*\"could\"')\n",
            "(6, '0.041*\"million\" + 0.026*\"Jews\" + 0.022*\"I\" + 0.020*\"way\" + 0.019*\"guy\"')\n",
            "(7, '0.045*\"I\" + 0.023*\"comment\" + 0.020*\"Jews\" + 0.015*\"thing\" + 0.015*\"Holocaust\"')\n",
            "(8, '0.057*\"I\" + 0.042*\"Hitler\" + 0.038*\"Holocaust\" + 0.031*\"The\" + 0.027*\"happened\"')\n",
            "(9, '0.079*\"Based\" + 0.030*\"Count\" + 0.017*\"least\" + 0.017*\"You\" + 0.013*\"bad\"')\n"
          ]
        },
        {
          "output_type": "stream",
          "name": "stderr",
          "text": [
            "/usr/local/lib/python3.10/dist-packages/ipykernel/ipkernel.py:283: DeprecationWarning: `should_run_async` will not call `transform_cell` automatically in the future. Please pass the result to `transformed_cell` argument and any exception that happen during thetransform in `preprocessing_exc_tuple` in IPython 7.17 and above.\n",
            "  and should_run_async(code)\n"
          ]
        }
      ]
    },
    {
      "cell_type": "code",
      "source": [
        "pip install pyLDAvis"
      ],
      "metadata": {
        "colab": {
          "base_uri": "https://localhost:8080/"
        },
        "id": "rNCXEKnS0xXp",
        "outputId": "22098753-b4df-4f18-d507-c758a5029c91"
      },
      "execution_count": 73,
      "outputs": [
        {
          "output_type": "stream",
          "name": "stderr",
          "text": [
            "/usr/local/lib/python3.10/dist-packages/ipykernel/ipkernel.py:283: DeprecationWarning: `should_run_async` will not call `transform_cell` automatically in the future. Please pass the result to `transformed_cell` argument and any exception that happen during thetransform in `preprocessing_exc_tuple` in IPython 7.17 and above.\n",
            "  and should_run_async(code)\n"
          ]
        },
        {
          "output_type": "stream",
          "name": "stdout",
          "text": [
            "Requirement already satisfied: pyLDAvis in /usr/local/lib/python3.10/dist-packages (3.4.1)\n",
            "Requirement already satisfied: numpy>=1.24.2 in /usr/local/lib/python3.10/dist-packages (from pyLDAvis) (1.25.2)\n",
            "Requirement already satisfied: scipy in /usr/local/lib/python3.10/dist-packages (from pyLDAvis) (1.11.4)\n",
            "Requirement already satisfied: pandas>=2.0.0 in /usr/local/lib/python3.10/dist-packages (from pyLDAvis) (2.0.3)\n",
            "Requirement already satisfied: joblib>=1.2.0 in /usr/local/lib/python3.10/dist-packages (from pyLDAvis) (1.4.2)\n",
            "Requirement already satisfied: jinja2 in /usr/local/lib/python3.10/dist-packages (from pyLDAvis) (3.1.4)\n",
            "Requirement already satisfied: numexpr in /usr/local/lib/python3.10/dist-packages (from pyLDAvis) (2.10.0)\n",
            "Requirement already satisfied: funcy in /usr/local/lib/python3.10/dist-packages (from pyLDAvis) (2.0)\n",
            "Requirement already satisfied: scikit-learn>=1.0.0 in /usr/local/lib/python3.10/dist-packages (from pyLDAvis) (1.2.2)\n",
            "Requirement already satisfied: gensim in /usr/local/lib/python3.10/dist-packages (from pyLDAvis) (4.3.2)\n",
            "Requirement already satisfied: setuptools in /usr/local/lib/python3.10/dist-packages (from pyLDAvis) (67.7.2)\n",
            "Requirement already satisfied: python-dateutil>=2.8.2 in /usr/local/lib/python3.10/dist-packages (from pandas>=2.0.0->pyLDAvis) (2.8.2)\n",
            "Requirement already satisfied: pytz>=2020.1 in /usr/local/lib/python3.10/dist-packages (from pandas>=2.0.0->pyLDAvis) (2023.4)\n",
            "Requirement already satisfied: tzdata>=2022.1 in /usr/local/lib/python3.10/dist-packages (from pandas>=2.0.0->pyLDAvis) (2024.1)\n",
            "Requirement already satisfied: threadpoolctl>=2.0.0 in /usr/local/lib/python3.10/dist-packages (from scikit-learn>=1.0.0->pyLDAvis) (3.5.0)\n",
            "Requirement already satisfied: smart-open>=1.8.1 in /usr/local/lib/python3.10/dist-packages (from gensim->pyLDAvis) (7.0.4)\n",
            "Requirement already satisfied: MarkupSafe>=2.0 in /usr/local/lib/python3.10/dist-packages (from jinja2->pyLDAvis) (2.1.5)\n",
            "Requirement already satisfied: six>=1.5 in /usr/local/lib/python3.10/dist-packages (from python-dateutil>=2.8.2->pandas>=2.0.0->pyLDAvis) (1.16.0)\n",
            "Requirement already satisfied: wrapt in /usr/local/lib/python3.10/dist-packages (from smart-open>=1.8.1->gensim->pyLDAvis) (1.14.1)\n"
          ]
        }
      ]
    },
    {
      "cell_type": "code",
      "source": [
        "# Lets visualize the topics\n",
        "import pyLDAvis\n",
        "from pyLDAvis.gensim import prepare\n",
        "\n",
        "pyLDAvis.enable_notebook()\n",
        "vis = prepare(ldamodel, corpus, dictionary)\n",
        "vis"
      ],
      "metadata": {
        "colab": {
          "base_uri": "https://localhost:8080/",
          "height": 916
        },
        "id": "3kz_8rS600ir",
        "outputId": "f72f8edf-e007-4280-b939-c253f3bd75ea"
      },
      "execution_count": 115,
      "outputs": [
        {
          "output_type": "stream",
          "name": "stderr",
          "text": [
            "/usr/local/lib/python3.10/dist-packages/ipykernel/ipkernel.py:283: DeprecationWarning: `should_run_async` will not call `transform_cell` automatically in the future. Please pass the result to `transformed_cell` argument and any exception that happen during thetransform in `preprocessing_exc_tuple` in IPython 7.17 and above.\n",
            "  and should_run_async(code)\n"
          ]
        },
        {
          "output_type": "execute_result",
          "data": {
            "text/plain": [
              "PreparedData(topic_coordinates=              x         y  topics  cluster       Freq\n",
              "topic                                                \n",
              "8      0.087310  0.095030       1        1  16.512675\n",
              "4     -0.001968  0.054511       2        1  13.391162\n",
              "1      0.130291 -0.137131       3        1   9.983936\n",
              "7     -0.057909  0.031721       4        1   9.688348\n",
              "5     -0.030075 -0.051720       5        1   9.606662\n",
              "3     -0.041619  0.134983       6        1   9.519641\n",
              "6     -0.093319  0.009182       7        1   8.546128\n",
              "2      0.085392 -0.022334       8        1   8.262089\n",
              "9     -0.171360 -0.109570       9        1   7.363723\n",
              "0      0.093257 -0.004671      10        1   7.125637, topic_info=        Term       Freq      Total Category  logprob  loglift\n",
              "192    Based  20.000000  20.000000  Default  30.0000  30.0000\n",
              "191  deleted  20.000000  20.000000  Default  29.0000  29.0000\n",
              "0     Hitler  76.000000  76.000000  Default  28.0000  28.0000\n",
              "69   removed  12.000000  12.000000  Default  27.0000  27.0000\n",
              "10     worse  38.000000  38.000000  Default  26.0000  26.0000\n",
              "..       ...        ...        ...      ...      ...      ...\n",
              "56      like   3.324961  38.475288  Topic10  -4.2536   0.1929\n",
              "122      say   1.975176  19.295845  Topic10  -4.7744   0.3622\n",
              "213    didnt   1.814871  20.196542  Topic10  -4.8590   0.2320\n",
              "85       The   1.650419  32.150106  Topic10  -4.9540  -0.3279\n",
              "252      You   1.650381  14.715850  Topic10  -4.9540   0.4536\n",
              "\n",
              "[531 rows x 6 columns], token_table=      Topic      Freq  Term\n",
              "term                       \n",
              "270       6  0.206899     1\n",
              "270       9  0.620696     1\n",
              "297       6  0.602798    10\n",
              "297       7  0.301399    10\n",
              "482       5  0.811497  2020\n",
              "...     ...       ...   ...\n",
              "68        5  0.483298  year\n",
              "365       1  0.176003   yes\n",
              "365       5  0.352006   yes\n",
              "365      10  0.352006   yes\n",
              "480       4  0.908749   yuw\n",
              "\n",
              "[931 rows x 3 columns], R=30, lambda_step=0.01, plot_opts={'xlab': 'PC1', 'ylab': 'PC2'}, topic_order=[9, 5, 2, 8, 6, 4, 7, 3, 10, 1])"
            ],
            "text/html": [
              "\n",
              "<link rel=\"stylesheet\" type=\"text/css\" href=\"https://cdn.jsdelivr.net/gh/bmabey/pyLDAvis@3.4.0/pyLDAvis/js/ldavis.v1.0.0.css\">\n",
              "\n",
              "\n",
              "<div id=\"ldavis_el3611349489002876805989358501\" style=\"background-color:white;\"></div>\n",
              "<script type=\"text/javascript\">\n",
              "\n",
              "var ldavis_el3611349489002876805989358501_data = {\"mdsDat\": {\"x\": [0.08731049876263587, -0.001967883366116928, 0.13029066466850975, -0.057909040176335136, -0.03007516255068828, -0.04161867028851505, -0.09331926053025923, 0.08539211121976861, -0.17135989123180445, 0.09325663349280446], \"y\": [0.09502972754200327, 0.054510566342495397, -0.13713070574145736, 0.03172106577170803, -0.05172022153991847, 0.1349832822519388, 0.009181894335903905, -0.02233425686378402, -0.10957016503211127, -0.004671187066778385], \"topics\": [1, 2, 3, 4, 5, 6, 7, 8, 9, 10], \"cluster\": [1, 1, 1, 1, 1, 1, 1, 1, 1, 1], \"Freq\": [16.51267483062395, 13.391162341994933, 9.983935986452533, 9.688347786288407, 9.606662234701625, 9.519640613261142, 8.546127806445673, 8.262088675968444, 7.36372288621335, 7.125636838049944]}, \"tinfo\": {\"Term\": [\"Based\", \"deleted\", \"Hitler\", \"removed\", \"worse\", \"happened\", \"Trump\", \"Holocaust\", \"million\", \"holocaust\", \"Jews\", \"Flair\", \"Count\", \"I\", \"Yes\", \"way\", \"comment\", \"The\", \"bad\", \"You\", \"caused\", \"authright\", \"Im\", \"And\", \"didnt\", \"something\", \"never\", \"guy\", \"think\", \"he\", \"happen\", \"wish\", \"Maybe\", \"Holocaust\", \"laugh\", \"AIPAC\", \"culturally\", \"True\", \"somehow\", \"wouldve\", \"everyone\", \"didnt\", \"true\", \"Just\", \"caused\", \"enough\", \"started\", \"civilian\", \"center\", \"read\", \"talked\", \"simply\", \"libleft\", \"argument\", \"agree\", \"deserved\", \"Is\", \"sub\", \"bad\", \"He\", \"The\", \"happened\", \"think\", \"I\", \"never\", \"wasnt\", \"Hitler\", \"say\", \"holocaust\", \"right\", \"dont\", \"get\", \"auth\", \"authright\", \"AuthRight\", \"Trump\", \"actually\", \"would\", \"And\", \"worse\", \"people\", \"still\", \"thing\", \"ideology\", \"state\", \"social\", \"fascism\", \"modernity\", \"favor\", \"call\", \"racism\", \"nationalization\", \"fascist\", \"live\", \"theyre\", \"hospital\", \"yeah\", \"whatever\", \"F\", \"reminds\", \"using\", \"type\", \"collective\", \"new\", \"racist\", \"resembles\", \"court\", \"tradition\", \"favored\", \"monarchy\", \"root\", \"Italy\", \"NAP\", \"left\", \"see\", \"based\", \"Germany\", \"often\", \"rather\", \"individual\", \"saying\", \"conservative\", \"leftist\", \"like\", \"hand\", \"German\", \"authoritarian\", \"hitler\", \"I\", \"people\", \"If\", \"Nazi\", \"They\", \"The\", \"Trump\", \"Hitler\", \"right\", \"dont\", \"would\", \"say\", \"nazi\", \"This\", \"deleted\", \"nation\", \"who\", \"Yes\", \"he\", \"Hitlers\", \"converted\", \"wife\", \"National\", \"step\", \"Chelsea\", \"Vanessa\", \"Ivanka\", \"Jr\", \"Biden\", \"Don\", \"rgetflaired\", \"Jewish\", \"socialism\", \"girl\", \"daughter\", \"married\", \"guess\", \"Clinton\", \"Not\", \"But\", \"thats\", \"Thats\", \"cause\", \"medium\", \"worse\", \"Trump\", \"hitler\", \"mean\", \"Hitler\", \"I\", \"control\", \"jew\", \"believe\", \"didnt\", \"right\", \"never\", \"like\", \"dont\", \"guy\", \"yuw\", \"delete\", \"tuwu\", \"teh\", \"towing\", \"byebye\", \"peep\", \"kiss\", \"claimed\", \"Hillarys\", \"killing\", \"button\", \"Communists\", \"three\", \"submission\", \"cringe\", \"money\", \"Use\", \"Now\", \"comment\", \"One\", \"Jew\", \"god\", \"movie\", \"All\", \"another\", \"trap\", \"info\", \"user\", \"Oh\", \"isnt\", \"camp\", \"thing\", \"love\", \"I\", \"Jews\", \"make\", \"kid\", \"If\", \"Its\", \"believe\", \"Holocaust\", \"time\", \"good\", \"meme\", \"This\", \"flair\", \"way\", \"know\", \"many\", \"bad\", \"one\", \"something\", \"move\", \"porn\", \"straight\", \"since\", \"fellow\", \"2020\", \"oppressed\", \"Nation\", \"Ftfy\", \"already\", \"menu\", \"aspect\", \"customer\", \"burger\", \"failed\", \"white\", \"capitalist\", \"market\", \"joke\", \"definition\", \"Good\", \"flair\", \"country\", \"could\", \"result\", \"killed\", \"jewish\", \"year\", \"put\", \"They\", \"also\", \"made\", \"like\", \"say\", \"It\", \"Hitler\", \"one\", \"I\", \"well\", \"still\", \"Jews\", \"people\", \"He\", \"know\", \"would\", \"right\", \"worse\", \"Ive\", \"cum\", \"free\", \"Nazi\", \"LibRight\", \"pedophile\", \"Purple\", \"Centrist\", \"vote\", \"pro\", \"plane\", \"open\", \"ask\", \"black\", \"Nice\", \"holiday\", \"someone\", \"When\", \"cant\", \"group\", \"3\", \"Jesus\", \"10\", \"American\", \"hate\", \"working\", \"Cant\", \"stopped\", \"government\", \"Im\", \"bot\", \"deny\", \"border\", \"LibLeft\", \"happened\", \"holocaust\", \"one\", \"never\", \"You\", \"side\", \"dont\", \"I\", \"think\", \"AuthRight\", \"way\", \"It\", \"caused\", \"The\", \"people\", \"Hitler\", \"get\", \"like\", \"result\", \"right\", \"No\", \"gas\", \"chamber\", \"million\", \"minority\", \"six\", \"6\", \"How\", \"Really\", \"gasoline\", \"oven\", \"Minecraft\", \"AND\", \"unironically\", \"Always\", \"plan\", \"jar\", \"cum\", \"guy\", \"forget\", \"explain\", \"gorillion\", \"way\", \"victim\", \"Wait\", \"kill\", \"shit\", \"medium\", \"pay\", \"got\", \"argue\", \"fucking\", \"Jews\", \"actually\", \"jew\", \"think\", \"people\", \"I\", \"never\", \"The\", \"like\", \"And\", \"control\", \"need\", \"killed\", \"point\", \"number\", \"removed\", \"officer\", \"knife\", \"criticized\", \"loved\", \"openets\", \"beautiful\", \"sin\", \"earth\", \"amazing\", \"quote\", \"Adolf\", \"dead\", \"night\", \"must\", \"A\", \"People\", \"every\", \"long\", \"life\", \"word\", \"much\", \"usually\", \"u\", \"purge\", \"course\", \"political\", \"And\", \"despite\", \"basically\", \"first\", \"many\", \"worse\", \"Hitler\", \"Jews\", \"need\", \"Trump\", \"AuthRight\", \"find\", \"caused\", \"I\", \"like\", \"You\", \"one\", \"even\", \"hitler\", \"least\", \"time\", \"well\", \"Well\", \"Based\", \"Count\", \"Rank\", \"Their\", \"increased\", \"there\", \"China\", \"69\", \"relationship\", \"30\", \"lost\", \"ranked\", \"handle\", \"particularly\", \"breeze\", \"steady\", \"Sapling\", \"Congratulations\", \"1\", \"Your\", \"Stalin\", \"Trumps\", \"pepe\", \"likely\", \"mybasedcount\", \"Muslims\", \"check\", \"least\", \"try\", \"5\", \"You\", \"bad\", \"This\", \"make\", \"one\", \"actually\", \"The\", \"They\", \"Im\", \"people\", \"like\", \"never\", \"doesnt\", \"Ive\", \"number\", \"Flair\", \"trash\", \"SJWs\", \"panel\", \"dad\", \"catapult\", \"deportation\", \"YOU\", \"thousand\", \"charisma\", \"honestly\", \"liblefts\", \"authcenter\", \"Unflaired\", \"seem\", \"proud\", \"Thanks\", \"authright\", \"yes\", \"degenerate\", \"post\", \"world\", \"exactly\", \"conundrum\", \"possible\", \"talking\", \"break\", \"genuinely\", \"Lol\", \"almost\", \"usually\", \"auth\", \"nazi\", \"Israel\", \"go\", \"deny\", \"Hitler\", \"know\", \"would\", \"holocaust\", \"Trump\", \"right\", \"worse\", \"like\", \"say\", \"didnt\", \"The\", \"You\"], \"Freq\": [20.0, 20.0, 76.0, 12.0, 38.0, 30.0, 38.0, 28.0, 14.0, 28.0, 26.0, 7.0, 7.0, 89.0, 10.0, 11.0, 11.0, 32.0, 15.0, 14.0, 14.0, 8.0, 13.0, 14.0, 20.0, 7.0, 25.0, 9.0, 16.0, 7.0, 8.449050450737927, 8.660267636782654, 2.6553932950085533, 20.785068447267022, 1.8032119905193447, 1.8032111069787875, 1.8032111069787875, 1.8032107283185488, 1.8031789208584954, 1.7994115039232765, 1.7881004177120494, 12.707660903716382, 2.6239210754864675, 3.3965242801845887, 8.204186020759842, 3.320903053668166, 2.2920993412049753, 1.8031869989435882, 1.8028583218563694, 1.8031419383751792, 1.8032084563571165, 1.802910955629553, 1.8028186887513822, 1.79941642650638, 2.654439323647109, 1.7654369713235738, 2.661935534173196, 2.658756302808807, 7.800779073226485, 6.07110302728887, 16.54888629266879, 14.710086929372906, 7.530986177531911, 30.836344975910013, 9.763565430451644, 3.201887616233276, 22.680506294431403, 7.450495127905242, 9.376627174021195, 8.713692052544799, 7.058631763969694, 4.969583926981281, 4.48135052252794, 3.5206326978304165, 4.095701730430452, 7.944866362388262, 3.9446061975702333, 4.9939110802386635, 4.2210453377750214, 5.888373208324388, 4.911155137504062, 3.413983546472019, 3.6052700770711947, 6.19420968910017, 4.448693529081324, 3.5800095725860754, 3.5755110654708324, 3.574920654324916, 3.566152107098189, 2.7083125539390953, 2.707032237952077, 2.7067495202709018, 4.446000648286116, 1.8350641706375541, 1.8350588479295813, 1.8350582337709689, 1.8350537299411458, 1.8350244550472947, 1.8349734798824775, 1.8343552268794723, 1.8343646439781935, 1.8342352612305448, 1.8339478350000087, 1.8338528451346463, 1.8337097461779905, 1.833575040722369, 1.833551088536491, 1.8315511833754454, 1.8313323381899447, 1.8306901330010614, 1.830589206269114, 1.830207609051365, 1.823407030737846, 7.867435695504722, 4.416299528358304, 5.051662990300913, 3.5796337075153746, 2.7078206128906777, 2.7064023159354393, 2.706975325920675, 2.707331742635321, 2.7032451312293646, 4.454213996127363, 13.020170768624729, 2.706455543015168, 2.707489990837746, 2.7051338736815915, 4.235176374261365, 10.932575222043141, 5.808342021800747, 3.580829269613901, 3.551955216617262, 3.5802519605183796, 5.146493583863179, 5.175750462394791, 6.33211859604335, 4.197496105643114, 3.8905707486068746, 3.755068115106517, 3.2036214434668353, 2.7089723650081963, 2.7089420665166584, 19.61739260629628, 3.3418418184529384, 3.341504809162506, 8.551779859891433, 5.76265067768382, 2.5267411970706837, 2.5261950832839233, 2.5260009366274785, 1.7116483598704093, 1.7116161547253543, 1.7114514658556186, 1.711239919262983, 1.7111237670573585, 1.7110915619123037, 1.7110900356021115, 1.7109148151920497, 1.71009152347439, 4.970439519729548, 4.154264070709963, 1.7116520230148706, 1.7113988081539886, 1.7112585402473277, 1.710954957150104, 1.7114534500588685, 1.7080316152390298, 3.3342212569254435, 3.3398276995233434, 2.56328503147787, 2.784720587848532, 1.7119891849363222, 14.024517074432627, 13.67737308432418, 4.820735352936492, 3.7110046646557504, 11.867202164703924, 7.603356348484667, 2.2287112742191257, 2.52656445035043, 2.5271890164810684, 2.471818451115433, 2.5669353549334777, 2.526680144662997, 2.5268159862701003, 1.713999640721456, 1.7120464215685287, 2.5587594383394086, 1.7333356620047284, 1.7333356620047284, 1.7333356620047284, 1.7333352176682266, 1.7333352176682266, 1.7333350695560592, 1.7333350695560592, 1.7333193696663252, 1.7332973009533972, 1.7332613096967429, 1.7330309952765888, 1.732506381980006, 1.731476113744255, 1.7312520200351273, 1.7104136748809409, 1.6506721878632746, 1.650147722678859, 1.6108655617792538, 7.415063253399824, 2.559101281221541, 1.7333232205826752, 1.7333272196111922, 1.7326165774324784, 2.558437442487694, 1.733334921443892, 2.5572232189401545, 2.5578654332975748, 2.5579889588451046, 2.4933922068711194, 3.382445562727304, 3.3827074250390936, 4.8402493447979085, 3.30151559339195, 14.255120711311406, 6.461607172508819, 4.11329646177213, 2.5592727951112764, 3.3828036979478395, 3.239281526710762, 3.384273859320477, 4.767393265926508, 2.5173668271679204, 2.558770694864123, 2.558790541894542, 3.36637391145339, 2.557537216734834, 2.793560768489883, 2.80038074134546, 2.5587150046892178, 2.557202779461067, 2.676857267386135, 5.935859142512767, 1.7215423078831897, 1.721542014156417, 1.721542014156417, 1.7215418672930305, 1.7215401049323944, 1.7215374613914398, 1.7215371676646671, 1.7215026547688728, 1.7213970599940807, 1.721471666594351, 1.7214509588568745, 1.7213315589237645, 1.7213299434265146, 1.7213184880823786, 1.7212938150334702, 1.719996277014989, 1.7197773037059276, 2.5411102044648475, 3.327494025171926, 1.7214182083217164, 1.6994486206295074, 4.166453763288421, 4.177954928800963, 4.723160577609682, 2.361687939667042, 2.4972641404673808, 1.7216007595109606, 1.7211517981388613, 1.7214321603434204, 4.090847023356966, 3.353914160924357, 2.534523381586648, 7.1530987233220715, 4.532921677543152, 3.3575267065020147, 7.815605921176324, 4.180754144944965, 6.3153388590721296, 2.4240941578423945, 2.5412309261684345, 3.3610714011951743, 3.359203005193916, 2.5398377800854335, 2.5051645094731745, 2.541556962886151, 2.5341086393835703, 2.607737716954315, 1.991131055009304, 1.8386104910078003, 1.7511136913167247, 1.748727748741937, 2.597097160215161, 2.5969699643474704, 1.7593064422359415, 1.7593064422359415, 1.759306296702912, 1.759305569037765, 1.7593052779717062, 1.7593017851790007, 1.7587090291502778, 1.7576997575914284, 1.7577156206916325, 1.755523020070778, 1.7555099220981327, 1.7255654825690532, 3.4334306559710557, 2.594159430483808, 1.7576996120583992, 1.7593094984295587, 1.7593128456892346, 1.7598399663217008, 1.759231056126715, 1.7577447272975113, 1.757714747493456, 1.7577303195276013, 4.272764460660943, 6.530519345576865, 3.412349032399059, 2.5647178075712858, 1.7589743358628636, 1.7577473468920404, 11.54417470385452, 10.282338140208912, 6.656356516905044, 6.170932843756764, 4.418977129302498, 2.59698684617888, 4.51505657997831, 8.587330664420865, 3.4338978169954113, 2.5971402379918618, 2.5971297596137455, 2.5956039913335758, 2.5973369986476027, 3.0143843064634495, 2.597557335654106, 2.59704447725852, 1.9066058060079834, 1.7612014278116843, 1.7600301779911192, 1.759656594704664, 1.7593666929101106, 4.156816608144338, 3.3402088787487854, 11.407686745596166, 2.520017411718605, 2.5190229016611942, 4.980797456375931, 1.7164185323514858, 1.7163904425377254, 1.7155229245685701, 1.7152105397094963, 1.7148921449367809, 1.7148998533042779, 1.7148905771332221, 1.714902466310209, 1.6407266749906089, 2.462002931433123, 3.2344093137972467, 5.305558034141085, 1.7164498884226602, 1.7126230105861349, 1.7164296376266934, 5.519404349144987, 2.532587276750598, 1.7149086068741473, 3.0662534979049587, 1.716326815843301, 1.6465357791265354, 1.6283212986819844, 1.614124314856639, 0.8990510061562915, 2.146967700443268, 7.266308037793896, 3.659763042196042, 3.3143040605481473, 3.596414371602627, 3.945248311711248, 6.229972639644517, 2.7137312999244623, 2.8585014966343727, 2.0715573944714767, 1.8359550614341842, 1.716472752224558, 1.7164581193913433, 1.716438652497156, 1.7164314667308451, 1.716427939172838, 11.612006000920958, 2.5524985605090205, 1.729278320545537, 1.7292209767122229, 1.7292181979361592, 1.729142665750428, 1.72915365454668, 1.7289447411098917, 1.7289441095698774, 1.7289130378011652, 1.728859230591932, 1.6940843638509226, 1.6088047369203886, 1.7290797643649864, 1.7289465094219323, 2.552911335062481, 1.7288814608004415, 1.7266580610254831, 2.5529914143363164, 1.7296760644466531, 1.72774784647446, 3.254578815824082, 1.9416243036203202, 2.55285020198908, 1.7292286815003994, 1.7296457505259584, 1.7291582016347842, 5.832991989287042, 0.9054279299556113, 0.9059714964460693, 1.728111866138803, 3.291400124827994, 9.83170480475802, 13.257588091660251, 5.84619875406973, 2.5526092063195565, 5.247722132897173, 2.8209659680460573, 2.5524743093724647, 2.8986294750180366, 4.285065688833934, 3.379175092663719, 2.407548254234887, 2.562911644883679, 1.9208835190809597, 1.894412140450259, 1.7309116093309707, 1.729659265482268, 1.7294291323009936, 1.7293052241501539, 19.01641190001283, 7.200001625164663, 3.242221885705882, 2.4531182518366488, 2.45303134463754, 2.3694995671065016, 1.664359432411548, 1.6643575186519821, 1.664353240836482, 1.664253049894504, 1.6641137957425642, 1.6628907908058819, 1.6628907908058819, 1.6628907908058819, 1.6628907908058819, 1.6628907908058819, 1.6628907908058819, 1.6628907908058819, 3.2443103602627055, 2.4519884582482336, 2.4442312027091226, 1.6643571809297057, 1.6643248721652704, 1.6629013727705402, 1.6628297756479584, 1.223215225086291, 1.6517648681344739, 4.040559747202709, 1.6642387529848062, 1.6629097032533564, 4.0392075072082845, 3.2528707193749287, 3.249546181286738, 2.457366347776509, 2.4574374946027224, 1.7129056587448481, 1.7442651984357258, 1.7051442379643291, 1.6749316031238675, 1.6705835413902137, 1.665516694078438, 1.6644159446057871, 1.6643708023948511, 1.664369789228022, 1.664256989987728, 7.137552261348048, 4.004281572636567, 1.6504245681741152, 1.6504192303927514, 1.6504163981005993, 1.6489611446059456, 1.6489611446059456, 1.6482908717747005, 1.6402380115801674, 1.6378646596909527, 1.9754259531330265, 2.434903915871634, 2.4203766536858407, 2.4214487851997553, 1.6483337918942373, 1.6504369866858593, 2.434934635348054, 4.004084183660423, 2.4294931485178317, 1.6489358718452032, 1.5899435836878044, 3.22213124056265, 0.8644815790397997, 0.8644992263985941, 0.8644836487917571, 0.8644793458863721, 0.8644801628937236, 0.8644815790397997, 0.8644855551422441, 0.8644825049814648, 1.4258630168589992, 3.897051863229484, 2.436409388084832, 1.6504549608475942, 1.6504419976642823, 1.6440905825130154, 10.7802503457195, 2.913278496112342, 3.8234436403550665, 4.691652733735764, 4.834482176809498, 3.376752387340423, 3.388630149152164, 3.3249610930456326, 1.9751758399491262, 1.8148714810993736, 1.6504190125241243, 1.6503811033830105], \"Total\": [20.0, 20.0, 76.0, 12.0, 38.0, 30.0, 38.0, 28.0, 14.0, 28.0, 26.0, 7.0, 7.0, 89.0, 10.0, 11.0, 11.0, 32.0, 15.0, 14.0, 14.0, 8.0, 13.0, 14.0, 20.0, 7.0, 25.0, 9.0, 16.0, 7.0, 9.401026790269345, 10.237108615827463, 3.4009154424282766, 28.851411248998417, 2.542363632021043, 2.54236273282599, 2.5423627609620008, 2.5423623669607225, 2.5423638257832826, 2.5421953958960737, 2.5417283396461174, 20.19654221856768, 4.274580167036196, 5.892193395283073, 14.382507641497208, 5.908213463624858, 4.201708014592955, 3.3282535258306374, 3.328235843479604, 3.3573563803814825, 3.3800898569825395, 3.415954742377737, 3.4161192935706857, 3.415981481788342, 5.055810657911906, 3.3665924005857275, 5.100216577984252, 5.098308549469293, 15.019389588963767, 11.749003586357265, 32.15010643106032, 30.46753102807439, 16.810614135500337, 89.20521461842422, 25.155061226886296, 6.747683052559201, 76.39551681747795, 19.295845169860165, 28.337062785201123, 26.7693794337088, 21.07000279993966, 13.288408217424193, 11.517624732815165, 8.189565768508512, 10.91105464939168, 38.95854005410348, 11.594131832670335, 19.955104842408023, 14.938784942412248, 38.685995357925485, 27.55913909000966, 9.184125822875329, 14.141064162152379, 6.941490376382547, 5.193789413956126, 4.32023237507283, 4.320023388084051, 4.319966601910869, 4.319385604917019, 3.446524671724709, 3.4464781953850694, 3.446408200255323, 6.011004030744273, 2.572699944126673, 2.5726946615876862, 2.5726940623537096, 2.5726895732210364, 2.572671651110537, 2.572624262822294, 2.5726293343871753, 2.5726433620733222, 2.572634977143154, 2.572663872179725, 2.5726243274987426, 2.5726563544184287, 2.5725816818240794, 2.5725856652916117, 2.5724893583280704, 2.572476900271504, 2.572433910728991, 2.5724125385693797, 2.572404102837503, 2.571921243723219, 11.996165766439105, 6.821925470141583, 8.560443958792684, 5.952588943083799, 4.23240229967622, 4.263765790868087, 4.266218210921228, 4.27176100435667, 4.304847983759105, 8.483994840076535, 38.47528766842658, 5.089036190206663, 5.128659803383205, 5.142658887385955, 12.534738140586615, 89.20521461842422, 27.55913909000966, 10.907864754928307, 10.888570910902914, 12.472826363104241, 32.15010643106032, 38.95854005410348, 76.39551681747795, 26.7693794337088, 21.07000279993966, 19.955104842408023, 19.295845169860165, 9.065740459293755, 17.248710200048286, 20.386302929975816, 4.085355396255036, 4.085355657732968, 10.572274389031849, 7.35041480236702, 3.270254922427238, 3.2702674350850747, 3.27027003685082, 2.4551619306366255, 2.4551301302698674, 2.4551592774409063, 2.4551679820421515, 2.4551694123833436, 2.4551696715739593, 2.4551699133527642, 2.4551720480060357, 2.455225631683076, 7.32540036733771, 6.510270855723081, 3.274888868110866, 3.2749080626818774, 3.274911912350603, 3.2928861937249416, 3.313764772018176, 3.3137473910004553, 7.367456388383166, 7.38873523534162, 5.742562020703407, 6.536102140569524, 4.093282401079625, 38.685995357925485, 38.95854005410348, 12.534738140586615, 9.97901992952366, 76.39551681747795, 89.20521461842422, 7.4293141531768505, 11.498306903611963, 11.670561079947536, 20.19654221856768, 26.7693794337088, 25.155061226886296, 38.47528766842658, 21.07000279993966, 9.853022714682318, 3.3012403775413954, 2.475816529202091, 2.475816529202091, 2.4758165464635487, 2.4758161236718315, 2.47581612468412, 2.4758159927706895, 2.475816008758046, 2.475803358397311, 2.4758117284535475, 2.475764169944047, 2.4758151722317465, 2.475795563157198, 2.4757973727687386, 2.475857736856549, 2.4767167339935368, 2.4724791999316214, 2.4804715696317157, 2.4742360742129432, 11.568569392667465, 4.116276712673564, 3.2908327204497962, 3.293110200789449, 3.3135267856343242, 4.911092856810991, 3.334411969595388, 4.935986582263756, 4.960803153754764, 4.998645245295218, 5.011900248627483, 8.264582479482096, 8.368948637863342, 14.141064162152379, 8.263478604521863, 89.20521461842422, 26.33203949655908, 13.196529694458375, 5.748687049911552, 10.907864754928307, 9.978785408760789, 11.670561079947536, 28.851411248998417, 6.623731710952783, 7.464745655860988, 7.548422228740244, 17.248710200048286, 8.23796173929195, 11.540449563239372, 13.101534832296256, 9.937690379064355, 15.019389588963767, 24.78873326844256, 7.415607277147873, 2.464584702649228, 2.464584401028205, 2.4645844223558213, 2.464584253893425, 2.464582534637343, 2.464579882519836, 2.4645796796339585, 2.4645456531712386, 2.46447237706564, 2.4645884055117087, 2.464587038002595, 2.4644512041955458, 2.464590439496867, 2.4645898858445685, 2.4645906614117785, 2.464514420265665, 2.4644924030425357, 4.122131125698649, 5.7236931553798716, 3.3382422053192595, 3.338159115604805, 8.23796173929195, 8.267583896110967, 9.93899487040593, 4.971164365587436, 5.77965760153282, 4.094742041204215, 4.138233429318248, 4.148501405602345, 12.472826363104241, 10.804570305992275, 7.465699409996438, 38.47528766842658, 19.295845169860165, 11.673404989030603, 76.39551681747795, 24.78873326844256, 89.20521461842422, 7.384667229572617, 9.184125822875329, 26.33203949655908, 27.55913909000966, 11.749003586357265, 13.101534832296256, 19.955104842408023, 26.7693794337088, 38.685995357925485, 6.508775304190304, 5.734326593007509, 5.047950646310206, 10.888570910902914, 3.338341405971016, 3.3383450924370925, 2.500550654710268, 2.500550673700061, 2.500550520725737, 2.500549806627977, 2.5005495237275617, 2.500546075125266, 2.500555192323993, 2.500553811011526, 2.5005803544406953, 2.500383081410484, 2.5006220719219874, 2.498716888828311, 5.001531213768671, 4.212006767947368, 3.286452638165669, 3.317838326520156, 3.317860916053912, 3.3203075199752963, 3.320299535250537, 3.320335538560274, 3.325851102018848, 3.32594213327482, 8.39166023799567, 13.305768459567005, 7.463944656586627, 5.729513240149812, 4.14565290959234, 4.176386250107139, 30.46753102807439, 28.337062785201123, 24.78873326844256, 25.155061226886296, 14.715849539686763, 6.745650451329042, 21.07000279993966, 89.20521461842422, 16.810614135500337, 10.91105464939168, 11.540449563239372, 11.673404989030603, 14.382507641497208, 32.15010643106032, 27.55913909000966, 76.39551681747795, 13.288408217424193, 38.47528766842658, 4.971164365587436, 26.7693794337088, 5.784839887266926, 4.9121388727400195, 4.094863472233025, 14.756215254293492, 3.2777183758519066, 3.2777707351139935, 6.567123934374249, 2.459704955314504, 2.4596773510339154, 2.4597607248779827, 2.4597765043370545, 2.459710059049815, 2.459778525055435, 2.459769405291621, 2.4598092906852194, 2.4634536764935144, 4.097018879506224, 5.734326593007509, 9.853022714682318, 3.2522107977893087, 3.245689427891854, 3.3334251651312345, 11.540449563239372, 5.7147703667493746, 4.104905146254778, 7.464772413850361, 4.2073412644553505, 4.093282401079625, 4.121548829334212, 4.153462127443676, 2.4281640136048273, 5.8182788237035155, 26.33203949655908, 11.594131832670335, 11.498306903611963, 16.810614135500337, 27.55913909000966, 89.20521461842422, 25.155061226886296, 32.15010643106032, 38.47528766842658, 14.938784942412248, 7.4293141531768505, 8.282583401029145, 5.77965760153282, 4.911924911291379, 4.8645476188894206, 12.356178979253198, 3.2959676485620113, 2.4722887886655696, 2.472286540459597, 2.472320435171253, 2.4722836398006773, 2.4723252552356665, 2.4723336422971247, 2.472333917403272, 2.472335204661062, 2.4723372511298396, 2.470654953549762, 2.471162612334729, 3.2976379637808595, 3.297699913604758, 4.874304431850446, 3.310068576516606, 3.3308825691420707, 4.930742226252251, 3.3460320330114075, 3.3461889387069284, 6.707076725691184, 4.054698870708389, 5.774113055178573, 4.145920770072835, 4.163407010987246, 4.219904988881185, 14.938784942412248, 2.4345452299191166, 2.44115188224814, 4.9198421025631625, 9.937690379064355, 38.685995357925485, 76.39551681747795, 26.33203949655908, 8.282583401029145, 38.95854005410348, 10.91105464939168, 9.960035527350284, 14.382507641497208, 89.20521461842422, 38.47528766842658, 14.715849539686763, 24.78873326844256, 11.623518472180649, 12.534738140586615, 8.098257058439476, 6.623731710952783, 7.384667229572617, 4.975514464190811, 20.691060700535726, 7.958855736535706, 3.995787081334258, 3.202863993817061, 3.2028635660043743, 3.2077545853538196, 2.4101253840930976, 2.410123537684005, 2.4101272917347307, 2.410127152484637, 2.4101360592191075, 2.4101841046678323, 2.4101841062239373, 2.4101841141181874, 2.410184144493624, 2.410184153589438, 2.410184167904981, 2.410184177272189, 4.833283843503891, 4.028464549919911, 4.022247886230235, 3.2251630219091307, 3.227389807549077, 3.227491673438706, 3.2839196057952673, 2.4250017460217697, 3.2842949005777915, 8.098257058439476, 4.071487013541472, 4.071604251155145, 14.715849539686763, 15.019389588963767, 17.248710200048286, 13.196529694458375, 24.78873326844256, 11.594131832670335, 32.15010643106032, 12.472826363104241, 13.305768459567005, 27.55913909000966, 38.47528766842658, 25.155061226886296, 4.880658187903213, 6.508775304190304, 4.8645476188894206, 7.899359367475534, 4.754902217701183, 2.3968542014292744, 2.3968489741204055, 2.3968462016730028, 2.396983233917383, 2.3969832658778447, 2.3968447159226067, 2.3973342655132823, 2.398192027410027, 3.2023393850728867, 4.020565625586014, 4.009848968470197, 4.0218584700626305, 3.2118866605319445, 3.2554525724236116, 4.8738362952496175, 8.189565768508512, 5.68171707837887, 4.10827159944447, 4.0419014977527254, 8.956758380646415, 2.403423347545231, 2.4259119329449352, 2.4259314992128145, 2.4259459096879255, 2.42594835572954, 2.428182033136309, 2.428206404311454, 2.4282274356840916, 4.054698870708389, 11.517624732815165, 9.065740459293755, 5.688357088623415, 5.710764877851369, 5.729513240149812, 76.39551681747795, 13.101534832296256, 19.955104842408023, 28.337062785201123, 38.95854005410348, 26.7693794337088, 38.685995357925485, 38.47528766842658, 19.295845169860165, 20.19654221856768, 32.15010643106032, 14.715849539686763], \"Category\": [\"Default\", \"Default\", \"Default\", \"Default\", \"Default\", \"Default\", \"Default\", \"Default\", \"Default\", \"Default\", \"Default\", \"Default\", \"Default\", \"Default\", \"Default\", \"Default\", \"Default\", \"Default\", \"Default\", \"Default\", \"Default\", \"Default\", \"Default\", \"Default\", \"Default\", \"Default\", \"Default\", \"Default\", \"Default\", \"Default\", \"Topic1\", \"Topic1\", \"Topic1\", \"Topic1\", \"Topic1\", \"Topic1\", \"Topic1\", \"Topic1\", \"Topic1\", \"Topic1\", \"Topic1\", \"Topic1\", \"Topic1\", \"Topic1\", \"Topic1\", \"Topic1\", \"Topic1\", \"Topic1\", \"Topic1\", \"Topic1\", \"Topic1\", \"Topic1\", \"Topic1\", \"Topic1\", \"Topic1\", \"Topic1\", \"Topic1\", \"Topic1\", \"Topic1\", \"Topic1\", \"Topic1\", \"Topic1\", \"Topic1\", \"Topic1\", \"Topic1\", \"Topic1\", \"Topic1\", \"Topic1\", \"Topic1\", \"Topic1\", \"Topic1\", \"Topic1\", \"Topic1\", \"Topic1\", \"Topic1\", \"Topic1\", \"Topic1\", \"Topic1\", \"Topic1\", \"Topic1\", \"Topic1\", \"Topic1\", \"Topic1\", \"Topic2\", \"Topic2\", \"Topic2\", \"Topic2\", \"Topic2\", \"Topic2\", \"Topic2\", \"Topic2\", \"Topic2\", \"Topic2\", \"Topic2\", \"Topic2\", \"Topic2\", \"Topic2\", \"Topic2\", \"Topic2\", \"Topic2\", \"Topic2\", \"Topic2\", \"Topic2\", \"Topic2\", \"Topic2\", \"Topic2\", \"Topic2\", \"Topic2\", \"Topic2\", \"Topic2\", \"Topic2\", \"Topic2\", \"Topic2\", \"Topic2\", \"Topic2\", \"Topic2\", \"Topic2\", \"Topic2\", \"Topic2\", \"Topic2\", \"Topic2\", \"Topic2\", \"Topic2\", \"Topic2\", \"Topic2\", \"Topic2\", \"Topic2\", \"Topic2\", \"Topic2\", \"Topic2\", \"Topic2\", \"Topic2\", \"Topic2\", \"Topic2\", \"Topic2\", \"Topic2\", \"Topic2\", \"Topic2\", \"Topic2\", \"Topic2\", \"Topic2\", \"Topic2\", \"Topic3\", \"Topic3\", \"Topic3\", \"Topic3\", \"Topic3\", \"Topic3\", \"Topic3\", \"Topic3\", \"Topic3\", \"Topic3\", \"Topic3\", \"Topic3\", \"Topic3\", \"Topic3\", \"Topic3\", \"Topic3\", \"Topic3\", \"Topic3\", \"Topic3\", \"Topic3\", \"Topic3\", \"Topic3\", \"Topic3\", \"Topic3\", \"Topic3\", \"Topic3\", \"Topic3\", \"Topic3\", \"Topic3\", \"Topic3\", \"Topic3\", \"Topic3\", \"Topic3\", \"Topic3\", \"Topic3\", \"Topic3\", \"Topic3\", \"Topic3\", \"Topic3\", \"Topic3\", \"Topic3\", \"Topic3\", \"Topic3\", \"Topic3\", \"Topic3\", \"Topic4\", \"Topic4\", \"Topic4\", \"Topic4\", \"Topic4\", \"Topic4\", \"Topic4\", \"Topic4\", \"Topic4\", \"Topic4\", \"Topic4\", \"Topic4\", \"Topic4\", \"Topic4\", \"Topic4\", \"Topic4\", \"Topic4\", \"Topic4\", \"Topic4\", \"Topic4\", \"Topic4\", \"Topic4\", \"Topic4\", \"Topic4\", \"Topic4\", \"Topic4\", \"Topic4\", \"Topic4\", \"Topic4\", \"Topic4\", \"Topic4\", \"Topic4\", \"Topic4\", \"Topic4\", \"Topic4\", \"Topic4\", \"Topic4\", \"Topic4\", \"Topic4\", \"Topic4\", \"Topic4\", \"Topic4\", \"Topic4\", \"Topic4\", \"Topic4\", \"Topic4\", \"Topic4\", \"Topic4\", \"Topic4\", \"Topic4\", \"Topic4\", \"Topic4\", \"Topic5\", \"Topic5\", \"Topic5\", \"Topic5\", \"Topic5\", \"Topic5\", \"Topic5\", \"Topic5\", \"Topic5\", \"Topic5\", \"Topic5\", \"Topic5\", \"Topic5\", \"Topic5\", \"Topic5\", \"Topic5\", \"Topic5\", \"Topic5\", \"Topic5\", \"Topic5\", \"Topic5\", \"Topic5\", \"Topic5\", \"Topic5\", \"Topic5\", \"Topic5\", \"Topic5\", \"Topic5\", \"Topic5\", \"Topic5\", \"Topic5\", \"Topic5\", \"Topic5\", \"Topic5\", \"Topic5\", \"Topic5\", \"Topic5\", \"Topic5\", \"Topic5\", \"Topic5\", \"Topic5\", \"Topic5\", \"Topic5\", \"Topic5\", \"Topic5\", \"Topic5\", \"Topic5\", \"Topic5\", \"Topic5\", \"Topic5\", \"Topic5\", \"Topic5\", \"Topic6\", \"Topic6\", \"Topic6\", \"Topic6\", \"Topic6\", \"Topic6\", \"Topic6\", \"Topic6\", \"Topic6\", \"Topic6\", \"Topic6\", \"Topic6\", \"Topic6\", \"Topic6\", \"Topic6\", \"Topic6\", \"Topic6\", \"Topic6\", \"Topic6\", \"Topic6\", \"Topic6\", \"Topic6\", \"Topic6\", \"Topic6\", \"Topic6\", \"Topic6\", \"Topic6\", \"Topic6\", \"Topic6\", \"Topic6\", \"Topic6\", \"Topic6\", \"Topic6\", \"Topic6\", \"Topic6\", \"Topic6\", \"Topic6\", \"Topic6\", \"Topic6\", \"Topic6\", \"Topic6\", \"Topic6\", \"Topic6\", \"Topic6\", \"Topic6\", \"Topic6\", \"Topic6\", \"Topic6\", \"Topic6\", \"Topic6\", \"Topic6\", \"Topic7\", \"Topic7\", \"Topic7\", \"Topic7\", \"Topic7\", \"Topic7\", \"Topic7\", \"Topic7\", \"Topic7\", \"Topic7\", \"Topic7\", \"Topic7\", \"Topic7\", \"Topic7\", \"Topic7\", \"Topic7\", \"Topic7\", \"Topic7\", \"Topic7\", \"Topic7\", \"Topic7\", \"Topic7\", \"Topic7\", \"Topic7\", \"Topic7\", \"Topic7\", \"Topic7\", \"Topic7\", \"Topic7\", \"Topic7\", \"Topic7\", \"Topic7\", \"Topic7\", \"Topic7\", \"Topic7\", \"Topic7\", \"Topic7\", \"Topic7\", \"Topic7\", \"Topic7\", \"Topic7\", \"Topic7\", \"Topic7\", \"Topic7\", \"Topic7\", \"Topic7\", \"Topic8\", \"Topic8\", \"Topic8\", \"Topic8\", \"Topic8\", \"Topic8\", \"Topic8\", \"Topic8\", \"Topic8\", \"Topic8\", \"Topic8\", \"Topic8\", \"Topic8\", \"Topic8\", \"Topic8\", \"Topic8\", \"Topic8\", \"Topic8\", \"Topic8\", \"Topic8\", \"Topic8\", \"Topic8\", \"Topic8\", \"Topic8\", \"Topic8\", \"Topic8\", \"Topic8\", \"Topic8\", \"Topic8\", \"Topic8\", \"Topic8\", \"Topic8\", \"Topic8\", \"Topic8\", \"Topic8\", \"Topic8\", \"Topic8\", \"Topic8\", \"Topic8\", \"Topic8\", \"Topic8\", \"Topic8\", \"Topic8\", \"Topic8\", \"Topic8\", \"Topic8\", \"Topic8\", \"Topic8\", \"Topic8\", \"Topic8\", \"Topic9\", \"Topic9\", \"Topic9\", \"Topic9\", \"Topic9\", \"Topic9\", \"Topic9\", \"Topic9\", \"Topic9\", \"Topic9\", \"Topic9\", \"Topic9\", \"Topic9\", \"Topic9\", \"Topic9\", \"Topic9\", \"Topic9\", \"Topic9\", \"Topic9\", \"Topic9\", \"Topic9\", \"Topic9\", \"Topic9\", \"Topic9\", \"Topic9\", \"Topic9\", \"Topic9\", \"Topic9\", \"Topic9\", \"Topic9\", \"Topic9\", \"Topic9\", \"Topic9\", \"Topic9\", \"Topic9\", \"Topic9\", \"Topic9\", \"Topic9\", \"Topic9\", \"Topic9\", \"Topic9\", \"Topic9\", \"Topic9\", \"Topic9\", \"Topic9\", \"Topic10\", \"Topic10\", \"Topic10\", \"Topic10\", \"Topic10\", \"Topic10\", \"Topic10\", \"Topic10\", \"Topic10\", \"Topic10\", \"Topic10\", \"Topic10\", \"Topic10\", \"Topic10\", \"Topic10\", \"Topic10\", \"Topic10\", \"Topic10\", \"Topic10\", \"Topic10\", \"Topic10\", \"Topic10\", \"Topic10\", \"Topic10\", \"Topic10\", \"Topic10\", \"Topic10\", \"Topic10\", \"Topic10\", \"Topic10\", \"Topic10\", \"Topic10\", \"Topic10\", \"Topic10\", \"Topic10\", \"Topic10\", \"Topic10\", \"Topic10\", \"Topic10\", \"Topic10\", \"Topic10\", \"Topic10\", \"Topic10\", \"Topic10\", \"Topic10\", \"Topic10\", \"Topic10\", \"Topic10\"], \"logprob\": [30.0, 29.0, 28.0, 27.0, 26.0, 25.0, 24.0, 23.0, 22.0, 21.0, 20.0, 19.0, 18.0, 17.0, 16.0, 15.0, 14.0, 13.0, 12.0, 11.0, 10.0, 9.0, 8.0, 7.0, 6.0, 5.0, 4.0, 3.0, 2.0, 1.0, -4.1614, -4.1367, -5.3189, -3.2612, -5.7059, -5.7059, -5.7059, -5.7059, -5.7059, -5.708, -5.7143, -3.7533, -5.3308, -5.0727, -4.1908, -5.0952, -5.466, -5.7059, -5.7061, -5.7059, -5.7059, -5.7061, -5.7061, -5.708, -5.3192, -5.7271, -5.3164, -5.3176, -4.2412, -4.4919, -3.4892, -3.6069, -4.2764, -2.8668, -4.0168, -5.1317, -3.174, -4.2872, -4.0573, -4.1306, -4.3412, -4.6921, -4.7955, -5.0368, -4.8855, -4.2229, -4.9231, -4.6873, -4.8554, -4.5225, -4.704, -5.0676, -5.0131, -4.2623, -4.5933, -4.8106, -4.8118, -4.812, -4.8145, -5.0896, -5.0901, -5.0902, -4.5939, -5.4789, -5.4789, -5.4789, -5.4789, -5.4789, -5.4789, -5.4792, -5.4792, -5.4793, -5.4795, -5.4795, -5.4796, -5.4797, -5.4797, -5.4808, -5.4809, -5.4812, -5.4813, -5.4815, -5.4852, -4.0232, -4.6006, -4.4662, -4.8107, -5.0898, -5.0903, -5.0901, -5.09, -5.0915, -4.5921, -3.5194, -5.0903, -5.0899, -5.0908, -4.6425, -3.6942, -4.3266, -4.8103, -4.8184, -4.8105, -4.4476, -4.442, -4.2403, -4.6514, -4.7274, -4.7628, -4.9217, -5.0894, -5.0894, -2.8159, -4.5858, -4.5859, -3.6462, -4.0409, -4.8654, -4.8656, -4.8657, -5.2549, -5.2549, -5.255, -5.2551, -5.2552, -5.2552, -5.2552, -5.2553, -5.2558, -4.1888, -4.3682, -5.2549, -5.255, -5.2551, -5.2553, -5.255, -5.257, -4.5881, -4.5864, -4.851, -4.7682, -5.2547, -3.1515, -3.1766, -4.2194, -4.481, -3.3185, -3.7637, -4.9909, -4.8655, -4.8652, -4.8874, -4.8496, -4.8654, -4.8654, -5.2535, -5.2546, -4.8227, -5.2122, -5.2122, -5.2122, -5.2122, -5.2122, -5.2122, -5.2122, -5.2122, -5.2122, -5.2123, -5.2124, -5.2127, -5.2133, -5.2134, -5.2255, -5.2611, -5.2614, -5.2855, -3.7588, -4.8226, -5.2122, -5.2122, -5.2126, -4.8229, -5.2122, -4.8233, -4.8231, -4.823, -4.8486, -4.5437, -4.5436, -4.1853, -4.5679, -3.1052, -3.8964, -4.348, -4.8225, -4.5436, -4.5869, -4.5431, -4.2005, -4.8391, -4.8227, -4.8227, -4.5484, -4.8232, -4.7349, -4.7325, -4.8228, -4.8234, -4.7776, -3.9728, -5.2106, -5.2106, -5.2106, -5.2106, -5.2106, -5.2106, -5.2106, -5.2106, -5.2107, -5.2106, -5.2106, -5.2107, -5.2107, -5.2107, -5.2107, -5.2115, -5.2116, -4.8212, -4.5516, -5.2107, -5.2235, -4.3267, -4.324, -4.2013, -4.8944, -4.8386, -5.2105, -5.2108, -5.2106, -4.345, -4.5437, -4.8238, -3.7863, -4.2424, -4.5426, -3.6977, -4.3233, -3.9108, -4.8683, -4.8212, -4.5415, -4.5421, -4.8217, -4.8354, -4.821, -4.824, -4.7953, -5.0651, -5.1448, -5.1935, -5.1949, -4.7903, -4.7904, -5.1798, -5.1798, -5.1798, -5.1798, -5.1798, -5.1798, -5.1801, -5.1807, -5.1807, -5.1819, -5.1819, -5.1991, -4.5111, -4.7914, -5.1807, -5.1798, -5.1798, -5.1795, -5.1798, -5.1807, -5.1807, -5.1807, -4.2924, -3.8682, -4.5173, -4.8029, -5.18, -5.1807, -3.2985, -3.4143, -3.8491, -3.9248, -4.2588, -4.7903, -4.2373, -3.5944, -4.511, -4.7903, -4.7903, -4.7909, -4.7902, -4.6413, -4.7901, -4.7903, -5.0994, -5.1787, -5.1794, -5.1796, -5.1797, -4.2121, -4.4308, -3.2025, -4.7126, -4.7129, -4.0312, -5.0966, -5.0966, -5.0971, -5.0973, -5.0975, -5.0975, -5.0975, -5.0975, -5.1417, -4.7358, -4.463, -3.9681, -5.0966, -5.0988, -5.0966, -3.9286, -4.7076, -5.0975, -4.5164, -5.0966, -5.1381, -5.1493, -5.158, -5.7432, -4.8728, -3.6536, -4.3394, -4.4386, -4.3569, -4.2643, -3.8074, -4.6385, -4.5865, -4.9085, -5.0293, -5.0965, -5.0966, -5.0966, -5.0966, -5.0966, -3.151, -4.6659, -5.0553, -5.0553, -5.0554, -5.0554, -5.0554, -5.0555, -5.0555, -5.0555, -5.0556, -5.0759, -5.1275, -5.0554, -5.0555, -4.6658, -5.0555, -5.0568, -4.6658, -5.0551, -5.0562, -4.423, -4.9395, -4.6658, -5.0553, -5.0551, -5.0554, -3.8395, -5.7024, -5.7018, -5.056, -4.4117, -3.3174, -3.0185, -3.8372, -4.6659, -3.9452, -4.5659, -4.666, -4.5388, -4.1479, -4.3854, -4.7244, -4.6619, -4.9502, -4.9641, -5.0544, -5.0551, -5.0552, -5.0553, -2.5426, -3.5138, -4.3116, -4.5905, -4.5906, -4.6252, -4.9785, -4.9785, -4.9785, -4.9785, -4.9786, -4.9794, -4.9794, -4.9794, -4.9794, -4.9794, -4.9794, -4.9794, -4.311, -4.591, -4.5942, -4.9785, -4.9785, -4.9793, -4.9794, -5.2864, -4.9861, -4.0915, -4.9785, -4.9793, -4.0919, -4.3084, -4.3094, -4.5888, -4.5888, -4.9497, -4.9316, -4.9543, -4.9721, -4.9747, -4.9778, -4.9784, -4.9785, -4.9785, -4.9785, -3.4897, -4.0677, -4.954, -4.954, -4.954, -4.9549, -4.9549, -4.9553, -4.9602, -4.9616, -4.7743, -4.5651, -4.5711, -4.5707, -4.9553, -4.954, -4.5651, -4.0677, -4.5674, -4.9549, -4.9913, -4.285, -5.6007, -5.6006, -5.6007, -5.6007, -5.6007, -5.6007, -5.6007, -5.6007, -5.1003, -4.0948, -4.5645, -4.954, -4.954, -4.9579, -3.0773, -4.3858, -4.1139, -3.9093, -3.8793, -4.2381, -4.2346, -4.2536, -4.7744, -4.859, -4.954, -4.954], \"loglift\": [30.0, 29.0, 28.0, 27.0, 26.0, 25.0, 24.0, 23.0, 22.0, 21.0, 20.0, 19.0, 18.0, 17.0, 16.0, 15.0, 14.0, 13.0, 12.0, 11.0, 10.0, 9.0, 8.0, 7.0, 6.0, 5.0, 4.0, 3.0, 2.0, 1.0, 1.6943, 1.6338, 1.5536, 1.4731, 1.4575, 1.4575, 1.4575, 1.4575, 1.4575, 1.4555, 1.4494, 1.3377, 1.313, 1.2502, 1.2397, 1.2249, 1.195, 1.1881, 1.188, 1.1794, 1.1727, 1.162, 1.1619, 1.16, 1.1567, 1.1555, 1.1508, 1.15, 1.1459, 1.1408, 1.1369, 1.0729, 0.9981, 0.7388, 0.8546, 1.0556, 0.5866, 0.8494, 0.6951, 0.6787, 0.7074, 0.8175, 0.8571, 0.9568, 0.8212, 0.2111, 0.7229, 0.4158, 0.5372, -0.0815, 0.0762, 0.8114, 0.4344, 1.8967, 1.8557, 1.8226, 1.8214, 1.8213, 1.8189, 1.7695, 1.7691, 1.769, 1.709, 1.6727, 1.6727, 1.6727, 1.6727, 1.6727, 1.6727, 1.6723, 1.6723, 1.6723, 1.6721, 1.6721, 1.672, 1.6719, 1.6719, 1.6709, 1.6707, 1.6704, 1.6704, 1.6702, 1.6666, 1.5887, 1.5757, 1.4831, 1.502, 1.5639, 1.556, 1.5557, 1.5545, 1.5453, 1.3662, 0.9271, 1.3791, 1.3718, 1.3682, 0.9255, -0.0886, 0.4535, 0.8967, 0.8904, 0.7625, 0.1785, -0.0079, -0.4797, 0.1578, 0.3213, 0.3402, 0.215, 0.8026, 0.1594, 2.2657, 2.1033, 2.1032, 2.0921, 2.0608, 2.0463, 2.046, 2.046, 1.9435, 1.9435, 1.9433, 1.9432, 1.9431, 1.9431, 1.9431, 1.943, 1.9425, 1.9164, 1.8549, 1.6554, 1.6552, 1.6551, 1.6495, 1.6435, 1.6415, 1.5114, 1.5102, 1.4976, 1.451, 1.4325, 1.2895, 1.2574, 1.3486, 1.315, 0.442, -0.1582, 1.1002, 0.7889, 0.7742, 0.2036, -0.0404, 0.006, -0.4189, -0.2048, 0.5541, 2.0795, 1.9777, 1.9777, 1.9777, 1.9777, 1.9777, 1.9777, 1.9777, 1.9777, 1.9777, 1.9777, 1.9775, 1.9773, 1.9767, 1.9765, 1.964, 1.9302, 1.9267, 1.9051, 1.8895, 1.859, 1.6931, 1.6925, 1.6859, 1.6821, 1.68, 1.6766, 1.6719, 1.6643, 1.6361, 1.4409, 1.4284, 1.2621, 1.4168, 0.5004, 0.9293, 1.1685, 1.525, 1.1635, 1.2091, 1.0963, 0.5339, 1.3668, 1.2636, 1.2524, 0.7003, 1.1645, 0.9157, 0.7913, 0.9774, 0.5638, 0.1085, 2.1201, 1.9839, 1.9839, 1.9839, 1.9839, 1.9839, 1.9839, 1.9839, 1.9839, 1.9839, 1.9839, 1.9839, 1.9838, 1.9838, 1.9838, 1.9838, 1.983, 1.9829, 1.8589, 1.8003, 1.6804, 1.6676, 1.661, 1.6602, 1.5987, 1.5984, 1.5036, 1.4763, 1.4654, 1.4631, 1.2279, 1.1729, 1.2624, 0.6602, 0.8942, 1.0966, 0.0629, 0.5628, -0.3052, 1.2288, 1.0579, 0.2842, 0.2381, 0.811, 0.6883, 0.282, -0.0147, -0.3543, 1.1583, 1.2053, 1.284, 0.5139, 2.1007, 2.1007, 2.0002, 2.0002, 2.0002, 2.0002, 2.0002, 2.0002, 1.9999, 1.9993, 1.9993, 1.9981, 1.998, 1.9816, 1.9756, 1.8671, 1.726, 1.7174, 1.7174, 1.717, 1.7166, 1.7158, 1.7141, 1.7141, 1.6768, 1.6401, 1.5691, 1.548, 1.4945, 1.4864, 1.3813, 1.3381, 1.037, 0.9466, 1.1488, 1.3973, 0.8114, 0.0112, 0.7635, 0.9164, 0.8604, 0.8483, 0.6403, -0.0152, -0.0099, -1.0297, 0.4102, -0.7322, 1.3135, -0.3703, 1.1615, 2.2927, 2.256, 2.2023, 2.1968, 2.1964, 2.1832, 2.0999, 2.0999, 2.0993, 2.0992, 2.099, 2.099, 2.099, 2.099, 2.0533, 1.9504, 1.8871, 1.8407, 1.8206, 1.8204, 1.7959, 1.7221, 1.6459, 1.5869, 1.57, 1.563, 1.549, 1.531, 1.5145, 1.4661, 1.4627, 1.1722, 1.3066, 1.2157, 0.9176, 0.5159, -0.2019, 0.233, 0.0396, -0.462, 0.3633, 0.9945, 0.8858, 1.2456, 1.4083, 1.418, 2.4314, 2.2379, 2.1361, 2.136, 2.136, 2.136, 2.136, 2.1358, 2.1358, 2.1358, 2.1358, 2.1162, 2.0643, 1.8479, 1.8478, 1.8467, 1.844, 1.8364, 1.8353, 1.8337, 1.8325, 1.7704, 1.7571, 1.6773, 1.619, 1.6151, 1.6013, 1.5531, 1.5044, 1.5023, 1.4472, 1.3885, 1.1236, 0.7421, 0.9885, 1.3165, 0.4888, 1.1408, 1.132, 0.8917, -0.5423, 0.0611, 0.6832, 0.2242, 0.6932, 0.6039, 0.9505, 1.1508, 1.0419, 1.4367, 2.5242, 2.5084, 2.3996, 2.3419, 2.3419, 2.3057, 2.2384, 2.2384, 2.2384, 2.2383, 2.2382, 2.2375, 2.2375, 2.2375, 2.2375, 2.2375, 2.2375, 2.2375, 2.21, 2.1121, 2.1105, 1.9471, 1.9464, 1.9455, 1.9281, 1.9243, 1.9213, 1.9133, 1.714, 1.7131, 1.3157, 1.0788, 0.9394, 0.9277, 0.2973, 0.6963, -0.3055, 0.6187, 0.5362, -0.1946, -0.5313, -0.107, 1.5328, 1.2449, 1.536, 2.5401, 2.4697, 2.2683, 2.2683, 2.2683, 2.2674, 2.2674, 2.2671, 2.262, 2.2601, 2.1584, 2.14, 2.1366, 2.1341, 1.9744, 1.9622, 1.9475, 1.9259, 1.7919, 1.7286, 1.7085, 1.6191, 1.619, 1.6097, 1.6096, 1.6096, 1.6096, 1.6087, 1.6087, 1.6087, 1.5964, 1.5578, 1.3275, 1.4041, 1.4002, 1.393, 0.6833, 1.138, 0.9891, 0.8431, 0.5547, 0.5711, 0.2064, 0.1929, 0.3622, 0.232, -0.3279, 0.4536]}, \"token.table\": {\"Topic\": [6, 9, 6, 7, 5, 6, 10, 9, 6, 8, 9, 6, 7, 9, 8, 9, 10, 1, 7, 8, 4, 7, 9, 7, 5, 6, 1, 3, 5, 7, 8, 9, 1, 5, 6, 8, 6, 9, 3, 3, 5, 7, 8, 4, 6, 6, 3, 9, 1, 3, 4, 9, 9, 3, 2, 10, 5, 1, 2, 8, 2, 3, 7, 2, 5, 1, 3, 5, 8, 4, 1, 2, 3, 5, 6, 8, 9, 10, 3, 1, 4, 5, 7, 7, 1, 2, 3, 4, 5, 6, 7, 8, 1, 2, 3, 4, 5, 9, 1, 4, 5, 6, 9, 1, 2, 4, 3, 6, 8, 10, 1, 2, 3, 5, 6, 7, 2, 1, 2, 3, 4, 5, 6, 10, 3, 5, 7, 8, 9, 6, 7, 3, 4, 3, 7, 9, 2, 4, 5, 6, 7, 8, 10, 3, 1, 6, 9, 1, 6, 7, 6, 7, 10, 1, 7, 5, 9, 2, 5, 3, 1, 2, 5, 7, 9, 10, 6, 1, 5, 6, 10, 1, 3, 4, 2, 4, 6, 3, 4, 6, 8, 6, 9, 7, 10, 9, 5, 9, 2, 7, 10, 3, 6, 7, 1, 2, 6, 7, 8, 9, 10, 9, 2, 3, 5, 6, 7, 9, 2, 3, 4, 5, 6, 7, 8, 9, 10, 1, 1, 2, 3, 4, 8, 10, 3, 9, 6, 10, 4, 3, 4, 5, 7, 1, 8, 10, 6, 10, 3, 10, 2, 5, 6, 8, 9, 10, 4, 9, 1, 5, 7, 8, 9, 1, 6, 7, 7, 10, 5, 1, 2, 4, 5, 8, 9, 8, 1, 4, 7, 10, 1, 2, 6, 5, 1, 3, 4, 5, 10, 4, 10, 1, 2, 6, 1, 10, 1, 4, 5, 9, 1, 2, 3, 8, 8, 9, 8, 2, 3, 4, 5, 6, 6, 4, 5, 6, 2, 4, 6, 9, 3, 10, 9, 5, 4, 4, 2, 1, 2, 4, 9, 4, 6, 5, 10, 1, 3, 8, 10, 1, 6, 8, 1, 10, 7, 10, 2, 9, 1, 10, 4, 2, 2, 3, 4, 6, 10, 1, 2, 2, 3, 4, 7, 8, 3, 10, 3, 1, 3, 5, 7, 1, 5, 6, 8, 2, 7, 8, 2, 4, 8, 1, 5, 7, 5, 10, 3, 5, 8, 2, 5, 2, 6, 10, 4, 3, 5, 6, 10, 10, 1, 8, 8, 10, 1, 2, 3, 8, 9, 10, 4, 5, 9, 1, 2, 3, 6, 7, 8, 10, 8, 1, 6, 8, 1, 2, 3, 5, 6, 8, 9, 10, 1, 8, 1, 9, 10, 7, 10, 5, 2, 2, 7, 2, 2, 5, 1, 3, 4, 6, 7, 8, 9, 3, 7, 8, 4, 5, 6, 7, 9, 2, 5, 6, 1, 4, 6, 7, 7, 7, 7, 10, 1, 5, 6, 7, 8, 9, 10, 3, 5, 4, 5, 6, 10, 4, 7, 1, 2, 3, 4, 8, 9, 2, 7, 2, 3, 7, 2, 3, 6, 2, 6, 3, 6, 1, 3, 7, 9, 2, 4, 7, 9, 1, 1, 2, 4, 6, 10, 5, 6, 3, 5, 2, 3, 5, 8, 6, 1, 3, 4, 6, 8, 10, 5, 10, 2, 2, 9, 2, 5, 2, 4, 10, 1, 3, 4, 5, 10, 5, 7, 2, 3, 4, 5, 7, 9, 5, 6, 9, 4, 5, 9, 3, 4, 7, 1, 2, 6, 7, 10, 1, 5, 7, 4, 4, 8, 1, 3, 4, 5, 8, 10, 1, 4, 6, 8, 9, 2, 5, 6, 7, 2, 3, 5, 6, 7, 1, 2, 6, 10, 2, 8, 1, 2, 3, 4, 5, 6, 7, 8, 9, 10, 7, 9, 2, 3, 5, 8, 9, 4, 6, 7, 8, 8, 1, 4, 5, 7, 1, 4, 5, 8, 9, 1, 3, 4, 6, 8, 5, 6, 3, 5, 1, 3, 6, 7, 8, 3, 7, 1, 2, 4, 7, 8, 5, 1, 6, 7, 10, 7, 2, 2, 4, 5, 4, 6, 2, 6, 8, 4, 8, 2, 9, 3, 2, 1, 2, 7, 9, 10, 2, 3, 4, 6, 7, 8, 1, 2, 3, 5, 6, 7, 9, 2, 4, 8, 5, 7, 9, 8, 2, 10, 1, 2, 3, 4, 5, 6, 7, 8, 9, 10, 6, 8, 5, 7, 10, 9, 5, 6, 7, 6, 4, 1, 2, 3, 4, 5, 6, 7, 8, 9, 10, 7, 9, 7, 6, 1, 3, 7, 10, 2, 8, 5, 3, 10, 4, 7, 10, 6, 1, 10, 1, 3, 8, 1, 4, 5, 8, 2, 2, 9, 2, 7, 1, 3, 9, 2, 8, 2, 5, 6, 3, 1, 2, 3, 4, 5, 6, 7, 10, 2, 1, 2, 5, 6, 9, 10, 2, 4, 2, 6, 9, 3, 10, 2, 7, 2, 6, 10, 1, 2, 8, 5, 7, 2, 3, 7, 9, 1, 6, 1, 5, 1, 3, 2, 9, 3, 1, 3, 5, 6, 7, 4, 6, 5, 1, 2, 8, 4, 1, 6, 3, 10, 4, 2, 3, 5, 7, 9, 9, 2, 1, 2, 4, 7, 9, 10, 1, 4, 6, 7, 8, 10, 4, 1, 3, 4, 8, 4, 2, 3, 4, 5, 10, 1, 2, 6, 8, 9, 4, 2, 5, 6, 8, 7, 2, 4, 8, 2, 8, 10, 4, 5, 7, 9, 6, 1, 2, 4, 10, 4, 6, 7, 3, 5, 6, 8, 9, 2, 5, 3, 3, 1, 4, 2, 8, 5, 6, 1, 2, 5, 8, 9, 10, 1, 2, 3, 5, 6, 7, 8, 10, 1, 2, 4, 5, 7, 8, 9, 10, 1, 2, 1, 3, 5, 1, 5, 10, 4], \"Freq\": [0.2068986702165312, 0.6206960106495936, 0.6027980227630199, 0.30139901138150993, 0.8114973323385078, 0.6085588992745377, 0.30427944963726883, 0.8298317364451786, 0.24560343744515256, 0.24560343744515256, 0.4912068748903051, 0.15227366043234045, 0.7613683021617023, 0.8298329810603357, 0.6154724313887595, 0.2051574771295865, 0.2051574771295865, 0.7866698068598886, 0.8130813321719388, 0.8095019489170112, 0.6108619990435377, 0.20362066634784587, 0.20362066634784587, 0.8130711627009376, 0.3011769223133405, 0.602353844626681, 0.267759393780663, 0.06693984844516575, 0.06693984844516575, 0.1338796968903315, 0.4016390906709945, 0.06693984844516575, 0.3666006750523434, 0.09165016876308585, 0.27495050628925755, 0.27495050628925755, 0.04833005008651434, 0.9182709516437724, 0.8146075712001589, 0.40719616674356296, 0.13573205558118764, 0.2714641111623753, 0.13573205558118764, 0.3006749157811013, 0.6013498315622026, 0.7998238232223477, 0.8146111001338643, 0.8298323453211447, 0.30177157064500143, 0.6035431412900029, 0.8078211423279024, 0.829812102684854, 0.8795234179036555, 0.8146068629383008, 0.7774162861256322, 0.886147809507374, 0.8115327315542199, 0.19498271250909127, 0.5849481375272738, 0.19498271250909127, 0.6719765195020773, 0.16799412987551932, 0.16799412987551932, 0.29956630746728824, 0.5991326149345765, 0.5106816042653263, 0.17022720142177541, 0.25534080213266314, 0.08511360071088771, 0.8078158678282249, 0.3010647870208269, 0.07853864009238963, 0.15707728018477926, 0.10471818678985284, 0.039269320046194815, 0.17016705353351086, 0.013089773348731605, 0.14398750683604764, 0.9173596772001339, 0.7278673413498628, 0.1733017479404435, 0.0346603495880887, 0.0346603495880887, 0.8131056514232518, 0.3475133167113903, 0.12331117689759011, 0.08968085592552008, 0.15694149786966013, 0.06726064194414005, 0.10089096291621008, 0.06726064194414005, 0.04484042796276004, 0.09167697092578891, 0.36670788370315566, 0.09167697092578891, 0.27503091277736674, 0.09167697092578891, 0.09167697092578891, 0.15031074725804178, 0.15031074725804178, 0.07515537362902089, 0.5260876154031462, 0.15031074725804178, 0.5882103150187563, 0.19607010500625208, 0.19607010500625208, 0.3515953673161544, 0.1757976836580772, 0.1757976836580772, 0.3515953673161544, 0.08566480824915192, 0.17132961649830383, 0.08566480824915192, 0.25699442474745576, 0.25699442474745576, 0.17132961649830383, 0.7774828215341012, 0.20042519385616983, 0.10021259692808492, 0.10021259692808492, 0.30063779078425473, 0.10021259692808492, 0.10021259692808492, 0.10021259692808492, 0.8146077374182134, 0.3072774687293958, 0.1536387343646979, 0.1536387343646979, 0.3072774687293958, 0.6028021269190827, 0.3014010634595414, 0.30387445517538136, 0.6077489103507627, 0.6825565497134956, 0.1365113099426991, 0.1365113099426991, 0.037976549447705114, 0.2278592966862307, 0.11392964834311535, 0.037976549447705114, 0.2658358461339358, 0.2278592966862307, 0.037976549447705114, 0.8146076514206209, 0.5091482574895819, 0.16971608582986064, 0.16971608582986064, 0.23944145491196997, 0.47888290982393994, 0.23944145491196997, 0.8986498488842835, 0.41182660511249314, 0.41182660511249314, 0.8821154335604356, 0.8131039642829282, 0.4123708371099139, 0.4123708371099139, 0.7776287881602151, 0.8115086029859145, 0.814610219816091, 0.18367883318805092, 0.36735766637610184, 0.18367883318805092, 0.18367883318805092, 0.09183941659402546, 0.09183941659402546, 0.7998143296808152, 0.1728656314587221, 0.3457312629174442, 0.3457312629174442, 0.1728656314587221, 0.3017731534744685, 0.603546306948937, 0.8083303047936531, 0.19952512029221883, 0.39905024058443767, 0.19952512029221883, 0.24293799222027757, 0.7288139766608327, 0.3021085445463378, 0.6042170890926756, 0.7998238292964054, 0.7507907550965532, 0.8131147766837419, 0.8344270581028144, 0.829812105909928, 0.24861719821480927, 0.49723439642961853, 0.20517718269993396, 0.20517718269993396, 0.4103543653998679, 0.522414906305623, 0.17413830210187436, 0.34827660420374873, 0.528769633669898, 0.15552048049114647, 0.09331228829468789, 0.09331228829468789, 0.031104096098229297, 0.062208192196458595, 0.062208192196458595, 0.6244411263983989, 0.32069716065577286, 0.08017429016394322, 0.32069716065577286, 0.08017429016394322, 0.08017429016394322, 0.16034858032788643, 0.17392604810483753, 0.05797534936827917, 0.17392604810483753, 0.05797534936827917, 0.05797534936827917, 0.11595069873655835, 0.11595069873655835, 0.17392604810483753, 0.11595069873655835, 0.7866699200676528, 0.20534650397294252, 0.12834156498308907, 0.3593563819526494, 0.05133662599323563, 0.12834156498308907, 0.12834156498308907, 0.3100618459305203, 0.6201236918610405, 0.2486412705577945, 0.497282541115589, 0.8062982960522087, 0.8146082119955176, 0.24361098840794831, 0.24361098840794831, 0.48722197681589663, 0.4019684827356378, 0.4019684827356378, 0.2009842413678189, 0.8004108064190628, 0.8344303603457052, 0.8512832403722895, 0.09458702670803218, 0.06795394294451897, 0.06795394294451897, 0.27181577177807587, 0.13590788588903793, 0.27181577177807587, 0.13590788588903793, 0.2482335360304662, 0.4964670720609324, 0.34500211466706504, 0.08625052866676626, 0.34500211466706504, 0.08625052866676626, 0.17250105733353252, 0.5933766517354164, 0.19779221724513882, 0.19779221724513882, 0.4118230381983454, 0.4118230381983454, 0.8114945260341558, 0.18510685231885518, 0.09255342615942759, 0.09255342615942759, 0.2776602784782828, 0.18510685231885518, 0.09255342615942759, 0.8089517943317013, 0.2999029541395703, 0.5998059082791406, 0.41183379475071386, 0.41183379475071386, 0.5854832675945759, 0.29274163379728796, 0.7998223779020923, 0.811539703685408, 0.34729382948234944, 0.08682345737058736, 0.08682345737058736, 0.08682345737058736, 0.34729382948234944, 0.24938595140692077, 0.49877190281384154, 0.1944519405035449, 0.5833558215106346, 0.1944519405035449, 0.4884263846297289, 0.4884263846297289, 0.5326448157306202, 0.19974180589898255, 0.06658060196632752, 0.19974180589898255, 0.11681637130196625, 0.5840818565098312, 0.11681637130196625, 0.11681637130196625, 0.4096426802739803, 0.4096426802739803, 0.8089550498117435, 0.2570570497381336, 0.2570570497381336, 0.2570570497381336, 0.17137136649208906, 0.08568568324604453, 0.7998228197260664, 0.2412165277238162, 0.2412165277238162, 0.4824330554476324, 0.13397741355404352, 0.13397741355404352, 0.40193224066213057, 0.26795482710808705, 0.4122099292172592, 0.4122099292172592, 0.8298121139703195, 0.81149403861756, 0.8078147441826856, 0.807814433414425, 0.8704420498167335, 0.35846796650504037, 0.1194893221683468, 0.35846796650504037, 0.1194893221683468, 0.19993877020043557, 0.5998163106013068, 0.8115261372000591, 0.8343821398914859, 0.15299638507681965, 0.4589891552304589, 0.15299638507681965, 0.15299638507681965, 0.5562312358463802, 0.2085867134423926, 0.2085867134423926, 0.6009189534804841, 0.30045947674024204, 0.7326251584070591, 0.8339615748618504, 0.3044793571442304, 0.6089587142884608, 0.6009157609172386, 0.3004578804586193, 0.8078185988465102, 0.7774043168357911, 0.0864411117794593, 0.0864411117794593, 0.6050877824562152, 0.0864411117794593, 0.0864411117794593, 0.23229623990735535, 0.696888719722066, 0.13460192682421296, 0.2692038536484259, 0.13460192682421296, 0.2692038536484259, 0.13460192682421296, 0.41221611816140835, 0.41221611816140835, 0.9173561672095959, 0.20122759152991854, 0.10061379576495927, 0.5030689788247963, 0.10061379576495927, 0.12095432142761749, 0.48381728571046995, 0.12095432142761749, 0.24190864285523497, 0.24018790316704478, 0.24018790316704478, 0.48037580633408955, 0.7774279500128105, 0.8075206875899515, 0.8089677176449784, 0.7866697981539121, 0.3487767861772677, 0.5231651792659016, 0.8114938563213323, 0.8344298431013206, 0.610704166871227, 0.3053520834356135, 0.8093356503603059, 0.29955885118418574, 0.5991177023683715, 0.2434113655327029, 0.2434113655327029, 0.4868227310654058, 0.8078143014274819, 0.9810508589368698, 0.17453489643630749, 0.5236046893089225, 0.34906979287261497, 0.8343821287661523, 0.5940725107239104, 0.2970362553619552, 0.41075433214819473, 0.41075433214819473, 0.64367453890441, 0.04951342606957, 0.09902685213914, 0.04951342606957, 0.04951342606957, 0.09902685213914, 0.40978079656490407, 0.20489039828245204, 0.40978079656490407, 0.33222586947259664, 0.18984335398434093, 0.09492167699217047, 0.23730419248042617, 0.047460838496085234, 0.047460838496085234, 0.09492167699217047, 0.808952215524604, 0.5077677065106266, 0.1692559021702089, 0.1692559021702089, 0.2580974089024853, 0.08603246963416177, 0.08603246963416177, 0.08603246963416177, 0.17206493926832353, 0.17206493926832353, 0.08603246963416177, 0.08603246963416177, 0.30022073106515074, 0.6004414621303015, 0.7868661527684969, 0.4160731820390126, 0.4160731820390126, 0.6162019023795027, 0.30810095118975134, 0.8114937832533823, 0.9259209130749677, 0.6654462348621527, 0.16636155871553818, 0.926057630846053, 0.7774608198771061, 0.8114964590927343, 0.3012037448824346, 0.10040124829414487, 0.10040124829414487, 0.10040124829414487, 0.10040124829414487, 0.3012037448824346, 0.10040124829414487, 0.4065171113841297, 0.20325855569206486, 0.4065171113841297, 0.36416775107016325, 0.4855570014268843, 0.12138925035672107, 0.6149662873512076, 0.3074831436756038, 0.3962003870742868, 0.3962003870742868, 0.1981001935371434, 0.17187213440614538, 0.17187213440614538, 0.17187213440614538, 0.34374426881229075, 0.8143092252945155, 0.813087216074324, 0.41183073853337576, 0.41183073853337576, 0.3762677905577763, 0.15050711622311053, 0.15050711622311053, 0.07525355811155526, 0.07525355811155526, 0.07525355811155526, 0.15050711622311053, 0.6107077462917723, 0.30535387314588613, 0.17510789209312402, 0.17510789209312402, 0.17510789209312402, 0.35021578418624805, 0.6073285976037319, 0.30366429880186596, 0.13396303720205713, 0.13396303720205713, 0.13396303720205713, 0.4018891116061714, 0.13396303720205713, 0.13396303720205713, 0.29999173536587576, 0.5999834707317515, 0.240762999472796, 0.240762999472796, 0.481525998945592, 0.2383318608330234, 0.2383318608330234, 0.4766637216660468, 0.23741652259674048, 0.7122495677902214, 0.6073699126958234, 0.3036849563479117, 0.10149169741686138, 0.20298339483372277, 0.507458487084307, 0.10149169741686138, 0.5895025871054321, 0.19650086236847739, 0.19650086236847739, 0.8298121271463459, 0.8509708756792933, 0.49232738898922296, 0.032821825932614866, 0.032821825932614866, 0.39386191119137837, 0.032821825932614866, 0.301177646589811, 0.602355293179622, 0.8162804632560122, 0.13604674387600202, 0.31911316815213525, 0.3988914601901691, 0.07977829203803381, 0.15955658407606763, 0.7998774327299423, 0.3176052531704239, 0.03528947257449155, 0.03528947257449155, 0.3528947257449154, 0.03528947257449155, 0.1764473628724577, 0.31227171131870507, 0.6245434226374101, 0.7773951941142343, 0.8643676897419844, 0.624441209806209, 0.7031989109980835, 0.23439963699936117, 0.20158026210798421, 0.6047407863239527, 0.20158026210798421, 0.2419964958865449, 0.12099824794327245, 0.36299474382981733, 0.12099824794327245, 0.12099824794327245, 0.2440799101517738, 0.4881598203035476, 0.17393865173069437, 0.26090797759604156, 0.08696932586534718, 0.08696932586534718, 0.26090797759604156, 0.17393865173069437, 0.48843125644413576, 0.24421562822206788, 0.24421562822206788, 0.17471237064133494, 0.5241371119240048, 0.17471237064133494, 0.347905527407475, 0.5218582911112125, 0.1739527637037375, 0.13396255700235016, 0.13396255700235016, 0.13396255700235016, 0.4018876710070505, 0.13396255700235016, 0.17302063010355329, 0.34604126020710657, 0.34604126020710657, 0.8078313856707929, 0.8078144712390274, 0.8089669820003148, 0.15265387037477865, 0.07632693518738932, 0.228980805562168, 0.228980805562168, 0.15265387037477865, 0.228980805562168, 0.7866695286268341, 0.12348336102246411, 0.12348336102246411, 0.24696672204492823, 0.49393344408985645, 0.6668797477258176, 0.0833599684657272, 0.1667199369314544, 0.0833599684657272, 0.47147600574965876, 0.11786900143741469, 0.11786900143741469, 0.11786900143741469, 0.11786900143741469, 0.5854596482517762, 0.2927298241258881, 0.24872122311254302, 0.49744244622508604, 0.29886145444340123, 0.5977229088868025, 0.07797212657260641, 0.3378792151479611, 0.07797212657260641, 0.02599070885753547, 0.18193496200274828, 0.05198141771507094, 0.05198141771507094, 0.07797212657260641, 0.05198141771507094, 0.07797212657260641, 0.3098381347439877, 0.6196762694879754, 0.7773934168132921, 0.20280922305688612, 0.20280922305688612, 0.6084276691706584, 0.8298286697756005, 0.3630432344023216, 0.24202882293488107, 0.12101441146744053, 0.24202882293488107, 0.8089566269598316, 0.2678918464520599, 0.13394592322602994, 0.4018377696780898, 0.13394592322602994, 0.22733249342513065, 0.3031099912335075, 0.15155499561675376, 0.15155499561675376, 0.15155499561675376, 0.2012540060830817, 0.10062700304154085, 0.3018810091246225, 0.10062700304154085, 0.3018810091246225, 0.727778886337959, 0.242592962112653, 0.6107034489866564, 0.3053517244933282, 0.3006307253805838, 0.40084096717411166, 0.10021024179352792, 0.10021024179352792, 0.10021024179352792, 0.4886054281210819, 0.4886054281210819, 0.1324780158948382, 0.2649560317896764, 0.39743404768451457, 0.1324780158948382, 0.1324780158948382, 0.8114949763027578, 0.0677680545293644, 0.0677680545293644, 0.7454485998230083, 0.0677680545293644, 0.9152708243948123, 0.9259330843508521, 0.7774738125082593, 0.8089046816067499, 0.8114957452467195, 0.6035864893777011, 0.30179324468885055, 0.29819250349993487, 0.14909625174996743, 0.44728875524990225, 0.30324166121801155, 0.6064833224360231, 0.30451415382863184, 0.6090283076572637, 0.7343302378906963, 0.870471466432139, 0.11030538591857092, 0.33091615775571276, 0.11030538591857092, 0.22061077183714184, 0.22061077183714184, 0.1207352768552558, 0.1207352768552558, 0.1207352768552558, 0.1207352768552558, 0.2414705537105116, 0.3622058305657674, 0.39753431366375586, 0.03975343136637559, 0.11926029409912675, 0.03975343136637559, 0.2385205881982535, 0.11926029409912675, 0.07950686273275118, 0.7774162665811833, 0.3032473579523764, 0.6064947159047528, 0.20556896105136713, 0.41113792210273425, 0.41113792210273425, 0.9102031087316229, 0.7088173069534294, 0.23627243565114314, 0.04034090766844693, 0.08068181533689386, 0.08068181533689386, 0.1210227230053408, 0.16136363067378773, 0.2823863536791285, 0.04034090766844693, 0.1210227230053408, 0.08068181533689386, 0.04034090766844693, 0.7998252941209288, 0.808968666783414, 0.8114973991415209, 0.813082000122214, 0.8344288779120758, 0.8298121244284024, 0.24262723587859042, 0.24262723587859042, 0.48525447175718084, 0.8986488565236704, 0.8078144764554158, 0.18142801862096367, 0.2177136223451564, 0.03628560372419273, 0.03628560372419273, 0.1088568111725782, 0.1088568111725782, 0.14514241489677093, 0.07257120744838547, 0.07257120744838547, 0.07257120744838547, 0.3098479141444068, 0.6196958282888136, 0.8118683209204098, 0.7998241910516557, 0.20358617406818075, 0.20358617406818075, 0.4071723481363615, 0.20358617406818075, 0.47394431990049524, 0.47394431990049524, 0.8114958445592757, 0.4122127934463475, 0.4122127934463475, 0.2474083053622149, 0.2474083053622149, 0.4948166107244298, 0.7998241005633178, 0.3071769524369149, 0.6143539048738298, 0.24120094315802182, 0.24120094315802182, 0.48240188631604364, 0.2410509006094465, 0.2410509006094465, 0.482101801218893, 0.8089511247245961, 0.8704537878745566, 0.7774065885500349, 0.8298121276821037, 0.7036033748441917, 0.23453445828139724, 0.5957067923104273, 0.29785339615521367, 0.829831688499932, 0.7774147535623973, 0.9711740190999787, 0.7774291538070455, 0.4023202318243329, 0.4023202318243329, 0.8145890846817955, 0.336205029417564, 0.14942445751891734, 0.11206834313918801, 0.07471222875945867, 0.11206834313918801, 0.07471222875945867, 0.07471222875945867, 0.11206834313918801, 0.7774802719288093, 0.3627723967713993, 0.1554738843305997, 0.2591231405509995, 0.051824628110199895, 0.051824628110199895, 0.10364925622039979, 0.702286480198768, 0.23409549339958932, 0.5863447229828771, 0.14658618074571927, 0.14658618074571927, 0.3113434892607271, 0.6226869785214542, 0.4753595856120562, 0.4753595856120562, 0.4447310191427031, 0.4447310191427031, 0.1482436730475677, 0.5854878506405105, 0.2927439253202552, 0.8089523055398525, 0.8114958930052815, 0.9152562038161179, 0.9258761225621731, 0.6144137607552319, 0.15360344018880798, 0.15360344018880798, 0.7866694686720598, 0.7998009865052469, 0.13485072262141307, 0.8091043357284784, 0.4759969024629504, 0.2379984512314752, 0.7701505935630892, 0.8298121108386846, 0.8146207711524278, 0.3266505770780884, 0.10888352569269615, 0.3266505770780884, 0.10888352569269615, 0.10888352569269615, 0.30066668628878723, 0.6013333725775745, 0.8114958375368861, 0.5884304511762601, 0.19614348372542004, 0.19614348372542004, 0.807800856336472, 0.5917002460358944, 0.2958501230179472, 0.41221034484179425, 0.41221034484179425, 0.8078142957953794, 0.13534116031344906, 0.40602348094034724, 0.13534116031344906, 0.13534116031344906, 0.13534116031344906, 0.6234890939387114, 0.7773950130427606, 0.2828641433298729, 0.14143207166493646, 0.3535801791623412, 0.07071603583246823, 0.07071603583246823, 0.14143207166493646, 0.47588981196741353, 0.05948622649592669, 0.17845867948778008, 0.23794490598370677, 0.05948622649592669, 0.834259964816291, 0.8078205518747102, 0.1509722983414973, 0.1509722983414973, 0.45291689502449195, 0.3019445966829946, 0.8078144337447167, 0.7774570547883057, 0.20259374358780716, 0.6077812307634215, 0.20259374358780716, 0.8412370679483395, 0.7018233096047107, 0.23394110320157024, 0.24561050954456495, 0.24561050954456495, 0.4912210190891299, 0.8078143014274819, 0.7774130483994856, 0.3463735435880112, 0.1731867717940056, 0.5195603153820169, 0.8130843467267566, 0.20005420487505318, 0.6001626146251596, 0.20005420487505318, 0.777410514603228, 0.49325487878970004, 0.24662743939485002, 0.17498515877704657, 0.17498515877704657, 0.5249554763311397, 0.17498515877704657, 0.7998238721525763, 0.44459705303766256, 0.14819901767922086, 0.2963980353584417, 0.14819901767922086, 0.25995521089196705, 0.25995521089196705, 0.5199104217839341, 0.13541571595743718, 0.27083143191487435, 0.13541571595743718, 0.27083143191487435, 0.13541571595743718, 0.777401966215419, 0.811518887272085, 0.7343301908908342, 0.9173554373781675, 0.8791544895875398, 0.09768383217639331, 0.2988474405711326, 0.5976948811422652, 0.3011743808379103, 0.6023487616758206, 0.11164753558171002, 0.11164753558171002, 0.22329507116342004, 0.11164753558171002, 0.11164753558171002, 0.33494260674513004, 0.1550948849703255, 0.025849147495054254, 0.36188806493075953, 0.07754744248516275, 0.025849147495054254, 0.025849147495054254, 0.25849147495054253, 0.07754744248516275, 0.25056245203854516, 0.20044996163083612, 0.10022498081541806, 0.15033747122312707, 0.05011249040770903, 0.05011249040770903, 0.05011249040770903, 0.20044996163083612, 0.7867215884462097, 0.7773965506052009, 0.2416490072588159, 0.2416490072588159, 0.4832980145176318, 0.17600313183586463, 0.35200626367172927, 0.35200626367172927, 0.9087493356767481], \"Term\": [\"1\", \"1\", \"10\", \"10\", \"2020\", \"3\", \"3\", \"30\", \"5\", \"5\", \"5\", \"6\", \"6\", \"69\", \"A\", \"A\", \"A\", \"AIPAC\", \"AND\", \"Adolf\", \"All\", \"All\", \"All\", \"Always\", \"American\", \"American\", \"And\", \"And\", \"And\", \"And\", \"And\", \"And\", \"AuthRight\", \"AuthRight\", \"AuthRight\", \"AuthRight\", \"Based\", \"Based\", \"Biden\", \"But\", \"But\", \"But\", \"But\", \"Cant\", \"Cant\", \"Centrist\", \"Chelsea\", \"China\", \"Clinton\", \"Clinton\", \"Communists\", \"Congratulations\", \"Count\", \"Don\", \"F\", \"Flair\", \"Ftfy\", \"German\", \"German\", \"German\", \"Germany\", \"Germany\", \"Germany\", \"Good\", \"Good\", \"He\", \"He\", \"He\", \"He\", \"Hillarys\", \"Hitler\", \"Hitler\", \"Hitler\", \"Hitler\", \"Hitler\", \"Hitler\", \"Hitler\", \"Hitler\", \"Hitlers\", \"Holocaust\", \"Holocaust\", \"Holocaust\", \"Holocaust\", \"How\", \"I\", \"I\", \"I\", \"I\", \"I\", \"I\", \"I\", \"I\", \"If\", \"If\", \"If\", \"If\", \"If\", \"If\", \"Im\", \"Im\", \"Im\", \"Im\", \"Im\", \"Is\", \"Is\", \"Is\", \"Israel\", \"Israel\", \"Israel\", \"Israel\", \"It\", \"It\", \"It\", \"It\", \"It\", \"It\", \"Italy\", \"Its\", \"Its\", \"Its\", \"Its\", \"Its\", \"Its\", \"Its\", \"Ivanka\", \"Ive\", \"Ive\", \"Ive\", \"Ive\", \"Jesus\", \"Jesus\", \"Jew\", \"Jew\", \"Jewish\", \"Jewish\", \"Jewish\", \"Jews\", \"Jews\", \"Jews\", \"Jews\", \"Jews\", \"Jews\", \"Jews\", \"Jr\", \"Just\", \"Just\", \"Just\", \"LibLeft\", \"LibLeft\", \"LibLeft\", \"LibRight\", \"Lol\", \"Lol\", \"Maybe\", \"Minecraft\", \"Muslims\", \"Muslims\", \"NAP\", \"Nation\", \"National\", \"Nazi\", \"Nazi\", \"Nazi\", \"Nazi\", \"Nazi\", \"Nazi\", \"Nice\", \"No\", \"No\", \"No\", \"No\", \"Not\", \"Not\", \"Now\", \"Oh\", \"Oh\", \"Oh\", \"One\", \"One\", \"People\", \"People\", \"Purple\", \"Rank\", \"Really\", \"SJWs\", \"Sapling\", \"Stalin\", \"Stalin\", \"Thanks\", \"Thanks\", \"Thanks\", \"Thats\", \"Thats\", \"Thats\", \"The\", \"The\", \"The\", \"The\", \"The\", \"The\", \"The\", \"Their\", \"They\", \"They\", \"They\", \"They\", \"They\", \"They\", \"This\", \"This\", \"This\", \"This\", \"This\", \"This\", \"This\", \"This\", \"This\", \"True\", \"Trump\", \"Trump\", \"Trump\", \"Trump\", \"Trump\", \"Trump\", \"Trumps\", \"Trumps\", \"Unflaired\", \"Unflaired\", \"Use\", \"Vanessa\", \"Wait\", \"Wait\", \"Wait\", \"Well\", \"Well\", \"Well\", \"When\", \"YOU\", \"Yes\", \"Yes\", \"You\", \"You\", \"You\", \"You\", \"You\", \"You\", \"Your\", \"Your\", \"actually\", \"actually\", \"actually\", \"actually\", \"actually\", \"agree\", \"agree\", \"agree\", \"almost\", \"almost\", \"already\", \"also\", \"also\", \"also\", \"also\", \"also\", \"also\", \"amazing\", \"another\", \"another\", \"argue\", \"argue\", \"argument\", \"argument\", \"ask\", \"aspect\", \"auth\", \"auth\", \"auth\", \"auth\", \"auth\", \"authcenter\", \"authcenter\", \"authoritarian\", \"authoritarian\", \"authoritarian\", \"authright\", \"authright\", \"bad\", \"bad\", \"bad\", \"bad\", \"based\", \"based\", \"based\", \"based\", \"basically\", \"basically\", \"beautiful\", \"believe\", \"believe\", \"believe\", \"believe\", \"believe\", \"black\", \"border\", \"border\", \"border\", \"bot\", \"bot\", \"bot\", \"bot\", \"break\", \"break\", \"breeze\", \"burger\", \"button\", \"byebye\", \"call\", \"camp\", \"camp\", \"camp\", \"camp\", \"cant\", \"cant\", \"capitalist\", \"catapult\", \"cause\", \"cause\", \"cause\", \"cause\", \"caused\", \"caused\", \"caused\", \"center\", \"center\", \"chamber\", \"charisma\", \"check\", \"check\", \"civilian\", \"civilian\", \"claimed\", \"collective\", \"comment\", \"comment\", \"comment\", \"comment\", \"comment\", \"conservative\", \"conservative\", \"control\", \"control\", \"control\", \"control\", \"control\", \"conundrum\", \"conundrum\", \"converted\", \"could\", \"could\", \"could\", \"could\", \"country\", \"country\", \"country\", \"country\", \"course\", \"course\", \"course\", \"court\", \"cringe\", \"criticized\", \"culturally\", \"cum\", \"cum\", \"customer\", \"dad\", \"daughter\", \"daughter\", \"dead\", \"definition\", \"definition\", \"degenerate\", \"degenerate\", \"degenerate\", \"delete\", \"deleted\", \"deny\", \"deny\", \"deny\", \"deportation\", \"deserved\", \"deserved\", \"despite\", \"despite\", \"didnt\", \"didnt\", \"didnt\", \"didnt\", \"didnt\", \"didnt\", \"doesnt\", \"doesnt\", \"doesnt\", \"dont\", \"dont\", \"dont\", \"dont\", \"dont\", \"dont\", \"dont\", \"earth\", \"enough\", \"enough\", \"enough\", \"even\", \"even\", \"even\", \"even\", \"even\", \"even\", \"even\", \"even\", \"every\", \"every\", \"everyone\", \"exactly\", \"exactly\", \"explain\", \"explain\", \"failed\", \"fascism\", \"fascist\", \"fascist\", \"favor\", \"favored\", \"fellow\", \"find\", \"find\", \"find\", \"find\", \"find\", \"find\", \"find\", \"first\", \"first\", \"first\", \"flair\", \"flair\", \"flair\", \"forget\", \"forget\", \"free\", \"free\", \"free\", \"fucking\", \"fucking\", \"fucking\", \"fucking\", \"gas\", \"gasoline\", \"genuinely\", \"genuinely\", \"get\", \"get\", \"get\", \"get\", \"get\", \"get\", \"get\", \"girl\", \"girl\", \"go\", \"go\", \"go\", \"go\", \"god\", \"god\", \"good\", \"good\", \"good\", \"good\", \"good\", \"good\", \"gorillion\", \"gorillion\", \"got\", \"got\", \"got\", \"government\", \"government\", \"government\", \"group\", \"group\", \"guess\", \"guess\", \"guy\", \"guy\", \"guy\", \"guy\", \"hand\", \"hand\", \"hand\", \"handle\", \"happen\", \"happened\", \"happened\", \"happened\", \"happened\", \"happened\", \"hate\", \"hate\", \"he\", \"he\", \"hitler\", \"hitler\", \"hitler\", \"hitler\", \"holiday\", \"holocaust\", \"holocaust\", \"holocaust\", \"holocaust\", \"holocaust\", \"holocaust\", \"honestly\", \"honestly\", \"hospital\", \"ideology\", \"increased\", \"individual\", \"individual\", \"info\", \"info\", \"info\", \"isnt\", \"isnt\", \"isnt\", \"isnt\", \"isnt\", \"jar\", \"jar\", \"jew\", \"jew\", \"jew\", \"jew\", \"jew\", \"jew\", \"jewish\", \"jewish\", \"jewish\", \"joke\", \"joke\", \"joke\", \"kid\", \"kid\", \"kid\", \"kill\", \"kill\", \"kill\", \"kill\", \"kill\", \"killed\", \"killed\", \"killed\", \"killing\", \"kiss\", \"knife\", \"know\", \"know\", \"know\", \"know\", \"know\", \"know\", \"laugh\", \"least\", \"least\", \"least\", \"least\", \"left\", \"left\", \"left\", \"left\", \"leftist\", \"leftist\", \"leftist\", \"leftist\", \"leftist\", \"libleft\", \"libleft\", \"liblefts\", \"liblefts\", \"life\", \"life\", \"like\", \"like\", \"like\", \"like\", \"like\", \"like\", \"like\", \"like\", \"like\", \"like\", \"likely\", \"likely\", \"live\", \"long\", \"long\", \"long\", \"lost\", \"love\", \"love\", \"love\", \"love\", \"loved\", \"made\", \"made\", \"made\", \"made\", \"make\", \"make\", \"make\", \"make\", \"make\", \"many\", \"many\", \"many\", \"many\", \"many\", \"market\", \"market\", \"married\", \"married\", \"mean\", \"mean\", \"mean\", \"mean\", \"mean\", \"medium\", \"medium\", \"meme\", \"meme\", \"meme\", \"meme\", \"meme\", \"menu\", \"million\", \"million\", \"million\", \"million\", \"minority\", \"modernity\", \"monarchy\", \"money\", \"move\", \"movie\", \"movie\", \"much\", \"much\", \"much\", \"must\", \"must\", \"mybasedcount\", \"mybasedcount\", \"nation\", \"nationalization\", \"nazi\", \"nazi\", \"nazi\", \"nazi\", \"nazi\", \"need\", \"need\", \"need\", \"need\", \"need\", \"need\", \"never\", \"never\", \"never\", \"never\", \"never\", \"never\", \"never\", \"new\", \"night\", \"night\", \"number\", \"number\", \"number\", \"officer\", \"often\", \"often\", \"one\", \"one\", \"one\", \"one\", \"one\", \"one\", \"one\", \"one\", \"one\", \"one\", \"open\", \"openets\", \"oppressed\", \"oven\", \"panel\", \"particularly\", \"pay\", \"pay\", \"pay\", \"pedophile\", \"peep\", \"people\", \"people\", \"people\", \"people\", \"people\", \"people\", \"people\", \"people\", \"people\", \"people\", \"pepe\", \"pepe\", \"plan\", \"plane\", \"point\", \"point\", \"point\", \"point\", \"political\", \"political\", \"porn\", \"possible\", \"possible\", \"post\", \"post\", \"post\", \"pro\", \"proud\", \"proud\", \"purge\", \"purge\", \"purge\", \"put\", \"put\", \"put\", \"quote\", \"racism\", \"racist\", \"ranked\", \"rather\", \"rather\", \"read\", \"read\", \"relationship\", \"reminds\", \"removed\", \"resembles\", \"result\", \"result\", \"rgetflaired\", \"right\", \"right\", \"right\", \"right\", \"right\", \"right\", \"right\", \"right\", \"root\", \"say\", \"say\", \"say\", \"say\", \"say\", \"say\", \"saying\", \"saying\", \"see\", \"see\", \"see\", \"seem\", \"seem\", \"shit\", \"shit\", \"side\", \"side\", \"side\", \"simply\", \"simply\", \"sin\", \"since\", \"six\", \"social\", \"socialism\", \"socialism\", \"socialism\", \"somehow\", \"someone\", \"something\", \"something\", \"started\", \"started\", \"state\", \"steady\", \"step\", \"still\", \"still\", \"still\", \"still\", \"still\", \"stopped\", \"stopped\", \"straight\", \"sub\", \"sub\", \"sub\", \"submission\", \"talked\", \"talked\", \"talking\", \"talking\", \"teh\", \"thats\", \"thats\", \"thats\", \"thats\", \"thats\", \"there\", \"theyre\", \"thing\", \"thing\", \"thing\", \"thing\", \"thing\", \"thing\", \"think\", \"think\", \"think\", \"think\", \"think\", \"thousand\", \"three\", \"time\", \"time\", \"time\", \"time\", \"towing\", \"tradition\", \"trap\", \"trap\", \"trap\", \"trash\", \"true\", \"true\", \"try\", \"try\", \"try\", \"tuwu\", \"type\", \"u\", \"u\", \"u\", \"unironically\", \"user\", \"user\", \"user\", \"using\", \"usually\", \"usually\", \"victim\", \"victim\", \"victim\", \"victim\", \"vote\", \"wasnt\", \"wasnt\", \"wasnt\", \"wasnt\", \"way\", \"way\", \"way\", \"well\", \"well\", \"well\", \"well\", \"well\", \"whatever\", \"white\", \"who\", \"wife\", \"wish\", \"wish\", \"word\", \"word\", \"working\", \"working\", \"world\", \"world\", \"world\", \"world\", \"world\", \"world\", \"worse\", \"worse\", \"worse\", \"worse\", \"worse\", \"worse\", \"worse\", \"worse\", \"would\", \"would\", \"would\", \"would\", \"would\", \"would\", \"would\", \"would\", \"wouldve\", \"yeah\", \"year\", \"year\", \"year\", \"yes\", \"yes\", \"yes\", \"yuw\"]}, \"R\": 30, \"lambda.step\": 0.01, \"plot.opts\": {\"xlab\": \"PC1\", \"ylab\": \"PC2\"}, \"topic.order\": [9, 5, 2, 8, 6, 4, 7, 3, 10, 1]};\n",
              "\n",
              "function LDAvis_load_lib(url, callback){\n",
              "  var s = document.createElement('script');\n",
              "  s.src = url;\n",
              "  s.async = true;\n",
              "  s.onreadystatechange = s.onload = callback;\n",
              "  s.onerror = function(){console.warn(\"failed to load library \" + url);};\n",
              "  document.getElementsByTagName(\"head\")[0].appendChild(s);\n",
              "}\n",
              "\n",
              "if(typeof(LDAvis) !== \"undefined\"){\n",
              "   // already loaded: just create the visualization\n",
              "   !function(LDAvis){\n",
              "       new LDAvis(\"#\" + \"ldavis_el3611349489002876805989358501\", ldavis_el3611349489002876805989358501_data);\n",
              "   }(LDAvis);\n",
              "}else if(typeof define === \"function\" && define.amd){\n",
              "   // require.js is available: use it to load d3/LDAvis\n",
              "   require.config({paths: {d3: \"https://d3js.org/d3.v5\"}});\n",
              "   require([\"d3\"], function(d3){\n",
              "      window.d3 = d3;\n",
              "      LDAvis_load_lib(\"https://cdn.jsdelivr.net/gh/bmabey/pyLDAvis@3.4.0/pyLDAvis/js/ldavis.v3.0.0.js\", function(){\n",
              "        new LDAvis(\"#\" + \"ldavis_el3611349489002876805989358501\", ldavis_el3611349489002876805989358501_data);\n",
              "      });\n",
              "    });\n",
              "}else{\n",
              "    // require.js not available: dynamically load d3 & LDAvis\n",
              "    LDAvis_load_lib(\"https://d3js.org/d3.v5.js\", function(){\n",
              "         LDAvis_load_lib(\"https://cdn.jsdelivr.net/gh/bmabey/pyLDAvis@3.4.0/pyLDAvis/js/ldavis.v3.0.0.js\", function(){\n",
              "                 new LDAvis(\"#\" + \"ldavis_el3611349489002876805989358501\", ldavis_el3611349489002876805989358501_data);\n",
              "            })\n",
              "         });\n",
              "}\n",
              "</script>"
            ]
          },
          "metadata": {},
          "execution_count": 115
        }
      ]
    },
    {
      "cell_type": "code",
      "source": [
        "df.head()"
      ],
      "metadata": {
        "colab": {
          "base_uri": "https://localhost:8080/",
          "height": 365
        },
        "id": "c6LfYvfA04ed",
        "outputId": "a5ee1a90-97ad-4358-a648-a98cff4501ac"
      },
      "execution_count": 116,
      "outputs": [
        {
          "output_type": "stream",
          "name": "stderr",
          "text": [
            "/usr/local/lib/python3.10/dist-packages/ipykernel/ipkernel.py:283: DeprecationWarning: `should_run_async` will not call `transform_cell` automatically in the future. Please pass the result to `transformed_cell` argument and any exception that happen during thetransform in `preprocessing_exc_tuple` in IPython 7.17 and above.\n",
            "  and should_run_async(code)\n"
          ]
        },
        {
          "output_type": "execute_result",
          "data": {
            "text/plain": [
              "                                                body  \\\n",
              "1  URL: https://i.redd.it/741oufea1ew51.png\\nThum...   \n",
              "2    It’s true, because Hitler caused the Holocaust.   \n",
              "3     Actual Nazis: *eating popcorn from authcenter*   \n",
              "4                “Trump is worse than Hitler”\\n\\nYes   \n",
              "5  “Trump is worse than Hitler”\\n\\n“I know right?...   \n",
              "\n",
              "                                          Clean body  \\\n",
              "1                     URL \\nThumbnail \\nImages\\n\\t\\n   \n",
              "2       Its true because Hitler caused the Holocaust   \n",
              "3        Actual Nazis eating popcorn from authcenter   \n",
              "4                  Trump is worse than Hitler\\n\\nYes   \n",
              "5  Trump is worse than Hitler\\n\\nI know right He ...   \n",
              "\n",
              "                                      Processed body  \\\n",
              "1                               URL Thumbnail Images   \n",
              "2                   Its true Hitler caused Holocaust   \n",
              "3             Actual Nazis eating popcorn authcenter   \n",
              "4                             Trump worse Hitler Yes   \n",
              "5  Trump worse Hitler I know right He let daughte...   \n",
              "\n",
              "                                          Sentiments VADER Sentiment  \\\n",
              "1  {'neg': 0.0, 'neu': 1.0, 'pos': 0.0, 'compound...         neutral   \n",
              "2  {'neg': 0.0, 'neu': 0.588, 'pos': 0.412, 'comp...        positive   \n",
              "3  {'neg': 0.0, 'neu': 1.0, 'pos': 0.0, 'compound...         neutral   \n",
              "4  {'neg': 0.397, 'neu': 0.256, 'pos': 0.346, 'co...        negative   \n",
              "5  {'neg': 0.256, 'neu': 0.744, 'pos': 0.0, 'comp...        negative   \n",
              "\n",
              "   TextBlob Sentiment TextBlob Sentiment Category  \n",
              "1            0.000000                     neutral  \n",
              "2            0.350000                    positive  \n",
              "3            0.000000                     neutral  \n",
              "4           -0.400000                    negative  \n",
              "5           -0.057143                    negative  "
            ],
            "text/html": [
              "\n",
              "  <div id=\"df-236c14d5-4133-47ac-a16c-22f8c6aea900\" class=\"colab-df-container\">\n",
              "    <div>\n",
              "<style scoped>\n",
              "    .dataframe tbody tr th:only-of-type {\n",
              "        vertical-align: middle;\n",
              "    }\n",
              "\n",
              "    .dataframe tbody tr th {\n",
              "        vertical-align: top;\n",
              "    }\n",
              "\n",
              "    .dataframe thead th {\n",
              "        text-align: right;\n",
              "    }\n",
              "</style>\n",
              "<table border=\"1\" class=\"dataframe\">\n",
              "  <thead>\n",
              "    <tr style=\"text-align: right;\">\n",
              "      <th></th>\n",
              "      <th>body</th>\n",
              "      <th>Clean body</th>\n",
              "      <th>Processed body</th>\n",
              "      <th>Sentiments</th>\n",
              "      <th>VADER Sentiment</th>\n",
              "      <th>TextBlob Sentiment</th>\n",
              "      <th>TextBlob Sentiment Category</th>\n",
              "    </tr>\n",
              "  </thead>\n",
              "  <tbody>\n",
              "    <tr>\n",
              "      <th>1</th>\n",
              "      <td>URL: https://i.redd.it/741oufea1ew51.png\\nThum...</td>\n",
              "      <td>URL \\nThumbnail \\nImages\\n\\t\\n</td>\n",
              "      <td>URL Thumbnail Images</td>\n",
              "      <td>{'neg': 0.0, 'neu': 1.0, 'pos': 0.0, 'compound...</td>\n",
              "      <td>neutral</td>\n",
              "      <td>0.000000</td>\n",
              "      <td>neutral</td>\n",
              "    </tr>\n",
              "    <tr>\n",
              "      <th>2</th>\n",
              "      <td>It’s true, because Hitler caused the Holocaust.</td>\n",
              "      <td>Its true because Hitler caused the Holocaust</td>\n",
              "      <td>Its true Hitler caused Holocaust</td>\n",
              "      <td>{'neg': 0.0, 'neu': 0.588, 'pos': 0.412, 'comp...</td>\n",
              "      <td>positive</td>\n",
              "      <td>0.350000</td>\n",
              "      <td>positive</td>\n",
              "    </tr>\n",
              "    <tr>\n",
              "      <th>3</th>\n",
              "      <td>Actual Nazis: *eating popcorn from authcenter*</td>\n",
              "      <td>Actual Nazis eating popcorn from authcenter</td>\n",
              "      <td>Actual Nazis eating popcorn authcenter</td>\n",
              "      <td>{'neg': 0.0, 'neu': 1.0, 'pos': 0.0, 'compound...</td>\n",
              "      <td>neutral</td>\n",
              "      <td>0.000000</td>\n",
              "      <td>neutral</td>\n",
              "    </tr>\n",
              "    <tr>\n",
              "      <th>4</th>\n",
              "      <td>“Trump is worse than Hitler”\\n\\nYes</td>\n",
              "      <td>Trump is worse than Hitler\\n\\nYes</td>\n",
              "      <td>Trump worse Hitler Yes</td>\n",
              "      <td>{'neg': 0.397, 'neu': 0.256, 'pos': 0.346, 'co...</td>\n",
              "      <td>negative</td>\n",
              "      <td>-0.400000</td>\n",
              "      <td>negative</td>\n",
              "    </tr>\n",
              "    <tr>\n",
              "      <th>5</th>\n",
              "      <td>“Trump is worse than Hitler”\\n\\n“I know right?...</td>\n",
              "      <td>Trump is worse than Hitler\\n\\nI know right He ...</td>\n",
              "      <td>Trump worse Hitler I know right He let daughte...</td>\n",
              "      <td>{'neg': 0.256, 'neu': 0.744, 'pos': 0.0, 'comp...</td>\n",
              "      <td>negative</td>\n",
              "      <td>-0.057143</td>\n",
              "      <td>negative</td>\n",
              "    </tr>\n",
              "  </tbody>\n",
              "</table>\n",
              "</div>\n",
              "    <div class=\"colab-df-buttons\">\n",
              "\n",
              "  <div class=\"colab-df-container\">\n",
              "    <button class=\"colab-df-convert\" onclick=\"convertToInteractive('df-236c14d5-4133-47ac-a16c-22f8c6aea900')\"\n",
              "            title=\"Convert this dataframe to an interactive table.\"\n",
              "            style=\"display:none;\">\n",
              "\n",
              "  <svg xmlns=\"http://www.w3.org/2000/svg\" height=\"24px\" viewBox=\"0 -960 960 960\">\n",
              "    <path d=\"M120-120v-720h720v720H120Zm60-500h600v-160H180v160Zm220 220h160v-160H400v160Zm0 220h160v-160H400v160ZM180-400h160v-160H180v160Zm440 0h160v-160H620v160ZM180-180h160v-160H180v160Zm440 0h160v-160H620v160Z\"/>\n",
              "  </svg>\n",
              "    </button>\n",
              "\n",
              "  <style>\n",
              "    .colab-df-container {\n",
              "      display:flex;\n",
              "      gap: 12px;\n",
              "    }\n",
              "\n",
              "    .colab-df-convert {\n",
              "      background-color: #E8F0FE;\n",
              "      border: none;\n",
              "      border-radius: 50%;\n",
              "      cursor: pointer;\n",
              "      display: none;\n",
              "      fill: #1967D2;\n",
              "      height: 32px;\n",
              "      padding: 0 0 0 0;\n",
              "      width: 32px;\n",
              "    }\n",
              "\n",
              "    .colab-df-convert:hover {\n",
              "      background-color: #E2EBFA;\n",
              "      box-shadow: 0px 1px 2px rgba(60, 64, 67, 0.3), 0px 1px 3px 1px rgba(60, 64, 67, 0.15);\n",
              "      fill: #174EA6;\n",
              "    }\n",
              "\n",
              "    .colab-df-buttons div {\n",
              "      margin-bottom: 4px;\n",
              "    }\n",
              "\n",
              "    [theme=dark] .colab-df-convert {\n",
              "      background-color: #3B4455;\n",
              "      fill: #D2E3FC;\n",
              "    }\n",
              "\n",
              "    [theme=dark] .colab-df-convert:hover {\n",
              "      background-color: #434B5C;\n",
              "      box-shadow: 0px 1px 3px 1px rgba(0, 0, 0, 0.15);\n",
              "      filter: drop-shadow(0px 1px 2px rgba(0, 0, 0, 0.3));\n",
              "      fill: #FFFFFF;\n",
              "    }\n",
              "  </style>\n",
              "\n",
              "    <script>\n",
              "      const buttonEl =\n",
              "        document.querySelector('#df-236c14d5-4133-47ac-a16c-22f8c6aea900 button.colab-df-convert');\n",
              "      buttonEl.style.display =\n",
              "        google.colab.kernel.accessAllowed ? 'block' : 'none';\n",
              "\n",
              "      async function convertToInteractive(key) {\n",
              "        const element = document.querySelector('#df-236c14d5-4133-47ac-a16c-22f8c6aea900');\n",
              "        const dataTable =\n",
              "          await google.colab.kernel.invokeFunction('convertToInteractive',\n",
              "                                                    [key], {});\n",
              "        if (!dataTable) return;\n",
              "\n",
              "        const docLinkHtml = 'Like what you see? Visit the ' +\n",
              "          '<a target=\"_blank\" href=https://colab.research.google.com/notebooks/data_table.ipynb>data table notebook</a>'\n",
              "          + ' to learn more about interactive tables.';\n",
              "        element.innerHTML = '';\n",
              "        dataTable['output_type'] = 'display_data';\n",
              "        await google.colab.output.renderOutput(dataTable, element);\n",
              "        const docLink = document.createElement('div');\n",
              "        docLink.innerHTML = docLinkHtml;\n",
              "        element.appendChild(docLink);\n",
              "      }\n",
              "    </script>\n",
              "  </div>\n",
              "\n",
              "\n",
              "<div id=\"df-10b598ee-b2ec-4d65-862e-dd3d5f41753d\">\n",
              "  <button class=\"colab-df-quickchart\" onclick=\"quickchart('df-10b598ee-b2ec-4d65-862e-dd3d5f41753d')\"\n",
              "            title=\"Suggest charts\"\n",
              "            style=\"display:none;\">\n",
              "\n",
              "<svg xmlns=\"http://www.w3.org/2000/svg\" height=\"24px\"viewBox=\"0 0 24 24\"\n",
              "     width=\"24px\">\n",
              "    <g>\n",
              "        <path d=\"M19 3H5c-1.1 0-2 .9-2 2v14c0 1.1.9 2 2 2h14c1.1 0 2-.9 2-2V5c0-1.1-.9-2-2-2zM9 17H7v-7h2v7zm4 0h-2V7h2v10zm4 0h-2v-4h2v4z\"/>\n",
              "    </g>\n",
              "</svg>\n",
              "  </button>\n",
              "\n",
              "<style>\n",
              "  .colab-df-quickchart {\n",
              "      --bg-color: #E8F0FE;\n",
              "      --fill-color: #1967D2;\n",
              "      --hover-bg-color: #E2EBFA;\n",
              "      --hover-fill-color: #174EA6;\n",
              "      --disabled-fill-color: #AAA;\n",
              "      --disabled-bg-color: #DDD;\n",
              "  }\n",
              "\n",
              "  [theme=dark] .colab-df-quickchart {\n",
              "      --bg-color: #3B4455;\n",
              "      --fill-color: #D2E3FC;\n",
              "      --hover-bg-color: #434B5C;\n",
              "      --hover-fill-color: #FFFFFF;\n",
              "      --disabled-bg-color: #3B4455;\n",
              "      --disabled-fill-color: #666;\n",
              "  }\n",
              "\n",
              "  .colab-df-quickchart {\n",
              "    background-color: var(--bg-color);\n",
              "    border: none;\n",
              "    border-radius: 50%;\n",
              "    cursor: pointer;\n",
              "    display: none;\n",
              "    fill: var(--fill-color);\n",
              "    height: 32px;\n",
              "    padding: 0;\n",
              "    width: 32px;\n",
              "  }\n",
              "\n",
              "  .colab-df-quickchart:hover {\n",
              "    background-color: var(--hover-bg-color);\n",
              "    box-shadow: 0 1px 2px rgba(60, 64, 67, 0.3), 0 1px 3px 1px rgba(60, 64, 67, 0.15);\n",
              "    fill: var(--button-hover-fill-color);\n",
              "  }\n",
              "\n",
              "  .colab-df-quickchart-complete:disabled,\n",
              "  .colab-df-quickchart-complete:disabled:hover {\n",
              "    background-color: var(--disabled-bg-color);\n",
              "    fill: var(--disabled-fill-color);\n",
              "    box-shadow: none;\n",
              "  }\n",
              "\n",
              "  .colab-df-spinner {\n",
              "    border: 2px solid var(--fill-color);\n",
              "    border-color: transparent;\n",
              "    border-bottom-color: var(--fill-color);\n",
              "    animation:\n",
              "      spin 1s steps(1) infinite;\n",
              "  }\n",
              "\n",
              "  @keyframes spin {\n",
              "    0% {\n",
              "      border-color: transparent;\n",
              "      border-bottom-color: var(--fill-color);\n",
              "      border-left-color: var(--fill-color);\n",
              "    }\n",
              "    20% {\n",
              "      border-color: transparent;\n",
              "      border-left-color: var(--fill-color);\n",
              "      border-top-color: var(--fill-color);\n",
              "    }\n",
              "    30% {\n",
              "      border-color: transparent;\n",
              "      border-left-color: var(--fill-color);\n",
              "      border-top-color: var(--fill-color);\n",
              "      border-right-color: var(--fill-color);\n",
              "    }\n",
              "    40% {\n",
              "      border-color: transparent;\n",
              "      border-right-color: var(--fill-color);\n",
              "      border-top-color: var(--fill-color);\n",
              "    }\n",
              "    60% {\n",
              "      border-color: transparent;\n",
              "      border-right-color: var(--fill-color);\n",
              "    }\n",
              "    80% {\n",
              "      border-color: transparent;\n",
              "      border-right-color: var(--fill-color);\n",
              "      border-bottom-color: var(--fill-color);\n",
              "    }\n",
              "    90% {\n",
              "      border-color: transparent;\n",
              "      border-bottom-color: var(--fill-color);\n",
              "    }\n",
              "  }\n",
              "</style>\n",
              "\n",
              "  <script>\n",
              "    async function quickchart(key) {\n",
              "      const quickchartButtonEl =\n",
              "        document.querySelector('#' + key + ' button');\n",
              "      quickchartButtonEl.disabled = true;  // To prevent multiple clicks.\n",
              "      quickchartButtonEl.classList.add('colab-df-spinner');\n",
              "      try {\n",
              "        const charts = await google.colab.kernel.invokeFunction(\n",
              "            'suggestCharts', [key], {});\n",
              "      } catch (error) {\n",
              "        console.error('Error during call to suggestCharts:', error);\n",
              "      }\n",
              "      quickchartButtonEl.classList.remove('colab-df-spinner');\n",
              "      quickchartButtonEl.classList.add('colab-df-quickchart-complete');\n",
              "    }\n",
              "    (() => {\n",
              "      let quickchartButtonEl =\n",
              "        document.querySelector('#df-10b598ee-b2ec-4d65-862e-dd3d5f41753d button');\n",
              "      quickchartButtonEl.style.display =\n",
              "        google.colab.kernel.accessAllowed ? 'block' : 'none';\n",
              "    })();\n",
              "  </script>\n",
              "</div>\n",
              "    </div>\n",
              "  </div>\n"
            ],
            "application/vnd.google.colaboratory.intrinsic+json": {
              "type": "dataframe",
              "variable_name": "df",
              "summary": "{\n  \"name\": \"df\",\n  \"rows\": 500,\n  \"fields\": [\n    {\n      \"column\": \"body\",\n      \"properties\": {\n        \"dtype\": \"string\",\n        \"num_unique_values\": 451,\n        \"samples\": [\n          \"Hitler made the Jews wear flair.\",\n          \"People on here are younger than I thought. Or just don\\u2019t pay much attention\",\n          \"Some people argue the gas chambers were likely fake.\"\n        ],\n        \"semantic_type\": \"\",\n        \"description\": \"\"\n      }\n    },\n    {\n      \"column\": \"Clean body\",\n      \"properties\": {\n        \"dtype\": \"string\",\n        \"num_unique_values\": 449,\n        \"samples\": [\n          \"Pfft Hitlers got nothing on Hern\\u00e1n Cort\\u00e9s\",\n          \"And you are worse than both unflaired scum\",\n          \"Heir to the cum throne\"\n        ],\n        \"semantic_type\": \"\",\n        \"description\": \"\"\n      }\n    },\n    {\n      \"column\": \"Processed body\",\n      \"properties\": {\n        \"dtype\": \"string\",\n        \"num_unique_values\": 448,\n        \"samples\": [\n          \"Pfft Hitlers got nothing Hern\\u00e1n Cort\\u00e9s\",\n          \"And worse unflaired scum\",\n          \"Heir cum throne\"\n        ],\n        \"semantic_type\": \"\",\n        \"description\": \"\"\n      }\n    },\n    {\n      \"column\": \"Sentiments\",\n      \"properties\": {\n        \"dtype\": \"object\",\n        \"semantic_type\": \"\",\n        \"description\": \"\"\n      }\n    },\n    {\n      \"column\": \"VADER Sentiment\",\n      \"properties\": {\n        \"dtype\": \"category\",\n        \"num_unique_values\": 3,\n        \"samples\": [\n          \"neutral\",\n          \"positive\",\n          \"negative\"\n        ],\n        \"semantic_type\": \"\",\n        \"description\": \"\"\n      }\n    },\n    {\n      \"column\": \"TextBlob Sentiment\",\n      \"properties\": {\n        \"dtype\": \"number\",\n        \"std\": 0.2720088516931515,\n        \"min\": -1.0,\n        \"max\": 1.0,\n        \"num_unique_values\": 142,\n        \"samples\": [\n          -0.20000000000000004,\n          -0.16666666666666666,\n          0.41190476190476194\n        ],\n        \"semantic_type\": \"\",\n        \"description\": \"\"\n      }\n    },\n    {\n      \"column\": \"TextBlob Sentiment Category\",\n      \"properties\": {\n        \"dtype\": \"category\",\n        \"num_unique_values\": 3,\n        \"samples\": [\n          \"neutral\",\n          \"positive\",\n          \"negative\"\n        ],\n        \"semantic_type\": \"\",\n        \"description\": \"\"\n      }\n    }\n  ]\n}"
            }
          },
          "metadata": {},
          "execution_count": 116
        }
      ]
    },
    {
      "cell_type": "code",
      "source": [
        "len(df)"
      ],
      "metadata": {
        "colab": {
          "base_uri": "https://localhost:8080/"
        },
        "id": "12a5qHc_1GZO",
        "outputId": "4e6fb58e-e263-48c6-c629-e96825a71709"
      },
      "execution_count": 119,
      "outputs": [
        {
          "output_type": "stream",
          "name": "stderr",
          "text": [
            "/usr/local/lib/python3.10/dist-packages/ipykernel/ipkernel.py:283: DeprecationWarning: `should_run_async` will not call `transform_cell` automatically in the future. Please pass the result to `transformed_cell` argument and any exception that happen during thetransform in `preprocessing_exc_tuple` in IPython 7.17 and above.\n",
            "  and should_run_async(code)\n"
          ]
        },
        {
          "output_type": "execute_result",
          "data": {
            "text/plain": [
              "498"
            ]
          },
          "metadata": {},
          "execution_count": 119
        }
      ]
    },
    {
      "cell_type": "code",
      "source": [
        "df.drop(df.tail(2).index,\n",
        "        inplace = True)"
      ],
      "metadata": {
        "colab": {
          "base_uri": "https://localhost:8080/"
        },
        "id": "4ZKysgoh1Cjw",
        "outputId": "c25eba45-5ce8-46ab-badc-2e66731f2d79"
      },
      "execution_count": 118,
      "outputs": [
        {
          "output_type": "stream",
          "name": "stderr",
          "text": [
            "/usr/local/lib/python3.10/dist-packages/ipykernel/ipkernel.py:283: DeprecationWarning: `should_run_async` will not call `transform_cell` automatically in the future. Please pass the result to `transformed_cell` argument and any exception that happen during thetransform in `preprocessing_exc_tuple` in IPython 7.17 and above.\n",
            "  and should_run_async(code)\n"
          ]
        }
      ]
    },
    {
      "cell_type": "code",
      "source": [
        "# Assume you already have a DataFrame containing documents, their most relevant topics, and sentiment scores\n",
        "# We can get the most likely topic for each document through the LDA model\n",
        "document_topics = [ldamodel[corpus[i]] for i in range(len(df))]\n",
        "df['Dominant_Topic'] = [sorted(topics, key=lambda x: -x[1])[0][0] for topics in document_topics]\n",
        "\n",
        "df.head()"
      ],
      "metadata": {
        "colab": {
          "base_uri": "https://localhost:8080/",
          "height": 382
        },
        "id": "ciJtrZrK09BC",
        "outputId": "089dc21a-6abe-45e8-bc4a-cbc71fa63864"
      },
      "execution_count": 120,
      "outputs": [
        {
          "output_type": "stream",
          "name": "stderr",
          "text": [
            "/usr/local/lib/python3.10/dist-packages/ipykernel/ipkernel.py:283: DeprecationWarning: `should_run_async` will not call `transform_cell` automatically in the future. Please pass the result to `transformed_cell` argument and any exception that happen during thetransform in `preprocessing_exc_tuple` in IPython 7.17 and above.\n",
            "  and should_run_async(code)\n"
          ]
        },
        {
          "output_type": "execute_result",
          "data": {
            "text/plain": [
              "                                                body  \\\n",
              "1  URL: https://i.redd.it/741oufea1ew51.png\\nThum...   \n",
              "2    It’s true, because Hitler caused the Holocaust.   \n",
              "3     Actual Nazis: *eating popcorn from authcenter*   \n",
              "4                “Trump is worse than Hitler”\\n\\nYes   \n",
              "5  “Trump is worse than Hitler”\\n\\n“I know right?...   \n",
              "\n",
              "                                          Clean body  \\\n",
              "1                     URL \\nThumbnail \\nImages\\n\\t\\n   \n",
              "2       Its true because Hitler caused the Holocaust   \n",
              "3        Actual Nazis eating popcorn from authcenter   \n",
              "4                  Trump is worse than Hitler\\n\\nYes   \n",
              "5  Trump is worse than Hitler\\n\\nI know right He ...   \n",
              "\n",
              "                                      Processed body  \\\n",
              "1                               URL Thumbnail Images   \n",
              "2                   Its true Hitler caused Holocaust   \n",
              "3             Actual Nazis eating popcorn authcenter   \n",
              "4                             Trump worse Hitler Yes   \n",
              "5  Trump worse Hitler I know right He let daughte...   \n",
              "\n",
              "                                          Sentiments VADER Sentiment  \\\n",
              "1  {'neg': 0.0, 'neu': 1.0, 'pos': 0.0, 'compound...         neutral   \n",
              "2  {'neg': 0.0, 'neu': 0.588, 'pos': 0.412, 'comp...        positive   \n",
              "3  {'neg': 0.0, 'neu': 1.0, 'pos': 0.0, 'compound...         neutral   \n",
              "4  {'neg': 0.397, 'neu': 0.256, 'pos': 0.346, 'co...        negative   \n",
              "5  {'neg': 0.256, 'neu': 0.744, 'pos': 0.0, 'comp...        negative   \n",
              "\n",
              "   TextBlob Sentiment TextBlob Sentiment Category  Dominant_Topic  \n",
              "1            0.000000                     neutral               0  \n",
              "2            0.350000                    positive               8  \n",
              "3            0.000000                     neutral               7  \n",
              "4           -0.400000                    negative               1  \n",
              "5           -0.057143                    negative               1  "
            ],
            "text/html": [
              "\n",
              "  <div id=\"df-2dd59366-a53e-4433-92a8-7b7254fc22f0\" class=\"colab-df-container\">\n",
              "    <div>\n",
              "<style scoped>\n",
              "    .dataframe tbody tr th:only-of-type {\n",
              "        vertical-align: middle;\n",
              "    }\n",
              "\n",
              "    .dataframe tbody tr th {\n",
              "        vertical-align: top;\n",
              "    }\n",
              "\n",
              "    .dataframe thead th {\n",
              "        text-align: right;\n",
              "    }\n",
              "</style>\n",
              "<table border=\"1\" class=\"dataframe\">\n",
              "  <thead>\n",
              "    <tr style=\"text-align: right;\">\n",
              "      <th></th>\n",
              "      <th>body</th>\n",
              "      <th>Clean body</th>\n",
              "      <th>Processed body</th>\n",
              "      <th>Sentiments</th>\n",
              "      <th>VADER Sentiment</th>\n",
              "      <th>TextBlob Sentiment</th>\n",
              "      <th>TextBlob Sentiment Category</th>\n",
              "      <th>Dominant_Topic</th>\n",
              "    </tr>\n",
              "  </thead>\n",
              "  <tbody>\n",
              "    <tr>\n",
              "      <th>1</th>\n",
              "      <td>URL: https://i.redd.it/741oufea1ew51.png\\nThum...</td>\n",
              "      <td>URL \\nThumbnail \\nImages\\n\\t\\n</td>\n",
              "      <td>URL Thumbnail Images</td>\n",
              "      <td>{'neg': 0.0, 'neu': 1.0, 'pos': 0.0, 'compound...</td>\n",
              "      <td>neutral</td>\n",
              "      <td>0.000000</td>\n",
              "      <td>neutral</td>\n",
              "      <td>0</td>\n",
              "    </tr>\n",
              "    <tr>\n",
              "      <th>2</th>\n",
              "      <td>It’s true, because Hitler caused the Holocaust.</td>\n",
              "      <td>Its true because Hitler caused the Holocaust</td>\n",
              "      <td>Its true Hitler caused Holocaust</td>\n",
              "      <td>{'neg': 0.0, 'neu': 0.588, 'pos': 0.412, 'comp...</td>\n",
              "      <td>positive</td>\n",
              "      <td>0.350000</td>\n",
              "      <td>positive</td>\n",
              "      <td>8</td>\n",
              "    </tr>\n",
              "    <tr>\n",
              "      <th>3</th>\n",
              "      <td>Actual Nazis: *eating popcorn from authcenter*</td>\n",
              "      <td>Actual Nazis eating popcorn from authcenter</td>\n",
              "      <td>Actual Nazis eating popcorn authcenter</td>\n",
              "      <td>{'neg': 0.0, 'neu': 1.0, 'pos': 0.0, 'compound...</td>\n",
              "      <td>neutral</td>\n",
              "      <td>0.000000</td>\n",
              "      <td>neutral</td>\n",
              "      <td>7</td>\n",
              "    </tr>\n",
              "    <tr>\n",
              "      <th>4</th>\n",
              "      <td>“Trump is worse than Hitler”\\n\\nYes</td>\n",
              "      <td>Trump is worse than Hitler\\n\\nYes</td>\n",
              "      <td>Trump worse Hitler Yes</td>\n",
              "      <td>{'neg': 0.397, 'neu': 0.256, 'pos': 0.346, 'co...</td>\n",
              "      <td>negative</td>\n",
              "      <td>-0.400000</td>\n",
              "      <td>negative</td>\n",
              "      <td>1</td>\n",
              "    </tr>\n",
              "    <tr>\n",
              "      <th>5</th>\n",
              "      <td>“Trump is worse than Hitler”\\n\\n“I know right?...</td>\n",
              "      <td>Trump is worse than Hitler\\n\\nI know right He ...</td>\n",
              "      <td>Trump worse Hitler I know right He let daughte...</td>\n",
              "      <td>{'neg': 0.256, 'neu': 0.744, 'pos': 0.0, 'comp...</td>\n",
              "      <td>negative</td>\n",
              "      <td>-0.057143</td>\n",
              "      <td>negative</td>\n",
              "      <td>1</td>\n",
              "    </tr>\n",
              "  </tbody>\n",
              "</table>\n",
              "</div>\n",
              "    <div class=\"colab-df-buttons\">\n",
              "\n",
              "  <div class=\"colab-df-container\">\n",
              "    <button class=\"colab-df-convert\" onclick=\"convertToInteractive('df-2dd59366-a53e-4433-92a8-7b7254fc22f0')\"\n",
              "            title=\"Convert this dataframe to an interactive table.\"\n",
              "            style=\"display:none;\">\n",
              "\n",
              "  <svg xmlns=\"http://www.w3.org/2000/svg\" height=\"24px\" viewBox=\"0 -960 960 960\">\n",
              "    <path d=\"M120-120v-720h720v720H120Zm60-500h600v-160H180v160Zm220 220h160v-160H400v160Zm0 220h160v-160H400v160ZM180-400h160v-160H180v160Zm440 0h160v-160H620v160ZM180-180h160v-160H180v160Zm440 0h160v-160H620v160Z\"/>\n",
              "  </svg>\n",
              "    </button>\n",
              "\n",
              "  <style>\n",
              "    .colab-df-container {\n",
              "      display:flex;\n",
              "      gap: 12px;\n",
              "    }\n",
              "\n",
              "    .colab-df-convert {\n",
              "      background-color: #E8F0FE;\n",
              "      border: none;\n",
              "      border-radius: 50%;\n",
              "      cursor: pointer;\n",
              "      display: none;\n",
              "      fill: #1967D2;\n",
              "      height: 32px;\n",
              "      padding: 0 0 0 0;\n",
              "      width: 32px;\n",
              "    }\n",
              "\n",
              "    .colab-df-convert:hover {\n",
              "      background-color: #E2EBFA;\n",
              "      box-shadow: 0px 1px 2px rgba(60, 64, 67, 0.3), 0px 1px 3px 1px rgba(60, 64, 67, 0.15);\n",
              "      fill: #174EA6;\n",
              "    }\n",
              "\n",
              "    .colab-df-buttons div {\n",
              "      margin-bottom: 4px;\n",
              "    }\n",
              "\n",
              "    [theme=dark] .colab-df-convert {\n",
              "      background-color: #3B4455;\n",
              "      fill: #D2E3FC;\n",
              "    }\n",
              "\n",
              "    [theme=dark] .colab-df-convert:hover {\n",
              "      background-color: #434B5C;\n",
              "      box-shadow: 0px 1px 3px 1px rgba(0, 0, 0, 0.15);\n",
              "      filter: drop-shadow(0px 1px 2px rgba(0, 0, 0, 0.3));\n",
              "      fill: #FFFFFF;\n",
              "    }\n",
              "  </style>\n",
              "\n",
              "    <script>\n",
              "      const buttonEl =\n",
              "        document.querySelector('#df-2dd59366-a53e-4433-92a8-7b7254fc22f0 button.colab-df-convert');\n",
              "      buttonEl.style.display =\n",
              "        google.colab.kernel.accessAllowed ? 'block' : 'none';\n",
              "\n",
              "      async function convertToInteractive(key) {\n",
              "        const element = document.querySelector('#df-2dd59366-a53e-4433-92a8-7b7254fc22f0');\n",
              "        const dataTable =\n",
              "          await google.colab.kernel.invokeFunction('convertToInteractive',\n",
              "                                                    [key], {});\n",
              "        if (!dataTable) return;\n",
              "\n",
              "        const docLinkHtml = 'Like what you see? Visit the ' +\n",
              "          '<a target=\"_blank\" href=https://colab.research.google.com/notebooks/data_table.ipynb>data table notebook</a>'\n",
              "          + ' to learn more about interactive tables.';\n",
              "        element.innerHTML = '';\n",
              "        dataTable['output_type'] = 'display_data';\n",
              "        await google.colab.output.renderOutput(dataTable, element);\n",
              "        const docLink = document.createElement('div');\n",
              "        docLink.innerHTML = docLinkHtml;\n",
              "        element.appendChild(docLink);\n",
              "      }\n",
              "    </script>\n",
              "  </div>\n",
              "\n",
              "\n",
              "<div id=\"df-a903668c-ced8-47d2-a300-ac763e1d7b04\">\n",
              "  <button class=\"colab-df-quickchart\" onclick=\"quickchart('df-a903668c-ced8-47d2-a300-ac763e1d7b04')\"\n",
              "            title=\"Suggest charts\"\n",
              "            style=\"display:none;\">\n",
              "\n",
              "<svg xmlns=\"http://www.w3.org/2000/svg\" height=\"24px\"viewBox=\"0 0 24 24\"\n",
              "     width=\"24px\">\n",
              "    <g>\n",
              "        <path d=\"M19 3H5c-1.1 0-2 .9-2 2v14c0 1.1.9 2 2 2h14c1.1 0 2-.9 2-2V5c0-1.1-.9-2-2-2zM9 17H7v-7h2v7zm4 0h-2V7h2v10zm4 0h-2v-4h2v4z\"/>\n",
              "    </g>\n",
              "</svg>\n",
              "  </button>\n",
              "\n",
              "<style>\n",
              "  .colab-df-quickchart {\n",
              "      --bg-color: #E8F0FE;\n",
              "      --fill-color: #1967D2;\n",
              "      --hover-bg-color: #E2EBFA;\n",
              "      --hover-fill-color: #174EA6;\n",
              "      --disabled-fill-color: #AAA;\n",
              "      --disabled-bg-color: #DDD;\n",
              "  }\n",
              "\n",
              "  [theme=dark] .colab-df-quickchart {\n",
              "      --bg-color: #3B4455;\n",
              "      --fill-color: #D2E3FC;\n",
              "      --hover-bg-color: #434B5C;\n",
              "      --hover-fill-color: #FFFFFF;\n",
              "      --disabled-bg-color: #3B4455;\n",
              "      --disabled-fill-color: #666;\n",
              "  }\n",
              "\n",
              "  .colab-df-quickchart {\n",
              "    background-color: var(--bg-color);\n",
              "    border: none;\n",
              "    border-radius: 50%;\n",
              "    cursor: pointer;\n",
              "    display: none;\n",
              "    fill: var(--fill-color);\n",
              "    height: 32px;\n",
              "    padding: 0;\n",
              "    width: 32px;\n",
              "  }\n",
              "\n",
              "  .colab-df-quickchart:hover {\n",
              "    background-color: var(--hover-bg-color);\n",
              "    box-shadow: 0 1px 2px rgba(60, 64, 67, 0.3), 0 1px 3px 1px rgba(60, 64, 67, 0.15);\n",
              "    fill: var(--button-hover-fill-color);\n",
              "  }\n",
              "\n",
              "  .colab-df-quickchart-complete:disabled,\n",
              "  .colab-df-quickchart-complete:disabled:hover {\n",
              "    background-color: var(--disabled-bg-color);\n",
              "    fill: var(--disabled-fill-color);\n",
              "    box-shadow: none;\n",
              "  }\n",
              "\n",
              "  .colab-df-spinner {\n",
              "    border: 2px solid var(--fill-color);\n",
              "    border-color: transparent;\n",
              "    border-bottom-color: var(--fill-color);\n",
              "    animation:\n",
              "      spin 1s steps(1) infinite;\n",
              "  }\n",
              "\n",
              "  @keyframes spin {\n",
              "    0% {\n",
              "      border-color: transparent;\n",
              "      border-bottom-color: var(--fill-color);\n",
              "      border-left-color: var(--fill-color);\n",
              "    }\n",
              "    20% {\n",
              "      border-color: transparent;\n",
              "      border-left-color: var(--fill-color);\n",
              "      border-top-color: var(--fill-color);\n",
              "    }\n",
              "    30% {\n",
              "      border-color: transparent;\n",
              "      border-left-color: var(--fill-color);\n",
              "      border-top-color: var(--fill-color);\n",
              "      border-right-color: var(--fill-color);\n",
              "    }\n",
              "    40% {\n",
              "      border-color: transparent;\n",
              "      border-right-color: var(--fill-color);\n",
              "      border-top-color: var(--fill-color);\n",
              "    }\n",
              "    60% {\n",
              "      border-color: transparent;\n",
              "      border-right-color: var(--fill-color);\n",
              "    }\n",
              "    80% {\n",
              "      border-color: transparent;\n",
              "      border-right-color: var(--fill-color);\n",
              "      border-bottom-color: var(--fill-color);\n",
              "    }\n",
              "    90% {\n",
              "      border-color: transparent;\n",
              "      border-bottom-color: var(--fill-color);\n",
              "    }\n",
              "  }\n",
              "</style>\n",
              "\n",
              "  <script>\n",
              "    async function quickchart(key) {\n",
              "      const quickchartButtonEl =\n",
              "        document.querySelector('#' + key + ' button');\n",
              "      quickchartButtonEl.disabled = true;  // To prevent multiple clicks.\n",
              "      quickchartButtonEl.classList.add('colab-df-spinner');\n",
              "      try {\n",
              "        const charts = await google.colab.kernel.invokeFunction(\n",
              "            'suggestCharts', [key], {});\n",
              "      } catch (error) {\n",
              "        console.error('Error during call to suggestCharts:', error);\n",
              "      }\n",
              "      quickchartButtonEl.classList.remove('colab-df-spinner');\n",
              "      quickchartButtonEl.classList.add('colab-df-quickchart-complete');\n",
              "    }\n",
              "    (() => {\n",
              "      let quickchartButtonEl =\n",
              "        document.querySelector('#df-a903668c-ced8-47d2-a300-ac763e1d7b04 button');\n",
              "      quickchartButtonEl.style.display =\n",
              "        google.colab.kernel.accessAllowed ? 'block' : 'none';\n",
              "    })();\n",
              "  </script>\n",
              "</div>\n",
              "    </div>\n",
              "  </div>\n"
            ],
            "application/vnd.google.colaboratory.intrinsic+json": {
              "type": "dataframe",
              "variable_name": "df",
              "summary": "{\n  \"name\": \"df\",\n  \"rows\": 498,\n  \"fields\": [\n    {\n      \"column\": \"body\",\n      \"properties\": {\n        \"dtype\": \"string\",\n        \"num_unique_values\": 449,\n        \"samples\": [\n          \"Wait auth right doesn\\u2019t believe in the Holocaust? This isn\\u2019t sarcastic I am legitimately asking\",\n          \"Stalin was worse than Hitler\",\n          \"Heir to the cum throne.\"\n        ],\n        \"semantic_type\": \"\",\n        \"description\": \"\"\n      }\n    },\n    {\n      \"column\": \"Clean body\",\n      \"properties\": {\n        \"dtype\": \"string\",\n        \"num_unique_values\": 447,\n        \"samples\": [\n          \"Wait auth right doesnt believe in the Holocaust This isnt sarcastic I am legitimately asking\",\n          \"Racistexe has stopped working\",\n          \"Heir to the cum throne\"\n        ],\n        \"semantic_type\": \"\",\n        \"description\": \"\"\n      }\n    },\n    {\n      \"column\": \"Processed body\",\n      \"properties\": {\n        \"dtype\": \"string\",\n        \"num_unique_values\": 446,\n        \"samples\": [\n          \"Wait auth right doesnt believe Holocaust This isnt sarcastic I legitimately asking\",\n          \"Would say border leftist since prevents freedom individual move freely\",\n          \"Heir cum throne\"\n        ],\n        \"semantic_type\": \"\",\n        \"description\": \"\"\n      }\n    },\n    {\n      \"column\": \"Sentiments\",\n      \"properties\": {\n        \"dtype\": \"object\",\n        \"semantic_type\": \"\",\n        \"description\": \"\"\n      }\n    },\n    {\n      \"column\": \"VADER Sentiment\",\n      \"properties\": {\n        \"dtype\": \"category\",\n        \"num_unique_values\": 3,\n        \"samples\": [\n          \"neutral\",\n          \"positive\",\n          \"negative\"\n        ],\n        \"semantic_type\": \"\",\n        \"description\": \"\"\n      }\n    },\n    {\n      \"column\": \"TextBlob Sentiment\",\n      \"properties\": {\n        \"dtype\": \"number\",\n        \"std\": 0.27234338731963015,\n        \"min\": -1.0,\n        \"max\": 1.0,\n        \"num_unique_values\": 141,\n        \"samples\": [\n          0.13636363636363635,\n          -0.5499999999999999,\n          -0.275\n        ],\n        \"semantic_type\": \"\",\n        \"description\": \"\"\n      }\n    },\n    {\n      \"column\": \"TextBlob Sentiment Category\",\n      \"properties\": {\n        \"dtype\": \"category\",\n        \"num_unique_values\": 3,\n        \"samples\": [\n          \"neutral\",\n          \"positive\",\n          \"negative\"\n        ],\n        \"semantic_type\": \"\",\n        \"description\": \"\"\n      }\n    },\n    {\n      \"column\": \"Dominant_Topic\",\n      \"properties\": {\n        \"dtype\": \"number\",\n        \"std\": 3,\n        \"min\": 0,\n        \"max\": 9,\n        \"num_unique_values\": 10,\n        \"samples\": [\n          3,\n          8,\n          5\n        ],\n        \"semantic_type\": \"\",\n        \"description\": \"\"\n      }\n    }\n  ]\n}"
            }
          },
          "metadata": {},
          "execution_count": 120
        }
      ]
    },
    {
      "cell_type": "code",
      "source": [
        "# Next, we calculate the average sentiment score for each topic\n",
        "# Suppose we already have a column 'Sentiment_Score' in our DataFrame, representing the sentiment score\n",
        "topic_sentiment = df.groupby('Dominant_Topic')['TextBlob Sentiment'].mean().sort_values(ascending=False)\n",
        "\n",
        "# Visualize the average sentiment score for each topic\n",
        "topic_sentiment.plot(kind='bar', color='skyblue')\n",
        "plt.title('Average Sentiment Score per Topic')\n",
        "plt.xlabel('Topic')\n",
        "plt.ylabel('Average Sentiment Score')\n",
        "plt.show()"
      ],
      "metadata": {
        "colab": {
          "base_uri": "https://localhost:8080/",
          "height": 522
        },
        "id": "1YT38WU31A5I",
        "outputId": "b7ff9f2c-785e-46da-b5bd-145840f2fc48"
      },
      "execution_count": 121,
      "outputs": [
        {
          "output_type": "stream",
          "name": "stderr",
          "text": [
            "/usr/local/lib/python3.10/dist-packages/ipykernel/ipkernel.py:283: DeprecationWarning: `should_run_async` will not call `transform_cell` automatically in the future. Please pass the result to `transformed_cell` argument and any exception that happen during thetransform in `preprocessing_exc_tuple` in IPython 7.17 and above.\n",
            "  and should_run_async(code)\n"
          ]
        },
        {
          "output_type": "display_data",
          "data": {
            "text/plain": [
              "<Figure size 640x480 with 1 Axes>"
            ],
            "image/png": "[encoded data removed]"
          },
          "metadata": {}
        }
      ]
    },
    {
      "cell_type": "markdown",
      "source": [
        "N-gram"
      ],
      "metadata": {
        "id": "y054ys_J1R1f"
      }
    },
    {
      "cell_type": "code",
      "source": [
        "def get_top_ngram(corpus, n):\n",
        "    lis=[]\n",
        "    vec = CountVectorizer(ngram_range = (n,n)).fit(corpus)\n",
        "    bag_of_words = vec.transform(corpus)\n",
        "    sum_words = bag_of_words.sum(axis = 0)\n",
        "    for word,idx in vec.vocabulary_.items():\n",
        "        lis.append((word, sum_words[0,idx]))\n",
        "    lis.sort(key = lambda x: x[1], reverse = True)\n",
        "    return lis"
      ],
      "metadata": {
        "colab": {
          "base_uri": "https://localhost:8080/"
        },
        "id": "3m-Fc0Jx1Pdo",
        "outputId": "5cb2997e-a44c-4265-f0d8-3fb50c1eedcb"
      },
      "execution_count": 122,
      "outputs": [
        {
          "output_type": "stream",
          "name": "stderr",
          "text": [
            "/usr/local/lib/python3.10/dist-packages/ipykernel/ipkernel.py:283: DeprecationWarning: `should_run_async` will not call `transform_cell` automatically in the future. Please pass the result to `transformed_cell` argument and any exception that happen during thetransform in `preprocessing_exc_tuple` in IPython 7.17 and above.\n",
            "  and should_run_async(code)\n"
          ]
        }
      ]
    },
    {
      "cell_type": "code",
      "source": [
        "top_n_bigrams=get_top_ngram(df['Processed body'],1)[:20]\n",
        "x,y=map(list,zip(*top_n_bigrams))\n",
        "plt.title('Top 20 frequently occured uni-gram')\n",
        "sns.barplot(x=y,y=x)"
      ],
      "metadata": {
        "colab": {
          "base_uri": "https://localhost:8080/",
          "height": 524
        },
        "id": "H5wT4dsB1Uy1",
        "outputId": "20a3d6d7-01c4-4368-9e43-75ada3871888"
      },
      "execution_count": 123,
      "outputs": [
        {
          "output_type": "stream",
          "name": "stderr",
          "text": [
            "/usr/local/lib/python3.10/dist-packages/ipykernel/ipkernel.py:283: DeprecationWarning: `should_run_async` will not call `transform_cell` automatically in the future. Please pass the result to `transformed_cell` argument and any exception that happen during thetransform in `preprocessing_exc_tuple` in IPython 7.17 and above.\n",
            "  and should_run_async(code)\n"
          ]
        },
        {
          "output_type": "execute_result",
          "data": {
            "text/plain": [
              "<Axes: title={'center': 'Top 20 frequently occured uni-gram'}>"
            ]
          },
          "metadata": {},
          "execution_count": 123
        },
        {
          "output_type": "display_data",
          "data": {
            "text/plain": [
              "<Figure size 640x480 with 1 Axes>"
            ],
            "image/png": "[encoded data removed]"
          },
          "metadata": {}
        }
      ]
    },
    {
      "cell_type": "code",
      "source": [
        "top_n_bigrams=get_top_ngram(df['Processed body'],2)[:20]\n",
        "x,y=map(list,zip(*top_n_bigrams))\n",
        "plt.title('Top 20 frequently occured bi-grams')\n",
        "sns.barplot(x=y,y=x)"
      ],
      "metadata": {
        "colab": {
          "base_uri": "https://localhost:8080/",
          "height": 524
        },
        "id": "ylt7vLAx1XNZ",
        "outputId": "a32a6bd1-8fbb-4206-caf2-726ed9f189ad"
      },
      "execution_count": 124,
      "outputs": [
        {
          "output_type": "stream",
          "name": "stderr",
          "text": [
            "/usr/local/lib/python3.10/dist-packages/ipykernel/ipkernel.py:283: DeprecationWarning: `should_run_async` will not call `transform_cell` automatically in the future. Please pass the result to `transformed_cell` argument and any exception that happen during thetransform in `preprocessing_exc_tuple` in IPython 7.17 and above.\n",
            "  and should_run_async(code)\n"
          ]
        },
        {
          "output_type": "execute_result",
          "data": {
            "text/plain": [
              "<Axes: title={'center': 'Top 20 frequently occured bi-grams'}>"
            ]
          },
          "metadata": {},
          "execution_count": 124
        },
        {
          "output_type": "display_data",
          "data": {
            "text/plain": [
              "<Figure size 640x480 with 1 Axes>"
            ],
            "image/png": "[encoded data removed]"
          },
          "metadata": {}
        }
      ]
    },
    {
      "cell_type": "code",
      "source": [
        "top_n_bigrams=get_top_ngram(df['Processed body'],3)[:20]\n",
        "x,y=map(list,zip(*top_n_bigrams))\n",
        "plt.title('Top 20 frequently occured tri-grams')\n",
        "sns.barplot(x=y,y=x)"
      ],
      "metadata": {
        "colab": {
          "base_uri": "https://localhost:8080/",
          "height": 524
        },
        "id": "8pxxYnoB1aCU",
        "outputId": "4f95a3e8-4f6d-4d9c-a458-9db138fabd3f"
      },
      "execution_count": 125,
      "outputs": [
        {
          "output_type": "stream",
          "name": "stderr",
          "text": [
            "/usr/local/lib/python3.10/dist-packages/ipykernel/ipkernel.py:283: DeprecationWarning: `should_run_async` will not call `transform_cell` automatically in the future. Please pass the result to `transformed_cell` argument and any exception that happen during thetransform in `preprocessing_exc_tuple` in IPython 7.17 and above.\n",
            "  and should_run_async(code)\n"
          ]
        },
        {
          "output_type": "execute_result",
          "data": {
            "text/plain": [
              "<Axes: title={'center': 'Top 20 frequently occured tri-grams'}>"
            ]
          },
          "metadata": {},
          "execution_count": 125
        },
        {
          "output_type": "display_data",
          "data": {
            "text/plain": [
              "<Figure size 640x480 with 1 Axes>"
            ],
            "image/png": "[encoded data removed]"
          },
          "metadata": {}
        }
      ]
    },
    {
      "cell_type": "markdown",
      "source": [
        "Visualisation"
      ],
      "metadata": {
        "id": "3AQIt03d1iTv"
      }
    },
    {
      "cell_type": "code",
      "source": [
        "# WordCloud\n",
        "text = ' '.join(review for review in df['Processed body'])\n",
        "wordcloud = WordCloud(background_color='white').generate(text)\n",
        "\n",
        "plt.imshow(wordcloud, interpolation='bilinear')\n",
        "plt.axis('off')\n",
        "plt.show()"
      ],
      "metadata": {
        "colab": {
          "base_uri": "https://localhost:8080/",
          "height": 340
        },
        "id": "7knDlqd91deB",
        "outputId": "c327dff5-5ee9-41c2-a290-4d21c53d9d4b"
      },
      "execution_count": 126,
      "outputs": [
        {
          "output_type": "stream",
          "name": "stderr",
          "text": [
            "/usr/local/lib/python3.10/dist-packages/ipykernel/ipkernel.py:283: DeprecationWarning: `should_run_async` will not call `transform_cell` automatically in the future. Please pass the result to `transformed_cell` argument and any exception that happen during thetransform in `preprocessing_exc_tuple` in IPython 7.17 and above.\n",
            "  and should_run_async(code)\n"
          ]
        },
        {
          "output_type": "display_data",
          "data": {
            "text/plain": [
              "<Figure size 640x480 with 1 Axes>"
            ],
            "image/png": "[encoded data removed]"
          },
          "metadata": {}
        }
      ]
    },
    {
      "cell_type": "code",
      "source": [],
      "metadata": {
        "id": "rY2j2IuI1l1v"
      },
      "execution_count": null,
      "outputs": []
    }
  ]
}