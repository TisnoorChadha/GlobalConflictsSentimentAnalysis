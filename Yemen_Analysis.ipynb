{
  "nbformat": 4,
  "nbformat_minor": 0,
  "metadata": {
    "colab": {
      "provenance": []
    },
    "kernelspec": {
      "name": "python3",
      "display_name": "Python 3"
    },
    "language_info": {
      "name": "python"
    }
  },
  "cells": [
    {
      "cell_type": "code",
      "execution_count": 1,
      "metadata": {
        "id": "Wt9ts2AUx4g5"
      },
      "outputs": [],
      "source": [
        "import pandas as pd\n",
        "import numpy as np\n",
        "import re\n",
        "from sklearn.feature_extraction.text import TfidfVectorizer\n",
        "from nltk.sentiment.vader import SentimentIntensityAnalyzer\n",
        "from textblob import TextBlob\n",
        "import gensim\n",
        "from gensim import corpora\n",
        "from gensim.models.ldamodel import LdaModel\n",
        "import networkx as nx\n",
        "import matplotlib.pyplot as plt\n",
        "import seaborn as sns\n",
        "from scipy.stats import pearsonr\n",
        "from wordcloud import WordCloud\n",
        "from nltk.corpus import stopwords\n",
        "from nltk.tokenize import word_tokenize\n",
        "from nltk.stem import WordNetLemmatizer\n",
        "import nltk\n",
        "from bs4 import BeautifulSoup\n",
        "import string,unicodedata\n",
        "from sklearn.feature_extraction.text import CountVectorizer\n",
        "from plotly.subplots import make_subplots\n",
        "import plotly.graph_objects as go\n"
      ]
    },
    {
      "cell_type": "code",
      "source": [
        "df = pd.read_csv(\"/content/Yemen war Reddit Scrape.csv\")"
      ],
      "metadata": {
        "colab": {
          "base_uri": "https://localhost:8080/"
        },
        "id": "guNEXSiByBUN",
        "outputId": "e2efcb65-409a-4295-d542-2fed2dcdfd3f"
      },
      "execution_count": 45,
      "outputs": [
        {
          "output_type": "stream",
          "name": "stderr",
          "text": [
            "/usr/local/lib/python3.10/dist-packages/ipykernel/ipkernel.py:283: DeprecationWarning: `should_run_async` will not call `transform_cell` automatically in the future. Please pass the result to `transformed_cell` argument and any exception that happen during thetransform in `preprocessing_exc_tuple` in IPython 7.17 and above.\n",
            "  and should_run_async(code)\n"
          ]
        }
      ]
    },
    {
      "cell_type": "code",
      "source": [
        "df.head()"
      ],
      "metadata": {
        "colab": {
          "base_uri": "https://localhost:8080/",
          "height": 533
        },
        "id": "JmGSlPFiyb2M",
        "outputId": "f762c725-6e34-4085-a1ff-a74686590291"
      },
      "execution_count": 46,
      "outputs": [
        {
          "output_type": "stream",
          "name": "stderr",
          "text": [
            "/usr/local/lib/python3.10/dist-packages/ipykernel/ipkernel.py:283: DeprecationWarning: `should_run_async` will not call `transform_cell` automatically in the future. Please pass the result to `transformed_cell` argument and any exception that happen during thetransform in `preprocessing_exc_tuple` in IPython 7.17 and above.\n",
            "  and should_run_async(code)\n"
          ]
        },
        {
          "output_type": "execute_result",
          "data": {
            "text/plain": [
              "                                                body      category  \\\n",
              "0  URL: https://v.redd.it/8zkhzbxomddc1\\nThumbnai...           NaN   \n",
              "1  [☭☭☭ COME SHITPOST WITH US ON DISCORD, COMRADE...  TheDeprogram   \n",
              "2                 Incredibly based + unironic banger  TheDeprogram   \n",
              "3  Like half of the video is just support for the...  TheDeprogram   \n",
              "4        I think that video get take down in youtube  TheDeprogram   \n",
              "\n",
              "    communityName                 createdAt dataType flair  \\\n",
              "0  r/TheDeprogram  2024-01-19T10:48:15.000Z     post   Art   \n",
              "1  r/TheDeprogram  2024-01-19T10:48:40.000Z  comment   NaN   \n",
              "2  r/TheDeprogram  2024-01-19T11:49:14.000Z  comment   NaN   \n",
              "3  r/TheDeprogram  2024-01-19T16:18:24.000Z  comment   NaN   \n",
              "4  r/TheDeprogram  2024-01-19T11:43:46.000Z  comment   NaN   \n",
              "\n",
              "                                                html          id   isAd  \\\n",
              "0                                                NaN  t3_19agds1  False   \n",
              "1  &lt;div class=\"md\"&gt;&lt;p&gt;&lt;a href=\"htt...  t1_kiklcjh    NaN   \n",
              "2  &lt;div class=\"md\"&gt;&lt;p&gt;Incredibly base...  t1_kikqtzw    NaN   \n",
              "3  &lt;div class=\"md\"&gt;&lt;p&gt;Like half of th...  t1_kilt7d5    NaN   \n",
              "4  &lt;div class=\"md\"&gt;&lt;p&gt;I think that vi...  t1_kikqaxb    NaN   \n",
              "\n",
              "  isVideo  ...      postId                 scrapedAt thumbnailUrl  \\\n",
              "0    True  ...         NaN  2024-06-18T15:31:02.815Z         nsfw   \n",
              "1     NaN  ...  t3_19agds1  2024-06-18T15:31:02.842Z          NaN   \n",
              "2     NaN  ...  t3_19agds1  2024-06-18T15:31:02.842Z          NaN   \n",
              "3     NaN  ...  t3_19agds1  2024-06-18T15:31:02.842Z          NaN   \n",
              "4     NaN  ...  t3_19agds1  2024-06-18T15:31:02.842Z          NaN   \n",
              "\n",
              "                                               title upVoteRatio upVotes  \\\n",
              "0  Yemen war song \"Never to America\" with Anti im...        0.97     603   \n",
              "1                                                NaN         NaN       1   \n",
              "2                                                NaN         NaN     136   \n",
              "3                                                NaN         NaN      37   \n",
              "4                                                NaN         NaN      75   \n",
              "\n",
              "                                                 url        userId  \\\n",
              "0  https://www.reddit.com/r/TheDeprogram/comments...   t2_5184213v   \n",
              "1  https://www.reddit.com/r/TheDeprogram/comments...      t2_6l4z3   \n",
              "2  https://www.reddit.com/r/TheDeprogram/comments...   t2_om755s8a   \n",
              "3  https://www.reddit.com/r/TheDeprogram/comments...      t2_qxypw   \n",
              "4  https://www.reddit.com/r/TheDeprogram/comments...  t2_8qj5j4q4s   \n",
              "\n",
              "              username                                           videoUrl  \n",
              "0    CleverSpaceWombat  https://v.redd.it/8zkhzbxomddc1/DASH_720.mp4?s...  \n",
              "1        AutoModerator                                                NaN  \n",
              "2          HexeInExile                                                NaN  \n",
              "3       justyourbarber                                                NaN  \n",
              "4  Chad_VietnamSoldier                                                NaN  \n",
              "\n",
              "[5 rows x 26 columns]"
            ],
            "text/html": [
              "\n",
              "  <div id=\"df-01609d59-a8ee-427f-a8e1-862bd17f0e35\" class=\"colab-df-container\">\n",
              "    <div>\n",
              "<style scoped>\n",
              "    .dataframe tbody tr th:only-of-type {\n",
              "        vertical-align: middle;\n",
              "    }\n",
              "\n",
              "    .dataframe tbody tr th {\n",
              "        vertical-align: top;\n",
              "    }\n",
              "\n",
              "    .dataframe thead th {\n",
              "        text-align: right;\n",
              "    }\n",
              "</style>\n",
              "<table border=\"1\" class=\"dataframe\">\n",
              "  <thead>\n",
              "    <tr style=\"text-align: right;\">\n",
              "      <th></th>\n",
              "      <th>body</th>\n",
              "      <th>category</th>\n",
              "      <th>communityName</th>\n",
              "      <th>createdAt</th>\n",
              "      <th>dataType</th>\n",
              "      <th>flair</th>\n",
              "      <th>html</th>\n",
              "      <th>id</th>\n",
              "      <th>isAd</th>\n",
              "      <th>isVideo</th>\n",
              "      <th>...</th>\n",
              "      <th>postId</th>\n",
              "      <th>scrapedAt</th>\n",
              "      <th>thumbnailUrl</th>\n",
              "      <th>title</th>\n",
              "      <th>upVoteRatio</th>\n",
              "      <th>upVotes</th>\n",
              "      <th>url</th>\n",
              "      <th>userId</th>\n",
              "      <th>username</th>\n",
              "      <th>videoUrl</th>\n",
              "    </tr>\n",
              "  </thead>\n",
              "  <tbody>\n",
              "    <tr>\n",
              "      <th>0</th>\n",
              "      <td>URL: https://v.redd.it/8zkhzbxomddc1\\nThumbnai...</td>\n",
              "      <td>NaN</td>\n",
              "      <td>r/TheDeprogram</td>\n",
              "      <td>2024-01-19T10:48:15.000Z</td>\n",
              "      <td>post</td>\n",
              "      <td>Art</td>\n",
              "      <td>NaN</td>\n",
              "      <td>t3_19agds1</td>\n",
              "      <td>False</td>\n",
              "      <td>True</td>\n",
              "      <td>...</td>\n",
              "      <td>NaN</td>\n",
              "      <td>2024-06-18T15:31:02.815Z</td>\n",
              "      <td>nsfw</td>\n",
              "      <td>Yemen war song \"Never to America\" with Anti im...</td>\n",
              "      <td>0.97</td>\n",
              "      <td>603</td>\n",
              "      <td>https://www.reddit.com/r/TheDeprogram/comments...</td>\n",
              "      <td>t2_5184213v</td>\n",
              "      <td>CleverSpaceWombat</td>\n",
              "      <td>https://v.redd.it/8zkhzbxomddc1/DASH_720.mp4?s...</td>\n",
              "    </tr>\n",
              "    <tr>\n",
              "      <th>1</th>\n",
              "      <td>[☭☭☭ COME SHITPOST WITH US ON DISCORD, COMRADE...</td>\n",
              "      <td>TheDeprogram</td>\n",
              "      <td>r/TheDeprogram</td>\n",
              "      <td>2024-01-19T10:48:40.000Z</td>\n",
              "      <td>comment</td>\n",
              "      <td>NaN</td>\n",
              "      <td>&amp;lt;div class=\"md\"&amp;gt;&amp;lt;p&amp;gt;&amp;lt;a href=\"htt...</td>\n",
              "      <td>t1_kiklcjh</td>\n",
              "      <td>NaN</td>\n",
              "      <td>NaN</td>\n",
              "      <td>...</td>\n",
              "      <td>t3_19agds1</td>\n",
              "      <td>2024-06-18T15:31:02.842Z</td>\n",
              "      <td>NaN</td>\n",
              "      <td>NaN</td>\n",
              "      <td>NaN</td>\n",
              "      <td>1</td>\n",
              "      <td>https://www.reddit.com/r/TheDeprogram/comments...</td>\n",
              "      <td>t2_6l4z3</td>\n",
              "      <td>AutoModerator</td>\n",
              "      <td>NaN</td>\n",
              "    </tr>\n",
              "    <tr>\n",
              "      <th>2</th>\n",
              "      <td>Incredibly based + unironic banger</td>\n",
              "      <td>TheDeprogram</td>\n",
              "      <td>r/TheDeprogram</td>\n",
              "      <td>2024-01-19T11:49:14.000Z</td>\n",
              "      <td>comment</td>\n",
              "      <td>NaN</td>\n",
              "      <td>&amp;lt;div class=\"md\"&amp;gt;&amp;lt;p&amp;gt;Incredibly base...</td>\n",
              "      <td>t1_kikqtzw</td>\n",
              "      <td>NaN</td>\n",
              "      <td>NaN</td>\n",
              "      <td>...</td>\n",
              "      <td>t3_19agds1</td>\n",
              "      <td>2024-06-18T15:31:02.842Z</td>\n",
              "      <td>NaN</td>\n",
              "      <td>NaN</td>\n",
              "      <td>NaN</td>\n",
              "      <td>136</td>\n",
              "      <td>https://www.reddit.com/r/TheDeprogram/comments...</td>\n",
              "      <td>t2_om755s8a</td>\n",
              "      <td>HexeInExile</td>\n",
              "      <td>NaN</td>\n",
              "    </tr>\n",
              "    <tr>\n",
              "      <th>3</th>\n",
              "      <td>Like half of the video is just support for the...</td>\n",
              "      <td>TheDeprogram</td>\n",
              "      <td>r/TheDeprogram</td>\n",
              "      <td>2024-01-19T16:18:24.000Z</td>\n",
              "      <td>comment</td>\n",
              "      <td>NaN</td>\n",
              "      <td>&amp;lt;div class=\"md\"&amp;gt;&amp;lt;p&amp;gt;Like half of th...</td>\n",
              "      <td>t1_kilt7d5</td>\n",
              "      <td>NaN</td>\n",
              "      <td>NaN</td>\n",
              "      <td>...</td>\n",
              "      <td>t3_19agds1</td>\n",
              "      <td>2024-06-18T15:31:02.842Z</td>\n",
              "      <td>NaN</td>\n",
              "      <td>NaN</td>\n",
              "      <td>NaN</td>\n",
              "      <td>37</td>\n",
              "      <td>https://www.reddit.com/r/TheDeprogram/comments...</td>\n",
              "      <td>t2_qxypw</td>\n",
              "      <td>justyourbarber</td>\n",
              "      <td>NaN</td>\n",
              "    </tr>\n",
              "    <tr>\n",
              "      <th>4</th>\n",
              "      <td>I think that video get take down in youtube</td>\n",
              "      <td>TheDeprogram</td>\n",
              "      <td>r/TheDeprogram</td>\n",
              "      <td>2024-01-19T11:43:46.000Z</td>\n",
              "      <td>comment</td>\n",
              "      <td>NaN</td>\n",
              "      <td>&amp;lt;div class=\"md\"&amp;gt;&amp;lt;p&amp;gt;I think that vi...</td>\n",
              "      <td>t1_kikqaxb</td>\n",
              "      <td>NaN</td>\n",
              "      <td>NaN</td>\n",
              "      <td>...</td>\n",
              "      <td>t3_19agds1</td>\n",
              "      <td>2024-06-18T15:31:02.842Z</td>\n",
              "      <td>NaN</td>\n",
              "      <td>NaN</td>\n",
              "      <td>NaN</td>\n",
              "      <td>75</td>\n",
              "      <td>https://www.reddit.com/r/TheDeprogram/comments...</td>\n",
              "      <td>t2_8qj5j4q4s</td>\n",
              "      <td>Chad_VietnamSoldier</td>\n",
              "      <td>NaN</td>\n",
              "    </tr>\n",
              "  </tbody>\n",
              "</table>\n",
              "<p>5 rows × 26 columns</p>\n",
              "</div>\n",
              "    <div class=\"colab-df-buttons\">\n",
              "\n",
              "  <div class=\"colab-df-container\">\n",
              "    <button class=\"colab-df-convert\" onclick=\"convertToInteractive('df-01609d59-a8ee-427f-a8e1-862bd17f0e35')\"\n",
              "            title=\"Convert this dataframe to an interactive table.\"\n",
              "            style=\"display:none;\">\n",
              "\n",
              "  <svg xmlns=\"http://www.w3.org/2000/svg\" height=\"24px\" viewBox=\"0 -960 960 960\">\n",
              "    <path d=\"M120-120v-720h720v720H120Zm60-500h600v-160H180v160Zm220 220h160v-160H400v160Zm0 220h160v-160H400v160ZM180-400h160v-160H180v160Zm440 0h160v-160H620v160ZM180-180h160v-160H180v160Zm440 0h160v-160H620v160Z\"/>\n",
              "  </svg>\n",
              "    </button>\n",
              "\n",
              "  <style>\n",
              "    .colab-df-container {\n",
              "      display:flex;\n",
              "      gap: 12px;\n",
              "    }\n",
              "\n",
              "    .colab-df-convert {\n",
              "      background-color: #E8F0FE;\n",
              "      border: none;\n",
              "      border-radius: 50%;\n",
              "      cursor: pointer;\n",
              "      display: none;\n",
              "      fill: #1967D2;\n",
              "      height: 32px;\n",
              "      padding: 0 0 0 0;\n",
              "      width: 32px;\n",
              "    }\n",
              "\n",
              "    .colab-df-convert:hover {\n",
              "      background-color: #E2EBFA;\n",
              "      box-shadow: 0px 1px 2px rgba(60, 64, 67, 0.3), 0px 1px 3px 1px rgba(60, 64, 67, 0.15);\n",
              "      fill: #174EA6;\n",
              "    }\n",
              "\n",
              "    .colab-df-buttons div {\n",
              "      margin-bottom: 4px;\n",
              "    }\n",
              "\n",
              "    [theme=dark] .colab-df-convert {\n",
              "      background-color: #3B4455;\n",
              "      fill: #D2E3FC;\n",
              "    }\n",
              "\n",
              "    [theme=dark] .colab-df-convert:hover {\n",
              "      background-color: #434B5C;\n",
              "      box-shadow: 0px 1px 3px 1px rgba(0, 0, 0, 0.15);\n",
              "      filter: drop-shadow(0px 1px 2px rgba(0, 0, 0, 0.3));\n",
              "      fill: #FFFFFF;\n",
              "    }\n",
              "  </style>\n",
              "\n",
              "    <script>\n",
              "      const buttonEl =\n",
              "        document.querySelector('#df-01609d59-a8ee-427f-a8e1-862bd17f0e35 button.colab-df-convert');\n",
              "      buttonEl.style.display =\n",
              "        google.colab.kernel.accessAllowed ? 'block' : 'none';\n",
              "\n",
              "      async function convertToInteractive(key) {\n",
              "        const element = document.querySelector('#df-01609d59-a8ee-427f-a8e1-862bd17f0e35');\n",
              "        const dataTable =\n",
              "          await google.colab.kernel.invokeFunction('convertToInteractive',\n",
              "                                                    [key], {});\n",
              "        if (!dataTable) return;\n",
              "\n",
              "        const docLinkHtml = 'Like what you see? Visit the ' +\n",
              "          '<a target=\"_blank\" href=https://colab.research.google.com/notebooks/data_table.ipynb>data table notebook</a>'\n",
              "          + ' to learn more about interactive tables.';\n",
              "        element.innerHTML = '';\n",
              "        dataTable['output_type'] = 'display_data';\n",
              "        await google.colab.output.renderOutput(dataTable, element);\n",
              "        const docLink = document.createElement('div');\n",
              "        docLink.innerHTML = docLinkHtml;\n",
              "        element.appendChild(docLink);\n",
              "      }\n",
              "    </script>\n",
              "  </div>\n",
              "\n",
              "\n",
              "<div id=\"df-e0bc84cc-0685-4e58-9c6f-e11c1a4cc5c1\">\n",
              "  <button class=\"colab-df-quickchart\" onclick=\"quickchart('df-e0bc84cc-0685-4e58-9c6f-e11c1a4cc5c1')\"\n",
              "            title=\"Suggest charts\"\n",
              "            style=\"display:none;\">\n",
              "\n",
              "<svg xmlns=\"http://www.w3.org/2000/svg\" height=\"24px\"viewBox=\"0 0 24 24\"\n",
              "     width=\"24px\">\n",
              "    <g>\n",
              "        <path d=\"M19 3H5c-1.1 0-2 .9-2 2v14c0 1.1.9 2 2 2h14c1.1 0 2-.9 2-2V5c0-1.1-.9-2-2-2zM9 17H7v-7h2v7zm4 0h-2V7h2v10zm4 0h-2v-4h2v4z\"/>\n",
              "    </g>\n",
              "</svg>\n",
              "  </button>\n",
              "\n",
              "<style>\n",
              "  .colab-df-quickchart {\n",
              "      --bg-color: #E8F0FE;\n",
              "      --fill-color: #1967D2;\n",
              "      --hover-bg-color: #E2EBFA;\n",
              "      --hover-fill-color: #174EA6;\n",
              "      --disabled-fill-color: #AAA;\n",
              "      --disabled-bg-color: #DDD;\n",
              "  }\n",
              "\n",
              "  [theme=dark] .colab-df-quickchart {\n",
              "      --bg-color: #3B4455;\n",
              "      --fill-color: #D2E3FC;\n",
              "      --hover-bg-color: #434B5C;\n",
              "      --hover-fill-color: #FFFFFF;\n",
              "      --disabled-bg-color: #3B4455;\n",
              "      --disabled-fill-color: #666;\n",
              "  }\n",
              "\n",
              "  .colab-df-quickchart {\n",
              "    background-color: var(--bg-color);\n",
              "    border: none;\n",
              "    border-radius: 50%;\n",
              "    cursor: pointer;\n",
              "    display: none;\n",
              "    fill: var(--fill-color);\n",
              "    height: 32px;\n",
              "    padding: 0;\n",
              "    width: 32px;\n",
              "  }\n",
              "\n",
              "  .colab-df-quickchart:hover {\n",
              "    background-color: var(--hover-bg-color);\n",
              "    box-shadow: 0 1px 2px rgba(60, 64, 67, 0.3), 0 1px 3px 1px rgba(60, 64, 67, 0.15);\n",
              "    fill: var(--button-hover-fill-color);\n",
              "  }\n",
              "\n",
              "  .colab-df-quickchart-complete:disabled,\n",
              "  .colab-df-quickchart-complete:disabled:hover {\n",
              "    background-color: var(--disabled-bg-color);\n",
              "    fill: var(--disabled-fill-color);\n",
              "    box-shadow: none;\n",
              "  }\n",
              "\n",
              "  .colab-df-spinner {\n",
              "    border: 2px solid var(--fill-color);\n",
              "    border-color: transparent;\n",
              "    border-bottom-color: var(--fill-color);\n",
              "    animation:\n",
              "      spin 1s steps(1) infinite;\n",
              "  }\n",
              "\n",
              "  @keyframes spin {\n",
              "    0% {\n",
              "      border-color: transparent;\n",
              "      border-bottom-color: var(--fill-color);\n",
              "      border-left-color: var(--fill-color);\n",
              "    }\n",
              "    20% {\n",
              "      border-color: transparent;\n",
              "      border-left-color: var(--fill-color);\n",
              "      border-top-color: var(--fill-color);\n",
              "    }\n",
              "    30% {\n",
              "      border-color: transparent;\n",
              "      border-left-color: var(--fill-color);\n",
              "      border-top-color: var(--fill-color);\n",
              "      border-right-color: var(--fill-color);\n",
              "    }\n",
              "    40% {\n",
              "      border-color: transparent;\n",
              "      border-right-color: var(--fill-color);\n",
              "      border-top-color: var(--fill-color);\n",
              "    }\n",
              "    60% {\n",
              "      border-color: transparent;\n",
              "      border-right-color: var(--fill-color);\n",
              "    }\n",
              "    80% {\n",
              "      border-color: transparent;\n",
              "      border-right-color: var(--fill-color);\n",
              "      border-bottom-color: var(--fill-color);\n",
              "    }\n",
              "    90% {\n",
              "      border-color: transparent;\n",
              "      border-bottom-color: var(--fill-color);\n",
              "    }\n",
              "  }\n",
              "</style>\n",
              "\n",
              "  <script>\n",
              "    async function quickchart(key) {\n",
              "      const quickchartButtonEl =\n",
              "        document.querySelector('#' + key + ' button');\n",
              "      quickchartButtonEl.disabled = true;  // To prevent multiple clicks.\n",
              "      quickchartButtonEl.classList.add('colab-df-spinner');\n",
              "      try {\n",
              "        const charts = await google.colab.kernel.invokeFunction(\n",
              "            'suggestCharts', [key], {});\n",
              "      } catch (error) {\n",
              "        console.error('Error during call to suggestCharts:', error);\n",
              "      }\n",
              "      quickchartButtonEl.classList.remove('colab-df-spinner');\n",
              "      quickchartButtonEl.classList.add('colab-df-quickchart-complete');\n",
              "    }\n",
              "    (() => {\n",
              "      let quickchartButtonEl =\n",
              "        document.querySelector('#df-e0bc84cc-0685-4e58-9c6f-e11c1a4cc5c1 button');\n",
              "      quickchartButtonEl.style.display =\n",
              "        google.colab.kernel.accessAllowed ? 'block' : 'none';\n",
              "    })();\n",
              "  </script>\n",
              "</div>\n",
              "    </div>\n",
              "  </div>\n"
            ],
            "application/vnd.google.colaboratory.intrinsic+json": {
              "type": "dataframe",
              "variable_name": "df"
            }
          },
          "metadata": {},
          "execution_count": 46
        }
      ]
    },
    {
      "cell_type": "markdown",
      "source": [
        "Data Processing"
      ],
      "metadata": {
        "id": "QrjXeL7nygtk"
      }
    },
    {
      "cell_type": "code",
      "source": [
        "df = df.iloc[:, :1]"
      ],
      "metadata": {
        "colab": {
          "base_uri": "https://localhost:8080/"
        },
        "id": "gURwJBk3yeQc",
        "outputId": "14d4fe31-b623-48ba-a3c5-b1d4d5fab6a7"
      },
      "execution_count": 47,
      "outputs": [
        {
          "output_type": "stream",
          "name": "stderr",
          "text": [
            "/usr/local/lib/python3.10/dist-packages/ipykernel/ipkernel.py:283: DeprecationWarning: `should_run_async` will not call `transform_cell` automatically in the future. Please pass the result to `transformed_cell` argument and any exception that happen during thetransform in `preprocessing_exc_tuple` in IPython 7.17 and above.\n",
            "  and should_run_async(code)\n"
          ]
        }
      ]
    },
    {
      "cell_type": "code",
      "source": [
        "df.head()"
      ],
      "metadata": {
        "colab": {
          "base_uri": "https://localhost:8080/",
          "height": 261
        },
        "id": "AGnkMz_Hyk-d",
        "outputId": "9cce402e-fc3a-4ea4-86db-e5b9d788c5cf"
      },
      "execution_count": 48,
      "outputs": [
        {
          "output_type": "stream",
          "name": "stderr",
          "text": [
            "/usr/local/lib/python3.10/dist-packages/ipykernel/ipkernel.py:283: DeprecationWarning: `should_run_async` will not call `transform_cell` automatically in the future. Please pass the result to `transformed_cell` argument and any exception that happen during thetransform in `preprocessing_exc_tuple` in IPython 7.17 and above.\n",
            "  and should_run_async(code)\n"
          ]
        },
        {
          "output_type": "execute_result",
          "data": {
            "text/plain": [
              "                                                body\n",
              "0  URL: https://v.redd.it/8zkhzbxomddc1\\nThumbnai...\n",
              "1  [☭☭☭ COME SHITPOST WITH US ON DISCORD, COMRADE...\n",
              "2                 Incredibly based + unironic banger\n",
              "3  Like half of the video is just support for the...\n",
              "4        I think that video get take down in youtube"
            ],
            "text/html": [
              "\n",
              "  <div id=\"df-0afba661-24df-44de-bc67-7ab254a7e90c\" class=\"colab-df-container\">\n",
              "    <div>\n",
              "<style scoped>\n",
              "    .dataframe tbody tr th:only-of-type {\n",
              "        vertical-align: middle;\n",
              "    }\n",
              "\n",
              "    .dataframe tbody tr th {\n",
              "        vertical-align: top;\n",
              "    }\n",
              "\n",
              "    .dataframe thead th {\n",
              "        text-align: right;\n",
              "    }\n",
              "</style>\n",
              "<table border=\"1\" class=\"dataframe\">\n",
              "  <thead>\n",
              "    <tr style=\"text-align: right;\">\n",
              "      <th></th>\n",
              "      <th>body</th>\n",
              "    </tr>\n",
              "  </thead>\n",
              "  <tbody>\n",
              "    <tr>\n",
              "      <th>0</th>\n",
              "      <td>URL: https://v.redd.it/8zkhzbxomddc1\\nThumbnai...</td>\n",
              "    </tr>\n",
              "    <tr>\n",
              "      <th>1</th>\n",
              "      <td>[☭☭☭ COME SHITPOST WITH US ON DISCORD, COMRADE...</td>\n",
              "    </tr>\n",
              "    <tr>\n",
              "      <th>2</th>\n",
              "      <td>Incredibly based + unironic banger</td>\n",
              "    </tr>\n",
              "    <tr>\n",
              "      <th>3</th>\n",
              "      <td>Like half of the video is just support for the...</td>\n",
              "    </tr>\n",
              "    <tr>\n",
              "      <th>4</th>\n",
              "      <td>I think that video get take down in youtube</td>\n",
              "    </tr>\n",
              "  </tbody>\n",
              "</table>\n",
              "</div>\n",
              "    <div class=\"colab-df-buttons\">\n",
              "\n",
              "  <div class=\"colab-df-container\">\n",
              "    <button class=\"colab-df-convert\" onclick=\"convertToInteractive('df-0afba661-24df-44de-bc67-7ab254a7e90c')\"\n",
              "            title=\"Convert this dataframe to an interactive table.\"\n",
              "            style=\"display:none;\">\n",
              "\n",
              "  <svg xmlns=\"http://www.w3.org/2000/svg\" height=\"24px\" viewBox=\"0 -960 960 960\">\n",
              "    <path d=\"M120-120v-720h720v720H120Zm60-500h600v-160H180v160Zm220 220h160v-160H400v160Zm0 220h160v-160H400v160ZM180-400h160v-160H180v160Zm440 0h160v-160H620v160ZM180-180h160v-160H180v160Zm440 0h160v-160H620v160Z\"/>\n",
              "  </svg>\n",
              "    </button>\n",
              "\n",
              "  <style>\n",
              "    .colab-df-container {\n",
              "      display:flex;\n",
              "      gap: 12px;\n",
              "    }\n",
              "\n",
              "    .colab-df-convert {\n",
              "      background-color: #E8F0FE;\n",
              "      border: none;\n",
              "      border-radius: 50%;\n",
              "      cursor: pointer;\n",
              "      display: none;\n",
              "      fill: #1967D2;\n",
              "      height: 32px;\n",
              "      padding: 0 0 0 0;\n",
              "      width: 32px;\n",
              "    }\n",
              "\n",
              "    .colab-df-convert:hover {\n",
              "      background-color: #E2EBFA;\n",
              "      box-shadow: 0px 1px 2px rgba(60, 64, 67, 0.3), 0px 1px 3px 1px rgba(60, 64, 67, 0.15);\n",
              "      fill: #174EA6;\n",
              "    }\n",
              "\n",
              "    .colab-df-buttons div {\n",
              "      margin-bottom: 4px;\n",
              "    }\n",
              "\n",
              "    [theme=dark] .colab-df-convert {\n",
              "      background-color: #3B4455;\n",
              "      fill: #D2E3FC;\n",
              "    }\n",
              "\n",
              "    [theme=dark] .colab-df-convert:hover {\n",
              "      background-color: #434B5C;\n",
              "      box-shadow: 0px 1px 3px 1px rgba(0, 0, 0, 0.15);\n",
              "      filter: drop-shadow(0px 1px 2px rgba(0, 0, 0, 0.3));\n",
              "      fill: #FFFFFF;\n",
              "    }\n",
              "  </style>\n",
              "\n",
              "    <script>\n",
              "      const buttonEl =\n",
              "        document.querySelector('#df-0afba661-24df-44de-bc67-7ab254a7e90c button.colab-df-convert');\n",
              "      buttonEl.style.display =\n",
              "        google.colab.kernel.accessAllowed ? 'block' : 'none';\n",
              "\n",
              "      async function convertToInteractive(key) {\n",
              "        const element = document.querySelector('#df-0afba661-24df-44de-bc67-7ab254a7e90c');\n",
              "        const dataTable =\n",
              "          await google.colab.kernel.invokeFunction('convertToInteractive',\n",
              "                                                    [key], {});\n",
              "        if (!dataTable) return;\n",
              "\n",
              "        const docLinkHtml = 'Like what you see? Visit the ' +\n",
              "          '<a target=\"_blank\" href=https://colab.research.google.com/notebooks/data_table.ipynb>data table notebook</a>'\n",
              "          + ' to learn more about interactive tables.';\n",
              "        element.innerHTML = '';\n",
              "        dataTable['output_type'] = 'display_data';\n",
              "        await google.colab.output.renderOutput(dataTable, element);\n",
              "        const docLink = document.createElement('div');\n",
              "        docLink.innerHTML = docLinkHtml;\n",
              "        element.appendChild(docLink);\n",
              "      }\n",
              "    </script>\n",
              "  </div>\n",
              "\n",
              "\n",
              "<div id=\"df-c4bc0996-1dd1-4803-a7a9-7231b7e292f7\">\n",
              "  <button class=\"colab-df-quickchart\" onclick=\"quickchart('df-c4bc0996-1dd1-4803-a7a9-7231b7e292f7')\"\n",
              "            title=\"Suggest charts\"\n",
              "            style=\"display:none;\">\n",
              "\n",
              "<svg xmlns=\"http://www.w3.org/2000/svg\" height=\"24px\"viewBox=\"0 0 24 24\"\n",
              "     width=\"24px\">\n",
              "    <g>\n",
              "        <path d=\"M19 3H5c-1.1 0-2 .9-2 2v14c0 1.1.9 2 2 2h14c1.1 0 2-.9 2-2V5c0-1.1-.9-2-2-2zM9 17H7v-7h2v7zm4 0h-2V7h2v10zm4 0h-2v-4h2v4z\"/>\n",
              "    </g>\n",
              "</svg>\n",
              "  </button>\n",
              "\n",
              "<style>\n",
              "  .colab-df-quickchart {\n",
              "      --bg-color: #E8F0FE;\n",
              "      --fill-color: #1967D2;\n",
              "      --hover-bg-color: #E2EBFA;\n",
              "      --hover-fill-color: #174EA6;\n",
              "      --disabled-fill-color: #AAA;\n",
              "      --disabled-bg-color: #DDD;\n",
              "  }\n",
              "\n",
              "  [theme=dark] .colab-df-quickchart {\n",
              "      --bg-color: #3B4455;\n",
              "      --fill-color: #D2E3FC;\n",
              "      --hover-bg-color: #434B5C;\n",
              "      --hover-fill-color: #FFFFFF;\n",
              "      --disabled-bg-color: #3B4455;\n",
              "      --disabled-fill-color: #666;\n",
              "  }\n",
              "\n",
              "  .colab-df-quickchart {\n",
              "    background-color: var(--bg-color);\n",
              "    border: none;\n",
              "    border-radius: 50%;\n",
              "    cursor: pointer;\n",
              "    display: none;\n",
              "    fill: var(--fill-color);\n",
              "    height: 32px;\n",
              "    padding: 0;\n",
              "    width: 32px;\n",
              "  }\n",
              "\n",
              "  .colab-df-quickchart:hover {\n",
              "    background-color: var(--hover-bg-color);\n",
              "    box-shadow: 0 1px 2px rgba(60, 64, 67, 0.3), 0 1px 3px 1px rgba(60, 64, 67, 0.15);\n",
              "    fill: var(--button-hover-fill-color);\n",
              "  }\n",
              "\n",
              "  .colab-df-quickchart-complete:disabled,\n",
              "  .colab-df-quickchart-complete:disabled:hover {\n",
              "    background-color: var(--disabled-bg-color);\n",
              "    fill: var(--disabled-fill-color);\n",
              "    box-shadow: none;\n",
              "  }\n",
              "\n",
              "  .colab-df-spinner {\n",
              "    border: 2px solid var(--fill-color);\n",
              "    border-color: transparent;\n",
              "    border-bottom-color: var(--fill-color);\n",
              "    animation:\n",
              "      spin 1s steps(1) infinite;\n",
              "  }\n",
              "\n",
              "  @keyframes spin {\n",
              "    0% {\n",
              "      border-color: transparent;\n",
              "      border-bottom-color: var(--fill-color);\n",
              "      border-left-color: var(--fill-color);\n",
              "    }\n",
              "    20% {\n",
              "      border-color: transparent;\n",
              "      border-left-color: var(--fill-color);\n",
              "      border-top-color: var(--fill-color);\n",
              "    }\n",
              "    30% {\n",
              "      border-color: transparent;\n",
              "      border-left-color: var(--fill-color);\n",
              "      border-top-color: var(--fill-color);\n",
              "      border-right-color: var(--fill-color);\n",
              "    }\n",
              "    40% {\n",
              "      border-color: transparent;\n",
              "      border-right-color: var(--fill-color);\n",
              "      border-top-color: var(--fill-color);\n",
              "    }\n",
              "    60% {\n",
              "      border-color: transparent;\n",
              "      border-right-color: var(--fill-color);\n",
              "    }\n",
              "    80% {\n",
              "      border-color: transparent;\n",
              "      border-right-color: var(--fill-color);\n",
              "      border-bottom-color: var(--fill-color);\n",
              "    }\n",
              "    90% {\n",
              "      border-color: transparent;\n",
              "      border-bottom-color: var(--fill-color);\n",
              "    }\n",
              "  }\n",
              "</style>\n",
              "\n",
              "  <script>\n",
              "    async function quickchart(key) {\n",
              "      const quickchartButtonEl =\n",
              "        document.querySelector('#' + key + ' button');\n",
              "      quickchartButtonEl.disabled = true;  // To prevent multiple clicks.\n",
              "      quickchartButtonEl.classList.add('colab-df-spinner');\n",
              "      try {\n",
              "        const charts = await google.colab.kernel.invokeFunction(\n",
              "            'suggestCharts', [key], {});\n",
              "      } catch (error) {\n",
              "        console.error('Error during call to suggestCharts:', error);\n",
              "      }\n",
              "      quickchartButtonEl.classList.remove('colab-df-spinner');\n",
              "      quickchartButtonEl.classList.add('colab-df-quickchart-complete');\n",
              "    }\n",
              "    (() => {\n",
              "      let quickchartButtonEl =\n",
              "        document.querySelector('#df-c4bc0996-1dd1-4803-a7a9-7231b7e292f7 button');\n",
              "      quickchartButtonEl.style.display =\n",
              "        google.colab.kernel.accessAllowed ? 'block' : 'none';\n",
              "    })();\n",
              "  </script>\n",
              "</div>\n",
              "    </div>\n",
              "  </div>\n"
            ],
            "application/vnd.google.colaboratory.intrinsic+json": {
              "type": "dataframe",
              "variable_name": "df",
              "summary": "{\n  \"name\": \"df\",\n  \"rows\": 500,\n  \"fields\": [\n    {\n      \"column\": \"body\",\n      \"properties\": {\n        \"dtype\": \"string\",\n        \"num_unique_values\": 473,\n        \"samples\": [\n          \"Bruh I am inside the United States, and it is supposed to be a Democracy. I am fixing to make it a true democracy that represents all of its citizens, and values all human life equally. The Billionaire class should NOT be in charge of the strongest military in the world, it is utter nonsense, and the majority of the people who I know who have served would agree. I grew up next to a Military Base and am friends with many Veterans, I would know. We will be taking back the power from the Dumbocrats and a the Repulsicans, thank you very much.\\n\\n \\u201cIt always seems impossible until it is done.\\u201d -Nelson Mandela\",\n          \"This is a war against globalist war mongers who run the world\\u2019s money. POOR VS THE RICH, not Muslims vs Jews as it\\u2019s portrayed\",\n          \"Not interested in converting the imperial core, just stopping them.\"\n        ],\n        \"semantic_type\": \"\",\n        \"description\": \"\"\n      }\n    }\n  ]\n}"
            }
          },
          "metadata": {},
          "execution_count": 48
        }
      ]
    },
    {
      "cell_type": "code",
      "source": [
        "#Handling missing values\n",
        "df = df.dropna()"
      ],
      "metadata": {
        "colab": {
          "base_uri": "https://localhost:8080/"
        },
        "id": "97hC9DTfynwL",
        "outputId": "ee51fb35-1a91-4c3d-a3e9-2f245b397415"
      },
      "execution_count": 49,
      "outputs": [
        {
          "output_type": "stream",
          "name": "stderr",
          "text": [
            "/usr/local/lib/python3.10/dist-packages/ipykernel/ipkernel.py:283: DeprecationWarning: `should_run_async` will not call `transform_cell` automatically in the future. Please pass the result to `transformed_cell` argument and any exception that happen during thetransform in `preprocessing_exc_tuple` in IPython 7.17 and above.\n",
            "  and should_run_async(code)\n"
          ]
        }
      ]
    },
    {
      "cell_type": "code",
      "source": [
        "df.head()"
      ],
      "metadata": {
        "colab": {
          "base_uri": "https://localhost:8080/",
          "height": 261
        },
        "id": "k3V_D9XaysTt",
        "outputId": "823cc302-79ba-4e14-b5eb-1b7c971ec359"
      },
      "execution_count": 50,
      "outputs": [
        {
          "output_type": "stream",
          "name": "stderr",
          "text": [
            "/usr/local/lib/python3.10/dist-packages/ipykernel/ipkernel.py:283: DeprecationWarning: `should_run_async` will not call `transform_cell` automatically in the future. Please pass the result to `transformed_cell` argument and any exception that happen during thetransform in `preprocessing_exc_tuple` in IPython 7.17 and above.\n",
            "  and should_run_async(code)\n"
          ]
        },
        {
          "output_type": "execute_result",
          "data": {
            "text/plain": [
              "                                                body\n",
              "0  URL: https://v.redd.it/8zkhzbxomddc1\\nThumbnai...\n",
              "1  [☭☭☭ COME SHITPOST WITH US ON DISCORD, COMRADE...\n",
              "2                 Incredibly based + unironic banger\n",
              "3  Like half of the video is just support for the...\n",
              "4        I think that video get take down in youtube"
            ],
            "text/html": [
              "\n",
              "  <div id=\"df-5ef5490e-7d38-407a-987f-ca4ea8da3815\" class=\"colab-df-container\">\n",
              "    <div>\n",
              "<style scoped>\n",
              "    .dataframe tbody tr th:only-of-type {\n",
              "        vertical-align: middle;\n",
              "    }\n",
              "\n",
              "    .dataframe tbody tr th {\n",
              "        vertical-align: top;\n",
              "    }\n",
              "\n",
              "    .dataframe thead th {\n",
              "        text-align: right;\n",
              "    }\n",
              "</style>\n",
              "<table border=\"1\" class=\"dataframe\">\n",
              "  <thead>\n",
              "    <tr style=\"text-align: right;\">\n",
              "      <th></th>\n",
              "      <th>body</th>\n",
              "    </tr>\n",
              "  </thead>\n",
              "  <tbody>\n",
              "    <tr>\n",
              "      <th>0</th>\n",
              "      <td>URL: https://v.redd.it/8zkhzbxomddc1\\nThumbnai...</td>\n",
              "    </tr>\n",
              "    <tr>\n",
              "      <th>1</th>\n",
              "      <td>[☭☭☭ COME SHITPOST WITH US ON DISCORD, COMRADE...</td>\n",
              "    </tr>\n",
              "    <tr>\n",
              "      <th>2</th>\n",
              "      <td>Incredibly based + unironic banger</td>\n",
              "    </tr>\n",
              "    <tr>\n",
              "      <th>3</th>\n",
              "      <td>Like half of the video is just support for the...</td>\n",
              "    </tr>\n",
              "    <tr>\n",
              "      <th>4</th>\n",
              "      <td>I think that video get take down in youtube</td>\n",
              "    </tr>\n",
              "  </tbody>\n",
              "</table>\n",
              "</div>\n",
              "    <div class=\"colab-df-buttons\">\n",
              "\n",
              "  <div class=\"colab-df-container\">\n",
              "    <button class=\"colab-df-convert\" onclick=\"convertToInteractive('df-5ef5490e-7d38-407a-987f-ca4ea8da3815')\"\n",
              "            title=\"Convert this dataframe to an interactive table.\"\n",
              "            style=\"display:none;\">\n",
              "\n",
              "  <svg xmlns=\"http://www.w3.org/2000/svg\" height=\"24px\" viewBox=\"0 -960 960 960\">\n",
              "    <path d=\"M120-120v-720h720v720H120Zm60-500h600v-160H180v160Zm220 220h160v-160H400v160Zm0 220h160v-160H400v160ZM180-400h160v-160H180v160Zm440 0h160v-160H620v160ZM180-180h160v-160H180v160Zm440 0h160v-160H620v160Z\"/>\n",
              "  </svg>\n",
              "    </button>\n",
              "\n",
              "  <style>\n",
              "    .colab-df-container {\n",
              "      display:flex;\n",
              "      gap: 12px;\n",
              "    }\n",
              "\n",
              "    .colab-df-convert {\n",
              "      background-color: #E8F0FE;\n",
              "      border: none;\n",
              "      border-radius: 50%;\n",
              "      cursor: pointer;\n",
              "      display: none;\n",
              "      fill: #1967D2;\n",
              "      height: 32px;\n",
              "      padding: 0 0 0 0;\n",
              "      width: 32px;\n",
              "    }\n",
              "\n",
              "    .colab-df-convert:hover {\n",
              "      background-color: #E2EBFA;\n",
              "      box-shadow: 0px 1px 2px rgba(60, 64, 67, 0.3), 0px 1px 3px 1px rgba(60, 64, 67, 0.15);\n",
              "      fill: #174EA6;\n",
              "    }\n",
              "\n",
              "    .colab-df-buttons div {\n",
              "      margin-bottom: 4px;\n",
              "    }\n",
              "\n",
              "    [theme=dark] .colab-df-convert {\n",
              "      background-color: #3B4455;\n",
              "      fill: #D2E3FC;\n",
              "    }\n",
              "\n",
              "    [theme=dark] .colab-df-convert:hover {\n",
              "      background-color: #434B5C;\n",
              "      box-shadow: 0px 1px 3px 1px rgba(0, 0, 0, 0.15);\n",
              "      filter: drop-shadow(0px 1px 2px rgba(0, 0, 0, 0.3));\n",
              "      fill: #FFFFFF;\n",
              "    }\n",
              "  </style>\n",
              "\n",
              "    <script>\n",
              "      const buttonEl =\n",
              "        document.querySelector('#df-5ef5490e-7d38-407a-987f-ca4ea8da3815 button.colab-df-convert');\n",
              "      buttonEl.style.display =\n",
              "        google.colab.kernel.accessAllowed ? 'block' : 'none';\n",
              "\n",
              "      async function convertToInteractive(key) {\n",
              "        const element = document.querySelector('#df-5ef5490e-7d38-407a-987f-ca4ea8da3815');\n",
              "        const dataTable =\n",
              "          await google.colab.kernel.invokeFunction('convertToInteractive',\n",
              "                                                    [key], {});\n",
              "        if (!dataTable) return;\n",
              "\n",
              "        const docLinkHtml = 'Like what you see? Visit the ' +\n",
              "          '<a target=\"_blank\" href=https://colab.research.google.com/notebooks/data_table.ipynb>data table notebook</a>'\n",
              "          + ' to learn more about interactive tables.';\n",
              "        element.innerHTML = '';\n",
              "        dataTable['output_type'] = 'display_data';\n",
              "        await google.colab.output.renderOutput(dataTable, element);\n",
              "        const docLink = document.createElement('div');\n",
              "        docLink.innerHTML = docLinkHtml;\n",
              "        element.appendChild(docLink);\n",
              "      }\n",
              "    </script>\n",
              "  </div>\n",
              "\n",
              "\n",
              "<div id=\"df-fa55f6c1-bdd4-427f-9e29-88f7a6fc35e9\">\n",
              "  <button class=\"colab-df-quickchart\" onclick=\"quickchart('df-fa55f6c1-bdd4-427f-9e29-88f7a6fc35e9')\"\n",
              "            title=\"Suggest charts\"\n",
              "            style=\"display:none;\">\n",
              "\n",
              "<svg xmlns=\"http://www.w3.org/2000/svg\" height=\"24px\"viewBox=\"0 0 24 24\"\n",
              "     width=\"24px\">\n",
              "    <g>\n",
              "        <path d=\"M19 3H5c-1.1 0-2 .9-2 2v14c0 1.1.9 2 2 2h14c1.1 0 2-.9 2-2V5c0-1.1-.9-2-2-2zM9 17H7v-7h2v7zm4 0h-2V7h2v10zm4 0h-2v-4h2v4z\"/>\n",
              "    </g>\n",
              "</svg>\n",
              "  </button>\n",
              "\n",
              "<style>\n",
              "  .colab-df-quickchart {\n",
              "      --bg-color: #E8F0FE;\n",
              "      --fill-color: #1967D2;\n",
              "      --hover-bg-color: #E2EBFA;\n",
              "      --hover-fill-color: #174EA6;\n",
              "      --disabled-fill-color: #AAA;\n",
              "      --disabled-bg-color: #DDD;\n",
              "  }\n",
              "\n",
              "  [theme=dark] .colab-df-quickchart {\n",
              "      --bg-color: #3B4455;\n",
              "      --fill-color: #D2E3FC;\n",
              "      --hover-bg-color: #434B5C;\n",
              "      --hover-fill-color: #FFFFFF;\n",
              "      --disabled-bg-color: #3B4455;\n",
              "      --disabled-fill-color: #666;\n",
              "  }\n",
              "\n",
              "  .colab-df-quickchart {\n",
              "    background-color: var(--bg-color);\n",
              "    border: none;\n",
              "    border-radius: 50%;\n",
              "    cursor: pointer;\n",
              "    display: none;\n",
              "    fill: var(--fill-color);\n",
              "    height: 32px;\n",
              "    padding: 0;\n",
              "    width: 32px;\n",
              "  }\n",
              "\n",
              "  .colab-df-quickchart:hover {\n",
              "    background-color: var(--hover-bg-color);\n",
              "    box-shadow: 0 1px 2px rgba(60, 64, 67, 0.3), 0 1px 3px 1px rgba(60, 64, 67, 0.15);\n",
              "    fill: var(--button-hover-fill-color);\n",
              "  }\n",
              "\n",
              "  .colab-df-quickchart-complete:disabled,\n",
              "  .colab-df-quickchart-complete:disabled:hover {\n",
              "    background-color: var(--disabled-bg-color);\n",
              "    fill: var(--disabled-fill-color);\n",
              "    box-shadow: none;\n",
              "  }\n",
              "\n",
              "  .colab-df-spinner {\n",
              "    border: 2px solid var(--fill-color);\n",
              "    border-color: transparent;\n",
              "    border-bottom-color: var(--fill-color);\n",
              "    animation:\n",
              "      spin 1s steps(1) infinite;\n",
              "  }\n",
              "\n",
              "  @keyframes spin {\n",
              "    0% {\n",
              "      border-color: transparent;\n",
              "      border-bottom-color: var(--fill-color);\n",
              "      border-left-color: var(--fill-color);\n",
              "    }\n",
              "    20% {\n",
              "      border-color: transparent;\n",
              "      border-left-color: var(--fill-color);\n",
              "      border-top-color: var(--fill-color);\n",
              "    }\n",
              "    30% {\n",
              "      border-color: transparent;\n",
              "      border-left-color: var(--fill-color);\n",
              "      border-top-color: var(--fill-color);\n",
              "      border-right-color: var(--fill-color);\n",
              "    }\n",
              "    40% {\n",
              "      border-color: transparent;\n",
              "      border-right-color: var(--fill-color);\n",
              "      border-top-color: var(--fill-color);\n",
              "    }\n",
              "    60% {\n",
              "      border-color: transparent;\n",
              "      border-right-color: var(--fill-color);\n",
              "    }\n",
              "    80% {\n",
              "      border-color: transparent;\n",
              "      border-right-color: var(--fill-color);\n",
              "      border-bottom-color: var(--fill-color);\n",
              "    }\n",
              "    90% {\n",
              "      border-color: transparent;\n",
              "      border-bottom-color: var(--fill-color);\n",
              "    }\n",
              "  }\n",
              "</style>\n",
              "\n",
              "  <script>\n",
              "    async function quickchart(key) {\n",
              "      const quickchartButtonEl =\n",
              "        document.querySelector('#' + key + ' button');\n",
              "      quickchartButtonEl.disabled = true;  // To prevent multiple clicks.\n",
              "      quickchartButtonEl.classList.add('colab-df-spinner');\n",
              "      try {\n",
              "        const charts = await google.colab.kernel.invokeFunction(\n",
              "            'suggestCharts', [key], {});\n",
              "      } catch (error) {\n",
              "        console.error('Error during call to suggestCharts:', error);\n",
              "      }\n",
              "      quickchartButtonEl.classList.remove('colab-df-spinner');\n",
              "      quickchartButtonEl.classList.add('colab-df-quickchart-complete');\n",
              "    }\n",
              "    (() => {\n",
              "      let quickchartButtonEl =\n",
              "        document.querySelector('#df-fa55f6c1-bdd4-427f-9e29-88f7a6fc35e9 button');\n",
              "      quickchartButtonEl.style.display =\n",
              "        google.colab.kernel.accessAllowed ? 'block' : 'none';\n",
              "    })();\n",
              "  </script>\n",
              "</div>\n",
              "    </div>\n",
              "  </div>\n"
            ],
            "application/vnd.google.colaboratory.intrinsic+json": {
              "type": "dataframe",
              "variable_name": "df",
              "summary": "{\n  \"name\": \"df\",\n  \"rows\": 500,\n  \"fields\": [\n    {\n      \"column\": \"body\",\n      \"properties\": {\n        \"dtype\": \"string\",\n        \"num_unique_values\": 473,\n        \"samples\": [\n          \"Bruh I am inside the United States, and it is supposed to be a Democracy. I am fixing to make it a true democracy that represents all of its citizens, and values all human life equally. The Billionaire class should NOT be in charge of the strongest military in the world, it is utter nonsense, and the majority of the people who I know who have served would agree. I grew up next to a Military Base and am friends with many Veterans, I would know. We will be taking back the power from the Dumbocrats and a the Repulsicans, thank you very much.\\n\\n \\u201cIt always seems impossible until it is done.\\u201d -Nelson Mandela\",\n          \"This is a war against globalist war mongers who run the world\\u2019s money. POOR VS THE RICH, not Muslims vs Jews as it\\u2019s portrayed\",\n          \"Not interested in converting the imperial core, just stopping them.\"\n        ],\n        \"semantic_type\": \"\",\n        \"description\": \"\"\n      }\n    }\n  ]\n}"
            }
          },
          "metadata": {},
          "execution_count": 50
        }
      ]
    },
    {
      "cell_type": "code",
      "source": [
        "mapping = {\"ain't\": \"is not\", \"aren't\": \"are not\",\"can't\": \"cannot\",\n",
        "           \"'cause\": \"because\", \"could've\": \"could have\", \"couldn't\": \"could not\",\n",
        "           \"didn't\": \"did not\",  \"doesn't\": \"does not\", \"don't\": \"do not\", \"hadn't\": \"had not\",\n",
        "           \"hasn't\": \"has not\", \"haven't\": \"have not\", \"he'd\": \"he would\",\"he'll\": \"he will\",\n",
        "           \"he's\": \"he is\", \"how'd\": \"how did\", \"how'd'y\": \"how do you\", \"how'll\": \"how will\",\n",
        "           \"how's\": \"how is\",  \"I'd\": \"I would\", \"I'd've\": \"I would have\", \"I'll\": \"I will\",\n",
        "           \"I'll've\": \"I will have\",\"I'm\": \"I am\", \"I've\": \"I have\", \"i'd\": \"i would\",\n",
        "           \"i'd've\": \"i would have\", \"i'll\": \"i will\",  \"i'll've\": \"i will have\",\n",
        "           \"i'm\": \"i am\", \"i've\": \"i have\", \"isn't\": \"is not\", \"it'd\": \"it would\",\n",
        "           \"it'd've\": \"it would have\", \"it'll\": \"it will\", \"it'll've\": \"it will have\",\n",
        "           \"it's\": \"it is\", \"let's\": \"let us\", \"ma'am\": \"madam\", \"mayn't\": \"may not\",\n",
        "           \"might've\": \"might have\",\"mightn't\": \"might not\",\"mightn't've\": \"might not have\",\n",
        "           \"must've\": \"must have\", \"mustn't\": \"must not\", \"mustn't've\": \"must not have\",\n",
        "           \"needn't\": \"need not\", \"needn't've\": \"need not have\",\"o'clock\": \"of the clock\",\n",
        "           \"oughtn't\": \"ought not\", \"oughtn't've\": \"ought not have\", \"shan't\": \"shall not\",\n",
        "           \"sha'n't\": \"shall not\", \"shan't've\": \"shall not have\", \"she'd\": \"she would\",\n",
        "           \"she'd've\": \"she would have\", \"she'll\": \"she will\", \"she'll've\": \"she will have\",\n",
        "           \"she's\": \"she is\", \"should've\": \"should have\", \"shouldn't\": \"should not\",\n",
        "           \"shouldn't've\": \"should not have\", \"so've\": \"so have\",\"so's\": \"so as\", \"this's\": \"this is\",\n",
        "           \"that'd\": \"that would\", \"that'd've\": \"that would have\", \"that's\": \"that is\",\n",
        "           \"there'd\": \"there would\", \"there'd've\": \"there would have\", \"there's\": \"there is\",\n",
        "           \"here's\": \"here is\",\"they'd\": \"they would\", \"they'd've\": \"they would have\",\n",
        "           \"they'll\": \"they will\", \"they'll've\": \"they will have\", \"they're\": \"they are\",\n",
        "           \"they've\": \"they have\", \"to've\": \"to have\", \"wasn't\": \"was not\", \"we'd\": \"we would\",\n",
        "           \"we'd've\": \"we would have\", \"we'll\": \"we will\", \"we'll've\": \"we will have\",\n",
        "           \"we're\": \"we are\", \"we've\": \"we have\", \"weren't\": \"were not\",\n",
        "           \"what'll\": \"what will\", \"what'll've\": \"what will have\",\"what're\": \"what are\",\n",
        "           \"what's\": \"what is\", \"what've\": \"what have\", \"when's\": \"when is\", \"when've\": \"when have\",\n",
        "           \"where'd\": \"where did\", \"where's\": \"where is\", \"where've\": \"where have\", \"who'll\": \"who will\",\n",
        "           \"who'll've\": \"who will have\", \"who's\": \"who is\", \"who've\": \"who have\", \"why's\": \"why is\",\n",
        "           \"why've\": \"why have\", \"will've\": \"will have\", \"won't\": \"will not\", \"won't've\": \"will not have\",\n",
        "           \"would've\": \"would have\", \"wouldn't\": \"would not\", \"wouldn't've\": \"would not have\",\n",
        "           \"y'all\": \"you all\", \"y'all'd\": \"you all would\",\"y'all'd've\": \"you all would have\",\n",
        "           \"y'all're\": \"you all are\",\"y'all've\": \"you all have\",\"you'd\": \"you would\", \"you'd've\": \"you would have\", \"you'll\": \"you will\", \"you'll've\": \"you will have\",\n",
        "           \"you're\": \"you are\", \"you've\": \"you have\" }"
      ],
      "metadata": {
        "colab": {
          "base_uri": "https://localhost:8080/"
        },
        "id": "yQ3zBeI2yyPX",
        "outputId": "e323abc5-ba78-4089-f50e-20ac65f774cc"
      },
      "execution_count": 51,
      "outputs": [
        {
          "output_type": "stream",
          "name": "stderr",
          "text": [
            "/usr/local/lib/python3.10/dist-packages/ipykernel/ipkernel.py:283: DeprecationWarning: `should_run_async` will not call `transform_cell` automatically in the future. Please pass the result to `transformed_cell` argument and any exception that happen during thetransform in `preprocessing_exc_tuple` in IPython 7.17 and above.\n",
            "  and should_run_async(code)\n"
          ]
        }
      ]
    },
    {
      "cell_type": "code",
      "source": [
        "# Function to remove HTMl tags\n",
        "def remove_html_tags(text):\n",
        "  soup=BeautifulSoup(text, \"html.parser\")\n",
        "  return soup.get_text()\n",
        "\n",
        "# Assuming Processed Reddit is the column with HTML content\n",
        "df['Clean body'] = df['body'].apply(remove_html_tags)"
      ],
      "metadata": {
        "colab": {
          "base_uri": "https://localhost:8080/"
        },
        "id": "ExobBMTYy2DP",
        "outputId": "b1e95604-e7f6-408a-acfc-1a4697f28c21"
      },
      "execution_count": 52,
      "outputs": [
        {
          "output_type": "stream",
          "name": "stderr",
          "text": [
            "/usr/local/lib/python3.10/dist-packages/ipykernel/ipkernel.py:283: DeprecationWarning: `should_run_async` will not call `transform_cell` automatically in the future. Please pass the result to `transformed_cell` argument and any exception that happen during thetransform in `preprocessing_exc_tuple` in IPython 7.17 and above.\n",
            "  and should_run_async(code)\n",
            "<ipython-input-52-34f7a9b0340c>:3: MarkupResemblesLocatorWarning: The input looks more like a filename than markup. You may want to open this file and pass the filehandle into Beautiful Soup.\n",
            "  soup=BeautifulSoup(text, \"html.parser\")\n",
            "<ipython-input-52-34f7a9b0340c>:3: MarkupResemblesLocatorWarning: The input looks more like a URL than markup. You may want to use an HTTP client like requests to get the document behind the URL, and feed that document to Beautiful Soup.\n",
            "  soup=BeautifulSoup(text, \"html.parser\")\n"
          ]
        }
      ]
    },
    {
      "cell_type": "code",
      "source": [
        "# Remove URLs and Special characters with Regular Expressions\n",
        "def clean_text(text):\n",
        "    text = re.sub(r'http\\S+', '', text)  # Remove URL\n",
        "    text = re.sub(r'\\S*@\\S*\\s?', '', text)  # Remove mailboxes\n",
        "    text = re.sub(r'[^\\w\\s]', '', text)  # Remove special characters\n",
        "    text = ' '.join([mapping[t] if t in mapping else t for t in text.split(\" \")]) #expanding chatwords and contracts clearing contractions\n",
        "    emoji_clean= re.compile(\"[\"\n",
        "                           u\"\\U0001F600-\\U0001F64F\"  # emoticons\n",
        "                           u\"\\U0001F300-\\U0001F5FF\"  # symbols & pictographs\n",
        "                           u\"\\U0001F680-\\U0001F6FF\"  # transport & map symbols\n",
        "                           u\"\\U0001F1E0-\\U0001F1FF\"  # flags (iOS)\n",
        "                           u\"\\U00002702-\\U000027B0\"\n",
        "                           u\"\\U000024C2-\\U0001F251\"\n",
        "                           \"]+\", flags=re.UNICODE)\n",
        "    text = emoji_clean.sub(r'',text)\n",
        "    return text\n",
        "\n",
        "df['Clean body'] = df['Clean body'].apply(clean_text)"
      ],
      "metadata": {
        "colab": {
          "base_uri": "https://localhost:8080/"
        },
        "id": "2jPIdnG2y4gQ",
        "outputId": "178cdd39-11d6-4591-9e21-b62ad7716d7a"
      },
      "execution_count": 53,
      "outputs": [
        {
          "output_type": "stream",
          "name": "stderr",
          "text": [
            "/usr/local/lib/python3.10/dist-packages/ipykernel/ipkernel.py:283: DeprecationWarning: `should_run_async` will not call `transform_cell` automatically in the future. Please pass the result to `transformed_cell` argument and any exception that happen during thetransform in `preprocessing_exc_tuple` in IPython 7.17 and above.\n",
            "  and should_run_async(code)\n"
          ]
        }
      ]
    },
    {
      "cell_type": "code",
      "source": [
        "df['Clean body']"
      ],
      "metadata": {
        "colab": {
          "base_uri": "https://localhost:8080/"
        },
        "id": "CSVcCnk1y7kv",
        "outputId": "6a604465-dfd2-4e92-b954-572bfeb93da3"
      },
      "execution_count": 54,
      "outputs": [
        {
          "output_type": "stream",
          "name": "stderr",
          "text": [
            "/usr/local/lib/python3.10/dist-packages/ipykernel/ipkernel.py:283: DeprecationWarning: `should_run_async` will not call `transform_cell` automatically in the future. Please pass the result to `transformed_cell` argument and any exception that happen during thetransform in `preprocessing_exc_tuple` in IPython 7.17 and above.\n",
            "  and should_run_async(code)\n"
          ]
        },
        {
          "output_type": "execute_result",
          "data": {
            "text/plain": [
              "0                     URL \\nThumbnail nsfw\\nImages\\n\\t\\n\n",
              "1       COME SHITPOST WITH US ON DISCORD COMRADES \\n\\...\n",
              "2                      Incredibly based  unironic banger\n",
              "3      Like half of the video is just support for the...\n",
              "4            I think that video get take down in youtube\n",
              "                             ...                        \n",
              "495    Im not a don supporter at all Im just not a ha...\n",
              "496    Every US president would react the same way Ho...\n",
              "497              Let me know when he does something good\n",
              "498                                     remindme 4 years\n",
              "499                                          \\n\\nTry 400\n",
              "Name: Clean body, Length: 500, dtype: object"
            ]
          },
          "metadata": {},
          "execution_count": 54
        }
      ]
    },
    {
      "cell_type": "code",
      "source": [
        "# Text preprocessing using NLTK or spaCy: word splitting, deletion of stop words, word shape reduction\n",
        "import nltk\n",
        "from nltk.corpus import stopwords\n",
        "from nltk.stem import WordNetLemmatizer\n",
        "\n",
        "# Download the necessary NLTK data\n",
        "nltk.download('stopwords')\n",
        "nltk.download('wordnet')\n",
        "\n"
      ],
      "metadata": {
        "colab": {
          "base_uri": "https://localhost:8080/"
        },
        "id": "0-JV4zeey-bS",
        "outputId": "eebd4a59-8066-4a45-fef7-19cbaaff51dd"
      },
      "execution_count": 55,
      "outputs": [
        {
          "output_type": "stream",
          "name": "stderr",
          "text": [
            "/usr/local/lib/python3.10/dist-packages/ipykernel/ipkernel.py:283: DeprecationWarning: `should_run_async` will not call `transform_cell` automatically in the future. Please pass the result to `transformed_cell` argument and any exception that happen during thetransform in `preprocessing_exc_tuple` in IPython 7.17 and above.\n",
            "  and should_run_async(code)\n",
            "[nltk_data] Downloading package stopwords to /root/nltk_data...\n",
            "[nltk_data]   Package stopwords is already up-to-date!\n",
            "[nltk_data] Downloading package wordnet to /root/nltk_data...\n",
            "[nltk_data]   Package wordnet is already up-to-date!\n"
          ]
        },
        {
          "output_type": "execute_result",
          "data": {
            "text/plain": [
              "True"
            ]
          },
          "metadata": {},
          "execution_count": 55
        }
      ]
    },
    {
      "cell_type": "code",
      "source": [
        "stopwords = nltk.corpus.stopwords.words('english')\n",
        "Clean_text = [word for word in df if word.lower() not in stopwords]\n"
      ],
      "metadata": {
        "colab": {
          "base_uri": "https://localhost:8080/"
        },
        "id": "cJJtjyjQzB1F",
        "outputId": "442dbd02-9f9e-41b1-b894-a6e3e308abe0"
      },
      "execution_count": 56,
      "outputs": [
        {
          "output_type": "stream",
          "name": "stderr",
          "text": [
            "/usr/local/lib/python3.10/dist-packages/ipykernel/ipkernel.py:283: DeprecationWarning: `should_run_async` will not call `transform_cell` automatically in the future. Please pass the result to `transformed_cell` argument and any exception that happen during thetransform in `preprocessing_exc_tuple` in IPython 7.17 and above.\n",
            "  and should_run_async(code)\n"
          ]
        }
      ]
    },
    {
      "cell_type": "code",
      "source": [
        "lemmatizer = WordNetLemmatizer()"
      ],
      "metadata": {
        "colab": {
          "base_uri": "https://localhost:8080/"
        },
        "id": "lF7lOBZazG-5",
        "outputId": "362e59c2-cf85-42f5-ede3-347b572814b5"
      },
      "execution_count": 57,
      "outputs": [
        {
          "output_type": "stream",
          "name": "stderr",
          "text": [
            "/usr/local/lib/python3.10/dist-packages/ipykernel/ipkernel.py:283: DeprecationWarning: `should_run_async` will not call `transform_cell` automatically in the future. Please pass the result to `transformed_cell` argument and any exception that happen during thetransform in `preprocessing_exc_tuple` in IPython 7.17 and above.\n",
            "  and should_run_async(code)\n"
          ]
        }
      ]
    },
    {
      "cell_type": "code",
      "source": [
        "# of pre-processed text\n",
        "def preprocess_text(df):\n",
        "    text = df.lower()\n",
        "    words = df.split()\n",
        "    words = [lemmatizer.lemmatize(word) for word in words if word not in stopwords]\n",
        "    return ' '.join(words)\n",
        "\n",
        "df['Processed body'] = df['Clean body'].apply(preprocess_text)\n",
        "df['Processed body']"
      ],
      "metadata": {
        "colab": {
          "base_uri": "https://localhost:8080/"
        },
        "id": "FL63ziS3zJGZ",
        "outputId": "b4dcf72b-9a67-4d7c-ba6b-c4a2bb3909a5"
      },
      "execution_count": 58,
      "outputs": [
        {
          "output_type": "stream",
          "name": "stderr",
          "text": [
            "/usr/local/lib/python3.10/dist-packages/ipykernel/ipkernel.py:283: DeprecationWarning: `should_run_async` will not call `transform_cell` automatically in the future. Please pass the result to `transformed_cell` argument and any exception that happen during thetransform in `preprocessing_exc_tuple` in IPython 7.17 and above.\n",
            "  and should_run_async(code)\n"
          ]
        },
        {
          "output_type": "execute_result",
          "data": {
            "text/plain": [
              "0                              URL Thumbnail nsfw Images\n",
              "1      COME SHITPOST WITH US ON DISCORD COMRADES This...\n",
              "2                       Incredibly based unironic banger\n",
              "3      Like half video support Cuban revolution China...\n",
              "4                         I think video get take youtube\n",
              "                             ...                        \n",
              "495    Im supporter Im hater like everyone I like fac...\n",
              "496    Every US president would react way However Tru...\n",
              "497                              Let know something good\n",
              "498                                      remindme 4 year\n",
              "499                                              Try 400\n",
              "Name: Processed body, Length: 500, dtype: object"
            ]
          },
          "metadata": {},
          "execution_count": 58
        }
      ]
    },
    {
      "cell_type": "code",
      "source": [
        "df.to_csv('Processed_dataset_withsentiment.csv', index=False)"
      ],
      "metadata": {
        "colab": {
          "base_uri": "https://localhost:8080/"
        },
        "id": "yqa0eW-KzLSG",
        "outputId": "dcc2ee5b-5121-42d4-bce9-3df6837de099"
      },
      "execution_count": 59,
      "outputs": [
        {
          "output_type": "stream",
          "name": "stderr",
          "text": [
            "/usr/local/lib/python3.10/dist-packages/ipykernel/ipkernel.py:283: DeprecationWarning: `should_run_async` will not call `transform_cell` automatically in the future. Please pass the result to `transformed_cell` argument and any exception that happen during thetransform in `preprocessing_exc_tuple` in IPython 7.17 and above.\n",
            "  and should_run_async(code)\n"
          ]
        }
      ]
    },
    {
      "cell_type": "markdown",
      "source": [
        "Keyword Extraction"
      ],
      "metadata": {
        "id": "Ii4BIIh1zRd4"
      }
    },
    {
      "cell_type": "code",
      "source": [
        "# Extract keywords using TF-IDF\n",
        "tfidf_vectorizer = TfidfVectorizer(max_df=0.95, min_df=2, max_features=1000, stop_words='english')\n",
        "tfidf = tfidf_vectorizer.fit_transform(df['Processed body'])\n",
        "tfidf"
      ],
      "metadata": {
        "colab": {
          "base_uri": "https://localhost:8080/"
        },
        "id": "QPuuJNzKzOeY",
        "outputId": "10ad1857-281b-4c7e-e493-74e220387b72"
      },
      "execution_count": 60,
      "outputs": [
        {
          "output_type": "stream",
          "name": "stderr",
          "text": [
            "/usr/local/lib/python3.10/dist-packages/ipykernel/ipkernel.py:283: DeprecationWarning: `should_run_async` will not call `transform_cell` automatically in the future. Please pass the result to `transformed_cell` argument and any exception that happen during thetransform in `preprocessing_exc_tuple` in IPython 7.17 and above.\n",
            "  and should_run_async(code)\n"
          ]
        },
        {
          "output_type": "execute_result",
          "data": {
            "text/plain": [
              "<500x969 sparse matrix of type '<class 'numpy.float64'>'\n",
              "\twith 4577 stored elements in Compressed Sparse Row format>"
            ]
          },
          "metadata": {},
          "execution_count": 60
        }
      ]
    },
    {
      "cell_type": "code",
      "source": [
        "# Convert to array and get feature names (vocabulary)\n",
        "feature_array = tfidf_vectorizer.get_feature_names_out()\n",
        "tfidf_sorting = tfidf.toarray().argsort()[:, ::-1]\n",
        "\n",
        "# Get the first N keywords of each document\n",
        "n = 3\n",
        "top_n_keywords = feature_array[tfidf_sorting][:,:n]\n",
        "top_n_keywords"
      ],
      "metadata": {
        "colab": {
          "base_uri": "https://localhost:8080/"
        },
        "id": "GkxTZZMzzcZS",
        "outputId": "4ae26a83-e3ec-4978-ff48-0f25797d2d48"
      },
      "execution_count": 61,
      "outputs": [
        {
          "output_type": "stream",
          "name": "stderr",
          "text": [
            "/usr/local/lib/python3.10/dist-packages/ipykernel/ipkernel.py:283: DeprecationWarning: `should_run_async` will not call `transform_cell` automatically in the future. Please pass the result to `transformed_cell` argument and any exception that happen during thetransform in `preprocessing_exc_tuple` in IPython 7.17 and above.\n",
            "  and should_run_async(code)\n"
          ]
        },
        {
          "output_type": "execute_result",
          "data": {
            "text/plain": [
              "array([['url', 'thumbnail', 'images'],\n",
              "       ['rule', 'check', 'new'],\n",
              "       ['banger', 'incredibly', 'unironic'],\n",
              "       ...,\n",
              "       ['let', 'good', 'know'],\n",
              "       ['year', 'zionist', 'foundation'],\n",
              "       ['try', 'zionist', 'game']], dtype=object)"
            ]
          },
          "metadata": {},
          "execution_count": 61
        }
      ]
    },
    {
      "cell_type": "markdown",
      "source": [
        "Sentiment Analysis"
      ],
      "metadata": {
        "id": "c7miCJuAznu9"
      }
    },
    {
      "cell_type": "code",
      "source": [
        "nltk.download('vader_lexicon')\n"
      ],
      "metadata": {
        "colab": {
          "base_uri": "https://localhost:8080/"
        },
        "id": "IZnYnT4JzlWS",
        "outputId": "7c1a359e-25cd-4ddf-d7a2-ec4f60bff84d"
      },
      "execution_count": 62,
      "outputs": [
        {
          "output_type": "stream",
          "name": "stderr",
          "text": [
            "/usr/local/lib/python3.10/dist-packages/ipykernel/ipkernel.py:283: DeprecationWarning: `should_run_async` will not call `transform_cell` automatically in the future. Please pass the result to `transformed_cell` argument and any exception that happen during thetransform in `preprocessing_exc_tuple` in IPython 7.17 and above.\n",
            "  and should_run_async(code)\n",
            "[nltk_data] Downloading package vader_lexicon to /root/nltk_data...\n",
            "[nltk_data]   Package vader_lexicon is already up-to-date!\n"
          ]
        },
        {
          "output_type": "execute_result",
          "data": {
            "text/plain": [
              "True"
            ]
          },
          "metadata": {},
          "execution_count": 62
        }
      ]
    },
    {
      "cell_type": "code",
      "source": [
        "# Sentiment analysis using VADER\n",
        "sid = SentimentIntensityAnalyzer()\n",
        "df['Sentiments'] = df['Processed body'].apply(lambda x: sid.polarity_scores(x))"
      ],
      "metadata": {
        "colab": {
          "base_uri": "https://localhost:8080/"
        },
        "id": "3g4RrOulzxAL",
        "outputId": "067a58dd-0ab2-443f-aeac-cf67c9f30a28"
      },
      "execution_count": 63,
      "outputs": [
        {
          "output_type": "stream",
          "name": "stderr",
          "text": [
            "/usr/local/lib/python3.10/dist-packages/ipykernel/ipkernel.py:283: DeprecationWarning: `should_run_async` will not call `transform_cell` automatically in the future. Please pass the result to `transformed_cell` argument and any exception that happen during thetransform in `preprocessing_exc_tuple` in IPython 7.17 and above.\n",
            "  and should_run_async(code)\n"
          ]
        }
      ]
    },
    {
      "cell_type": "code",
      "source": [
        "df['Sentiments']"
      ],
      "metadata": {
        "colab": {
          "base_uri": "https://localhost:8080/"
        },
        "id": "zlOBVSPkz0vz",
        "outputId": "1b25f818-3f6d-42c6-d770-3b34c42958f7"
      },
      "execution_count": 64,
      "outputs": [
        {
          "output_type": "stream",
          "name": "stderr",
          "text": [
            "/usr/local/lib/python3.10/dist-packages/ipykernel/ipkernel.py:283: DeprecationWarning: `should_run_async` will not call `transform_cell` automatically in the future. Please pass the result to `transformed_cell` argument and any exception that happen during thetransform in `preprocessing_exc_tuple` in IPython 7.17 and above.\n",
            "  and should_run_async(code)\n"
          ]
        },
        {
          "output_type": "execute_result",
          "data": {
            "text/plain": [
              "0      {'neg': 0.0, 'neu': 1.0, 'pos': 0.0, 'compound...\n",
              "1      {'neg': 0.045, 'neu': 0.779, 'pos': 0.177, 'co...\n",
              "2      {'neg': 0.0, 'neu': 1.0, 'pos': 0.0, 'compound...\n",
              "3      {'neg': 0.198, 'neu': 0.355, 'pos': 0.447, 'co...\n",
              "4      {'neg': 0.0, 'neu': 1.0, 'pos': 0.0, 'compound...\n",
              "                             ...                        \n",
              "495    {'neg': 0.353, 'neu': 0.431, 'pos': 0.216, 'co...\n",
              "496    {'neg': 0.231, 'neu': 0.769, 'pos': 0.0, 'comp...\n",
              "497    {'neg': 0.0, 'neu': 0.508, 'pos': 0.492, 'comp...\n",
              "498    {'neg': 0.0, 'neu': 1.0, 'pos': 0.0, 'compound...\n",
              "499    {'neg': 0.0, 'neu': 1.0, 'pos': 0.0, 'compound...\n",
              "Name: Sentiments, Length: 500, dtype: object"
            ]
          },
          "metadata": {},
          "execution_count": 64
        }
      ]
    },
    {
      "cell_type": "code",
      "source": [
        "# VADER Sentiment analysis categorisation\n",
        "def classify_sentiment_vader(scores):\n",
        "    if scores['compound'] >= 0.05:\n",
        "        return 'positive'\n",
        "    elif scores['compound'] <= -0.05:\n",
        "        return 'negative'\n",
        "    else:\n",
        "        return 'neutral'\n",
        "\n",
        "df['VADER Sentiment'] = df['Sentiments'].apply(classify_sentiment_vader)\n",
        "df['VADER Sentiment']"
      ],
      "metadata": {
        "colab": {
          "base_uri": "https://localhost:8080/"
        },
        "id": "EJoPyoRgz3NN",
        "outputId": "bfff18f2-1bbe-4384-d62f-5e87b783089c"
      },
      "execution_count": 65,
      "outputs": [
        {
          "output_type": "stream",
          "name": "stderr",
          "text": [
            "/usr/local/lib/python3.10/dist-packages/ipykernel/ipkernel.py:283: DeprecationWarning: `should_run_async` will not call `transform_cell` automatically in the future. Please pass the result to `transformed_cell` argument and any exception that happen during thetransform in `preprocessing_exc_tuple` in IPython 7.17 and above.\n",
            "  and should_run_async(code)\n"
          ]
        },
        {
          "output_type": "execute_result",
          "data": {
            "text/plain": [
              "0       neutral\n",
              "1      positive\n",
              "2       neutral\n",
              "3      positive\n",
              "4       neutral\n",
              "         ...   \n",
              "495    negative\n",
              "496    negative\n",
              "497    positive\n",
              "498     neutral\n",
              "499     neutral\n",
              "Name: VADER Sentiment, Length: 500, dtype: object"
            ]
          },
          "metadata": {},
          "execution_count": 65
        }
      ]
    },
    {
      "cell_type": "code",
      "source": [
        "# Sentiment analysis using TextBlob (alternative)\n",
        "df['TextBlob Sentiment'] = df['Processed body'].apply(lambda x: TextBlob(x).sentiment.polarity)\n",
        "def classify_sentiment_textblob(score):\n",
        "    if score > 0:\n",
        "        return 'positive'\n",
        "    elif score < 0:\n",
        "        return 'negative'\n",
        "    else:\n",
        "        return 'neutral'\n",
        "\n",
        "df['TextBlob Sentiment Category'] = df['TextBlob Sentiment'].apply(classify_sentiment_textblob)\n",
        "df['TextBlob Sentiment Category']"
      ],
      "metadata": {
        "colab": {
          "base_uri": "https://localhost:8080/"
        },
        "id": "jx2EnXRqz6H0",
        "outputId": "a168899b-8892-445a-a7ec-88234486adcf"
      },
      "execution_count": 66,
      "outputs": [
        {
          "output_type": "stream",
          "name": "stderr",
          "text": [
            "/usr/local/lib/python3.10/dist-packages/ipykernel/ipkernel.py:283: DeprecationWarning: `should_run_async` will not call `transform_cell` automatically in the future. Please pass the result to `transformed_cell` argument and any exception that happen during thetransform in `preprocessing_exc_tuple` in IPython 7.17 and above.\n",
            "  and should_run_async(code)\n"
          ]
        },
        {
          "output_type": "execute_result",
          "data": {
            "text/plain": [
              "0       neutral\n",
              "1      positive\n",
              "2      positive\n",
              "3      positive\n",
              "4       neutral\n",
              "         ...   \n",
              "495    negative\n",
              "496    negative\n",
              "497    positive\n",
              "498     neutral\n",
              "499     neutral\n",
              "Name: TextBlob Sentiment Category, Length: 500, dtype: object"
            ]
          },
          "metadata": {},
          "execution_count": 66
        }
      ]
    },
    {
      "cell_type": "code",
      "source": [
        "df.head()"
      ],
      "metadata": {
        "colab": {
          "base_uri": "https://localhost:8080/",
          "height": 382
        },
        "id": "8VUunX2p0H7H",
        "outputId": "328beefb-f87d-429b-9970-6f0bca68fa41"
      },
      "execution_count": 67,
      "outputs": [
        {
          "output_type": "stream",
          "name": "stderr",
          "text": [
            "/usr/local/lib/python3.10/dist-packages/ipykernel/ipkernel.py:283: DeprecationWarning: `should_run_async` will not call `transform_cell` automatically in the future. Please pass the result to `transformed_cell` argument and any exception that happen during thetransform in `preprocessing_exc_tuple` in IPython 7.17 and above.\n",
            "  and should_run_async(code)\n"
          ]
        },
        {
          "output_type": "execute_result",
          "data": {
            "text/plain": [
              "                                                body  \\\n",
              "0  URL: https://v.redd.it/8zkhzbxomddc1\\nThumbnai...   \n",
              "1  [☭☭☭ COME SHITPOST WITH US ON DISCORD, COMRADE...   \n",
              "2                 Incredibly based + unironic banger   \n",
              "3  Like half of the video is just support for the...   \n",
              "4        I think that video get take down in youtube   \n",
              "\n",
              "                                          Clean body  \\\n",
              "0                 URL \\nThumbnail nsfw\\nImages\\n\\t\\n   \n",
              "1   COME SHITPOST WITH US ON DISCORD COMRADES \\n\\...   \n",
              "2                  Incredibly based  unironic banger   \n",
              "3  Like half of the video is just support for the...   \n",
              "4        I think that video get take down in youtube   \n",
              "\n",
              "                                      Processed body  \\\n",
              "0                          URL Thumbnail nsfw Images   \n",
              "1  COME SHITPOST WITH US ON DISCORD COMRADES This...   \n",
              "2                   Incredibly based unironic banger   \n",
              "3  Like half video support Cuban revolution China...   \n",
              "4                     I think video get take youtube   \n",
              "\n",
              "                                          Sentiments VADER Sentiment  \\\n",
              "0  {'neg': 0.0, 'neu': 1.0, 'pos': 0.0, 'compound...         neutral   \n",
              "1  {'neg': 0.045, 'neu': 0.779, 'pos': 0.177, 'co...        positive   \n",
              "2  {'neg': 0.0, 'neu': 1.0, 'pos': 0.0, 'compound...         neutral   \n",
              "3  {'neg': 0.198, 'neu': 0.355, 'pos': 0.447, 'co...        positive   \n",
              "4  {'neg': 0.0, 'neu': 1.0, 'pos': 0.0, 'compound...         neutral   \n",
              "\n",
              "   TextBlob Sentiment TextBlob Sentiment Category  \n",
              "0            0.000000                     neutral  \n",
              "1            0.212121                    positive  \n",
              "2            0.900000                    positive  \n",
              "3            0.116667                    positive  \n",
              "4            0.000000                     neutral  "
            ],
            "text/html": [
              "\n",
              "  <div id=\"df-e650ec04-678c-4d1e-ab75-36cd3ce59575\" class=\"colab-df-container\">\n",
              "    <div>\n",
              "<style scoped>\n",
              "    .dataframe tbody tr th:only-of-type {\n",
              "        vertical-align: middle;\n",
              "    }\n",
              "\n",
              "    .dataframe tbody tr th {\n",
              "        vertical-align: top;\n",
              "    }\n",
              "\n",
              "    .dataframe thead th {\n",
              "        text-align: right;\n",
              "    }\n",
              "</style>\n",
              "<table border=\"1\" class=\"dataframe\">\n",
              "  <thead>\n",
              "    <tr style=\"text-align: right;\">\n",
              "      <th></th>\n",
              "      <th>body</th>\n",
              "      <th>Clean body</th>\n",
              "      <th>Processed body</th>\n",
              "      <th>Sentiments</th>\n",
              "      <th>VADER Sentiment</th>\n",
              "      <th>TextBlob Sentiment</th>\n",
              "      <th>TextBlob Sentiment Category</th>\n",
              "    </tr>\n",
              "  </thead>\n",
              "  <tbody>\n",
              "    <tr>\n",
              "      <th>0</th>\n",
              "      <td>URL: https://v.redd.it/8zkhzbxomddc1\\nThumbnai...</td>\n",
              "      <td>URL \\nThumbnail nsfw\\nImages\\n\\t\\n</td>\n",
              "      <td>URL Thumbnail nsfw Images</td>\n",
              "      <td>{'neg': 0.0, 'neu': 1.0, 'pos': 0.0, 'compound...</td>\n",
              "      <td>neutral</td>\n",
              "      <td>0.000000</td>\n",
              "      <td>neutral</td>\n",
              "    </tr>\n",
              "    <tr>\n",
              "      <th>1</th>\n",
              "      <td>[☭☭☭ COME SHITPOST WITH US ON DISCORD, COMRADE...</td>\n",
              "      <td>COME SHITPOST WITH US ON DISCORD COMRADES \\n\\...</td>\n",
              "      <td>COME SHITPOST WITH US ON DISCORD COMRADES This...</td>\n",
              "      <td>{'neg': 0.045, 'neu': 0.779, 'pos': 0.177, 'co...</td>\n",
              "      <td>positive</td>\n",
              "      <td>0.212121</td>\n",
              "      <td>positive</td>\n",
              "    </tr>\n",
              "    <tr>\n",
              "      <th>2</th>\n",
              "      <td>Incredibly based + unironic banger</td>\n",
              "      <td>Incredibly based  unironic banger</td>\n",
              "      <td>Incredibly based unironic banger</td>\n",
              "      <td>{'neg': 0.0, 'neu': 1.0, 'pos': 0.0, 'compound...</td>\n",
              "      <td>neutral</td>\n",
              "      <td>0.900000</td>\n",
              "      <td>positive</td>\n",
              "    </tr>\n",
              "    <tr>\n",
              "      <th>3</th>\n",
              "      <td>Like half of the video is just support for the...</td>\n",
              "      <td>Like half of the video is just support for the...</td>\n",
              "      <td>Like half video support Cuban revolution China...</td>\n",
              "      <td>{'neg': 0.198, 'neu': 0.355, 'pos': 0.447, 'co...</td>\n",
              "      <td>positive</td>\n",
              "      <td>0.116667</td>\n",
              "      <td>positive</td>\n",
              "    </tr>\n",
              "    <tr>\n",
              "      <th>4</th>\n",
              "      <td>I think that video get take down in youtube</td>\n",
              "      <td>I think that video get take down in youtube</td>\n",
              "      <td>I think video get take youtube</td>\n",
              "      <td>{'neg': 0.0, 'neu': 1.0, 'pos': 0.0, 'compound...</td>\n",
              "      <td>neutral</td>\n",
              "      <td>0.000000</td>\n",
              "      <td>neutral</td>\n",
              "    </tr>\n",
              "  </tbody>\n",
              "</table>\n",
              "</div>\n",
              "    <div class=\"colab-df-buttons\">\n",
              "\n",
              "  <div class=\"colab-df-container\">\n",
              "    <button class=\"colab-df-convert\" onclick=\"convertToInteractive('df-e650ec04-678c-4d1e-ab75-36cd3ce59575')\"\n",
              "            title=\"Convert this dataframe to an interactive table.\"\n",
              "            style=\"display:none;\">\n",
              "\n",
              "  <svg xmlns=\"http://www.w3.org/2000/svg\" height=\"24px\" viewBox=\"0 -960 960 960\">\n",
              "    <path d=\"M120-120v-720h720v720H120Zm60-500h600v-160H180v160Zm220 220h160v-160H400v160Zm0 220h160v-160H400v160ZM180-400h160v-160H180v160Zm440 0h160v-160H620v160ZM180-180h160v-160H180v160Zm440 0h160v-160H620v160Z\"/>\n",
              "  </svg>\n",
              "    </button>\n",
              "\n",
              "  <style>\n",
              "    .colab-df-container {\n",
              "      display:flex;\n",
              "      gap: 12px;\n",
              "    }\n",
              "\n",
              "    .colab-df-convert {\n",
              "      background-color: #E8F0FE;\n",
              "      border: none;\n",
              "      border-radius: 50%;\n",
              "      cursor: pointer;\n",
              "      display: none;\n",
              "      fill: #1967D2;\n",
              "      height: 32px;\n",
              "      padding: 0 0 0 0;\n",
              "      width: 32px;\n",
              "    }\n",
              "\n",
              "    .colab-df-convert:hover {\n",
              "      background-color: #E2EBFA;\n",
              "      box-shadow: 0px 1px 2px rgba(60, 64, 67, 0.3), 0px 1px 3px 1px rgba(60, 64, 67, 0.15);\n",
              "      fill: #174EA6;\n",
              "    }\n",
              "\n",
              "    .colab-df-buttons div {\n",
              "      margin-bottom: 4px;\n",
              "    }\n",
              "\n",
              "    [theme=dark] .colab-df-convert {\n",
              "      background-color: #3B4455;\n",
              "      fill: #D2E3FC;\n",
              "    }\n",
              "\n",
              "    [theme=dark] .colab-df-convert:hover {\n",
              "      background-color: #434B5C;\n",
              "      box-shadow: 0px 1px 3px 1px rgba(0, 0, 0, 0.15);\n",
              "      filter: drop-shadow(0px 1px 2px rgba(0, 0, 0, 0.3));\n",
              "      fill: #FFFFFF;\n",
              "    }\n",
              "  </style>\n",
              "\n",
              "    <script>\n",
              "      const buttonEl =\n",
              "        document.querySelector('#df-e650ec04-678c-4d1e-ab75-36cd3ce59575 button.colab-df-convert');\n",
              "      buttonEl.style.display =\n",
              "        google.colab.kernel.accessAllowed ? 'block' : 'none';\n",
              "\n",
              "      async function convertToInteractive(key) {\n",
              "        const element = document.querySelector('#df-e650ec04-678c-4d1e-ab75-36cd3ce59575');\n",
              "        const dataTable =\n",
              "          await google.colab.kernel.invokeFunction('convertToInteractive',\n",
              "                                                    [key], {});\n",
              "        if (!dataTable) return;\n",
              "\n",
              "        const docLinkHtml = 'Like what you see? Visit the ' +\n",
              "          '<a target=\"_blank\" href=https://colab.research.google.com/notebooks/data_table.ipynb>data table notebook</a>'\n",
              "          + ' to learn more about interactive tables.';\n",
              "        element.innerHTML = '';\n",
              "        dataTable['output_type'] = 'display_data';\n",
              "        await google.colab.output.renderOutput(dataTable, element);\n",
              "        const docLink = document.createElement('div');\n",
              "        docLink.innerHTML = docLinkHtml;\n",
              "        element.appendChild(docLink);\n",
              "      }\n",
              "    </script>\n",
              "  </div>\n",
              "\n",
              "\n",
              "<div id=\"df-47365954-1ec4-4c4f-a455-b8cc6b3cc3b9\">\n",
              "  <button class=\"colab-df-quickchart\" onclick=\"quickchart('df-47365954-1ec4-4c4f-a455-b8cc6b3cc3b9')\"\n",
              "            title=\"Suggest charts\"\n",
              "            style=\"display:none;\">\n",
              "\n",
              "<svg xmlns=\"http://www.w3.org/2000/svg\" height=\"24px\"viewBox=\"0 0 24 24\"\n",
              "     width=\"24px\">\n",
              "    <g>\n",
              "        <path d=\"M19 3H5c-1.1 0-2 .9-2 2v14c0 1.1.9 2 2 2h14c1.1 0 2-.9 2-2V5c0-1.1-.9-2-2-2zM9 17H7v-7h2v7zm4 0h-2V7h2v10zm4 0h-2v-4h2v4z\"/>\n",
              "    </g>\n",
              "</svg>\n",
              "  </button>\n",
              "\n",
              "<style>\n",
              "  .colab-df-quickchart {\n",
              "      --bg-color: #E8F0FE;\n",
              "      --fill-color: #1967D2;\n",
              "      --hover-bg-color: #E2EBFA;\n",
              "      --hover-fill-color: #174EA6;\n",
              "      --disabled-fill-color: #AAA;\n",
              "      --disabled-bg-color: #DDD;\n",
              "  }\n",
              "\n",
              "  [theme=dark] .colab-df-quickchart {\n",
              "      --bg-color: #3B4455;\n",
              "      --fill-color: #D2E3FC;\n",
              "      --hover-bg-color: #434B5C;\n",
              "      --hover-fill-color: #FFFFFF;\n",
              "      --disabled-bg-color: #3B4455;\n",
              "      --disabled-fill-color: #666;\n",
              "  }\n",
              "\n",
              "  .colab-df-quickchart {\n",
              "    background-color: var(--bg-color);\n",
              "    border: none;\n",
              "    border-radius: 50%;\n",
              "    cursor: pointer;\n",
              "    display: none;\n",
              "    fill: var(--fill-color);\n",
              "    height: 32px;\n",
              "    padding: 0;\n",
              "    width: 32px;\n",
              "  }\n",
              "\n",
              "  .colab-df-quickchart:hover {\n",
              "    background-color: var(--hover-bg-color);\n",
              "    box-shadow: 0 1px 2px rgba(60, 64, 67, 0.3), 0 1px 3px 1px rgba(60, 64, 67, 0.15);\n",
              "    fill: var(--button-hover-fill-color);\n",
              "  }\n",
              "\n",
              "  .colab-df-quickchart-complete:disabled,\n",
              "  .colab-df-quickchart-complete:disabled:hover {\n",
              "    background-color: var(--disabled-bg-color);\n",
              "    fill: var(--disabled-fill-color);\n",
              "    box-shadow: none;\n",
              "  }\n",
              "\n",
              "  .colab-df-spinner {\n",
              "    border: 2px solid var(--fill-color);\n",
              "    border-color: transparent;\n",
              "    border-bottom-color: var(--fill-color);\n",
              "    animation:\n",
              "      spin 1s steps(1) infinite;\n",
              "  }\n",
              "\n",
              "  @keyframes spin {\n",
              "    0% {\n",
              "      border-color: transparent;\n",
              "      border-bottom-color: var(--fill-color);\n",
              "      border-left-color: var(--fill-color);\n",
              "    }\n",
              "    20% {\n",
              "      border-color: transparent;\n",
              "      border-left-color: var(--fill-color);\n",
              "      border-top-color: var(--fill-color);\n",
              "    }\n",
              "    30% {\n",
              "      border-color: transparent;\n",
              "      border-left-color: var(--fill-color);\n",
              "      border-top-color: var(--fill-color);\n",
              "      border-right-color: var(--fill-color);\n",
              "    }\n",
              "    40% {\n",
              "      border-color: transparent;\n",
              "      border-right-color: var(--fill-color);\n",
              "      border-top-color: var(--fill-color);\n",
              "    }\n",
              "    60% {\n",
              "      border-color: transparent;\n",
              "      border-right-color: var(--fill-color);\n",
              "    }\n",
              "    80% {\n",
              "      border-color: transparent;\n",
              "      border-right-color: var(--fill-color);\n",
              "      border-bottom-color: var(--fill-color);\n",
              "    }\n",
              "    90% {\n",
              "      border-color: transparent;\n",
              "      border-bottom-color: var(--fill-color);\n",
              "    }\n",
              "  }\n",
              "</style>\n",
              "\n",
              "  <script>\n",
              "    async function quickchart(key) {\n",
              "      const quickchartButtonEl =\n",
              "        document.querySelector('#' + key + ' button');\n",
              "      quickchartButtonEl.disabled = true;  // To prevent multiple clicks.\n",
              "      quickchartButtonEl.classList.add('colab-df-spinner');\n",
              "      try {\n",
              "        const charts = await google.colab.kernel.invokeFunction(\n",
              "            'suggestCharts', [key], {});\n",
              "      } catch (error) {\n",
              "        console.error('Error during call to suggestCharts:', error);\n",
              "      }\n",
              "      quickchartButtonEl.classList.remove('colab-df-spinner');\n",
              "      quickchartButtonEl.classList.add('colab-df-quickchart-complete');\n",
              "    }\n",
              "    (() => {\n",
              "      let quickchartButtonEl =\n",
              "        document.querySelector('#df-47365954-1ec4-4c4f-a455-b8cc6b3cc3b9 button');\n",
              "      quickchartButtonEl.style.display =\n",
              "        google.colab.kernel.accessAllowed ? 'block' : 'none';\n",
              "    })();\n",
              "  </script>\n",
              "</div>\n",
              "    </div>\n",
              "  </div>\n"
            ],
            "application/vnd.google.colaboratory.intrinsic+json": {
              "type": "dataframe",
              "variable_name": "df",
              "summary": "{\n  \"name\": \"df\",\n  \"rows\": 500,\n  \"fields\": [\n    {\n      \"column\": \"body\",\n      \"properties\": {\n        \"dtype\": \"string\",\n        \"num_unique_values\": 473,\n        \"samples\": [\n          \"Bruh I am inside the United States, and it is supposed to be a Democracy. I am fixing to make it a true democracy that represents all of its citizens, and values all human life equally. The Billionaire class should NOT be in charge of the strongest military in the world, it is utter nonsense, and the majority of the people who I know who have served would agree. I grew up next to a Military Base and am friends with many Veterans, I would know. We will be taking back the power from the Dumbocrats and a the Repulsicans, thank you very much.\\n\\n \\u201cIt always seems impossible until it is done.\\u201d -Nelson Mandela\",\n          \"This is a war against globalist war mongers who run the world\\u2019s money. POOR VS THE RICH, not Muslims vs Jews as it\\u2019s portrayed\",\n          \"Not interested in converting the imperial core, just stopping them.\"\n        ],\n        \"semantic_type\": \"\",\n        \"description\": \"\"\n      }\n    },\n    {\n      \"column\": \"Clean body\",\n      \"properties\": {\n        \"dtype\": \"string\",\n        \"num_unique_values\": 469,\n        \"samples\": [\n          \"Mine too you dont need to be Muslim to support the movement Israel must be stopped\",\n          \"Its just the  that is causing the west to be wanting so influential and controlling Military Industrial Complex and lots of other businesses that profit of war and oil and corrupt politicians are the problem in the west World war is good for them\",\n          \"Not interested in converting the imperial core just stopping them\"\n        ],\n        \"semantic_type\": \"\",\n        \"description\": \"\"\n      }\n    },\n    {\n      \"column\": \"Processed body\",\n      \"properties\": {\n        \"dtype\": \"string\",\n        \"num_unique_values\": 469,\n        \"samples\": [\n          \"Mine dont need Muslim support movement Israel must stopped\",\n          \"Its causing west wanting influential controlling Military Industrial Complex lot business profit war oil corrupt politician problem west World war good\",\n          \"Not interested converting imperial core stopping\"\n        ],\n        \"semantic_type\": \"\",\n        \"description\": \"\"\n      }\n    },\n    {\n      \"column\": \"Sentiments\",\n      \"properties\": {\n        \"dtype\": \"object\",\n        \"semantic_type\": \"\",\n        \"description\": \"\"\n      }\n    },\n    {\n      \"column\": \"VADER Sentiment\",\n      \"properties\": {\n        \"dtype\": \"category\",\n        \"num_unique_values\": 3,\n        \"samples\": [\n          \"neutral\",\n          \"positive\",\n          \"negative\"\n        ],\n        \"semantic_type\": \"\",\n        \"description\": \"\"\n      }\n    },\n    {\n      \"column\": \"TextBlob Sentiment\",\n      \"properties\": {\n        \"dtype\": \"number\",\n        \"std\": 0.25418106513243044,\n        \"min\": -0.8,\n        \"max\": 1.0,\n        \"num_unique_values\": 208,\n        \"samples\": [\n          -0.3333333333333333,\n          -0.075,\n          -0.098989898989899\n        ],\n        \"semantic_type\": \"\",\n        \"description\": \"\"\n      }\n    },\n    {\n      \"column\": \"TextBlob Sentiment Category\",\n      \"properties\": {\n        \"dtype\": \"category\",\n        \"num_unique_values\": 3,\n        \"samples\": [\n          \"neutral\",\n          \"positive\",\n          \"negative\"\n        ],\n        \"semantic_type\": \"\",\n        \"description\": \"\"\n      }\n    }\n  ]\n}"
            }
          },
          "metadata": {},
          "execution_count": 67
        }
      ]
    },
    {
      "cell_type": "code",
      "source": [
        "df.to_csv('Processed_dataset_withsentiment.csv', index = False)"
      ],
      "metadata": {
        "colab": {
          "base_uri": "https://localhost:8080/"
        },
        "id": "QO13r3rQ0eUZ",
        "outputId": "6d961d96-d881-46be-e75f-7deb5115591b"
      },
      "execution_count": 68,
      "outputs": [
        {
          "output_type": "stream",
          "name": "stderr",
          "text": [
            "/usr/local/lib/python3.10/dist-packages/ipykernel/ipkernel.py:283: DeprecationWarning: `should_run_async` will not call `transform_cell` automatically in the future. Please pass the result to `transformed_cell` argument and any exception that happen during thetransform in `preprocessing_exc_tuple` in IPython 7.17 and above.\n",
            "  and should_run_async(code)\n"
          ]
        }
      ]
    },
    {
      "cell_type": "markdown",
      "source": [
        "Topic Modeling"
      ],
      "metadata": {
        "id": "h3qfAUlO0kTz"
      }
    },
    {
      "cell_type": "code",
      "source": [
        "nltk.download('punkt')"
      ],
      "metadata": {
        "colab": {
          "base_uri": "https://localhost:8080/"
        },
        "id": "KJdU6pBZ0hcK",
        "outputId": "8da628c9-42da-4f1d-8222-16cb7a0c6bdb"
      },
      "execution_count": 69,
      "outputs": [
        {
          "output_type": "stream",
          "name": "stderr",
          "text": [
            "/usr/local/lib/python3.10/dist-packages/ipykernel/ipkernel.py:283: DeprecationWarning: `should_run_async` will not call `transform_cell` automatically in the future. Please pass the result to `transformed_cell` argument and any exception that happen during thetransform in `preprocessing_exc_tuple` in IPython 7.17 and above.\n",
            "  and should_run_async(code)\n",
            "[nltk_data] Downloading package punkt to /root/nltk_data...\n",
            "[nltk_data]   Package punkt is already up-to-date!\n"
          ]
        },
        {
          "output_type": "execute_result",
          "data": {
            "text/plain": [
              "True"
            ]
          },
          "metadata": {},
          "execution_count": 69
        }
      ]
    },
    {
      "cell_type": "code",
      "source": [
        "from collections import defaultdict\n",
        "texts = [word_tokenize(doc) for doc in df['Processed body'] if word_tokenize(doc)]\n",
        "# Remove very low-frequency words\n",
        "frequency = defaultdict(int)\n",
        "for text in texts:\n",
        "    for token in text:\n",
        "        frequency[token] += 1\n",
        "\n",
        "texts = [[token for token in text if frequency[token] > 1] for text in texts]\n",
        "\n",
        "dictionary = corpora.Dictionary(texts)\n",
        "corpus = [dictionary.doc2bow(text) for text in texts]\n",
        "\n",
        "ldamodel = LdaModel(corpus, num_topics=10, id2word=dictionary, passes=15)"
      ],
      "metadata": {
        "colab": {
          "base_uri": "https://localhost:8080/"
        },
        "id": "oc78Cg7C0onk",
        "outputId": "429c6c25-480f-4592-b759-cde3b15c452a"
      },
      "execution_count": 70,
      "outputs": [
        {
          "output_type": "stream",
          "name": "stderr",
          "text": [
            "/usr/local/lib/python3.10/dist-packages/ipykernel/ipkernel.py:283: DeprecationWarning: `should_run_async` will not call `transform_cell` automatically in the future. Please pass the result to `transformed_cell` argument and any exception that happen during thetransform in `preprocessing_exc_tuple` in IPython 7.17 and above.\n",
            "  and should_run_async(code)\n"
          ]
        }
      ]
    },
    {
      "cell_type": "code",
      "source": [
        "topics = ldamodel.print_topics(num_words=2)\n",
        "for topic in topics:\n",
        "    print(topic)"
      ],
      "metadata": {
        "colab": {
          "base_uri": "https://localhost:8080/"
        },
        "id": "fKckMzn70q8A",
        "outputId": "38f5e15c-33be-4135-b772-9851283054e1"
      },
      "execution_count": 71,
      "outputs": [
        {
          "output_type": "stream",
          "name": "stdout",
          "text": [
            "(0, '0.021*\"dont\" + 0.018*\"Trump\"')\n",
            "(1, '0.027*\"I\" + 0.015*\"The\"')\n",
            "(2, '0.027*\"deleted\" + 0.021*\"Yemen\"')\n",
            "(3, '0.031*\"I\" + 0.015*\"US\"')\n",
            "(4, '0.018*\"US\" + 0.013*\"American\"')\n",
            "(5, '0.019*\"people\" + 0.012*\"war\"')\n",
            "(6, '0.039*\"I\" + 0.013*\"ally\"')\n",
            "(7, '0.013*\"genocide\" + 0.012*\"year\"')\n",
            "(8, '0.028*\"people\" + 0.018*\"war\"')\n",
            "(9, '0.050*\"I\" + 0.020*\"Im\"')\n"
          ]
        },
        {
          "output_type": "stream",
          "name": "stderr",
          "text": [
            "/usr/local/lib/python3.10/dist-packages/ipykernel/ipkernel.py:283: DeprecationWarning: `should_run_async` will not call `transform_cell` automatically in the future. Please pass the result to `transformed_cell` argument and any exception that happen during thetransform in `preprocessing_exc_tuple` in IPython 7.17 and above.\n",
            "  and should_run_async(code)\n"
          ]
        }
      ]
    },
    {
      "cell_type": "code",
      "source": [
        "topics = ldamodel.print_topics(num_words=5)\n",
        "for topic in topics:\n",
        "    print(topic)"
      ],
      "metadata": {
        "colab": {
          "base_uri": "https://localhost:8080/"
        },
        "id": "jS7dTNID0ubb",
        "outputId": "2d152a4c-71cb-4adf-cac0-433450e9b6f2"
      },
      "execution_count": 72,
      "outputs": [
        {
          "output_type": "stream",
          "name": "stdout",
          "text": [
            "(0, '0.021*\"dont\" + 0.018*\"Trump\" + 0.018*\"I\" + 0.015*\"What\" + 0.014*\"think\"')\n",
            "(1, '0.027*\"I\" + 0.015*\"The\" + 0.013*\"Trump\" + 0.011*\"day\" + 0.010*\"one\"')\n",
            "(2, '0.027*\"deleted\" + 0.021*\"Yemen\" + 0.021*\"Trump\" + 0.013*\"US\" + 0.012*\"I\"')\n",
            "(3, '0.031*\"I\" + 0.015*\"US\" + 0.014*\"people\" + 0.013*\"The\" + 0.013*\"Yemen\"')\n",
            "(4, '0.018*\"US\" + 0.013*\"American\" + 0.012*\"And\" + 0.012*\"one\" + 0.010*\"brave\"')\n",
            "(5, '0.019*\"people\" + 0.012*\"war\" + 0.012*\"country\" + 0.011*\"I\" + 0.011*\"Thats\"')\n",
            "(6, '0.039*\"I\" + 0.013*\"ally\" + 0.013*\"dont\" + 0.013*\"Yemen\" + 0.012*\"American\"')\n",
            "(7, '0.013*\"genocide\" + 0.012*\"year\" + 0.012*\"like\" + 0.011*\"Palestine\" + 0.011*\"Trump\"')\n",
            "(8, '0.028*\"people\" + 0.018*\"war\" + 0.015*\"I\" + 0.012*\"want\" + 0.012*\"know\"')\n",
            "(9, '0.050*\"I\" + 0.020*\"Im\" + 0.015*\"people\" + 0.014*\"dont\" + 0.013*\"want\"')\n"
          ]
        },
        {
          "output_type": "stream",
          "name": "stderr",
          "text": [
            "/usr/local/lib/python3.10/dist-packages/ipykernel/ipkernel.py:283: DeprecationWarning: `should_run_async` will not call `transform_cell` automatically in the future. Please pass the result to `transformed_cell` argument and any exception that happen during thetransform in `preprocessing_exc_tuple` in IPython 7.17 and above.\n",
            "  and should_run_async(code)\n"
          ]
        }
      ]
    },
    {
      "cell_type": "code",
      "source": [
        "pip install pyLDAvis"
      ],
      "metadata": {
        "colab": {
          "base_uri": "https://localhost:8080/"
        },
        "id": "rNCXEKnS0xXp",
        "outputId": "22098753-b4df-4f18-d507-c758a5029c91"
      },
      "execution_count": 73,
      "outputs": [
        {
          "output_type": "stream",
          "name": "stderr",
          "text": [
            "/usr/local/lib/python3.10/dist-packages/ipykernel/ipkernel.py:283: DeprecationWarning: `should_run_async` will not call `transform_cell` automatically in the future. Please pass the result to `transformed_cell` argument and any exception that happen during thetransform in `preprocessing_exc_tuple` in IPython 7.17 and above.\n",
            "  and should_run_async(code)\n"
          ]
        },
        {
          "output_type": "stream",
          "name": "stdout",
          "text": [
            "Requirement already satisfied: pyLDAvis in /usr/local/lib/python3.10/dist-packages (3.4.1)\n",
            "Requirement already satisfied: numpy>=1.24.2 in /usr/local/lib/python3.10/dist-packages (from pyLDAvis) (1.25.2)\n",
            "Requirement already satisfied: scipy in /usr/local/lib/python3.10/dist-packages (from pyLDAvis) (1.11.4)\n",
            "Requirement already satisfied: pandas>=2.0.0 in /usr/local/lib/python3.10/dist-packages (from pyLDAvis) (2.0.3)\n",
            "Requirement already satisfied: joblib>=1.2.0 in /usr/local/lib/python3.10/dist-packages (from pyLDAvis) (1.4.2)\n",
            "Requirement already satisfied: jinja2 in /usr/local/lib/python3.10/dist-packages (from pyLDAvis) (3.1.4)\n",
            "Requirement already satisfied: numexpr in /usr/local/lib/python3.10/dist-packages (from pyLDAvis) (2.10.0)\n",
            "Requirement already satisfied: funcy in /usr/local/lib/python3.10/dist-packages (from pyLDAvis) (2.0)\n",
            "Requirement already satisfied: scikit-learn>=1.0.0 in /usr/local/lib/python3.10/dist-packages (from pyLDAvis) (1.2.2)\n",
            "Requirement already satisfied: gensim in /usr/local/lib/python3.10/dist-packages (from pyLDAvis) (4.3.2)\n",
            "Requirement already satisfied: setuptools in /usr/local/lib/python3.10/dist-packages (from pyLDAvis) (67.7.2)\n",
            "Requirement already satisfied: python-dateutil>=2.8.2 in /usr/local/lib/python3.10/dist-packages (from pandas>=2.0.0->pyLDAvis) (2.8.2)\n",
            "Requirement already satisfied: pytz>=2020.1 in /usr/local/lib/python3.10/dist-packages (from pandas>=2.0.0->pyLDAvis) (2023.4)\n",
            "Requirement already satisfied: tzdata>=2022.1 in /usr/local/lib/python3.10/dist-packages (from pandas>=2.0.0->pyLDAvis) (2024.1)\n",
            "Requirement already satisfied: threadpoolctl>=2.0.0 in /usr/local/lib/python3.10/dist-packages (from scikit-learn>=1.0.0->pyLDAvis) (3.5.0)\n",
            "Requirement already satisfied: smart-open>=1.8.1 in /usr/local/lib/python3.10/dist-packages (from gensim->pyLDAvis) (7.0.4)\n",
            "Requirement already satisfied: MarkupSafe>=2.0 in /usr/local/lib/python3.10/dist-packages (from jinja2->pyLDAvis) (2.1.5)\n",
            "Requirement already satisfied: six>=1.5 in /usr/local/lib/python3.10/dist-packages (from python-dateutil>=2.8.2->pandas>=2.0.0->pyLDAvis) (1.16.0)\n",
            "Requirement already satisfied: wrapt in /usr/local/lib/python3.10/dist-packages (from smart-open>=1.8.1->gensim->pyLDAvis) (1.14.1)\n"
          ]
        }
      ]
    },
    {
      "cell_type": "code",
      "source": [
        "# Lets visualize the topics\n",
        "import pyLDAvis\n",
        "from pyLDAvis.gensim import prepare\n",
        "\n",
        "pyLDAvis.enable_notebook()\n",
        "vis = prepare(ldamodel, corpus, dictionary)\n",
        "vis"
      ],
      "metadata": {
        "colab": {
          "base_uri": "https://localhost:8080/",
          "height": 916
        },
        "id": "3kz_8rS600ir",
        "outputId": "b42bcd4d-d701-4f53-c3ed-b012383dcd33"
      },
      "execution_count": 74,
      "outputs": [
        {
          "output_type": "stream",
          "name": "stderr",
          "text": [
            "/usr/local/lib/python3.10/dist-packages/ipykernel/ipkernel.py:283: DeprecationWarning: `should_run_async` will not call `transform_cell` automatically in the future. Please pass the result to `transformed_cell` argument and any exception that happen during thetransform in `preprocessing_exc_tuple` in IPython 7.17 and above.\n",
            "  and should_run_async(code)\n"
          ]
        },
        {
          "output_type": "execute_result",
          "data": {
            "text/plain": [
              "PreparedData(topic_coordinates=              x         y  topics  cluster       Freq\n",
              "topic                                                \n",
              "3     -0.001341 -0.015277       1        1  15.465884\n",
              "6      0.099936 -0.074541       2        1  13.212503\n",
              "2     -0.189721 -0.011552       3        1  11.273204\n",
              "8     -0.001411 -0.027304       4        1  11.024352\n",
              "1     -0.060880  0.018878       5        1  10.271176\n",
              "4      0.012865  0.168709       6        1   9.926865\n",
              "9      0.050740 -0.081724       7        1   8.282965\n",
              "5      0.058692  0.042481       8        1   6.919408\n",
              "0     -0.028449 -0.079558       9        1   6.844063\n",
              "7      0.059569  0.059890      10        1   6.779578, topic_info=        Term        Freq       Total Category  logprob  loglift\n",
              "438  deleted   21.000000   21.000000  Default  30.0000  30.0000\n",
              "166       Im   28.000000   28.000000  Default  29.0000  29.0000\n",
              "4          I  155.000000  155.000000  Default  28.0000  28.0000\n",
              "89      dont   48.000000   48.000000  Default  27.0000  27.0000\n",
              "181   people   72.000000   72.000000  Default  26.0000  26.0000\n",
              "..       ...         ...         ...      ...      ...      ...\n",
              "51   support    2.916777   24.648329  Topic10  -5.0478   0.5570\n",
              "212     cant    2.692290   17.816509  Topic10  -5.1279   0.8015\n",
              "74      They    2.612547   27.005215  Topic10  -5.1580   0.3556\n",
              "4          I    2.527117  155.742714  Topic10  -5.1912  -1.4299\n",
              "873       He    2.526139   12.745898  Topic10  -5.1916   1.0727\n",
              "\n",
              "[638 rows x 6 columns], token_table=      Topic      Freq    Term\n",
              "term                         \n",
              "1040      5  0.787493       2\n",
              "632       3  0.704857       3\n",
              "632       4  0.234952       3\n",
              "786       4  0.709623     3rd\n",
              "786       6  0.236541     3rd\n",
              "...     ...       ...     ...\n",
              "227       4  0.184520   youre\n",
              "227       5  0.092260   youre\n",
              "227       7  0.092260   youre\n",
              "227       9  0.461300   youre\n",
              "970       3  0.784451  الساعة\n",
              "\n",
              "[1337 rows x 3 columns], R=30, lambda_step=0.01, plot_opts={'xlab': 'PC1', 'ylab': 'PC2'}, topic_order=[4, 7, 3, 9, 2, 5, 10, 6, 1, 8])"
            ],
            "text/html": [
              "\n",
              "<link rel=\"stylesheet\" type=\"text/css\" href=\"https://cdn.jsdelivr.net/gh/bmabey/pyLDAvis@3.4.0/pyLDAvis/js/ldavis.v1.0.0.css\">\n",
              "\n",
              "\n",
              "<div id=\"ldavis_el3611349489002851041462950262\" style=\"background-color:white;\"></div>\n",
              "<script type=\"text/javascript\">\n",
              "\n",
              "var ldavis_el3611349489002851041462950262_data = {\"mdsDat\": {\"x\": [-0.0013405733722591706, 0.0999363541041368, -0.1897210635982533, -0.0014114645050079555, -0.0608802670761839, 0.0128648833973219, 0.05074013431824178, 0.058692390126067286, -0.02844932336808884, 0.05956892997402536], \"y\": [-0.015277396436354134, -0.07454106240864534, -0.011552029186240282, -0.027303661907034732, 0.018877563885830027, 0.16870870315435674, -0.0817241060534882, 0.04248058651641558, -0.07955822192991732, 0.059889624365077804], \"topics\": [1, 2, 3, 4, 5, 6, 7, 8, 9, 10], \"cluster\": [1, 1, 1, 1, 1, 1, 1, 1, 1, 1], \"Freq\": [15.465884499696955, 13.212503466149947, 11.273204283401471, 11.02435228914265, 10.271176114744108, 9.926864581172985, 8.282965357675991, 6.919407913020296, 6.844063396693527, 6.7795780983020695]}, \"tinfo\": {\"Term\": [\"deleted\", \"Im\", \"I\", \"dont\", \"people\", \"Yemen\", \"want\", \"Palestine\", \"What\", \"day\", \"You\", \"think\", \"genocide\", \"Trump\", \"American\", \"year\", \"Thats\", \"And\", \"brave\", \"This\", \"South\", \"removed\", \"coalition\", \"service\", \"War\", \"Israel\", \"thing\", \"US\", \"veto\", \"hard\", \"luck\", \"thin\", \"puppet\", \"O\", \"resistance\", \"easily\", \"reddit\", \"STOP\", \"courage\", \"rigged\", \"mistake\", \"Nixon\", \"steadily\", \"dictator\", \"increasing\", \"deserve\", \"red\", \"obvious\", \"collapsed\", \"congress\", \"condemnation\", \"passed\", \"bipartisan\", \"convince\", \"Ummah\", \"worst\", \"sea\", \"charge\", \"homeland\", \"AlBader\", \"Palestinians\", \"away\", \"sound\", \"Those\", \"Please\", \"president\", \"give\", \"fucking\", \"would\", \"like\", \"We\", \"I\", \"US\", \"get\", \"government\", \"Gaza\", \"Miller\", \"behind\", \"Yemen\", \"better\", \"The\", \"people\", \"thing\", \"feel\", \"u\", \"cant\", \"war\", \"It\", \"one\", \"Arabia\", \"dont\", \"They\", \"supporting\", \"Trump\", \"support\", \"Saudi\", \"going\", \"know\", \"want\", \"Iran\", \"This\", \"regime\", \"provide\", \"deeper\", \"civilized\", \"recall\", \"Sure\", \"relatively\", \"Bernie\", \"Executed\", \"Bold\", \"poll\", \"found\", \"One\", \"Goosebumps\", \"status\", \"shithole\", \"essentially\", \"mess\", \"leaving\", \"cleaning\", \"secondly\", \"targeting\", \"pound\", \"israelsunni\", \"targetingI\", \"betterment\", \"Pound\", \"scum\", \"Left\", \"legit\", \"sane\", \"necessary\", \"hate\", \"ally\", \"work\", \"anything\", \"Iran\", \"As\", \"giving\", \"push\", \"short\", \"etc\", \"I\", \"Im\", \"American\", \"good\", \"term\", \"least\", \"right\", \"dont\", \"But\", \"matter\", \"Yemen\", \"much\", \"take\", \"know\", \"get\", \"say\", \"Saudi\", \"one\", \"support\", \"back\", \"The\", \"like\", \"country\", \"lot\", \"would\", \"doesnt\", \"deleted\", \"coalition\", \"Powers\", \"Resolution\", \"Iranbacked\", \"Saudiled\", \"War\", \"earlier\", \"McCaul\", \"Is\", \"shitty\", \"\\u0627\\u0644\\u0633\\u0627\\u0639\\u0629\", \"attacked\", \"Surely\", \"valid\", \"battle\", \"drone\", \"head\", \"rwaterniggas\", \"engaged\", \"invoke\", \"provides\", \"Rep\", \"abuse\", \"chance\", \"wanted\", \"ship\", \"allows\", \"Presidents\", \"remember\", \"month\", \"3\", \"veto\", \"Congress\", \"conflict\", \"House\", \"something\", \"killing\", \"Yemen\", \"first\", \"thats\", \"arm\", \"civilian\", \"voted\", \"United\", \"Trump\", \"Hillary\", \"power\", \"vote\", \"US\", \"would\", \"fighting\", \"Saudi\", \"military\", \"I\", \"country\", \"The\", \"day\", \"war\", \"president\", \"support\", \"fake\", \"follow\", \"earth\", \"stick\", \"administration\", \"5\", \"Beautiful\", \"Roosevelt\", \"Democrats\", \"force\", \"convinced\", \"unironic\", \"tbh\", \"wonder\", \"IMPERIALISM\", \"youll\", \"guess\", \"belong\", \"throw\", \"crybaby\", \"humanity\", \"Unfortunately\", \"multiple\", \"allowed\", \"Whats\", \"3rd\", \"family\", \"yes\", \"along\", \"win\", \"wont\", \"real\", \"people\", \"want\", \"war\", \"know\", \"policy\", \"world\", \"anymore\", \"When\", \"nothing\", \"party\", \"politician\", \"Republicans\", \"see\", \"kill\", \"think\", \"Trump\", \"thought\", \"matter\", \"show\", \"Americans\", \"They\", \"I\", \"get\", \"say\", \"power\", \"care\", \"US\", \"Its\", \"You\", \"country\", \"The\", \"money\", \"dont\", \"American\", \"one\", \"Giuliani\", \"client\", \"SaudiArabia\", \"mayor\", \"Post\", \"evening\", \"meet\", \"stopping\", \"ill\", \"growing\", \"consulting\", \"bank\", \"YEMEN\", \"Fuchs\", \"Youre\", \"Inauguration\", \"recent\", \"Kharkiv\", \"Colombia\", \"Armenia\", \"Washington\", \"reality\", \"counsel\", \"inauguration\", \"Partners\", \"Brazil\", \"2\", \"billionaire\", \"jail\", \"fountain\", \"man\", \"hope\", \"former\", \"office\", \"New\", \"York\", \"day\", \"Ukraine\", \"great\", \"around\", \"business\", \"Not\", \"mean\", \"I\", \"went\", \"The\", \"He\", \"stop\", \"made\", \"see\", \"Trump\", \"one\", \"water\", \"Arabia\", \"war\", \"Trumps\", \"Saudi\", \"US\", \"still\", \"really\", \"going\", \"could\", \"get\", \"people\", \"today\", \"brave\", \"school\", \"weaken\", \"dangerous\", \"service\", \"endangering\", \"common\", \"attempt\", \"requires\", \"usavevideo\", \"incapable\", \"struggle\", \"Tuesday\", \"folk\", \"plane\", \"hospital\", \"member\", \"authority\", \"account\", \"explaining\", \"siege\", \"unnecessary\", \"future\", \"starved\", \"Canada\", \"citizen\", \"atrocity\", \"died\", \"step\", \"terrorism\", \"believe\", \"providing\", \"And\", \"weapon\", \"US\", \"American\", \"bomb\", \"doesnt\", \"life\", \"wrote\", \"live\", \"always\", \"Palestine\", \"This\", \"one\", \"It\", \"way\", \"country\", \"people\", \"Im\", \"The\", \"I\", \"like\", \"war\", \"Africa\", \"ashamed\", \"South\", \"home\", \"WW3\", \"smoke\", \"ahead\", \"tear\", \"WAR\", \"middleeast\", \"idea\", \"due\", \"claim\", \"pay\", \"British\", \"easy\", \"sickened\", \"evidence\", \"instead\", \"pulling\", \"proper\", \"refuse\", \"lmao\", \"tho\", \"pocket\", \"oppression\", \"knew\", \"sure\", \"saying\", \"true\", \"Im\", \"thought\", \"I\", \"Its\", \"As\", \"want\", \"dont\", \"My\", \"people\", \"This\", \"Yemen\", \"war\", \"Trump\", \"government\", \"think\", \"Id\", \"would\", \"heart\", \"need\", \"country\", \"get\", \"American\", \"support\", \"president\", \"right\", \"The\", \"convicted\", \"blowing\", \"loathe\", \"distorted\", \"whole\", \"Oh\", \"level\", \"Thats\", \"lying\", \"profit\", \"cognitive\", \"dissonance\", \"purpose\", \"apparently\", \"election\", \"taking\", \"image\", \"Yemeni\", \"must\", \"soon\", \"Theyre\", \"Our\", \"Fuck\", \"started\", \"idiot\", \"medium\", \"political\", \"oh\", \"happening\", \"gone\", \"ruling\", \"crime\", \"he\", \"Israel\", \"class\", \"someone\", \"another\", \"people\", \"country\", \"Palestine\", \"And\", \"USA\", \"never\", \"war\", \"American\", \"lot\", \"This\", \"change\", \"I\", \"still\", \"right\", \"want\", \"one\", \"think\", \"US\", \"good\", \"removed\", \"globalist\", \"ban\", \"sport\", \"logic\", \"disagree\", \"Have\", \"Greater\", \"Houtis\", \"Hence\", \"Cyrus\", \"shut\", \"main\", \"given\", \"run\", \"Why\", \"celebrity\", \"Saudia\", \"team\", \"Do\", \"whatever\", \"hard\", \"youre\", \"part\", \"Germany\", \"Hes\", \"You\", \"LOL\", \"empathy\", \"gone\", \"die\", \"What\", \"he\", \"thing\", \"think\", \"dont\", \"Trump\", \"But\", \"I\", \"day\", \"The\", \"Arabia\", \"care\", \"war\", \"party\", \"Israel\", \"shit\", \"end\", \"going\", \"They\", \"know\", \"get\", \"Thumbnail\", \"URL\", \"Images\", \"approach\", \"denial\", \"wrongdoing\", \"Foundation\", \"propaganda\", \"Sunni\", \"foundation\", \"insurgent\", \"suck\", \"speech\", \"example\", \"pull\", \"music\", \"create\", \"justification\", \"Ive\", \"violence\", \"there\", \"shame\", \"hypocrite\", \"prevent\", \"funny\", \"seen\", \"translation\", \"produce\", \"Same\", \"Clinton\", \"genocide\", \"year\", \"Palestine\", \"Syria\", \"So\", \"use\", \"much\", \"help\", \"middle\", \"like\", \"supporter\", \"Trump\", \"war\", \"u\", \"fact\", \"The\", \"hate\", \"Saudi\", \"group\", \"Yemen\", \"want\", \"one\", \"dont\", \"support\", \"cant\", \"They\", \"I\", \"He\"], \"Freq\": [21.0, 28.0, 155.0, 48.0, 72.0, 56.0, 30.0, 14.0, 20.0, 17.0, 15.0, 27.0, 15.0, 69.0, 34.0, 15.0, 8.0, 21.0, 8.0, 21.0, 7.0, 6.0, 7.0, 8.0, 8.0, 14.0, 18.0, 57.0, 16.0, 10.0, 3.6064334587091653, 2.7474854076337345, 2.7430313442254013, 2.7394154175119265, 2.718649163903106, 1.8613455490825088, 1.8613406046789853, 1.861338795750867, 1.861338795750867, 1.8613357808706696, 1.8613110588530515, 1.861323962540296, 1.8613182945655251, 1.861269694696744, 1.8613009288555884, 1.8611244980664403, 1.8610877165280328, 1.8610383930880046, 1.8608495409924435, 1.8607493263746842, 1.860322178148326, 1.8602499416187976, 1.8602017035356404, 1.8600252727464923, 1.8596556484342992, 1.8591349183266157, 1.8588024373384537, 1.8587358687836966, 1.8576787311913034, 1.8578528706715014, 7.814322974884847, 4.208115752785689, 2.7352459587942217, 3.537807067324538, 2.7322277019310666, 8.48666489555108, 4.520274518894328, 4.4607791142705535, 11.547785154638069, 13.34143916638754, 6.717211447740818, 32.43654902325372, 15.35352583105176, 11.853403319051402, 5.407261920566628, 3.221310009207144, 3.211816513251363, 4.521533532864734, 13.384011204297222, 4.519350759601864, 13.971746903771294, 14.178515588178598, 5.919347281367532, 4.342668167659796, 6.793963061852469, 5.7292781389684695, 11.635403844123406, 5.815167010791784, 8.609214710573976, 5.403184837778169, 8.398301410061794, 6.135389254881004, 4.374708867254568, 8.115948473155248, 5.638742010213776, 5.641088792959381, 5.187176148542076, 5.162174832422456, 5.0765937195696855, 4.559554790009353, 4.533919625477045, 4.422423589018146, 3.5736041305863506, 3.5720513457271195, 3.534932452249008, 2.7059513863658826, 2.7040184412007493, 2.6592025893340256, 2.6451453120713766, 1.8335774426391034, 1.833577236590157, 1.8335751761006942, 1.8333169967709946, 1.8324153265820355, 1.8317844047084997, 1.8309202354277652, 1.8309762807411558, 1.830901484973653, 1.8308112355351787, 1.830743651480796, 1.8307189256072411, 1.83063959676292, 1.8304990713815512, 1.8304580676412399, 1.830424687711941, 1.830400992083118, 1.8302985857568124, 1.8301522910049475, 1.830132510306104, 1.8300766710416596, 1.8300012571273179, 3.566980893256849, 3.536124651452234, 6.141229914133965, 11.169241658741708, 5.955147934936489, 5.3227144863307325, 7.901500705005124, 4.535524267733867, 2.7044146733244623, 2.7068077257866583, 2.661440692988613, 4.386111171115807, 34.180879465988006, 9.920638616958648, 10.226614708630981, 7.784205281840859, 2.586244778432148, 4.315768533440225, 6.00621469368677, 11.112888920323337, 6.225739241062676, 4.44218121037987, 11.098628684848594, 5.755897779679599, 5.30330261510088, 7.056532713477357, 7.950098585280975, 5.8459135586489275, 6.662697763205444, 7.206833056858135, 5.679563650743836, 4.337391721961646, 6.1552062141607236, 5.494791730746862, 5.319708644302273, 4.4506510583660095, 4.6039733155930564, 4.439629088131138, 20.616534971283812, 6.923247032494578, 5.191310646061742, 4.352596010000093, 3.5051452429488705, 3.504695180658496, 6.90600331777226, 2.649210977529663, 2.6449466373283608, 5.200161402290896, 1.7965758796656022, 1.7965208525183807, 1.7962230378621715, 1.7960361565283167, 1.795828705941347, 1.7956817324746464, 1.7952051235413626, 1.7949122314414547, 1.7949136378861121, 1.7948900799381002, 1.7948011223135183, 1.7947886401171838, 1.7942455766738368, 1.7906943039138472, 1.7846381532189899, 1.7846298903566276, 3.5059683646846267, 1.7204061773257107, 1.7124893003490846, 1.6710719664661697, 6.069955652392247, 2.6521599403651117, 8.216057290597453, 8.071459308923282, 5.214086610844027, 2.6479537918115104, 7.682313652772949, 4.360917239815729, 16.227519076879787, 4.2152443828121235, 6.0496972235467465, 3.5053896127080977, 3.502583755616542, 4.299080790785203, 3.4492963804361527, 15.679092860054132, 3.5047531965006145, 6.234753695458634, 4.247568700373644, 9.723528274206283, 6.541204625086552, 4.2571191628198655, 5.792759123249863, 4.20180334283231, 8.92723376706829, 5.629701203835871, 5.780537822399198, 4.363215370385955, 4.939481807594107, 3.686413456175994, 3.6977254905556354, 2.638429553653834, 2.6364039364121634, 2.630491100885468, 2.624354075502794, 1.787266976721201, 1.787250815796, 1.7871732777399831, 1.7872509877207363, 1.7872327636987013, 1.786542142033467, 1.7864343452238822, 1.7863679822757168, 1.7856914584388495, 1.785693865385156, 1.785433743259316, 1.784859170791003, 1.782160640131925, 1.780748278424208, 1.7805574419670482, 1.7802056839568243, 1.7795728290029467, 1.7788050131311677, 1.7759441855211358, 1.7446265475033602, 3.4871085058476137, 2.638288231520694, 3.141688329098281, 1.7866277605520846, 1.785670139771563, 4.499026900398859, 4.325906255754195, 3.489512701358352, 20.544924825010273, 8.604167353220356, 13.100772177935914, 8.578127632678564, 2.637061548528051, 6.358725080773664, 2.635307400444809, 2.63405802338699, 3.6328968997838853, 4.340608227643875, 2.526878423605143, 3.2978286552494107, 3.7561301437312573, 2.68304092804724, 5.409663057468697, 8.207736419547533, 3.484249741334416, 3.4898929988747813, 2.635650906067696, 2.638025186674339, 5.174155396107525, 11.164645887640798, 6.168011034026249, 4.534881804129156, 4.340455214628674, 4.254553707895384, 6.084789833930001, 4.340807660337843, 3.849862478348066, 4.644450470044958, 5.122571785963084, 3.1413723314331823, 3.8500447185684163, 3.534803178459668, 3.3852685445220385, 5.18361207348884, 4.333982524068286, 3.4862770442710533, 2.6343125662042164, 2.6337197438868745, 2.6187655967037555, 2.59813166390847, 1.7861286318644543, 1.7861241468536773, 1.78478889507379, 1.7845957192524677, 1.7845806624305736, 1.7845354919648913, 1.7845394964387993, 1.784534370712197, 1.7845196342482155, 1.7844815116566113, 1.7844366615488414, 1.7844192020426026, 1.7844121541685245, 1.7843626588710215, 1.7842457282329076, 1.7843451993647825, 1.784303873194052, 1.7842530964648982, 1.7840491886535024, 1.783679655801271, 1.7809816014610098, 1.7794187353841913, 1.7775547328694905, 3.3618176748521664, 4.81950800644522, 3.4848399186749464, 3.457629037933144, 2.6345400203221914, 2.6344471165275256, 7.534599621216611, 2.6342862968553797, 4.2131588965999605, 2.5734432813708024, 3.486450998617617, 3.461140160655688, 5.476749815008431, 18.66813719455851, 2.633795508533214, 10.261256156634337, 4.327753484814897, 4.180216812801014, 2.359541424353194, 3.8999536150746326, 9.165732687787164, 6.813344535265327, 2.633568214594195, 4.126550775633329, 6.431855285018513, 3.4850491123919007, 4.272655447777709, 4.763268213807379, 3.321620445405642, 3.487359854015779, 3.487996084830284, 3.0148655704513376, 3.3742924119704014, 3.2034615550546626, 4.865157532007055, 6.909570411471798, 3.4235858442601477, 3.4124804357691514, 3.389640782926636, 6.628093448651656, 3.9550648476586217, 2.5896874146305042, 4.150779249991558, 1.7550887819981174, 1.7549627671309425, 1.7548819566141545, 1.7545162967661598, 1.7543265004183017, 1.754108528756161, 1.7539955178801931, 1.7527929583123603, 5.733530935611907, 3.416227133331032, 4.258292224248252, 3.1437681287942842, 2.5890698798575786, 2.928876864475543, 4.844012113447543, 2.427292488768359, 2.395969589376139, 5.530005469227145, 1.7546031448502941, 1.7539781792252502, 1.7544785232678912, 3.42228761247129, 2.5881938133546996, 2.1265219376603857, 8.081374301624184, 5.089263672190329, 12.07035293911365, 8.420283701230009, 4.259892644023259, 5.930383496794316, 4.3847452020794755, 3.369839110125206, 4.117947578000458, 4.4627127986944455, 4.809154915016493, 5.9006161224455544, 7.855558755834832, 5.0937943246507045, 4.366154758173351, 5.922464685386774, 6.722626272351641, 5.09690909016368, 5.8787774673071596, 6.489696304896568, 5.011597644323832, 4.694915781117266, 4.163342435000311, 3.285242680091056, 5.765285575922564, 2.5246046756791145, 1.716501990717159, 1.716211997744396, 1.7161112429476229, 1.7156020437054704, 1.7155373281244664, 1.7154266270208325, 1.7151903699396815, 1.7148621418132712, 1.709285234639073, 3.3309530646218732, 4.894278442014858, 2.533935603242819, 1.4696331043553859, 2.3385283918881683, 1.7152235673534901, 1.720809387452018, 1.7157569219123048, 1.714888880586261, 1.7126344274220584, 1.712763212719985, 1.716378243159071, 1.6825185603209962, 2.5207617843919414, 3.91407816793167, 3.254298556891394, 2.533255637537418, 11.003615297662446, 4.163479616531302, 27.684346940319625, 6.374225866585015, 3.267076073541631, 7.259823328447974, 7.91545700877386, 2.5167222920782453, 8.456526284873737, 4.168118729058614, 6.219612722369929, 6.224061950857169, 6.470730877699192, 3.2629474519846355, 4.18908011866314, 2.4612521262333567, 4.1681393967092335, 2.5298478002957983, 2.84599671830117, 3.656555107675241, 3.4824001831075955, 3.041577796266662, 2.7866955450682154, 2.722683439222044, 2.669634488647299, 2.6740180973438195, 1.6630518075071323, 1.6624466586428837, 1.6614954483650035, 1.6613575417586357, 3.135353743718701, 2.4499337386475246, 2.452694460570302, 5.179636602541643, 1.6625775512199759, 1.6627950940356544, 1.6615823144198751, 1.6615823144198751, 1.6622699051051448, 1.637899390617585, 2.8885419234148357, 3.245814561440048, 1.4920080133228784, 3.1379649049557, 2.453559020609596, 2.4102032554039474, 1.6614058846065645, 1.6630449013859996, 1.656910323473636, 1.663061842964403, 1.662877751672961, 2.4542459638460095, 2.455072971851645, 0.8710760185366242, 0.8710751013174113, 0.8710741301441269, 1.662364756362576, 1.663062598321402, 1.6630794319916629, 4.037888600774482, 2.452892148287724, 2.407561232438137, 3.2164555614237167, 8.909860528284465, 5.489524616945445, 3.210018624895514, 3.8902590391172014, 2.4534019063538284, 2.9327814563091783, 5.6240217576364175, 4.324832754245331, 3.152920110268458, 3.246893642867025, 2.455058512160523, 5.231409202877711, 2.455080309605348, 2.5401960944024324, 2.8542927421877304, 2.7384773066094383, 2.5177058793013796, 2.454616304591748, 2.4543234418924667, 4.932827283040363, 4.107488475508378, 1.6986795663305907, 1.6986784989991384, 1.6986746566059103, 1.6986723084767155, 1.6983532831056418, 1.697762728613119, 1.6976603715268495, 1.6975378418761327, 1.6944053307969622, 1.5670091823236747, 2.499736583324184, 1.4181180457337854, 1.6986926945074532, 1.6980034118555984, 1.6987153219342406, 1.6986856501198684, 2.5077895991313124, 3.263414585528984, 2.3525423970102066, 4.934669924059506, 4.5665280942168085, 1.6986833019906735, 1.6986838356563996, 3.3058311913060456, 6.159884887104681, 0.8897392392307745, 0.8897348098052477, 0.8897360906029903, 3.3165813536929774, 6.885444000357997, 1.6986863972518849, 4.970522014472729, 6.572799563638398, 9.478880117610037, 8.471989510850273, 3.982080018398591, 8.432698905430524, 3.2789182152715983, 5.1713169459191795, 2.7048130081581383, 2.7462139413252515, 3.5633199944335523, 2.5069560132671156, 2.507328511943946, 2.507629499413477, 2.4507191729139075, 2.713422103651882, 2.801624667134428, 2.53605765917752, 2.4089465949351254, 2.524305529440536, 2.524305529440536, 2.524305529440536, 1.7110251978015458, 1.7109722283254405, 1.710936809613873, 1.7109082631896249, 1.710588543238043, 1.710539168496843, 1.7102876427809655, 1.7101531574045066, 1.7095015588391629, 2.526079636843824, 2.524443398096906, 2.5243746752237155, 2.5242513969619615, 1.3787459825528918, 1.3782105785069887, 3.1611578578373405, 1.7110275238064847, 1.7105208776398246, 1.7110314357238816, 1.710933320606465, 1.711032070088865, 1.7092026672045328, 2.5131857456483178, 1.6886175234965355, 2.524427750427318, 1.6355360819716593, 1.7105916093354623, 5.782843698588873, 5.670964975584617, 5.08225820050515, 3.3394080744940475, 3.3421032798530836, 3.339937346345112, 4.12066872787361, 3.607017903067934, 3.3329561597039254, 5.504196342215602, 3.3399601834845107, 4.977184945041707, 4.479943450713978, 3.342717133701921, 2.526039883304871, 4.092076629346434, 2.5274356977231194, 3.340820805311851, 2.525723123723211, 3.8521978545623945, 3.268998001902931, 3.3427727463654566, 3.341408227286384, 2.9167772062218345, 2.6922896061175488, 2.6125473902571454, 2.5271174579564986, 2.5261386327872706], \"Total\": [21.0, 28.0, 155.0, 48.0, 72.0, 56.0, 30.0, 14.0, 20.0, 17.0, 15.0, 27.0, 15.0, 69.0, 34.0, 15.0, 8.0, 21.0, 8.0, 21.0, 7.0, 6.0, 7.0, 8.0, 8.0, 14.0, 18.0, 57.0, 16.0, 10.0, 4.383734637061249, 3.497725885998859, 3.4975004125420868, 3.4974038369824685, 3.4972872057430804, 2.6112901933948236, 2.6112852489913, 2.611283470921923, 2.6112834764158475, 2.611280473516267, 2.6112632853941324, 2.611288577267679, 2.6112883663249327, 2.611230751382334, 2.611289771257066, 2.6112851640593187, 2.6112871763608188, 2.611274897279349, 2.6112773362158745, 2.6112613857953715, 2.6112372164487785, 2.6112306408372126, 2.6112270908420916, 2.6109807257568387, 2.611068955798166, 2.6109839606471983, 2.6109692585827218, 2.6109835561160697, 2.6108959179551245, 2.611155369073139, 12.13744674273938, 6.981930321675274, 4.31193926394619, 6.025885192678664, 4.311783583293467, 19.628792444168276, 8.617666189424675, 8.4779129482319, 31.895707304919522, 40.827193348149144, 16.311813189584264, 155.74271414999023, 57.20966725108016, 41.0393431940962, 12.83837261967923, 6.051592679614444, 6.032792787078199, 10.278429074560588, 56.53298611144271, 10.431471672642457, 61.19023963199279, 72.56210704073125, 18.604171052168176, 10.99994916968706, 23.843322050340092, 17.816509230626664, 62.361480587475, 19.467583206847625, 43.33328534714123, 17.06457034205218, 48.86887403005492, 27.005215335826602, 11.899281052982111, 69.16167513284749, 24.64832900352988, 31.610201378787696, 22.959117377888248, 31.580629766468817, 30.968377706329107, 17.381011866209644, 21.665174203705085, 5.204866327310156, 4.331170053725262, 4.3312236680907015, 4.331814467708702, 3.458063976635615, 3.4580238346043375, 3.4586714034116595, 3.45429369705836, 2.584844734248106, 2.5848446199081407, 2.5848425141212092, 2.584854151754258, 2.5848377204489044, 2.58472283864818, 2.584726072377744, 2.584813472633832, 2.5848018485326745, 2.5848005888394896, 2.5848257117009776, 2.5848060594282227, 2.5848141021874476, 2.5848115806826724, 2.584824497516374, 2.584818536145307, 2.5848131928887783, 2.5848041621102675, 2.584813555741856, 2.5848231615736452, 2.584763019000977, 2.584821074212992, 5.12320881824302, 5.182250024751632, 10.282097085154664, 21.533690881117327, 11.19907460920492, 10.247562692343978, 17.381011866209644, 8.479466118522293, 4.309017587300557, 4.344284662017732, 4.3096403447492895, 8.611111874326083, 155.74271414999023, 28.58739909455591, 34.50888258546873, 22.935652755316205, 4.34607793066411, 10.272352863861254, 17.711131151824752, 48.86887403005492, 19.295797065351987, 11.0677477855583, 56.53298611144271, 17.756701534936596, 15.436263175574908, 31.580629766468817, 41.0393431940962, 21.385090776083366, 31.610201378787696, 43.33328534714123, 24.64832900352988, 11.96110734977339, 61.19023963199279, 40.827193348149144, 38.48465056527119, 16.029768296518245, 31.895707304919522, 19.56475663283428, 21.37186449715885, 7.682894473589546, 5.9723890276927625, 5.116232653273119, 4.260707839109276, 4.260695236039031, 8.533862562576115, 3.4051298953739355, 3.405096258471367, 6.8440824760077845, 2.5496070819396754, 2.54955244694604, 2.549596724492063, 2.549594582833326, 2.549583273493573, 2.5495917951111466, 2.5495922201650814, 2.549520206193784, 2.549522732088798, 2.549571184900018, 2.549570810962052, 2.549574896410175, 2.549554254418102, 2.5495462668432274, 2.5497971606455367, 2.549802188038, 5.096445637147864, 2.5522321088823543, 2.552453052907386, 2.548645638548953, 10.132910565255877, 4.256180084357472, 16.216737151290626, 17.027384657985206, 10.11657077370639, 4.25609863892306, 17.863845874704662, 8.462774619473766, 56.53298611144271, 8.483194316384438, 14.437932379042998, 6.735277292170404, 6.78037406328279, 9.211596643517714, 6.83175632781244, 69.16167513284749, 7.556956573573908, 19.63638661747703, 11.02802780524988, 57.20966725108016, 31.895707304919522, 12.820281117379478, 31.610201378787696, 12.866975986847288, 155.74271414999023, 38.48465056527119, 61.19023963199279, 17.68103686316808, 62.361480587475, 19.628792444168276, 24.64832900352988, 3.3919033485305983, 3.3918747584834756, 3.391269269559083, 3.3920695530822984, 2.5407408416463304, 2.5407279830759943, 2.540650626174218, 2.5407634976802274, 2.5407592525239653, 2.5407078453450294, 2.5407314015826477, 2.540722709549256, 2.5406759662250837, 2.5408110878932084, 2.5406296480990225, 2.540599945418331, 2.540743126098529, 2.5404663300362182, 2.5406968840941797, 2.5407814434730525, 2.5408050692874187, 2.5406274372312594, 2.5408242980781632, 2.5424304815490735, 5.129288149026431, 4.2275990436023045, 5.8385387422815045, 3.3325652081862884, 3.332604987494662, 8.416107230470217, 8.486741841026786, 6.771319405370162, 72.56210704073125, 30.968377706329107, 62.361480587475, 31.580629766468817, 5.056771067748752, 24.502924514127876, 5.082917749684019, 5.08697722936199, 9.311365701182698, 13.444177039721344, 4.988223489200442, 8.485488395224898, 11.084676350228163, 5.909658503219377, 27.444305651133043, 69.16167513284749, 10.768957827616443, 11.0677477855583, 5.9384781691500645, 5.983929799821886, 27.005215335826602, 155.74271414999023, 41.0393431940962, 21.385090776083366, 19.63638661747703, 18.655027528324176, 57.20966725108016, 21.680665010583333, 15.743295640743366, 38.48465056527119, 61.19023963199279, 9.332849547037595, 48.86887403005492, 34.50888258546873, 43.33328534714123, 5.941926555183077, 5.091363680037824, 4.240821109577454, 3.3902200991081806, 3.3902008559204835, 3.39098741489253, 3.390354071289535, 2.539657401939019, 2.539652943311594, 2.5397073941094295, 2.5396340683720657, 2.5396356316727124, 2.539613918516245, 2.5396307595674026, 2.539649452637278, 2.5396314810416403, 2.5396335504336176, 2.5396303273253413, 2.53962762188561, 2.5396258830032434, 2.5396260250417533, 2.53946462047061, 2.5396301345285712, 2.5396306369606774, 2.5396342347994825, 2.539621579360862, 2.539704717537334, 2.5393459547928727, 2.538981592897855, 2.53999067943479, 5.074360733741822, 8.377000624584921, 5.987529420453132, 6.014196586193534, 4.245598021112103, 4.245602556556663, 17.68103686316808, 4.276439018138084, 8.473579316470767, 4.260988683159747, 6.692560244021903, 6.82828535059964, 14.478924745254796, 155.74271414999023, 5.054352807333128, 61.19023963199279, 12.745897515694953, 12.567986337311433, 4.288040241958258, 11.084676350228163, 69.16167513284749, 43.33328534714123, 5.912929678106024, 17.06457034205218, 62.361480587475, 12.802002981880191, 31.610201378787696, 57.20966725108016, 12.522533027024158, 17.645624131619286, 22.959117377888248, 10.196085558562913, 41.0393431940962, 72.56210704073125, 5.858533407623678, 8.374077617305801, 4.181664611001914, 4.181769926090808, 4.1823084441903395, 8.378350327665155, 5.0245927800718, 3.3459343259252985, 5.870371570272944, 2.5100961700468507, 2.5099710321651885, 2.5101068071051427, 2.510104100800321, 2.5101111187457246, 2.5101170036632876, 2.5101281448023274, 2.509968187892972, 8.32551373836725, 5.067896185998854, 6.718564918321356, 4.997036071661594, 4.232190330052724, 5.048880426582893, 8.3693018255688, 4.20520862952801, 4.239878031426867, 10.163450156444716, 3.3019835686727674, 3.3189620952081476, 3.32482900280012, 6.696969259853084, 5.036197446054589, 4.170870123347545, 21.799136557581736, 13.473478699702952, 57.20966725108016, 34.50888258546873, 11.053674965764822, 19.56475663283428, 11.91980790905173, 7.59728024943395, 10.935536075814175, 12.712544152746375, 14.766393009980158, 21.665174203705085, 43.33328534714123, 19.467583206847625, 15.342373975170823, 38.48465056527119, 72.56210704073125, 28.58739909455591, 61.19023963199279, 155.74271414999023, 40.827193348149144, 62.361480587475, 4.925731036476763, 4.1069873690284044, 7.43272630723598, 3.291303137658086, 2.473347453971452, 2.47337806688641, 2.4733865233292196, 2.4733801591376907, 2.4733242768513053, 2.473399147382009, 2.4734085729134114, 2.4733375578503027, 2.4739158558689907, 4.959431572158689, 7.491577874938965, 4.126323205524317, 2.4655739367401934, 4.101949881879576, 3.265125122144363, 3.2881050181087943, 3.282152492335032, 3.3090292335295386, 3.324573801284577, 3.3464007470120642, 3.359463214156071, 3.3105756224288623, 5.000430393375276, 8.266408292196157, 7.5027351890524585, 5.889512731892789, 28.58739909455591, 10.768957827616443, 155.74271414999023, 21.680665010583333, 8.479466118522293, 30.968377706329107, 48.86887403005492, 6.7655395268472205, 72.56210704073125, 21.665174203705085, 56.53298611144271, 62.361480587475, 69.16167513284749, 12.83837261967923, 27.444305651133043, 6.778026029135884, 31.895707304919522, 7.557218042640491, 11.797521638708975, 38.48465056527119, 41.0393431940962, 34.50888258546873, 24.64832900352988, 19.628792444168276, 17.711131151824752, 61.19023963199279, 2.4224432610677544, 2.4225211096338075, 2.4224148003343875, 2.4225606168442164, 4.84854617756128, 4.050351452039203, 4.064949339585188, 8.957075416140315, 3.239834878969607, 3.2581397148661217, 3.2582261320121892, 3.2582264198650384, 3.2735007183618183, 3.231877898269655, 5.768890902665065, 6.6388202172844935, 3.2675481175576, 7.355381825770974, 5.787475055816766, 5.864061073602508, 4.057143949219559, 4.090226334837839, 4.114226732778584, 4.164094792628, 4.19515793386187, 6.629460447433877, 6.68850372425095, 2.4393038452805267, 2.4393075634159307, 2.439308723697455, 4.907735751483559, 4.916976994054364, 4.926443208630086, 14.160156008460838, 8.34628226683074, 8.337836619813952, 13.25419678628557, 72.56210704073125, 38.48465056527119, 14.766393009980158, 21.799136557581736, 9.077100910886637, 13.543350744341861, 62.361480587475, 34.50888258546873, 16.029768296518245, 21.665174203705085, 10.943813427713478, 155.74271414999023, 12.522533027024158, 17.711131151824752, 30.968377706329107, 43.33328534714123, 27.444305651133043, 57.20966725108016, 22.935652755316205, 6.578378167403377, 5.77035684896649, 2.4563746985408055, 2.456373631209353, 2.456369828340197, 2.456367512807624, 2.4563888074403915, 2.4564300383164195, 2.45642935733559, 2.4564429560989507, 2.4567130846427165, 2.463069809008786, 4.0575964713207275, 2.47088598244993, 3.248233342665316, 3.2484200174883653, 3.3067994564320977, 3.306850019549992, 4.966365370206914, 6.630790567859338, 4.925611799595448, 10.83016458411841, 10.838926543382172, 4.099252006970382, 4.122099159497102, 8.364335372155654, 15.743295640743366, 2.4393077286070413, 2.4393044322170128, 2.439308723697455, 9.142033164186905, 20.303150414598587, 4.926443208630086, 18.604171052168176, 27.444305651133043, 48.86887403005492, 69.16167513284749, 19.295797065351987, 155.74271414999023, 17.68103686316808, 61.19023963199279, 17.06457034205218, 18.655027528324176, 62.361480587475, 13.444177039721344, 14.160156008460838, 15.125895902351617, 13.613010135141593, 22.959117377888248, 27.005215335826602, 31.580629766468817, 41.0393431940962, 3.282881282782119, 3.2828813400364067, 3.2828815948888397, 2.4681324960803925, 2.4681383974723037, 2.468137909644348, 2.468139923958242, 2.4681530275432273, 2.468153369792001, 2.4681940754953615, 2.468170366259169, 2.468252318969165, 4.133388604801081, 4.169233343620396, 4.169175086720306, 4.169249685223932, 2.482775709229741, 2.4827788827642463, 5.7350575341416405, 3.2600106859674103, 3.2854923612511118, 3.303808601668107, 3.303801888909646, 3.3235514416982483, 3.3235527040677577, 4.9283562718359, 3.3539405779725993, 5.029261573220362, 3.320701765134326, 4.115467280802805, 15.01449119245671, 15.060050490470758, 14.766393009980158, 8.400564212140706, 10.843801612142137, 11.001599565107359, 17.756701534936596, 14.193792983258685, 13.361509709020396, 40.827193348149144, 15.27352389387573, 69.16167513284749, 62.361480587475, 23.843322050340092, 9.1723446493337, 61.19023963199279, 10.282097085154664, 31.610201378787696, 11.020580166050134, 56.53298611144271, 30.968377706329107, 43.33328534714123, 48.86887403005492, 24.64832900352988, 17.816509230626664, 27.005215335826602, 155.74271414999023, 12.745897515694953], \"Category\": [\"Default\", \"Default\", \"Default\", \"Default\", \"Default\", \"Default\", \"Default\", \"Default\", \"Default\", \"Default\", \"Default\", \"Default\", \"Default\", \"Default\", \"Default\", \"Default\", \"Default\", \"Default\", \"Default\", \"Default\", \"Default\", \"Default\", \"Default\", \"Default\", \"Default\", \"Default\", \"Default\", \"Default\", \"Default\", \"Default\", \"Topic1\", \"Topic1\", \"Topic1\", \"Topic1\", \"Topic1\", \"Topic1\", \"Topic1\", \"Topic1\", \"Topic1\", \"Topic1\", \"Topic1\", \"Topic1\", \"Topic1\", \"Topic1\", \"Topic1\", \"Topic1\", \"Topic1\", \"Topic1\", \"Topic1\", \"Topic1\", \"Topic1\", \"Topic1\", \"Topic1\", \"Topic1\", \"Topic1\", \"Topic1\", \"Topic1\", \"Topic1\", \"Topic1\", \"Topic1\", \"Topic1\", \"Topic1\", \"Topic1\", \"Topic1\", \"Topic1\", \"Topic1\", \"Topic1\", \"Topic1\", \"Topic1\", \"Topic1\", \"Topic1\", \"Topic1\", \"Topic1\", \"Topic1\", \"Topic1\", \"Topic1\", \"Topic1\", \"Topic1\", \"Topic1\", \"Topic1\", \"Topic1\", \"Topic1\", \"Topic1\", \"Topic1\", \"Topic1\", \"Topic1\", \"Topic1\", \"Topic1\", \"Topic1\", \"Topic1\", \"Topic1\", \"Topic1\", \"Topic1\", \"Topic1\", \"Topic1\", \"Topic1\", \"Topic1\", \"Topic1\", \"Topic1\", \"Topic1\", \"Topic1\", \"Topic2\", \"Topic2\", \"Topic2\", \"Topic2\", \"Topic2\", \"Topic2\", \"Topic2\", \"Topic2\", \"Topic2\", \"Topic2\", \"Topic2\", \"Topic2\", \"Topic2\", \"Topic2\", \"Topic2\", \"Topic2\", \"Topic2\", \"Topic2\", \"Topic2\", \"Topic2\", \"Topic2\", \"Topic2\", \"Topic2\", \"Topic2\", \"Topic2\", \"Topic2\", \"Topic2\", \"Topic2\", \"Topic2\", \"Topic2\", \"Topic2\", \"Topic2\", \"Topic2\", \"Topic2\", \"Topic2\", \"Topic2\", \"Topic2\", \"Topic2\", \"Topic2\", \"Topic2\", \"Topic2\", \"Topic2\", \"Topic2\", \"Topic2\", \"Topic2\", \"Topic2\", \"Topic2\", \"Topic2\", \"Topic2\", \"Topic2\", \"Topic2\", \"Topic2\", \"Topic2\", \"Topic2\", \"Topic2\", \"Topic2\", \"Topic2\", \"Topic2\", \"Topic2\", \"Topic2\", \"Topic2\", \"Topic2\", \"Topic2\", \"Topic2\", \"Topic2\", \"Topic2\", \"Topic2\", \"Topic2\", \"Topic3\", \"Topic3\", \"Topic3\", \"Topic3\", \"Topic3\", \"Topic3\", \"Topic3\", \"Topic3\", \"Topic3\", \"Topic3\", \"Topic3\", \"Topic3\", \"Topic3\", \"Topic3\", \"Topic3\", \"Topic3\", \"Topic3\", \"Topic3\", \"Topic3\", \"Topic3\", \"Topic3\", \"Topic3\", \"Topic3\", \"Topic3\", \"Topic3\", \"Topic3\", \"Topic3\", \"Topic3\", \"Topic3\", \"Topic3\", \"Topic3\", \"Topic3\", \"Topic3\", \"Topic3\", \"Topic3\", \"Topic3\", \"Topic3\", \"Topic3\", \"Topic3\", \"Topic3\", \"Topic3\", \"Topic3\", \"Topic3\", \"Topic3\", \"Topic3\", \"Topic3\", \"Topic3\", \"Topic3\", \"Topic3\", \"Topic3\", \"Topic3\", \"Topic3\", \"Topic3\", \"Topic3\", \"Topic3\", \"Topic3\", \"Topic3\", \"Topic3\", \"Topic3\", \"Topic3\", \"Topic3\", \"Topic4\", \"Topic4\", \"Topic4\", \"Topic4\", \"Topic4\", \"Topic4\", \"Topic4\", \"Topic4\", \"Topic4\", \"Topic4\", \"Topic4\", \"Topic4\", \"Topic4\", \"Topic4\", \"Topic4\", \"Topic4\", \"Topic4\", \"Topic4\", \"Topic4\", \"Topic4\", \"Topic4\", \"Topic4\", \"Topic4\", \"Topic4\", \"Topic4\", \"Topic4\", \"Topic4\", \"Topic4\", \"Topic4\", \"Topic4\", \"Topic4\", \"Topic4\", \"Topic4\", \"Topic4\", \"Topic4\", \"Topic4\", \"Topic4\", \"Topic4\", \"Topic4\", \"Topic4\", \"Topic4\", \"Topic4\", \"Topic4\", \"Topic4\", \"Topic4\", \"Topic4\", \"Topic4\", \"Topic4\", \"Topic4\", \"Topic4\", \"Topic4\", \"Topic4\", \"Topic4\", \"Topic4\", \"Topic4\", \"Topic4\", \"Topic4\", \"Topic4\", \"Topic4\", \"Topic4\", \"Topic4\", \"Topic4\", \"Topic4\", \"Topic4\", \"Topic4\", \"Topic4\", \"Topic4\", \"Topic5\", \"Topic5\", \"Topic5\", \"Topic5\", \"Topic5\", \"Topic5\", \"Topic5\", \"Topic5\", \"Topic5\", \"Topic5\", \"Topic5\", \"Topic5\", \"Topic5\", \"Topic5\", \"Topic5\", \"Topic5\", \"Topic5\", \"Topic5\", \"Topic5\", \"Topic5\", \"Topic5\", \"Topic5\", \"Topic5\", \"Topic5\", \"Topic5\", \"Topic5\", \"Topic5\", \"Topic5\", \"Topic5\", \"Topic5\", \"Topic5\", \"Topic5\", \"Topic5\", \"Topic5\", \"Topic5\", \"Topic5\", \"Topic5\", \"Topic5\", \"Topic5\", \"Topic5\", \"Topic5\", \"Topic5\", \"Topic5\", \"Topic5\", \"Topic5\", \"Topic5\", \"Topic5\", \"Topic5\", \"Topic5\", \"Topic5\", \"Topic5\", \"Topic5\", \"Topic5\", \"Topic5\", \"Topic5\", \"Topic5\", \"Topic5\", \"Topic5\", \"Topic5\", \"Topic5\", \"Topic5\", \"Topic5\", \"Topic5\", \"Topic5\", \"Topic6\", \"Topic6\", \"Topic6\", \"Topic6\", \"Topic6\", \"Topic6\", \"Topic6\", \"Topic6\", \"Topic6\", \"Topic6\", \"Topic6\", \"Topic6\", \"Topic6\", \"Topic6\", \"Topic6\", \"Topic6\", \"Topic6\", \"Topic6\", \"Topic6\", \"Topic6\", \"Topic6\", \"Topic6\", \"Topic6\", \"Topic6\", \"Topic6\", \"Topic6\", \"Topic6\", \"Topic6\", \"Topic6\", \"Topic6\", \"Topic6\", \"Topic6\", \"Topic6\", \"Topic6\", \"Topic6\", \"Topic6\", \"Topic6\", \"Topic6\", \"Topic6\", \"Topic6\", \"Topic6\", \"Topic6\", \"Topic6\", \"Topic6\", \"Topic6\", \"Topic6\", \"Topic6\", \"Topic6\", \"Topic6\", \"Topic6\", \"Topic6\", \"Topic6\", \"Topic6\", \"Topic6\", \"Topic6\", \"Topic7\", \"Topic7\", \"Topic7\", \"Topic7\", \"Topic7\", \"Topic7\", \"Topic7\", \"Topic7\", \"Topic7\", \"Topic7\", \"Topic7\", \"Topic7\", \"Topic7\", \"Topic7\", \"Topic7\", \"Topic7\", \"Topic7\", \"Topic7\", \"Topic7\", \"Topic7\", \"Topic7\", \"Topic7\", \"Topic7\", \"Topic7\", \"Topic7\", \"Topic7\", \"Topic7\", \"Topic7\", \"Topic7\", \"Topic7\", \"Topic7\", \"Topic7\", \"Topic7\", \"Topic7\", \"Topic7\", \"Topic7\", \"Topic7\", \"Topic7\", \"Topic7\", \"Topic7\", \"Topic7\", \"Topic7\", \"Topic7\", \"Topic7\", \"Topic7\", \"Topic7\", \"Topic7\", \"Topic7\", \"Topic7\", \"Topic7\", \"Topic7\", \"Topic7\", \"Topic7\", \"Topic7\", \"Topic7\", \"Topic7\", \"Topic8\", \"Topic8\", \"Topic8\", \"Topic8\", \"Topic8\", \"Topic8\", \"Topic8\", \"Topic8\", \"Topic8\", \"Topic8\", \"Topic8\", \"Topic8\", \"Topic8\", \"Topic8\", \"Topic8\", \"Topic8\", \"Topic8\", \"Topic8\", \"Topic8\", \"Topic8\", \"Topic8\", \"Topic8\", \"Topic8\", \"Topic8\", \"Topic8\", \"Topic8\", \"Topic8\", \"Topic8\", \"Topic8\", \"Topic8\", \"Topic8\", \"Topic8\", \"Topic8\", \"Topic8\", \"Topic8\", \"Topic8\", \"Topic8\", \"Topic8\", \"Topic8\", \"Topic8\", \"Topic8\", \"Topic8\", \"Topic8\", \"Topic8\", \"Topic8\", \"Topic8\", \"Topic8\", \"Topic8\", \"Topic8\", \"Topic8\", \"Topic8\", \"Topic8\", \"Topic8\", \"Topic8\", \"Topic8\", \"Topic8\", \"Topic9\", \"Topic9\", \"Topic9\", \"Topic9\", \"Topic9\", \"Topic9\", \"Topic9\", \"Topic9\", \"Topic9\", \"Topic9\", \"Topic9\", \"Topic9\", \"Topic9\", \"Topic9\", \"Topic9\", \"Topic9\", \"Topic9\", \"Topic9\", \"Topic9\", \"Topic9\", \"Topic9\", \"Topic9\", \"Topic9\", \"Topic9\", \"Topic9\", \"Topic9\", \"Topic9\", \"Topic9\", \"Topic9\", \"Topic9\", \"Topic9\", \"Topic9\", \"Topic9\", \"Topic9\", \"Topic9\", \"Topic9\", \"Topic9\", \"Topic9\", \"Topic9\", \"Topic9\", \"Topic9\", \"Topic9\", \"Topic9\", \"Topic9\", \"Topic9\", \"Topic9\", \"Topic9\", \"Topic9\", \"Topic9\", \"Topic9\", \"Topic9\", \"Topic9\", \"Topic10\", \"Topic10\", \"Topic10\", \"Topic10\", \"Topic10\", \"Topic10\", \"Topic10\", \"Topic10\", \"Topic10\", \"Topic10\", \"Topic10\", \"Topic10\", \"Topic10\", \"Topic10\", \"Topic10\", \"Topic10\", \"Topic10\", \"Topic10\", \"Topic10\", \"Topic10\", \"Topic10\", \"Topic10\", \"Topic10\", \"Topic10\", \"Topic10\", \"Topic10\", \"Topic10\", \"Topic10\", \"Topic10\", \"Topic10\", \"Topic10\", \"Topic10\", \"Topic10\", \"Topic10\", \"Topic10\", \"Topic10\", \"Topic10\", \"Topic10\", \"Topic10\", \"Topic10\", \"Topic10\", \"Topic10\", \"Topic10\", \"Topic10\", \"Topic10\", \"Topic10\", \"Topic10\", \"Topic10\", \"Topic10\", \"Topic10\", \"Topic10\", \"Topic10\", \"Topic10\", \"Topic10\", \"Topic10\", \"Topic10\", \"Topic10\", \"Topic10\"], \"logprob\": [30.0, 29.0, 28.0, 27.0, 26.0, 25.0, 24.0, 23.0, 22.0, 21.0, 20.0, 19.0, 18.0, 17.0, 16.0, 15.0, 14.0, 13.0, 12.0, 11.0, 10.0, 9.0, 8.0, 7.0, 6.0, 5.0, 4.0, 3.0, 2.0, 1.0, -5.6603, -5.9323, -5.934, -5.9353, -5.9429, -6.3217, -6.3217, -6.3217, -6.3217, -6.3217, -6.3217, -6.3217, -6.3217, -6.3218, -6.3218, -6.3218, -6.3219, -6.3219, -6.322, -6.3221, -6.3223, -6.3223, -6.3223, -6.3224, -6.3226, -6.3229, -6.3231, -6.3231, -6.3237, -6.3236, -4.8871, -5.506, -5.9368, -5.6795, -5.9379, -4.8045, -5.4345, -5.4477, -4.4965, -4.3522, -5.0384, -3.4637, -4.2117, -4.4704, -5.2553, -5.7732, -5.7762, -5.4342, -4.349, -5.4347, -4.306, -4.2913, -5.1648, -5.4745, -5.027, -5.1974, -4.489, -5.1826, -4.7902, -5.256, -4.815, -5.129, -5.4672, -4.8492, -5.2134, -5.213, -5.2968, -5.3017, -5.3184, -5.4258, -5.4314, -5.2989, -5.512, -5.5124, -5.5229, -5.7901, -5.7908, -5.8075, -5.8128, -6.1793, -6.1793, -6.1793, -6.1794, -6.1799, -6.1803, -6.1807, -6.1807, -6.1807, -6.1808, -6.1808, -6.1808, -6.1809, -6.181, -6.181, -6.181, -6.181, -6.1811, -6.1812, -6.1812, -6.1812, -6.1812, -5.5138, -5.5225, -4.9705, -4.3724, -5.0013, -5.1136, -4.7185, -5.2736, -5.7907, -5.7898, -5.8067, -5.3071, -3.2539, -4.4909, -4.4606, -4.7335, -5.8354, -5.3233, -4.9928, -4.3775, -4.9569, -5.2944, -4.3787, -5.0353, -5.1172, -4.8316, -4.7124, -5.0198, -4.889, -4.8105, -5.0487, -5.3183, -4.9683, -5.0818, -5.1141, -5.2925, -5.2586, -5.295, -3.6007, -4.6919, -4.9798, -5.1561, -5.3726, -5.3727, -4.6944, -5.6526, -5.6542, -4.9781, -6.0409, -6.041, -6.0411, -6.0412, -6.0414, -6.0414, -6.0417, -6.0419, -6.0419, -6.0419, -6.0419, -6.0419, -6.0422, -6.0442, -6.0476, -6.0476, -5.3724, -6.0843, -6.0889, -6.1134, -4.8235, -5.6514, -4.5207, -4.5385, -4.9755, -5.653, -4.5879, -5.1541, -3.8401, -5.1881, -4.8268, -5.3725, -5.3733, -5.1684, -5.3887, -3.8745, -5.3727, -4.7967, -5.1805, -4.3523, -4.7487, -5.1782, -4.8702, -5.1913, -4.4377, -4.8988, -4.8723, -5.1536, -5.0296, -5.3222, -5.3191, -5.6343, -5.6351, -5.6373, -5.6397, -6.0238, -6.0238, -6.0239, -6.0238, -6.0238, -6.0242, -6.0243, -6.0243, -6.0247, -6.0247, -6.0248, -6.0252, -6.0267, -6.0275, -6.0276, -6.0278, -6.0281, -6.0286, -6.0302, -6.048, -5.3554, -5.6344, -5.4597, -6.0242, -6.0247, -5.1006, -5.1399, -5.3547, -3.5819, -4.4523, -4.0318, -4.4553, -5.6348, -4.7547, -5.6355, -5.636, -5.3145, -5.1365, -5.6775, -5.4112, -5.2811, -5.6175, -4.9163, -4.4994, -5.3562, -5.3546, -5.6354, -5.6345, -4.9608, -4.1917, -4.7851, -5.0927, -5.1365, -5.1565, -4.7987, -5.1364, -5.2565, -5.0688, -4.9708, -5.4598, -5.2564, -5.3418, -5.3851, -4.8882, -5.0672, -5.2849, -5.5651, -5.5653, -5.571, -5.5789, -5.9537, -5.9537, -5.9544, -5.9545, -5.9546, -5.9546, -5.9546, -5.9546, -5.9546, -5.9546, -5.9546, -5.9546, -5.9546, -5.9547, -5.9547, -5.9547, -5.9547, -5.9547, -5.9549, -5.9551, -5.9566, -5.9574, -5.9585, -5.3213, -4.9611, -5.2853, -5.2932, -5.565, -5.5651, -4.5142, -5.5651, -5.0955, -5.5885, -5.2849, -5.2921, -4.8332, -3.6069, -5.5653, -4.2054, -5.0687, -5.1034, -5.6753, -5.1728, -4.3183, -4.6149, -5.5654, -5.1163, -4.6725, -5.2853, -5.0815, -4.9728, -5.3333, -5.2846, -5.2844, -5.4302, -5.3175, -5.3695, -4.9175, -4.5667, -5.269, -5.2722, -5.2789, -4.6083, -5.1246, -5.5481, -5.0763, -5.9371, -5.9372, -5.9372, -5.9374, -5.9376, -5.9377, -5.9377, -5.9384, -4.7533, -5.2711, -5.0508, -5.3542, -5.5483, -5.425, -4.9219, -5.6129, -5.6259, -4.7894, -5.9374, -5.9378, -5.9375, -5.2693, -5.5487, -5.7452, -4.4101, -4.8725, -4.0089, -4.369, -5.0504, -4.7195, -5.0215, -5.2848, -5.0843, -5.0039, -4.9291, -4.7246, -4.4384, -4.8716, -5.0258, -4.7209, -4.5942, -4.871, -4.7283, -4.6294, -4.8879, -4.9532, -4.8923, -5.1292, -4.5667, -5.3925, -5.7783, -5.7785, -5.7785, -5.7788, -5.7789, -5.7789, -5.7791, -5.7793, -5.7825, -5.1153, -4.7305, -5.3888, -5.9336, -5.4691, -5.7791, -5.7758, -5.7787, -5.7792, -5.7806, -5.7805, -5.7784, -5.7983, -5.394, -4.954, -5.1386, -5.3891, -3.9204, -4.8922, -2.9977, -4.4663, -5.1347, -4.3362, -4.2498, -5.3956, -4.1837, -4.8911, -4.4909, -4.4902, -4.4513, -5.136, -4.8861, -5.4179, -4.8911, -5.3904, -5.2727, -5.0221, -5.0709, -5.2062, -5.2937, -5.317, -5.3367, -5.335, -5.6301, -5.6304, -5.631, -5.6311, -4.996, -5.2427, -5.2415, -4.494, -5.6304, -5.6302, -5.631, -5.631, -5.6305, -5.6453, -5.078, -4.9614, -5.7386, -4.9951, -5.2412, -5.259, -5.6311, -5.6301, -5.6338, -5.6301, -5.6302, -5.2409, -5.2406, -6.2768, -6.2768, -6.2768, -5.6305, -5.6301, -5.6301, -4.743, -5.2415, -5.2601, -4.9704, -3.9516, -4.4359, -4.9724, -4.7802, -5.2412, -5.0628, -4.4117, -4.6744, -4.9904, -4.961, -5.2406, -4.484, -5.2406, -5.2065, -5.0899, -5.1313, -5.2154, -5.2408, -5.2409, -4.5319, -4.715, -5.5979, -5.5979, -5.5979, -5.5979, -5.5981, -5.5985, -5.5985, -5.5986, -5.6004, -5.6786, -5.2116, -5.7784, -5.5979, -5.5983, -5.5979, -5.5979, -5.2084, -4.945, -5.2723, -4.5315, -4.609, -5.5979, -5.5979, -4.9321, -4.3097, -6.2446, -6.2446, -6.2446, -4.9288, -4.1984, -5.5979, -4.5243, -4.2448, -3.8787, -3.991, -4.746, -3.9957, -4.9403, -4.4846, -5.1327, -5.1176, -4.8571, -5.2087, -5.2086, -5.2084, -5.2314, -5.1296, -5.0976, -5.1972, -5.2486, -5.1923, -5.1923, -5.1923, -5.5812, -5.5812, -5.5813, -5.5813, -5.5815, -5.5815, -5.5816, -5.5817, -5.5821, -5.1916, -5.1923, -5.1923, -5.1924, -5.7971, -5.7975, -4.9674, -5.5812, -5.5815, -5.5812, -5.5813, -5.5812, -5.5823, -5.1968, -5.5944, -5.1923, -5.6263, -5.5815, -4.3634, -4.3829, -4.4926, -4.9125, -4.9117, -4.9124, -4.7023, -4.8354, -4.9144, -4.4128, -4.9124, -4.5134, -4.6187, -4.9115, -5.1917, -4.7093, -5.1911, -4.9121, -5.1918, -4.7697, -4.9338, -4.9115, -4.9119, -5.0478, -5.1279, -5.158, -5.1912, -5.1916], \"loglift\": [30.0, 29.0, 28.0, 27.0, 26.0, 25.0, 24.0, 23.0, 22.0, 21.0, 20.0, 19.0, 18.0, 17.0, 16.0, 15.0, 14.0, 13.0, 12.0, 11.0, 10.0, 9.0, 8.0, 7.0, 6.0, 5.0, 4.0, 3.0, 2.0, 1.0, 1.6714, 1.6251, 1.6235, 1.6223, 1.6147, 1.528, 1.528, 1.528, 1.528, 1.528, 1.528, 1.528, 1.528, 1.528, 1.528, 1.5279, 1.5279, 1.5278, 1.5277, 1.5277, 1.5275, 1.5274, 1.5274, 1.5274, 1.5272, 1.5269, 1.5267, 1.5267, 1.5262, 1.5262, 1.4262, 1.3602, 1.4114, 1.334, 1.4103, 1.028, 1.2213, 1.2244, 0.8506, 0.7481, 0.9793, 0.2976, 0.5512, 0.6246, 1.0018, 1.236, 1.2362, 1.0453, 0.4258, 1.0301, 0.3896, 0.2338, 0.7214, 0.9371, 0.6111, 0.732, 0.1876, 0.6583, 0.2504, 0.7165, 0.1054, 0.3846, 0.8659, -0.2761, 0.3915, 0.1431, 0.379, 0.0553, 0.0582, 0.5284, 0.3024, 1.8611, 1.8317, 1.8313, 1.8207, 1.7788, 1.778, 1.7611, 1.7571, 1.6806, 1.6806, 1.6806, 1.6805, 1.68, 1.6797, 1.6792, 1.6792, 1.6792, 1.6791, 1.6791, 1.6791, 1.679, 1.6789, 1.6789, 1.6789, 1.6789, 1.6788, 1.6788, 1.6787, 1.6787, 1.6787, 1.6619, 1.6418, 1.5086, 1.3676, 1.3924, 1.369, 1.2357, 1.3983, 1.5582, 1.5509, 1.542, 1.3494, 0.5075, 0.9657, 0.8078, 0.9434, 1.5049, 1.1568, 0.9426, 0.543, 0.8928, 1.1111, 0.396, 0.8975, 0.9556, 0.5254, 0.3827, 0.7271, 0.4671, 0.2301, 0.5562, 1.0096, -0.2727, 0.0185, 0.0452, 0.7426, 0.0885, 0.5408, 2.1468, 2.0786, 2.0426, 2.0211, 1.9875, 1.9874, 1.9711, 1.9317, 1.9301, 1.908, 1.8327, 1.8327, 1.8325, 1.8324, 1.8323, 1.8322, 1.8319, 1.8318, 1.8318, 1.8318, 1.8317, 1.8317, 1.8314, 1.8294, 1.8259, 1.8259, 1.8087, 1.7883, 1.7836, 1.7606, 1.6703, 1.7097, 1.5028, 1.4363, 1.5199, 1.7082, 1.3389, 1.5197, 0.9346, 1.4834, 1.3129, 1.5297, 1.5222, 1.4207, 1.4993, 0.6986, 1.4144, 1.0355, 1.2286, 0.4106, 0.5984, 1.0803, 0.4859, 1.0636, -0.6764, 0.2605, -0.1767, 0.7835, -0.3529, 0.5104, 0.2858, 1.9539, 1.9531, 1.951, 1.9485, 1.8533, 1.8533, 1.8533, 1.8533, 1.8533, 1.8529, 1.8528, 1.8528, 1.8524, 1.8524, 1.8523, 1.852, 1.8504, 1.8497, 1.8496, 1.8493, 1.849, 1.8486, 1.8469, 1.8285, 1.8192, 1.7336, 1.5853, 1.5817, 1.5811, 1.5788, 1.5312, 1.5421, 0.9432, 0.9243, 0.6448, 0.9017, 1.554, 0.8561, 1.5482, 1.5469, 1.2639, 1.0745, 1.525, 1.26, 1.1229, 1.4154, 0.5811, 0.0737, 1.0766, 1.0509, 1.3927, 1.386, 0.5527, -0.4304, 0.3099, 0.6542, 0.6957, 0.7269, -0.0359, 0.5967, 0.7967, 0.0905, -0.2753, 1.1162, -0.336, -0.0735, -0.3444, 2.1393, 2.1148, 2.0799, 2.0236, 2.0233, 2.0174, 2.0097, 1.9238, 1.9238, 1.9231, 1.923, 1.923, 1.923, 1.923, 1.923, 1.923, 1.9229, 1.9229, 1.9229, 1.9229, 1.9229, 1.9229, 1.9229, 1.9228, 1.9228, 1.9227, 1.9225, 1.9211, 1.9204, 1.9189, 1.8641, 1.723, 1.7346, 1.7223, 1.7987, 1.7986, 1.4228, 1.7913, 1.5771, 1.7716, 1.6237, 1.5964, 1.3036, 0.1544, 1.624, 0.4902, 1.1957, 1.175, 1.6785, 1.2312, 0.2549, 0.4258, 1.467, 0.8563, 0.0041, 0.9747, 0.2746, -0.21, 0.9488, 0.6545, 0.3914, 1.0574, -0.2225, -0.8444, 2.1241, 2.1177, 2.1099, 2.1066, 2.0998, 2.0756, 2.0706, 2.0537, 1.9633, 1.9521, 1.9521, 1.952, 1.9518, 1.9517, 1.9516, 1.9515, 1.9509, 1.9369, 1.9155, 1.8539, 1.8465, 1.8185, 1.7654, 1.7631, 1.7604, 1.7392, 1.7013, 1.6776, 1.6722, 1.6707, 1.6386, 1.6442, 1.6363, 1.3176, 1.3363, 0.754, 0.8994, 1.3564, 1.1163, 1.3099, 1.497, 1.3333, 1.2631, 1.1881, 1.0093, 0.6022, 0.9692, 1.0532, 0.4384, -0.069, 0.5856, -0.0327, -0.8681, 0.2123, -0.2765, 2.3228, 2.2677, 2.2369, 2.2258, 2.1257, 2.1255, 2.1254, 2.1251, 2.1251, 2.125, 2.1249, 2.1247, 2.1212, 2.0929, 2.0653, 2.0034, 1.9736, 1.929, 1.8472, 1.8435, 1.8423, 1.8337, 1.8277, 1.8212, 1.8194, 1.8141, 1.806, 1.7433, 1.6557, 1.6473, 1.5362, 1.5407, 0.7636, 1.2668, 1.5372, 1.0404, 0.6706, 1.5021, 0.3415, 0.8427, 0.2839, 0.1864, 0.1218, 1.1212, 0.6113, 1.478, 0.456, 1.3966, 1.069, 0.1372, 0.0242, 0.0621, 0.3111, 0.5156, 0.5987, -0.6394, 2.2947, 2.2943, 2.2938, 2.2936, 2.2349, 2.1681, 2.1656, 2.1231, 2.0037, 1.9982, 1.9974, 1.9974, 1.9932, 1.9912, 1.9791, 1.9553, 1.8869, 1.819, 1.8127, 1.7817, 1.778, 1.7709, 1.7613, 1.753, 1.7455, 1.6771, 1.6686, 1.6411, 1.6411, 1.6411, 1.5883, 1.5868, 1.5849, 1.4161, 1.4463, 1.4287, 1.2548, 0.5736, 0.7234, 1.1448, 0.9474, 1.3626, 1.1409, 0.2649, 0.594, 1.0447, 0.7728, 1.1762, -0.7227, 1.0415, 0.7289, 0.2867, -0.0907, 0.282, -0.4779, 0.436, 2.3939, 2.3419, 2.313, 2.313, 2.313, 2.313, 2.3128, 2.3124, 2.3123, 2.3123, 2.3103, 2.2295, 2.1974, 2.1265, 2.0335, 2.0331, 2.0157, 2.0156, 1.9985, 1.9728, 1.9428, 1.8957, 1.8174, 1.8008, 1.7953, 1.7535, 1.7434, 1.6732, 1.6732, 1.6732, 1.6678, 1.6004, 1.617, 1.3619, 1.2526, 1.0417, 0.5821, 1.1037, -0.2343, 0.9968, 0.2109, 0.8398, 0.7659, -0.1805, 1.0023, 0.9506, 0.8847, 0.9671, 0.5463, 0.416, 0.1599, -0.1536, 2.4285, 2.4285, 2.4285, 2.3249, 2.3249, 2.3248, 2.3248, 2.3246, 2.3246, 2.3244, 2.3244, 2.3239, 2.1988, 2.1895, 2.1895, 2.1895, 2.1031, 2.1027, 2.0956, 2.0466, 2.0385, 2.0333, 2.0332, 2.0273, 2.0262, 2.0178, 2.005, 2.002, 1.983, 1.8133, 1.7371, 1.7146, 1.6247, 1.7688, 1.5143, 1.4992, 1.2305, 1.3213, 1.3027, 0.6874, 1.1711, 0.0597, 0.0579, 0.7265, 1.4017, -0.0137, 1.2881, 0.444, 1.218, 0.0051, 0.4428, 0.1291, 0.0085, 0.557, 0.8015, 0.3556, -1.4299, 1.0727]}, \"token.table\": {\"Topic\": [5, 3, 4, 4, 6, 4, 7, 1, 2, 3, 4, 5, 6, 7, 8, 9, 1, 3, 4, 5, 1, 2, 4, 5, 6, 8, 10, 1, 3, 5, 7, 9, 5, 2, 7, 4, 2, 2, 5, 2, 7, 1, 2, 3, 4, 7, 8, 9, 10, 1, 6, 3, 8, 10, 5, 1, 2, 3, 5, 6, 7, 8, 9, 9, 4, 4, 9, 2, 10, 5, 3, 6, 8, 1, 3, 6, 4, 9, 10, 5, 2, 9, 9, 1, 2, 5, 8, 10, 9, 1, 4, 5, 9, 3, 5, 7, 9, 3, 4, 9, 1, 2, 3, 4, 5, 6, 7, 8, 9, 10, 4, 1, 2, 4, 7, 2, 3, 6, 7, 10, 10, 5, 1, 2, 3, 4, 6, 3, 2, 3, 1, 5, 6, 7, 8, 9, 1, 2, 4, 6, 7, 8, 9, 10, 2, 3, 4, 5, 6, 7, 8, 9, 10, 9, 10, 5, 8, 9, 2, 3, 1, 2, 9, 1, 4, 7, 3, 5, 1, 1, 5, 10, 1, 6, 8, 2, 5, 7, 8, 4, 6, 8, 10, 1, 4, 6, 9, 5, 1, 10, 5, 2, 3, 3, 3, 1, 2, 4, 8, 9, 3, 4, 1, 6, 10, 1, 2, 3, 4, 5, 6, 7, 9, 10, 5, 5, 9, 3, 2, 4, 6, 7, 9, 10, 2, 7, 10, 2, 3, 2, 3, 5, 10, 2, 8, 10, 1, 2, 3, 4, 5, 6, 7, 8, 9, 10, 1, 3, 4, 5, 6, 7, 8, 9, 10, 7, 8, 1, 3, 6, 7, 8, 9, 10, 1, 3, 8, 10, 1, 2, 3, 4, 5, 6, 7, 8, 9, 10, 1, 2, 3, 4, 5, 9, 6, 10, 1, 2, 3, 4, 5, 6, 8, 9, 10, 1, 4, 6, 7, 8, 10, 1, 5, 1, 4, 1, 3, 5, 6, 7, 7, 3, 5, 5, 1, 2, 3, 4, 5, 6, 7, 9, 10, 1, 2, 3, 4, 6, 9, 1, 4, 1, 4, 9, 8, 9, 5, 1, 2, 3, 5, 6, 7, 8, 10, 3, 5, 7, 8, 3, 5, 1, 4, 6, 8, 9, 10, 5, 3, 5, 6, 4, 7, 4, 3, 1, 2, 3, 4, 5, 6, 8, 10, 4, 8, 1, 6, 7, 9, 2, 4, 5, 6, 8, 9, 10, 3, 4, 6, 2, 4, 5, 9, 8, 9, 10, 3, 4, 9, 10, 2, 5, 7, 6, 8, 3, 4, 6, 1, 6, 1, 2, 4, 1, 2, 5, 6, 7, 9, 10, 9, 5, 3, 1, 2, 4, 9, 10, 2, 6, 7, 4, 1, 2, 4, 7, 2, 5, 1, 8, 1, 2, 4, 6, 10, 4, 6, 4, 5, 8, 9, 1, 2, 5, 6, 7, 8, 9, 10, 1, 2, 3, 4, 5, 7, 8, 9, 5, 9, 3, 1, 3, 4, 5, 6, 8, 1, 1, 3, 4, 6, 3, 4, 7, 2, 7, 1, 2, 7, 8, 9, 2, 5, 3, 6, 8, 1, 6, 1, 2, 3, 8, 10, 1, 5, 8, 1, 4, 1, 2, 3, 4, 5, 10, 5, 1, 2, 3, 4, 5, 6, 7, 8, 9, 10, 1, 10, 5, 6, 8, 10, 4, 6, 3, 5, 6, 9, 2, 3, 10, 1, 1, 1, 4, 8, 9, 10, 6, 9, 9, 6, 8, 8, 1, 2, 4, 5, 6, 7, 9, 10, 1, 2, 3, 4, 5, 6, 7, 8, 9, 10, 3, 7, 3, 4, 1, 6, 7, 1, 5, 8, 8, 9, 1, 2, 3, 6, 9, 6, 3, 2, 1, 2, 4, 6, 5, 7, 9, 1, 10, 6, 9, 1, 2, 3, 6, 8, 9, 10, 4, 4, 7, 8, 1, 2, 6, 7, 8, 9, 1, 2, 3, 4, 6, 8, 2, 3, 9, 6, 4, 4, 2, 5, 2, 10, 5, 1, 8, 9, 10, 3, 10, 4, 5, 6, 9, 1, 3, 5, 7, 8, 10, 1, 2, 3, 4, 5, 6, 7, 8, 9, 10, 1, 2, 5, 9, 10, 9, 2, 4, 1, 9, 1, 2, 3, 4, 5, 7, 8, 9, 10, 8, 9, 1, 2, 3, 5, 6, 8, 9, 10, 1, 2, 5, 6, 7, 1, 2, 5, 9, 1, 2, 4, 5, 10, 5, 4, 8, 9, 1, 3, 4, 5, 9, 10, 1, 2, 10, 1, 8, 9, 3, 1, 4, 7, 8, 1, 2, 5, 6, 8, 9, 10, 7, 1, 4, 5, 8, 6, 4, 6, 10, 7, 1, 8, 5, 6, 8, 5, 6, 1, 7, 8, 10, 3, 2, 5, 10, 1, 4, 10, 1, 3, 4, 7, 8, 2, 6, 7, 1, 2, 3, 4, 6, 7, 8, 9, 10, 1, 2, 6, 7, 8, 2, 2, 5, 8, 1, 3, 4, 6, 9, 1, 2, 3, 4, 5, 6, 7, 8, 9, 10, 1, 5, 6, 7, 9, 4, 7, 8, 9, 1, 2, 3, 4, 5, 8, 9, 10, 1, 7, 8, 1, 5, 8, 9, 5, 6, 2, 4, 5, 7, 8, 5, 1, 2, 4, 5, 6, 8, 1, 3, 7, 8, 5, 6, 7, 10, 2, 2, 4, 5, 6, 7, 8, 10, 7, 1, 3, 4, 5, 6, 1, 1, 3, 4, 5, 8, 9, 2, 3, 9, 10, 1, 2, 4, 6, 8, 9, 10, 4, 1, 10, 1, 4, 6, 8, 2, 5, 1, 3, 4, 7, 8, 1, 2, 4, 5, 6, 8, 2, 4, 5, 6, 10, 1, 1, 5, 8, 9, 1, 2, 3, 4, 5, 6, 7, 8, 10, 6, 7, 4, 8, 9, 1, 4, 5, 7, 9, 10, 1, 5, 7, 1, 2, 3, 4, 5, 6, 7, 8, 9, 10, 6, 1, 7, 2, 4, 8, 1, 4, 5, 8, 4, 8, 9, 2, 2, 1, 2, 3, 4, 5, 6, 7, 1, 3, 4, 6, 7, 8, 9, 3, 10, 2, 10, 6, 8, 10, 7, 9, 2, 3, 3, 6, 10, 1, 10, 7, 10, 1, 4, 8, 1, 2, 3, 4, 7, 5, 1, 2, 3, 4, 5, 7, 8, 10, 2, 5, 1, 1, 6, 7, 2, 2, 3, 1, 9, 6, 1, 1, 1, 2, 4, 7, 8, 9, 10, 5, 7, 8, 8, 9, 3, 2, 8, 1, 2, 3, 4, 5, 6, 8, 10, 2, 3, 4, 7, 9, 6, 2, 1, 2, 1, 4, 5, 9, 6, 9, 10, 5, 6, 6, 10, 3, 6, 1, 2, 4, 5, 8, 9, 10, 2, 3, 2, 4, 3, 4, 6, 9, 7, 1, 6, 7, 1, 2, 6, 7, 8, 1, 2, 3, 6, 7, 9, 1, 2, 8, 1, 10, 5, 10, 9, 1, 3, 8, 3, 6, 2, 1, 6, 10, 4, 1, 3, 4, 5, 6, 8, 9, 10, 2, 3, 5, 6, 7, 8, 9, 5, 6, 10, 1, 2, 3, 4, 7, 8, 9, 10, 1, 2, 3, 9, 10, 1, 2, 3, 5, 7, 8, 10, 5, 6, 7, 10, 1, 2, 4, 5, 6, 7, 10, 1, 2, 8, 2, 2, 4, 5, 9, 7, 1, 2, 2, 5, 6, 8, 1, 3, 4, 5, 8, 10, 7, 10, 1, 1, 3, 4, 5, 7, 8, 9, 1, 3, 4, 6, 7, 8, 9, 10, 2, 7, 4, 7, 9, 10, 4, 6, 1, 10, 1, 5, 7, 1, 2, 3, 4, 5, 6, 8, 10, 4, 3, 6, 6, 1, 4, 6, 10, 3, 1, 3, 4, 5, 6, 8, 10, 1, 3, 4, 6, 8, 3, 6, 7, 9, 1, 4, 6, 7, 8, 10, 3, 1, 2, 3, 4, 5, 6, 7, 8, 9, 10, 4, 5, 6, 1, 3, 4, 5, 6, 6, 1, 5, 6, 8, 9, 10, 3, 5, 9, 4, 8, 9, 6, 8, 3, 4, 10, 4, 3, 4, 5, 6, 2, 4, 5, 1, 2, 3, 4, 5, 6, 7, 8, 9, 1, 1, 2, 3, 4, 5, 6, 7, 10, 2, 4, 6, 7, 1, 2, 3, 5, 8, 10, 4, 8, 4, 1, 3, 4, 5, 7, 9, 3], \"Freq\": [0.7874931231924208, 0.7048573933762229, 0.23495246445874096, 0.7096226413760666, 0.23654088045868885, 0.787175964259917, 0.8120622036360897, 0.765944464158762, 0.28978046377574906, 0.05795609275514981, 0.11591218551029962, 0.05795609275514981, 0.23182437102059925, 0.08693413913272471, 0.11591218551029962, 0.028978046377574906, 0.16711425993496204, 0.16711425993496204, 0.5013427798048861, 0.16711425993496204, 0.09174675312102673, 0.13762012968154008, 0.045873376560513365, 0.09174675312102673, 0.3669870124841069, 0.18349350624205346, 0.045873376560513365, 0.29300474021771955, 0.23440379217417565, 0.23440379217417565, 0.05860094804354391, 0.1758028441306317, 0.7875175683888105, 0.5896597651446651, 0.35379585908679906, 0.7871999319369839, 0.8684843453105241, 0.7737408990065621, 0.7875189029159744, 0.26696645665133584, 0.6674161416283396, 0.051824757309229, 0.310948543855374, 0.051824757309229, 0.103649514618458, 0.155474271927687, 0.103649514618458, 0.207299029236916, 0.051824757309229, 0.23585584127368517, 0.47171168254737034, 0.24298577336883356, 0.24298577336883356, 0.4859715467376671, 0.787517029175738, 0.17618677561225543, 0.05872892520408514, 0.4698314016326811, 0.05872892520408514, 0.05872892520408514, 0.05872892520408514, 0.05872892520408514, 0.05872892520408514, 0.8140958797762349, 0.7871662763849899, 0.45243473901008907, 0.45243473901008907, 0.7737408647803254, 0.8103268297660087, 0.7875160562083747, 0.24305903999720502, 0.24305903999720502, 0.48611807999441004, 0.4957372643578408, 0.16524575478594694, 0.16524575478594694, 0.2425948433812059, 0.4851896867624118, 0.2425948433812059, 0.8414779202611576, 0.7737773544207192, 0.8141896853576802, 0.8142033516607828, 0.31382646809096876, 0.07845661702274219, 0.31382646809096876, 0.07845661702274219, 0.23536985106822655, 0.814185403749891, 0.11955522531161734, 0.11955522531161734, 0.35866567593485205, 0.35866567593485205, 0.5293136146881788, 0.1323284036720447, 0.2646568073440894, 0.1323284036720447, 0.7048708816483407, 0.2349569605494469, 0.814189911070488, 0.20546707545613946, 0.21830876767214816, 0.05778761497203922, 0.07062930718804794, 0.12199607605208279, 0.038525076648026145, 0.179783691024122, 0.03210423054002179, 0.051366768864034865, 0.019262538324013073, 0.7872064318766262, 0.14753557978405815, 0.2950711595681163, 0.14753557978405815, 0.2950711595681163, 0.3498044703865476, 0.03498044703865476, 0.1749022351932738, 0.3847849174252024, 0.03498044703865476, 0.9138313135236855, 0.7875158324859368, 0.2876702483427032, 0.4602723973483252, 0.17260214900562193, 0.05753404966854065, 0.05753404966854065, 0.9388111438394756, 0.14611162321692375, 0.7305581160846187, 0.3531034542989815, 0.0706206908597963, 0.0706206908597963, 0.0706206908597963, 0.2824827634391852, 0.2118620725793889, 0.30820466702253674, 0.051367444503756125, 0.10273488900751225, 0.2568372225187806, 0.051367444503756125, 0.051367444503756125, 0.10273488900751225, 0.10273488900751225, 0.04612404644930651, 0.13837213934791953, 0.18449618579722604, 0.09224809289861302, 0.09224809289861302, 0.27674427869583906, 0.04612404644930651, 0.09224809289861302, 0.04612404644930651, 0.3487323340862242, 0.5230985011293363, 0.7875161902426708, 0.4099523763535348, 0.4099523763535348, 0.7737653259883799, 0.881032362164932, 0.4972821222081058, 0.16576070740270193, 0.16576070740270193, 0.2956157438831802, 0.2956157438831802, 0.4434236158247703, 0.23553807850561823, 0.7066142355168546, 0.765905391464891, 0.29289930008920406, 0.4393489501338061, 0.14644965004460203, 0.8577791241255044, 0.24689215537000786, 0.4937843107400157, 0.7737429642788807, 0.24448524803692703, 0.24448524803692703, 0.48897049607385407, 0.06772134530918487, 0.33860672654592433, 0.2031640359275546, 0.33860672654592433, 0.6591172072318752, 0.0823896509039844, 0.1647793018079688, 0.0823896509039844, 0.7875149785724599, 0.6957677587585488, 0.2319225862528496, 0.8849033221028614, 0.7737501977878589, 0.8371859195400717, 0.7835599552837569, 0.784450849215786, 0.11784825497642981, 0.23569650995285962, 0.35354476492928943, 0.11784825497642981, 0.11784825497642981, 0.7818252747831927, 0.7871649611725152, 0.7659068891872902, 0.301141165551056, 0.602282331102112, 0.1898121409636559, 0.22144749779093187, 0.1898121409636559, 0.03163535682727598, 0.12654142730910392, 0.09490607048182795, 0.03163535682727598, 0.03163535682727598, 0.09490607048182795, 0.7074101742289509, 0.3024025867783636, 0.6048051735567272, 0.9388139208282386, 0.1844371624947969, 0.1844371624947969, 0.1844371624947969, 0.09221858124739846, 0.09221858124739846, 0.27665574374219537, 0.1345401348932316, 0.8072408093593896, 0.8103224153240308, 0.867547519476035, 0.7844384411020477, 0.2380792467617294, 0.1190396233808647, 0.2380792467617294, 0.3571188701425941, 0.22328716763912412, 0.5582179190978104, 0.11164358381956206, 0.228794658824644, 0.09805485378199029, 0.09805485378199029, 0.08171237815165858, 0.16342475630331715, 0.09805485378199029, 0.049027426890995145, 0.03268495126066343, 0.08171237815165858, 0.06536990252132686, 0.22217930593725244, 0.11108965296862622, 0.18514942161437703, 0.07405976864575081, 0.11108965296862622, 0.037029884322875406, 0.07405976864575081, 0.11108965296862622, 0.11108965296862622, 0.49295761378758185, 0.49295761378758185, 0.23078512791948477, 0.046157025583896956, 0.27694215350338175, 0.18462810233558782, 0.13847107675169087, 0.09231405116779391, 0.046157025583896956, 0.6638028890527028, 0.1659507222631757, 0.1659507222631757, 0.9138314004025184, 0.11567099820288329, 0.043376624326081234, 0.23134199640576658, 0.11567099820288329, 0.1301298729782437, 0.057835499101441645, 0.08675324865216247, 0.014458874775360411, 0.11567099820288329, 0.07229437387680206, 0.07811277668153871, 0.15622555336307742, 0.23433833004461613, 0.23433833004461613, 0.23433833004461613, 0.07811277668153871, 0.796777475333195, 0.9138313844650658, 0.26219344947713863, 0.05243868989542773, 0.1747956329847591, 0.10487737979085546, 0.08739781649237954, 0.20975475958171091, 0.03495912659695182, 0.03495912659695182, 0.01747956329847591, 0.11016733314054582, 0.11016733314054582, 0.11016733314054582, 0.22033466628109163, 0.22033466628109163, 0.11016733314054582, 0.2338394154011319, 0.7015182462033956, 0.7659698130755145, 0.787207116907929, 0.146375244083128, 0.43912573224938395, 0.146375244083128, 0.146375244083128, 0.8086282978413666, 0.8086207203879106, 0.8202616281515216, 0.11718023259307452, 0.7875175243438131, 0.4291368420323607, 0.0613052631474801, 0.0613052631474801, 0.1226105262949602, 0.1226105262949602, 0.0613052631474801, 0.0613052631474801, 0.0613052631474801, 0.0613052631474801, 0.1970137598509775, 0.1970137598509775, 0.14776031988823313, 0.04925343996274437, 0.04925343996274437, 0.3447740797392106, 0.19495882682859333, 0.58487648048578, 0.19658039635562125, 0.5897411890668638, 0.19658039635562125, 0.3078419645908926, 0.6156839291817852, 0.7875212784975162, 0.22995424254387123, 0.19457666676789104, 0.2830206062078415, 0.05306636366397028, 0.035377575775980184, 0.10613272732794056, 0.017688787887990092, 0.07075515155196037, 0.13595487272955845, 0.13595487272955845, 0.2719097454591169, 0.40786461818867537, 0.23553782688764824, 0.7066134806629447, 0.12703820379413036, 0.2540764075882607, 0.06351910189706518, 0.12703820379413036, 0.3811146113823911, 0.06351910189706518, 0.7875102597026201, 0.7844533068530428, 0.2976826188798222, 0.5953652377596445, 0.7871719803992503, 0.8086079474986249, 0.7866488442906896, 0.7836277872375088, 0.13931657218274038, 0.5108274313367147, 0.04643885739424679, 0.04643885739424679, 0.09287771478849358, 0.09287771478849358, 0.04643885739424679, 0.04643885739424679, 0.6001311309035552, 0.3000655654517776, 0.3146498412857708, 0.3146498412857708, 0.1573249206428854, 0.0786624603214427, 0.07544780088331898, 0.15089560176663797, 0.15089560176663797, 0.22634340264995692, 0.22634340264995692, 0.07544780088331898, 0.07544780088331898, 0.1967373955760282, 0.5902121867280846, 0.1967373955760282, 0.48792089886266643, 0.0975841797725333, 0.1951683595450666, 0.1951683595450666, 0.6188352601658617, 0.30941763008293083, 0.8103292684554709, 0.5938879464769627, 0.1484719866192407, 0.1484719866192407, 0.1484719866192407, 0.23468731657330935, 0.7040619497199281, 0.7304624364378588, 0.6056965331308115, 0.30284826656540575, 0.78443778217453, 0.1703469683356866, 0.6813878733427464, 0.19732053761533508, 0.5919616128460052, 0.5729074647998239, 0.14322686619995598, 0.14322686619995598, 0.1672085987956534, 0.3344171975913068, 0.0836042993978267, 0.0836042993978267, 0.0836042993978267, 0.0836042993978267, 0.0836042993978267, 0.8142080282735724, 0.787514545416389, 0.784439298806581, 0.48645566007505425, 0.09729113201501086, 0.1945822640300217, 0.1945822640300217, 0.09729113201501086, 0.19856250885941945, 0.5956875265782583, 0.19856250885941945, 0.7872570387388236, 0.47931875356695675, 0.3834550028535654, 0.09586375071339134, 0.09586375071339134, 0.7737530097317602, 0.7876043814451955, 0.7659234261984553, 0.8255862011053119, 0.1809353003588718, 0.1809353003588718, 0.1809353003588718, 0.3618706007177436, 0.0904676501794359, 0.11941613700037937, 0.8359129590026556, 0.14941964861552723, 0.4482589458465817, 0.14941964861552723, 0.14941964861552723, 0.3367663060329445, 0.11225543534431484, 0.05612771767215742, 0.16838315301647225, 0.05612771767215742, 0.05612771767215742, 0.05612771767215742, 0.16838315301647225, 0.21441941020600194, 0.10720970510300097, 0.053604852551500486, 0.21441941020600194, 0.053604852551500486, 0.10720970510300097, 0.053604852551500486, 0.16081455765450145, 0.3024072107109148, 0.6048144214218296, 0.7843761185668809, 0.1827516535447613, 0.09137582677238065, 0.1827516535447613, 0.1827516535447613, 0.09137582677238065, 0.1827516535447613, 0.7659948663081857, 0.0983917847391511, 0.1967835694783022, 0.0983917847391511, 0.5903507084349066, 0.5899379536684968, 0.2949689768342484, 0.1474844884171242, 0.9234005818618973, 0.8084349333285944, 0.119813824650304, 0.359441473950912, 0.119813824650304, 0.239627649300608, 0.119813824650304, 0.7737524417760047, 0.7856441321768403, 0.9111149481569686, 0.30691546856584445, 0.6138309371316889, 0.7659086885417903, 0.8966105451488106, 0.7659204561736268, 0.19769544885685245, 0.4942386221421311, 0.19769544885685245, 0.09884772442842622, 0.7659133669572548, 0.7875150301799277, 0.8256127324602222, 0.7659956966630862, 0.7871749051293574, 0.09807685451993646, 0.19615370903987292, 0.19615370903987292, 0.09807685451993646, 0.2942305635598094, 0.19615370903987292, 0.7875162500271945, 0.025984385600798642, 0.12992192800399321, 0.15590631360479185, 0.12992192800399321, 0.07795315680239592, 0.15590631360479185, 0.10393754240319457, 0.12992192800399321, 0.051968771201597284, 0.051968771201597284, 0.7659068875758855, 0.4027750055240556, 0.20337699387432676, 0.20337699387432676, 0.4067539877486535, 0.20337699387432676, 0.7871594013478602, 0.7173072096505247, 0.22623107631954123, 0.45246215263908246, 0.11311553815977061, 0.16967330723965593, 0.9235265381164875, 0.9826002781737511, 0.810327330934222, 0.7659063925791015, 0.7659223524926855, 0.2187697161102872, 0.2187697161102872, 0.1093848580551436, 0.3281545741654308, 0.1093848580551436, 0.6025980239086071, 0.30129901195430353, 0.8142104101165233, 0.30691544145094185, 0.6138308829018837, 0.8255727374142361, 0.15333694439956858, 0.20444925919942475, 0.10222462959971237, 0.05111231479985619, 0.30667388879913715, 0.05111231479985619, 0.05111231479985619, 0.05111231479985619, 0.16370338295660153, 0.2250921515653271, 0.02046292286957519, 0.08185169147830076, 0.02046292286957519, 0.02046292286957519, 0.16370338295660153, 0.04092584573915038, 0.18416630582617674, 0.06138876860872558, 0.7844391680291932, 0.8086239557767023, 0.8810236590608987, 0.8846245348102499, 0.7659049174461486, 0.24234650321652002, 0.72703950964956, 0.1733435450370587, 0.1733435450370587, 0.5200306351111761, 0.40995293034872615, 0.40995293034872615, 0.2938365549052311, 0.07345913872630777, 0.2203774161789233, 0.2203774161789233, 0.14691827745261554, 0.7960844142165171, 0.7844456400531645, 0.773753702294568, 0.11612902196538485, 0.4645160878615394, 0.11612902196538485, 0.2322580439307697, 0.8846980637039841, 0.4875729976212117, 0.24378649881060585, 0.23985225042157027, 0.7195567512647107, 0.6003558823625726, 0.2001186274541909, 0.10902337823433643, 0.21804675646867286, 0.10902337823433643, 0.10902337823433643, 0.10902337823433643, 0.10902337823433643, 0.3270701347030093, 0.8844591639970006, 0.5138271975956267, 0.17127573253187556, 0.17127573253187556, 0.36363804398505206, 0.09090951099626302, 0.09090951099626302, 0.18181902199252603, 0.09090951099626302, 0.18181902199252603, 0.15600281941468136, 0.23400422912202204, 0.3120056388293627, 0.07800140970734068, 0.15600281941468136, 0.07800140970734068, 0.23576024848767177, 0.47152049697534354, 0.23576024848767177, 0.7967756073048315, 0.8844666190862882, 0.7871822034415763, 0.3340275862642261, 0.5010413793963391, 0.7737380457781975, 0.8103090514057749, 0.7874044641947461, 0.4718142335766982, 0.2359071167883491, 0.11795355839417455, 0.11795355839417455, 0.30088284707388013, 0.6017656941477603, 0.11948427967371548, 0.11948427967371548, 0.5974213983685774, 0.11948427967371548, 0.06660232352744665, 0.2664092941097866, 0.19980697058233995, 0.06660232352744665, 0.06660232352744665, 0.3996139411646799, 0.2924023404381941, 0.19493489362546274, 0.024366861703182842, 0.14620117021909704, 0.07310058510954852, 0.024366861703182842, 0.07310058510954852, 0.048733723406365684, 0.048733723406365684, 0.048733723406365684, 0.5802034901439836, 0.11604069802879671, 0.11604069802879671, 0.11604069802879671, 0.11604069802879671, 0.4047131300686247, 0.6962143781546714, 0.23207145938489046, 0.17329950749564246, 0.6931980299825699, 0.21777840662182693, 0.17422272529746155, 0.08711136264873078, 0.08711136264873078, 0.13066704397309617, 0.04355568132436539, 0.08711136264873078, 0.13066704397309617, 0.04355568132436539, 0.4099522091177619, 0.4099522091177619, 0.0872004830791844, 0.3488019323167376, 0.13080072461877662, 0.0872004830791844, 0.1744009661583688, 0.0872004830791844, 0.0436002415395922, 0.0436002415395922, 0.3894574607015049, 0.07789149214030097, 0.15578298428060194, 0.07789149214030097, 0.23367447642090292, 0.11801388323069341, 0.11801388323069341, 0.47205553292277364, 0.23602776646138682, 0.09073932451220562, 0.18147864902441124, 0.27221797353661686, 0.27221797353661686, 0.27221797353661686, 0.7874922932613335, 0.7871712726312187, 0.4099524041157118, 0.4099524041157118, 0.18466940040161933, 0.09233470020080967, 0.09233470020080967, 0.09233470020080967, 0.46167350100404836, 0.09233470020080967, 0.09725642461048187, 0.5835385476628913, 0.29176927383144563, 0.2029862027533803, 0.4059724055067606, 0.4059724055067606, 0.7844613253667164, 0.2646476505924924, 0.2646476505924924, 0.3969714758887386, 0.1323238252962462, 0.07045333133852814, 0.2818133253541126, 0.07045333133852814, 0.07045333133852814, 0.1409066626770563, 0.1409066626770563, 0.2818133253541126, 0.9114930696218515, 0.7660205779349553, 0.11937446883615933, 0.5968723441807967, 0.23874893767231867, 0.7968228480532767, 0.7871520819032803, 0.3026815873424027, 0.6053631746848054, 0.8086007390377132, 0.4767400969238104, 0.4767400969238104, 0.7875091772941579, 0.30603986965843727, 0.30603986965843727, 0.7875160942275903, 0.796778843967425, 0.7659050412613561, 0.612533953579857, 0.3062669767899285, 0.8103168352317828, 0.784445755105473, 0.7737487069334328, 0.787717408268923, 0.4027744906894939, 0.16921451543354574, 0.5076435463006372, 0.3384290308670915, 0.1181645553573991, 0.4726582214295964, 0.1181645553573991, 0.1181645553573991, 0.1181645553573991, 0.19998278574676906, 0.19998278574676906, 0.5999483572403072, 0.15832489842583256, 0.2216548577961656, 0.09499493905549954, 0.28498481716649865, 0.06332995937033303, 0.03166497968516652, 0.03166497968516652, 0.09499493905549954, 0.03166497968516652, 0.29204604239737303, 0.38939472319649737, 0.09734868079912434, 0.09734868079912434, 0.09734868079912434, 0.7737465589832262, 0.7737479471800367, 0.24600552588978786, 0.4920110517795757, 0.2516819082060746, 0.16778793880404974, 0.08389396940202487, 0.3355758776080995, 0.08389396940202487, 0.3184152260760129, 0.12246739464462035, 0.07348043678677221, 0.02449347892892407, 0.02449347892892407, 0.12246739464462035, 0.07348043678677221, 0.04898695785784814, 0.04898695785784814, 0.14696087357354443, 0.18288998235974413, 0.18288998235974413, 0.36577996471948826, 0.09144499117987206, 0.09144499117987206, 0.300790435036699, 0.601580870073398, 0.8256224325098749, 0.8142096425892952, 0.12476786707106746, 0.24953573414213492, 0.06238393353553373, 0.12476786707106746, 0.12476786707106746, 0.1871518006066012, 0.06238393353553373, 0.06238393353553373, 0.9124639904484513, 0.30865770551801663, 0.6173154110360333, 0.23320676662850554, 0.46641353325701107, 0.2464513184265721, 0.4929026368531442, 0.5912074756632066, 0.1970691585544022, 0.36141047641322127, 0.27105785730991594, 0.09035261910330532, 0.09035261910330532, 0.09035261910330532, 0.884898299313714, 0.13813180434240904, 0.13813180434240904, 0.13813180434240904, 0.3453295108560226, 0.13813180434240904, 0.06906590217120452, 0.15084183817509292, 0.30168367635018584, 0.15084183817509292, 0.30168367635018584, 0.8848633319466063, 0.7206762475629142, 0.12011270792715237, 0.12011270792715237, 0.7737540793806262, 0.22452552633140632, 0.07484184211046876, 0.07484184211046876, 0.14968368422093753, 0.07484184211046876, 0.14968368422093753, 0.22452552633140632, 0.8086038204213492, 0.3108733554868547, 0.3108733554868547, 0.07771833887171367, 0.07771833887171367, 0.23315501661514101, 0.7659128097832267, 0.2142968221999072, 0.1071484110999536, 0.3214452332998608, 0.1071484110999536, 0.1071484110999536, 0.1071484110999536, 0.09868832785604952, 0.5921299671362971, 0.19737665571209903, 0.09868832785604952, 0.11263353140587332, 0.3379005942176199, 0.16895029710880996, 0.05631676570293666, 0.05631676570293666, 0.05631676570293666, 0.22526706281174663, 0.7871461247882297, 0.23985131030747794, 0.7195539309224339, 0.17278692181920316, 0.17278692181920316, 0.17278692181920316, 0.3455738436384063, 0.7718654987495913, 0.19296637468739783, 0.2542906969677994, 0.16952713131186625, 0.16952713131186625, 0.2542906969677994, 0.16952713131186625, 0.29534788513626287, 0.14767394256813143, 0.07383697128406572, 0.07383697128406572, 0.14767394256813143, 0.22151091385219715, 0.21479126308463717, 0.42958252616927434, 0.10739563154231858, 0.10739563154231858, 0.21479126308463717, 0.7659094039021982, 0.33254649583475404, 0.49881974375213106, 0.4099530289901204, 0.4099530289901204, 0.20769253768555412, 0.16153864042209765, 0.023076948631728236, 0.0692308458951847, 0.16153864042209765, 0.18461558905382588, 0.04615389726345647, 0.0692308458951847, 0.0692308458951847, 0.3020622737704848, 0.6041245475409696, 0.24394694405213355, 0.24394694405213355, 0.4878938881042671, 0.1487632894219499, 0.2975265788438998, 0.1487632894219499, 0.1487632894219499, 0.22314493413292485, 0.07438164471097496, 0.7659223849176188, 0.20163601119406727, 0.6049080335822018, 0.1929381680184864, 0.055125190862424685, 0.041343893146818515, 0.2894072520277296, 0.041343893146818515, 0.0964690840092432, 0.11025038172484937, 0.12403167944045554, 0.027562595431212342, 0.027562595431212342, 0.7967720708368456, 0.29766660214828683, 0.5953332042965737, 0.19775465145690188, 0.5932639543707057, 0.19775465145690188, 0.2990205406851263, 0.14951027034256315, 0.14951027034256315, 0.2990205406851263, 0.6014165176229639, 0.20047217254098798, 0.20047217254098798, 0.7737415293480489, 0.7737469224396851, 0.15277759897688617, 0.050925866325628726, 0.30555519795377234, 0.2037034653025149, 0.10185173265125745, 0.050925866325628726, 0.10185173265125745, 0.4075645520607053, 0.20378227603035265, 0.05094556900758816, 0.05094556900758816, 0.15283670702276447, 0.10189113801517632, 0.05094556900758816, 0.30088296135685083, 0.6017659227137017, 0.3976726942677889, 0.5965090414016834, 0.30692360902672045, 0.6138472180534409, 0.8103225276881548, 0.6093562089728298, 0.3046781044864149, 0.9235379701980483, 0.7844444981067308, 0.2397581249059366, 0.4795162498118732, 0.2397581249059366, 0.23985560193555053, 0.7195668058066516, 0.6082530785924629, 0.30412653929623146, 0.8577554384960061, 0.3054833604864572, 0.6109667209729144, 0.23018749409840544, 0.6905624822952163, 0.2953634115108867, 0.44304511726633006, 0.14768170575544334, 0.7875675777791945, 0.1133425479927451, 0.1133425479927451, 0.1133425479927451, 0.1133425479927451, 0.17001382198911766, 0.17001382198911766, 0.1133425479927451, 0.17001382198911766, 0.8675374487775469, 0.7875151907874739, 0.7659058023588466, 0.765906367668017, 0.30220343473163014, 0.6044068694632603, 0.7685115713753933, 0.8673850881123826, 0.7847305132378783, 0.15201315195820078, 0.760065759791004, 0.7967822204846717, 0.8578077302526201, 0.7659077683474054, 0.1693850028145105, 0.338770005629021, 0.05646166760483683, 0.1693850028145105, 0.1693850028145105, 0.11292333520967365, 0.05646166760483683, 0.20375995176547762, 0.40751990353095524, 0.40751990353095524, 0.3078596561598794, 0.6157193123197588, 0.7844605481753913, 0.780760679860748, 0.195190169965187, 0.1402846511811461, 0.2805693023622922, 0.1402846511811461, 0.23380775196857684, 0.09352310078743073, 0.046761550393715365, 0.046761550393715365, 0.09352310078743073, 0.13328472547706868, 0.13328472547706868, 0.13328472547706868, 0.3998541764312061, 0.13328472547706868, 0.7174176504033903, 0.7737473223438606, 0.7659990608566697, 0.7737500342123105, 0.1804292644014665, 0.360858528802933, 0.360858528802933, 0.09021463220073325, 0.20290740864549595, 0.20290740864549595, 0.6087222259364878, 0.11935523830962509, 0.8354866681673756, 0.30268097234661107, 0.6053619446932221, 0.7848607215279803, 0.19621518038199506, 0.19833535939736244, 0.26444714586314993, 0.06611178646578748, 0.06611178646578748, 0.13222357293157497, 0.19833535939736244, 0.13222357293157497, 0.773750222665805, 0.7844345954979273, 0.6961137728476791, 0.23203792428255968, 0.33678662159437506, 0.5051799323915626, 0.16839331079718753, 0.8119948499571193, 0.4055850790352403, 0.23628426937678443, 0.7088528081303532, 0.8086107121171662, 0.11993518769888221, 0.23987037539776443, 0.23987037539776443, 0.11993518769888221, 0.23987037539776443, 0.1679369616734111, 0.11195797444894073, 0.44783189779576293, 0.05597898722447037, 0.1679369616734111, 0.11195797444894073, 0.3410605679062832, 0.1705302839531416, 0.3410605679062832, 0.6957426383725237, 0.23191421279084123, 0.24193224872165747, 0.7257967461649725, 0.8142083820592614, 0.2401482314404496, 0.2401482314404496, 0.4802964628808992, 0.23780033004265935, 0.4756006600853187, 0.7737763863542251, 0.7659054533355709, 0.6015346949619457, 0.30076734748097284, 0.8844158272857249, 0.07985604812077217, 0.15971209624154434, 0.07985604812077217, 0.23956814436231652, 0.07985604812077217, 0.15971209624154434, 0.07985604812077217, 0.07985604812077217, 0.0795672411761964, 0.1591344823523928, 0.3182689647047856, 0.1591344823523928, 0.0795672411761964, 0.0795672411761964, 0.1591344823523928, 0.7875077947415299, 0.7967797030259902, 0.8102899305024355, 0.2434242093709777, 0.2434242093709777, 0.16228280624731847, 0.04057070156182962, 0.12171210468548885, 0.08114140312365924, 0.04057070156182962, 0.12171210468548885, 0.19641832630405082, 0.2618911017387344, 0.19641832630405082, 0.1309455508693672, 0.19641832630405082, 0.33615476281212375, 0.08403869070303094, 0.08403869070303094, 0.08403869070303094, 0.16807738140606188, 0.08403869070303094, 0.16807738140606188, 0.12097152289756154, 0.24194304579512307, 0.48388609159024615, 0.12097152289756154, 0.1295650363855313, 0.3239125909638283, 0.1295650363855313, 0.1295650363855313, 0.06478251819276565, 0.06478251819276565, 0.06478251819276565, 0.15062917314682675, 0.3012583462936535, 0.4518875194404803, 0.7737507890117784, 0.7737503064060142, 0.7871920806066365, 0.40270899358270007, 0.6040634903740502, 0.8086100281071519, 0.23009251466579045, 0.6902775439973713, 0.14932127671464593, 0.14932127671464593, 0.4479638301439378, 0.14932127671464593, 0.13852398996569948, 0.4155719698970985, 0.06926199498284974, 0.13852398996569948, 0.06926199498284974, 0.13852398996569948, 0.3043683838057079, 0.6087367676114158, 0.8577001451167974, 0.3225083226323457, 0.16125416131617284, 0.10750277421078189, 0.053751387105390944, 0.053751387105390944, 0.053751387105390944, 0.26875693552695473, 0.14574972494648847, 0.07287486247324423, 0.18218715618311057, 0.03643743123662212, 0.14574972494648847, 0.10931229370986635, 0.2550620186563548, 0.07287486247324423, 0.2988285252126125, 0.597657050425225, 0.2785784890258046, 0.3714379853677395, 0.09285949634193487, 0.18571899268386974, 0.7871855995576775, 0.8534559167134775, 0.29815674331489894, 0.5963134866297979, 0.1697933335952934, 0.3395866671905868, 0.5093800007858802, 0.29358325090861886, 0.12582139324655095, 0.16776185766206791, 0.04194046441551698, 0.04194046441551698, 0.12582139324655095, 0.08388092883103396, 0.12582139324655095, 0.7871775981231796, 0.19806371225091676, 0.5941911367527503, 0.7968219451021832, 0.3635834931391603, 0.09089587328479007, 0.2726876198543702, 0.2726876198543702, 0.7844419206827847, 0.1233293714599566, 0.4933174858398264, 0.0616646857299783, 0.1233293714599566, 0.1849940571899349, 0.30674746076890524, 0.6134949215378105, 0.09067804485621184, 0.36271217942484735, 0.18135608971242367, 0.18135608971242367, 0.09067804485621184, 0.43423525310509953, 0.10855881327627488, 0.32567643982882466, 0.10855881327627488, 0.161455018645621, 0.2906190335621178, 0.12916401491649682, 0.22603702610386942, 0.0968730111873726, 0.0968730111873726, 0.7843745720286416, 0.19242647684041905, 0.03207107947340317, 0.08017769868350794, 0.20846201657712063, 0.09621323842020953, 0.08017769868350794, 0.09621323842020953, 0.09621323842020953, 0.06414215894680635, 0.06414215894680635, 0.16912090189449216, 0.5073627056834765, 0.33824180378898433, 0.19553688398255836, 0.19553688398255836, 0.13035792265503893, 0.19553688398255836, 0.26071584531007785, 0.7173995827179457, 0.2968795282311307, 0.07421988205778267, 0.3710994102889133, 0.07421988205778267, 0.14843976411556534, 0.07421988205778267, 0.1978492673778423, 0.593547802133527, 0.1978492673778423, 0.2030204654134807, 0.2030204654134807, 0.4060409308269614, 0.20624739115158425, 0.6187421734547528, 0.1188197788616019, 0.4752791154464076, 0.2376395577232038, 0.7871502173183451, 0.11783084942748923, 0.4713233977099569, 0.23566169885497845, 0.11783084942748923, 0.5357585523243488, 0.2678792761621744, 0.17858618410811625, 0.16324581980790429, 0.04081145495197607, 0.08162290990395214, 0.24486872971185644, 0.12243436485592822, 0.16324581980790429, 0.08162290990395214, 0.08162290990395214, 0.04081145495197607, 0.7659947476292613, 0.3762261763089714, 0.15676090679540475, 0.21946526951356665, 0.03135218135908095, 0.09405654407724286, 0.03135218135908095, 0.1254087254363238, 0.8103274910955826, 0.2632521026388376, 0.1316260513194188, 0.3948781539582564, 0.1316260513194188, 0.13280167960031072, 0.13280167960031072, 0.06640083980015536, 0.1992025194004661, 0.13280167960031072, 0.3984050388009322, 0.6001382943946888, 0.3000691471973444, 0.7872156352702288, 0.092260058779581, 0.092260058779581, 0.184520117559162, 0.092260058779581, 0.092260058779581, 0.46130029389790506, 0.7844514053420173], \"Term\": [\"2\", \"3\", \"3\", \"3rd\", \"3rd\", \"5\", \"Africa\", \"AlBader\", \"American\", \"American\", \"American\", \"American\", \"American\", \"American\", \"American\", \"American\", \"Americans\", \"Americans\", \"Americans\", \"Americans\", \"And\", \"And\", \"And\", \"And\", \"And\", \"And\", \"And\", \"Arabia\", \"Arabia\", \"Arabia\", \"Arabia\", \"Arabia\", \"Armenia\", \"As\", \"As\", \"Beautiful\", \"Bernie\", \"Bold\", \"Brazil\", \"British\", \"British\", \"But\", \"But\", \"But\", \"But\", \"But\", \"But\", \"But\", \"But\", \"Canada\", \"Canada\", \"Clinton\", \"Clinton\", \"Clinton\", \"Colombia\", \"Congress\", \"Congress\", \"Congress\", \"Congress\", \"Congress\", \"Congress\", \"Congress\", \"Congress\", \"Cyrus\", \"Democrats\", \"Do\", \"Do\", \"Executed\", \"Foundation\", \"Fuchs\", \"Fuck\", \"Fuck\", \"Fuck\", \"Gaza\", \"Gaza\", \"Gaza\", \"Germany\", \"Germany\", \"Germany\", \"Giuliani\", \"Goosebumps\", \"Greater\", \"Have\", \"He\", \"He\", \"He\", \"He\", \"He\", \"Hence\", \"Hes\", \"Hes\", \"Hes\", \"Hes\", \"Hillary\", \"Hillary\", \"Hillary\", \"Hillary\", \"House\", \"House\", \"Houtis\", \"I\", \"I\", \"I\", \"I\", \"I\", \"I\", \"I\", \"I\", \"I\", \"I\", \"IMPERIALISM\", \"Id\", \"Id\", \"Id\", \"Id\", \"Im\", \"Im\", \"Im\", \"Im\", \"Im\", \"Images\", \"Inauguration\", \"Iran\", \"Iran\", \"Iran\", \"Iran\", \"Iran\", \"Iranbacked\", \"Is\", \"Is\", \"Israel\", \"Israel\", \"Israel\", \"Israel\", \"Israel\", \"Israel\", \"It\", \"It\", \"It\", \"It\", \"It\", \"It\", \"It\", \"It\", \"Its\", \"Its\", \"Its\", \"Its\", \"Its\", \"Its\", \"Its\", \"Its\", \"Its\", \"Ive\", \"Ive\", \"Kharkiv\", \"LOL\", \"LOL\", \"Left\", \"McCaul\", \"Miller\", \"Miller\", \"Miller\", \"My\", \"My\", \"My\", \"New\", \"New\", \"Nixon\", \"Not\", \"Not\", \"Not\", \"O\", \"Oh\", \"Oh\", \"One\", \"Our\", \"Our\", \"Our\", \"Palestine\", \"Palestine\", \"Palestine\", \"Palestine\", \"Palestinians\", \"Palestinians\", \"Palestinians\", \"Palestinians\", \"Partners\", \"Please\", \"Please\", \"Post\", \"Pound\", \"Powers\", \"Presidents\", \"Rep\", \"Republicans\", \"Republicans\", \"Republicans\", \"Republicans\", \"Republicans\", \"Resolution\", \"Roosevelt\", \"STOP\", \"Same\", \"Same\", \"Saudi\", \"Saudi\", \"Saudi\", \"Saudi\", \"Saudi\", \"Saudi\", \"Saudi\", \"Saudi\", \"Saudi\", \"SaudiArabia\", \"Saudia\", \"Saudia\", \"Saudiled\", \"So\", \"So\", \"So\", \"So\", \"So\", \"So\", \"South\", \"South\", \"Sunni\", \"Sure\", \"Surely\", \"Syria\", \"Syria\", \"Syria\", \"Syria\", \"Thats\", \"Thats\", \"Thats\", \"The\", \"The\", \"The\", \"The\", \"The\", \"The\", \"The\", \"The\", \"The\", \"The\", \"They\", \"They\", \"They\", \"They\", \"They\", \"They\", \"They\", \"They\", \"They\", \"Theyre\", \"Theyre\", \"This\", \"This\", \"This\", \"This\", \"This\", \"This\", \"This\", \"Those\", \"Those\", \"Those\", \"Thumbnail\", \"Trump\", \"Trump\", \"Trump\", \"Trump\", \"Trump\", \"Trump\", \"Trump\", \"Trump\", \"Trump\", \"Trump\", \"Trumps\", \"Trumps\", \"Trumps\", \"Trumps\", \"Trumps\", \"Trumps\", \"Tuesday\", \"URL\", \"US\", \"US\", \"US\", \"US\", \"US\", \"US\", \"US\", \"US\", \"US\", \"USA\", \"USA\", \"USA\", \"USA\", \"USA\", \"USA\", \"Ukraine\", \"Ukraine\", \"Ummah\", \"Unfortunately\", \"United\", \"United\", \"United\", \"United\", \"WAR\", \"WW3\", \"War\", \"War\", \"Washington\", \"We\", \"We\", \"We\", \"We\", \"We\", \"We\", \"We\", \"We\", \"We\", \"What\", \"What\", \"What\", \"What\", \"What\", \"What\", \"Whats\", \"Whats\", \"When\", \"When\", \"When\", \"Why\", \"Why\", \"YEMEN\", \"Yemen\", \"Yemen\", \"Yemen\", \"Yemen\", \"Yemen\", \"Yemen\", \"Yemen\", \"Yemen\", \"Yemeni\", \"Yemeni\", \"Yemeni\", \"Yemeni\", \"York\", \"York\", \"You\", \"You\", \"You\", \"You\", \"You\", \"You\", \"Youre\", \"abuse\", \"account\", \"account\", \"administration\", \"ahead\", \"allowed\", \"allows\", \"ally\", \"ally\", \"ally\", \"ally\", \"ally\", \"ally\", \"ally\", \"ally\", \"along\", \"along\", \"always\", \"always\", \"always\", \"always\", \"another\", \"another\", \"another\", \"another\", \"another\", \"another\", \"another\", \"anymore\", \"anymore\", \"anymore\", \"anything\", \"anything\", \"anything\", \"anything\", \"apparently\", \"apparently\", \"approach\", \"arm\", \"arm\", \"arm\", \"arm\", \"around\", \"around\", \"ashamed\", \"atrocity\", \"atrocity\", \"attacked\", \"attempt\", \"attempt\", \"authority\", \"authority\", \"away\", \"away\", \"away\", \"back\", \"back\", \"back\", \"back\", \"back\", \"back\", \"back\", \"ban\", \"bank\", \"battle\", \"behind\", \"behind\", \"behind\", \"behind\", \"behind\", \"believe\", \"believe\", \"believe\", \"belong\", \"better\", \"better\", \"better\", \"better\", \"betterment\", \"billionaire\", \"bipartisan\", \"blowing\", \"bomb\", \"bomb\", \"bomb\", \"bomb\", \"bomb\", \"brave\", \"brave\", \"business\", \"business\", \"business\", \"business\", \"cant\", \"cant\", \"cant\", \"cant\", \"cant\", \"cant\", \"cant\", \"cant\", \"care\", \"care\", \"care\", \"care\", \"care\", \"care\", \"care\", \"care\", \"celebrity\", \"celebrity\", \"chance\", \"change\", \"change\", \"change\", \"change\", \"change\", \"change\", \"charge\", \"citizen\", \"citizen\", \"citizen\", \"citizen\", \"civilian\", \"civilian\", \"civilian\", \"civilized\", \"claim\", \"class\", \"class\", \"class\", \"class\", \"class\", \"cleaning\", \"client\", \"coalition\", \"cognitive\", \"cognitive\", \"collapsed\", \"common\", \"condemnation\", \"conflict\", \"conflict\", \"conflict\", \"conflict\", \"congress\", \"consulting\", \"convicted\", \"convince\", \"convinced\", \"could\", \"could\", \"could\", \"could\", \"could\", \"could\", \"counsel\", \"country\", \"country\", \"country\", \"country\", \"country\", \"country\", \"country\", \"country\", \"country\", \"country\", \"courage\", \"create\", \"crime\", \"crime\", \"crime\", \"crime\", \"crybaby\", \"dangerous\", \"day\", \"day\", \"day\", \"day\", \"deeper\", \"deleted\", \"denial\", \"deserve\", \"dictator\", \"die\", \"die\", \"die\", \"die\", \"die\", \"died\", \"died\", \"disagree\", \"dissonance\", \"dissonance\", \"distorted\", \"doesnt\", \"doesnt\", \"doesnt\", \"doesnt\", \"doesnt\", \"doesnt\", \"doesnt\", \"doesnt\", \"dont\", \"dont\", \"dont\", \"dont\", \"dont\", \"dont\", \"dont\", \"dont\", \"dont\", \"dont\", \"drone\", \"due\", \"earlier\", \"earth\", \"easily\", \"easy\", \"easy\", \"election\", \"election\", \"election\", \"empathy\", \"empathy\", \"end\", \"end\", \"end\", \"end\", \"end\", \"endangering\", \"engaged\", \"essentially\", \"etc\", \"etc\", \"etc\", \"etc\", \"evening\", \"evidence\", \"evidence\", \"example\", \"example\", \"explaining\", \"explaining\", \"fact\", \"fact\", \"fact\", \"fact\", \"fact\", \"fact\", \"fact\", \"fake\", \"family\", \"family\", \"family\", \"feel\", \"feel\", \"feel\", \"feel\", \"feel\", \"feel\", \"fighting\", \"fighting\", \"fighting\", \"fighting\", \"fighting\", \"fighting\", \"first\", \"first\", \"first\", \"folk\", \"follow\", \"force\", \"former\", \"former\", \"found\", \"foundation\", \"fountain\", \"fucking\", \"fucking\", \"fucking\", \"fucking\", \"funny\", \"funny\", \"future\", \"future\", \"future\", \"future\", \"genocide\", \"genocide\", \"genocide\", \"genocide\", \"genocide\", \"genocide\", \"get\", \"get\", \"get\", \"get\", \"get\", \"get\", \"get\", \"get\", \"get\", \"get\", \"give\", \"give\", \"give\", \"give\", \"give\", \"given\", \"giving\", \"giving\", \"globalist\", \"globalist\", \"going\", \"going\", \"going\", \"going\", \"going\", \"going\", \"going\", \"going\", \"going\", \"gone\", \"gone\", \"good\", \"good\", \"good\", \"good\", \"good\", \"good\", \"good\", \"good\", \"government\", \"government\", \"government\", \"government\", \"government\", \"great\", \"great\", \"great\", \"great\", \"group\", \"group\", \"group\", \"group\", \"group\", \"growing\", \"guess\", \"happening\", \"happening\", \"hard\", \"hard\", \"hard\", \"hard\", \"hard\", \"hard\", \"hate\", \"hate\", \"hate\", \"he\", \"he\", \"he\", \"head\", \"heart\", \"heart\", \"heart\", \"heart\", \"help\", \"help\", \"help\", \"help\", \"help\", \"help\", \"help\", \"home\", \"homeland\", \"hope\", \"hope\", \"hope\", \"hospital\", \"humanity\", \"hypocrite\", \"hypocrite\", \"idea\", \"idiot\", \"idiot\", \"ill\", \"image\", \"image\", \"inauguration\", \"incapable\", \"increasing\", \"instead\", \"instead\", \"insurgent\", \"invoke\", \"israelsunni\", \"jail\", \"justification\", \"kill\", \"kill\", \"kill\", \"killing\", \"killing\", \"killing\", \"killing\", \"killing\", \"knew\", \"knew\", \"knew\", \"know\", \"know\", \"know\", \"know\", \"know\", \"know\", \"know\", \"know\", \"know\", \"least\", \"least\", \"least\", \"least\", \"least\", \"leaving\", \"legit\", \"level\", \"level\", \"life\", \"life\", \"life\", \"life\", \"life\", \"like\", \"like\", \"like\", \"like\", \"like\", \"like\", \"like\", \"like\", \"like\", \"like\", \"live\", \"live\", \"live\", \"live\", \"live\", \"lmao\", \"lmao\", \"loathe\", \"logic\", \"lot\", \"lot\", \"lot\", \"lot\", \"lot\", \"lot\", \"lot\", \"lot\", \"luck\", \"lying\", \"lying\", \"made\", \"made\", \"main\", \"main\", \"man\", \"man\", \"matter\", \"matter\", \"matter\", \"matter\", \"matter\", \"mayor\", \"mean\", \"mean\", \"mean\", \"mean\", \"mean\", \"mean\", \"medium\", \"medium\", \"medium\", \"medium\", \"meet\", \"member\", \"member\", \"member\", \"mess\", \"middle\", \"middle\", \"middle\", \"middle\", \"middle\", \"middle\", \"middle\", \"middleeast\", \"military\", \"military\", \"military\", \"military\", \"military\", \"mistake\", \"money\", \"money\", \"money\", \"money\", \"money\", \"money\", \"month\", \"month\", \"month\", \"month\", \"much\", \"much\", \"much\", \"much\", \"much\", \"much\", \"much\", \"multiple\", \"music\", \"music\", \"must\", \"must\", \"must\", \"must\", \"necessary\", \"necessary\", \"need\", \"need\", \"need\", \"need\", \"need\", \"never\", \"never\", \"never\", \"never\", \"never\", \"never\", \"nothing\", \"nothing\", \"nothing\", \"nothing\", \"nothing\", \"obvious\", \"office\", \"office\", \"oh\", \"oh\", \"one\", \"one\", \"one\", \"one\", \"one\", \"one\", \"one\", \"one\", \"one\", \"oppression\", \"oppression\", \"part\", \"part\", \"part\", \"party\", \"party\", \"party\", \"party\", \"party\", \"party\", \"passed\", \"pay\", \"pay\", \"people\", \"people\", \"people\", \"people\", \"people\", \"people\", \"people\", \"people\", \"people\", \"people\", \"plane\", \"pocket\", \"pocket\", \"policy\", \"policy\", \"policy\", \"political\", \"political\", \"political\", \"political\", \"politician\", \"politician\", \"politician\", \"poll\", \"pound\", \"power\", \"power\", \"power\", \"power\", \"power\", \"power\", \"power\", \"president\", \"president\", \"president\", \"president\", \"president\", \"president\", \"president\", \"prevent\", \"prevent\", \"produce\", \"produce\", \"profit\", \"profit\", \"propaganda\", \"proper\", \"proper\", \"provide\", \"provides\", \"providing\", \"providing\", \"providing\", \"pull\", \"pull\", \"pulling\", \"pulling\", \"puppet\", \"purpose\", \"purpose\", \"push\", \"push\", \"real\", \"real\", \"real\", \"reality\", \"really\", \"really\", \"really\", \"really\", \"really\", \"really\", \"really\", \"really\", \"recall\", \"recent\", \"red\", \"reddit\", \"refuse\", \"refuse\", \"regime\", \"relatively\", \"remember\", \"removed\", \"removed\", \"requires\", \"resistance\", \"rigged\", \"right\", \"right\", \"right\", \"right\", \"right\", \"right\", \"right\", \"ruling\", \"ruling\", \"ruling\", \"run\", \"run\", \"rwaterniggas\", \"sane\", \"sane\", \"say\", \"say\", \"say\", \"say\", \"say\", \"say\", \"say\", \"say\", \"saying\", \"saying\", \"saying\", \"saying\", \"saying\", \"school\", \"scum\", \"sea\", \"secondly\", \"see\", \"see\", \"see\", \"see\", \"seen\", \"seen\", \"seen\", \"service\", \"service\", \"shame\", \"shame\", \"ship\", \"ship\", \"shit\", \"shit\", \"shit\", \"shit\", \"shit\", \"shit\", \"shit\", \"shithole\", \"shitty\", \"short\", \"short\", \"show\", \"show\", \"show\", \"shut\", \"sickened\", \"siege\", \"siege\", \"smoke\", \"someone\", \"someone\", \"someone\", \"someone\", \"someone\", \"something\", \"something\", \"something\", \"something\", \"something\", \"something\", \"soon\", \"soon\", \"soon\", \"sound\", \"sound\", \"speech\", \"speech\", \"sport\", \"started\", \"started\", \"started\", \"starved\", \"starved\", \"status\", \"steadily\", \"step\", \"step\", \"stick\", \"still\", \"still\", \"still\", \"still\", \"still\", \"still\", \"still\", \"still\", \"stop\", \"stop\", \"stop\", \"stop\", \"stop\", \"stop\", \"stop\", \"stopping\", \"struggle\", \"suck\", \"support\", \"support\", \"support\", \"support\", \"support\", \"support\", \"support\", \"support\", \"supporter\", \"supporter\", \"supporter\", \"supporter\", \"supporter\", \"supporting\", \"supporting\", \"supporting\", \"supporting\", \"supporting\", \"supporting\", \"supporting\", \"sure\", \"sure\", \"sure\", \"sure\", \"take\", \"take\", \"take\", \"take\", \"take\", \"take\", \"take\", \"taking\", \"taking\", \"taking\", \"targeting\", \"targetingI\", \"tbh\", \"team\", \"team\", \"tear\", \"term\", \"term\", \"terrorism\", \"terrorism\", \"terrorism\", \"terrorism\", \"thats\", \"thats\", \"thats\", \"thats\", \"thats\", \"thats\", \"there\", \"there\", \"thin\", \"thing\", \"thing\", \"thing\", \"thing\", \"thing\", \"thing\", \"thing\", \"think\", \"think\", \"think\", \"think\", \"think\", \"think\", \"think\", \"think\", \"tho\", \"tho\", \"thought\", \"thought\", \"thought\", \"thought\", \"throw\", \"today\", \"translation\", \"translation\", \"true\", \"true\", \"true\", \"u\", \"u\", \"u\", \"u\", \"u\", \"u\", \"u\", \"u\", \"unironic\", \"unnecessary\", \"unnecessary\", \"usavevideo\", \"use\", \"use\", \"use\", \"use\", \"valid\", \"veto\", \"veto\", \"veto\", \"veto\", \"veto\", \"violence\", \"violence\", \"vote\", \"vote\", \"vote\", \"vote\", \"vote\", \"voted\", \"voted\", \"voted\", \"voted\", \"want\", \"want\", \"want\", \"want\", \"want\", \"want\", \"wanted\", \"war\", \"war\", \"war\", \"war\", \"war\", \"war\", \"war\", \"war\", \"war\", \"war\", \"water\", \"water\", \"water\", \"way\", \"way\", \"way\", \"way\", \"way\", \"weaken\", \"weapon\", \"weapon\", \"weapon\", \"weapon\", \"weapon\", \"weapon\", \"went\", \"went\", \"went\", \"whatever\", \"whatever\", \"whatever\", \"whole\", \"whole\", \"win\", \"win\", \"win\", \"wonder\", \"wont\", \"wont\", \"wont\", \"wont\", \"work\", \"work\", \"work\", \"world\", \"world\", \"world\", \"world\", \"world\", \"world\", \"world\", \"world\", \"world\", \"worst\", \"would\", \"would\", \"would\", \"would\", \"would\", \"would\", \"would\", \"wrongdoing\", \"wrote\", \"wrote\", \"wrote\", \"wrote\", \"year\", \"year\", \"year\", \"year\", \"year\", \"year\", \"yes\", \"yes\", \"youll\", \"youre\", \"youre\", \"youre\", \"youre\", \"youre\", \"youre\", \"\\u0627\\u0644\\u0633\\u0627\\u0639\\u0629\"]}, \"R\": 30, \"lambda.step\": 0.01, \"plot.opts\": {\"xlab\": \"PC1\", \"ylab\": \"PC2\"}, \"topic.order\": [4, 7, 3, 9, 2, 5, 10, 6, 1, 8]};\n",
              "\n",
              "function LDAvis_load_lib(url, callback){\n",
              "  var s = document.createElement('script');\n",
              "  s.src = url;\n",
              "  s.async = true;\n",
              "  s.onreadystatechange = s.onload = callback;\n",
              "  s.onerror = function(){console.warn(\"failed to load library \" + url);};\n",
              "  document.getElementsByTagName(\"head\")[0].appendChild(s);\n",
              "}\n",
              "\n",
              "if(typeof(LDAvis) !== \"undefined\"){\n",
              "   // already loaded: just create the visualization\n",
              "   !function(LDAvis){\n",
              "       new LDAvis(\"#\" + \"ldavis_el3611349489002851041462950262\", ldavis_el3611349489002851041462950262_data);\n",
              "   }(LDAvis);\n",
              "}else if(typeof define === \"function\" && define.amd){\n",
              "   // require.js is available: use it to load d3/LDAvis\n",
              "   require.config({paths: {d3: \"https://d3js.org/d3.v5\"}});\n",
              "   require([\"d3\"], function(d3){\n",
              "      window.d3 = d3;\n",
              "      LDAvis_load_lib(\"https://cdn.jsdelivr.net/gh/bmabey/pyLDAvis@3.4.0/pyLDAvis/js/ldavis.v3.0.0.js\", function(){\n",
              "        new LDAvis(\"#\" + \"ldavis_el3611349489002851041462950262\", ldavis_el3611349489002851041462950262_data);\n",
              "      });\n",
              "    });\n",
              "}else{\n",
              "    // require.js not available: dynamically load d3 & LDAvis\n",
              "    LDAvis_load_lib(\"https://d3js.org/d3.v5.js\", function(){\n",
              "         LDAvis_load_lib(\"https://cdn.jsdelivr.net/gh/bmabey/pyLDAvis@3.4.0/pyLDAvis/js/ldavis.v3.0.0.js\", function(){\n",
              "                 new LDAvis(\"#\" + \"ldavis_el3611349489002851041462950262\", ldavis_el3611349489002851041462950262_data);\n",
              "            })\n",
              "         });\n",
              "}\n",
              "</script>"
            ]
          },
          "metadata": {},
          "execution_count": 74
        }
      ]
    },
    {
      "cell_type": "code",
      "source": [
        "df.head()"
      ],
      "metadata": {
        "colab": {
          "base_uri": "https://localhost:8080/",
          "height": 382
        },
        "id": "c6LfYvfA04ed",
        "outputId": "3a3d13c7-6b81-4986-d0ea-2753cc2c89c3"
      },
      "execution_count": 75,
      "outputs": [
        {
          "output_type": "stream",
          "name": "stderr",
          "text": [
            "/usr/local/lib/python3.10/dist-packages/ipykernel/ipkernel.py:283: DeprecationWarning: `should_run_async` will not call `transform_cell` automatically in the future. Please pass the result to `transformed_cell` argument and any exception that happen during thetransform in `preprocessing_exc_tuple` in IPython 7.17 and above.\n",
            "  and should_run_async(code)\n"
          ]
        },
        {
          "output_type": "execute_result",
          "data": {
            "text/plain": [
              "                                                body  \\\n",
              "0  URL: https://v.redd.it/8zkhzbxomddc1\\nThumbnai...   \n",
              "1  [☭☭☭ COME SHITPOST WITH US ON DISCORD, COMRADE...   \n",
              "2                 Incredibly based + unironic banger   \n",
              "3  Like half of the video is just support for the...   \n",
              "4        I think that video get take down in youtube   \n",
              "\n",
              "                                          Clean body  \\\n",
              "0                 URL \\nThumbnail nsfw\\nImages\\n\\t\\n   \n",
              "1   COME SHITPOST WITH US ON DISCORD COMRADES \\n\\...   \n",
              "2                  Incredibly based  unironic banger   \n",
              "3  Like half of the video is just support for the...   \n",
              "4        I think that video get take down in youtube   \n",
              "\n",
              "                                      Processed body  \\\n",
              "0                          URL Thumbnail nsfw Images   \n",
              "1  COME SHITPOST WITH US ON DISCORD COMRADES This...   \n",
              "2                   Incredibly based unironic banger   \n",
              "3  Like half video support Cuban revolution China...   \n",
              "4                     I think video get take youtube   \n",
              "\n",
              "                                          Sentiments VADER Sentiment  \\\n",
              "0  {'neg': 0.0, 'neu': 1.0, 'pos': 0.0, 'compound...         neutral   \n",
              "1  {'neg': 0.045, 'neu': 0.779, 'pos': 0.177, 'co...        positive   \n",
              "2  {'neg': 0.0, 'neu': 1.0, 'pos': 0.0, 'compound...         neutral   \n",
              "3  {'neg': 0.198, 'neu': 0.355, 'pos': 0.447, 'co...        positive   \n",
              "4  {'neg': 0.0, 'neu': 1.0, 'pos': 0.0, 'compound...         neutral   \n",
              "\n",
              "   TextBlob Sentiment TextBlob Sentiment Category  \n",
              "0            0.000000                     neutral  \n",
              "1            0.212121                    positive  \n",
              "2            0.900000                    positive  \n",
              "3            0.116667                    positive  \n",
              "4            0.000000                     neutral  "
            ],
            "text/html": [
              "\n",
              "  <div id=\"df-1af12f69-23f7-42bc-8ae1-1d9d47a2e02f\" class=\"colab-df-container\">\n",
              "    <div>\n",
              "<style scoped>\n",
              "    .dataframe tbody tr th:only-of-type {\n",
              "        vertical-align: middle;\n",
              "    }\n",
              "\n",
              "    .dataframe tbody tr th {\n",
              "        vertical-align: top;\n",
              "    }\n",
              "\n",
              "    .dataframe thead th {\n",
              "        text-align: right;\n",
              "    }\n",
              "</style>\n",
              "<table border=\"1\" class=\"dataframe\">\n",
              "  <thead>\n",
              "    <tr style=\"text-align: right;\">\n",
              "      <th></th>\n",
              "      <th>body</th>\n",
              "      <th>Clean body</th>\n",
              "      <th>Processed body</th>\n",
              "      <th>Sentiments</th>\n",
              "      <th>VADER Sentiment</th>\n",
              "      <th>TextBlob Sentiment</th>\n",
              "      <th>TextBlob Sentiment Category</th>\n",
              "    </tr>\n",
              "  </thead>\n",
              "  <tbody>\n",
              "    <tr>\n",
              "      <th>0</th>\n",
              "      <td>URL: https://v.redd.it/8zkhzbxomddc1\\nThumbnai...</td>\n",
              "      <td>URL \\nThumbnail nsfw\\nImages\\n\\t\\n</td>\n",
              "      <td>URL Thumbnail nsfw Images</td>\n",
              "      <td>{'neg': 0.0, 'neu': 1.0, 'pos': 0.0, 'compound...</td>\n",
              "      <td>neutral</td>\n",
              "      <td>0.000000</td>\n",
              "      <td>neutral</td>\n",
              "    </tr>\n",
              "    <tr>\n",
              "      <th>1</th>\n",
              "      <td>[☭☭☭ COME SHITPOST WITH US ON DISCORD, COMRADE...</td>\n",
              "      <td>COME SHITPOST WITH US ON DISCORD COMRADES \\n\\...</td>\n",
              "      <td>COME SHITPOST WITH US ON DISCORD COMRADES This...</td>\n",
              "      <td>{'neg': 0.045, 'neu': 0.779, 'pos': 0.177, 'co...</td>\n",
              "      <td>positive</td>\n",
              "      <td>0.212121</td>\n",
              "      <td>positive</td>\n",
              "    </tr>\n",
              "    <tr>\n",
              "      <th>2</th>\n",
              "      <td>Incredibly based + unironic banger</td>\n",
              "      <td>Incredibly based  unironic banger</td>\n",
              "      <td>Incredibly based unironic banger</td>\n",
              "      <td>{'neg': 0.0, 'neu': 1.0, 'pos': 0.0, 'compound...</td>\n",
              "      <td>neutral</td>\n",
              "      <td>0.900000</td>\n",
              "      <td>positive</td>\n",
              "    </tr>\n",
              "    <tr>\n",
              "      <th>3</th>\n",
              "      <td>Like half of the video is just support for the...</td>\n",
              "      <td>Like half of the video is just support for the...</td>\n",
              "      <td>Like half video support Cuban revolution China...</td>\n",
              "      <td>{'neg': 0.198, 'neu': 0.355, 'pos': 0.447, 'co...</td>\n",
              "      <td>positive</td>\n",
              "      <td>0.116667</td>\n",
              "      <td>positive</td>\n",
              "    </tr>\n",
              "    <tr>\n",
              "      <th>4</th>\n",
              "      <td>I think that video get take down in youtube</td>\n",
              "      <td>I think that video get take down in youtube</td>\n",
              "      <td>I think video get take youtube</td>\n",
              "      <td>{'neg': 0.0, 'neu': 1.0, 'pos': 0.0, 'compound...</td>\n",
              "      <td>neutral</td>\n",
              "      <td>0.000000</td>\n",
              "      <td>neutral</td>\n",
              "    </tr>\n",
              "  </tbody>\n",
              "</table>\n",
              "</div>\n",
              "    <div class=\"colab-df-buttons\">\n",
              "\n",
              "  <div class=\"colab-df-container\">\n",
              "    <button class=\"colab-df-convert\" onclick=\"convertToInteractive('df-1af12f69-23f7-42bc-8ae1-1d9d47a2e02f')\"\n",
              "            title=\"Convert this dataframe to an interactive table.\"\n",
              "            style=\"display:none;\">\n",
              "\n",
              "  <svg xmlns=\"http://www.w3.org/2000/svg\" height=\"24px\" viewBox=\"0 -960 960 960\">\n",
              "    <path d=\"M120-120v-720h720v720H120Zm60-500h600v-160H180v160Zm220 220h160v-160H400v160Zm0 220h160v-160H400v160ZM180-400h160v-160H180v160Zm440 0h160v-160H620v160ZM180-180h160v-160H180v160Zm440 0h160v-160H620v160Z\"/>\n",
              "  </svg>\n",
              "    </button>\n",
              "\n",
              "  <style>\n",
              "    .colab-df-container {\n",
              "      display:flex;\n",
              "      gap: 12px;\n",
              "    }\n",
              "\n",
              "    .colab-df-convert {\n",
              "      background-color: #E8F0FE;\n",
              "      border: none;\n",
              "      border-radius: 50%;\n",
              "      cursor: pointer;\n",
              "      display: none;\n",
              "      fill: #1967D2;\n",
              "      height: 32px;\n",
              "      padding: 0 0 0 0;\n",
              "      width: 32px;\n",
              "    }\n",
              "\n",
              "    .colab-df-convert:hover {\n",
              "      background-color: #E2EBFA;\n",
              "      box-shadow: 0px 1px 2px rgba(60, 64, 67, 0.3), 0px 1px 3px 1px rgba(60, 64, 67, 0.15);\n",
              "      fill: #174EA6;\n",
              "    }\n",
              "\n",
              "    .colab-df-buttons div {\n",
              "      margin-bottom: 4px;\n",
              "    }\n",
              "\n",
              "    [theme=dark] .colab-df-convert {\n",
              "      background-color: #3B4455;\n",
              "      fill: #D2E3FC;\n",
              "    }\n",
              "\n",
              "    [theme=dark] .colab-df-convert:hover {\n",
              "      background-color: #434B5C;\n",
              "      box-shadow: 0px 1px 3px 1px rgba(0, 0, 0, 0.15);\n",
              "      filter: drop-shadow(0px 1px 2px rgba(0, 0, 0, 0.3));\n",
              "      fill: #FFFFFF;\n",
              "    }\n",
              "  </style>\n",
              "\n",
              "    <script>\n",
              "      const buttonEl =\n",
              "        document.querySelector('#df-1af12f69-23f7-42bc-8ae1-1d9d47a2e02f button.colab-df-convert');\n",
              "      buttonEl.style.display =\n",
              "        google.colab.kernel.accessAllowed ? 'block' : 'none';\n",
              "\n",
              "      async function convertToInteractive(key) {\n",
              "        const element = document.querySelector('#df-1af12f69-23f7-42bc-8ae1-1d9d47a2e02f');\n",
              "        const dataTable =\n",
              "          await google.colab.kernel.invokeFunction('convertToInteractive',\n",
              "                                                    [key], {});\n",
              "        if (!dataTable) return;\n",
              "\n",
              "        const docLinkHtml = 'Like what you see? Visit the ' +\n",
              "          '<a target=\"_blank\" href=https://colab.research.google.com/notebooks/data_table.ipynb>data table notebook</a>'\n",
              "          + ' to learn more about interactive tables.';\n",
              "        element.innerHTML = '';\n",
              "        dataTable['output_type'] = 'display_data';\n",
              "        await google.colab.output.renderOutput(dataTable, element);\n",
              "        const docLink = document.createElement('div');\n",
              "        docLink.innerHTML = docLinkHtml;\n",
              "        element.appendChild(docLink);\n",
              "      }\n",
              "    </script>\n",
              "  </div>\n",
              "\n",
              "\n",
              "<div id=\"df-8f7c899d-faad-454a-a649-5e6951dd24ee\">\n",
              "  <button class=\"colab-df-quickchart\" onclick=\"quickchart('df-8f7c899d-faad-454a-a649-5e6951dd24ee')\"\n",
              "            title=\"Suggest charts\"\n",
              "            style=\"display:none;\">\n",
              "\n",
              "<svg xmlns=\"http://www.w3.org/2000/svg\" height=\"24px\"viewBox=\"0 0 24 24\"\n",
              "     width=\"24px\">\n",
              "    <g>\n",
              "        <path d=\"M19 3H5c-1.1 0-2 .9-2 2v14c0 1.1.9 2 2 2h14c1.1 0 2-.9 2-2V5c0-1.1-.9-2-2-2zM9 17H7v-7h2v7zm4 0h-2V7h2v10zm4 0h-2v-4h2v4z\"/>\n",
              "    </g>\n",
              "</svg>\n",
              "  </button>\n",
              "\n",
              "<style>\n",
              "  .colab-df-quickchart {\n",
              "      --bg-color: #E8F0FE;\n",
              "      --fill-color: #1967D2;\n",
              "      --hover-bg-color: #E2EBFA;\n",
              "      --hover-fill-color: #174EA6;\n",
              "      --disabled-fill-color: #AAA;\n",
              "      --disabled-bg-color: #DDD;\n",
              "  }\n",
              "\n",
              "  [theme=dark] .colab-df-quickchart {\n",
              "      --bg-color: #3B4455;\n",
              "      --fill-color: #D2E3FC;\n",
              "      --hover-bg-color: #434B5C;\n",
              "      --hover-fill-color: #FFFFFF;\n",
              "      --disabled-bg-color: #3B4455;\n",
              "      --disabled-fill-color: #666;\n",
              "  }\n",
              "\n",
              "  .colab-df-quickchart {\n",
              "    background-color: var(--bg-color);\n",
              "    border: none;\n",
              "    border-radius: 50%;\n",
              "    cursor: pointer;\n",
              "    display: none;\n",
              "    fill: var(--fill-color);\n",
              "    height: 32px;\n",
              "    padding: 0;\n",
              "    width: 32px;\n",
              "  }\n",
              "\n",
              "  .colab-df-quickchart:hover {\n",
              "    background-color: var(--hover-bg-color);\n",
              "    box-shadow: 0 1px 2px rgba(60, 64, 67, 0.3), 0 1px 3px 1px rgba(60, 64, 67, 0.15);\n",
              "    fill: var(--button-hover-fill-color);\n",
              "  }\n",
              "\n",
              "  .colab-df-quickchart-complete:disabled,\n",
              "  .colab-df-quickchart-complete:disabled:hover {\n",
              "    background-color: var(--disabled-bg-color);\n",
              "    fill: var(--disabled-fill-color);\n",
              "    box-shadow: none;\n",
              "  }\n",
              "\n",
              "  .colab-df-spinner {\n",
              "    border: 2px solid var(--fill-color);\n",
              "    border-color: transparent;\n",
              "    border-bottom-color: var(--fill-color);\n",
              "    animation:\n",
              "      spin 1s steps(1) infinite;\n",
              "  }\n",
              "\n",
              "  @keyframes spin {\n",
              "    0% {\n",
              "      border-color: transparent;\n",
              "      border-bottom-color: var(--fill-color);\n",
              "      border-left-color: var(--fill-color);\n",
              "    }\n",
              "    20% {\n",
              "      border-color: transparent;\n",
              "      border-left-color: var(--fill-color);\n",
              "      border-top-color: var(--fill-color);\n",
              "    }\n",
              "    30% {\n",
              "      border-color: transparent;\n",
              "      border-left-color: var(--fill-color);\n",
              "      border-top-color: var(--fill-color);\n",
              "      border-right-color: var(--fill-color);\n",
              "    }\n",
              "    40% {\n",
              "      border-color: transparent;\n",
              "      border-right-color: var(--fill-color);\n",
              "      border-top-color: var(--fill-color);\n",
              "    }\n",
              "    60% {\n",
              "      border-color: transparent;\n",
              "      border-right-color: var(--fill-color);\n",
              "    }\n",
              "    80% {\n",
              "      border-color: transparent;\n",
              "      border-right-color: var(--fill-color);\n",
              "      border-bottom-color: var(--fill-color);\n",
              "    }\n",
              "    90% {\n",
              "      border-color: transparent;\n",
              "      border-bottom-color: var(--fill-color);\n",
              "    }\n",
              "  }\n",
              "</style>\n",
              "\n",
              "  <script>\n",
              "    async function quickchart(key) {\n",
              "      const quickchartButtonEl =\n",
              "        document.querySelector('#' + key + ' button');\n",
              "      quickchartButtonEl.disabled = true;  // To prevent multiple clicks.\n",
              "      quickchartButtonEl.classList.add('colab-df-spinner');\n",
              "      try {\n",
              "        const charts = await google.colab.kernel.invokeFunction(\n",
              "            'suggestCharts', [key], {});\n",
              "      } catch (error) {\n",
              "        console.error('Error during call to suggestCharts:', error);\n",
              "      }\n",
              "      quickchartButtonEl.classList.remove('colab-df-spinner');\n",
              "      quickchartButtonEl.classList.add('colab-df-quickchart-complete');\n",
              "    }\n",
              "    (() => {\n",
              "      let quickchartButtonEl =\n",
              "        document.querySelector('#df-8f7c899d-faad-454a-a649-5e6951dd24ee button');\n",
              "      quickchartButtonEl.style.display =\n",
              "        google.colab.kernel.accessAllowed ? 'block' : 'none';\n",
              "    })();\n",
              "  </script>\n",
              "</div>\n",
              "    </div>\n",
              "  </div>\n"
            ],
            "application/vnd.google.colaboratory.intrinsic+json": {
              "type": "dataframe",
              "variable_name": "df",
              "summary": "{\n  \"name\": \"df\",\n  \"rows\": 500,\n  \"fields\": [\n    {\n      \"column\": \"body\",\n      \"properties\": {\n        \"dtype\": \"string\",\n        \"num_unique_values\": 473,\n        \"samples\": [\n          \"Bruh I am inside the United States, and it is supposed to be a Democracy. I am fixing to make it a true democracy that represents all of its citizens, and values all human life equally. The Billionaire class should NOT be in charge of the strongest military in the world, it is utter nonsense, and the majority of the people who I know who have served would agree. I grew up next to a Military Base and am friends with many Veterans, I would know. We will be taking back the power from the Dumbocrats and a the Repulsicans, thank you very much.\\n\\n \\u201cIt always seems impossible until it is done.\\u201d -Nelson Mandela\",\n          \"This is a war against globalist war mongers who run the world\\u2019s money. POOR VS THE RICH, not Muslims vs Jews as it\\u2019s portrayed\",\n          \"Not interested in converting the imperial core, just stopping them.\"\n        ],\n        \"semantic_type\": \"\",\n        \"description\": \"\"\n      }\n    },\n    {\n      \"column\": \"Clean body\",\n      \"properties\": {\n        \"dtype\": \"string\",\n        \"num_unique_values\": 469,\n        \"samples\": [\n          \"Mine too you dont need to be Muslim to support the movement Israel must be stopped\",\n          \"Its just the  that is causing the west to be wanting so influential and controlling Military Industrial Complex and lots of other businesses that profit of war and oil and corrupt politicians are the problem in the west World war is good for them\",\n          \"Not interested in converting the imperial core just stopping them\"\n        ],\n        \"semantic_type\": \"\",\n        \"description\": \"\"\n      }\n    },\n    {\n      \"column\": \"Processed body\",\n      \"properties\": {\n        \"dtype\": \"string\",\n        \"num_unique_values\": 469,\n        \"samples\": [\n          \"Mine dont need Muslim support movement Israel must stopped\",\n          \"Its causing west wanting influential controlling Military Industrial Complex lot business profit war oil corrupt politician problem west World war good\",\n          \"Not interested converting imperial core stopping\"\n        ],\n        \"semantic_type\": \"\",\n        \"description\": \"\"\n      }\n    },\n    {\n      \"column\": \"Sentiments\",\n      \"properties\": {\n        \"dtype\": \"object\",\n        \"semantic_type\": \"\",\n        \"description\": \"\"\n      }\n    },\n    {\n      \"column\": \"VADER Sentiment\",\n      \"properties\": {\n        \"dtype\": \"category\",\n        \"num_unique_values\": 3,\n        \"samples\": [\n          \"neutral\",\n          \"positive\",\n          \"negative\"\n        ],\n        \"semantic_type\": \"\",\n        \"description\": \"\"\n      }\n    },\n    {\n      \"column\": \"TextBlob Sentiment\",\n      \"properties\": {\n        \"dtype\": \"number\",\n        \"std\": 0.25418106513243044,\n        \"min\": -0.8,\n        \"max\": 1.0,\n        \"num_unique_values\": 208,\n        \"samples\": [\n          -0.3333333333333333,\n          -0.075,\n          -0.098989898989899\n        ],\n        \"semantic_type\": \"\",\n        \"description\": \"\"\n      }\n    },\n    {\n      \"column\": \"TextBlob Sentiment Category\",\n      \"properties\": {\n        \"dtype\": \"category\",\n        \"num_unique_values\": 3,\n        \"samples\": [\n          \"neutral\",\n          \"positive\",\n          \"negative\"\n        ],\n        \"semantic_type\": \"\",\n        \"description\": \"\"\n      }\n    }\n  ]\n}"
            }
          },
          "metadata": {},
          "execution_count": 75
        }
      ]
    },
    {
      "cell_type": "code",
      "source": [
        "len(df)"
      ],
      "metadata": {
        "colab": {
          "base_uri": "https://localhost:8080/"
        },
        "id": "12a5qHc_1GZO",
        "outputId": "808c85d3-4985-42e7-8b5b-8159156aebc1"
      },
      "execution_count": 80,
      "outputs": [
        {
          "output_type": "stream",
          "name": "stderr",
          "text": [
            "/usr/local/lib/python3.10/dist-packages/ipykernel/ipkernel.py:283: DeprecationWarning: `should_run_async` will not call `transform_cell` automatically in the future. Please pass the result to `transformed_cell` argument and any exception that happen during thetransform in `preprocessing_exc_tuple` in IPython 7.17 and above.\n",
            "  and should_run_async(code)\n"
          ]
        },
        {
          "output_type": "execute_result",
          "data": {
            "text/plain": [
              "498"
            ]
          },
          "metadata": {},
          "execution_count": 80
        }
      ]
    },
    {
      "cell_type": "code",
      "source": [
        "df.drop(df.tail(2).index,\n",
        "        inplace = True)"
      ],
      "metadata": {
        "colab": {
          "base_uri": "https://localhost:8080/"
        },
        "id": "4ZKysgoh1Cjw",
        "outputId": "186a8d1a-c4dd-45c0-ad80-305e155ab4eb"
      },
      "execution_count": 81,
      "outputs": [
        {
          "output_type": "stream",
          "name": "stderr",
          "text": [
            "/usr/local/lib/python3.10/dist-packages/ipykernel/ipkernel.py:283: DeprecationWarning: `should_run_async` will not call `transform_cell` automatically in the future. Please pass the result to `transformed_cell` argument and any exception that happen during thetransform in `preprocessing_exc_tuple` in IPython 7.17 and above.\n",
            "  and should_run_async(code)\n"
          ]
        }
      ]
    },
    {
      "cell_type": "code",
      "source": [
        "# Assume you already have a DataFrame containing documents, their most relevant topics, and sentiment scores\n",
        "# We can get the most likely topic for each document through the LDA model\n",
        "document_topics = [ldamodel[corpus[i]] for i in range(len(df))]\n",
        "df['Dominant_Topic'] = [sorted(topics, key=lambda x: -x[1])[0][0] for topics in document_topics]\n",
        "\n",
        "df.head()"
      ],
      "metadata": {
        "colab": {
          "base_uri": "https://localhost:8080/",
          "height": 469
        },
        "id": "ciJtrZrK09BC",
        "outputId": "9a98d6d2-a578-4484-eaf4-7c7f5349bb61"
      },
      "execution_count": 82,
      "outputs": [
        {
          "output_type": "stream",
          "name": "stderr",
          "text": [
            "/usr/local/lib/python3.10/dist-packages/ipykernel/ipkernel.py:283: DeprecationWarning: `should_run_async` will not call `transform_cell` automatically in the future. Please pass the result to `transformed_cell` argument and any exception that happen during thetransform in `preprocessing_exc_tuple` in IPython 7.17 and above.\n",
            "  and should_run_async(code)\n"
          ]
        },
        {
          "output_type": "execute_result",
          "data": {
            "text/plain": [
              "                                                body  \\\n",
              "0  URL: https://v.redd.it/8zkhzbxomddc1\\nThumbnai...   \n",
              "1  [☭☭☭ COME SHITPOST WITH US ON DISCORD, COMRADE...   \n",
              "2                 Incredibly based + unironic banger   \n",
              "3  Like half of the video is just support for the...   \n",
              "4        I think that video get take down in youtube   \n",
              "\n",
              "                                          Clean body  \\\n",
              "0                 URL \\nThumbnail nsfw\\nImages\\n\\t\\n   \n",
              "1   COME SHITPOST WITH US ON DISCORD COMRADES \\n\\...   \n",
              "2                  Incredibly based  unironic banger   \n",
              "3  Like half of the video is just support for the...   \n",
              "4        I think that video get take down in youtube   \n",
              "\n",
              "                                      Processed body  \\\n",
              "0                          URL Thumbnail nsfw Images   \n",
              "1  COME SHITPOST WITH US ON DISCORD COMRADES This...   \n",
              "2                   Incredibly based unironic banger   \n",
              "3  Like half video support Cuban revolution China...   \n",
              "4                     I think video get take youtube   \n",
              "\n",
              "                                          Sentiments VADER Sentiment  \\\n",
              "0  {'neg': 0.0, 'neu': 1.0, 'pos': 0.0, 'compound...         neutral   \n",
              "1  {'neg': 0.045, 'neu': 0.779, 'pos': 0.177, 'co...        positive   \n",
              "2  {'neg': 0.0, 'neu': 1.0, 'pos': 0.0, 'compound...         neutral   \n",
              "3  {'neg': 0.198, 'neu': 0.355, 'pos': 0.447, 'co...        positive   \n",
              "4  {'neg': 0.0, 'neu': 1.0, 'pos': 0.0, 'compound...         neutral   \n",
              "\n",
              "   TextBlob Sentiment TextBlob Sentiment Category  Dominant_Topic  \n",
              "0            0.000000                     neutral               7  \n",
              "1            0.212121                    positive               3  \n",
              "2            0.900000                    positive               8  \n",
              "3            0.116667                    positive               2  \n",
              "4            0.000000                     neutral               3  "
            ],
            "text/html": [
              "\n",
              "  <div id=\"df-de2a7767-ac5b-495d-9fb6-48a11bfdb962\" class=\"colab-df-container\">\n",
              "    <div>\n",
              "<style scoped>\n",
              "    .dataframe tbody tr th:only-of-type {\n",
              "        vertical-align: middle;\n",
              "    }\n",
              "\n",
              "    .dataframe tbody tr th {\n",
              "        vertical-align: top;\n",
              "    }\n",
              "\n",
              "    .dataframe thead th {\n",
              "        text-align: right;\n",
              "    }\n",
              "</style>\n",
              "<table border=\"1\" class=\"dataframe\">\n",
              "  <thead>\n",
              "    <tr style=\"text-align: right;\">\n",
              "      <th></th>\n",
              "      <th>body</th>\n",
              "      <th>Clean body</th>\n",
              "      <th>Processed body</th>\n",
              "      <th>Sentiments</th>\n",
              "      <th>VADER Sentiment</th>\n",
              "      <th>TextBlob Sentiment</th>\n",
              "      <th>TextBlob Sentiment Category</th>\n",
              "      <th>Dominant_Topic</th>\n",
              "    </tr>\n",
              "  </thead>\n",
              "  <tbody>\n",
              "    <tr>\n",
              "      <th>0</th>\n",
              "      <td>URL: https://v.redd.it/8zkhzbxomddc1\\nThumbnai...</td>\n",
              "      <td>URL \\nThumbnail nsfw\\nImages\\n\\t\\n</td>\n",
              "      <td>URL Thumbnail nsfw Images</td>\n",
              "      <td>{'neg': 0.0, 'neu': 1.0, 'pos': 0.0, 'compound...</td>\n",
              "      <td>neutral</td>\n",
              "      <td>0.000000</td>\n",
              "      <td>neutral</td>\n",
              "      <td>7</td>\n",
              "    </tr>\n",
              "    <tr>\n",
              "      <th>1</th>\n",
              "      <td>[☭☭☭ COME SHITPOST WITH US ON DISCORD, COMRADE...</td>\n",
              "      <td>COME SHITPOST WITH US ON DISCORD COMRADES \\n\\...</td>\n",
              "      <td>COME SHITPOST WITH US ON DISCORD COMRADES This...</td>\n",
              "      <td>{'neg': 0.045, 'neu': 0.779, 'pos': 0.177, 'co...</td>\n",
              "      <td>positive</td>\n",
              "      <td>0.212121</td>\n",
              "      <td>positive</td>\n",
              "      <td>3</td>\n",
              "    </tr>\n",
              "    <tr>\n",
              "      <th>2</th>\n",
              "      <td>Incredibly based + unironic banger</td>\n",
              "      <td>Incredibly based  unironic banger</td>\n",
              "      <td>Incredibly based unironic banger</td>\n",
              "      <td>{'neg': 0.0, 'neu': 1.0, 'pos': 0.0, 'compound...</td>\n",
              "      <td>neutral</td>\n",
              "      <td>0.900000</td>\n",
              "      <td>positive</td>\n",
              "      <td>8</td>\n",
              "    </tr>\n",
              "    <tr>\n",
              "      <th>3</th>\n",
              "      <td>Like half of the video is just support for the...</td>\n",
              "      <td>Like half of the video is just support for the...</td>\n",
              "      <td>Like half video support Cuban revolution China...</td>\n",
              "      <td>{'neg': 0.198, 'neu': 0.355, 'pos': 0.447, 'co...</td>\n",
              "      <td>positive</td>\n",
              "      <td>0.116667</td>\n",
              "      <td>positive</td>\n",
              "      <td>2</td>\n",
              "    </tr>\n",
              "    <tr>\n",
              "      <th>4</th>\n",
              "      <td>I think that video get take down in youtube</td>\n",
              "      <td>I think that video get take down in youtube</td>\n",
              "      <td>I think video get take youtube</td>\n",
              "      <td>{'neg': 0.0, 'neu': 1.0, 'pos': 0.0, 'compound...</td>\n",
              "      <td>neutral</td>\n",
              "      <td>0.000000</td>\n",
              "      <td>neutral</td>\n",
              "      <td>3</td>\n",
              "    </tr>\n",
              "  </tbody>\n",
              "</table>\n",
              "</div>\n",
              "    <div class=\"colab-df-buttons\">\n",
              "\n",
              "  <div class=\"colab-df-container\">\n",
              "    <button class=\"colab-df-convert\" onclick=\"convertToInteractive('df-de2a7767-ac5b-495d-9fb6-48a11bfdb962')\"\n",
              "            title=\"Convert this dataframe to an interactive table.\"\n",
              "            style=\"display:none;\">\n",
              "\n",
              "  <svg xmlns=\"http://www.w3.org/2000/svg\" height=\"24px\" viewBox=\"0 -960 960 960\">\n",
              "    <path d=\"M120-120v-720h720v720H120Zm60-500h600v-160H180v160Zm220 220h160v-160H400v160Zm0 220h160v-160H400v160ZM180-400h160v-160H180v160Zm440 0h160v-160H620v160ZM180-180h160v-160H180v160Zm440 0h160v-160H620v160Z\"/>\n",
              "  </svg>\n",
              "    </button>\n",
              "\n",
              "  <style>\n",
              "    .colab-df-container {\n",
              "      display:flex;\n",
              "      gap: 12px;\n",
              "    }\n",
              "\n",
              "    .colab-df-convert {\n",
              "      background-color: #E8F0FE;\n",
              "      border: none;\n",
              "      border-radius: 50%;\n",
              "      cursor: pointer;\n",
              "      display: none;\n",
              "      fill: #1967D2;\n",
              "      height: 32px;\n",
              "      padding: 0 0 0 0;\n",
              "      width: 32px;\n",
              "    }\n",
              "\n",
              "    .colab-df-convert:hover {\n",
              "      background-color: #E2EBFA;\n",
              "      box-shadow: 0px 1px 2px rgba(60, 64, 67, 0.3), 0px 1px 3px 1px rgba(60, 64, 67, 0.15);\n",
              "      fill: #174EA6;\n",
              "    }\n",
              "\n",
              "    .colab-df-buttons div {\n",
              "      margin-bottom: 4px;\n",
              "    }\n",
              "\n",
              "    [theme=dark] .colab-df-convert {\n",
              "      background-color: #3B4455;\n",
              "      fill: #D2E3FC;\n",
              "    }\n",
              "\n",
              "    [theme=dark] .colab-df-convert:hover {\n",
              "      background-color: #434B5C;\n",
              "      box-shadow: 0px 1px 3px 1px rgba(0, 0, 0, 0.15);\n",
              "      filter: drop-shadow(0px 1px 2px rgba(0, 0, 0, 0.3));\n",
              "      fill: #FFFFFF;\n",
              "    }\n",
              "  </style>\n",
              "\n",
              "    <script>\n",
              "      const buttonEl =\n",
              "        document.querySelector('#df-de2a7767-ac5b-495d-9fb6-48a11bfdb962 button.colab-df-convert');\n",
              "      buttonEl.style.display =\n",
              "        google.colab.kernel.accessAllowed ? 'block' : 'none';\n",
              "\n",
              "      async function convertToInteractive(key) {\n",
              "        const element = document.querySelector('#df-de2a7767-ac5b-495d-9fb6-48a11bfdb962');\n",
              "        const dataTable =\n",
              "          await google.colab.kernel.invokeFunction('convertToInteractive',\n",
              "                                                    [key], {});\n",
              "        if (!dataTable) return;\n",
              "\n",
              "        const docLinkHtml = 'Like what you see? Visit the ' +\n",
              "          '<a target=\"_blank\" href=https://colab.research.google.com/notebooks/data_table.ipynb>data table notebook</a>'\n",
              "          + ' to learn more about interactive tables.';\n",
              "        element.innerHTML = '';\n",
              "        dataTable['output_type'] = 'display_data';\n",
              "        await google.colab.output.renderOutput(dataTable, element);\n",
              "        const docLink = document.createElement('div');\n",
              "        docLink.innerHTML = docLinkHtml;\n",
              "        element.appendChild(docLink);\n",
              "      }\n",
              "    </script>\n",
              "  </div>\n",
              "\n",
              "\n",
              "<div id=\"df-eb29c32a-d3e1-4265-8997-b243a056e558\">\n",
              "  <button class=\"colab-df-quickchart\" onclick=\"quickchart('df-eb29c32a-d3e1-4265-8997-b243a056e558')\"\n",
              "            title=\"Suggest charts\"\n",
              "            style=\"display:none;\">\n",
              "\n",
              "<svg xmlns=\"http://www.w3.org/2000/svg\" height=\"24px\"viewBox=\"0 0 24 24\"\n",
              "     width=\"24px\">\n",
              "    <g>\n",
              "        <path d=\"M19 3H5c-1.1 0-2 .9-2 2v14c0 1.1.9 2 2 2h14c1.1 0 2-.9 2-2V5c0-1.1-.9-2-2-2zM9 17H7v-7h2v7zm4 0h-2V7h2v10zm4 0h-2v-4h2v4z\"/>\n",
              "    </g>\n",
              "</svg>\n",
              "  </button>\n",
              "\n",
              "<style>\n",
              "  .colab-df-quickchart {\n",
              "      --bg-color: #E8F0FE;\n",
              "      --fill-color: #1967D2;\n",
              "      --hover-bg-color: #E2EBFA;\n",
              "      --hover-fill-color: #174EA6;\n",
              "      --disabled-fill-color: #AAA;\n",
              "      --disabled-bg-color: #DDD;\n",
              "  }\n",
              "\n",
              "  [theme=dark] .colab-df-quickchart {\n",
              "      --bg-color: #3B4455;\n",
              "      --fill-color: #D2E3FC;\n",
              "      --hover-bg-color: #434B5C;\n",
              "      --hover-fill-color: #FFFFFF;\n",
              "      --disabled-bg-color: #3B4455;\n",
              "      --disabled-fill-color: #666;\n",
              "  }\n",
              "\n",
              "  .colab-df-quickchart {\n",
              "    background-color: var(--bg-color);\n",
              "    border: none;\n",
              "    border-radius: 50%;\n",
              "    cursor: pointer;\n",
              "    display: none;\n",
              "    fill: var(--fill-color);\n",
              "    height: 32px;\n",
              "    padding: 0;\n",
              "    width: 32px;\n",
              "  }\n",
              "\n",
              "  .colab-df-quickchart:hover {\n",
              "    background-color: var(--hover-bg-color);\n",
              "    box-shadow: 0 1px 2px rgba(60, 64, 67, 0.3), 0 1px 3px 1px rgba(60, 64, 67, 0.15);\n",
              "    fill: var(--button-hover-fill-color);\n",
              "  }\n",
              "\n",
              "  .colab-df-quickchart-complete:disabled,\n",
              "  .colab-df-quickchart-complete:disabled:hover {\n",
              "    background-color: var(--disabled-bg-color);\n",
              "    fill: var(--disabled-fill-color);\n",
              "    box-shadow: none;\n",
              "  }\n",
              "\n",
              "  .colab-df-spinner {\n",
              "    border: 2px solid var(--fill-color);\n",
              "    border-color: transparent;\n",
              "    border-bottom-color: var(--fill-color);\n",
              "    animation:\n",
              "      spin 1s steps(1) infinite;\n",
              "  }\n",
              "\n",
              "  @keyframes spin {\n",
              "    0% {\n",
              "      border-color: transparent;\n",
              "      border-bottom-color: var(--fill-color);\n",
              "      border-left-color: var(--fill-color);\n",
              "    }\n",
              "    20% {\n",
              "      border-color: transparent;\n",
              "      border-left-color: var(--fill-color);\n",
              "      border-top-color: var(--fill-color);\n",
              "    }\n",
              "    30% {\n",
              "      border-color: transparent;\n",
              "      border-left-color: var(--fill-color);\n",
              "      border-top-color: var(--fill-color);\n",
              "      border-right-color: var(--fill-color);\n",
              "    }\n",
              "    40% {\n",
              "      border-color: transparent;\n",
              "      border-right-color: var(--fill-color);\n",
              "      border-top-color: var(--fill-color);\n",
              "    }\n",
              "    60% {\n",
              "      border-color: transparent;\n",
              "      border-right-color: var(--fill-color);\n",
              "    }\n",
              "    80% {\n",
              "      border-color: transparent;\n",
              "      border-right-color: var(--fill-color);\n",
              "      border-bottom-color: var(--fill-color);\n",
              "    }\n",
              "    90% {\n",
              "      border-color: transparent;\n",
              "      border-bottom-color: var(--fill-color);\n",
              "    }\n",
              "  }\n",
              "</style>\n",
              "\n",
              "  <script>\n",
              "    async function quickchart(key) {\n",
              "      const quickchartButtonEl =\n",
              "        document.querySelector('#' + key + ' button');\n",
              "      quickchartButtonEl.disabled = true;  // To prevent multiple clicks.\n",
              "      quickchartButtonEl.classList.add('colab-df-spinner');\n",
              "      try {\n",
              "        const charts = await google.colab.kernel.invokeFunction(\n",
              "            'suggestCharts', [key], {});\n",
              "      } catch (error) {\n",
              "        console.error('Error during call to suggestCharts:', error);\n",
              "      }\n",
              "      quickchartButtonEl.classList.remove('colab-df-spinner');\n",
              "      quickchartButtonEl.classList.add('colab-df-quickchart-complete');\n",
              "    }\n",
              "    (() => {\n",
              "      let quickchartButtonEl =\n",
              "        document.querySelector('#df-eb29c32a-d3e1-4265-8997-b243a056e558 button');\n",
              "      quickchartButtonEl.style.display =\n",
              "        google.colab.kernel.accessAllowed ? 'block' : 'none';\n",
              "    })();\n",
              "  </script>\n",
              "</div>\n",
              "    </div>\n",
              "  </div>\n"
            ],
            "application/vnd.google.colaboratory.intrinsic+json": {
              "type": "dataframe",
              "variable_name": "df",
              "summary": "{\n  \"name\": \"df\",\n  \"rows\": 496,\n  \"fields\": [\n    {\n      \"column\": \"body\",\n      \"properties\": {\n        \"dtype\": \"string\",\n        \"num_unique_values\": 469,\n        \"samples\": [\n          \"Bruh I am inside the United States, and it is supposed to be a Democracy. I am fixing to make it a true democracy that represents all of its citizens, and values all human life equally. The Billionaire class should NOT be in charge of the strongest military in the world, it is utter nonsense, and the majority of the people who I know who have served would agree. I grew up next to a Military Base and am friends with many Veterans, I would know. We will be taking back the power from the Dumbocrats and a the Repulsicans, thank you very much.\\n\\n \\u201cIt always seems impossible until it is done.\\u201d -Nelson Mandela\",\n          \"This is a war against globalist war mongers who run the world\\u2019s money. POOR VS THE RICH, not Muslims vs Jews as it\\u2019s portrayed\",\n          \"Not interested in converting the imperial core, just stopping them.\"\n        ],\n        \"semantic_type\": \"\",\n        \"description\": \"\"\n      }\n    },\n    {\n      \"column\": \"Clean body\",\n      \"properties\": {\n        \"dtype\": \"string\",\n        \"num_unique_values\": 465,\n        \"samples\": [\n          \"Mine too you dont need to be Muslim to support the movement Israel must be stopped\",\n          \"Goosebumps Im in awe \\n\\nNever seen Palestine support like this before and Ive been around paying attention for 30 years\",\n          \"Not interested in converting the imperial core just stopping them\"\n        ],\n        \"semantic_type\": \"\",\n        \"description\": \"\"\n      }\n    },\n    {\n      \"column\": \"Processed body\",\n      \"properties\": {\n        \"dtype\": \"string\",\n        \"num_unique_values\": 465,\n        \"samples\": [\n          \"Mine dont need Muslim support movement Israel must stopped\",\n          \"Goosebumps Im awe Never seen Palestine support like Ive around paying attention 30 year\",\n          \"Not interested converting imperial core stopping\"\n        ],\n        \"semantic_type\": \"\",\n        \"description\": \"\"\n      }\n    },\n    {\n      \"column\": \"Sentiments\",\n      \"properties\": {\n        \"dtype\": \"object\",\n        \"semantic_type\": \"\",\n        \"description\": \"\"\n      }\n    },\n    {\n      \"column\": \"VADER Sentiment\",\n      \"properties\": {\n        \"dtype\": \"category\",\n        \"num_unique_values\": 3,\n        \"samples\": [\n          \"neutral\",\n          \"positive\",\n          \"negative\"\n        ],\n        \"semantic_type\": \"\",\n        \"description\": \"\"\n      }\n    },\n    {\n      \"column\": \"TextBlob Sentiment\",\n      \"properties\": {\n        \"dtype\": \"number\",\n        \"std\": 0.25269152334941725,\n        \"min\": -0.8,\n        \"max\": 1.0,\n        \"num_unique_values\": 207,\n        \"samples\": [\n          -0.3333333333333333,\n          -0.075,\n          -0.098989898989899\n        ],\n        \"semantic_type\": \"\",\n        \"description\": \"\"\n      }\n    },\n    {\n      \"column\": \"TextBlob Sentiment Category\",\n      \"properties\": {\n        \"dtype\": \"category\",\n        \"num_unique_values\": 3,\n        \"samples\": [\n          \"neutral\",\n          \"positive\",\n          \"negative\"\n        ],\n        \"semantic_type\": \"\",\n        \"description\": \"\"\n      }\n    },\n    {\n      \"column\": \"Dominant_Topic\",\n      \"properties\": {\n        \"dtype\": \"number\",\n        \"std\": 2,\n        \"min\": 0,\n        \"max\": 9,\n        \"num_unique_values\": 10,\n        \"samples\": [\n          1,\n          3,\n          5\n        ],\n        \"semantic_type\": \"\",\n        \"description\": \"\"\n      }\n    }\n  ]\n}"
            }
          },
          "metadata": {},
          "execution_count": 82
        }
      ]
    },
    {
      "cell_type": "code",
      "source": [
        "# Next, we calculate the average sentiment score for each topic\n",
        "# Suppose we already have a column 'Sentiment_Score' in our DataFrame, representing the sentiment score\n",
        "topic_sentiment = df.groupby('Dominant_Topic')['TextBlob Sentiment'].mean().sort_values(ascending=False)\n",
        "\n",
        "# Visualize the average sentiment score for each topic\n",
        "topic_sentiment.plot(kind='bar', color='skyblue')\n",
        "plt.title('Average Sentiment Score per Topic')\n",
        "plt.xlabel('Topic')\n",
        "plt.ylabel('Average Sentiment Score')\n",
        "plt.show()"
      ],
      "metadata": {
        "colab": {
          "base_uri": "https://localhost:8080/",
          "height": 522
        },
        "id": "1YT38WU31A5I",
        "outputId": "f1866cdf-7cc5-4dbb-f2a4-078d2f6c00b5"
      },
      "execution_count": 83,
      "outputs": [
        {
          "output_type": "stream",
          "name": "stderr",
          "text": [
            "/usr/local/lib/python3.10/dist-packages/ipykernel/ipkernel.py:283: DeprecationWarning: `should_run_async` will not call `transform_cell` automatically in the future. Please pass the result to `transformed_cell` argument and any exception that happen during thetransform in `preprocessing_exc_tuple` in IPython 7.17 and above.\n",
            "  and should_run_async(code)\n"
          ]
        },
        {
          "output_type": "display_data",
          "data": {
            "text/plain": [
              "<Figure size 640x480 with 1 Axes>"
            ],
            "image/png": "[encoded data removed]"
          },
          "metadata": {}
        }
      ]
    },
    {
      "cell_type": "markdown",
      "source": [
        "N-gram"
      ],
      "metadata": {
        "id": "y054ys_J1R1f"
      }
    },
    {
      "cell_type": "code",
      "source": [
        "def get_top_ngram(corpus, n):\n",
        "    lis=[]\n",
        "    vec = CountVectorizer(ngram_range = (n,n)).fit(corpus)\n",
        "    bag_of_words = vec.transform(corpus)\n",
        "    sum_words = bag_of_words.sum(axis = 0)\n",
        "    for word,idx in vec.vocabulary_.items():\n",
        "        lis.append((word, sum_words[0,idx]))\n",
        "    lis.sort(key = lambda x: x[1], reverse = True)\n",
        "    return lis"
      ],
      "metadata": {
        "colab": {
          "base_uri": "https://localhost:8080/"
        },
        "id": "3m-Fc0Jx1Pdo",
        "outputId": "5b56adc1-e317-4f73-b499-bbf7b60365eb"
      },
      "execution_count": 84,
      "outputs": [
        {
          "output_type": "stream",
          "name": "stderr",
          "text": [
            "/usr/local/lib/python3.10/dist-packages/ipykernel/ipkernel.py:283: DeprecationWarning: `should_run_async` will not call `transform_cell` automatically in the future. Please pass the result to `transformed_cell` argument and any exception that happen during thetransform in `preprocessing_exc_tuple` in IPython 7.17 and above.\n",
            "  and should_run_async(code)\n"
          ]
        }
      ]
    },
    {
      "cell_type": "code",
      "source": [
        "top_n_bigrams=get_top_ngram(df['Processed body'],1)[:20]\n",
        "x,y=map(list,zip(*top_n_bigrams))\n",
        "plt.title('Top 20 frequently occured uni-gram')\n",
        "sns.barplot(x=y,y=x)"
      ],
      "metadata": {
        "colab": {
          "base_uri": "https://localhost:8080/",
          "height": 524
        },
        "id": "H5wT4dsB1Uy1",
        "outputId": "281ae027-eb5e-4316-db7c-3246357dd9ac"
      },
      "execution_count": 85,
      "outputs": [
        {
          "output_type": "stream",
          "name": "stderr",
          "text": [
            "/usr/local/lib/python3.10/dist-packages/ipykernel/ipkernel.py:283: DeprecationWarning: `should_run_async` will not call `transform_cell` automatically in the future. Please pass the result to `transformed_cell` argument and any exception that happen during thetransform in `preprocessing_exc_tuple` in IPython 7.17 and above.\n",
            "  and should_run_async(code)\n"
          ]
        },
        {
          "output_type": "execute_result",
          "data": {
            "text/plain": [
              "<Axes: title={'center': 'Top 20 frequently occured uni-gram'}>"
            ]
          },
          "metadata": {},
          "execution_count": 85
        },
        {
          "output_type": "display_data",
          "data": {
            "text/plain": [
              "<Figure size 640x480 with 1 Axes>"
            ],
            "image/png": "[encoded data removed]"
          },
          "metadata": {}
        }
      ]
    },
    {
      "cell_type": "code",
      "source": [
        "top_n_bigrams=get_top_ngram(df['Processed body'],2)[:20]\n",
        "x,y=map(list,zip(*top_n_bigrams))\n",
        "plt.title('Top 20 frequently occured bi-grams')\n",
        "sns.barplot(x=y,y=x)"
      ],
      "metadata": {
        "colab": {
          "base_uri": "https://localhost:8080/",
          "height": 524
        },
        "id": "ylt7vLAx1XNZ",
        "outputId": "fbbca91f-dde9-4482-c183-66a7ba7e7794"
      },
      "execution_count": 86,
      "outputs": [
        {
          "output_type": "stream",
          "name": "stderr",
          "text": [
            "/usr/local/lib/python3.10/dist-packages/ipykernel/ipkernel.py:283: DeprecationWarning: `should_run_async` will not call `transform_cell` automatically in the future. Please pass the result to `transformed_cell` argument and any exception that happen during thetransform in `preprocessing_exc_tuple` in IPython 7.17 and above.\n",
            "  and should_run_async(code)\n"
          ]
        },
        {
          "output_type": "execute_result",
          "data": {
            "text/plain": [
              "<Axes: title={'center': 'Top 20 frequently occured bi-grams'}>"
            ]
          },
          "metadata": {},
          "execution_count": 86
        },
        {
          "output_type": "display_data",
          "data": {
            "text/plain": [
              "<Figure size 640x480 with 1 Axes>"
            ],
            "image/png": "[encoded data removed]"
          },
          "metadata": {}
        }
      ]
    },
    {
      "cell_type": "code",
      "source": [
        "top_n_bigrams=get_top_ngram(df['Processed body'],3)[:20]\n",
        "x,y=map(list,zip(*top_n_bigrams))\n",
        "plt.title('Top 20 frequently occured tri-grams')\n",
        "sns.barplot(x=y,y=x)"
      ],
      "metadata": {
        "colab": {
          "base_uri": "https://localhost:8080/",
          "height": 524
        },
        "id": "8pxxYnoB1aCU",
        "outputId": "8c5d9ca7-989c-4ebc-e9b8-064e139c4a32"
      },
      "execution_count": 87,
      "outputs": [
        {
          "output_type": "stream",
          "name": "stderr",
          "text": [
            "/usr/local/lib/python3.10/dist-packages/ipykernel/ipkernel.py:283: DeprecationWarning: `should_run_async` will not call `transform_cell` automatically in the future. Please pass the result to `transformed_cell` argument and any exception that happen during thetransform in `preprocessing_exc_tuple` in IPython 7.17 and above.\n",
            "  and should_run_async(code)\n"
          ]
        },
        {
          "output_type": "execute_result",
          "data": {
            "text/plain": [
              "<Axes: title={'center': 'Top 20 frequently occured tri-grams'}>"
            ]
          },
          "metadata": {},
          "execution_count": 87
        },
        {
          "output_type": "display_data",
          "data": {
            "text/plain": [
              "<Figure size 640x480 with 1 Axes>"
            ],
            "image/png": "[encoded data removed]"
          },
          "metadata": {}
        }
      ]
    },
    {
      "cell_type": "markdown",
      "source": [
        "Visualisation"
      ],
      "metadata": {
        "id": "3AQIt03d1iTv"
      }
    },
    {
      "cell_type": "code",
      "source": [
        "# WordCloud\n",
        "text = ' '.join(review for review in df['Processed body'])\n",
        "wordcloud = WordCloud(background_color='white').generate(text)\n",
        "\n",
        "plt.imshow(wordcloud, interpolation='bilinear')\n",
        "plt.axis('off')\n",
        "plt.show()"
      ],
      "metadata": {
        "colab": {
          "base_uri": "https://localhost:8080/",
          "height": 340
        },
        "id": "7knDlqd91deB",
        "outputId": "3ff94fb6-6dfc-4bcb-fa68-30139160bed4"
      },
      "execution_count": 88,
      "outputs": [
        {
          "output_type": "stream",
          "name": "stderr",
          "text": [
            "/usr/local/lib/python3.10/dist-packages/ipykernel/ipkernel.py:283: DeprecationWarning: `should_run_async` will not call `transform_cell` automatically in the future. Please pass the result to `transformed_cell` argument and any exception that happen during thetransform in `preprocessing_exc_tuple` in IPython 7.17 and above.\n",
            "  and should_run_async(code)\n"
          ]
        },
        {
          "output_type": "display_data",
          "data": {
            "text/plain": [
              "<Figure size 640x480 with 1 Axes>"
            ],
            "image/png": "[encoded data removed]"
          },
          "metadata": {}
        }
      ]
    },
    {
      "cell_type": "code",
      "source": [],
      "metadata": {
        "id": "rY2j2IuI1l1v"
      },
      "execution_count": null,
      "outputs": []
    }
  ]
}